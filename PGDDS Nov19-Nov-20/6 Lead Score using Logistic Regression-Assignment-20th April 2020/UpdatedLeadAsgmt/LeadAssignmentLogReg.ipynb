{
 "cells": [
  {
   "cell_type": "code",
   "execution_count": 1,
   "metadata": {},
   "outputs": [],
   "source": [
    "import pandas as pd\n",
    "import numpy as np\n",
    "import matplotlib.pyplot as plt\n",
    "import seaborn as sns"
   ]
  },
  {
   "cell_type": "code",
   "execution_count": 2,
   "metadata": {},
   "outputs": [],
   "source": [
    "import warnings\n",
    "warnings.filterwarnings(\"ignore\")"
   ]
  },
  {
   "cell_type": "code",
   "execution_count": 3,
   "metadata": {},
   "outputs": [],
   "source": [
    "df = pd.read_csv(\"Leads.csv\")"
   ]
  },
  {
   "cell_type": "code",
   "execution_count": 4,
   "metadata": {},
   "outputs": [
    {
     "data": {
      "text/html": [
       "<div>\n",
       "<style scoped>\n",
       "    .dataframe tbody tr th:only-of-type {\n",
       "        vertical-align: middle;\n",
       "    }\n",
       "\n",
       "    .dataframe tbody tr th {\n",
       "        vertical-align: top;\n",
       "    }\n",
       "\n",
       "    .dataframe thead th {\n",
       "        text-align: right;\n",
       "    }\n",
       "</style>\n",
       "<table border=\"1\" class=\"dataframe\">\n",
       "  <thead>\n",
       "    <tr style=\"text-align: right;\">\n",
       "      <th></th>\n",
       "      <th>Prospect ID</th>\n",
       "      <th>Lead Number</th>\n",
       "      <th>Lead Origin</th>\n",
       "      <th>Lead Source</th>\n",
       "      <th>Do Not Email</th>\n",
       "      <th>Do Not Call</th>\n",
       "      <th>Converted</th>\n",
       "      <th>TotalVisits</th>\n",
       "      <th>Total Time Spent on Website</th>\n",
       "      <th>Page Views Per Visit</th>\n",
       "      <th>...</th>\n",
       "      <th>Get updates on DM Content</th>\n",
       "      <th>Lead Profile</th>\n",
       "      <th>City</th>\n",
       "      <th>Asymmetrique Activity Index</th>\n",
       "      <th>Asymmetrique Profile Index</th>\n",
       "      <th>Asymmetrique Activity Score</th>\n",
       "      <th>Asymmetrique Profile Score</th>\n",
       "      <th>I agree to pay the amount through cheque</th>\n",
       "      <th>A free copy of Mastering The Interview</th>\n",
       "      <th>Last Notable Activity</th>\n",
       "    </tr>\n",
       "  </thead>\n",
       "  <tbody>\n",
       "    <tr>\n",
       "      <td>0</td>\n",
       "      <td>7927b2df-8bba-4d29-b9a2-b6e0beafe620</td>\n",
       "      <td>660737</td>\n",
       "      <td>API</td>\n",
       "      <td>Olark Chat</td>\n",
       "      <td>No</td>\n",
       "      <td>No</td>\n",
       "      <td>0</td>\n",
       "      <td>0.0</td>\n",
       "      <td>0</td>\n",
       "      <td>0.0</td>\n",
       "      <td>...</td>\n",
       "      <td>No</td>\n",
       "      <td>Select</td>\n",
       "      <td>Select</td>\n",
       "      <td>02.Medium</td>\n",
       "      <td>02.Medium</td>\n",
       "      <td>15.0</td>\n",
       "      <td>15.0</td>\n",
       "      <td>No</td>\n",
       "      <td>No</td>\n",
       "      <td>Modified</td>\n",
       "    </tr>\n",
       "    <tr>\n",
       "      <td>1</td>\n",
       "      <td>2a272436-5132-4136-86fa-dcc88c88f482</td>\n",
       "      <td>660728</td>\n",
       "      <td>API</td>\n",
       "      <td>Organic Search</td>\n",
       "      <td>No</td>\n",
       "      <td>No</td>\n",
       "      <td>0</td>\n",
       "      <td>5.0</td>\n",
       "      <td>674</td>\n",
       "      <td>2.5</td>\n",
       "      <td>...</td>\n",
       "      <td>No</td>\n",
       "      <td>Select</td>\n",
       "      <td>Select</td>\n",
       "      <td>02.Medium</td>\n",
       "      <td>02.Medium</td>\n",
       "      <td>15.0</td>\n",
       "      <td>15.0</td>\n",
       "      <td>No</td>\n",
       "      <td>No</td>\n",
       "      <td>Email Opened</td>\n",
       "    </tr>\n",
       "  </tbody>\n",
       "</table>\n",
       "<p>2 rows × 37 columns</p>\n",
       "</div>"
      ],
      "text/plain": [
       "                            Prospect ID  Lead Number Lead Origin  \\\n",
       "0  7927b2df-8bba-4d29-b9a2-b6e0beafe620       660737         API   \n",
       "1  2a272436-5132-4136-86fa-dcc88c88f482       660728         API   \n",
       "\n",
       "      Lead Source Do Not Email Do Not Call  Converted  TotalVisits  \\\n",
       "0      Olark Chat           No          No          0          0.0   \n",
       "1  Organic Search           No          No          0          5.0   \n",
       "\n",
       "   Total Time Spent on Website  Page Views Per Visit  ...  \\\n",
       "0                            0                   0.0  ...   \n",
       "1                          674                   2.5  ...   \n",
       "\n",
       "  Get updates on DM Content Lead Profile    City Asymmetrique Activity Index  \\\n",
       "0                        No       Select  Select                   02.Medium   \n",
       "1                        No       Select  Select                   02.Medium   \n",
       "\n",
       "  Asymmetrique Profile Index Asymmetrique Activity Score  \\\n",
       "0                  02.Medium                        15.0   \n",
       "1                  02.Medium                        15.0   \n",
       "\n",
       "  Asymmetrique Profile Score I agree to pay the amount through cheque  \\\n",
       "0                       15.0                                       No   \n",
       "1                       15.0                                       No   \n",
       "\n",
       "  A free copy of Mastering The Interview Last Notable Activity  \n",
       "0                                     No              Modified  \n",
       "1                                     No          Email Opened  \n",
       "\n",
       "[2 rows x 37 columns]"
      ]
     },
     "execution_count": 4,
     "metadata": {},
     "output_type": "execute_result"
    }
   ],
   "source": [
    "df.head(2)"
   ]
  },
  {
   "cell_type": "code",
   "execution_count": 5,
   "metadata": {},
   "outputs": [],
   "source": [
    "#df.iloc[1]"
   ]
  },
  {
   "cell_type": "code",
   "execution_count": 6,
   "metadata": {},
   "outputs": [
    {
     "name": "stdout",
     "output_type": "stream",
     "text": [
      "<class 'pandas.core.frame.DataFrame'>\n",
      "RangeIndex: 9240 entries, 0 to 9239\n",
      "Data columns (total 37 columns):\n",
      "Prospect ID                                      9240 non-null object\n",
      "Lead Number                                      9240 non-null int64\n",
      "Lead Origin                                      9240 non-null object\n",
      "Lead Source                                      9204 non-null object\n",
      "Do Not Email                                     9240 non-null object\n",
      "Do Not Call                                      9240 non-null object\n",
      "Converted                                        9240 non-null int64\n",
      "TotalVisits                                      9103 non-null float64\n",
      "Total Time Spent on Website                      9240 non-null int64\n",
      "Page Views Per Visit                             9103 non-null float64\n",
      "Last Activity                                    9137 non-null object\n",
      "Country                                          6779 non-null object\n",
      "Specialization                                   7802 non-null object\n",
      "How did you hear about X Education               7033 non-null object\n",
      "What is your current occupation                  6550 non-null object\n",
      "What matters most to you in choosing a course    6531 non-null object\n",
      "Search                                           9240 non-null object\n",
      "Magazine                                         9240 non-null object\n",
      "Newspaper Article                                9240 non-null object\n",
      "X Education Forums                               9240 non-null object\n",
      "Newspaper                                        9240 non-null object\n",
      "Digital Advertisement                            9240 non-null object\n",
      "Through Recommendations                          9240 non-null object\n",
      "Receive More Updates About Our Courses           9240 non-null object\n",
      "Tags                                             5887 non-null object\n",
      "Lead Quality                                     4473 non-null object\n",
      "Update me on Supply Chain Content                9240 non-null object\n",
      "Get updates on DM Content                        9240 non-null object\n",
      "Lead Profile                                     6531 non-null object\n",
      "City                                             7820 non-null object\n",
      "Asymmetrique Activity Index                      5022 non-null object\n",
      "Asymmetrique Profile Index                       5022 non-null object\n",
      "Asymmetrique Activity Score                      5022 non-null float64\n",
      "Asymmetrique Profile Score                       5022 non-null float64\n",
      "I agree to pay the amount through cheque         9240 non-null object\n",
      "A free copy of Mastering The Interview           9240 non-null object\n",
      "Last Notable Activity                            9240 non-null object\n",
      "dtypes: float64(4), int64(3), object(30)\n",
      "memory usage: 2.6+ MB\n"
     ]
    }
   ],
   "source": [
    "df.info()"
   ]
  },
  {
   "cell_type": "code",
   "execution_count": 7,
   "metadata": {},
   "outputs": [],
   "source": [
    "#round(df.isnull().sum()/len(df) *100,2)"
   ]
  },
  {
   "cell_type": "code",
   "execution_count": 8,
   "metadata": {},
   "outputs": [],
   "source": [
    "#df.columns"
   ]
  },
  {
   "cell_type": "raw",
   "metadata": {},
   "source": [
    "Columns with Value \"Select\"\n",
    "1.Specialization,\n",
    "2.How did you hear about X Education,\n",
    "3.Lead Profile,\n",
    "4.City\n"
   ]
  },
  {
   "cell_type": "code",
   "execution_count": 9,
   "metadata": {},
   "outputs": [],
   "source": [
    "cols =[\"Specialization\",\"How did you hear about X Education\",\"Lead Profile\",\"City\"]"
   ]
  },
  {
   "cell_type": "code",
   "execution_count": 10,
   "metadata": {},
   "outputs": [],
   "source": [
    "#Replacing all the values == \"Select\" as np.nan in colums with values \"Selcet\"\n",
    "for col in cols:                                 \n",
    "    df.loc[df[col]==\"Select\",[col]]=np.nan    \n",
    " "
   ]
  },
  {
   "cell_type": "code",
   "execution_count": 11,
   "metadata": {},
   "outputs": [],
   "source": [
    "#round(df.isnull().sum()/len(df) *100,2)"
   ]
  },
  {
   "cell_type": "code",
   "execution_count": 12,
   "metadata": {},
   "outputs": [
    {
     "data": {
      "text/plain": [
       "Prospect ID                                       0.00\n",
       "Lead Number                                       0.00\n",
       "Lead Origin                                       0.00\n",
       "Lead Source                                       0.39\n",
       "Do Not Email                                      0.00\n",
       "Do Not Call                                       0.00\n",
       "Converted                                         0.00\n",
       "TotalVisits                                       1.48\n",
       "Total Time Spent on Website                       0.00\n",
       "Page Views Per Visit                              1.48\n",
       "Last Activity                                     1.11\n",
       "Country                                          26.63\n",
       "Specialization                                   36.58\n",
       "How did you hear about X Education               78.46\n",
       "What is your current occupation                  29.11\n",
       "What matters most to you in choosing a course    29.32\n",
       "Search                                            0.00\n",
       "Magazine                                          0.00\n",
       "Newspaper Article                                 0.00\n",
       "X Education Forums                                0.00\n",
       "Newspaper                                         0.00\n",
       "Digital Advertisement                             0.00\n",
       "Through Recommendations                           0.00\n",
       "Receive More Updates About Our Courses            0.00\n",
       "Tags                                             36.29\n",
       "Lead Quality                                     51.59\n",
       "Update me on Supply Chain Content                 0.00\n",
       "Get updates on DM Content                         0.00\n",
       "Lead Profile                                     74.19\n",
       "City                                             39.71\n",
       "Asymmetrique Activity Index                      45.65\n",
       "Asymmetrique Profile Index                       45.65\n",
       "Asymmetrique Activity Score                      45.65\n",
       "Asymmetrique Profile Score                       45.65\n",
       "I agree to pay the amount through cheque          0.00\n",
       "A free copy of Mastering The Interview            0.00\n",
       "Last Notable Activity                             0.00\n",
       "dtype: float64"
      ]
     },
     "execution_count": 12,
     "metadata": {},
     "output_type": "execute_result"
    }
   ],
   "source": [
    "round(df.isnull().sum()/len(df) *100,2)"
   ]
  },
  {
   "cell_type": "raw",
   "metadata": {},
   "source": [
    "Columns with more than 45 % null values  \n",
    "======================================\n",
    "1.How did you hear about X Education -- Dropping since around 78% data missing\n",
    "2.Lead Quality                       -- Dropping since 51% data missing and is someone's judgement not based on facts collected\n",
    "3.Lead Profile                       -- Dropping since 74% data missing and is someone's judgement not based on facts collected\n",
    "4.Asymmetrique Activity Index        -- Dropping since 46% data missing and is someone's judgement not based on facts collected\n",
    "5.Asymmetrique Profile Index         -- Dropping since 46% data missing and is someone's judgement not based on facts collected\n",
    "6.Asymmetrique Activity Score        -- Dropping since 46% data missing and is someone's judgement not based on facts collected\n",
    "7.Asymmetrique Profile Score         -- Dropping since 46% data missing and is someone's judgement not based on facts collected\n",
    "8.Tags                               -- Info is not available at time of prediction"
   ]
  },
  {
   "cell_type": "code",
   "execution_count": 13,
   "metadata": {},
   "outputs": [],
   "source": [
    "drop_cols=[\"How did you hear about X Education\",\"Lead Quality\",\"Lead Profile\",\"Asymmetrique Activity Index\",\n",
    "          \"Asymmetrique Profile Index\",\"Asymmetrique Activity Score\",\"Asymmetrique Profile Score\",\"Tags\"]"
   ]
  },
  {
   "cell_type": "code",
   "execution_count": 14,
   "metadata": {},
   "outputs": [
    {
     "data": {
      "text/html": [
       "<div>\n",
       "<style scoped>\n",
       "    .dataframe tbody tr th:only-of-type {\n",
       "        vertical-align: middle;\n",
       "    }\n",
       "\n",
       "    .dataframe tbody tr th {\n",
       "        vertical-align: top;\n",
       "    }\n",
       "\n",
       "    .dataframe thead th {\n",
       "        text-align: right;\n",
       "    }\n",
       "</style>\n",
       "<table border=\"1\" class=\"dataframe\">\n",
       "  <thead>\n",
       "    <tr style=\"text-align: right;\">\n",
       "      <th></th>\n",
       "      <th>How did you hear about X Education</th>\n",
       "      <th>Lead Quality</th>\n",
       "      <th>Lead Profile</th>\n",
       "      <th>Asymmetrique Activity Index</th>\n",
       "      <th>Asymmetrique Profile Index</th>\n",
       "      <th>Asymmetrique Activity Score</th>\n",
       "      <th>Asymmetrique Profile Score</th>\n",
       "      <th>Tags</th>\n",
       "    </tr>\n",
       "  </thead>\n",
       "  <tbody>\n",
       "    <tr>\n",
       "      <td>0</td>\n",
       "      <td>NaN</td>\n",
       "      <td>Low in Relevance</td>\n",
       "      <td>NaN</td>\n",
       "      <td>02.Medium</td>\n",
       "      <td>02.Medium</td>\n",
       "      <td>15.0</td>\n",
       "      <td>15.0</td>\n",
       "      <td>Interested in other courses</td>\n",
       "    </tr>\n",
       "    <tr>\n",
       "      <td>1</td>\n",
       "      <td>NaN</td>\n",
       "      <td>NaN</td>\n",
       "      <td>NaN</td>\n",
       "      <td>02.Medium</td>\n",
       "      <td>02.Medium</td>\n",
       "      <td>15.0</td>\n",
       "      <td>15.0</td>\n",
       "      <td>Ringing</td>\n",
       "    </tr>\n",
       "  </tbody>\n",
       "</table>\n",
       "</div>"
      ],
      "text/plain": [
       "  How did you hear about X Education      Lead Quality Lead Profile  \\\n",
       "0                                NaN  Low in Relevance          NaN   \n",
       "1                                NaN               NaN          NaN   \n",
       "\n",
       "  Asymmetrique Activity Index Asymmetrique Profile Index  \\\n",
       "0                   02.Medium                  02.Medium   \n",
       "1                   02.Medium                  02.Medium   \n",
       "\n",
       "   Asymmetrique Activity Score  Asymmetrique Profile Score  \\\n",
       "0                         15.0                        15.0   \n",
       "1                         15.0                        15.0   \n",
       "\n",
       "                          Tags  \n",
       "0  Interested in other courses  \n",
       "1                      Ringing  "
      ]
     },
     "execution_count": 14,
     "metadata": {},
     "output_type": "execute_result"
    }
   ],
   "source": [
    "df[drop_cols].head(2)"
   ]
  },
  {
   "cell_type": "code",
   "execution_count": 15,
   "metadata": {},
   "outputs": [],
   "source": [
    "df_sel = df.drop(drop_cols,axis=1)"
   ]
  },
  {
   "cell_type": "code",
   "execution_count": 16,
   "metadata": {},
   "outputs": [
    {
     "data": {
      "text/plain": [
       "8"
      ]
     },
     "execution_count": 16,
     "metadata": {},
     "output_type": "execute_result"
    }
   ],
   "source": [
    "len(df.columns)-len(df_sel.columns)"
   ]
  },
  {
   "cell_type": "code",
   "execution_count": 17,
   "metadata": {},
   "outputs": [
    {
     "data": {
      "text/plain": [
       "Prospect ID                                       0.00\n",
       "Lead Number                                       0.00\n",
       "Lead Origin                                       0.00\n",
       "Lead Source                                       0.39\n",
       "Do Not Email                                      0.00\n",
       "Do Not Call                                       0.00\n",
       "Converted                                         0.00\n",
       "TotalVisits                                       1.48\n",
       "Total Time Spent on Website                       0.00\n",
       "Page Views Per Visit                              1.48\n",
       "Last Activity                                     1.11\n",
       "Country                                          26.63\n",
       "Specialization                                   36.58\n",
       "What is your current occupation                  29.11\n",
       "What matters most to you in choosing a course    29.32\n",
       "Search                                            0.00\n",
       "Magazine                                          0.00\n",
       "Newspaper Article                                 0.00\n",
       "X Education Forums                                0.00\n",
       "Newspaper                                         0.00\n",
       "Digital Advertisement                             0.00\n",
       "Through Recommendations                           0.00\n",
       "Receive More Updates About Our Courses            0.00\n",
       "Update me on Supply Chain Content                 0.00\n",
       "Get updates on DM Content                         0.00\n",
       "City                                             39.71\n",
       "I agree to pay the amount through cheque          0.00\n",
       "A free copy of Mastering The Interview            0.00\n",
       "Last Notable Activity                             0.00\n",
       "dtype: float64"
      ]
     },
     "execution_count": 17,
     "metadata": {},
     "output_type": "execute_result"
    }
   ],
   "source": [
    "round(df_sel.isnull().sum()/len(df_sel)*100,2)"
   ]
  },
  {
   "cell_type": "code",
   "execution_count": 18,
   "metadata": {},
   "outputs": [],
   "source": [
    "#Missing value imutataion in columns with more than 26% null values"
   ]
  },
  {
   "cell_type": "code",
   "execution_count": 19,
   "metadata": {},
   "outputs": [],
   "source": [
    "# Imputing Unknown for missing value in Country Column\n",
    "df_sel.loc[df_sel['Country'].isnull(),['Country']]=\"unknown\""
   ]
  },
  {
   "cell_type": "code",
   "execution_count": 20,
   "metadata": {},
   "outputs": [],
   "source": [
    "# Imputing Other for missing value in Specialization Column\n",
    "df_sel.loc[df_sel['Specialization'].isnull(),['Specialization']]=\"Other\"                "
   ]
  },
  {
   "cell_type": "code",
   "execution_count": 21,
   "metadata": {},
   "outputs": [],
   "source": [
    "# Imputing Other for missing value in Column What is your current occupation\n",
    "df_sel.loc[df_sel[\"What is your current occupation\"].isnull(),[\"What is your current occupation\"]]=\"Other\""
   ]
  },
  {
   "cell_type": "code",
   "execution_count": 22,
   "metadata": {},
   "outputs": [],
   "source": [
    "#Imputing Unknown for missing value in Column What matters most to you in choosing a course\n",
    "df_sel.loc[df_sel[\"What matters most to you in choosing a course\"].isnull(),\n",
    "           [\"What matters most to you in choosing a course\"]]=\"Unknown\""
   ]
  },
  {
   "cell_type": "code",
   "execution_count": 23,
   "metadata": {},
   "outputs": [],
   "source": [
    "# Imputing Other City for missing value in City Coulumn\n",
    "df_sel.loc[df_sel[\"City\"].isnull(),[\"City\"]]=\"Other Cities\""
   ]
  },
  {
   "cell_type": "code",
   "execution_count": 24,
   "metadata": {},
   "outputs": [
    {
     "data": {
      "text/plain": [
       "Prospect ID                                      0.000000\n",
       "Lead Number                                      0.000000\n",
       "Lead Origin                                      0.000000\n",
       "Lead Source                                      0.389610\n",
       "Do Not Email                                     0.000000\n",
       "Do Not Call                                      0.000000\n",
       "Converted                                        0.000000\n",
       "TotalVisits                                      1.482684\n",
       "Total Time Spent on Website                      0.000000\n",
       "Page Views Per Visit                             1.482684\n",
       "Last Activity                                    1.114719\n",
       "Country                                          0.000000\n",
       "Specialization                                   0.000000\n",
       "What is your current occupation                  0.000000\n",
       "What matters most to you in choosing a course    0.000000\n",
       "Search                                           0.000000\n",
       "Magazine                                         0.000000\n",
       "Newspaper Article                                0.000000\n",
       "X Education Forums                               0.000000\n",
       "Newspaper                                        0.000000\n",
       "Digital Advertisement                            0.000000\n",
       "Through Recommendations                          0.000000\n",
       "Receive More Updates About Our Courses           0.000000\n",
       "Update me on Supply Chain Content                0.000000\n",
       "Get updates on DM Content                        0.000000\n",
       "City                                             0.000000\n",
       "I agree to pay the amount through cheque         0.000000\n",
       "A free copy of Mastering The Interview           0.000000\n",
       "Last Notable Activity                            0.000000\n",
       "dtype: float64"
      ]
     },
     "execution_count": 24,
     "metadata": {},
     "output_type": "execute_result"
    }
   ],
   "source": [
    "df_sel.isnull().sum()/len(df_sel)*100 # Very less missing value left per column at max 1.5 % hence dropping them"
   ]
  },
  {
   "cell_type": "code",
   "execution_count": 25,
   "metadata": {},
   "outputs": [],
   "source": [
    "df_final=df_sel.dropna()"
   ]
  },
  {
   "cell_type": "code",
   "execution_count": 26,
   "metadata": {},
   "outputs": [
    {
     "data": {
      "text/plain": [
       "Index(['Prospect ID', 'Lead Number', 'Lead Origin', 'Lead Source',\n",
       "       'Do Not Email', 'Do Not Call', 'Converted', 'TotalVisits',\n",
       "       'Total Time Spent on Website', 'Page Views Per Visit', 'Last Activity',\n",
       "       'Country', 'Specialization', 'What is your current occupation',\n",
       "       'What matters most to you in choosing a course', 'Search', 'Magazine',\n",
       "       'Newspaper Article', 'X Education Forums', 'Newspaper',\n",
       "       'Digital Advertisement', 'Through Recommendations',\n",
       "       'Receive More Updates About Our Courses',\n",
       "       'Update me on Supply Chain Content', 'Get updates on DM Content',\n",
       "       'City', 'I agree to pay the amount through cheque',\n",
       "       'A free copy of Mastering The Interview', 'Last Notable Activity'],\n",
       "      dtype='object')"
      ]
     },
     "execution_count": 26,
     "metadata": {},
     "output_type": "execute_result"
    }
   ],
   "source": [
    "df_final.columns"
   ]
  },
  {
   "cell_type": "code",
   "execution_count": 27,
   "metadata": {},
   "outputs": [
    {
     "data": {
      "text/plain": [
       "9074"
      ]
     },
     "execution_count": 27,
     "metadata": {},
     "output_type": "execute_result"
    }
   ],
   "source": [
    "len(df_final)"
   ]
  },
  {
   "cell_type": "raw",
   "metadata": {},
   "source": [
    "Categorical Columns- Levels (dropping column if skewed towards any particular level or  having single level since could not help differentiate between hot and  cold lead\n",
    "--------------------------------------------------\n",
    "Lead Origin  -5\n",
    "Lead Source -21\n",
    "Do Not Email -2(No,Yes)\n",
    "#Do Not Call -2(No,Yes) (skewed)\n",
    "Last Activity -17\n",
    "Country - 38\n",
    "Specialization -19\n",
    "What is your current occupation -6 \n",
    "What matters most to you in choosing a course -4\n",
    "#Magazine -1(No) skewed\n",
    "#Newspaper Article -2(No,Yes) (skewed)\n",
    "#Digital Advertisement -2 (No,Yes) (skewed)\n",
    "#Through Recommendations -2 (No,Yes) (skewed)\n",
    "#Receive More Updates About Our Courses -1(No) (skewed)\n",
    "Tags -27\n",
    "#Update me on Supply Chain Content -1 (No) (skewed)\n",
    "#Get updates on DM Content -1 (No)\n",
    "City -6\n",
    "#I agree to pay the amount through cheque -1 (No)\n",
    "A free copy of Mastering The Interview -2(No,Yes)\n",
    "Last Notable Activity -16\n",
    "#Newspaper\n",
    "#Search"
   ]
  },
  {
   "cell_type": "code",
   "execution_count": 28,
   "metadata": {},
   "outputs": [],
   "source": [
    "drop_cols1 =[\"Do Not Call\",\"Magazine\",\"Newspaper Article\",\"Digital Advertisement\",\"Through Recommendations\",\n",
    "            \"Receive More Updates About Our Courses\",\"Update me on Supply Chain Content\",\"Get updates on DM Content\",\n",
    "            \"I agree to pay the amount through cheque\",\"Prospect ID\",\"Lead Number\",\"Newspaper\",\"Search\"]"
   ]
  },
  {
   "cell_type": "code",
   "execution_count": 29,
   "metadata": {},
   "outputs": [],
   "source": [
    "df_final1 =df_final.drop(drop_cols1,axis=1)"
   ]
  },
  {
   "cell_type": "code",
   "execution_count": 30,
   "metadata": {
    "scrolled": true
   },
   "outputs": [
    {
     "data": {
      "text/html": [
       "<div>\n",
       "<style scoped>\n",
       "    .dataframe tbody tr th:only-of-type {\n",
       "        vertical-align: middle;\n",
       "    }\n",
       "\n",
       "    .dataframe tbody tr th {\n",
       "        vertical-align: top;\n",
       "    }\n",
       "\n",
       "    .dataframe thead th {\n",
       "        text-align: right;\n",
       "    }\n",
       "</style>\n",
       "<table border=\"1\" class=\"dataframe\">\n",
       "  <thead>\n",
       "    <tr style=\"text-align: right;\">\n",
       "      <th></th>\n",
       "      <th>Lead Origin</th>\n",
       "      <th>Lead Source</th>\n",
       "      <th>Do Not Email</th>\n",
       "      <th>Converted</th>\n",
       "      <th>TotalVisits</th>\n",
       "      <th>Total Time Spent on Website</th>\n",
       "      <th>Page Views Per Visit</th>\n",
       "      <th>Last Activity</th>\n",
       "      <th>Country</th>\n",
       "      <th>Specialization</th>\n",
       "      <th>What is your current occupation</th>\n",
       "      <th>What matters most to you in choosing a course</th>\n",
       "      <th>X Education Forums</th>\n",
       "      <th>City</th>\n",
       "      <th>A free copy of Mastering The Interview</th>\n",
       "      <th>Last Notable Activity</th>\n",
       "    </tr>\n",
       "  </thead>\n",
       "  <tbody>\n",
       "    <tr>\n",
       "      <td>0</td>\n",
       "      <td>API</td>\n",
       "      <td>Olark Chat</td>\n",
       "      <td>No</td>\n",
       "      <td>0</td>\n",
       "      <td>0.0</td>\n",
       "      <td>0</td>\n",
       "      <td>0.0</td>\n",
       "      <td>Page Visited on Website</td>\n",
       "      <td>unknown</td>\n",
       "      <td>Other</td>\n",
       "      <td>Unemployed</td>\n",
       "      <td>Better Career Prospects</td>\n",
       "      <td>No</td>\n",
       "      <td>Other Cities</td>\n",
       "      <td>No</td>\n",
       "      <td>Modified</td>\n",
       "    </tr>\n",
       "    <tr>\n",
       "      <td>1</td>\n",
       "      <td>API</td>\n",
       "      <td>Organic Search</td>\n",
       "      <td>No</td>\n",
       "      <td>0</td>\n",
       "      <td>5.0</td>\n",
       "      <td>674</td>\n",
       "      <td>2.5</td>\n",
       "      <td>Email Opened</td>\n",
       "      <td>India</td>\n",
       "      <td>Other</td>\n",
       "      <td>Unemployed</td>\n",
       "      <td>Better Career Prospects</td>\n",
       "      <td>No</td>\n",
       "      <td>Other Cities</td>\n",
       "      <td>No</td>\n",
       "      <td>Email Opened</td>\n",
       "    </tr>\n",
       "    <tr>\n",
       "      <td>2</td>\n",
       "      <td>Landing Page Submission</td>\n",
       "      <td>Direct Traffic</td>\n",
       "      <td>No</td>\n",
       "      <td>1</td>\n",
       "      <td>2.0</td>\n",
       "      <td>1532</td>\n",
       "      <td>2.0</td>\n",
       "      <td>Email Opened</td>\n",
       "      <td>India</td>\n",
       "      <td>Business Administration</td>\n",
       "      <td>Student</td>\n",
       "      <td>Better Career Prospects</td>\n",
       "      <td>No</td>\n",
       "      <td>Mumbai</td>\n",
       "      <td>Yes</td>\n",
       "      <td>Email Opened</td>\n",
       "    </tr>\n",
       "    <tr>\n",
       "      <td>3</td>\n",
       "      <td>Landing Page Submission</td>\n",
       "      <td>Direct Traffic</td>\n",
       "      <td>No</td>\n",
       "      <td>0</td>\n",
       "      <td>1.0</td>\n",
       "      <td>305</td>\n",
       "      <td>1.0</td>\n",
       "      <td>Unreachable</td>\n",
       "      <td>India</td>\n",
       "      <td>Media and Advertising</td>\n",
       "      <td>Unemployed</td>\n",
       "      <td>Better Career Prospects</td>\n",
       "      <td>No</td>\n",
       "      <td>Mumbai</td>\n",
       "      <td>No</td>\n",
       "      <td>Modified</td>\n",
       "    </tr>\n",
       "    <tr>\n",
       "      <td>4</td>\n",
       "      <td>Landing Page Submission</td>\n",
       "      <td>Google</td>\n",
       "      <td>No</td>\n",
       "      <td>1</td>\n",
       "      <td>2.0</td>\n",
       "      <td>1428</td>\n",
       "      <td>1.0</td>\n",
       "      <td>Converted to Lead</td>\n",
       "      <td>India</td>\n",
       "      <td>Other</td>\n",
       "      <td>Unemployed</td>\n",
       "      <td>Better Career Prospects</td>\n",
       "      <td>No</td>\n",
       "      <td>Mumbai</td>\n",
       "      <td>No</td>\n",
       "      <td>Modified</td>\n",
       "    </tr>\n",
       "  </tbody>\n",
       "</table>\n",
       "</div>"
      ],
      "text/plain": [
       "               Lead Origin     Lead Source Do Not Email  Converted  \\\n",
       "0                      API      Olark Chat           No          0   \n",
       "1                      API  Organic Search           No          0   \n",
       "2  Landing Page Submission  Direct Traffic           No          1   \n",
       "3  Landing Page Submission  Direct Traffic           No          0   \n",
       "4  Landing Page Submission          Google           No          1   \n",
       "\n",
       "   TotalVisits  Total Time Spent on Website  Page Views Per Visit  \\\n",
       "0          0.0                            0                   0.0   \n",
       "1          5.0                          674                   2.5   \n",
       "2          2.0                         1532                   2.0   \n",
       "3          1.0                          305                   1.0   \n",
       "4          2.0                         1428                   1.0   \n",
       "\n",
       "             Last Activity  Country           Specialization  \\\n",
       "0  Page Visited on Website  unknown                    Other   \n",
       "1             Email Opened    India                    Other   \n",
       "2             Email Opened    India  Business Administration   \n",
       "3              Unreachable    India    Media and Advertising   \n",
       "4        Converted to Lead    India                    Other   \n",
       "\n",
       "  What is your current occupation  \\\n",
       "0                      Unemployed   \n",
       "1                      Unemployed   \n",
       "2                         Student   \n",
       "3                      Unemployed   \n",
       "4                      Unemployed   \n",
       "\n",
       "  What matters most to you in choosing a course X Education Forums  \\\n",
       "0                       Better Career Prospects                 No   \n",
       "1                       Better Career Prospects                 No   \n",
       "2                       Better Career Prospects                 No   \n",
       "3                       Better Career Prospects                 No   \n",
       "4                       Better Career Prospects                 No   \n",
       "\n",
       "           City A free copy of Mastering The Interview Last Notable Activity  \n",
       "0  Other Cities                                     No              Modified  \n",
       "1  Other Cities                                     No          Email Opened  \n",
       "2        Mumbai                                    Yes          Email Opened  \n",
       "3        Mumbai                                     No              Modified  \n",
       "4        Mumbai                                     No              Modified  "
      ]
     },
     "execution_count": 30,
     "metadata": {},
     "output_type": "execute_result"
    }
   ],
   "source": [
    "df_final1.head()"
   ]
  },
  {
   "cell_type": "code",
   "execution_count": 31,
   "metadata": {},
   "outputs": [
    {
     "data": {
      "text/plain": [
       "9074"
      ]
     },
     "execution_count": 31,
     "metadata": {},
     "output_type": "execute_result"
    }
   ],
   "source": [
    "len(df_final1)"
   ]
  },
  {
   "cell_type": "code",
   "execution_count": 32,
   "metadata": {},
   "outputs": [
    {
     "data": {
      "text/html": [
       "<div>\n",
       "<style scoped>\n",
       "    .dataframe tbody tr th:only-of-type {\n",
       "        vertical-align: middle;\n",
       "    }\n",
       "\n",
       "    .dataframe tbody tr th {\n",
       "        vertical-align: top;\n",
       "    }\n",
       "\n",
       "    .dataframe thead th {\n",
       "        text-align: right;\n",
       "    }\n",
       "</style>\n",
       "<table border=\"1\" class=\"dataframe\">\n",
       "  <thead>\n",
       "    <tr style=\"text-align: right;\">\n",
       "      <th></th>\n",
       "      <th>Converted</th>\n",
       "      <th>TotalVisits</th>\n",
       "      <th>Total Time Spent on Website</th>\n",
       "      <th>Page Views Per Visit</th>\n",
       "    </tr>\n",
       "  </thead>\n",
       "  <tbody>\n",
       "    <tr>\n",
       "      <td>count</td>\n",
       "      <td>9074.000000</td>\n",
       "      <td>9074.000000</td>\n",
       "      <td>9074.000000</td>\n",
       "      <td>9074.000000</td>\n",
       "    </tr>\n",
       "    <tr>\n",
       "      <td>mean</td>\n",
       "      <td>0.378554</td>\n",
       "      <td>3.456028</td>\n",
       "      <td>482.887481</td>\n",
       "      <td>2.370151</td>\n",
       "    </tr>\n",
       "    <tr>\n",
       "      <td>std</td>\n",
       "      <td>0.485053</td>\n",
       "      <td>4.858802</td>\n",
       "      <td>545.256560</td>\n",
       "      <td>2.160871</td>\n",
       "    </tr>\n",
       "    <tr>\n",
       "      <td>min</td>\n",
       "      <td>0.000000</td>\n",
       "      <td>0.000000</td>\n",
       "      <td>0.000000</td>\n",
       "      <td>0.000000</td>\n",
       "    </tr>\n",
       "    <tr>\n",
       "      <td>25%</td>\n",
       "      <td>0.000000</td>\n",
       "      <td>1.000000</td>\n",
       "      <td>11.000000</td>\n",
       "      <td>1.000000</td>\n",
       "    </tr>\n",
       "    <tr>\n",
       "      <td>50%</td>\n",
       "      <td>0.000000</td>\n",
       "      <td>3.000000</td>\n",
       "      <td>246.000000</td>\n",
       "      <td>2.000000</td>\n",
       "    </tr>\n",
       "    <tr>\n",
       "      <td>75%</td>\n",
       "      <td>1.000000</td>\n",
       "      <td>5.000000</td>\n",
       "      <td>922.750000</td>\n",
       "      <td>3.200000</td>\n",
       "    </tr>\n",
       "    <tr>\n",
       "      <td>max</td>\n",
       "      <td>1.000000</td>\n",
       "      <td>251.000000</td>\n",
       "      <td>2272.000000</td>\n",
       "      <td>55.000000</td>\n",
       "    </tr>\n",
       "  </tbody>\n",
       "</table>\n",
       "</div>"
      ],
      "text/plain": [
       "         Converted  TotalVisits  Total Time Spent on Website  \\\n",
       "count  9074.000000  9074.000000                  9074.000000   \n",
       "mean      0.378554     3.456028                   482.887481   \n",
       "std       0.485053     4.858802                   545.256560   \n",
       "min       0.000000     0.000000                     0.000000   \n",
       "25%       0.000000     1.000000                    11.000000   \n",
       "50%       0.000000     3.000000                   246.000000   \n",
       "75%       1.000000     5.000000                   922.750000   \n",
       "max       1.000000   251.000000                  2272.000000   \n",
       "\n",
       "       Page Views Per Visit  \n",
       "count           9074.000000  \n",
       "mean               2.370151  \n",
       "std                2.160871  \n",
       "min                0.000000  \n",
       "25%                1.000000  \n",
       "50%                2.000000  \n",
       "75%                3.200000  \n",
       "max               55.000000  "
      ]
     },
     "execution_count": 32,
     "metadata": {},
     "output_type": "execute_result"
    }
   ],
   "source": [
    "df_final1.describe()"
   ]
  },
  {
   "cell_type": "code",
   "execution_count": 33,
   "metadata": {},
   "outputs": [],
   "source": [
    "df_final1 = df_final1.dropna()"
   ]
  },
  {
   "cell_type": "code",
   "execution_count": 34,
   "metadata": {},
   "outputs": [
    {
     "name": "stdout",
     "output_type": "stream",
     "text": [
      "<class 'pandas.core.frame.DataFrame'>\n",
      "Int64Index: 9074 entries, 0 to 9239\n",
      "Data columns (total 16 columns):\n",
      "Lead Origin                                      9074 non-null object\n",
      "Lead Source                                      9074 non-null object\n",
      "Do Not Email                                     9074 non-null object\n",
      "Converted                                        9074 non-null int64\n",
      "TotalVisits                                      9074 non-null float64\n",
      "Total Time Spent on Website                      9074 non-null int64\n",
      "Page Views Per Visit                             9074 non-null float64\n",
      "Last Activity                                    9074 non-null object\n",
      "Country                                          9074 non-null object\n",
      "Specialization                                   9074 non-null object\n",
      "What is your current occupation                  9074 non-null object\n",
      "What matters most to you in choosing a course    9074 non-null object\n",
      "X Education Forums                               9074 non-null object\n",
      "City                                             9074 non-null object\n",
      "A free copy of Mastering The Interview           9074 non-null object\n",
      "Last Notable Activity                            9074 non-null object\n",
      "dtypes: float64(2), int64(2), object(12)\n",
      "memory usage: 1.2+ MB\n"
     ]
    }
   ],
   "source": [
    "df_final1.info()"
   ]
  },
  {
   "cell_type": "code",
   "execution_count": 35,
   "metadata": {},
   "outputs": [
    {
     "data": {
      "text/html": [
       "<div>\n",
       "<style scoped>\n",
       "    .dataframe tbody tr th:only-of-type {\n",
       "        vertical-align: middle;\n",
       "    }\n",
       "\n",
       "    .dataframe tbody tr th {\n",
       "        vertical-align: top;\n",
       "    }\n",
       "\n",
       "    .dataframe thead th {\n",
       "        text-align: right;\n",
       "    }\n",
       "</style>\n",
       "<table border=\"1\" class=\"dataframe\">\n",
       "  <thead>\n",
       "    <tr style=\"text-align: right;\">\n",
       "      <th></th>\n",
       "      <th>Converted</th>\n",
       "      <th>TotalVisits</th>\n",
       "      <th>Total Time Spent on Website</th>\n",
       "      <th>Page Views Per Visit</th>\n",
       "    </tr>\n",
       "  </thead>\n",
       "  <tbody>\n",
       "    <tr>\n",
       "      <td>count</td>\n",
       "      <td>9074.000000</td>\n",
       "      <td>9074.000000</td>\n",
       "      <td>9074.000000</td>\n",
       "      <td>9074.000000</td>\n",
       "    </tr>\n",
       "    <tr>\n",
       "      <td>mean</td>\n",
       "      <td>0.378554</td>\n",
       "      <td>3.456028</td>\n",
       "      <td>482.887481</td>\n",
       "      <td>2.370151</td>\n",
       "    </tr>\n",
       "    <tr>\n",
       "      <td>std</td>\n",
       "      <td>0.485053</td>\n",
       "      <td>4.858802</td>\n",
       "      <td>545.256560</td>\n",
       "      <td>2.160871</td>\n",
       "    </tr>\n",
       "    <tr>\n",
       "      <td>min</td>\n",
       "      <td>0.000000</td>\n",
       "      <td>0.000000</td>\n",
       "      <td>0.000000</td>\n",
       "      <td>0.000000</td>\n",
       "    </tr>\n",
       "    <tr>\n",
       "      <td>25%</td>\n",
       "      <td>0.000000</td>\n",
       "      <td>1.000000</td>\n",
       "      <td>11.000000</td>\n",
       "      <td>1.000000</td>\n",
       "    </tr>\n",
       "    <tr>\n",
       "      <td>50%</td>\n",
       "      <td>0.000000</td>\n",
       "      <td>3.000000</td>\n",
       "      <td>246.000000</td>\n",
       "      <td>2.000000</td>\n",
       "    </tr>\n",
       "    <tr>\n",
       "      <td>75%</td>\n",
       "      <td>1.000000</td>\n",
       "      <td>5.000000</td>\n",
       "      <td>922.750000</td>\n",
       "      <td>3.200000</td>\n",
       "    </tr>\n",
       "    <tr>\n",
       "      <td>max</td>\n",
       "      <td>1.000000</td>\n",
       "      <td>251.000000</td>\n",
       "      <td>2272.000000</td>\n",
       "      <td>55.000000</td>\n",
       "    </tr>\n",
       "  </tbody>\n",
       "</table>\n",
       "</div>"
      ],
      "text/plain": [
       "         Converted  TotalVisits  Total Time Spent on Website  \\\n",
       "count  9074.000000  9074.000000                  9074.000000   \n",
       "mean      0.378554     3.456028                   482.887481   \n",
       "std       0.485053     4.858802                   545.256560   \n",
       "min       0.000000     0.000000                     0.000000   \n",
       "25%       0.000000     1.000000                    11.000000   \n",
       "50%       0.000000     3.000000                   246.000000   \n",
       "75%       1.000000     5.000000                   922.750000   \n",
       "max       1.000000   251.000000                  2272.000000   \n",
       "\n",
       "       Page Views Per Visit  \n",
       "count           9074.000000  \n",
       "mean               2.370151  \n",
       "std                2.160871  \n",
       "min                0.000000  \n",
       "25%                1.000000  \n",
       "50%                2.000000  \n",
       "75%                3.200000  \n",
       "max               55.000000  "
      ]
     },
     "execution_count": 35,
     "metadata": {},
     "output_type": "execute_result"
    }
   ],
   "source": [
    "df_final1.describe()"
   ]
  },
  {
   "cell_type": "code",
   "execution_count": 36,
   "metadata": {},
   "outputs": [
    {
     "data": {
      "image/png": "[encoded data removed]",
      "text/plain": [
       "<Figure size 1080x288 with 3 Axes>"
      ]
     },
     "metadata": {
      "needs_background": "light"
     },
     "output_type": "display_data"
    }
   ],
   "source": [
    "fig,axes = plt.subplots(1,3,figsize=(15,4))\n",
    "for col,ax in zip([\"TotalVisits\",\"Total Time Spent on Website\",\"Page Views Per Visit\"],axes):\n",
    "    sns.boxplot(df_final1[col],ax=ax)   "
   ]
  },
  {
   "cell_type": "code",
   "execution_count": 37,
   "metadata": {},
   "outputs": [],
   "source": [
    "yesno = [\"Do Not Email\",\"X Education Forums\",\"A free copy of Mastering The Interview\"]"
   ]
  },
  {
   "cell_type": "code",
   "execution_count": 38,
   "metadata": {},
   "outputs": [],
   "source": [
    "def yesno_map(x):\n",
    "    return x.map({\"No\":0,\"Yes\":1})"
   ]
  },
  {
   "cell_type": "code",
   "execution_count": 39,
   "metadata": {},
   "outputs": [],
   "source": [
    "df_final1[yesno] = df_final1[yesno].apply(yesno_map)"
   ]
  },
  {
   "cell_type": "code",
   "execution_count": 40,
   "metadata": {},
   "outputs": [
    {
     "data": {
      "text/plain": [
       "Index(['Lead Origin', 'Lead Source', 'Do Not Email', 'Converted',\n",
       "       'TotalVisits', 'Total Time Spent on Website', 'Page Views Per Visit',\n",
       "       'Last Activity', 'Country', 'Specialization',\n",
       "       'What is your current occupation',\n",
       "       'What matters most to you in choosing a course', 'X Education Forums',\n",
       "       'City', 'A free copy of Mastering The Interview',\n",
       "       'Last Notable Activity'],\n",
       "      dtype='object')"
      ]
     },
     "execution_count": 40,
     "metadata": {},
     "output_type": "execute_result"
    }
   ],
   "source": [
    "df_final1.columns"
   ]
  },
  {
   "cell_type": "code",
   "execution_count": 41,
   "metadata": {},
   "outputs": [],
   "source": [
    "multi_level = ['Lead Origin','Lead Source','Last Activity','Country','Specialization','What is your current occupation',\n",
    "             'What matters most to you in choosing a course','City','Last Notable Activity']"
   ]
  },
  {
   "cell_type": "code",
   "execution_count": 42,
   "metadata": {},
   "outputs": [
    {
     "data": {
      "text/html": [
       "<div>\n",
       "<style scoped>\n",
       "    .dataframe tbody tr th:only-of-type {\n",
       "        vertical-align: middle;\n",
       "    }\n",
       "\n",
       "    .dataframe tbody tr th {\n",
       "        vertical-align: top;\n",
       "    }\n",
       "\n",
       "    .dataframe thead th {\n",
       "        text-align: right;\n",
       "    }\n",
       "</style>\n",
       "<table border=\"1\" class=\"dataframe\">\n",
       "  <thead>\n",
       "    <tr style=\"text-align: right;\">\n",
       "      <th></th>\n",
       "      <th>Lead Origin</th>\n",
       "      <th>Lead Source</th>\n",
       "      <th>Last Activity</th>\n",
       "      <th>Country</th>\n",
       "      <th>Specialization</th>\n",
       "      <th>What is your current occupation</th>\n",
       "      <th>What matters most to you in choosing a course</th>\n",
       "      <th>City</th>\n",
       "      <th>Last Notable Activity</th>\n",
       "    </tr>\n",
       "  </thead>\n",
       "  <tbody>\n",
       "    <tr>\n",
       "      <td>0</td>\n",
       "      <td>API</td>\n",
       "      <td>Olark Chat</td>\n",
       "      <td>Page Visited on Website</td>\n",
       "      <td>unknown</td>\n",
       "      <td>Other</td>\n",
       "      <td>Unemployed</td>\n",
       "      <td>Better Career Prospects</td>\n",
       "      <td>Other Cities</td>\n",
       "      <td>Modified</td>\n",
       "    </tr>\n",
       "    <tr>\n",
       "      <td>1</td>\n",
       "      <td>API</td>\n",
       "      <td>Organic Search</td>\n",
       "      <td>Email Opened</td>\n",
       "      <td>India</td>\n",
       "      <td>Other</td>\n",
       "      <td>Unemployed</td>\n",
       "      <td>Better Career Prospects</td>\n",
       "      <td>Other Cities</td>\n",
       "      <td>Email Opened</td>\n",
       "    </tr>\n",
       "    <tr>\n",
       "      <td>2</td>\n",
       "      <td>Landing Page Submission</td>\n",
       "      <td>Direct Traffic</td>\n",
       "      <td>Email Opened</td>\n",
       "      <td>India</td>\n",
       "      <td>Business Administration</td>\n",
       "      <td>Student</td>\n",
       "      <td>Better Career Prospects</td>\n",
       "      <td>Mumbai</td>\n",
       "      <td>Email Opened</td>\n",
       "    </tr>\n",
       "    <tr>\n",
       "      <td>3</td>\n",
       "      <td>Landing Page Submission</td>\n",
       "      <td>Direct Traffic</td>\n",
       "      <td>Unreachable</td>\n",
       "      <td>India</td>\n",
       "      <td>Media and Advertising</td>\n",
       "      <td>Unemployed</td>\n",
       "      <td>Better Career Prospects</td>\n",
       "      <td>Mumbai</td>\n",
       "      <td>Modified</td>\n",
       "    </tr>\n",
       "    <tr>\n",
       "      <td>4</td>\n",
       "      <td>Landing Page Submission</td>\n",
       "      <td>Google</td>\n",
       "      <td>Converted to Lead</td>\n",
       "      <td>India</td>\n",
       "      <td>Other</td>\n",
       "      <td>Unemployed</td>\n",
       "      <td>Better Career Prospects</td>\n",
       "      <td>Mumbai</td>\n",
       "      <td>Modified</td>\n",
       "    </tr>\n",
       "  </tbody>\n",
       "</table>\n",
       "</div>"
      ],
      "text/plain": [
       "               Lead Origin     Lead Source            Last Activity  Country  \\\n",
       "0                      API      Olark Chat  Page Visited on Website  unknown   \n",
       "1                      API  Organic Search             Email Opened    India   \n",
       "2  Landing Page Submission  Direct Traffic             Email Opened    India   \n",
       "3  Landing Page Submission  Direct Traffic              Unreachable    India   \n",
       "4  Landing Page Submission          Google        Converted to Lead    India   \n",
       "\n",
       "            Specialization What is your current occupation  \\\n",
       "0                    Other                      Unemployed   \n",
       "1                    Other                      Unemployed   \n",
       "2  Business Administration                         Student   \n",
       "3    Media and Advertising                      Unemployed   \n",
       "4                    Other                      Unemployed   \n",
       "\n",
       "  What matters most to you in choosing a course          City  \\\n",
       "0                       Better Career Prospects  Other Cities   \n",
       "1                       Better Career Prospects  Other Cities   \n",
       "2                       Better Career Prospects        Mumbai   \n",
       "3                       Better Career Prospects        Mumbai   \n",
       "4                       Better Career Prospects        Mumbai   \n",
       "\n",
       "  Last Notable Activity  \n",
       "0              Modified  \n",
       "1          Email Opened  \n",
       "2          Email Opened  \n",
       "3              Modified  \n",
       "4              Modified  "
      ]
     },
     "execution_count": 42,
     "metadata": {},
     "output_type": "execute_result"
    }
   ],
   "source": [
    "df_final1[multi_level][:5]"
   ]
  },
  {
   "cell_type": "code",
   "execution_count": 43,
   "metadata": {},
   "outputs": [],
   "source": [
    "dummies = pd.get_dummies(df_final[multi_level],drop_first=True)\n",
    "df_final1 = pd.concat([df_final1,dummies],axis=1)"
   ]
  },
  {
   "cell_type": "code",
   "execution_count": 44,
   "metadata": {},
   "outputs": [
    {
     "data": {
      "text/plain": [
       "138"
      ]
     },
     "execution_count": 44,
     "metadata": {},
     "output_type": "execute_result"
    }
   ],
   "source": [
    "len(df_final1.columns)"
   ]
  },
  {
   "cell_type": "code",
   "execution_count": 45,
   "metadata": {},
   "outputs": [],
   "source": [
    "#Dropping the original features \n",
    "\n",
    "df_final1 = df_final1.drop(multi_level,axis=1)"
   ]
  },
  {
   "cell_type": "code",
   "execution_count": 46,
   "metadata": {},
   "outputs": [
    {
     "data": {
      "text/plain": [
       "129"
      ]
     },
     "execution_count": 46,
     "metadata": {},
     "output_type": "execute_result"
    }
   ],
   "source": [
    "len(df_final1.columns)"
   ]
  },
  {
   "cell_type": "code",
   "execution_count": 47,
   "metadata": {},
   "outputs": [
    {
     "data": {
      "text/plain": [
       "9"
      ]
     },
     "execution_count": 47,
     "metadata": {},
     "output_type": "execute_result"
    }
   ],
   "source": [
    "len(multi_level)"
   ]
  },
  {
   "cell_type": "code",
   "execution_count": 48,
   "metadata": {},
   "outputs": [
    {
     "data": {
      "text/html": [
       "<div>\n",
       "<style scoped>\n",
       "    .dataframe tbody tr th:only-of-type {\n",
       "        vertical-align: middle;\n",
       "    }\n",
       "\n",
       "    .dataframe tbody tr th {\n",
       "        vertical-align: top;\n",
       "    }\n",
       "\n",
       "    .dataframe thead th {\n",
       "        text-align: right;\n",
       "    }\n",
       "</style>\n",
       "<table border=\"1\" class=\"dataframe\">\n",
       "  <thead>\n",
       "    <tr style=\"text-align: right;\">\n",
       "      <th></th>\n",
       "      <th>Do Not Email</th>\n",
       "      <th>Converted</th>\n",
       "      <th>TotalVisits</th>\n",
       "      <th>Total Time Spent on Website</th>\n",
       "      <th>Page Views Per Visit</th>\n",
       "      <th>X Education Forums</th>\n",
       "      <th>A free copy of Mastering The Interview</th>\n",
       "      <th>Lead Origin_Landing Page Submission</th>\n",
       "      <th>Lead Origin_Lead Add Form</th>\n",
       "      <th>Lead Origin_Lead Import</th>\n",
       "      <th>...</th>\n",
       "      <th>Last Notable Activity_Form Submitted on Website</th>\n",
       "      <th>Last Notable Activity_Had a Phone Conversation</th>\n",
       "      <th>Last Notable Activity_Modified</th>\n",
       "      <th>Last Notable Activity_Olark Chat Conversation</th>\n",
       "      <th>Last Notable Activity_Page Visited on Website</th>\n",
       "      <th>Last Notable Activity_Resubscribed to emails</th>\n",
       "      <th>Last Notable Activity_SMS Sent</th>\n",
       "      <th>Last Notable Activity_Unreachable</th>\n",
       "      <th>Last Notable Activity_Unsubscribed</th>\n",
       "      <th>Last Notable Activity_View in browser link Clicked</th>\n",
       "    </tr>\n",
       "  </thead>\n",
       "  <tbody>\n",
       "    <tr>\n",
       "      <td>0</td>\n",
       "      <td>0</td>\n",
       "      <td>0</td>\n",
       "      <td>0.0</td>\n",
       "      <td>0</td>\n",
       "      <td>0.0</td>\n",
       "      <td>0</td>\n",
       "      <td>0</td>\n",
       "      <td>0</td>\n",
       "      <td>0</td>\n",
       "      <td>0</td>\n",
       "      <td>...</td>\n",
       "      <td>0</td>\n",
       "      <td>0</td>\n",
       "      <td>1</td>\n",
       "      <td>0</td>\n",
       "      <td>0</td>\n",
       "      <td>0</td>\n",
       "      <td>0</td>\n",
       "      <td>0</td>\n",
       "      <td>0</td>\n",
       "      <td>0</td>\n",
       "    </tr>\n",
       "    <tr>\n",
       "      <td>1</td>\n",
       "      <td>0</td>\n",
       "      <td>0</td>\n",
       "      <td>5.0</td>\n",
       "      <td>674</td>\n",
       "      <td>2.5</td>\n",
       "      <td>0</td>\n",
       "      <td>0</td>\n",
       "      <td>0</td>\n",
       "      <td>0</td>\n",
       "      <td>0</td>\n",
       "      <td>...</td>\n",
       "      <td>0</td>\n",
       "      <td>0</td>\n",
       "      <td>0</td>\n",
       "      <td>0</td>\n",
       "      <td>0</td>\n",
       "      <td>0</td>\n",
       "      <td>0</td>\n",
       "      <td>0</td>\n",
       "      <td>0</td>\n",
       "      <td>0</td>\n",
       "    </tr>\n",
       "    <tr>\n",
       "      <td>2</td>\n",
       "      <td>0</td>\n",
       "      <td>1</td>\n",
       "      <td>2.0</td>\n",
       "      <td>1532</td>\n",
       "      <td>2.0</td>\n",
       "      <td>0</td>\n",
       "      <td>1</td>\n",
       "      <td>1</td>\n",
       "      <td>0</td>\n",
       "      <td>0</td>\n",
       "      <td>...</td>\n",
       "      <td>0</td>\n",
       "      <td>0</td>\n",
       "      <td>0</td>\n",
       "      <td>0</td>\n",
       "      <td>0</td>\n",
       "      <td>0</td>\n",
       "      <td>0</td>\n",
       "      <td>0</td>\n",
       "      <td>0</td>\n",
       "      <td>0</td>\n",
       "    </tr>\n",
       "    <tr>\n",
       "      <td>3</td>\n",
       "      <td>0</td>\n",
       "      <td>0</td>\n",
       "      <td>1.0</td>\n",
       "      <td>305</td>\n",
       "      <td>1.0</td>\n",
       "      <td>0</td>\n",
       "      <td>0</td>\n",
       "      <td>1</td>\n",
       "      <td>0</td>\n",
       "      <td>0</td>\n",
       "      <td>...</td>\n",
       "      <td>0</td>\n",
       "      <td>0</td>\n",
       "      <td>1</td>\n",
       "      <td>0</td>\n",
       "      <td>0</td>\n",
       "      <td>0</td>\n",
       "      <td>0</td>\n",
       "      <td>0</td>\n",
       "      <td>0</td>\n",
       "      <td>0</td>\n",
       "    </tr>\n",
       "    <tr>\n",
       "      <td>4</td>\n",
       "      <td>0</td>\n",
       "      <td>1</td>\n",
       "      <td>2.0</td>\n",
       "      <td>1428</td>\n",
       "      <td>1.0</td>\n",
       "      <td>0</td>\n",
       "      <td>0</td>\n",
       "      <td>1</td>\n",
       "      <td>0</td>\n",
       "      <td>0</td>\n",
       "      <td>...</td>\n",
       "      <td>0</td>\n",
       "      <td>0</td>\n",
       "      <td>1</td>\n",
       "      <td>0</td>\n",
       "      <td>0</td>\n",
       "      <td>0</td>\n",
       "      <td>0</td>\n",
       "      <td>0</td>\n",
       "      <td>0</td>\n",
       "      <td>0</td>\n",
       "    </tr>\n",
       "  </tbody>\n",
       "</table>\n",
       "<p>5 rows × 129 columns</p>\n",
       "</div>"
      ],
      "text/plain": [
       "   Do Not Email  Converted  TotalVisits  Total Time Spent on Website  \\\n",
       "0             0          0          0.0                            0   \n",
       "1             0          0          5.0                          674   \n",
       "2             0          1          2.0                         1532   \n",
       "3             0          0          1.0                          305   \n",
       "4             0          1          2.0                         1428   \n",
       "\n",
       "   Page Views Per Visit  X Education Forums  \\\n",
       "0                   0.0                   0   \n",
       "1                   2.5                   0   \n",
       "2                   2.0                   0   \n",
       "3                   1.0                   0   \n",
       "4                   1.0                   0   \n",
       "\n",
       "   A free copy of Mastering The Interview  \\\n",
       "0                                       0   \n",
       "1                                       0   \n",
       "2                                       1   \n",
       "3                                       0   \n",
       "4                                       0   \n",
       "\n",
       "   Lead Origin_Landing Page Submission  Lead Origin_Lead Add Form  \\\n",
       "0                                    0                          0   \n",
       "1                                    0                          0   \n",
       "2                                    1                          0   \n",
       "3                                    1                          0   \n",
       "4                                    1                          0   \n",
       "\n",
       "   Lead Origin_Lead Import  ...  \\\n",
       "0                        0  ...   \n",
       "1                        0  ...   \n",
       "2                        0  ...   \n",
       "3                        0  ...   \n",
       "4                        0  ...   \n",
       "\n",
       "   Last Notable Activity_Form Submitted on Website  \\\n",
       "0                                                0   \n",
       "1                                                0   \n",
       "2                                                0   \n",
       "3                                                0   \n",
       "4                                                0   \n",
       "\n",
       "   Last Notable Activity_Had a Phone Conversation  \\\n",
       "0                                               0   \n",
       "1                                               0   \n",
       "2                                               0   \n",
       "3                                               0   \n",
       "4                                               0   \n",
       "\n",
       "   Last Notable Activity_Modified  \\\n",
       "0                               1   \n",
       "1                               0   \n",
       "2                               0   \n",
       "3                               1   \n",
       "4                               1   \n",
       "\n",
       "   Last Notable Activity_Olark Chat Conversation  \\\n",
       "0                                              0   \n",
       "1                                              0   \n",
       "2                                              0   \n",
       "3                                              0   \n",
       "4                                              0   \n",
       "\n",
       "   Last Notable Activity_Page Visited on Website  \\\n",
       "0                                              0   \n",
       "1                                              0   \n",
       "2                                              0   \n",
       "3                                              0   \n",
       "4                                              0   \n",
       "\n",
       "   Last Notable Activity_Resubscribed to emails  \\\n",
       "0                                             0   \n",
       "1                                             0   \n",
       "2                                             0   \n",
       "3                                             0   \n",
       "4                                             0   \n",
       "\n",
       "   Last Notable Activity_SMS Sent  Last Notable Activity_Unreachable  \\\n",
       "0                               0                                  0   \n",
       "1                               0                                  0   \n",
       "2                               0                                  0   \n",
       "3                               0                                  0   \n",
       "4                               0                                  0   \n",
       "\n",
       "   Last Notable Activity_Unsubscribed  \\\n",
       "0                                   0   \n",
       "1                                   0   \n",
       "2                                   0   \n",
       "3                                   0   \n",
       "4                                   0   \n",
       "\n",
       "   Last Notable Activity_View in browser link Clicked  \n",
       "0                                                  0   \n",
       "1                                                  0   \n",
       "2                                                  0   \n",
       "3                                                  0   \n",
       "4                                                  0   \n",
       "\n",
       "[5 rows x 129 columns]"
      ]
     },
     "execution_count": 48,
     "metadata": {},
     "output_type": "execute_result"
    }
   ],
   "source": [
    "df_final1.head()"
   ]
  },
  {
   "cell_type": "code",
   "execution_count": 49,
   "metadata": {},
   "outputs": [
    {
     "data": {
      "text/html": [
       "<div>\n",
       "<style scoped>\n",
       "    .dataframe tbody tr th:only-of-type {\n",
       "        vertical-align: middle;\n",
       "    }\n",
       "\n",
       "    .dataframe tbody tr th {\n",
       "        vertical-align: top;\n",
       "    }\n",
       "\n",
       "    .dataframe thead th {\n",
       "        text-align: right;\n",
       "    }\n",
       "</style>\n",
       "<table border=\"1\" class=\"dataframe\">\n",
       "  <thead>\n",
       "    <tr style=\"text-align: right;\">\n",
       "      <th></th>\n",
       "      <th>TotalVisits</th>\n",
       "      <th>Total Time Spent on Website</th>\n",
       "      <th>Page Views Per Visit</th>\n",
       "    </tr>\n",
       "  </thead>\n",
       "  <tbody>\n",
       "    <tr>\n",
       "      <td>count</td>\n",
       "      <td>9074.000000</td>\n",
       "      <td>9074.000000</td>\n",
       "      <td>9074.000000</td>\n",
       "    </tr>\n",
       "    <tr>\n",
       "      <td>mean</td>\n",
       "      <td>3.456028</td>\n",
       "      <td>482.887481</td>\n",
       "      <td>2.370151</td>\n",
       "    </tr>\n",
       "    <tr>\n",
       "      <td>std</td>\n",
       "      <td>4.858802</td>\n",
       "      <td>545.256560</td>\n",
       "      <td>2.160871</td>\n",
       "    </tr>\n",
       "    <tr>\n",
       "      <td>min</td>\n",
       "      <td>0.000000</td>\n",
       "      <td>0.000000</td>\n",
       "      <td>0.000000</td>\n",
       "    </tr>\n",
       "    <tr>\n",
       "      <td>25%</td>\n",
       "      <td>1.000000</td>\n",
       "      <td>11.000000</td>\n",
       "      <td>1.000000</td>\n",
       "    </tr>\n",
       "    <tr>\n",
       "      <td>50%</td>\n",
       "      <td>3.000000</td>\n",
       "      <td>246.000000</td>\n",
       "      <td>2.000000</td>\n",
       "    </tr>\n",
       "    <tr>\n",
       "      <td>75%</td>\n",
       "      <td>5.000000</td>\n",
       "      <td>922.750000</td>\n",
       "      <td>3.200000</td>\n",
       "    </tr>\n",
       "    <tr>\n",
       "      <td>90%</td>\n",
       "      <td>7.000000</td>\n",
       "      <td>1373.000000</td>\n",
       "      <td>5.000000</td>\n",
       "    </tr>\n",
       "    <tr>\n",
       "      <td>95%</td>\n",
       "      <td>10.000000</td>\n",
       "      <td>1557.000000</td>\n",
       "      <td>6.000000</td>\n",
       "    </tr>\n",
       "    <tr>\n",
       "      <td>99%</td>\n",
       "      <td>17.000000</td>\n",
       "      <td>1839.000000</td>\n",
       "      <td>9.000000</td>\n",
       "    </tr>\n",
       "    <tr>\n",
       "      <td>max</td>\n",
       "      <td>251.000000</td>\n",
       "      <td>2272.000000</td>\n",
       "      <td>55.000000</td>\n",
       "    </tr>\n",
       "  </tbody>\n",
       "</table>\n",
       "</div>"
      ],
      "text/plain": [
       "       TotalVisits  Total Time Spent on Website  Page Views Per Visit\n",
       "count  9074.000000                  9074.000000           9074.000000\n",
       "mean      3.456028                   482.887481              2.370151\n",
       "std       4.858802                   545.256560              2.160871\n",
       "min       0.000000                     0.000000              0.000000\n",
       "25%       1.000000                    11.000000              1.000000\n",
       "50%       3.000000                   246.000000              2.000000\n",
       "75%       5.000000                   922.750000              3.200000\n",
       "90%       7.000000                  1373.000000              5.000000\n",
       "95%      10.000000                  1557.000000              6.000000\n",
       "99%      17.000000                  1839.000000              9.000000\n",
       "max     251.000000                  2272.000000             55.000000"
      ]
     },
     "execution_count": 49,
     "metadata": {},
     "output_type": "execute_result"
    }
   ],
   "source": [
    "df_final1[[\"TotalVisits\",\"Total Time Spent on Website\",\n",
    "           \"Page Views Per Visit\"]].describe(percentiles=[.25,.50,.75,.90,.95,.99])"
   ]
  },
  {
   "cell_type": "code",
   "execution_count": 50,
   "metadata": {},
   "outputs": [
    {
     "data": {
      "text/plain": [
       "Do Not Email                                          0.0\n",
       "Converted                                             0.0\n",
       "TotalVisits                                           0.0\n",
       "Total Time Spent on Website                           0.0\n",
       "Page Views Per Visit                                  0.0\n",
       "                                                     ... \n",
       "Last Notable Activity_Resubscribed to emails          0.0\n",
       "Last Notable Activity_SMS Sent                        0.0\n",
       "Last Notable Activity_Unreachable                     0.0\n",
       "Last Notable Activity_Unsubscribed                    0.0\n",
       "Last Notable Activity_View in browser link Clicked    0.0\n",
       "Length: 129, dtype: float64"
      ]
     },
     "execution_count": 50,
     "metadata": {},
     "output_type": "execute_result"
    }
   ],
   "source": [
    "round(df_final1.isnull().sum()/len(df_final1)*100,2)"
   ]
  },
  {
   "cell_type": "code",
   "execution_count": 51,
   "metadata": {},
   "outputs": [
    {
     "data": {
      "text/plain": [
       "0"
      ]
     },
     "execution_count": 51,
     "metadata": {},
     "output_type": "execute_result"
    }
   ],
   "source": [
    "np.sum(df_final1.isnull().sum())"
   ]
  },
  {
   "cell_type": "code",
   "execution_count": 52,
   "metadata": {},
   "outputs": [],
   "source": [
    "df_final1=df_final1[df_final1[\"Page Views Per Visit\"] <np.quantile(df_final1[\"Page Views Per Visit\"],.99)]"
   ]
  },
  {
   "cell_type": "code",
   "execution_count": 53,
   "metadata": {},
   "outputs": [],
   "source": [
    "df_final1=df_final1[df_final1[\"Total Time Spent on Website\"] <np.quantile(df_final1[\"Total Time Spent on Website\"],.99)]"
   ]
  },
  {
   "cell_type": "code",
   "execution_count": 54,
   "metadata": {},
   "outputs": [],
   "source": [
    "df_final1 = df_final1[df_final1[\"TotalVisits\"] <np.quantile(df_final1[\"TotalVisits\"],.99)]"
   ]
  },
  {
   "cell_type": "code",
   "execution_count": 55,
   "metadata": {},
   "outputs": [
    {
     "data": {
      "text/html": [
       "<div>\n",
       "<style scoped>\n",
       "    .dataframe tbody tr th:only-of-type {\n",
       "        vertical-align: middle;\n",
       "    }\n",
       "\n",
       "    .dataframe tbody tr th {\n",
       "        vertical-align: top;\n",
       "    }\n",
       "\n",
       "    .dataframe thead th {\n",
       "        text-align: right;\n",
       "    }\n",
       "</style>\n",
       "<table border=\"1\" class=\"dataframe\">\n",
       "  <thead>\n",
       "    <tr style=\"text-align: right;\">\n",
       "      <th></th>\n",
       "      <th>TotalVisits</th>\n",
       "      <th>Total Time Spent on Website</th>\n",
       "      <th>Page Views Per Visit</th>\n",
       "    </tr>\n",
       "  </thead>\n",
       "  <tbody>\n",
       "    <tr>\n",
       "      <td>count</td>\n",
       "      <td>8774.000000</td>\n",
       "      <td>8774.00000</td>\n",
       "      <td>8774.000000</td>\n",
       "    </tr>\n",
       "    <tr>\n",
       "      <td>mean</td>\n",
       "      <td>3.083542</td>\n",
       "      <td>463.16811</td>\n",
       "      <td>2.228070</td>\n",
       "    </tr>\n",
       "    <tr>\n",
       "      <td>std</td>\n",
       "      <td>2.816144</td>\n",
       "      <td>526.43761</td>\n",
       "      <td>1.836259</td>\n",
       "    </tr>\n",
       "    <tr>\n",
       "      <td>min</td>\n",
       "      <td>0.000000</td>\n",
       "      <td>0.00000</td>\n",
       "      <td>0.000000</td>\n",
       "    </tr>\n",
       "    <tr>\n",
       "      <td>25%</td>\n",
       "      <td>1.000000</td>\n",
       "      <td>3.00000</td>\n",
       "      <td>1.000000</td>\n",
       "    </tr>\n",
       "    <tr>\n",
       "      <td>50%</td>\n",
       "      <td>3.000000</td>\n",
       "      <td>235.00000</td>\n",
       "      <td>2.000000</td>\n",
       "    </tr>\n",
       "    <tr>\n",
       "      <td>75%</td>\n",
       "      <td>4.000000</td>\n",
       "      <td>882.75000</td>\n",
       "      <td>3.000000</td>\n",
       "    </tr>\n",
       "    <tr>\n",
       "      <td>90%</td>\n",
       "      <td>7.000000</td>\n",
       "      <td>1342.00000</td>\n",
       "      <td>5.000000</td>\n",
       "    </tr>\n",
       "    <tr>\n",
       "      <td>95%</td>\n",
       "      <td>8.000000</td>\n",
       "      <td>1513.00000</td>\n",
       "      <td>6.000000</td>\n",
       "    </tr>\n",
       "    <tr>\n",
       "      <td>99%</td>\n",
       "      <td>13.000000</td>\n",
       "      <td>1730.54000</td>\n",
       "      <td>7.000000</td>\n",
       "    </tr>\n",
       "    <tr>\n",
       "      <td>max</td>\n",
       "      <td>16.000000</td>\n",
       "      <td>1837.00000</td>\n",
       "      <td>8.000000</td>\n",
       "    </tr>\n",
       "  </tbody>\n",
       "</table>\n",
       "</div>"
      ],
      "text/plain": [
       "       TotalVisits  Total Time Spent on Website  Page Views Per Visit\n",
       "count  8774.000000                   8774.00000           8774.000000\n",
       "mean      3.083542                    463.16811              2.228070\n",
       "std       2.816144                    526.43761              1.836259\n",
       "min       0.000000                      0.00000              0.000000\n",
       "25%       1.000000                      3.00000              1.000000\n",
       "50%       3.000000                    235.00000              2.000000\n",
       "75%       4.000000                    882.75000              3.000000\n",
       "90%       7.000000                   1342.00000              5.000000\n",
       "95%       8.000000                   1513.00000              6.000000\n",
       "99%      13.000000                   1730.54000              7.000000\n",
       "max      16.000000                   1837.00000              8.000000"
      ]
     },
     "execution_count": 55,
     "metadata": {},
     "output_type": "execute_result"
    }
   ],
   "source": [
    "df_final1[[\"TotalVisits\",\"Total Time Spent on Website\",\n",
    "           \"Page Views Per Visit\"]].describe(percentiles=[.25,.50,.75,.90,.95,.99])"
   ]
  },
  {
   "cell_type": "code",
   "execution_count": 56,
   "metadata": {},
   "outputs": [
    {
     "data": {
      "image/png": "[encoded data removed]",
      "text/plain": [
       "<Figure size 1080x288 with 3 Axes>"
      ]
     },
     "metadata": {
      "needs_background": "light"
     },
     "output_type": "display_data"
    }
   ],
   "source": [
    "fig,axes = plt.subplots(1,3,figsize=(15,4)) # After dropping 1% of the outliers from right\n",
    "for col,ax in zip([\"TotalVisits\",\"Total Time Spent on Website\",\"Page Views Per Visit\"],axes):\n",
    "    sns.boxplot(df_final1[col],ax=ax)"
   ]
  },
  {
   "cell_type": "code",
   "execution_count": 57,
   "metadata": {},
   "outputs": [
    {
     "data": {
      "text/plain": [
       "0"
      ]
     },
     "execution_count": 57,
     "metadata": {},
     "output_type": "execute_result"
    }
   ],
   "source": [
    "np.sum(df_final1.isnull().sum())"
   ]
  },
  {
   "cell_type": "code",
   "execution_count": 58,
   "metadata": {},
   "outputs": [
    {
     "data": {
      "text/plain": [
       "Do Not Email                                  0.0\n",
       "Converted                                     0.0\n",
       "TotalVisits                                   0.0\n",
       "Total Time Spent on Website                   0.0\n",
       "Page Views Per Visit                          0.0\n",
       "X Education Forums                            0.0\n",
       "A free copy of Mastering The Interview        0.0\n",
       "Lead Origin_Landing Page Submission           0.0\n",
       "Lead Origin_Lead Add Form                     0.0\n",
       "Lead Origin_Lead Import                       0.0\n",
       "Lead Source_Direct Traffic                    0.0\n",
       "Lead Source_Facebook                          0.0\n",
       "Lead Source_Google                            0.0\n",
       "Lead Source_Live Chat                         0.0\n",
       "Lead Source_NC_EDM                            0.0\n",
       "Lead Source_Olark Chat                        1.0\n",
       "Lead Source_Organic Search                    0.0\n",
       "Lead Source_Pay per Click Ads                 0.0\n",
       "Lead Source_Press_Release                     0.0\n",
       "Lead Source_Reference                         0.0\n",
       "Lead Source_Referral Sites                    0.0\n",
       "Lead Source_Social Media                      0.0\n",
       "Lead Source_WeLearn                           0.0\n",
       "Lead Source_Welingak Website                  0.0\n",
       "Lead Source_bing                              0.0\n",
       "Lead Source_blog                              0.0\n",
       "Lead Source_google                            0.0\n",
       "Lead Source_testone                           0.0\n",
       "Lead Source_welearnblog_Home                  0.0\n",
       "Lead Source_youtubechannel                    0.0\n",
       "Last Activity_Converted to Lead               0.0\n",
       "Last Activity_Email Bounced                   0.0\n",
       "Last Activity_Email Link Clicked              0.0\n",
       "Last Activity_Email Marked Spam               0.0\n",
       "Last Activity_Email Opened                    0.0\n",
       "Last Activity_Email Received                  0.0\n",
       "Last Activity_Form Submitted on Website       0.0\n",
       "Last Activity_Had a Phone Conversation        0.0\n",
       "Last Activity_Olark Chat Conversation         0.0\n",
       "Last Activity_Page Visited on Website         1.0\n",
       "Last Activity_Resubscribed to emails          0.0\n",
       "Last Activity_SMS Sent                        0.0\n",
       "Last Activity_Unreachable                     0.0\n",
       "Last Activity_Unsubscribed                    0.0\n",
       "Last Activity_View in browser link Clicked    0.0\n",
       "Last Activity_Visited Booth in Tradeshow      0.0\n",
       "Name: 0, dtype: float64"
      ]
     },
     "execution_count": 58,
     "metadata": {},
     "output_type": "execute_result"
    }
   ],
   "source": [
    "df_final1.iloc[0][:46] # Cursory look at all the columns"
   ]
  },
  {
   "cell_type": "code",
   "execution_count": 59,
   "metadata": {},
   "outputs": [
    {
     "data": {
      "text/plain": [
       "Country_Australia               0.0\n",
       "Country_Bahrain                 0.0\n",
       "Country_Bangladesh              0.0\n",
       "Country_Belgium                 0.0\n",
       "Country_Canada                  0.0\n",
       "Country_China                   0.0\n",
       "Country_Denmark                 0.0\n",
       "Country_France                  0.0\n",
       "Country_Germany                 0.0\n",
       "Country_Ghana                   0.0\n",
       "Country_Hong Kong               0.0\n",
       "Country_India                   0.0\n",
       "Country_Indonesia               0.0\n",
       "Country_Italy                   0.0\n",
       "Country_Kenya                   0.0\n",
       "Country_Kuwait                  0.0\n",
       "Country_Liberia                 0.0\n",
       "Country_Malaysia                0.0\n",
       "Country_Netherlands             0.0\n",
       "Country_Nigeria                 0.0\n",
       "Country_Oman                    0.0\n",
       "Country_Philippines             0.0\n",
       "Country_Qatar                   0.0\n",
       "Country_Russia                  0.0\n",
       "Country_Saudi Arabia            0.0\n",
       "Country_Singapore               0.0\n",
       "Country_South Africa            0.0\n",
       "Country_Sri Lanka               0.0\n",
       "Country_Sweden                  0.0\n",
       "Country_Switzerland             0.0\n",
       "Country_Tanzania                0.0\n",
       "Country_Uganda                  0.0\n",
       "Country_United Arab Emirates    0.0\n",
       "Country_United Kingdom          0.0\n",
       "Country_United States           0.0\n",
       "Country_Vietnam                 0.0\n",
       "Country_unknown                 1.0\n",
       "Name: 0, dtype: float64"
      ]
     },
     "execution_count": 59,
     "metadata": {},
     "output_type": "execute_result"
    }
   ],
   "source": [
    "df_final1.iloc[0][46:83] # Cursory look at all the columns"
   ]
  },
  {
   "cell_type": "code",
   "execution_count": 60,
   "metadata": {},
   "outputs": [
    {
     "data": {
      "text/plain": [
       "Specialization_Business Administration                                     0.0\n",
       "Specialization_E-Business                                                  0.0\n",
       "Specialization_E-COMMERCE                                                  0.0\n",
       "Specialization_Finance Management                                          0.0\n",
       "Specialization_Healthcare Management                                       0.0\n",
       "Specialization_Hospitality Management                                      0.0\n",
       "Specialization_Human Resource Management                                   0.0\n",
       "Specialization_IT Projects Management                                      0.0\n",
       "Specialization_International Business                                      0.0\n",
       "Specialization_Marketing Management                                        0.0\n",
       "Specialization_Media and Advertising                                       0.0\n",
       "Specialization_Operations Management                                       0.0\n",
       "Specialization_Other                                                       1.0\n",
       "Specialization_Retail Management                                           0.0\n",
       "Specialization_Rural and Agribusiness                                      0.0\n",
       "Specialization_Services Excellence                                         0.0\n",
       "Specialization_Supply Chain Management                                     0.0\n",
       "Specialization_Travel and Tourism                                          0.0\n",
       "What is your current occupation_Housewife                                  0.0\n",
       "What is your current occupation_Other                                      0.0\n",
       "What is your current occupation_Student                                    0.0\n",
       "What is your current occupation_Unemployed                                 1.0\n",
       "What is your current occupation_Working Professional                       0.0\n",
       "What matters most to you in choosing a course_Flexibility & Convenience    0.0\n",
       "What matters most to you in choosing a course_Other                        0.0\n",
       "What matters most to you in choosing a course_Unknown                      0.0\n",
       "Name: 0, dtype: float64"
      ]
     },
     "execution_count": 60,
     "metadata": {},
     "output_type": "execute_result"
    }
   ],
   "source": [
    "df_final1.iloc[0][83:109] # Cursory look at all the columns"
   ]
  },
  {
   "cell_type": "code",
   "execution_count": 61,
   "metadata": {},
   "outputs": [
    {
     "data": {
      "text/plain": [
       "City_Other Cities                                     1.0\n",
       "City_Other Cities of Maharashtra                      0.0\n",
       "City_Other Metro Cities                               0.0\n",
       "City_Thane & Outskirts                                0.0\n",
       "City_Tier II Cities                                   0.0\n",
       "Last Notable Activity_Email Bounced                   0.0\n",
       "Last Notable Activity_Email Link Clicked              0.0\n",
       "Last Notable Activity_Email Marked Spam               0.0\n",
       "Last Notable Activity_Email Opened                    0.0\n",
       "Last Notable Activity_Email Received                  0.0\n",
       "Last Notable Activity_Form Submitted on Website       0.0\n",
       "Last Notable Activity_Had a Phone Conversation        0.0\n",
       "Last Notable Activity_Modified                        1.0\n",
       "Last Notable Activity_Olark Chat Conversation         0.0\n",
       "Last Notable Activity_Page Visited on Website         0.0\n",
       "Last Notable Activity_Resubscribed to emails          0.0\n",
       "Last Notable Activity_SMS Sent                        0.0\n",
       "Last Notable Activity_Unreachable                     0.0\n",
       "Last Notable Activity_Unsubscribed                    0.0\n",
       "Last Notable Activity_View in browser link Clicked    0.0\n",
       "Name: 0, dtype: float64"
      ]
     },
     "execution_count": 61,
     "metadata": {},
     "output_type": "execute_result"
    }
   ],
   "source": [
    "df_final1.iloc[0][109:] # Cursory look at all the columns"
   ]
  },
  {
   "cell_type": "code",
   "execution_count": 62,
   "metadata": {},
   "outputs": [
    {
     "data": {
      "text/plain": [
       "129"
      ]
     },
     "execution_count": 62,
     "metadata": {},
     "output_type": "execute_result"
    }
   ],
   "source": [
    "len(df_final1.columns)"
   ]
  },
  {
   "cell_type": "code",
   "execution_count": 63,
   "metadata": {},
   "outputs": [],
   "source": [
    "from sklearn.model_selection import train_test_split"
   ]
  },
  {
   "cell_type": "code",
   "execution_count": 64,
   "metadata": {},
   "outputs": [],
   "source": [
    "X =df_final1.drop(\"Converted\",axis=1)"
   ]
  },
  {
   "cell_type": "code",
   "execution_count": 65,
   "metadata": {},
   "outputs": [],
   "source": [
    "y = df_final1[\"Converted\"]"
   ]
  },
  {
   "cell_type": "code",
   "execution_count": 66,
   "metadata": {},
   "outputs": [
    {
     "data": {
      "text/plain": [
       "(8774,)"
      ]
     },
     "execution_count": 66,
     "metadata": {},
     "output_type": "execute_result"
    }
   ],
   "source": [
    "y.shape"
   ]
  },
  {
   "cell_type": "code",
   "execution_count": 67,
   "metadata": {},
   "outputs": [
    {
     "data": {
      "text/plain": [
       "(8774, 128)"
      ]
     },
     "execution_count": 67,
     "metadata": {},
     "output_type": "execute_result"
    }
   ],
   "source": [
    "X.shape"
   ]
  },
  {
   "cell_type": "code",
   "execution_count": 68,
   "metadata": {},
   "outputs": [],
   "source": [
    "X_train, X_test, y_train, y_test = train_test_split(X, y, test_size=0.30, random_state=42)"
   ]
  },
  {
   "cell_type": "code",
   "execution_count": 69,
   "metadata": {},
   "outputs": [],
   "source": [
    "from sklearn.preprocessing import StandardScaler"
   ]
  },
  {
   "cell_type": "code",
   "execution_count": 70,
   "metadata": {},
   "outputs": [],
   "source": [
    "scaler = StandardScaler()"
   ]
  },
  {
   "cell_type": "code",
   "execution_count": 71,
   "metadata": {},
   "outputs": [],
   "source": [
    "X_train[[\"TotalVisits\",\"Total Time Spent on Website\",\"Page Views Per Visit\"]]= scaler.fit_transform(X_train[[\"TotalVisits\",\"Total Time Spent on Website\",\n",
    "                                                                                                             \"Page Views Per Visit\"]])"
   ]
  },
  {
   "cell_type": "code",
   "execution_count": 72,
   "metadata": {},
   "outputs": [
    {
     "data": {
      "text/html": [
       "<div>\n",
       "<style scoped>\n",
       "    .dataframe tbody tr th:only-of-type {\n",
       "        vertical-align: middle;\n",
       "    }\n",
       "\n",
       "    .dataframe tbody tr th {\n",
       "        vertical-align: top;\n",
       "    }\n",
       "\n",
       "    .dataframe thead th {\n",
       "        text-align: right;\n",
       "    }\n",
       "</style>\n",
       "<table border=\"1\" class=\"dataframe\">\n",
       "  <thead>\n",
       "    <tr style=\"text-align: right;\">\n",
       "      <th></th>\n",
       "      <th>Do Not Email</th>\n",
       "      <th>TotalVisits</th>\n",
       "      <th>Total Time Spent on Website</th>\n",
       "      <th>Page Views Per Visit</th>\n",
       "      <th>X Education Forums</th>\n",
       "      <th>A free copy of Mastering The Interview</th>\n",
       "      <th>Lead Origin_Landing Page Submission</th>\n",
       "      <th>Lead Origin_Lead Add Form</th>\n",
       "      <th>Lead Origin_Lead Import</th>\n",
       "      <th>Lead Source_Direct Traffic</th>\n",
       "      <th>...</th>\n",
       "      <th>Last Notable Activity_Form Submitted on Website</th>\n",
       "      <th>Last Notable Activity_Had a Phone Conversation</th>\n",
       "      <th>Last Notable Activity_Modified</th>\n",
       "      <th>Last Notable Activity_Olark Chat Conversation</th>\n",
       "      <th>Last Notable Activity_Page Visited on Website</th>\n",
       "      <th>Last Notable Activity_Resubscribed to emails</th>\n",
       "      <th>Last Notable Activity_SMS Sent</th>\n",
       "      <th>Last Notable Activity_Unreachable</th>\n",
       "      <th>Last Notable Activity_Unsubscribed</th>\n",
       "      <th>Last Notable Activity_View in browser link Clicked</th>\n",
       "    </tr>\n",
       "  </thead>\n",
       "  <tbody>\n",
       "    <tr>\n",
       "      <td>4420</td>\n",
       "      <td>0</td>\n",
       "      <td>1.767944</td>\n",
       "      <td>1.974439</td>\n",
       "      <td>3.17281</td>\n",
       "      <td>0</td>\n",
       "      <td>1</td>\n",
       "      <td>1</td>\n",
       "      <td>0</td>\n",
       "      <td>0</td>\n",
       "      <td>1</td>\n",
       "      <td>...</td>\n",
       "      <td>0</td>\n",
       "      <td>0</td>\n",
       "      <td>0</td>\n",
       "      <td>0</td>\n",
       "      <td>0</td>\n",
       "      <td>0</td>\n",
       "      <td>0</td>\n",
       "      <td>0</td>\n",
       "      <td>0</td>\n",
       "      <td>0</td>\n",
       "    </tr>\n",
       "  </tbody>\n",
       "</table>\n",
       "<p>1 rows × 128 columns</p>\n",
       "</div>"
      ],
      "text/plain": [
       "      Do Not Email  TotalVisits  Total Time Spent on Website  \\\n",
       "4420             0     1.767944                     1.974439   \n",
       "\n",
       "      Page Views Per Visit  X Education Forums  \\\n",
       "4420               3.17281                   0   \n",
       "\n",
       "      A free copy of Mastering The Interview  \\\n",
       "4420                                       1   \n",
       "\n",
       "      Lead Origin_Landing Page Submission  Lead Origin_Lead Add Form  \\\n",
       "4420                                    1                          0   \n",
       "\n",
       "      Lead Origin_Lead Import  Lead Source_Direct Traffic  ...  \\\n",
       "4420                        0                           1  ...   \n",
       "\n",
       "      Last Notable Activity_Form Submitted on Website  \\\n",
       "4420                                                0   \n",
       "\n",
       "      Last Notable Activity_Had a Phone Conversation  \\\n",
       "4420                                               0   \n",
       "\n",
       "      Last Notable Activity_Modified  \\\n",
       "4420                               0   \n",
       "\n",
       "      Last Notable Activity_Olark Chat Conversation  \\\n",
       "4420                                              0   \n",
       "\n",
       "      Last Notable Activity_Page Visited on Website  \\\n",
       "4420                                              0   \n",
       "\n",
       "      Last Notable Activity_Resubscribed to emails  \\\n",
       "4420                                             0   \n",
       "\n",
       "      Last Notable Activity_SMS Sent  Last Notable Activity_Unreachable  \\\n",
       "4420                               0                                  0   \n",
       "\n",
       "      Last Notable Activity_Unsubscribed  \\\n",
       "4420                                   0   \n",
       "\n",
       "      Last Notable Activity_View in browser link Clicked  \n",
       "4420                                                  0   \n",
       "\n",
       "[1 rows x 128 columns]"
      ]
     },
     "execution_count": 72,
     "metadata": {},
     "output_type": "execute_result"
    }
   ],
   "source": [
    "X_train[:1]"
   ]
  },
  {
   "cell_type": "code",
   "execution_count": 73,
   "metadata": {},
   "outputs": [
    {
     "data": {
      "text/plain": [
       "0.3750854798267609"
      ]
     },
     "execution_count": 73,
     "metadata": {},
     "output_type": "execute_result"
    }
   ],
   "source": [
    "df_final1[\"Converted\"].sum()/len(df_final1)"
   ]
  },
  {
   "cell_type": "code",
   "execution_count": 74,
   "metadata": {},
   "outputs": [
    {
     "data": {
      "text/plain": [
       "<matplotlib.axes._subplots.AxesSubplot at 0x29325aae808>"
      ]
     },
     "execution_count": 74,
     "metadata": {},
     "output_type": "execute_result"
    },
    {
     "data": {
      "image/png": "[encoded data removed]",
      "text/plain": [
       "<Figure size 1296x432 with 2 Axes>"
      ]
     },
     "metadata": {
      "needs_background": "light"
     },
     "output_type": "display_data"
    }
   ],
   "source": [
    "plt.figure(figsize=(18,6))\n",
    "sns.heatmap(df_final1)"
   ]
  },
  {
   "cell_type": "code",
   "execution_count": 75,
   "metadata": {},
   "outputs": [],
   "source": [
    "import statsmodels.api as sm"
   ]
  },
  {
   "cell_type": "code",
   "execution_count": 76,
   "metadata": {},
   "outputs": [
    {
     "data": {
      "text/html": [
       "<table class=\"simpletable\">\n",
       "<caption>Generalized Linear Model Regression Results</caption>\n",
       "<tr>\n",
       "  <th>Dep. Variable:</th>       <td>Converted</td>    <th>  No. Observations:  </th>  <td>  6141</td> \n",
       "</tr>\n",
       "<tr>\n",
       "  <th>Model:</th>                  <td>GLM</td>       <th>  Df Residuals:      </th>  <td>  6022</td> \n",
       "</tr>\n",
       "<tr>\n",
       "  <th>Model Family:</th>        <td>Binomial</td>     <th>  Df Model:          </th>  <td>   118</td> \n",
       "</tr>\n",
       "<tr>\n",
       "  <th>Link Function:</th>         <td>logit</td>      <th>  Scale:             </th> <td>  1.0000</td>\n",
       "</tr>\n",
       "<tr>\n",
       "  <th>Method:</th>                <td>IRLS</td>       <th>  Log-Likelihood:    </th> <td>     nan</td>\n",
       "</tr>\n",
       "<tr>\n",
       "  <th>Date:</th>            <td>Mon, 20 Apr 2020</td> <th>  Deviance:          </th> <td>     nan</td>\n",
       "</tr>\n",
       "<tr>\n",
       "  <th>Time:</th>                <td>20:37:05</td>     <th>  Pearson chi2:      </th> <td>6.23e+18</td>\n",
       "</tr>\n",
       "<tr>\n",
       "  <th>No. Iterations:</th>         <td>100</td>       <th>                     </th>     <td> </td>   \n",
       "</tr>\n",
       "<tr>\n",
       "  <th>Covariance Type:</th>     <td>nonrobust</td>    <th>                     </th>     <td> </td>   \n",
       "</tr>\n",
       "</table>\n",
       "<table class=\"simpletable\">\n",
       "<tr>\n",
       "                                     <td></td>                                        <th>coef</th>     <th>std err</th>      <th>z</th>      <th>P>|z|</th>  <th>[0.025</th>    <th>0.975]</th>  \n",
       "</tr>\n",
       "<tr>\n",
       "  <th>const</th>                                                                   <td>-2.973e+15</td> <td>  9.1e+07</td> <td>-3.27e+07</td> <td> 0.000</td> <td>-2.97e+15</td> <td>-2.97e+15</td>\n",
       "</tr>\n",
       "<tr>\n",
       "  <th>Do Not Email</th>                                                            <td>-6.211e+14</td> <td> 4.61e+06</td> <td>-1.35e+08</td> <td> 0.000</td> <td>-6.21e+14</td> <td>-6.21e+14</td>\n",
       "</tr>\n",
       "<tr>\n",
       "  <th>TotalVisits</th>                                                             <td> 3.835e+13</td> <td> 1.36e+06</td> <td> 2.83e+07</td> <td> 0.000</td> <td> 3.84e+13</td> <td> 3.84e+13</td>\n",
       "</tr>\n",
       "<tr>\n",
       "  <th>Total Time Spent on Website</th>                                             <td>  1.96e+14</td> <td> 1.01e+06</td> <td> 1.94e+08</td> <td> 0.000</td> <td> 1.96e+14</td> <td> 1.96e+14</td>\n",
       "</tr>\n",
       "<tr>\n",
       "  <th>Page Views Per Visit</th>                                                    <td> 4.708e+13</td> <td>  1.5e+06</td> <td> 3.14e+07</td> <td> 0.000</td> <td> 4.71e+13</td> <td> 4.71e+13</td>\n",
       "</tr>\n",
       "<tr>\n",
       "  <th>X Education Forums</th>                                                      <td>  -38.8978</td> <td> 7.12e-07</td> <td>-5.46e+07</td> <td> 0.000</td> <td>  -38.898</td> <td>  -38.898</td>\n",
       "</tr>\n",
       "<tr>\n",
       "  <th>A free copy of Mastering The Interview</th>                                  <td>  1.37e+14</td> <td> 2.78e+06</td> <td> 4.92e+07</td> <td> 0.000</td> <td> 1.37e+14</td> <td> 1.37e+14</td>\n",
       "</tr>\n",
       "<tr>\n",
       "  <th>Lead Origin_Landing Page Submission</th>                                     <td>-6.344e+14</td> <td>  3.7e+06</td> <td>-1.71e+08</td> <td> 0.000</td> <td>-6.34e+14</td> <td>-6.34e+14</td>\n",
       "</tr>\n",
       "<tr>\n",
       "  <th>Lead Origin_Lead Add Form</th>                                               <td>-5.259e+14</td> <td> 4.76e+07</td> <td> -1.1e+07</td> <td> 0.000</td> <td>-5.26e+14</td> <td>-5.26e+14</td>\n",
       "</tr>\n",
       "<tr>\n",
       "  <th>Lead Origin_Lead Import</th>                                                 <td> 1.697e+15</td> <td> 7.23e+07</td> <td> 2.35e+07</td> <td> 0.000</td> <td>  1.7e+15</td> <td>  1.7e+15</td>\n",
       "</tr>\n",
       "<tr>\n",
       "  <th>Lead Source_Direct Traffic</th>                                              <td> 5.317e+15</td> <td> 8.28e+07</td> <td> 6.42e+07</td> <td> 0.000</td> <td> 5.32e+15</td> <td> 5.32e+15</td>\n",
       "</tr>\n",
       "<tr>\n",
       "  <th>Lead Source_Facebook</th>                                                    <td> 2.538e+15</td> <td> 1.09e+08</td> <td> 2.34e+07</td> <td> 0.000</td> <td> 2.54e+15</td> <td> 2.54e+15</td>\n",
       "</tr>\n",
       "<tr>\n",
       "  <th>Lead Source_Google</th>                                                      <td> 5.405e+15</td> <td> 8.28e+07</td> <td> 6.53e+07</td> <td> 0.000</td> <td>  5.4e+15</td> <td>  5.4e+15</td>\n",
       "</tr>\n",
       "<tr>\n",
       "  <th>Lead Source_Live Chat</th>                                                   <td> 8.651e+15</td> <td> 9.51e+07</td> <td>  9.1e+07</td> <td> 0.000</td> <td> 8.65e+15</td> <td> 8.65e+15</td>\n",
       "</tr>\n",
       "<tr>\n",
       "  <th>Lead Source_NC_EDM</th>                                                      <td> 1.215e+16</td> <td> 1.07e+08</td> <td> 1.14e+08</td> <td> 0.000</td> <td> 1.22e+16</td> <td> 1.22e+16</td>\n",
       "</tr>\n",
       "<tr>\n",
       "  <th>Lead Source_Olark Chat</th>                                                  <td> 5.395e+15</td> <td> 8.24e+07</td> <td> 6.55e+07</td> <td> 0.000</td> <td>  5.4e+15</td> <td>  5.4e+15</td>\n",
       "</tr>\n",
       "<tr>\n",
       "  <th>Lead Source_Organic Search</th>                                              <td> 5.284e+15</td> <td> 8.28e+07</td> <td> 6.38e+07</td> <td> 0.000</td> <td> 5.28e+15</td> <td> 5.28e+15</td>\n",
       "</tr>\n",
       "<tr>\n",
       "  <th>Lead Source_Pay per Click Ads</th>                                           <td> 9.597e+14</td> <td> 1.07e+08</td> <td>    9e+06</td> <td> 0.000</td> <td>  9.6e+14</td> <td>  9.6e+14</td>\n",
       "</tr>\n",
       "<tr>\n",
       "  <th>Lead Source_Press_Release</th>                                               <td> 3.832e+15</td> <td> 1.07e+08</td> <td> 3.58e+07</td> <td> 0.000</td> <td> 3.83e+15</td> <td> 3.83e+15</td>\n",
       "</tr>\n",
       "<tr>\n",
       "  <th>Lead Source_Reference</th>                                                   <td> 6.783e+15</td> <td> 6.74e+07</td> <td> 1.01e+08</td> <td> 0.000</td> <td> 6.78e+15</td> <td> 6.78e+15</td>\n",
       "</tr>\n",
       "<tr>\n",
       "  <th>Lead Source_Referral Sites</th>                                              <td> 5.225e+15</td> <td> 8.32e+07</td> <td> 6.28e+07</td> <td> 0.000</td> <td> 5.22e+15</td> <td> 5.22e+15</td>\n",
       "</tr>\n",
       "<tr>\n",
       "  <th>Lead Source_Social Media</th>                                                <td> 9.592e+15</td> <td> 1.07e+08</td> <td> 8.99e+07</td> <td> 0.000</td> <td> 9.59e+15</td> <td> 9.59e+15</td>\n",
       "</tr>\n",
       "<tr>\n",
       "  <th>Lead Source_WeLearn</th>                                                     <td> 8.466e+15</td> <td> 1.07e+08</td> <td> 7.93e+07</td> <td> 0.000</td> <td> 8.47e+15</td> <td> 8.47e+15</td>\n",
       "</tr>\n",
       "<tr>\n",
       "  <th>Lead Source_Welingak Website</th>                                            <td> 1.047e+16</td> <td> 6.77e+07</td> <td> 1.55e+08</td> <td> 0.000</td> <td> 1.05e+16</td> <td> 1.05e+16</td>\n",
       "</tr>\n",
       "<tr>\n",
       "  <th>Lead Source_bing</th>                                                        <td> 5.161e+15</td> <td> 8.81e+07</td> <td> 5.86e+07</td> <td> 0.000</td> <td> 5.16e+15</td> <td> 5.16e+15</td>\n",
       "</tr>\n",
       "<tr>\n",
       "  <th>Lead Source_blog</th>                                                        <td> 3.772e+15</td> <td> 1.07e+08</td> <td> 3.53e+07</td> <td> 0.000</td> <td> 3.77e+15</td> <td> 3.77e+15</td>\n",
       "</tr>\n",
       "<tr>\n",
       "  <th>Lead Source_google</th>                                                      <td> 3.917e+15</td> <td> 9.57e+07</td> <td> 4.09e+07</td> <td> 0.000</td> <td> 3.92e+15</td> <td> 3.92e+15</td>\n",
       "</tr>\n",
       "<tr>\n",
       "  <th>Lead Source_testone</th>                                                     <td> 2.027e+15</td> <td> 1.07e+08</td> <td>  1.9e+07</td> <td> 0.000</td> <td> 2.03e+15</td> <td> 2.03e+15</td>\n",
       "</tr>\n",
       "<tr>\n",
       "  <th>Lead Source_welearnblog_Home</th>                                            <td> 2.201e+15</td> <td> 1.07e+08</td> <td> 2.06e+07</td> <td> 0.000</td> <td>  2.2e+15</td> <td>  2.2e+15</td>\n",
       "</tr>\n",
       "<tr>\n",
       "  <th>Lead Source_youtubechannel</th>                                              <td> 6.266e+15</td> <td> 1.27e+08</td> <td> 4.95e+07</td> <td> 0.000</td> <td> 6.27e+15</td> <td> 6.27e+15</td>\n",
       "</tr>\n",
       "<tr>\n",
       "  <th>Last Activity_Converted to Lead</th>                                         <td>-3.947e+15</td> <td> 4.77e+07</td> <td>-8.28e+07</td> <td> 0.000</td> <td>-3.95e+15</td> <td>-3.95e+15</td>\n",
       "</tr>\n",
       "<tr>\n",
       "  <th>Last Activity_Email Bounced</th>                                             <td> -3.87e+15</td> <td>  4.8e+07</td> <td>-8.07e+07</td> <td> 0.000</td> <td>-3.87e+15</td> <td>-3.87e+15</td>\n",
       "</tr>\n",
       "<tr>\n",
       "  <th>Last Activity_Email Link Clicked</th>                                        <td> -3.82e+15</td> <td> 4.82e+07</td> <td>-7.92e+07</td> <td> 0.000</td> <td>-3.82e+15</td> <td>-3.82e+15</td>\n",
       "</tr>\n",
       "<tr>\n",
       "  <th>Last Activity_Email Marked Spam</th>                                         <td>-2.204e+14</td> <td> 3.94e+07</td> <td>-5.59e+06</td> <td> 0.000</td> <td> -2.2e+14</td> <td> -2.2e+14</td>\n",
       "</tr>\n",
       "<tr>\n",
       "  <th>Last Activity_Email Opened</th>                                              <td>-4.131e+15</td> <td> 4.76e+07</td> <td>-8.67e+07</td> <td> 0.000</td> <td>-4.13e+15</td> <td>-4.13e+15</td>\n",
       "</tr>\n",
       "<tr>\n",
       "  <th>Last Activity_Email Received</th>                                            <td> 2.184e+14</td> <td> 8.23e+07</td> <td> 2.65e+06</td> <td> 0.000</td> <td> 2.18e+14</td> <td> 2.18e+14</td>\n",
       "</tr>\n",
       "<tr>\n",
       "  <th>Last Activity_Form Submitted on Website</th>                                 <td>-3.783e+15</td> <td> 4.81e+07</td> <td>-7.86e+07</td> <td> 0.000</td> <td>-3.78e+15</td> <td>-3.78e+15</td>\n",
       "</tr>\n",
       "<tr>\n",
       "  <th>Last Activity_Had a Phone Conversation</th>                                  <td>-3.667e+15</td> <td> 5.39e+07</td> <td> -6.8e+07</td> <td> 0.000</td> <td>-3.67e+15</td> <td>-3.67e+15</td>\n",
       "</tr>\n",
       "<tr>\n",
       "  <th>Last Activity_Olark Chat Conversation</th>                                   <td>-3.279e+15</td> <td> 4.76e+07</td> <td>-6.89e+07</td> <td> 0.000</td> <td>-3.28e+15</td> <td>-3.28e+15</td>\n",
       "</tr>\n",
       "<tr>\n",
       "  <th>Last Activity_Page Visited on Website</th>                                   <td> -3.89e+15</td> <td> 4.78e+07</td> <td>-8.14e+07</td> <td> 0.000</td> <td>-3.89e+15</td> <td>-3.89e+15</td>\n",
       "</tr>\n",
       "<tr>\n",
       "  <th>Last Activity_Resubscribed to emails</th>                                    <td>  -79.3516</td> <td> 1.49e-06</td> <td>-5.32e+07</td> <td> 0.000</td> <td>  -79.352</td> <td>  -79.352</td>\n",
       "</tr>\n",
       "<tr>\n",
       "  <th>Last Activity_SMS Sent</th>                                                  <td>-3.693e+15</td> <td> 4.76e+07</td> <td>-7.75e+07</td> <td> 0.000</td> <td>-3.69e+15</td> <td>-3.69e+15</td>\n",
       "</tr>\n",
       "<tr>\n",
       "  <th>Last Activity_Unreachable</th>                                               <td>-4.092e+15</td> <td> 4.89e+07</td> <td>-8.37e+07</td> <td> 0.000</td> <td>-4.09e+15</td> <td>-4.09e+15</td>\n",
       "</tr>\n",
       "<tr>\n",
       "  <th>Last Activity_Unsubscribed</th>                                              <td>-4.388e+15</td> <td> 5.27e+07</td> <td>-8.33e+07</td> <td> 0.000</td> <td>-4.39e+15</td> <td>-4.39e+15</td>\n",
       "</tr>\n",
       "<tr>\n",
       "  <th>Last Activity_View in browser link Clicked</th>                              <td>-8.913e+15</td> <td> 8.23e+07</td> <td>-1.08e+08</td> <td> 0.000</td> <td>-8.91e+15</td> <td>-8.91e+15</td>\n",
       "</tr>\n",
       "<tr>\n",
       "  <th>Last Activity_Visited Booth in Tradeshow</th>                                <td>   58.9352</td> <td> 9.93e-07</td> <td> 5.94e+07</td> <td> 0.000</td> <td>   58.935</td> <td>   58.935</td>\n",
       "</tr>\n",
       "<tr>\n",
       "  <th>Country_Australia</th>                                                       <td> 1.198e+15</td> <td> 2.26e+07</td> <td> 5.29e+07</td> <td> 0.000</td> <td>  1.2e+15</td> <td>  1.2e+15</td>\n",
       "</tr>\n",
       "<tr>\n",
       "  <th>Country_Bahrain</th>                                                         <td> 3.018e+15</td> <td> 3.07e+07</td> <td> 9.84e+07</td> <td> 0.000</td> <td> 3.02e+15</td> <td> 3.02e+15</td>\n",
       "</tr>\n",
       "<tr>\n",
       "  <th>Country_Bangladesh</th>                                                      <td> 5.709e+15</td> <td> 6.61e+07</td> <td> 8.64e+07</td> <td> 0.000</td> <td> 5.71e+15</td> <td> 5.71e+15</td>\n",
       "</tr>\n",
       "<tr>\n",
       "  <th>Country_Belgium</th>                                                         <td>   -1.9429</td> <td> 1.08e-06</td> <td>-1.79e+06</td> <td> 0.000</td> <td>   -1.943</td> <td>   -1.943</td>\n",
       "</tr>\n",
       "<tr>\n",
       "  <th>Country_Canada</th>                                                          <td>-3.013e+15</td> <td> 6.61e+07</td> <td>-4.56e+07</td> <td> 0.000</td> <td>-3.01e+15</td> <td>-3.01e+15</td>\n",
       "</tr>\n",
       "<tr>\n",
       "  <th>Country_China</th>                                                           <td>-3.099e+15</td> <td> 6.59e+07</td> <td> -4.7e+07</td> <td> 0.000</td> <td> -3.1e+15</td> <td> -3.1e+15</td>\n",
       "</tr>\n",
       "<tr>\n",
       "  <th>Country_Denmark</th>                                                         <td> 4.265e+15</td> <td> 6.61e+07</td> <td> 6.45e+07</td> <td> 0.000</td> <td> 4.27e+15</td> <td> 4.27e+15</td>\n",
       "</tr>\n",
       "<tr>\n",
       "  <th>Country_France</th>                                                          <td>  3.07e+15</td> <td>  3.4e+07</td> <td> 9.02e+07</td> <td> 0.000</td> <td> 3.07e+15</td> <td> 3.07e+15</td>\n",
       "</tr>\n",
       "<tr>\n",
       "  <th>Country_Germany</th>                                                         <td>-1.268e+15</td> <td> 4.73e+07</td> <td>-2.68e+07</td> <td> 0.000</td> <td>-1.27e+15</td> <td>-1.27e+15</td>\n",
       "</tr>\n",
       "<tr>\n",
       "  <th>Country_Ghana</th>                                                           <td>-5.862e+14</td> <td> 4.71e+07</td> <td>-1.25e+07</td> <td> 0.000</td> <td>-5.86e+14</td> <td>-5.86e+14</td>\n",
       "</tr>\n",
       "<tr>\n",
       "  <th>Country_Hong Kong</th>                                                       <td> 1.391e+15</td> <td> 2.81e+07</td> <td> 4.94e+07</td> <td> 0.000</td> <td> 1.39e+15</td> <td> 1.39e+15</td>\n",
       "</tr>\n",
       "<tr>\n",
       "  <th>Country_India</th>                                                           <td> 1.696e+15</td> <td> 8.98e+06</td> <td> 1.89e+08</td> <td> 0.000</td> <td>  1.7e+15</td> <td>  1.7e+15</td>\n",
       "</tr>\n",
       "<tr>\n",
       "  <th>Country_Indonesia</th>                                                       <td>   -2.6225</td> <td> 4.94e-07</td> <td> -5.3e+06</td> <td> 0.000</td> <td>   -2.623</td> <td>   -2.623</td>\n",
       "</tr>\n",
       "<tr>\n",
       "  <th>Country_Italy</th>                                                           <td>-4.531e+15</td> <td>  6.6e+07</td> <td>-6.87e+07</td> <td> 0.000</td> <td>-4.53e+15</td> <td>-4.53e+15</td>\n",
       "</tr>\n",
       "<tr>\n",
       "  <th>Country_Kenya</th>                                                           <td>-2.271e+15</td> <td>  6.6e+07</td> <td>-3.44e+07</td> <td> 0.000</td> <td>-2.27e+15</td> <td>-2.27e+15</td>\n",
       "</tr>\n",
       "<tr>\n",
       "  <th>Country_Kuwait</th>                                                          <td>-2.411e+15</td> <td> 4.71e+07</td> <td>-5.12e+07</td> <td> 0.000</td> <td>-2.41e+15</td> <td>-2.41e+15</td>\n",
       "</tr>\n",
       "<tr>\n",
       "  <th>Country_Liberia</th>                                                         <td>-2.209e+15</td> <td> 6.63e+07</td> <td>-3.33e+07</td> <td> 0.000</td> <td>-2.21e+15</td> <td>-2.21e+15</td>\n",
       "</tr>\n",
       "<tr>\n",
       "  <th>Country_Malaysia</th>                                                        <td> -2.93e+15</td> <td> 6.64e+07</td> <td>-4.41e+07</td> <td> 0.000</td> <td>-2.93e+15</td> <td>-2.93e+15</td>\n",
       "</tr>\n",
       "<tr>\n",
       "  <th>Country_Netherlands</th>                                                     <td>-4.452e+15</td> <td>  6.6e+07</td> <td>-6.74e+07</td> <td> 0.000</td> <td>-4.45e+15</td> <td>-4.45e+15</td>\n",
       "</tr>\n",
       "<tr>\n",
       "  <th>Country_Nigeria</th>                                                         <td>  -4.2e+15</td> <td> 4.73e+07</td> <td>-8.89e+07</td> <td> 0.000</td> <td> -4.2e+15</td> <td> -4.2e+15</td>\n",
       "</tr>\n",
       "<tr>\n",
       "  <th>Country_Oman</th>                                                            <td> 3.176e+15</td> <td> 3.89e+07</td> <td> 8.16e+07</td> <td> 0.000</td> <td> 3.18e+15</td> <td> 3.18e+15</td>\n",
       "</tr>\n",
       "<tr>\n",
       "  <th>Country_Philippines</th>                                                     <td> -1.58e+15</td> <td> 6.59e+07</td> <td> -2.4e+07</td> <td> 0.000</td> <td>-1.58e+15</td> <td>-1.58e+15</td>\n",
       "</tr>\n",
       "<tr>\n",
       "  <th>Country_Qatar</th>                                                           <td>-2.346e+15</td> <td> 2.48e+07</td> <td>-9.47e+07</td> <td> 0.000</td> <td>-2.35e+15</td> <td>-2.35e+15</td>\n",
       "</tr>\n",
       "<tr>\n",
       "  <th>Country_Russia</th>                                                          <td>-7.013e+14</td> <td> 6.68e+07</td> <td>-1.05e+07</td> <td> 0.000</td> <td>-7.01e+14</td> <td>-7.01e+14</td>\n",
       "</tr>\n",
       "<tr>\n",
       "  <th>Country_Saudi Arabia</th>                                                    <td> 9.978e+14</td> <td> 2.09e+07</td> <td> 4.78e+07</td> <td> 0.000</td> <td> 9.98e+14</td> <td> 9.98e+14</td>\n",
       "</tr>\n",
       "<tr>\n",
       "  <th>Country_Singapore</th>                                                       <td> 2.151e+15</td> <td> 1.78e+07</td> <td> 1.21e+08</td> <td> 0.000</td> <td> 2.15e+15</td> <td> 2.15e+15</td>\n",
       "</tr>\n",
       "<tr>\n",
       "  <th>Country_South Africa</th>                                                    <td> 2.608e+15</td> <td> 4.72e+07</td> <td> 5.52e+07</td> <td> 0.000</td> <td> 2.61e+15</td> <td> 2.61e+15</td>\n",
       "</tr>\n",
       "<tr>\n",
       "  <th>Country_Sri Lanka</th>                                                       <td>-1.969e+15</td> <td> 6.64e+07</td> <td>-2.96e+07</td> <td> 0.000</td> <td>-1.97e+15</td> <td>-1.97e+15</td>\n",
       "</tr>\n",
       "<tr>\n",
       "  <th>Country_Sweden</th>                                                          <td> 5.255e+15</td> <td> 6.59e+07</td> <td> 7.98e+07</td> <td> 0.000</td> <td> 5.25e+15</td> <td> 5.25e+15</td>\n",
       "</tr>\n",
       "<tr>\n",
       "  <th>Country_Switzerland</th>                                                     <td>-3.072e+15</td> <td>  6.6e+07</td> <td>-4.65e+07</td> <td> 0.000</td> <td>-3.07e+15</td> <td>-3.07e+15</td>\n",
       "</tr>\n",
       "<tr>\n",
       "  <th>Country_Tanzania</th>                                                        <td>-2.329e+15</td> <td> 6.63e+07</td> <td>-3.51e+07</td> <td> 0.000</td> <td>-2.33e+15</td> <td>-2.33e+15</td>\n",
       "</tr>\n",
       "<tr>\n",
       "  <th>Country_Uganda</th>                                                          <td>-2.711e+15</td> <td>  4.7e+07</td> <td>-5.77e+07</td> <td> 0.000</td> <td>-2.71e+15</td> <td>-2.71e+15</td>\n",
       "</tr>\n",
       "<tr>\n",
       "  <th>Country_United Arab Emirates</th>                                            <td> 2.227e+15</td> <td> 1.36e+07</td> <td> 1.63e+08</td> <td> 0.000</td> <td> 2.23e+15</td> <td> 2.23e+15</td>\n",
       "</tr>\n",
       "<tr>\n",
       "  <th>Country_United Kingdom</th>                                                  <td> 1.868e+15</td> <td> 2.09e+07</td> <td> 8.93e+07</td> <td> 0.000</td> <td> 1.87e+15</td> <td> 1.87e+15</td>\n",
       "</tr>\n",
       "<tr>\n",
       "  <th>Country_United States</th>                                                   <td> 1.583e+15</td> <td> 1.27e+07</td> <td> 1.24e+08</td> <td> 0.000</td> <td> 1.58e+15</td> <td> 1.58e+15</td>\n",
       "</tr>\n",
       "<tr>\n",
       "  <th>Country_Vietnam</th>                                                         <td> 8.635e+14</td> <td> 6.59e+07</td> <td> 1.31e+07</td> <td> 0.000</td> <td> 8.64e+14</td> <td> 8.64e+14</td>\n",
       "</tr>\n",
       "<tr>\n",
       "  <th>Country_unknown</th>                                                         <td> 1.627e+15</td> <td> 1.09e+07</td> <td>  1.5e+08</td> <td> 0.000</td> <td> 1.63e+15</td> <td> 1.63e+15</td>\n",
       "</tr>\n",
       "<tr>\n",
       "  <th>Specialization_Business Administration</th>                                  <td>-1.937e+14</td> <td>  6.1e+06</td> <td>-3.18e+07</td> <td> 0.000</td> <td>-1.94e+14</td> <td>-1.94e+14</td>\n",
       "</tr>\n",
       "<tr>\n",
       "  <th>Specialization_E-Business</th>                                               <td>-1.872e+13</td> <td> 1.26e+07</td> <td>-1.49e+06</td> <td> 0.000</td> <td>-1.87e+13</td> <td>-1.87e+13</td>\n",
       "</tr>\n",
       "<tr>\n",
       "  <th>Specialization_E-COMMERCE</th>                                               <td> 1.837e+14</td> <td> 9.29e+06</td> <td> 1.98e+07</td> <td> 0.000</td> <td> 1.84e+14</td> <td> 1.84e+14</td>\n",
       "</tr>\n",
       "<tr>\n",
       "  <th>Specialization_Finance Management</th>                                       <td>-1.239e+14</td> <td> 5.19e+06</td> <td>-2.39e+07</td> <td> 0.000</td> <td>-1.24e+14</td> <td>-1.24e+14</td>\n",
       "</tr>\n",
       "<tr>\n",
       "  <th>Specialization_Healthcare Management</th>                                    <td>-1.077e+14</td> <td> 8.33e+06</td> <td>-1.29e+07</td> <td> 0.000</td> <td>-1.08e+14</td> <td>-1.08e+14</td>\n",
       "</tr>\n",
       "<tr>\n",
       "  <th>Specialization_Hospitality Management</th>                                   <td>-2.262e+14</td> <td> 9.08e+06</td> <td>-2.49e+07</td> <td> 0.000</td> <td>-2.26e+14</td> <td>-2.26e+14</td>\n",
       "</tr>\n",
       "<tr>\n",
       "  <th>Specialization_Human Resource Management</th>                                <td>-1.093e+14</td> <td>  5.3e+06</td> <td>-2.06e+07</td> <td> 0.000</td> <td>-1.09e+14</td> <td>-1.09e+14</td>\n",
       "</tr>\n",
       "<tr>\n",
       "  <th>Specialization_IT Projects Management</th>                                   <td>-1.996e+14</td> <td> 6.24e+06</td> <td> -3.2e+07</td> <td> 0.000</td> <td>   -2e+14</td> <td>   -2e+14</td>\n",
       "</tr>\n",
       "<tr>\n",
       "  <th>Specialization_International Business</th>                                   <td> 1.833e+14</td> <td> 7.56e+06</td> <td> 2.43e+07</td> <td> 0.000</td> <td> 1.83e+14</td> <td> 1.83e+14</td>\n",
       "</tr>\n",
       "<tr>\n",
       "  <th>Specialization_Marketing Management</th>                                     <td>-9.843e+13</td> <td>  5.3e+06</td> <td>-1.86e+07</td> <td> 0.000</td> <td>-9.84e+13</td> <td>-9.84e+13</td>\n",
       "</tr>\n",
       "<tr>\n",
       "  <th>Specialization_Media and Advertising</th>                                    <td> -1.56e+14</td> <td> 5.68e+06</td> <td>-2.75e+07</td> <td> 0.000</td> <td>-1.56e+14</td> <td>-1.56e+14</td>\n",
       "</tr>\n",
       "<tr>\n",
       "  <th>Specialization_Operations Management</th>                                    <td> 5.646e+13</td> <td> 5.85e+06</td> <td> 9.65e+06</td> <td> 0.000</td> <td> 5.65e+13</td> <td> 5.65e+13</td>\n",
       "</tr>\n",
       "<tr>\n",
       "  <th>Specialization_Other</th>                                                    <td> -5.92e+14</td> <td> 5.63e+06</td> <td>-1.05e+08</td> <td> 0.000</td> <td>-5.92e+14</td> <td>-5.92e+14</td>\n",
       "</tr>\n",
       "<tr>\n",
       "  <th>Specialization_Retail Management</th>                                        <td>-1.347e+14</td> <td> 9.42e+06</td> <td>-1.43e+07</td> <td> 0.000</td> <td>-1.35e+14</td> <td>-1.35e+14</td>\n",
       "</tr>\n",
       "<tr>\n",
       "  <th>Specialization_Rural and Agribusiness</th>                                   <td> 5.027e+13</td> <td> 1.13e+07</td> <td> 4.45e+06</td> <td> 0.000</td> <td> 5.03e+13</td> <td> 5.03e+13</td>\n",
       "</tr>\n",
       "<tr>\n",
       "  <th>Specialization_Services Excellence</th>                                      <td> 2.973e+14</td> <td>  1.4e+07</td> <td> 2.12e+07</td> <td> 0.000</td> <td> 2.97e+14</td> <td> 2.97e+14</td>\n",
       "</tr>\n",
       "<tr>\n",
       "  <th>Specialization_Supply Chain Management</th>                                  <td>-1.324e+14</td> <td> 6.51e+06</td> <td>-2.03e+07</td> <td> 0.000</td> <td>-1.32e+14</td> <td>-1.32e+14</td>\n",
       "</tr>\n",
       "<tr>\n",
       "  <th>Specialization_Travel and Tourism</th>                                       <td> 4.768e+13</td> <td> 7.59e+06</td> <td> 6.28e+06</td> <td> 0.000</td> <td> 4.77e+13</td> <td> 4.77e+13</td>\n",
       "</tr>\n",
       "<tr>\n",
       "  <th>What is your current occupation_Housewife</th>                               <td>   4.2e+15</td> <td> 4.54e+07</td> <td> 9.25e+07</td> <td> 0.000</td> <td>  4.2e+15</td> <td>  4.2e+15</td>\n",
       "</tr>\n",
       "<tr>\n",
       "  <th>What is your current occupation_Other</th>                                   <td> 1.274e+14</td> <td> 3.29e+07</td> <td> 3.87e+06</td> <td> 0.000</td> <td> 1.27e+14</td> <td> 1.27e+14</td>\n",
       "</tr>\n",
       "<tr>\n",
       "  <th>What is your current occupation_Student</th>                                 <td> 9.827e+13</td> <td> 3.09e+07</td> <td> 3.18e+06</td> <td> 0.000</td> <td> 9.83e+13</td> <td> 9.83e+13</td>\n",
       "</tr>\n",
       "<tr>\n",
       "  <th>What is your current occupation_Unemployed</th>                              <td> 8.693e+13</td> <td> 3.05e+07</td> <td> 2.85e+06</td> <td> 0.000</td> <td> 8.69e+13</td> <td> 8.69e+13</td>\n",
       "</tr>\n",
       "<tr>\n",
       "  <th>What is your current occupation_Working Professional</th>                    <td> 1.184e+15</td> <td> 3.06e+07</td> <td> 3.87e+07</td> <td> 0.000</td> <td> 1.18e+15</td> <td> 1.18e+15</td>\n",
       "</tr>\n",
       "<tr>\n",
       "  <th>What matters most to you in choosing a course_Flexibility & Convenience</th> <td>    9.0062</td> <td> 3.62e-07</td> <td> 2.49e+07</td> <td> 0.000</td> <td>    9.006</td> <td>    9.006</td>\n",
       "</tr>\n",
       "<tr>\n",
       "  <th>What matters most to you in choosing a course_Other</th>                     <td>-3.833e+15</td> <td> 6.73e+07</td> <td>-5.69e+07</td> <td> 0.000</td> <td>-3.83e+15</td> <td>-3.83e+15</td>\n",
       "</tr>\n",
       "<tr>\n",
       "  <th>What matters most to you in choosing a course_Unknown</th>                   <td>-3.869e+14</td> <td> 1.64e+07</td> <td>-2.36e+07</td> <td> 0.000</td> <td>-3.87e+14</td> <td>-3.87e+14</td>\n",
       "</tr>\n",
       "<tr>\n",
       "  <th>City_Other Cities</th>                                                       <td>-9.812e+13</td> <td> 2.98e+06</td> <td>-3.29e+07</td> <td> 0.000</td> <td>-9.81e+13</td> <td>-9.81e+13</td>\n",
       "</tr>\n",
       "<tr>\n",
       "  <th>City_Other Cities of Maharashtra</th>                                        <td> 9.523e+13</td> <td> 4.21e+06</td> <td> 2.26e+07</td> <td> 0.000</td> <td> 9.52e+13</td> <td> 9.52e+13</td>\n",
       "</tr>\n",
       "<tr>\n",
       "  <th>City_Other Metro Cities</th>                                                 <td>-3.188e+13</td> <td> 4.52e+06</td> <td>-7.05e+06</td> <td> 0.000</td> <td>-3.19e+13</td> <td>-3.19e+13</td>\n",
       "</tr>\n",
       "<tr>\n",
       "  <th>City_Thane & Outskirts</th>                                                  <td> 1.313e+14</td> <td>  3.4e+06</td> <td> 3.86e+07</td> <td> 0.000</td> <td> 1.31e+14</td> <td> 1.31e+14</td>\n",
       "</tr>\n",
       "<tr>\n",
       "  <th>City_Tier II Cities</th>                                                     <td> 1.943e+12</td> <td> 9.53e+06</td> <td> 2.04e+05</td> <td> 0.000</td> <td> 1.94e+12</td> <td> 1.94e+12</td>\n",
       "</tr>\n",
       "<tr>\n",
       "  <th>Last Notable Activity_Email Bounced</th>                                     <td>-1.556e+14</td> <td> 1.73e+07</td> <td>-8.97e+06</td> <td> 0.000</td> <td>-1.56e+14</td> <td>-1.56e+14</td>\n",
       "</tr>\n",
       "<tr>\n",
       "  <th>Last Notable Activity_Email Link Clicked</th>                                <td>-4.639e+14</td> <td> 1.66e+07</td> <td>-2.79e+07</td> <td> 0.000</td> <td>-4.64e+14</td> <td>-4.64e+14</td>\n",
       "</tr>\n",
       "<tr>\n",
       "  <th>Last Notable Activity_Email Marked Spam</th>                                 <td>-2.204e+14</td> <td> 3.94e+07</td> <td>-5.59e+06</td> <td> 0.000</td> <td> -2.2e+14</td> <td> -2.2e+14</td>\n",
       "</tr>\n",
       "<tr>\n",
       "  <th>Last Notable Activity_Email Opened</th>                                      <td>-3.468e+14</td> <td> 1.41e+07</td> <td>-2.47e+07</td> <td> 0.000</td> <td>-3.47e+14</td> <td>-3.47e+14</td>\n",
       "</tr>\n",
       "<tr>\n",
       "  <th>Last Notable Activity_Email Received</th>                                    <td>-2.684e+13</td> <td> 8.92e+07</td> <td>-3.01e+05</td> <td> 0.000</td> <td>-2.68e+13</td> <td>-2.68e+13</td>\n",
       "</tr>\n",
       "<tr>\n",
       "  <th>Last Notable Activity_Form Submitted on Website</th>                         <td>-4.615e+15</td> <td> 6.44e+07</td> <td>-7.17e+07</td> <td> 0.000</td> <td>-4.62e+15</td> <td>-4.62e+15</td>\n",
       "</tr>\n",
       "<tr>\n",
       "  <th>Last Notable Activity_Had a Phone Conversation</th>                          <td> 1.355e+15</td> <td> 3.37e+07</td> <td> 4.02e+07</td> <td> 0.000</td> <td> 1.35e+15</td> <td> 1.35e+15</td>\n",
       "</tr>\n",
       "<tr>\n",
       "  <th>Last Notable Activity_Modified</th>                                          <td> -4.53e+14</td> <td> 1.36e+07</td> <td>-3.34e+07</td> <td> 0.000</td> <td>-4.53e+14</td> <td>-4.53e+14</td>\n",
       "</tr>\n",
       "<tr>\n",
       "  <th>Last Notable Activity_Olark Chat Conversation</th>                           <td>-5.812e+14</td> <td> 1.49e+07</td> <td> -3.9e+07</td> <td> 0.000</td> <td>-5.81e+14</td> <td>-5.81e+14</td>\n",
       "</tr>\n",
       "<tr>\n",
       "  <th>Last Notable Activity_Page Visited on Website</th>                           <td> -1.45e+14</td> <td> 1.49e+07</td> <td>-9.72e+06</td> <td> 0.000</td> <td>-1.45e+14</td> <td>-1.45e+14</td>\n",
       "</tr>\n",
       "<tr>\n",
       "  <th>Last Notable Activity_Resubscribed to emails</th>                            <td>         0</td> <td>        0</td> <td>      nan</td> <td>   nan</td> <td>        0</td> <td>        0</td>\n",
       "</tr>\n",
       "<tr>\n",
       "  <th>Last Notable Activity_SMS Sent</th>                                          <td> 7.876e+14</td> <td> 1.41e+07</td> <td>  5.6e+07</td> <td> 0.000</td> <td> 7.88e+14</td> <td> 7.88e+14</td>\n",
       "</tr>\n",
       "<tr>\n",
       "  <th>Last Notable Activity_Unreachable</th>                                       <td> 1.695e+15</td> <td> 2.11e+07</td> <td> 8.04e+07</td> <td> 0.000</td> <td>  1.7e+15</td> <td>  1.7e+15</td>\n",
       "</tr>\n",
       "<tr>\n",
       "  <th>Last Notable Activity_Unsubscribed</th>                                      <td> 9.613e+14</td> <td>  2.7e+07</td> <td> 3.56e+07</td> <td> 0.000</td> <td> 9.61e+14</td> <td> 9.61e+14</td>\n",
       "</tr>\n",
       "<tr>\n",
       "  <th>Last Notable Activity_View in browser link Clicked</th>                      <td>-7.631e+14</td> <td> 8.94e+07</td> <td>-8.54e+06</td> <td> 0.000</td> <td>-7.63e+14</td> <td>-7.63e+14</td>\n",
       "</tr>\n",
       "</table>"
      ],
      "text/plain": [
       "<class 'statsmodels.iolib.summary.Summary'>\n",
       "\"\"\"\n",
       "                 Generalized Linear Model Regression Results                  \n",
       "==============================================================================\n",
       "Dep. Variable:              Converted   No. Observations:                 6141\n",
       "Model:                            GLM   Df Residuals:                     6022\n",
       "Model Family:                Binomial   Df Model:                          118\n",
       "Link Function:                  logit   Scale:                          1.0000\n",
       "Method:                          IRLS   Log-Likelihood:                    nan\n",
       "Date:                Mon, 20 Apr 2020   Deviance:                          nan\n",
       "Time:                        20:37:05   Pearson chi2:                 6.23e+18\n",
       "No. Iterations:                   100                                         \n",
       "Covariance Type:            nonrobust                                         \n",
       "===========================================================================================================================================\n",
       "                                                                              coef    std err          z      P>|z|      [0.025      0.975]\n",
       "-------------------------------------------------------------------------------------------------------------------------------------------\n",
       "const                                                                   -2.973e+15    9.1e+07  -3.27e+07      0.000   -2.97e+15   -2.97e+15\n",
       "Do Not Email                                                            -6.211e+14   4.61e+06  -1.35e+08      0.000   -6.21e+14   -6.21e+14\n",
       "TotalVisits                                                              3.835e+13   1.36e+06   2.83e+07      0.000    3.84e+13    3.84e+13\n",
       "Total Time Spent on Website                                               1.96e+14   1.01e+06   1.94e+08      0.000    1.96e+14    1.96e+14\n",
       "Page Views Per Visit                                                     4.708e+13    1.5e+06   3.14e+07      0.000    4.71e+13    4.71e+13\n",
       "X Education Forums                                                        -38.8978   7.12e-07  -5.46e+07      0.000     -38.898     -38.898\n",
       "A free copy of Mastering The Interview                                    1.37e+14   2.78e+06   4.92e+07      0.000    1.37e+14    1.37e+14\n",
       "Lead Origin_Landing Page Submission                                     -6.344e+14    3.7e+06  -1.71e+08      0.000   -6.34e+14   -6.34e+14\n",
       "Lead Origin_Lead Add Form                                               -5.259e+14   4.76e+07   -1.1e+07      0.000   -5.26e+14   -5.26e+14\n",
       "Lead Origin_Lead Import                                                  1.697e+15   7.23e+07   2.35e+07      0.000     1.7e+15     1.7e+15\n",
       "Lead Source_Direct Traffic                                               5.317e+15   8.28e+07   6.42e+07      0.000    5.32e+15    5.32e+15\n",
       "Lead Source_Facebook                                                     2.538e+15   1.09e+08   2.34e+07      0.000    2.54e+15    2.54e+15\n",
       "Lead Source_Google                                                       5.405e+15   8.28e+07   6.53e+07      0.000     5.4e+15     5.4e+15\n",
       "Lead Source_Live Chat                                                    8.651e+15   9.51e+07    9.1e+07      0.000    8.65e+15    8.65e+15\n",
       "Lead Source_NC_EDM                                                       1.215e+16   1.07e+08   1.14e+08      0.000    1.22e+16    1.22e+16\n",
       "Lead Source_Olark Chat                                                   5.395e+15   8.24e+07   6.55e+07      0.000     5.4e+15     5.4e+15\n",
       "Lead Source_Organic Search                                               5.284e+15   8.28e+07   6.38e+07      0.000    5.28e+15    5.28e+15\n",
       "Lead Source_Pay per Click Ads                                            9.597e+14   1.07e+08      9e+06      0.000     9.6e+14     9.6e+14\n",
       "Lead Source_Press_Release                                                3.832e+15   1.07e+08   3.58e+07      0.000    3.83e+15    3.83e+15\n",
       "Lead Source_Reference                                                    6.783e+15   6.74e+07   1.01e+08      0.000    6.78e+15    6.78e+15\n",
       "Lead Source_Referral Sites                                               5.225e+15   8.32e+07   6.28e+07      0.000    5.22e+15    5.22e+15\n",
       "Lead Source_Social Media                                                 9.592e+15   1.07e+08   8.99e+07      0.000    9.59e+15    9.59e+15\n",
       "Lead Source_WeLearn                                                      8.466e+15   1.07e+08   7.93e+07      0.000    8.47e+15    8.47e+15\n",
       "Lead Source_Welingak Website                                             1.047e+16   6.77e+07   1.55e+08      0.000    1.05e+16    1.05e+16\n",
       "Lead Source_bing                                                         5.161e+15   8.81e+07   5.86e+07      0.000    5.16e+15    5.16e+15\n",
       "Lead Source_blog                                                         3.772e+15   1.07e+08   3.53e+07      0.000    3.77e+15    3.77e+15\n",
       "Lead Source_google                                                       3.917e+15   9.57e+07   4.09e+07      0.000    3.92e+15    3.92e+15\n",
       "Lead Source_testone                                                      2.027e+15   1.07e+08    1.9e+07      0.000    2.03e+15    2.03e+15\n",
       "Lead Source_welearnblog_Home                                             2.201e+15   1.07e+08   2.06e+07      0.000     2.2e+15     2.2e+15\n",
       "Lead Source_youtubechannel                                               6.266e+15   1.27e+08   4.95e+07      0.000    6.27e+15    6.27e+15\n",
       "Last Activity_Converted to Lead                                         -3.947e+15   4.77e+07  -8.28e+07      0.000   -3.95e+15   -3.95e+15\n",
       "Last Activity_Email Bounced                                              -3.87e+15    4.8e+07  -8.07e+07      0.000   -3.87e+15   -3.87e+15\n",
       "Last Activity_Email Link Clicked                                         -3.82e+15   4.82e+07  -7.92e+07      0.000   -3.82e+15   -3.82e+15\n",
       "Last Activity_Email Marked Spam                                         -2.204e+14   3.94e+07  -5.59e+06      0.000    -2.2e+14    -2.2e+14\n",
       "Last Activity_Email Opened                                              -4.131e+15   4.76e+07  -8.67e+07      0.000   -4.13e+15   -4.13e+15\n",
       "Last Activity_Email Received                                             2.184e+14   8.23e+07   2.65e+06      0.000    2.18e+14    2.18e+14\n",
       "Last Activity_Form Submitted on Website                                 -3.783e+15   4.81e+07  -7.86e+07      0.000   -3.78e+15   -3.78e+15\n",
       "Last Activity_Had a Phone Conversation                                  -3.667e+15   5.39e+07   -6.8e+07      0.000   -3.67e+15   -3.67e+15\n",
       "Last Activity_Olark Chat Conversation                                   -3.279e+15   4.76e+07  -6.89e+07      0.000   -3.28e+15   -3.28e+15\n",
       "Last Activity_Page Visited on Website                                    -3.89e+15   4.78e+07  -8.14e+07      0.000   -3.89e+15   -3.89e+15\n",
       "Last Activity_Resubscribed to emails                                      -79.3516   1.49e-06  -5.32e+07      0.000     -79.352     -79.352\n",
       "Last Activity_SMS Sent                                                  -3.693e+15   4.76e+07  -7.75e+07      0.000   -3.69e+15   -3.69e+15\n",
       "Last Activity_Unreachable                                               -4.092e+15   4.89e+07  -8.37e+07      0.000   -4.09e+15   -4.09e+15\n",
       "Last Activity_Unsubscribed                                              -4.388e+15   5.27e+07  -8.33e+07      0.000   -4.39e+15   -4.39e+15\n",
       "Last Activity_View in browser link Clicked                              -8.913e+15   8.23e+07  -1.08e+08      0.000   -8.91e+15   -8.91e+15\n",
       "Last Activity_Visited Booth in Tradeshow                                   58.9352   9.93e-07   5.94e+07      0.000      58.935      58.935\n",
       "Country_Australia                                                        1.198e+15   2.26e+07   5.29e+07      0.000     1.2e+15     1.2e+15\n",
       "Country_Bahrain                                                          3.018e+15   3.07e+07   9.84e+07      0.000    3.02e+15    3.02e+15\n",
       "Country_Bangladesh                                                       5.709e+15   6.61e+07   8.64e+07      0.000    5.71e+15    5.71e+15\n",
       "Country_Belgium                                                            -1.9429   1.08e-06  -1.79e+06      0.000      -1.943      -1.943\n",
       "Country_Canada                                                          -3.013e+15   6.61e+07  -4.56e+07      0.000   -3.01e+15   -3.01e+15\n",
       "Country_China                                                           -3.099e+15   6.59e+07   -4.7e+07      0.000    -3.1e+15    -3.1e+15\n",
       "Country_Denmark                                                          4.265e+15   6.61e+07   6.45e+07      0.000    4.27e+15    4.27e+15\n",
       "Country_France                                                            3.07e+15    3.4e+07   9.02e+07      0.000    3.07e+15    3.07e+15\n",
       "Country_Germany                                                         -1.268e+15   4.73e+07  -2.68e+07      0.000   -1.27e+15   -1.27e+15\n",
       "Country_Ghana                                                           -5.862e+14   4.71e+07  -1.25e+07      0.000   -5.86e+14   -5.86e+14\n",
       "Country_Hong Kong                                                        1.391e+15   2.81e+07   4.94e+07      0.000    1.39e+15    1.39e+15\n",
       "Country_India                                                            1.696e+15   8.98e+06   1.89e+08      0.000     1.7e+15     1.7e+15\n",
       "Country_Indonesia                                                          -2.6225   4.94e-07   -5.3e+06      0.000      -2.623      -2.623\n",
       "Country_Italy                                                           -4.531e+15    6.6e+07  -6.87e+07      0.000   -4.53e+15   -4.53e+15\n",
       "Country_Kenya                                                           -2.271e+15    6.6e+07  -3.44e+07      0.000   -2.27e+15   -2.27e+15\n",
       "Country_Kuwait                                                          -2.411e+15   4.71e+07  -5.12e+07      0.000   -2.41e+15   -2.41e+15\n",
       "Country_Liberia                                                         -2.209e+15   6.63e+07  -3.33e+07      0.000   -2.21e+15   -2.21e+15\n",
       "Country_Malaysia                                                         -2.93e+15   6.64e+07  -4.41e+07      0.000   -2.93e+15   -2.93e+15\n",
       "Country_Netherlands                                                     -4.452e+15    6.6e+07  -6.74e+07      0.000   -4.45e+15   -4.45e+15\n",
       "Country_Nigeria                                                           -4.2e+15   4.73e+07  -8.89e+07      0.000    -4.2e+15    -4.2e+15\n",
       "Country_Oman                                                             3.176e+15   3.89e+07   8.16e+07      0.000    3.18e+15    3.18e+15\n",
       "Country_Philippines                                                      -1.58e+15   6.59e+07   -2.4e+07      0.000   -1.58e+15   -1.58e+15\n",
       "Country_Qatar                                                           -2.346e+15   2.48e+07  -9.47e+07      0.000   -2.35e+15   -2.35e+15\n",
       "Country_Russia                                                          -7.013e+14   6.68e+07  -1.05e+07      0.000   -7.01e+14   -7.01e+14\n",
       "Country_Saudi Arabia                                                     9.978e+14   2.09e+07   4.78e+07      0.000    9.98e+14    9.98e+14\n",
       "Country_Singapore                                                        2.151e+15   1.78e+07   1.21e+08      0.000    2.15e+15    2.15e+15\n",
       "Country_South Africa                                                     2.608e+15   4.72e+07   5.52e+07      0.000    2.61e+15    2.61e+15\n",
       "Country_Sri Lanka                                                       -1.969e+15   6.64e+07  -2.96e+07      0.000   -1.97e+15   -1.97e+15\n",
       "Country_Sweden                                                           5.255e+15   6.59e+07   7.98e+07      0.000    5.25e+15    5.25e+15\n",
       "Country_Switzerland                                                     -3.072e+15    6.6e+07  -4.65e+07      0.000   -3.07e+15   -3.07e+15\n",
       "Country_Tanzania                                                        -2.329e+15   6.63e+07  -3.51e+07      0.000   -2.33e+15   -2.33e+15\n",
       "Country_Uganda                                                          -2.711e+15    4.7e+07  -5.77e+07      0.000   -2.71e+15   -2.71e+15\n",
       "Country_United Arab Emirates                                             2.227e+15   1.36e+07   1.63e+08      0.000    2.23e+15    2.23e+15\n",
       "Country_United Kingdom                                                   1.868e+15   2.09e+07   8.93e+07      0.000    1.87e+15    1.87e+15\n",
       "Country_United States                                                    1.583e+15   1.27e+07   1.24e+08      0.000    1.58e+15    1.58e+15\n",
       "Country_Vietnam                                                          8.635e+14   6.59e+07   1.31e+07      0.000    8.64e+14    8.64e+14\n",
       "Country_unknown                                                          1.627e+15   1.09e+07    1.5e+08      0.000    1.63e+15    1.63e+15\n",
       "Specialization_Business Administration                                  -1.937e+14    6.1e+06  -3.18e+07      0.000   -1.94e+14   -1.94e+14\n",
       "Specialization_E-Business                                               -1.872e+13   1.26e+07  -1.49e+06      0.000   -1.87e+13   -1.87e+13\n",
       "Specialization_E-COMMERCE                                                1.837e+14   9.29e+06   1.98e+07      0.000    1.84e+14    1.84e+14\n",
       "Specialization_Finance Management                                       -1.239e+14   5.19e+06  -2.39e+07      0.000   -1.24e+14   -1.24e+14\n",
       "Specialization_Healthcare Management                                    -1.077e+14   8.33e+06  -1.29e+07      0.000   -1.08e+14   -1.08e+14\n",
       "Specialization_Hospitality Management                                   -2.262e+14   9.08e+06  -2.49e+07      0.000   -2.26e+14   -2.26e+14\n",
       "Specialization_Human Resource Management                                -1.093e+14    5.3e+06  -2.06e+07      0.000   -1.09e+14   -1.09e+14\n",
       "Specialization_IT Projects Management                                   -1.996e+14   6.24e+06   -3.2e+07      0.000      -2e+14      -2e+14\n",
       "Specialization_International Business                                    1.833e+14   7.56e+06   2.43e+07      0.000    1.83e+14    1.83e+14\n",
       "Specialization_Marketing Management                                     -9.843e+13    5.3e+06  -1.86e+07      0.000   -9.84e+13   -9.84e+13\n",
       "Specialization_Media and Advertising                                     -1.56e+14   5.68e+06  -2.75e+07      0.000   -1.56e+14   -1.56e+14\n",
       "Specialization_Operations Management                                     5.646e+13   5.85e+06   9.65e+06      0.000    5.65e+13    5.65e+13\n",
       "Specialization_Other                                                     -5.92e+14   5.63e+06  -1.05e+08      0.000   -5.92e+14   -5.92e+14\n",
       "Specialization_Retail Management                                        -1.347e+14   9.42e+06  -1.43e+07      0.000   -1.35e+14   -1.35e+14\n",
       "Specialization_Rural and Agribusiness                                    5.027e+13   1.13e+07   4.45e+06      0.000    5.03e+13    5.03e+13\n",
       "Specialization_Services Excellence                                       2.973e+14    1.4e+07   2.12e+07      0.000    2.97e+14    2.97e+14\n",
       "Specialization_Supply Chain Management                                  -1.324e+14   6.51e+06  -2.03e+07      0.000   -1.32e+14   -1.32e+14\n",
       "Specialization_Travel and Tourism                                        4.768e+13   7.59e+06   6.28e+06      0.000    4.77e+13    4.77e+13\n",
       "What is your current occupation_Housewife                                  4.2e+15   4.54e+07   9.25e+07      0.000     4.2e+15     4.2e+15\n",
       "What is your current occupation_Other                                    1.274e+14   3.29e+07   3.87e+06      0.000    1.27e+14    1.27e+14\n",
       "What is your current occupation_Student                                  9.827e+13   3.09e+07   3.18e+06      0.000    9.83e+13    9.83e+13\n",
       "What is your current occupation_Unemployed                               8.693e+13   3.05e+07   2.85e+06      0.000    8.69e+13    8.69e+13\n",
       "What is your current occupation_Working Professional                     1.184e+15   3.06e+07   3.87e+07      0.000    1.18e+15    1.18e+15\n",
       "What matters most to you in choosing a course_Flexibility & Convenience     9.0062   3.62e-07   2.49e+07      0.000       9.006       9.006\n",
       "What matters most to you in choosing a course_Other                     -3.833e+15   6.73e+07  -5.69e+07      0.000   -3.83e+15   -3.83e+15\n",
       "What matters most to you in choosing a course_Unknown                   -3.869e+14   1.64e+07  -2.36e+07      0.000   -3.87e+14   -3.87e+14\n",
       "City_Other Cities                                                       -9.812e+13   2.98e+06  -3.29e+07      0.000   -9.81e+13   -9.81e+13\n",
       "City_Other Cities of Maharashtra                                         9.523e+13   4.21e+06   2.26e+07      0.000    9.52e+13    9.52e+13\n",
       "City_Other Metro Cities                                                 -3.188e+13   4.52e+06  -7.05e+06      0.000   -3.19e+13   -3.19e+13\n",
       "City_Thane & Outskirts                                                   1.313e+14    3.4e+06   3.86e+07      0.000    1.31e+14    1.31e+14\n",
       "City_Tier II Cities                                                      1.943e+12   9.53e+06   2.04e+05      0.000    1.94e+12    1.94e+12\n",
       "Last Notable Activity_Email Bounced                                     -1.556e+14   1.73e+07  -8.97e+06      0.000   -1.56e+14   -1.56e+14\n",
       "Last Notable Activity_Email Link Clicked                                -4.639e+14   1.66e+07  -2.79e+07      0.000   -4.64e+14   -4.64e+14\n",
       "Last Notable Activity_Email Marked Spam                                 -2.204e+14   3.94e+07  -5.59e+06      0.000    -2.2e+14    -2.2e+14\n",
       "Last Notable Activity_Email Opened                                      -3.468e+14   1.41e+07  -2.47e+07      0.000   -3.47e+14   -3.47e+14\n",
       "Last Notable Activity_Email Received                                    -2.684e+13   8.92e+07  -3.01e+05      0.000   -2.68e+13   -2.68e+13\n",
       "Last Notable Activity_Form Submitted on Website                         -4.615e+15   6.44e+07  -7.17e+07      0.000   -4.62e+15   -4.62e+15\n",
       "Last Notable Activity_Had a Phone Conversation                           1.355e+15   3.37e+07   4.02e+07      0.000    1.35e+15    1.35e+15\n",
       "Last Notable Activity_Modified                                           -4.53e+14   1.36e+07  -3.34e+07      0.000   -4.53e+14   -4.53e+14\n",
       "Last Notable Activity_Olark Chat Conversation                           -5.812e+14   1.49e+07   -3.9e+07      0.000   -5.81e+14   -5.81e+14\n",
       "Last Notable Activity_Page Visited on Website                            -1.45e+14   1.49e+07  -9.72e+06      0.000   -1.45e+14   -1.45e+14\n",
       "Last Notable Activity_Resubscribed to emails                                     0          0        nan        nan           0           0\n",
       "Last Notable Activity_SMS Sent                                           7.876e+14   1.41e+07    5.6e+07      0.000    7.88e+14    7.88e+14\n",
       "Last Notable Activity_Unreachable                                        1.695e+15   2.11e+07   8.04e+07      0.000     1.7e+15     1.7e+15\n",
       "Last Notable Activity_Unsubscribed                                       9.613e+14    2.7e+07   3.56e+07      0.000    9.61e+14    9.61e+14\n",
       "Last Notable Activity_View in browser link Clicked                      -7.631e+14   8.94e+07  -8.54e+06      0.000   -7.63e+14   -7.63e+14\n",
       "===========================================================================================================================================\n",
       "\"\"\""
      ]
     },
     "execution_count": 76,
     "metadata": {},
     "output_type": "execute_result"
    }
   ],
   "source": [
    "#Logistic regression model\n",
    "logml = sm.GLM(y_train,(sm.add_constant(X_train)),family=sm.families.Binomial())\n",
    "logml.fit().summary()"
   ]
  },
  {
   "cell_type": "code",
   "execution_count": 77,
   "metadata": {},
   "outputs": [],
   "source": [
    "from sklearn.linear_model import LogisticRegression"
   ]
  },
  {
   "cell_type": "code",
   "execution_count": 78,
   "metadata": {},
   "outputs": [],
   "source": [
    "logreg = LogisticRegression()"
   ]
  },
  {
   "cell_type": "code",
   "execution_count": 79,
   "metadata": {},
   "outputs": [],
   "source": [
    "from sklearn.feature_selection import RFE"
   ]
  },
  {
   "cell_type": "code",
   "execution_count": 80,
   "metadata": {},
   "outputs": [],
   "source": [
    "rfe = RFE(logreg,15)"
   ]
  },
  {
   "cell_type": "code",
   "execution_count": 81,
   "metadata": {},
   "outputs": [],
   "source": [
    "rfe = rfe.fit(X_train,y_train)"
   ]
  },
  {
   "cell_type": "code",
   "execution_count": 82,
   "metadata": {},
   "outputs": [
    {
     "data": {
      "text/plain": [
       "array([ True, False,  True, False, False, False,  True,  True, False,\n",
       "       False, False, False, False, False, False, False, False, False,\n",
       "       False, False, False, False,  True, False, False, False, False,\n",
       "       False, False, False, False, False, False, False, False, False,\n",
       "        True,  True, False, False,  True, False, False, False, False,\n",
       "       False, False, False, False, False, False, False, False, False,\n",
       "       False, False, False, False, False, False, False, False, False,\n",
       "       False, False, False, False, False, False, False, False, False,\n",
       "       False, False, False, False, False, False, False, False, False,\n",
       "        True, False, False, False, False, False, False, False, False,\n",
       "       False, False, False, False,  True, False, False, False, False,\n",
       "       False, False, False, False, False,  True, False, False,  True,\n",
       "       False, False, False, False, False, False, False, False, False,\n",
       "       False, False,  True, False, False, False, False, False,  True,\n",
       "        True, False])"
      ]
     },
     "execution_count": 82,
     "metadata": {},
     "output_type": "execute_result"
    }
   ],
   "source": [
    "rfe.support_"
   ]
  },
  {
   "cell_type": "code",
   "execution_count": 83,
   "metadata": {},
   "outputs": [
    {
     "data": {
      "text/plain": [
       "[('Do Not Email', True, 1),\n",
       " ('TotalVisits', False, 37),\n",
       " ('Total Time Spent on Website', True, 1),\n",
       " ('Page Views Per Visit', False, 36),\n",
       " ('X Education Forums', False, 110),\n",
       " ('A free copy of Mastering The Interview', False, 72),\n",
       " ('Lead Origin_Landing Page Submission', True, 1),\n",
       " ('Lead Origin_Lead Add Form', True, 1),\n",
       " ('Lead Origin_Lead Import', False, 55),\n",
       " ('Lead Source_Direct Traffic', False, 30),\n",
       " ('Lead Source_Facebook', False, 19),\n",
       " ('Lead Source_Google', False, 51),\n",
       " ('Lead Source_Live Chat', False, 74),\n",
       " ('Lead Source_NC_EDM', False, 13),\n",
       " ('Lead Source_Olark Chat', False, 90),\n",
       " ('Lead Source_Organic Search', False, 50),\n",
       " ('Lead Source_Pay per Click Ads', False, 68),\n",
       " ('Lead Source_Press_Release', False, 91),\n",
       " ('Lead Source_Reference', False, 8),\n",
       " ('Lead Source_Referral Sites', False, 49),\n",
       " ('Lead Source_Social Media', False, 18),\n",
       " ('Lead Source_WeLearn', False, 32),\n",
       " ('Lead Source_Welingak Website', True, 1),\n",
       " ('Lead Source_bing', False, 93),\n",
       " ('Lead Source_blog', False, 66),\n",
       " ('Lead Source_google', False, 77),\n",
       " ('Lead Source_testone', False, 58),\n",
       " ('Lead Source_welearnblog_Home', False, 69),\n",
       " ('Lead Source_youtubechannel', False, 84),\n",
       " ('Last Activity_Converted to Lead', False, 26),\n",
       " ('Last Activity_Email Bounced', False, 23),\n",
       " ('Last Activity_Email Link Clicked', False, 104),\n",
       " ('Last Activity_Email Marked Spam', False, 56),\n",
       " ('Last Activity_Email Opened', False, 11),\n",
       " ('Last Activity_Email Received', False, 70),\n",
       " ('Last Activity_Form Submitted on Website', False, 44),\n",
       " ('Last Activity_Had a Phone Conversation', True, 1),\n",
       " ('Last Activity_Olark Chat Conversation', True, 1),\n",
       " ('Last Activity_Page Visited on Website', False, 42),\n",
       " ('Last Activity_Resubscribed to emails', False, 114),\n",
       " ('Last Activity_SMS Sent', True, 1),\n",
       " ('Last Activity_Unreachable', False, 43),\n",
       " ('Last Activity_Unsubscribed', False, 52),\n",
       " ('Last Activity_View in browser link Clicked', False, 31),\n",
       " ('Last Activity_Visited Booth in Tradeshow', False, 113),\n",
       " ('Country_Australia', False, 88),\n",
       " ('Country_Bahrain', False, 33),\n",
       " ('Country_Bangladesh', False, 41),\n",
       " ('Country_Belgium', False, 112),\n",
       " ('Country_Canada', False, 71),\n",
       " ('Country_China', False, 98),\n",
       " ('Country_Denmark', False, 103),\n",
       " ('Country_France', False, 28),\n",
       " ('Country_Germany', False, 96),\n",
       " ('Country_Ghana', False, 81),\n",
       " ('Country_Hong Kong', False, 57),\n",
       " ('Country_India', False, 46),\n",
       " ('Country_Indonesia', False, 111),\n",
       " ('Country_Italy', False, 4),\n",
       " ('Country_Kenya', False, 75),\n",
       " ('Country_Kuwait', False, 73),\n",
       " ('Country_Liberia', False, 106),\n",
       " ('Country_Malaysia', False, 92),\n",
       " ('Country_Netherlands', False, 6),\n",
       " ('Country_Nigeria', False, 10),\n",
       " ('Country_Oman', False, 5),\n",
       " ('Country_Philippines', False, 79),\n",
       " ('Country_Qatar', False, 3),\n",
       " ('Country_Russia', False, 95),\n",
       " ('Country_Saudi Arabia', False, 2),\n",
       " ('Country_Singapore', False, 47),\n",
       " ('Country_South Africa', False, 22),\n",
       " ('Country_Sri Lanka', False, 100),\n",
       " ('Country_Sweden', False, 48),\n",
       " ('Country_Switzerland', False, 78),\n",
       " ('Country_Tanzania', False, 85),\n",
       " ('Country_Uganda', False, 21),\n",
       " ('Country_United Arab Emirates', False, 17),\n",
       " ('Country_United Kingdom', False, 45),\n",
       " ('Country_United States', False, 80),\n",
       " ('Country_Vietnam', False, 53),\n",
       " ('Country_unknown', True, 1),\n",
       " ('Specialization_Business Administration', False, 62),\n",
       " ('Specialization_E-Business', False, 99),\n",
       " ('Specialization_E-COMMERCE', False, 101),\n",
       " ('Specialization_Finance Management', False, 67),\n",
       " ('Specialization_Healthcare Management', False, 40),\n",
       " ('Specialization_Hospitality Management', False, 34),\n",
       " ('Specialization_Human Resource Management', False, 64),\n",
       " ('Specialization_IT Projects Management', False, 59),\n",
       " ('Specialization_International Business', False, 65),\n",
       " ('Specialization_Marketing Management', False, 102),\n",
       " ('Specialization_Media and Advertising', False, 27),\n",
       " ('Specialization_Operations Management', False, 63),\n",
       " ('Specialization_Other', True, 1),\n",
       " ('Specialization_Retail Management', False, 38),\n",
       " ('Specialization_Rural and Agribusiness', False, 105),\n",
       " ('Specialization_Services Excellence', False, 29),\n",
       " ('Specialization_Supply Chain Management', False, 97),\n",
       " ('Specialization_Travel and Tourism', False, 76),\n",
       " ('What is your current occupation_Housewife', False, 7),\n",
       " ('What is your current occupation_Other', False, 14),\n",
       " ('What is your current occupation_Student', False, 16),\n",
       " ('What is your current occupation_Unemployed', False, 15),\n",
       " ('What is your current occupation_Working Professional', True, 1),\n",
       " ('What matters most to you in choosing a course_Flexibility & Convenience',\n",
       "  False,\n",
       "  108),\n",
       " ('What matters most to you in choosing a course_Other', False, 83),\n",
       " ('What matters most to you in choosing a course_Unknown', True, 1),\n",
       " ('City_Other Cities', False, 94),\n",
       " ('City_Other Cities of Maharashtra', False, 60),\n",
       " ('City_Other Metro Cities', False, 54),\n",
       " ('City_Thane & Outskirts', False, 82),\n",
       " ('City_Tier II Cities', False, 86),\n",
       " ('Last Notable Activity_Email Bounced', False, 107),\n",
       " ('Last Notable Activity_Email Link Clicked', False, 24),\n",
       " ('Last Notable Activity_Email Marked Spam', False, 61),\n",
       " ('Last Notable Activity_Email Opened', False, 12),\n",
       " ('Last Notable Activity_Email Received', False, 87),\n",
       " ('Last Notable Activity_Form Submitted on Website', False, 89),\n",
       " ('Last Notable Activity_Had a Phone Conversation', True, 1),\n",
       " ('Last Notable Activity_Modified', False, 9),\n",
       " ('Last Notable Activity_Olark Chat Conversation', False, 20),\n",
       " ('Last Notable Activity_Page Visited on Website', False, 25),\n",
       " ('Last Notable Activity_Resubscribed to emails', False, 109),\n",
       " ('Last Notable Activity_SMS Sent', False, 35),\n",
       " ('Last Notable Activity_Unreachable', True, 1),\n",
       " ('Last Notable Activity_Unsubscribed', True, 1),\n",
       " ('Last Notable Activity_View in browser link Clicked', False, 39)]"
      ]
     },
     "execution_count": 83,
     "metadata": {},
     "output_type": "execute_result"
    }
   ],
   "source": [
    "list(zip(X_train.columns, rfe.support_, rfe.ranking_))"
   ]
  },
  {
   "cell_type": "code",
   "execution_count": 84,
   "metadata": {},
   "outputs": [],
   "source": [
    "col = X_train.columns[rfe.support_]"
   ]
  },
  {
   "cell_type": "code",
   "execution_count": 85,
   "metadata": {},
   "outputs": [
    {
     "data": {
      "text/plain": [
       "Index(['Do Not Email', 'Total Time Spent on Website',\n",
       "       'Lead Origin_Landing Page Submission', 'Lead Origin_Lead Add Form',\n",
       "       'Lead Source_Welingak Website',\n",
       "       'Last Activity_Had a Phone Conversation',\n",
       "       'Last Activity_Olark Chat Conversation', 'Last Activity_SMS Sent',\n",
       "       'Country_unknown', 'Specialization_Other',\n",
       "       'What is your current occupation_Working Professional',\n",
       "       'What matters most to you in choosing a course_Unknown',\n",
       "       'Last Notable Activity_Had a Phone Conversation',\n",
       "       'Last Notable Activity_Unreachable',\n",
       "       'Last Notable Activity_Unsubscribed'],\n",
       "      dtype='object')"
      ]
     },
     "execution_count": 85,
     "metadata": {},
     "output_type": "execute_result"
    }
   ],
   "source": [
    "col"
   ]
  },
  {
   "cell_type": "code",
   "execution_count": 86,
   "metadata": {},
   "outputs": [
    {
     "data": {
      "text/html": [
       "<table class=\"simpletable\">\n",
       "<caption>Generalized Linear Model Regression Results</caption>\n",
       "<tr>\n",
       "  <th>Dep. Variable:</th>       <td>Converted</td>    <th>  No. Observations:  </th>  <td>  6141</td> \n",
       "</tr>\n",
       "<tr>\n",
       "  <th>Model:</th>                  <td>GLM</td>       <th>  Df Residuals:      </th>  <td>  6125</td> \n",
       "</tr>\n",
       "<tr>\n",
       "  <th>Model Family:</th>        <td>Binomial</td>     <th>  Df Model:          </th>  <td>    15</td> \n",
       "</tr>\n",
       "<tr>\n",
       "  <th>Link Function:</th>         <td>logit</td>      <th>  Scale:             </th> <td>  1.0000</td>\n",
       "</tr>\n",
       "<tr>\n",
       "  <th>Method:</th>                <td>IRLS</td>       <th>  Log-Likelihood:    </th> <td> -2410.2</td>\n",
       "</tr>\n",
       "<tr>\n",
       "  <th>Date:</th>            <td>Mon, 20 Apr 2020</td> <th>  Deviance:          </th> <td>  4820.3</td>\n",
       "</tr>\n",
       "<tr>\n",
       "  <th>Time:</th>                <td>20:37:13</td>     <th>  Pearson chi2:      </th> <td>6.31e+03</td>\n",
       "</tr>\n",
       "<tr>\n",
       "  <th>No. Iterations:</th>         <td>23</td>        <th>                     </th>     <td> </td>   \n",
       "</tr>\n",
       "<tr>\n",
       "  <th>Covariance Type:</th>     <td>nonrobust</td>    <th>                     </th>     <td> </td>   \n",
       "</tr>\n",
       "</table>\n",
       "<table class=\"simpletable\">\n",
       "<tr>\n",
       "                            <td></td>                               <th>coef</th>     <th>std err</th>      <th>z</th>      <th>P>|z|</th>  <th>[0.025</th>    <th>0.975]</th>  \n",
       "</tr>\n",
       "<tr>\n",
       "  <th>const</th>                                                 <td>   -0.3726</td> <td>    0.126</td> <td>   -2.967</td> <td> 0.003</td> <td>   -0.619</td> <td>   -0.126</td>\n",
       "</tr>\n",
       "<tr>\n",
       "  <th>Do Not Email</th>                                          <td>   -1.5008</td> <td>    0.187</td> <td>   -8.040</td> <td> 0.000</td> <td>   -1.867</td> <td>   -1.135</td>\n",
       "</tr>\n",
       "<tr>\n",
       "  <th>Total Time Spent on Website</th>                           <td>    1.1885</td> <td>    0.043</td> <td>   27.955</td> <td> 0.000</td> <td>    1.105</td> <td>    1.272</td>\n",
       "</tr>\n",
       "<tr>\n",
       "  <th>Lead Origin_Landing Page Submission</th>                   <td>   -1.0100</td> <td>    0.130</td> <td>   -7.754</td> <td> 0.000</td> <td>   -1.265</td> <td>   -0.755</td>\n",
       "</tr>\n",
       "<tr>\n",
       "  <th>Lead Origin_Lead Add Form</th>                             <td>    2.1275</td> <td>    0.266</td> <td>    7.984</td> <td> 0.000</td> <td>    1.605</td> <td>    2.650</td>\n",
       "</tr>\n",
       "<tr>\n",
       "  <th>Lead Source_Welingak Website</th>                          <td>   22.7384</td> <td> 1.32e+04</td> <td>    0.002</td> <td> 0.999</td> <td>-2.59e+04</td> <td> 2.59e+04</td>\n",
       "</tr>\n",
       "<tr>\n",
       "  <th>Last Activity_Had a Phone Conversation</th>                <td>    0.8044</td> <td>    0.906</td> <td>    0.888</td> <td> 0.374</td> <td>   -0.971</td> <td>    2.579</td>\n",
       "</tr>\n",
       "<tr>\n",
       "  <th>Last Activity_Olark Chat Conversation</th>                 <td>   -1.4662</td> <td>    0.178</td> <td>   -8.255</td> <td> 0.000</td> <td>   -1.814</td> <td>   -1.118</td>\n",
       "</tr>\n",
       "<tr>\n",
       "  <th>Last Activity_SMS Sent</th>                                <td>    1.3828</td> <td>    0.078</td> <td>   17.705</td> <td> 0.000</td> <td>    1.230</td> <td>    1.536</td>\n",
       "</tr>\n",
       "<tr>\n",
       "  <th>Country_unknown</th>                                       <td>    1.5218</td> <td>    0.126</td> <td>   12.089</td> <td> 0.000</td> <td>    1.275</td> <td>    1.769</td>\n",
       "</tr>\n",
       "<tr>\n",
       "  <th>Specialization_Other</th>                                  <td>   -0.9502</td> <td>    0.132</td> <td>   -7.173</td> <td> 0.000</td> <td>   -1.210</td> <td>   -0.691</td>\n",
       "</tr>\n",
       "<tr>\n",
       "  <th>What is your current occupation_Working Professional</th>  <td>    2.4801</td> <td>    0.206</td> <td>   12.048</td> <td> 0.000</td> <td>    2.077</td> <td>    2.884</td>\n",
       "</tr>\n",
       "<tr>\n",
       "  <th>What matters most to you in choosing a course_Unknown</th> <td>   -1.1367</td> <td>    0.091</td> <td>  -12.524</td> <td> 0.000</td> <td>   -1.315</td> <td>   -0.959</td>\n",
       "</tr>\n",
       "<tr>\n",
       "  <th>Last Notable Activity_Had a Phone Conversation</th>        <td>    2.6909</td> <td>    1.472</td> <td>    1.828</td> <td> 0.068</td> <td>   -0.194</td> <td>    5.576</td>\n",
       "</tr>\n",
       "<tr>\n",
       "  <th>Last Notable Activity_Unreachable</th>                     <td>    2.1843</td> <td>    0.553</td> <td>    3.952</td> <td> 0.000</td> <td>    1.101</td> <td>    3.268</td>\n",
       "</tr>\n",
       "<tr>\n",
       "  <th>Last Notable Activity_Unsubscribed</th>                    <td>    1.3869</td> <td>    0.506</td> <td>    2.740</td> <td> 0.006</td> <td>    0.395</td> <td>    2.379</td>\n",
       "</tr>\n",
       "</table>"
      ],
      "text/plain": [
       "<class 'statsmodels.iolib.summary.Summary'>\n",
       "\"\"\"\n",
       "                 Generalized Linear Model Regression Results                  \n",
       "==============================================================================\n",
       "Dep. Variable:              Converted   No. Observations:                 6141\n",
       "Model:                            GLM   Df Residuals:                     6125\n",
       "Model Family:                Binomial   Df Model:                           15\n",
       "Link Function:                  logit   Scale:                          1.0000\n",
       "Method:                          IRLS   Log-Likelihood:                -2410.2\n",
       "Date:                Mon, 20 Apr 2020   Deviance:                       4820.3\n",
       "Time:                        20:37:13   Pearson chi2:                 6.31e+03\n",
       "No. Iterations:                    23                                         \n",
       "Covariance Type:            nonrobust                                         \n",
       "=========================================================================================================================\n",
       "                                                            coef    std err          z      P>|z|      [0.025      0.975]\n",
       "-------------------------------------------------------------------------------------------------------------------------\n",
       "const                                                    -0.3726      0.126     -2.967      0.003      -0.619      -0.126\n",
       "Do Not Email                                             -1.5008      0.187     -8.040      0.000      -1.867      -1.135\n",
       "Total Time Spent on Website                               1.1885      0.043     27.955      0.000       1.105       1.272\n",
       "Lead Origin_Landing Page Submission                      -1.0100      0.130     -7.754      0.000      -1.265      -0.755\n",
       "Lead Origin_Lead Add Form                                 2.1275      0.266      7.984      0.000       1.605       2.650\n",
       "Lead Source_Welingak Website                             22.7384   1.32e+04      0.002      0.999   -2.59e+04    2.59e+04\n",
       "Last Activity_Had a Phone Conversation                    0.8044      0.906      0.888      0.374      -0.971       2.579\n",
       "Last Activity_Olark Chat Conversation                    -1.4662      0.178     -8.255      0.000      -1.814      -1.118\n",
       "Last Activity_SMS Sent                                    1.3828      0.078     17.705      0.000       1.230       1.536\n",
       "Country_unknown                                           1.5218      0.126     12.089      0.000       1.275       1.769\n",
       "Specialization_Other                                     -0.9502      0.132     -7.173      0.000      -1.210      -0.691\n",
       "What is your current occupation_Working Professional      2.4801      0.206     12.048      0.000       2.077       2.884\n",
       "What matters most to you in choosing a course_Unknown    -1.1367      0.091    -12.524      0.000      -1.315      -0.959\n",
       "Last Notable Activity_Had a Phone Conversation            2.6909      1.472      1.828      0.068      -0.194       5.576\n",
       "Last Notable Activity_Unreachable                         2.1843      0.553      3.952      0.000       1.101       3.268\n",
       "Last Notable Activity_Unsubscribed                        1.3869      0.506      2.740      0.006       0.395       2.379\n",
       "=========================================================================================================================\n",
       "\"\"\""
      ]
     },
     "execution_count": 86,
     "metadata": {},
     "output_type": "execute_result"
    }
   ],
   "source": [
    "# Assesing model with statsmodel\n",
    "X_train_sm= sm.add_constant(X_train[col])\n",
    "logm2 = sm.GLM(y_train,X_train_sm,family=sm.families.Binomial())\n",
    "res=logm2.fit()\n",
    "res.summary()"
   ]
  },
  {
   "cell_type": "code",
   "execution_count": 87,
   "metadata": {},
   "outputs": [
    {
     "data": {
      "text/plain": [
       "4420    0.723940\n",
       "284     0.174464\n",
       "2310    0.087711\n",
       "8311    0.024815\n",
       "417     0.100604\n",
       "8559    0.082856\n",
       "5494    0.144515\n",
       "2047    0.298778\n",
       "7508    0.833545\n",
       "659     0.524240\n",
       "46      0.229844\n",
       "dtype: float64"
      ]
     },
     "execution_count": 87,
     "metadata": {},
     "output_type": "execute_result"
    }
   ],
   "source": [
    "#getting predicted value on train set\n",
    "y_train_pred = res.predict(X_train_sm)\n",
    "y_train_pred[:11]"
   ]
  },
  {
   "cell_type": "code",
   "execution_count": 88,
   "metadata": {},
   "outputs": [],
   "source": [
    "y_train_pred = y_train_pred.values.reshape(-1)"
   ]
  },
  {
   "cell_type": "code",
   "execution_count": 89,
   "metadata": {},
   "outputs": [],
   "source": [
    "y_train_pred_final = pd.DataFrame({\"Converted\":y_train.values,\"Converted_Prob\":y_train_pred})\n",
    "y_train_pred_final[\"CustID\"]=y_train.index"
   ]
  },
  {
   "cell_type": "code",
   "execution_count": 90,
   "metadata": {},
   "outputs": [
    {
     "data": {
      "text/html": [
       "<div>\n",
       "<style scoped>\n",
       "    .dataframe tbody tr th:only-of-type {\n",
       "        vertical-align: middle;\n",
       "    }\n",
       "\n",
       "    .dataframe tbody tr th {\n",
       "        vertical-align: top;\n",
       "    }\n",
       "\n",
       "    .dataframe thead th {\n",
       "        text-align: right;\n",
       "    }\n",
       "</style>\n",
       "<table border=\"1\" class=\"dataframe\">\n",
       "  <thead>\n",
       "    <tr style=\"text-align: right;\">\n",
       "      <th></th>\n",
       "      <th>Converted</th>\n",
       "      <th>Converted_Prob</th>\n",
       "      <th>CustID</th>\n",
       "    </tr>\n",
       "  </thead>\n",
       "  <tbody>\n",
       "    <tr>\n",
       "      <td>0</td>\n",
       "      <td>1</td>\n",
       "      <td>0.723940</td>\n",
       "      <td>4420</td>\n",
       "    </tr>\n",
       "    <tr>\n",
       "      <td>1</td>\n",
       "      <td>0</td>\n",
       "      <td>0.174464</td>\n",
       "      <td>284</td>\n",
       "    </tr>\n",
       "    <tr>\n",
       "      <td>2</td>\n",
       "      <td>0</td>\n",
       "      <td>0.087711</td>\n",
       "      <td>2310</td>\n",
       "    </tr>\n",
       "    <tr>\n",
       "      <td>3</td>\n",
       "      <td>0</td>\n",
       "      <td>0.024815</td>\n",
       "      <td>8311</td>\n",
       "    </tr>\n",
       "    <tr>\n",
       "      <td>4</td>\n",
       "      <td>0</td>\n",
       "      <td>0.100604</td>\n",
       "      <td>417</td>\n",
       "    </tr>\n",
       "  </tbody>\n",
       "</table>\n",
       "</div>"
      ],
      "text/plain": [
       "   Converted  Converted_Prob  CustID\n",
       "0          1        0.723940    4420\n",
       "1          0        0.174464     284\n",
       "2          0        0.087711    2310\n",
       "3          0        0.024815    8311\n",
       "4          0        0.100604     417"
      ]
     },
     "execution_count": 90,
     "metadata": {},
     "output_type": "execute_result"
    }
   ],
   "source": [
    "y_train_pred_final.head()"
   ]
  },
  {
   "cell_type": "code",
   "execution_count": 91,
   "metadata": {},
   "outputs": [],
   "source": [
    "y_train_pred_final[\"predicted\"] = y_train_pred_final[\"Converted_Prob\"].map(lambda x: 1 if x > 0.34 else 0)"
   ]
  },
  {
   "cell_type": "code",
   "execution_count": 92,
   "metadata": {},
   "outputs": [
    {
     "data": {
      "text/html": [
       "<div>\n",
       "<style scoped>\n",
       "    .dataframe tbody tr th:only-of-type {\n",
       "        vertical-align: middle;\n",
       "    }\n",
       "\n",
       "    .dataframe tbody tr th {\n",
       "        vertical-align: top;\n",
       "    }\n",
       "\n",
       "    .dataframe thead th {\n",
       "        text-align: right;\n",
       "    }\n",
       "</style>\n",
       "<table border=\"1\" class=\"dataframe\">\n",
       "  <thead>\n",
       "    <tr style=\"text-align: right;\">\n",
       "      <th></th>\n",
       "      <th>Converted</th>\n",
       "      <th>Converted_Prob</th>\n",
       "      <th>CustID</th>\n",
       "      <th>predicted</th>\n",
       "    </tr>\n",
       "  </thead>\n",
       "  <tbody>\n",
       "    <tr>\n",
       "      <td>0</td>\n",
       "      <td>1</td>\n",
       "      <td>0.723940</td>\n",
       "      <td>4420</td>\n",
       "      <td>1</td>\n",
       "    </tr>\n",
       "    <tr>\n",
       "      <td>1</td>\n",
       "      <td>0</td>\n",
       "      <td>0.174464</td>\n",
       "      <td>284</td>\n",
       "      <td>0</td>\n",
       "    </tr>\n",
       "    <tr>\n",
       "      <td>2</td>\n",
       "      <td>0</td>\n",
       "      <td>0.087711</td>\n",
       "      <td>2310</td>\n",
       "      <td>0</td>\n",
       "    </tr>\n",
       "    <tr>\n",
       "      <td>3</td>\n",
       "      <td>0</td>\n",
       "      <td>0.024815</td>\n",
       "      <td>8311</td>\n",
       "      <td>0</td>\n",
       "    </tr>\n",
       "    <tr>\n",
       "      <td>4</td>\n",
       "      <td>0</td>\n",
       "      <td>0.100604</td>\n",
       "      <td>417</td>\n",
       "      <td>0</td>\n",
       "    </tr>\n",
       "  </tbody>\n",
       "</table>\n",
       "</div>"
      ],
      "text/plain": [
       "   Converted  Converted_Prob  CustID  predicted\n",
       "0          1        0.723940    4420          1\n",
       "1          0        0.174464     284          0\n",
       "2          0        0.087711    2310          0\n",
       "3          0        0.024815    8311          0\n",
       "4          0        0.100604     417          0"
      ]
     },
     "execution_count": 92,
     "metadata": {},
     "output_type": "execute_result"
    }
   ],
   "source": [
    "y_train_pred_final.head()"
   ]
  },
  {
   "cell_type": "code",
   "execution_count": 93,
   "metadata": {},
   "outputs": [],
   "source": [
    "from sklearn.metrics import confusion_matrix,accuracy_score,f1_score"
   ]
  },
  {
   "cell_type": "code",
   "execution_count": 94,
   "metadata": {},
   "outputs": [
    {
     "data": {
      "text/plain": [
       "array([[3113,  718],\n",
       "       [ 425, 1885]], dtype=int64)"
      ]
     },
     "execution_count": 94,
     "metadata": {},
     "output_type": "execute_result"
    }
   ],
   "source": [
    "confusion_matrix(y_train_pred_final.Converted,y_train_pred_final.predicted)"
   ]
  },
  {
   "cell_type": "code",
   "execution_count": 95,
   "metadata": {},
   "outputs": [
    {
     "data": {
      "text/plain": [
       "0.8138739618954568"
      ]
     },
     "execution_count": 95,
     "metadata": {},
     "output_type": "execute_result"
    }
   ],
   "source": [
    "accuracy_score(y_train_pred_final.Converted,y_train_pred_final.predicted)"
   ]
  },
  {
   "cell_type": "code",
   "execution_count": 96,
   "metadata": {},
   "outputs": [
    {
     "data": {
      "text/plain": [
       "0.7673519234683491"
      ]
     },
     "execution_count": 96,
     "metadata": {},
     "output_type": "execute_result"
    }
   ],
   "source": [
    "f1_score(y_train_pred_final.Converted,y_train_pred_final.predicted)"
   ]
  },
  {
   "cell_type": "code",
   "execution_count": 97,
   "metadata": {},
   "outputs": [],
   "source": [
    "from statsmodels.stats.outliers_influence import variance_inflation_factor"
   ]
  },
  {
   "cell_type": "code",
   "execution_count": 98,
   "metadata": {},
   "outputs": [
    {
     "data": {
      "text/html": [
       "<div>\n",
       "<style scoped>\n",
       "    .dataframe tbody tr th:only-of-type {\n",
       "        vertical-align: middle;\n",
       "    }\n",
       "\n",
       "    .dataframe tbody tr th {\n",
       "        vertical-align: top;\n",
       "    }\n",
       "\n",
       "    .dataframe thead th {\n",
       "        text-align: right;\n",
       "    }\n",
       "</style>\n",
       "<table border=\"1\" class=\"dataframe\">\n",
       "  <thead>\n",
       "    <tr style=\"text-align: right;\">\n",
       "      <th></th>\n",
       "      <th>Features</th>\n",
       "      <th>VIF</th>\n",
       "    </tr>\n",
       "  </thead>\n",
       "  <tbody>\n",
       "    <tr>\n",
       "      <td>8</td>\n",
       "      <td>Country_unknown</td>\n",
       "      <td>2.84</td>\n",
       "    </tr>\n",
       "    <tr>\n",
       "      <td>5</td>\n",
       "      <td>Last Activity_Had a Phone Conversation</td>\n",
       "      <td>2.44</td>\n",
       "    </tr>\n",
       "    <tr>\n",
       "      <td>12</td>\n",
       "      <td>Last Notable Activity_Had a Phone Conversation</td>\n",
       "      <td>2.43</td>\n",
       "    </tr>\n",
       "    <tr>\n",
       "      <td>9</td>\n",
       "      <td>Specialization_Other</td>\n",
       "      <td>2.36</td>\n",
       "    </tr>\n",
       "    <tr>\n",
       "      <td>3</td>\n",
       "      <td>Lead Origin_Lead Add Form</td>\n",
       "      <td>1.86</td>\n",
       "    </tr>\n",
       "    <tr>\n",
       "      <td>2</td>\n",
       "      <td>Lead Origin_Landing Page Submission</td>\n",
       "      <td>1.65</td>\n",
       "    </tr>\n",
       "    <tr>\n",
       "      <td>11</td>\n",
       "      <td>What matters most to you in choosing a course_...</td>\n",
       "      <td>1.62</td>\n",
       "    </tr>\n",
       "    <tr>\n",
       "      <td>7</td>\n",
       "      <td>Last Activity_SMS Sent</td>\n",
       "      <td>1.55</td>\n",
       "    </tr>\n",
       "    <tr>\n",
       "      <td>6</td>\n",
       "      <td>Last Activity_Olark Chat Conversation</td>\n",
       "      <td>1.49</td>\n",
       "    </tr>\n",
       "    <tr>\n",
       "      <td>1</td>\n",
       "      <td>Total Time Spent on Website</td>\n",
       "      <td>1.34</td>\n",
       "    </tr>\n",
       "    <tr>\n",
       "      <td>4</td>\n",
       "      <td>Lead Source_Welingak Website</td>\n",
       "      <td>1.34</td>\n",
       "    </tr>\n",
       "    <tr>\n",
       "      <td>10</td>\n",
       "      <td>What is your current occupation_Working Profes...</td>\n",
       "      <td>1.20</td>\n",
       "    </tr>\n",
       "    <tr>\n",
       "      <td>0</td>\n",
       "      <td>Do Not Email</td>\n",
       "      <td>1.19</td>\n",
       "    </tr>\n",
       "    <tr>\n",
       "      <td>14</td>\n",
       "      <td>Last Notable Activity_Unsubscribed</td>\n",
       "      <td>1.08</td>\n",
       "    </tr>\n",
       "    <tr>\n",
       "      <td>13</td>\n",
       "      <td>Last Notable Activity_Unreachable</td>\n",
       "      <td>1.01</td>\n",
       "    </tr>\n",
       "  </tbody>\n",
       "</table>\n",
       "</div>"
      ],
      "text/plain": [
       "                                             Features   VIF\n",
       "8                                     Country_unknown  2.84\n",
       "5              Last Activity_Had a Phone Conversation  2.44\n",
       "12     Last Notable Activity_Had a Phone Conversation  2.43\n",
       "9                                Specialization_Other  2.36\n",
       "3                           Lead Origin_Lead Add Form  1.86\n",
       "2                 Lead Origin_Landing Page Submission  1.65\n",
       "11  What matters most to you in choosing a course_...  1.62\n",
       "7                              Last Activity_SMS Sent  1.55\n",
       "6               Last Activity_Olark Chat Conversation  1.49\n",
       "1                         Total Time Spent on Website  1.34\n",
       "4                        Lead Source_Welingak Website  1.34\n",
       "10  What is your current occupation_Working Profes...  1.20\n",
       "0                                        Do Not Email  1.19\n",
       "14                 Last Notable Activity_Unsubscribed  1.08\n",
       "13                  Last Notable Activity_Unreachable  1.01"
      ]
     },
     "execution_count": 98,
     "metadata": {},
     "output_type": "execute_result"
    }
   ],
   "source": [
    "# Create a dataframe that will contain the names of all the feature variables and their respective VIFs\n",
    "vif = pd.DataFrame()\n",
    "vif['Features'] = X_train[col].columns\n",
    "vif['VIF'] = [variance_inflation_factor(X_train[col].values, i) for i in range(X_train[col].shape[1])]\n",
    "vif['VIF'] = round(vif['VIF'], 2)\n",
    "vif = vif.sort_values(by = \"VIF\", ascending = False)\n",
    "vif"
   ]
  },
  {
   "cell_type": "code",
   "execution_count": 99,
   "metadata": {},
   "outputs": [
    {
     "data": {
      "text/html": [
       "<table class=\"simpletable\">\n",
       "<caption>Generalized Linear Model Regression Results</caption>\n",
       "<tr>\n",
       "  <th>Dep. Variable:</th>       <td>Converted</td>    <th>  No. Observations:  </th>  <td>  6141</td> \n",
       "</tr>\n",
       "<tr>\n",
       "  <th>Model:</th>                  <td>GLM</td>       <th>  Df Residuals:      </th>  <td>  6128</td> \n",
       "</tr>\n",
       "<tr>\n",
       "  <th>Model Family:</th>        <td>Binomial</td>     <th>  Df Model:          </th>  <td>    12</td> \n",
       "</tr>\n",
       "<tr>\n",
       "  <th>Link Function:</th>         <td>logit</td>      <th>  Scale:             </th> <td>  1.0000</td>\n",
       "</tr>\n",
       "<tr>\n",
       "  <th>Method:</th>                <td>IRLS</td>       <th>  Log-Likelihood:    </th> <td> -2427.4</td>\n",
       "</tr>\n",
       "<tr>\n",
       "  <th>Date:</th>            <td>Mon, 20 Apr 2020</td> <th>  Deviance:          </th> <td>  4854.7</td>\n",
       "</tr>\n",
       "<tr>\n",
       "  <th>Time:</th>                <td>20:37:15</td>     <th>  Pearson chi2:      </th> <td>6.78e+03</td>\n",
       "</tr>\n",
       "<tr>\n",
       "  <th>No. Iterations:</th>          <td>6</td>        <th>                     </th>     <td> </td>   \n",
       "</tr>\n",
       "<tr>\n",
       "  <th>Covariance Type:</th>     <td>nonrobust</td>    <th>                     </th>     <td> </td>   \n",
       "</tr>\n",
       "</table>\n",
       "<table class=\"simpletable\">\n",
       "<tr>\n",
       "                            <td></td>                               <th>coef</th>     <th>std err</th>      <th>z</th>      <th>P>|z|</th>  <th>[0.025</th>    <th>0.975]</th>  \n",
       "</tr>\n",
       "<tr>\n",
       "  <th>const</th>                                                 <td>   -0.3890</td> <td>    0.125</td> <td>   -3.113</td> <td> 0.002</td> <td>   -0.634</td> <td>   -0.144</td>\n",
       "</tr>\n",
       "<tr>\n",
       "  <th>Do Not Email</th>                                          <td>   -1.4809</td> <td>    0.184</td> <td>   -8.062</td> <td> 0.000</td> <td>   -1.841</td> <td>   -1.121</td>\n",
       "</tr>\n",
       "<tr>\n",
       "  <th>Total Time Spent on Website</th>                           <td>    1.1853</td> <td>    0.042</td> <td>   27.971</td> <td> 0.000</td> <td>    1.102</td> <td>    1.268</td>\n",
       "</tr>\n",
       "<tr>\n",
       "  <th>Lead Origin_Landing Page Submission</th>                   <td>   -0.9795</td> <td>    0.130</td> <td>   -7.558</td> <td> 0.000</td> <td>   -1.234</td> <td>   -0.725</td>\n",
       "</tr>\n",
       "<tr>\n",
       "  <th>Lead Origin_Lead Add Form</th>                             <td>    2.7009</td> <td>    0.259</td> <td>   10.419</td> <td> 0.000</td> <td>    2.193</td> <td>    3.209</td>\n",
       "</tr>\n",
       "<tr>\n",
       "  <th>Last Activity_Olark Chat Conversation</th>                 <td>   -1.4617</td> <td>    0.176</td> <td>   -8.296</td> <td> 0.000</td> <td>   -1.807</td> <td>   -1.116</td>\n",
       "</tr>\n",
       "<tr>\n",
       "  <th>Last Activity_SMS Sent</th>                                <td>    1.3710</td> <td>    0.078</td> <td>   17.617</td> <td> 0.000</td> <td>    1.218</td> <td>    1.524</td>\n",
       "</tr>\n",
       "<tr>\n",
       "  <th>Country_unknown</th>                                       <td>    1.5034</td> <td>    0.125</td> <td>   11.984</td> <td> 0.000</td> <td>    1.258</td> <td>    1.749</td>\n",
       "</tr>\n",
       "<tr>\n",
       "  <th>Specialization_Other</th>                                  <td>   -0.9059</td> <td>    0.132</td> <td>   -6.862</td> <td> 0.000</td> <td>   -1.165</td> <td>   -0.647</td>\n",
       "</tr>\n",
       "<tr>\n",
       "  <th>What is your current occupation_Working Professional</th>  <td>    2.4682</td> <td>    0.206</td> <td>   11.997</td> <td> 0.000</td> <td>    2.065</td> <td>    2.871</td>\n",
       "</tr>\n",
       "<tr>\n",
       "  <th>What matters most to you in choosing a course_Unknown</th> <td>   -1.1437</td> <td>    0.091</td> <td>  -12.623</td> <td> 0.000</td> <td>   -1.321</td> <td>   -0.966</td>\n",
       "</tr>\n",
       "<tr>\n",
       "  <th>Last Notable Activity_Unreachable</th>                     <td>    2.1749</td> <td>    0.553</td> <td>    3.936</td> <td> 0.000</td> <td>    1.092</td> <td>    3.258</td>\n",
       "</tr>\n",
       "<tr>\n",
       "  <th>Last Notable Activity_Unsubscribed</th>                    <td>    1.3574</td> <td>    0.505</td> <td>    2.690</td> <td> 0.007</td> <td>    0.368</td> <td>    2.346</td>\n",
       "</tr>\n",
       "</table>"
      ],
      "text/plain": [
       "<class 'statsmodels.iolib.summary.Summary'>\n",
       "\"\"\"\n",
       "                 Generalized Linear Model Regression Results                  \n",
       "==============================================================================\n",
       "Dep. Variable:              Converted   No. Observations:                 6141\n",
       "Model:                            GLM   Df Residuals:                     6128\n",
       "Model Family:                Binomial   Df Model:                           12\n",
       "Link Function:                  logit   Scale:                          1.0000\n",
       "Method:                          IRLS   Log-Likelihood:                -2427.4\n",
       "Date:                Mon, 20 Apr 2020   Deviance:                       4854.7\n",
       "Time:                        20:37:15   Pearson chi2:                 6.78e+03\n",
       "No. Iterations:                     6                                         \n",
       "Covariance Type:            nonrobust                                         \n",
       "=========================================================================================================================\n",
       "                                                            coef    std err          z      P>|z|      [0.025      0.975]\n",
       "-------------------------------------------------------------------------------------------------------------------------\n",
       "const                                                    -0.3890      0.125     -3.113      0.002      -0.634      -0.144\n",
       "Do Not Email                                             -1.4809      0.184     -8.062      0.000      -1.841      -1.121\n",
       "Total Time Spent on Website                               1.1853      0.042     27.971      0.000       1.102       1.268\n",
       "Lead Origin_Landing Page Submission                      -0.9795      0.130     -7.558      0.000      -1.234      -0.725\n",
       "Lead Origin_Lead Add Form                                 2.7009      0.259     10.419      0.000       2.193       3.209\n",
       "Last Activity_Olark Chat Conversation                    -1.4617      0.176     -8.296      0.000      -1.807      -1.116\n",
       "Last Activity_SMS Sent                                    1.3710      0.078     17.617      0.000       1.218       1.524\n",
       "Country_unknown                                           1.5034      0.125     11.984      0.000       1.258       1.749\n",
       "Specialization_Other                                     -0.9059      0.132     -6.862      0.000      -1.165      -0.647\n",
       "What is your current occupation_Working Professional      2.4682      0.206     11.997      0.000       2.065       2.871\n",
       "What matters most to you in choosing a course_Unknown    -1.1437      0.091    -12.623      0.000      -1.321      -0.966\n",
       "Last Notable Activity_Unreachable                         2.1749      0.553      3.936      0.000       1.092       3.258\n",
       "Last Notable Activity_Unsubscribed                        1.3574      0.505      2.690      0.007       0.368       2.346\n",
       "=========================================================================================================================\n",
       "\"\"\""
      ]
     },
     "execution_count": 99,
     "metadata": {},
     "output_type": "execute_result"
    }
   ],
   "source": [
    "# Assesing model with statsmodel after dropping four columns with high p value > 0.05\n",
    "p05=[\"Lead Source_Welingak Website\",\"Last Activity_Had a Phone Conversation\",\n",
    "     \"Last Notable Activity_Had a Phone Conversation\"]\n",
    "X_train_sm= sm.add_constant(X_train[col].drop(p05,axis=1))\n",
    "logm3 = sm.GLM(y_train,X_train_sm,family=sm.families.Binomial())\n",
    "res=logm3.fit()\n",
    "res.summary()"
   ]
  },
  {
   "cell_type": "code",
   "execution_count": 100,
   "metadata": {},
   "outputs": [
    {
     "data": {
      "text/plain": [
       "array([0.72549287, 0.17721527, 0.0860306 , 0.02570201, 0.10207756,\n",
       "       0.08337219, 0.14639046, 0.30134739, 0.82976813, 0.51624916,\n",
       "       0.23225449])"
      ]
     },
     "execution_count": 100,
     "metadata": {},
     "output_type": "execute_result"
    }
   ],
   "source": [
    "#getting predicted value on train set\n",
    "y_train_pred = res.predict(X_train_sm)\n",
    "y_train_pred = y_train_pred.values.reshape(-1)\n",
    "y_train_pred[:11]"
   ]
  },
  {
   "cell_type": "code",
   "execution_count": 101,
   "metadata": {},
   "outputs": [],
   "source": [
    "y_train_pred_final = pd.DataFrame({\"Converted\":y_train.values,\"Converted_Prob\":y_train_pred})\n",
    "y_train_pred_final[\"CustID\"]=y_train.index\n",
    "y_train_pred_final[\"predicted\"] = y_train_pred_final[\"Converted_Prob\"].map(lambda x: 1 if x > 0.34 else 0)\n"
   ]
  },
  {
   "cell_type": "code",
   "execution_count": 102,
   "metadata": {},
   "outputs": [
    {
     "data": {
      "text/html": [
       "<div>\n",
       "<style scoped>\n",
       "    .dataframe tbody tr th:only-of-type {\n",
       "        vertical-align: middle;\n",
       "    }\n",
       "\n",
       "    .dataframe tbody tr th {\n",
       "        vertical-align: top;\n",
       "    }\n",
       "\n",
       "    .dataframe thead th {\n",
       "        text-align: right;\n",
       "    }\n",
       "</style>\n",
       "<table border=\"1\" class=\"dataframe\">\n",
       "  <thead>\n",
       "    <tr style=\"text-align: right;\">\n",
       "      <th></th>\n",
       "      <th>Converted</th>\n",
       "      <th>Converted_Prob</th>\n",
       "      <th>CustID</th>\n",
       "      <th>predicted</th>\n",
       "    </tr>\n",
       "  </thead>\n",
       "  <tbody>\n",
       "    <tr>\n",
       "      <td>0</td>\n",
       "      <td>1</td>\n",
       "      <td>0.725493</td>\n",
       "      <td>4420</td>\n",
       "      <td>1</td>\n",
       "    </tr>\n",
       "    <tr>\n",
       "      <td>1</td>\n",
       "      <td>0</td>\n",
       "      <td>0.177215</td>\n",
       "      <td>284</td>\n",
       "      <td>0</td>\n",
       "    </tr>\n",
       "    <tr>\n",
       "      <td>2</td>\n",
       "      <td>0</td>\n",
       "      <td>0.086031</td>\n",
       "      <td>2310</td>\n",
       "      <td>0</td>\n",
       "    </tr>\n",
       "    <tr>\n",
       "      <td>3</td>\n",
       "      <td>0</td>\n",
       "      <td>0.025702</td>\n",
       "      <td>8311</td>\n",
       "      <td>0</td>\n",
       "    </tr>\n",
       "    <tr>\n",
       "      <td>4</td>\n",
       "      <td>0</td>\n",
       "      <td>0.102078</td>\n",
       "      <td>417</td>\n",
       "      <td>0</td>\n",
       "    </tr>\n",
       "  </tbody>\n",
       "</table>\n",
       "</div>"
      ],
      "text/plain": [
       "   Converted  Converted_Prob  CustID  predicted\n",
       "0          1        0.725493    4420          1\n",
       "1          0        0.177215     284          0\n",
       "2          0        0.086031    2310          0\n",
       "3          0        0.025702    8311          0\n",
       "4          0        0.102078     417          0"
      ]
     },
     "execution_count": 102,
     "metadata": {},
     "output_type": "execute_result"
    }
   ],
   "source": [
    "y_train_pred_final.head()"
   ]
  },
  {
   "cell_type": "code",
   "execution_count": 103,
   "metadata": {},
   "outputs": [
    {
     "data": {
      "text/plain": [
       "array([[3109,  722],\n",
       "       [ 424, 1886]], dtype=int64)"
      ]
     },
     "execution_count": 103,
     "metadata": {},
     "output_type": "execute_result"
    }
   ],
   "source": [
    "confusion_matrix(y_train_pred_final.Converted,y_train_pred_final.predicted)"
   ]
  },
  {
   "cell_type": "code",
   "execution_count": 104,
   "metadata": {},
   "outputs": [
    {
     "data": {
      "text/plain": [
       "0.8133854421104054"
      ]
     },
     "execution_count": 104,
     "metadata": {},
     "output_type": "execute_result"
    }
   ],
   "source": [
    "accuracy_score(y_train_pred_final.Converted,y_train_pred_final.predicted)"
   ]
  },
  {
   "cell_type": "code",
   "execution_count": 105,
   "metadata": {},
   "outputs": [
    {
     "data": {
      "text/plain": [
       "0.7669784465229768"
      ]
     },
     "execution_count": 105,
     "metadata": {},
     "output_type": "execute_result"
    }
   ],
   "source": [
    "f1_score(y_train_pred_final.Converted,y_train_pred_final.predicted)"
   ]
  },
  {
   "cell_type": "code",
   "execution_count": 106,
   "metadata": {},
   "outputs": [],
   "source": [
    "#Scaling test data X_Test"
   ]
  },
  {
   "cell_type": "code",
   "execution_count": 107,
   "metadata": {},
   "outputs": [],
   "source": [
    "X_test[[\"TotalVisits\",\"Total Time Spent on Website\",\"Page Views Per Visit\"]]= scaler.transform(X_test[[\"TotalVisits\",\"Total Time Spent on Website\",\n",
    "                                                                                                             \"Page Views Per Visit\"]])"
   ]
  },
  {
   "cell_type": "code",
   "execution_count": 108,
   "metadata": {},
   "outputs": [],
   "source": [
    "colf = X_train[col].drop(p05,axis=1).columns"
   ]
  },
  {
   "cell_type": "code",
   "execution_count": 109,
   "metadata": {},
   "outputs": [
    {
     "data": {
      "text/plain": [
       "Index(['Do Not Email', 'Total Time Spent on Website',\n",
       "       'Lead Origin_Landing Page Submission', 'Lead Origin_Lead Add Form',\n",
       "       'Last Activity_Olark Chat Conversation', 'Last Activity_SMS Sent',\n",
       "       'Country_unknown', 'Specialization_Other',\n",
       "       'What is your current occupation_Working Professional',\n",
       "       'What matters most to you in choosing a course_Unknown',\n",
       "       'Last Notable Activity_Unreachable',\n",
       "       'Last Notable Activity_Unsubscribed'],\n",
       "      dtype='object')"
      ]
     },
     "execution_count": 109,
     "metadata": {},
     "output_type": "execute_result"
    }
   ],
   "source": [
    "colf"
   ]
  },
  {
   "cell_type": "code",
   "execution_count": 110,
   "metadata": {},
   "outputs": [],
   "source": [
    "X_test_scaled = X_test[colf] # selecting final columns for prediction"
   ]
  },
  {
   "cell_type": "code",
   "execution_count": 111,
   "metadata": {},
   "outputs": [],
   "source": [
    "# Assesing model on test set\n",
    "X_test_sm= sm.add_constant(X_test_scaled)"
   ]
  },
  {
   "cell_type": "code",
   "execution_count": 112,
   "metadata": {},
   "outputs": [
    {
     "data": {
      "text/plain": [
       "array([0.94687286, 0.96198641, 0.62951025, 0.65083377, 0.08788745,\n",
       "       0.02348048, 0.03088045, 0.98427984, 0.96198641, 0.44352232,\n",
       "       0.09904609])"
      ]
     },
     "execution_count": 112,
     "metadata": {},
     "output_type": "execute_result"
    }
   ],
   "source": [
    "#getting predicted value on train set\n",
    "y_test_pred = res.predict(X_test_sm)\n",
    "y_test_pred = y_test_pred.values.reshape(-1)\n",
    "y_test_pred[:11]"
   ]
  },
  {
   "cell_type": "code",
   "execution_count": 113,
   "metadata": {},
   "outputs": [],
   "source": [
    "y_test_pred_final = pd.DataFrame({\"Converted\":y_test.values,\"Converted_Prob\":y_test_pred})\n",
    "y_test_pred_final[\"CustID\"]=y_test.index\n",
    "y_test_pred_final[\"predicted\"] = y_test_pred_final[\"Converted_Prob\"].map(lambda x: 1 if x > 0.34 else 0)"
   ]
  },
  {
   "cell_type": "code",
   "execution_count": 114,
   "metadata": {},
   "outputs": [
    {
     "data": {
      "text/html": [
       "<div>\n",
       "<style scoped>\n",
       "    .dataframe tbody tr th:only-of-type {\n",
       "        vertical-align: middle;\n",
       "    }\n",
       "\n",
       "    .dataframe tbody tr th {\n",
       "        vertical-align: top;\n",
       "    }\n",
       "\n",
       "    .dataframe thead th {\n",
       "        text-align: right;\n",
       "    }\n",
       "</style>\n",
       "<table border=\"1\" class=\"dataframe\">\n",
       "  <thead>\n",
       "    <tr style=\"text-align: right;\">\n",
       "      <th></th>\n",
       "      <th>Converted</th>\n",
       "      <th>Converted_Prob</th>\n",
       "      <th>CustID</th>\n",
       "      <th>predicted</th>\n",
       "    </tr>\n",
       "  </thead>\n",
       "  <tbody>\n",
       "    <tr>\n",
       "      <td>0</td>\n",
       "      <td>1</td>\n",
       "      <td>0.946873</td>\n",
       "      <td>8904</td>\n",
       "      <td>1</td>\n",
       "    </tr>\n",
       "    <tr>\n",
       "      <td>1</td>\n",
       "      <td>1</td>\n",
       "      <td>0.961986</td>\n",
       "      <td>6252</td>\n",
       "      <td>1</td>\n",
       "    </tr>\n",
       "    <tr>\n",
       "      <td>2</td>\n",
       "      <td>1</td>\n",
       "      <td>0.629510</td>\n",
       "      <td>3619</td>\n",
       "      <td>1</td>\n",
       "    </tr>\n",
       "    <tr>\n",
       "      <td>3</td>\n",
       "      <td>0</td>\n",
       "      <td>0.650834</td>\n",
       "      <td>6877</td>\n",
       "      <td>1</td>\n",
       "    </tr>\n",
       "    <tr>\n",
       "      <td>4</td>\n",
       "      <td>0</td>\n",
       "      <td>0.087887</td>\n",
       "      <td>1101</td>\n",
       "      <td>0</td>\n",
       "    </tr>\n",
       "  </tbody>\n",
       "</table>\n",
       "</div>"
      ],
      "text/plain": [
       "   Converted  Converted_Prob  CustID  predicted\n",
       "0          1        0.946873    8904          1\n",
       "1          1        0.961986    6252          1\n",
       "2          1        0.629510    3619          1\n",
       "3          0        0.650834    6877          1\n",
       "4          0        0.087887    1101          0"
      ]
     },
     "execution_count": 114,
     "metadata": {},
     "output_type": "execute_result"
    }
   ],
   "source": [
    "y_test_pred_final.head()"
   ]
  },
  {
   "cell_type": "code",
   "execution_count": 115,
   "metadata": {},
   "outputs": [
    {
     "data": {
      "text/plain": [
       "array([[1337,  315],\n",
       "       [ 197,  784]], dtype=int64)"
      ]
     },
     "execution_count": 115,
     "metadata": {},
     "output_type": "execute_result"
    }
   ],
   "source": [
    "confusion_matrix(y_test_pred_final.Converted,y_test_pred_final.predicted)"
   ]
  },
  {
   "cell_type": "code",
   "execution_count": 116,
   "metadata": {},
   "outputs": [
    {
     "data": {
      "text/plain": [
       "0.8055450056969237"
      ]
     },
     "execution_count": 116,
     "metadata": {},
     "output_type": "execute_result"
    }
   ],
   "source": [
    "accuracy_score(y_test_pred_final.Converted,y_test_pred_final.predicted)"
   ]
  },
  {
   "cell_type": "code",
   "execution_count": 117,
   "metadata": {},
   "outputs": [
    {
     "data": {
      "text/plain": [
       "0.7538461538461538"
      ]
     },
     "execution_count": 117,
     "metadata": {},
     "output_type": "execute_result"
    }
   ],
   "source": [
    "f1_score(y_test_pred_final.Converted,y_test_pred_final.predicted)"
   ]
  },
  {
   "cell_type": "code",
   "execution_count": 118,
   "metadata": {},
   "outputs": [],
   "source": [
    "from sklearn.metrics import classification_report"
   ]
  },
  {
   "cell_type": "code",
   "execution_count": 119,
   "metadata": {},
   "outputs": [
    {
     "name": "stdout",
     "output_type": "stream",
     "text": [
      "              precision    recall  f1-score   support\n",
      "\n",
      "           0       0.87      0.81      0.84      1652\n",
      "           1       0.71      0.80      0.75       981\n",
      "\n",
      "    accuracy                           0.81      2633\n",
      "   macro avg       0.79      0.80      0.80      2633\n",
      "weighted avg       0.81      0.81      0.81      2633\n",
      "\n"
     ]
    }
   ],
   "source": [
    "print(classification_report(y_test_pred_final.Converted,y_test_pred_final.predicted))"
   ]
  },
  {
   "cell_type": "code",
   "execution_count": 120,
   "metadata": {},
   "outputs": [],
   "source": [
    "dfc = pd.read_html(res.summary().tables[1].as_html(),header=0,index_col=0)[0]"
   ]
  },
  {
   "cell_type": "code",
   "execution_count": 121,
   "metadata": {},
   "outputs": [],
   "source": [
    "Model = dfc[\"coef\"]"
   ]
  },
  {
   "cell_type": "code",
   "execution_count": 122,
   "metadata": {},
   "outputs": [],
   "source": [
    "#Final Model with coefficients"
   ]
  },
  {
   "cell_type": "code",
   "execution_count": 123,
   "metadata": {},
   "outputs": [
    {
     "data": {
      "text/plain": [
       "Lead Origin_Lead Add Form                                2.7009\n",
       "What is your current occupation_Working Professional     2.4682\n",
       "Last Notable Activity_Unreachable                        2.1749\n",
       "Country_unknown                                          1.5034\n",
       "Last Activity_SMS Sent                                   1.3710\n",
       "Last Notable Activity_Unsubscribed                       1.3574\n",
       "Total Time Spent on Website                              1.1853\n",
       "const                                                   -0.3890\n",
       "Specialization_Other                                    -0.9059\n",
       "Lead Origin_Landing Page Submission                     -0.9795\n",
       "What matters most to you in choosing a course_Unknown   -1.1437\n",
       "Last Activity_Olark Chat Conversation                   -1.4617\n",
       "Do Not Email                                            -1.4809\n",
       "Name: coef, dtype: float64"
      ]
     },
     "execution_count": 123,
     "metadata": {},
     "output_type": "execute_result"
    }
   ],
   "source": [
    "Model.sort_values(ascending=False) ##Final Model with coefficients"
   ]
  },
  {
   "cell_type": "code",
   "execution_count": 124,
   "metadata": {
    "scrolled": true
   },
   "outputs": [
    {
     "name": "stdout",
     "output_type": "stream",
     "text": [
      "              precision    recall  f1-score   support\n",
      "\n",
      "           0       0.87      0.81      0.84      1652\n",
      "           1       0.71      0.80      0.75       981\n",
      "\n",
      "    accuracy                           0.81      2633\n",
      "   macro avg       0.79      0.80      0.80      2633\n",
      "weighted avg       0.81      0.81      0.81      2633\n",
      "\n"
     ]
    }
   ],
   "source": [
    "print(classification_report(y_test_pred_final.Converted,y_test_pred_final.predicted))"
   ]
  },
  {
   "cell_type": "code",
   "execution_count": 125,
   "metadata": {},
   "outputs": [],
   "source": [
    "# Fixing the threshold probability for best sensitivity and specificity\n",
    "from sklearn.metrics import roc_curve,roc_auc_score "
   ]
  },
  {
   "cell_type": "code",
   "execution_count": 126,
   "metadata": {},
   "outputs": [],
   "source": [
    "def draw_roc( actual, probs ):\n",
    "    fpr, tpr, thresholds = roc_curve( actual, probs,\n",
    "                                              drop_intermediate = False )\n",
    "    auc_score = roc_auc_score( actual, probs )\n",
    "    plt.figure(figsize=(5, 5))\n",
    "    plt.plot( fpr, tpr, label='ROC curve (area = %0.2f)' % auc_score )\n",
    "    plt.plot([0, 1], [0, 1], 'k--')\n",
    "    plt.xlim([0.0, 1.0])\n",
    "    plt.ylim([0.0, 1.05])\n",
    "    plt.xlabel('False Positive Rate or [1 - True Negative Rate]')\n",
    "    plt.ylabel('True Positive Rate')\n",
    "    plt.title('Receiver operating characteristic example')\n",
    "    plt.legend(loc=\"lower right\")\n",
    "    plt.show()\n",
    "\n",
    "    return None"
   ]
  },
  {
   "cell_type": "code",
   "execution_count": 127,
   "metadata": {},
   "outputs": [],
   "source": [
    "fpr, tpr, thresholds = roc_curve( y_train_pred_final.Converted, y_train_pred_final.Converted_Prob,\n",
    "                                 drop_intermediate = False )"
   ]
  },
  {
   "cell_type": "code",
   "execution_count": 128,
   "metadata": {},
   "outputs": [
    {
     "data": {
      "image/png": "[encoded data removed]",
      "text/plain": [
       "<Figure size 360x360 with 1 Axes>"
      ]
     },
     "metadata": {
      "needs_background": "light"
     },
     "output_type": "display_data"
    }
   ],
   "source": [
    "draw_roc(y_train_pred_final.Converted, y_train_pred_final.Converted_Prob)"
   ]
  },
  {
   "cell_type": "code",
   "execution_count": 129,
   "metadata": {},
   "outputs": [
    {
     "data": {
      "text/html": [
       "<div>\n",
       "<style scoped>\n",
       "    .dataframe tbody tr th:only-of-type {\n",
       "        vertical-align: middle;\n",
       "    }\n",
       "\n",
       "    .dataframe tbody tr th {\n",
       "        vertical-align: top;\n",
       "    }\n",
       "\n",
       "    .dataframe thead th {\n",
       "        text-align: right;\n",
       "    }\n",
       "</style>\n",
       "<table border=\"1\" class=\"dataframe\">\n",
       "  <thead>\n",
       "    <tr style=\"text-align: right;\">\n",
       "      <th></th>\n",
       "      <th>Converted</th>\n",
       "      <th>Converted_Prob</th>\n",
       "      <th>CustID</th>\n",
       "      <th>predicted</th>\n",
       "      <th>0.0</th>\n",
       "      <th>0.1</th>\n",
       "      <th>0.2</th>\n",
       "      <th>0.3</th>\n",
       "      <th>0.4</th>\n",
       "      <th>0.5</th>\n",
       "      <th>0.6</th>\n",
       "      <th>0.7</th>\n",
       "      <th>0.8</th>\n",
       "      <th>0.9</th>\n",
       "    </tr>\n",
       "  </thead>\n",
       "  <tbody>\n",
       "    <tr>\n",
       "      <td>0</td>\n",
       "      <td>1</td>\n",
       "      <td>0.725493</td>\n",
       "      <td>4420</td>\n",
       "      <td>1</td>\n",
       "      <td>1</td>\n",
       "      <td>1</td>\n",
       "      <td>1</td>\n",
       "      <td>1</td>\n",
       "      <td>1</td>\n",
       "      <td>1</td>\n",
       "      <td>1</td>\n",
       "      <td>1</td>\n",
       "      <td>0</td>\n",
       "      <td>0</td>\n",
       "    </tr>\n",
       "    <tr>\n",
       "      <td>1</td>\n",
       "      <td>0</td>\n",
       "      <td>0.177215</td>\n",
       "      <td>284</td>\n",
       "      <td>0</td>\n",
       "      <td>1</td>\n",
       "      <td>1</td>\n",
       "      <td>0</td>\n",
       "      <td>0</td>\n",
       "      <td>0</td>\n",
       "      <td>0</td>\n",
       "      <td>0</td>\n",
       "      <td>0</td>\n",
       "      <td>0</td>\n",
       "      <td>0</td>\n",
       "    </tr>\n",
       "    <tr>\n",
       "      <td>2</td>\n",
       "      <td>0</td>\n",
       "      <td>0.086031</td>\n",
       "      <td>2310</td>\n",
       "      <td>0</td>\n",
       "      <td>1</td>\n",
       "      <td>0</td>\n",
       "      <td>0</td>\n",
       "      <td>0</td>\n",
       "      <td>0</td>\n",
       "      <td>0</td>\n",
       "      <td>0</td>\n",
       "      <td>0</td>\n",
       "      <td>0</td>\n",
       "      <td>0</td>\n",
       "    </tr>\n",
       "    <tr>\n",
       "      <td>3</td>\n",
       "      <td>0</td>\n",
       "      <td>0.025702</td>\n",
       "      <td>8311</td>\n",
       "      <td>0</td>\n",
       "      <td>1</td>\n",
       "      <td>0</td>\n",
       "      <td>0</td>\n",
       "      <td>0</td>\n",
       "      <td>0</td>\n",
       "      <td>0</td>\n",
       "      <td>0</td>\n",
       "      <td>0</td>\n",
       "      <td>0</td>\n",
       "      <td>0</td>\n",
       "    </tr>\n",
       "    <tr>\n",
       "      <td>4</td>\n",
       "      <td>0</td>\n",
       "      <td>0.102078</td>\n",
       "      <td>417</td>\n",
       "      <td>0</td>\n",
       "      <td>1</td>\n",
       "      <td>1</td>\n",
       "      <td>0</td>\n",
       "      <td>0</td>\n",
       "      <td>0</td>\n",
       "      <td>0</td>\n",
       "      <td>0</td>\n",
       "      <td>0</td>\n",
       "      <td>0</td>\n",
       "      <td>0</td>\n",
       "    </tr>\n",
       "  </tbody>\n",
       "</table>\n",
       "</div>"
      ],
      "text/plain": [
       "   Converted  Converted_Prob  CustID  predicted  0.0  0.1  0.2  0.3  0.4  0.5  \\\n",
       "0          1        0.725493    4420          1    1    1    1    1    1    1   \n",
       "1          0        0.177215     284          0    1    1    0    0    0    0   \n",
       "2          0        0.086031    2310          0    1    0    0    0    0    0   \n",
       "3          0        0.025702    8311          0    1    0    0    0    0    0   \n",
       "4          0        0.102078     417          0    1    1    0    0    0    0   \n",
       "\n",
       "   0.6  0.7  0.8  0.9  \n",
       "0    1    1    0    0  \n",
       "1    0    0    0    0  \n",
       "2    0    0    0    0  \n",
       "3    0    0    0    0  \n",
       "4    0    0    0    0  "
      ]
     },
     "execution_count": 129,
     "metadata": {},
     "output_type": "execute_result"
    }
   ],
   "source": [
    "# Let's create columns with different probability cutoffs \n",
    "numbers = [float(x)/10 for x in range(10)]\n",
    "for i in numbers:\n",
    "    y_train_pred_final[i]= y_train_pred_final.Converted_Prob.map(lambda x: 1 if x > i else 0)\n",
    "y_train_pred_final.head()"
   ]
  },
  {
   "cell_type": "code",
   "execution_count": 130,
   "metadata": {},
   "outputs": [
    {
     "name": "stdout",
     "output_type": "stream",
     "text": [
      "     prob  accuracy     sensi     speci\n",
      "0.0   0.0  0.376160  1.000000  0.000000\n",
      "0.1   0.1  0.631005  0.971429  0.425737\n",
      "0.2   0.2  0.771373  0.915152  0.684678\n",
      "0.3   0.3  0.798893  0.871861  0.754894\n",
      "0.4   0.4  0.822504  0.775758  0.850692\n",
      "0.5   0.5  0.823807  0.711688  0.891412\n",
      "0.6   0.6  0.814362  0.640693  0.919081\n",
      "0.7   0.7  0.791565  0.530736  0.948838\n",
      "0.8   0.8  0.772838  0.443290  0.971548\n",
      "0.9   0.9  0.726755  0.292641  0.988515\n"
     ]
    }
   ],
   "source": [
    "# Now let's calculate accuracy sensitivity and specificity for various probability cutoffs.\n",
    "cutoff_df = pd.DataFrame( columns = ['prob','accuracy','sensi','speci'])\n",
    "from sklearn.metrics import confusion_matrix\n",
    "\n",
    "# TP = confusion[1,1] # true positive \n",
    "# TN = confusion[0,0] # true negatives\n",
    "# FP = confusion[0,1] # false positives\n",
    "# FN = confusion[1,0] # false negatives\n",
    "\n",
    "num = [0.0,0.1,0.2,0.3,0.4,0.5,0.6,0.7,0.8,0.9]\n",
    "for i in num:\n",
    "    cm1 = confusion_matrix(y_train_pred_final.Converted, y_train_pred_final[i] )\n",
    "    total1=sum(sum(cm1))\n",
    "    accuracy = (cm1[0,0]+cm1[1,1])/total1\n",
    "    \n",
    "    speci = cm1[0,0]/(cm1[0,0]+cm1[0,1])\n",
    "    sensi = cm1[1,1]/(cm1[1,0]+cm1[1,1])\n",
    "    cutoff_df.loc[i] =[ i ,accuracy,sensi,speci]\n",
    "print(cutoff_df)"
   ]
  },
  {
   "cell_type": "code",
   "execution_count": 131,
   "metadata": {},
   "outputs": [
    {
     "data": {
      "image/png": "[encoded data removed]",
      "text/plain": [
       "<Figure size 432x288 with 1 Axes>"
      ]
     },
     "metadata": {
      "needs_background": "light"
     },
     "output_type": "display_data"
    }
   ],
   "source": [
    "# Let's plot accuracy sensitivity and specificity for various probabilities\n",
    "#Zero in at the cutoff probability of 0.34 for 80% sensitivity and specificity\n",
    "cutoff_df.plot.line(x='prob', y=['accuracy','sensi','speci'])\n",
    "plt.show()"
   ]
  },
  {
   "cell_type": "code",
   "execution_count": 132,
   "metadata": {
    "scrolled": true
   },
   "outputs": [
    {
     "data": {
      "text/plain": [
       "Lead Origin_Lead Add Form                                2.7009\n",
       "What is your current occupation_Working Professional     2.4682\n",
       "Last Notable Activity_Unreachable                        2.1749\n",
       "Country_unknown                                          1.5034\n",
       "Last Activity_SMS Sent                                   1.3710\n",
       "Last Notable Activity_Unsubscribed                       1.3574\n",
       "Total Time Spent on Website                              1.1853\n",
       "const                                                   -0.3890\n",
       "Specialization_Other                                    -0.9059\n",
       "Lead Origin_Landing Page Submission                     -0.9795\n",
       "What matters most to you in choosing a course_Unknown   -1.1437\n",
       "Last Activity_Olark Chat Conversation                   -1.4617\n",
       "Do Not Email                                            -1.4809\n",
       "Name: coef, dtype: float64"
      ]
     },
     "execution_count": 132,
     "metadata": {},
     "output_type": "execute_result"
    }
   ],
   "source": [
    "Model.sort_values(ascending=False) ##Final Model with coefficients"
   ]
  },
  {
   "cell_type": "code",
   "execution_count": 133,
   "metadata": {},
   "outputs": [
    {
     "name": "stdout",
     "output_type": "stream",
     "text": [
      "              precision    recall  f1-score   support\n",
      "\n",
      "           0       0.87      0.81      0.84      1652\n",
      "           1       0.71      0.80      0.75       981\n",
      "\n",
      "    accuracy                           0.81      2633\n",
      "   macro avg       0.79      0.80      0.80      2633\n",
      "weighted avg       0.81      0.81      0.81      2633\n",
      "\n"
     ]
    }
   ],
   "source": [
    "print(classification_report(y_test_pred_final.Converted,y_test_pred_final.predicted))"
   ]
  },
  {
   "cell_type": "code",
   "execution_count": null,
   "metadata": {},
   "outputs": [],
   "source": []
  }
 ],
 "metadata": {
  "kernelspec": {
   "display_name": "Python 3",
   "language": "python",
   "name": "python3"
  },
  "language_info": {
   "codemirror_mode": {
    "name": "ipython",
    "version": 3
   },
   "file_extension": ".py",
   "mimetype": "text/x-python",
   "name": "python",
   "nbconvert_exporter": "python",
   "pygments_lexer": "ipython3",
   "version": "3.7.4"
  }
 },
 "nbformat": 4,
 "nbformat_minor": 2
}

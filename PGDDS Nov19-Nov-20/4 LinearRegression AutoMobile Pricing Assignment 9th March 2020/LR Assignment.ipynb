{
 "cells": [
  {
   "cell_type": "code",
   "execution_count": 294,
   "metadata": {},
   "outputs": [],
   "source": [
    "import numpy as np\n",
    "import pandas as pd\n",
    "import matplotlib.pyplot as plt\n",
    "import seaborn as sns\n",
    "%matplotlib inline"
   ]
  },
  {
   "cell_type": "code",
   "execution_count": 295,
   "metadata": {},
   "outputs": [],
   "source": [
    "import warnings\n",
    "warnings.filterwarnings('ignore')"
   ]
  },
  {
   "cell_type": "code",
   "execution_count": 296,
   "metadata": {},
   "outputs": [],
   "source": [
    "df = pd.read_csv(\"CarPrice_Assignment.csv\")"
   ]
  },
  {
   "cell_type": "code",
   "execution_count": 297,
   "metadata": {},
   "outputs": [
    {
     "name": "stdout",
     "output_type": "stream",
     "text": [
      "<class 'pandas.core.frame.DataFrame'>\n",
      "RangeIndex: 205 entries, 0 to 204\n",
      "Data columns (total 26 columns):\n",
      "car_ID              205 non-null int64\n",
      "symboling           205 non-null int64\n",
      "CarName             205 non-null object\n",
      "fueltype            205 non-null object\n",
      "aspiration          205 non-null object\n",
      "doornumber          205 non-null object\n",
      "carbody             205 non-null object\n",
      "drivewheel          205 non-null object\n",
      "enginelocation      205 non-null object\n",
      "wheelbase           205 non-null float64\n",
      "carlength           205 non-null float64\n",
      "carwidth            205 non-null float64\n",
      "carheight           205 non-null float64\n",
      "curbweight          205 non-null int64\n",
      "enginetype          205 non-null object\n",
      "cylindernumber      205 non-null object\n",
      "enginesize          205 non-null int64\n",
      "fuelsystem          205 non-null object\n",
      "boreratio           205 non-null float64\n",
      "stroke              205 non-null float64\n",
      "compressionratio    205 non-null float64\n",
      "horsepower          205 non-null int64\n",
      "peakrpm             205 non-null int64\n",
      "citympg             205 non-null int64\n",
      "highwaympg          205 non-null int64\n",
      "price               205 non-null float64\n",
      "dtypes: float64(8), int64(8), object(10)\n",
      "memory usage: 41.8+ KB\n"
     ]
    }
   ],
   "source": [
    "df.info() # No Null values accross the columns"
   ]
  },
  {
   "cell_type": "code",
   "execution_count": 298,
   "metadata": {},
   "outputs": [
    {
     "data": {
      "text/plain": [
       "0"
      ]
     },
     "execution_count": 298,
     "metadata": {},
     "output_type": "execute_result"
    }
   ],
   "source": [
    "df.duplicated().sum() # Confirms no duplicate row"
   ]
  },
  {
   "cell_type": "code",
   "execution_count": 299,
   "metadata": {
    "scrolled": true
   },
   "outputs": [
    {
     "data": {
      "text/plain": [
       "Index(['car_ID', 'symboling', 'CarName', 'fueltype', 'aspiration',\n",
       "       'doornumber', 'carbody', 'drivewheel', 'enginelocation', 'wheelbase',\n",
       "       'carlength', 'carwidth', 'carheight', 'curbweight', 'enginetype',\n",
       "       'cylindernumber', 'enginesize', 'fuelsystem', 'boreratio', 'stroke',\n",
       "       'compressionratio', 'horsepower', 'peakrpm', 'citympg', 'highwaympg',\n",
       "       'price'],\n",
       "      dtype='object')"
      ]
     },
     "execution_count": 299,
     "metadata": {},
     "output_type": "execute_result"
    }
   ],
   "source": [
    "df.columns"
   ]
  },
  {
   "cell_type": "code",
   "execution_count": 300,
   "metadata": {
    "scrolled": true
   },
   "outputs": [],
   "source": [
    "#df[\"symboling\"].value_counts() --Checking for spelling inconsistencies for categorical varables"
   ]
  },
  {
   "cell_type": "code",
   "execution_count": 301,
   "metadata": {},
   "outputs": [],
   "source": [
    "df[\"MakeOrBrand\"] = df[\"CarName\"].str.split().str.get(0) #Adding Make/Brand column to capture Brand Perception weightage"
   ]
  },
  {
   "cell_type": "code",
   "execution_count": 302,
   "metadata": {
    "scrolled": true
   },
   "outputs": [
    {
     "data": {
      "text/plain": [
       "0"
      ]
     },
     "execution_count": 302,
     "metadata": {},
     "output_type": "execute_result"
    }
   ],
   "source": [
    "df[\"MakeOrBrand\"].isnull().sum() # No null value in created coulumn"
   ]
  },
  {
   "cell_type": "code",
   "execution_count": 303,
   "metadata": {},
   "outputs": [],
   "source": [
    "cat = ['MakeOrBrand','symboling', 'fueltype', 'aspiration',\n",
    "       'doornumber', 'carbody', 'drivewheel', 'enginelocation', 'enginetype',\n",
    "       'cylindernumber', 'fuelsystem']"
   ]
  },
  {
   "cell_type": "code",
   "execution_count": 304,
   "metadata": {},
   "outputs": [],
   "source": [
    "df1 = pd.get_dummies(df[cat],drop_first=True)"
   ]
  },
  {
   "cell_type": "code",
   "execution_count": 305,
   "metadata": {},
   "outputs": [
    {
     "data": {
      "text/plain": [
       "Index(['symboling', 'MakeOrBrand_alfa-romero', 'MakeOrBrand_audi',\n",
       "       'MakeOrBrand_bmw', 'MakeOrBrand_buick', 'MakeOrBrand_chevrolet',\n",
       "       'MakeOrBrand_dodge', 'MakeOrBrand_honda', 'MakeOrBrand_isuzu',\n",
       "       'MakeOrBrand_jaguar', 'MakeOrBrand_maxda', 'MakeOrBrand_mazda',\n",
       "       'MakeOrBrand_mercury', 'MakeOrBrand_mitsubishi', 'MakeOrBrand_nissan',\n",
       "       'MakeOrBrand_peugeot', 'MakeOrBrand_plymouth', 'MakeOrBrand_porcshce',\n",
       "       'MakeOrBrand_porsche', 'MakeOrBrand_renault', 'MakeOrBrand_saab',\n",
       "       'MakeOrBrand_subaru', 'MakeOrBrand_toyota', 'MakeOrBrand_toyouta',\n",
       "       'MakeOrBrand_vokswagen', 'MakeOrBrand_volkswagen', 'MakeOrBrand_volvo',\n",
       "       'MakeOrBrand_vw', 'fueltype_gas', 'aspiration_turbo', 'doornumber_two',\n",
       "       'carbody_hardtop', 'carbody_hatchback', 'carbody_sedan',\n",
       "       'carbody_wagon', 'drivewheel_fwd', 'drivewheel_rwd',\n",
       "       'enginelocation_rear', 'enginetype_dohcv', 'enginetype_l',\n",
       "       'enginetype_ohc', 'enginetype_ohcf', 'enginetype_ohcv',\n",
       "       'enginetype_rotor', 'cylindernumber_five', 'cylindernumber_four',\n",
       "       'cylindernumber_six', 'cylindernumber_three', 'cylindernumber_twelve',\n",
       "       'cylindernumber_two', 'fuelsystem_2bbl', 'fuelsystem_4bbl',\n",
       "       'fuelsystem_idi', 'fuelsystem_mfi', 'fuelsystem_mpfi',\n",
       "       'fuelsystem_spdi', 'fuelsystem_spfi'],\n",
       "      dtype='object')"
      ]
     },
     "execution_count": 305,
     "metadata": {},
     "output_type": "execute_result"
    }
   ],
   "source": [
    "df1.columns"
   ]
  },
  {
   "cell_type": "code",
   "execution_count": 306,
   "metadata": {},
   "outputs": [],
   "source": [
    "colnumeric = [\"wheelbase\",\"carlength\",\"carwidth\",\"carheight\",\"curbweight\",\"enginesize\",\n",
    "              \"boreratio\",\"stroke\",\"compressionratio\",\"horsepower\",\"peakrpm\",\"citympg\",\"highwaympg\",\"price\"]"
   ]
  },
  {
   "cell_type": "code",
   "execution_count": 307,
   "metadata": {},
   "outputs": [],
   "source": [
    "dfml = pd.concat([df[colnumeric],df1],axis=1)"
   ]
  },
  {
   "cell_type": "code",
   "execution_count": 308,
   "metadata": {},
   "outputs": [],
   "source": [
    "from sklearn.model_selection import train_test_split"
   ]
  },
  {
   "cell_type": "code",
   "execution_count": 309,
   "metadata": {},
   "outputs": [],
   "source": [
    "np.random.seed(0)\n",
    "df_train, df_test = train_test_split(dfml, train_size = 0.7, test_size = 0.3, random_state = 100)"
   ]
  },
  {
   "cell_type": "code",
   "execution_count": 310,
   "metadata": {},
   "outputs": [
    {
     "data": {
      "text/plain": [
       "(143, 71)"
      ]
     },
     "execution_count": 310,
     "metadata": {},
     "output_type": "execute_result"
    }
   ],
   "source": [
    "df_train.shape"
   ]
  },
  {
   "cell_type": "code",
   "execution_count": 311,
   "metadata": {},
   "outputs": [
    {
     "data": {
      "text/plain": [
       "(62, 71)"
      ]
     },
     "execution_count": 311,
     "metadata": {},
     "output_type": "execute_result"
    }
   ],
   "source": [
    "df_test.shape"
   ]
  },
  {
   "cell_type": "code",
   "execution_count": 312,
   "metadata": {},
   "outputs": [],
   "source": [
    "#df_train.columns"
   ]
  },
  {
   "cell_type": "code",
   "execution_count": 313,
   "metadata": {},
   "outputs": [],
   "source": [
    "from sklearn.preprocessing import MinMaxScaler"
   ]
  },
  {
   "cell_type": "code",
   "execution_count": 314,
   "metadata": {},
   "outputs": [],
   "source": [
    "scaler = MinMaxScaler()"
   ]
  },
  {
   "cell_type": "code",
   "execution_count": 315,
   "metadata": {},
   "outputs": [],
   "source": [
    "df_train[df_train.columns] = scaler.fit_transform(df_train[df_train.columns])"
   ]
  },
  {
   "cell_type": "code",
   "execution_count": 316,
   "metadata": {},
   "outputs": [
    {
     "data": {
      "text/html": [
       "<div>\n",
       "<style scoped>\n",
       "    .dataframe tbody tr th:only-of-type {\n",
       "        vertical-align: middle;\n",
       "    }\n",
       "\n",
       "    .dataframe tbody tr th {\n",
       "        vertical-align: top;\n",
       "    }\n",
       "\n",
       "    .dataframe thead th {\n",
       "        text-align: right;\n",
       "    }\n",
       "</style>\n",
       "<table border=\"1\" class=\"dataframe\">\n",
       "  <thead>\n",
       "    <tr style=\"text-align: right;\">\n",
       "      <th></th>\n",
       "      <th>wheelbase</th>\n",
       "      <th>carlength</th>\n",
       "      <th>carwidth</th>\n",
       "      <th>carheight</th>\n",
       "      <th>curbweight</th>\n",
       "      <th>enginesize</th>\n",
       "      <th>boreratio</th>\n",
       "      <th>stroke</th>\n",
       "      <th>compressionratio</th>\n",
       "      <th>horsepower</th>\n",
       "      <th>...</th>\n",
       "      <th>cylindernumber_three</th>\n",
       "      <th>cylindernumber_twelve</th>\n",
       "      <th>cylindernumber_two</th>\n",
       "      <th>fuelsystem_2bbl</th>\n",
       "      <th>fuelsystem_4bbl</th>\n",
       "      <th>fuelsystem_idi</th>\n",
       "      <th>fuelsystem_mfi</th>\n",
       "      <th>fuelsystem_mpfi</th>\n",
       "      <th>fuelsystem_spdi</th>\n",
       "      <th>fuelsystem_spfi</th>\n",
       "    </tr>\n",
       "  </thead>\n",
       "  <tbody>\n",
       "    <tr>\n",
       "      <td>122</td>\n",
       "      <td>0.244828</td>\n",
       "      <td>0.426016</td>\n",
       "      <td>0.291667</td>\n",
       "      <td>0.265487</td>\n",
       "      <td>0.272692</td>\n",
       "      <td>0.139623</td>\n",
       "      <td>0.230159</td>\n",
       "      <td>0.525253</td>\n",
       "      <td>0.15</td>\n",
       "      <td>0.083333</td>\n",
       "      <td>...</td>\n",
       "      <td>0.0</td>\n",
       "      <td>0.0</td>\n",
       "      <td>0.0</td>\n",
       "      <td>1.0</td>\n",
       "      <td>0.0</td>\n",
       "      <td>0.0</td>\n",
       "      <td>0.0</td>\n",
       "      <td>0.0</td>\n",
       "      <td>0.0</td>\n",
       "      <td>0.0</td>\n",
       "    </tr>\n",
       "  </tbody>\n",
       "</table>\n",
       "<p>1 rows × 71 columns</p>\n",
       "</div>"
      ],
      "text/plain": [
       "     wheelbase  carlength  carwidth  carheight  curbweight  enginesize  \\\n",
       "122   0.244828   0.426016  0.291667   0.265487    0.272692    0.139623   \n",
       "\n",
       "     boreratio    stroke  compressionratio  horsepower  ...  \\\n",
       "122   0.230159  0.525253              0.15    0.083333  ...   \n",
       "\n",
       "     cylindernumber_three  cylindernumber_twelve  cylindernumber_two  \\\n",
       "122                   0.0                    0.0                 0.0   \n",
       "\n",
       "     fuelsystem_2bbl  fuelsystem_4bbl  fuelsystem_idi  fuelsystem_mfi  \\\n",
       "122              1.0              0.0             0.0             0.0   \n",
       "\n",
       "     fuelsystem_mpfi  fuelsystem_spdi  fuelsystem_spfi  \n",
       "122              0.0              0.0              0.0  \n",
       "\n",
       "[1 rows x 71 columns]"
      ]
     },
     "execution_count": 316,
     "metadata": {},
     "output_type": "execute_result"
    }
   ],
   "source": [
    "df_train[:1]"
   ]
  },
  {
   "cell_type": "code",
   "execution_count": 317,
   "metadata": {},
   "outputs": [],
   "source": [
    "from sklearn.linear_model import LinearRegression"
   ]
  },
  {
   "cell_type": "code",
   "execution_count": 318,
   "metadata": {},
   "outputs": [],
   "source": [
    "lr = LinearRegression()"
   ]
  },
  {
   "cell_type": "code",
   "execution_count": 319,
   "metadata": {},
   "outputs": [],
   "source": [
    "y_train = df_train.pop('price')\n",
    "X_train = df_train"
   ]
  },
  {
   "cell_type": "code",
   "execution_count": 320,
   "metadata": {},
   "outputs": [
    {
     "data": {
      "text/plain": [
       "LinearRegression(copy_X=True, fit_intercept=True, n_jobs=None, normalize=False)"
      ]
     },
     "execution_count": 320,
     "metadata": {},
     "output_type": "execute_result"
    }
   ],
   "source": [
    "lr.fit(X_train,y_train)"
   ]
  },
  {
   "cell_type": "code",
   "execution_count": 323,
   "metadata": {},
   "outputs": [],
   "source": [
    "df_test[df_test.columns] = scaler.transform(df_test[df_test.columns])"
   ]
  },
  {
   "cell_type": "code",
   "execution_count": 324,
   "metadata": {},
   "outputs": [],
   "source": [
    "y_test = df_test.pop('price')\n",
    "X_test = df_test"
   ]
  },
  {
   "cell_type": "code",
   "execution_count": 325,
   "metadata": {},
   "outputs": [],
   "source": [
    "y_pred = lr.predict(X_test)"
   ]
  },
  {
   "cell_type": "code",
   "execution_count": 326,
   "metadata": {},
   "outputs": [],
   "source": [
    "from sklearn.metrics import r2_score"
   ]
  },
  {
   "cell_type": "code",
   "execution_count": 327,
   "metadata": {},
   "outputs": [
    {
     "data": {
      "text/plain": [
       "0.8171976727778472"
      ]
     },
     "execution_count": 327,
     "metadata": {},
     "output_type": "execute_result"
    }
   ],
   "source": [
    "r2_score(y_test, y_pred)"
   ]
  },
  {
   "cell_type": "code",
   "execution_count": 328,
   "metadata": {},
   "outputs": [],
   "source": [
    "y_train_pred = lr.predict(X_train)"
   ]
  },
  {
   "cell_type": "code",
   "execution_count": 329,
   "metadata": {},
   "outputs": [
    {
     "data": {
      "text/plain": [
       "0.9750026623336441"
      ]
     },
     "execution_count": 329,
     "metadata": {},
     "output_type": "execute_result"
    }
   ],
   "source": [
    "r2_score(y_train, y_train_pred)"
   ]
  },
  {
   "cell_type": "code",
   "execution_count": 330,
   "metadata": {},
   "outputs": [
    {
     "data": {
      "text/plain": [
       "Text(0.5, 1.0, 'on mark Prediction on train set')"
      ]
     },
     "execution_count": 330,
     "metadata": {},
     "output_type": "execute_result"
    },
    {
     "data": {
      "image/png": "[encoded data removed]",
      "text/plain": [
       "<Figure size 1080x360 with 1 Axes>"
      ]
     },
     "metadata": {
      "needs_background": "light"
     },
     "output_type": "display_data"
    }
   ],
   "source": [
    "plt.figure(figsize=(15,5))\n",
    "plt.plot(range(len(y_train)),y_train,label=\"y train\",color=\"blue\",linewidth=2.5)\n",
    "plt.plot(range(len(y_train)),y_train_pred,label=\"y pred\",color=\"red\",linewidth=2.5)\n",
    "plt.legend()#Correct prediction on test set\n",
    "plt.title(\"on mark Prediction on train set\")"
   ]
  },
  {
   "cell_type": "code",
   "execution_count": 340,
   "metadata": {},
   "outputs": [
    {
     "data": {
      "text/plain": [
       "Text(0.5, 1.0, 'prediction on test/unseen data-set')"
      ]
     },
     "execution_count": 340,
     "metadata": {},
     "output_type": "execute_result"
    },
    {
     "data": {
      "image/png": "[encoded data removed]",
      "text/plain": [
       "<Figure size 1080x360 with 1 Axes>"
      ]
     },
     "metadata": {
      "needs_background": "light"
     },
     "output_type": "display_data"
    }
   ],
   "source": [
    "plt.figure(figsize=(15,5))\n",
    "plt.plot(range(len(y_test)),y_test,label=\"y test\",color=\"red\",linewidth=2.5)\n",
    "plt.plot(range(len(y_test)),y_pred,label=\"y pred\",color=\"blue\",linewidth=2.5)\n",
    "plt.legend()\n",
    "plt.title(\"prediction on test/unseen data-set\")"
   ]
  },
  {
   "cell_type": "code",
   "execution_count": 332,
   "metadata": {},
   "outputs": [],
   "source": [
    "#Using RFE to eliminate features not able to explain price variation using RFE"
   ]
  },
  {
   "cell_type": "code",
   "execution_count": 342,
   "metadata": {},
   "outputs": [],
   "source": [
    "from sklearn.feature_selection import RFE"
   ]
  },
  {
   "cell_type": "code",
   "execution_count": 343,
   "metadata": {},
   "outputs": [],
   "source": [
    "lr1 = LinearRegression()"
   ]
  },
  {
   "cell_type": "code",
   "execution_count": 344,
   "metadata": {},
   "outputs": [],
   "source": [
    "selector = RFE(lr1, 16, step=1)"
   ]
  },
  {
   "cell_type": "code",
   "execution_count": 345,
   "metadata": {},
   "outputs": [],
   "source": [
    "selector = selector.fit(X_train,y_train)"
   ]
  },
  {
   "cell_type": "code",
   "execution_count": 346,
   "metadata": {},
   "outputs": [
    {
     "data": {
      "text/plain": [
       "array([False, False,  True, False,  True,  True,  True,  True, False,\n",
       "       False, False, False, False, False, False, False,  True, False,\n",
       "       False, False, False, False, False, False, False, False, False,\n",
       "       False,  True, False, False,  True, False, False, False, False,\n",
       "       False, False, False, False, False, False, False, False, False,\n",
       "       False, False, False, False, False,  True, False,  True, False,\n",
       "       False, False,  True,  True,  True, False,  True,  True,  True,\n",
       "       False, False, False, False, False, False, False])"
      ]
     },
     "execution_count": 346,
     "metadata": {},
     "output_type": "execute_result"
    }
   ],
   "source": [
    "selector.support_"
   ]
  },
  {
   "cell_type": "code",
   "execution_count": 347,
   "metadata": {},
   "outputs": [
    {
     "data": {
      "text/plain": [
       "array([11, 15,  1, 12,  1,  1,  1,  1, 19,  9, 10, 33, 20, 38, 41, 31,  1,\n",
       "       32, 17, 14, 16, 46, 21, 39, 43, 53,  7, 44,  1, 13, 51,  1, 34,  3,\n",
       "        5, 47, 40, 52, 48,  2, 37, 23,  8, 45, 25, 24, 26, 27, 49, 36,  1,\n",
       "        6,  1, 50,  4, 35,  1,  1,  1, 22,  1,  1,  1, 42, 28, 18, 54, 30,\n",
       "       29, 55])"
      ]
     },
     "execution_count": 347,
     "metadata": {},
     "output_type": "execute_result"
    }
   ],
   "source": [
    "selector.ranking_"
   ]
  },
  {
   "cell_type": "code",
   "execution_count": 355,
   "metadata": {},
   "outputs": [],
   "source": [
    "col_sel=X_train.columns[selector.support_]"
   ]
  },
  {
   "cell_type": "code",
   "execution_count": 357,
   "metadata": {},
   "outputs": [],
   "source": [
    "#Addding price to column seleted\n",
    "col_sel =['carwidth', 'curbweight', 'enginesize', 'boreratio', 'stroke',\n",
    "       'MakeOrBrand_bmw', 'MakeOrBrand_peugeot', 'MakeOrBrand_porsche',\n",
    "       'enginelocation_rear', 'enginetype_l', 'enginetype_rotor',\n",
    "       'cylindernumber_five', 'cylindernumber_four', 'cylindernumber_three',\n",
    "       'cylindernumber_twelve', 'cylindernumber_two','price']"
   ]
  },
  {
   "cell_type": "code",
   "execution_count": 358,
   "metadata": {},
   "outputs": [],
   "source": [
    "dfml_sel = dfml[col_sel]"
   ]
  },
  {
   "cell_type": "code",
   "execution_count": 359,
   "metadata": {},
   "outputs": [
    {
     "data": {
      "text/plain": [
       "Index(['carwidth', 'curbweight', 'enginesize', 'boreratio', 'stroke',\n",
       "       'MakeOrBrand_bmw', 'MakeOrBrand_peugeot', 'MakeOrBrand_porsche',\n",
       "       'enginelocation_rear', 'enginetype_l', 'enginetype_rotor',\n",
       "       'cylindernumber_five', 'cylindernumber_four', 'cylindernumber_three',\n",
       "       'cylindernumber_twelve', 'cylindernumber_two', 'price'],\n",
       "      dtype='object')"
      ]
     },
     "execution_count": 359,
     "metadata": {},
     "output_type": "execute_result"
    }
   ],
   "source": [
    "dfml_sel.columns"
   ]
  },
  {
   "cell_type": "code",
   "execution_count": 360,
   "metadata": {},
   "outputs": [],
   "source": [
    "np.random.seed(0)\n",
    "df_train_s, df_test_s = train_test_split(dfml_sel, train_size = 0.7, test_size = 0.3, random_state = 100)"
   ]
  },
  {
   "cell_type": "code",
   "execution_count": 361,
   "metadata": {},
   "outputs": [],
   "source": [
    "from sklearn.preprocessing import MinMaxScaler"
   ]
  },
  {
   "cell_type": "code",
   "execution_count": 362,
   "metadata": {},
   "outputs": [],
   "source": [
    "scaler1 = MinMaxScaler()"
   ]
  },
  {
   "cell_type": "code",
   "execution_count": 363,
   "metadata": {},
   "outputs": [],
   "source": [
    "df_train_s[df_train_s.columns] = scaler1.fit_transform(df_train_s[df_train_s.columns])"
   ]
  },
  {
   "cell_type": "code",
   "execution_count": 364,
   "metadata": {
    "scrolled": true
   },
   "outputs": [
    {
     "data": {
      "text/html": [
       "<div>\n",
       "<style scoped>\n",
       "    .dataframe tbody tr th:only-of-type {\n",
       "        vertical-align: middle;\n",
       "    }\n",
       "\n",
       "    .dataframe tbody tr th {\n",
       "        vertical-align: top;\n",
       "    }\n",
       "\n",
       "    .dataframe thead th {\n",
       "        text-align: right;\n",
       "    }\n",
       "</style>\n",
       "<table border=\"1\" class=\"dataframe\">\n",
       "  <thead>\n",
       "    <tr style=\"text-align: right;\">\n",
       "      <th></th>\n",
       "      <th>carwidth</th>\n",
       "      <th>curbweight</th>\n",
       "      <th>enginesize</th>\n",
       "      <th>boreratio</th>\n",
       "      <th>stroke</th>\n",
       "      <th>MakeOrBrand_bmw</th>\n",
       "      <th>MakeOrBrand_peugeot</th>\n",
       "      <th>MakeOrBrand_porsche</th>\n",
       "      <th>enginelocation_rear</th>\n",
       "      <th>enginetype_l</th>\n",
       "      <th>enginetype_rotor</th>\n",
       "      <th>cylindernumber_five</th>\n",
       "      <th>cylindernumber_four</th>\n",
       "      <th>cylindernumber_three</th>\n",
       "      <th>cylindernumber_twelve</th>\n",
       "      <th>cylindernumber_two</th>\n",
       "      <th>price</th>\n",
       "    </tr>\n",
       "  </thead>\n",
       "  <tbody>\n",
       "    <tr>\n",
       "      <td>122</td>\n",
       "      <td>0.291667</td>\n",
       "      <td>0.272692</td>\n",
       "      <td>0.139623</td>\n",
       "      <td>0.230159</td>\n",
       "      <td>0.525253</td>\n",
       "      <td>0.0</td>\n",
       "      <td>0.0</td>\n",
       "      <td>0.0</td>\n",
       "      <td>0.0</td>\n",
       "      <td>0.0</td>\n",
       "      <td>0.0</td>\n",
       "      <td>0.0</td>\n",
       "      <td>1.0</td>\n",
       "      <td>0.0</td>\n",
       "      <td>0.0</td>\n",
       "      <td>0.0</td>\n",
       "      <td>0.068818</td>\n",
       "    </tr>\n",
       "  </tbody>\n",
       "</table>\n",
       "</div>"
      ],
      "text/plain": [
       "     carwidth  curbweight  enginesize  boreratio    stroke  MakeOrBrand_bmw  \\\n",
       "122  0.291667    0.272692    0.139623   0.230159  0.525253              0.0   \n",
       "\n",
       "     MakeOrBrand_peugeot  MakeOrBrand_porsche  enginelocation_rear  \\\n",
       "122                  0.0                  0.0                  0.0   \n",
       "\n",
       "     enginetype_l  enginetype_rotor  cylindernumber_five  cylindernumber_four  \\\n",
       "122           0.0               0.0                  0.0                  1.0   \n",
       "\n",
       "     cylindernumber_three  cylindernumber_twelve  cylindernumber_two     price  \n",
       "122                   0.0                    0.0                 0.0  0.068818  "
      ]
     },
     "execution_count": 364,
     "metadata": {},
     "output_type": "execute_result"
    }
   ],
   "source": [
    "df_train_s[:1]"
   ]
  },
  {
   "cell_type": "code",
   "execution_count": 365,
   "metadata": {},
   "outputs": [],
   "source": [
    "y_train_s = df_train_s.pop('price')\n",
    "X_train_s = df_train_s"
   ]
  },
  {
   "cell_type": "code",
   "execution_count": 366,
   "metadata": {},
   "outputs": [
    {
     "data": {
      "text/plain": [
       "LinearRegression(copy_X=True, fit_intercept=True, n_jobs=None, normalize=False)"
      ]
     },
     "execution_count": 366,
     "metadata": {},
     "output_type": "execute_result"
    }
   ],
   "source": [
    "lr1.fit(X_train_s,y_train_s)"
   ]
  },
  {
   "cell_type": "code",
   "execution_count": 367,
   "metadata": {},
   "outputs": [],
   "source": [
    "df_test_s[df_test_s.columns] = scaler1.transform(df_test_s[df_test_s.columns])"
   ]
  },
  {
   "cell_type": "code",
   "execution_count": 368,
   "metadata": {},
   "outputs": [],
   "source": [
    "y_test_s = df_test_s.pop('price')\n",
    "X_test_s = df_test_s"
   ]
  },
  {
   "cell_type": "code",
   "execution_count": 369,
   "metadata": {},
   "outputs": [],
   "source": [
    "y_pred_s = lr1.predict(X_test_s)"
   ]
  },
  {
   "cell_type": "code",
   "execution_count": 167,
   "metadata": {},
   "outputs": [],
   "source": [
    "#y_pred_sel = lr1.predict(X_test_scaled_sel)"
   ]
  },
  {
   "cell_type": "code",
   "execution_count": 370,
   "metadata": {},
   "outputs": [
    {
     "data": {
      "text/plain": [
       "0.889047100074386"
      ]
     },
     "execution_count": 370,
     "metadata": {},
     "output_type": "execute_result"
    }
   ],
   "source": [
    "r2_score(y_test_s, y_pred_s)"
   ]
  },
  {
   "cell_type": "code",
   "execution_count": 371,
   "metadata": {},
   "outputs": [],
   "source": [
    "y_train_pred_s = lr1.predict(X_train_s)"
   ]
  },
  {
   "cell_type": "code",
   "execution_count": 372,
   "metadata": {},
   "outputs": [
    {
     "data": {
      "text/plain": [
       "0.9394469301652291"
      ]
     },
     "execution_count": 372,
     "metadata": {},
     "output_type": "execute_result"
    }
   ],
   "source": [
    "r2_score(y_train_s, y_train_pred_s)"
   ]
  },
  {
   "cell_type": "code",
   "execution_count": 373,
   "metadata": {},
   "outputs": [
    {
     "data": {
      "text/plain": [
       "Index(['carwidth', 'curbweight', 'enginesize', 'boreratio', 'stroke',\n",
       "       'MakeOrBrand_bmw', 'MakeOrBrand_peugeot', 'MakeOrBrand_porsche',\n",
       "       'enginelocation_rear', 'enginetype_l', 'enginetype_rotor',\n",
       "       'cylindernumber_five', 'cylindernumber_four', 'cylindernumber_three',\n",
       "       'cylindernumber_twelve', 'cylindernumber_two'],\n",
       "      dtype='object')"
      ]
     },
     "execution_count": 373,
     "metadata": {},
     "output_type": "execute_result"
    }
   ],
   "source": [
    "dfml_sel.drop(\"price\",axis=1).columns"
   ]
  },
  {
   "cell_type": "code",
   "execution_count": 374,
   "metadata": {},
   "outputs": [
    {
     "data": {
      "text/plain": [
       "Text(0.5, 1.0, 'Coefficients')"
      ]
     },
     "execution_count": 374,
     "metadata": {},
     "output_type": "execute_result"
    },
    {
     "data": {
      "image/png": "[encoded data removed]",
      "text/plain": [
       "<Figure size 1296x216 with 1 Axes>"
      ]
     },
     "metadata": {
      "needs_background": "light"
     },
     "output_type": "display_data"
    }
   ],
   "source": [
    "plt.figure(figsize=(18,3))\n",
    "plt.plot(range(len(lr1.coef_)),lr1.coef_,\"o\")\n",
    "plt.title(\"Coefficients\")"
   ]
  },
  {
   "cell_type": "code",
   "execution_count": 376,
   "metadata": {},
   "outputs": [
    {
     "data": {
      "text/plain": [
       "Text(0.5, 1.0, 'on mark Prediction on train set')"
      ]
     },
     "execution_count": 376,
     "metadata": {},
     "output_type": "execute_result"
    },
    {
     "data": {
      "image/png": "[encoded data removed]",
      "text/plain": [
       "<Figure size 1080x360 with 1 Axes>"
      ]
     },
     "metadata": {
      "needs_background": "light"
     },
     "output_type": "display_data"
    }
   ],
   "source": [
    "plt.figure(figsize=(15,5))\n",
    "plt.plot(range(len(y_train_s)),y_train_s,label=\"y train\",color=\"blue\",linewidth=2.5)\n",
    "plt.plot(range(len(y_train_s)),y_train_pred_s,label=\"y pred_s\",color=\"red\",linewidth=2.5)\n",
    "plt.legend()#Correct prediction on test set\n",
    "plt.title(\"on mark Prediction on train set\")"
   ]
  },
  {
   "cell_type": "code",
   "execution_count": 377,
   "metadata": {},
   "outputs": [
    {
     "data": {
      "text/plain": [
       "Text(0.5, 1.0, 'prediction on test/unseen data-set')"
      ]
     },
     "execution_count": 377,
     "metadata": {},
     "output_type": "execute_result"
    },
    {
     "data": {
      "image/png": "[encoded data removed]",
      "text/plain": [
       "<Figure size 1080x360 with 1 Axes>"
      ]
     },
     "metadata": {
      "needs_background": "light"
     },
     "output_type": "display_data"
    }
   ],
   "source": [
    "plt.figure(figsize=(15,5))\n",
    "plt.plot(range(len(y_test_s)),y_test_s,label=\"y test\",color=\"red\",linewidth=2.5)\n",
    "plt.plot(range(len(y_test_s)),y_pred_s,label=\"y pred_s\",color=\"blue\",linewidth=2.5)\n",
    "plt.legend()\n",
    "plt.title(\"prediction on test/unseen data-set\")"
   ]
  },
  {
   "cell_type": "code",
   "execution_count": 378,
   "metadata": {},
   "outputs": [],
   "source": [
    "features = dfml_sel.drop(\"price\",axis=1).columns"
   ]
  },
  {
   "cell_type": "code",
   "execution_count": 379,
   "metadata": {},
   "outputs": [],
   "source": [
    "coefficients = lr1.coef_"
   ]
  },
  {
   "cell_type": "code",
   "execution_count": 380,
   "metadata": {},
   "outputs": [],
   "source": [
    "fdf = pd.DataFrame({\"Features\":features,\"Coef\":coefficients})"
   ]
  },
  {
   "cell_type": "code",
   "execution_count": 381,
   "metadata": {},
   "outputs": [
    {
     "data": {
      "text/html": [
       "<div>\n",
       "<style scoped>\n",
       "    .dataframe tbody tr th:only-of-type {\n",
       "        vertical-align: middle;\n",
       "    }\n",
       "\n",
       "    .dataframe tbody tr th {\n",
       "        vertical-align: top;\n",
       "    }\n",
       "\n",
       "    .dataframe thead th {\n",
       "        text-align: right;\n",
       "    }\n",
       "</style>\n",
       "<table border=\"1\" class=\"dataframe\">\n",
       "  <thead>\n",
       "    <tr style=\"text-align: right;\">\n",
       "      <th></th>\n",
       "      <th>Features</th>\n",
       "      <th>Coef</th>\n",
       "    </tr>\n",
       "  </thead>\n",
       "  <tbody>\n",
       "    <tr>\n",
       "      <td>0</td>\n",
       "      <td>carwidth</td>\n",
       "      <td>0.347104</td>\n",
       "    </tr>\n",
       "    <tr>\n",
       "      <td>1</td>\n",
       "      <td>curbweight</td>\n",
       "      <td>0.378501</td>\n",
       "    </tr>\n",
       "    <tr>\n",
       "      <td>2</td>\n",
       "      <td>enginesize</td>\n",
       "      <td>1.237243</td>\n",
       "    </tr>\n",
       "    <tr>\n",
       "      <td>3</td>\n",
       "      <td>boreratio</td>\n",
       "      <td>-0.358136</td>\n",
       "    </tr>\n",
       "    <tr>\n",
       "      <td>4</td>\n",
       "      <td>stroke</td>\n",
       "      <td>-0.263932</td>\n",
       "    </tr>\n",
       "    <tr>\n",
       "      <td>5</td>\n",
       "      <td>MakeOrBrand_bmw</td>\n",
       "      <td>0.282122</td>\n",
       "    </tr>\n",
       "    <tr>\n",
       "      <td>6</td>\n",
       "      <td>MakeOrBrand_peugeot</td>\n",
       "      <td>-0.224509</td>\n",
       "    </tr>\n",
       "    <tr>\n",
       "      <td>7</td>\n",
       "      <td>MakeOrBrand_porsche</td>\n",
       "      <td>0.177912</td>\n",
       "    </tr>\n",
       "    <tr>\n",
       "      <td>8</td>\n",
       "      <td>enginelocation_rear</td>\n",
       "      <td>0.350632</td>\n",
       "    </tr>\n",
       "    <tr>\n",
       "      <td>9</td>\n",
       "      <td>enginetype_l</td>\n",
       "      <td>0.115374</td>\n",
       "    </tr>\n",
       "    <tr>\n",
       "      <td>10</td>\n",
       "      <td>enginetype_rotor</td>\n",
       "      <td>0.238291</td>\n",
       "    </tr>\n",
       "    <tr>\n",
       "      <td>11</td>\n",
       "      <td>cylindernumber_five</td>\n",
       "      <td>0.158106</td>\n",
       "    </tr>\n",
       "    <tr>\n",
       "      <td>12</td>\n",
       "      <td>cylindernumber_four</td>\n",
       "      <td>0.225901</td>\n",
       "    </tr>\n",
       "    <tr>\n",
       "      <td>13</td>\n",
       "      <td>cylindernumber_three</td>\n",
       "      <td>0.339883</td>\n",
       "    </tr>\n",
       "    <tr>\n",
       "      <td>14</td>\n",
       "      <td>cylindernumber_twelve</td>\n",
       "      <td>-0.446057</td>\n",
       "    </tr>\n",
       "    <tr>\n",
       "      <td>15</td>\n",
       "      <td>cylindernumber_two</td>\n",
       "      <td>0.238291</td>\n",
       "    </tr>\n",
       "  </tbody>\n",
       "</table>\n",
       "</div>"
      ],
      "text/plain": [
       "                 Features      Coef\n",
       "0                carwidth  0.347104\n",
       "1              curbweight  0.378501\n",
       "2              enginesize  1.237243\n",
       "3               boreratio -0.358136\n",
       "4                  stroke -0.263932\n",
       "5         MakeOrBrand_bmw  0.282122\n",
       "6     MakeOrBrand_peugeot -0.224509\n",
       "7     MakeOrBrand_porsche  0.177912\n",
       "8     enginelocation_rear  0.350632\n",
       "9            enginetype_l  0.115374\n",
       "10       enginetype_rotor  0.238291\n",
       "11    cylindernumber_five  0.158106\n",
       "12    cylindernumber_four  0.225901\n",
       "13   cylindernumber_three  0.339883\n",
       "14  cylindernumber_twelve -0.446057\n",
       "15     cylindernumber_two  0.238291"
      ]
     },
     "execution_count": 381,
     "metadata": {},
     "output_type": "execute_result"
    }
   ],
   "source": [
    "fdf # Features and coefficients selected of linear model"
   ]
  },
  {
   "cell_type": "code",
   "execution_count": 383,
   "metadata": {},
   "outputs": [
    {
     "name": "stdout",
     "output_type": "stream",
     "text": [
      "<class 'pandas.core.frame.DataFrame'>\n",
      "RangeIndex: 205 entries, 0 to 204\n",
      "Data columns (total 17 columns):\n",
      "carwidth                 205 non-null float64\n",
      "curbweight               205 non-null int64\n",
      "enginesize               205 non-null int64\n",
      "boreratio                205 non-null float64\n",
      "stroke                   205 non-null float64\n",
      "MakeOrBrand_bmw          205 non-null uint8\n",
      "MakeOrBrand_peugeot      205 non-null uint8\n",
      "MakeOrBrand_porsche      205 non-null uint8\n",
      "enginelocation_rear      205 non-null uint8\n",
      "enginetype_l             205 non-null uint8\n",
      "enginetype_rotor         205 non-null uint8\n",
      "cylindernumber_five      205 non-null uint8\n",
      "cylindernumber_four      205 non-null uint8\n",
      "cylindernumber_three     205 non-null uint8\n",
      "cylindernumber_twelve    205 non-null uint8\n",
      "cylindernumber_two       205 non-null uint8\n",
      "price                    205 non-null float64\n",
      "dtypes: float64(4), int64(2), uint8(11)\n",
      "memory usage: 11.9 KB\n"
     ]
    }
   ],
   "source": [
    "dfml_sel.info()"
   ]
  },
  {
   "cell_type": "code",
   "execution_count": 391,
   "metadata": {},
   "outputs": [
    {
     "data": {
      "text/html": [
       "<div>\n",
       "<style scoped>\n",
       "    .dataframe tbody tr th:only-of-type {\n",
       "        vertical-align: middle;\n",
       "    }\n",
       "\n",
       "    .dataframe tbody tr th {\n",
       "        vertical-align: top;\n",
       "    }\n",
       "\n",
       "    .dataframe thead th {\n",
       "        text-align: right;\n",
       "    }\n",
       "</style>\n",
       "<table border=\"1\" class=\"dataframe\">\n",
       "  <thead>\n",
       "    <tr style=\"text-align: right;\">\n",
       "      <th></th>\n",
       "      <th>carwidth</th>\n",
       "      <th>curbweight</th>\n",
       "      <th>enginesize</th>\n",
       "      <th>boreratio</th>\n",
       "      <th>stroke</th>\n",
       "      <th>MakeOrBrand_bmw</th>\n",
       "      <th>MakeOrBrand_peugeot</th>\n",
       "      <th>MakeOrBrand_porsche</th>\n",
       "      <th>enginelocation_rear</th>\n",
       "      <th>enginetype_l</th>\n",
       "      <th>enginetype_rotor</th>\n",
       "      <th>cylindernumber_five</th>\n",
       "      <th>cylindernumber_four</th>\n",
       "      <th>cylindernumber_three</th>\n",
       "      <th>cylindernumber_twelve</th>\n",
       "      <th>cylindernumber_two</th>\n",
       "      <th>price</th>\n",
       "    </tr>\n",
       "  </thead>\n",
       "  <tbody>\n",
       "    <tr>\n",
       "      <td>0</td>\n",
       "      <td>64.1</td>\n",
       "      <td>2548</td>\n",
       "      <td>130</td>\n",
       "      <td>3.47</td>\n",
       "      <td>2.68</td>\n",
       "      <td>0</td>\n",
       "      <td>0</td>\n",
       "      <td>0</td>\n",
       "      <td>0</td>\n",
       "      <td>0</td>\n",
       "      <td>0</td>\n",
       "      <td>0</td>\n",
       "      <td>1</td>\n",
       "      <td>0</td>\n",
       "      <td>0</td>\n",
       "      <td>0</td>\n",
       "      <td>13495.0</td>\n",
       "    </tr>\n",
       "    <tr>\n",
       "      <td>1</td>\n",
       "      <td>64.1</td>\n",
       "      <td>2548</td>\n",
       "      <td>130</td>\n",
       "      <td>3.47</td>\n",
       "      <td>2.68</td>\n",
       "      <td>0</td>\n",
       "      <td>0</td>\n",
       "      <td>0</td>\n",
       "      <td>0</td>\n",
       "      <td>0</td>\n",
       "      <td>0</td>\n",
       "      <td>0</td>\n",
       "      <td>1</td>\n",
       "      <td>0</td>\n",
       "      <td>0</td>\n",
       "      <td>0</td>\n",
       "      <td>16500.0</td>\n",
       "    </tr>\n",
       "    <tr>\n",
       "      <td>2</td>\n",
       "      <td>65.5</td>\n",
       "      <td>2823</td>\n",
       "      <td>152</td>\n",
       "      <td>2.68</td>\n",
       "      <td>3.47</td>\n",
       "      <td>0</td>\n",
       "      <td>0</td>\n",
       "      <td>0</td>\n",
       "      <td>0</td>\n",
       "      <td>0</td>\n",
       "      <td>0</td>\n",
       "      <td>0</td>\n",
       "      <td>0</td>\n",
       "      <td>0</td>\n",
       "      <td>0</td>\n",
       "      <td>0</td>\n",
       "      <td>16500.0</td>\n",
       "    </tr>\n",
       "    <tr>\n",
       "      <td>3</td>\n",
       "      <td>66.2</td>\n",
       "      <td>2337</td>\n",
       "      <td>109</td>\n",
       "      <td>3.19</td>\n",
       "      <td>3.40</td>\n",
       "      <td>0</td>\n",
       "      <td>0</td>\n",
       "      <td>0</td>\n",
       "      <td>0</td>\n",
       "      <td>0</td>\n",
       "      <td>0</td>\n",
       "      <td>0</td>\n",
       "      <td>1</td>\n",
       "      <td>0</td>\n",
       "      <td>0</td>\n",
       "      <td>0</td>\n",
       "      <td>13950.0</td>\n",
       "    </tr>\n",
       "    <tr>\n",
       "      <td>4</td>\n",
       "      <td>66.4</td>\n",
       "      <td>2824</td>\n",
       "      <td>136</td>\n",
       "      <td>3.19</td>\n",
       "      <td>3.40</td>\n",
       "      <td>0</td>\n",
       "      <td>0</td>\n",
       "      <td>0</td>\n",
       "      <td>0</td>\n",
       "      <td>0</td>\n",
       "      <td>0</td>\n",
       "      <td>1</td>\n",
       "      <td>0</td>\n",
       "      <td>0</td>\n",
       "      <td>0</td>\n",
       "      <td>0</td>\n",
       "      <td>17450.0</td>\n",
       "    </tr>\n",
       "  </tbody>\n",
       "</table>\n",
       "</div>"
      ],
      "text/plain": [
       "   carwidth  curbweight  enginesize  boreratio  stroke  MakeOrBrand_bmw  \\\n",
       "0      64.1        2548         130       3.47    2.68                0   \n",
       "1      64.1        2548         130       3.47    2.68                0   \n",
       "2      65.5        2823         152       2.68    3.47                0   \n",
       "3      66.2        2337         109       3.19    3.40                0   \n",
       "4      66.4        2824         136       3.19    3.40                0   \n",
       "\n",
       "   MakeOrBrand_peugeot  MakeOrBrand_porsche  enginelocation_rear  \\\n",
       "0                    0                    0                    0   \n",
       "1                    0                    0                    0   \n",
       "2                    0                    0                    0   \n",
       "3                    0                    0                    0   \n",
       "4                    0                    0                    0   \n",
       "\n",
       "   enginetype_l  enginetype_rotor  cylindernumber_five  cylindernumber_four  \\\n",
       "0             0                 0                    0                    1   \n",
       "1             0                 0                    0                    1   \n",
       "2             0                 0                    0                    0   \n",
       "3             0                 0                    0                    1   \n",
       "4             0                 0                    1                    0   \n",
       "\n",
       "   cylindernumber_three  cylindernumber_twelve  cylindernumber_two    price  \n",
       "0                     0                      0                   0  13495.0  \n",
       "1                     0                      0                   0  16500.0  \n",
       "2                     0                      0                   0  16500.0  \n",
       "3                     0                      0                   0  13950.0  \n",
       "4                     0                      0                   0  17450.0  "
      ]
     },
     "execution_count": 391,
     "metadata": {},
     "output_type": "execute_result"
    }
   ],
   "source": [
    "dfml_sel.head()"
   ]
  },
  {
   "cell_type": "code",
   "execution_count": 392,
   "metadata": {},
   "outputs": [],
   "source": [
    "from sklearn.preprocessing import MinMaxScaler"
   ]
  },
  {
   "cell_type": "code",
   "execution_count": 393,
   "metadata": {},
   "outputs": [],
   "source": [
    "scaler2 = MinMaxScaler()"
   ]
  },
  {
   "cell_type": "code",
   "execution_count": 394,
   "metadata": {},
   "outputs": [],
   "source": [
    "dfml_sel[dfml_sel.columns] = scaler2.fit_transform(dfml_sel[dfml_sel.columns])"
   ]
  },
  {
   "cell_type": "code",
   "execution_count": 395,
   "metadata": {
    "scrolled": true
   },
   "outputs": [
    {
     "data": {
      "text/html": [
       "<div>\n",
       "<style scoped>\n",
       "    .dataframe tbody tr th:only-of-type {\n",
       "        vertical-align: middle;\n",
       "    }\n",
       "\n",
       "    .dataframe tbody tr th {\n",
       "        vertical-align: top;\n",
       "    }\n",
       "\n",
       "    .dataframe thead th {\n",
       "        text-align: right;\n",
       "    }\n",
       "</style>\n",
       "<table border=\"1\" class=\"dataframe\">\n",
       "  <thead>\n",
       "    <tr style=\"text-align: right;\">\n",
       "      <th></th>\n",
       "      <th>carwidth</th>\n",
       "      <th>curbweight</th>\n",
       "      <th>enginesize</th>\n",
       "      <th>boreratio</th>\n",
       "      <th>stroke</th>\n",
       "      <th>MakeOrBrand_bmw</th>\n",
       "      <th>MakeOrBrand_peugeot</th>\n",
       "      <th>MakeOrBrand_porsche</th>\n",
       "      <th>enginelocation_rear</th>\n",
       "      <th>enginetype_l</th>\n",
       "      <th>enginetype_rotor</th>\n",
       "      <th>cylindernumber_five</th>\n",
       "      <th>cylindernumber_four</th>\n",
       "      <th>cylindernumber_three</th>\n",
       "      <th>cylindernumber_twelve</th>\n",
       "      <th>cylindernumber_two</th>\n",
       "      <th>price</th>\n",
       "    </tr>\n",
       "  </thead>\n",
       "  <tbody>\n",
       "    <tr>\n",
       "      <td>0</td>\n",
       "      <td>0.316667</td>\n",
       "      <td>0.411171</td>\n",
       "      <td>0.260377</td>\n",
       "      <td>0.664286</td>\n",
       "      <td>0.290476</td>\n",
       "      <td>0.0</td>\n",
       "      <td>0.0</td>\n",
       "      <td>0.0</td>\n",
       "      <td>0.0</td>\n",
       "      <td>0.0</td>\n",
       "      <td>0.0</td>\n",
       "      <td>0.0</td>\n",
       "      <td>1.0</td>\n",
       "      <td>0.0</td>\n",
       "      <td>0.0</td>\n",
       "      <td>0.0</td>\n",
       "      <td>0.207959</td>\n",
       "    </tr>\n",
       "    <tr>\n",
       "      <td>1</td>\n",
       "      <td>0.316667</td>\n",
       "      <td>0.411171</td>\n",
       "      <td>0.260377</td>\n",
       "      <td>0.664286</td>\n",
       "      <td>0.290476</td>\n",
       "      <td>0.0</td>\n",
       "      <td>0.0</td>\n",
       "      <td>0.0</td>\n",
       "      <td>0.0</td>\n",
       "      <td>0.0</td>\n",
       "      <td>0.0</td>\n",
       "      <td>0.0</td>\n",
       "      <td>1.0</td>\n",
       "      <td>0.0</td>\n",
       "      <td>0.0</td>\n",
       "      <td>0.0</td>\n",
       "      <td>0.282558</td>\n",
       "    </tr>\n",
       "    <tr>\n",
       "      <td>2</td>\n",
       "      <td>0.433333</td>\n",
       "      <td>0.517843</td>\n",
       "      <td>0.343396</td>\n",
       "      <td>0.100000</td>\n",
       "      <td>0.666667</td>\n",
       "      <td>0.0</td>\n",
       "      <td>0.0</td>\n",
       "      <td>0.0</td>\n",
       "      <td>0.0</td>\n",
       "      <td>0.0</td>\n",
       "      <td>0.0</td>\n",
       "      <td>0.0</td>\n",
       "      <td>0.0</td>\n",
       "      <td>0.0</td>\n",
       "      <td>0.0</td>\n",
       "      <td>0.0</td>\n",
       "      <td>0.282558</td>\n",
       "    </tr>\n",
       "    <tr>\n",
       "      <td>3</td>\n",
       "      <td>0.491667</td>\n",
       "      <td>0.329325</td>\n",
       "      <td>0.181132</td>\n",
       "      <td>0.464286</td>\n",
       "      <td>0.633333</td>\n",
       "      <td>0.0</td>\n",
       "      <td>0.0</td>\n",
       "      <td>0.0</td>\n",
       "      <td>0.0</td>\n",
       "      <td>0.0</td>\n",
       "      <td>0.0</td>\n",
       "      <td>0.0</td>\n",
       "      <td>1.0</td>\n",
       "      <td>0.0</td>\n",
       "      <td>0.0</td>\n",
       "      <td>0.0</td>\n",
       "      <td>0.219254</td>\n",
       "    </tr>\n",
       "    <tr>\n",
       "      <td>4</td>\n",
       "      <td>0.508333</td>\n",
       "      <td>0.518231</td>\n",
       "      <td>0.283019</td>\n",
       "      <td>0.464286</td>\n",
       "      <td>0.633333</td>\n",
       "      <td>0.0</td>\n",
       "      <td>0.0</td>\n",
       "      <td>0.0</td>\n",
       "      <td>0.0</td>\n",
       "      <td>0.0</td>\n",
       "      <td>0.0</td>\n",
       "      <td>1.0</td>\n",
       "      <td>0.0</td>\n",
       "      <td>0.0</td>\n",
       "      <td>0.0</td>\n",
       "      <td>0.0</td>\n",
       "      <td>0.306142</td>\n",
       "    </tr>\n",
       "  </tbody>\n",
       "</table>\n",
       "</div>"
      ],
      "text/plain": [
       "   carwidth  curbweight  enginesize  boreratio    stroke  MakeOrBrand_bmw  \\\n",
       "0  0.316667    0.411171    0.260377   0.664286  0.290476              0.0   \n",
       "1  0.316667    0.411171    0.260377   0.664286  0.290476              0.0   \n",
       "2  0.433333    0.517843    0.343396   0.100000  0.666667              0.0   \n",
       "3  0.491667    0.329325    0.181132   0.464286  0.633333              0.0   \n",
       "4  0.508333    0.518231    0.283019   0.464286  0.633333              0.0   \n",
       "\n",
       "   MakeOrBrand_peugeot  MakeOrBrand_porsche  enginelocation_rear  \\\n",
       "0                  0.0                  0.0                  0.0   \n",
       "1                  0.0                  0.0                  0.0   \n",
       "2                  0.0                  0.0                  0.0   \n",
       "3                  0.0                  0.0                  0.0   \n",
       "4                  0.0                  0.0                  0.0   \n",
       "\n",
       "   enginetype_l  enginetype_rotor  cylindernumber_five  cylindernumber_four  \\\n",
       "0           0.0               0.0                  0.0                  1.0   \n",
       "1           0.0               0.0                  0.0                  1.0   \n",
       "2           0.0               0.0                  0.0                  0.0   \n",
       "3           0.0               0.0                  0.0                  1.0   \n",
       "4           0.0               0.0                  1.0                  0.0   \n",
       "\n",
       "   cylindernumber_three  cylindernumber_twelve  cylindernumber_two     price  \n",
       "0                   0.0                    0.0                 0.0  0.207959  \n",
       "1                   0.0                    0.0                 0.0  0.282558  \n",
       "2                   0.0                    0.0                 0.0  0.282558  \n",
       "3                   0.0                    0.0                 0.0  0.219254  \n",
       "4                   0.0                    0.0                 0.0  0.306142  "
      ]
     },
     "execution_count": 395,
     "metadata": {},
     "output_type": "execute_result"
    }
   ],
   "source": [
    "dfml_sel.head()"
   ]
  },
  {
   "cell_type": "code",
   "execution_count": 396,
   "metadata": {},
   "outputs": [],
   "source": [
    "y = dfml_sel.pop('price')\n",
    "X = dfml_sel"
   ]
  },
  {
   "cell_type": "code",
   "execution_count": 400,
   "metadata": {},
   "outputs": [],
   "source": [
    "import statsmodels.api as sm # importing stats model api"
   ]
  },
  {
   "cell_type": "code",
   "execution_count": 401,
   "metadata": {
    "scrolled": true
   },
   "outputs": [],
   "source": [
    "# Add a constant\n",
    "X_lm = sm.add_constant(X)"
   ]
  },
  {
   "cell_type": "code",
   "execution_count": 402,
   "metadata": {},
   "outputs": [
    {
     "data": {
      "text/plain": [
       "(205, 17)"
      ]
     },
     "execution_count": 402,
     "metadata": {},
     "output_type": "execute_result"
    }
   ],
   "source": [
    "X_lm.shape"
   ]
  },
  {
   "cell_type": "code",
   "execution_count": 403,
   "metadata": {},
   "outputs": [
    {
     "data": {
      "text/plain": [
       "(205,)"
      ]
     },
     "execution_count": 403,
     "metadata": {},
     "output_type": "execute_result"
    }
   ],
   "source": [
    "y.shape"
   ]
  },
  {
   "cell_type": "code",
   "execution_count": 404,
   "metadata": {},
   "outputs": [],
   "source": [
    "lr = sm.OLS(y, X_lm).fit()"
   ]
  },
  {
   "cell_type": "code",
   "execution_count": null,
   "metadata": {},
   "outputs": [],
   "source": [
    "#lr.params"
   ]
  },
  {
   "cell_type": "code",
   "execution_count": 405,
   "metadata": {},
   "outputs": [
    {
     "name": "stdout",
     "output_type": "stream",
     "text": [
      "                            OLS Regression Results                            \n",
      "==============================================================================\n",
      "Dep. Variable:                  price   R-squared:                       0.931\n",
      "Model:                            OLS   Adj. R-squared:                  0.925\n",
      "Method:                 Least Squares   F-statistic:                     182.0\n",
      "Date:                Sun, 08 Mar 2020   Prob (F-statistic):          7.00e-102\n",
      "Time:                        12:57:34   Log-Likelihood:                 314.74\n",
      "No. Observations:                 205   AIC:                            -599.5\n",
      "Df Residuals:                     190   BIC:                            -549.6\n",
      "Df Model:                          14                                         \n",
      "Covariance Type:            nonrobust                                         \n",
      "=========================================================================================\n",
      "                            coef    std err          t      P>|t|      [0.025      0.975]\n",
      "-----------------------------------------------------------------------------------------\n",
      "const                    -0.1844      0.030     -6.225      0.000      -0.243      -0.126\n",
      "carwidth                  0.2875      0.050      5.713      0.000       0.188       0.387\n",
      "curbweight                0.3156      0.058      5.440      0.000       0.201       0.430\n",
      "enginesize                0.8899      0.090      9.919      0.000       0.713       1.067\n",
      "boreratio                -0.2302      0.037     -6.229      0.000      -0.303      -0.157\n",
      "stroke                   -0.1681      0.031     -5.465      0.000      -0.229      -0.107\n",
      "MakeOrBrand_bmw           0.2349      0.022     10.722      0.000       0.192       0.278\n",
      "MakeOrBrand_peugeot      -0.1650      0.027     -6.045      0.000      -0.219      -0.111\n",
      "MakeOrBrand_porsche       0.1276      0.035      3.606      0.000       0.058       0.197\n",
      "enginelocation_rear       0.3770      0.044      8.606      0.000       0.291       0.463\n",
      "enginetype_l              0.0790      0.021      3.713      0.000       0.037       0.121\n",
      "enginetype_rotor          0.1622      0.023      7.130      0.000       0.117       0.207\n",
      "cylindernumber_five       0.1087      0.026      4.142      0.000       0.057       0.160\n",
      "cylindernumber_four       0.1294      0.026      5.056      0.000       0.079       0.180\n",
      "cylindernumber_three      0.2440      0.044      5.541      0.000       0.157       0.331\n",
      "cylindernumber_twelve    -0.2673      0.068     -3.907      0.000      -0.402      -0.132\n",
      "cylindernumber_two        0.1622      0.023      7.130      0.000       0.117       0.207\n",
      "==============================================================================\n",
      "Omnibus:                       14.094   Durbin-Watson:                   1.234\n",
      "Prob(Omnibus):                  0.001   Jarque-Bera (JB):               29.093\n",
      "Skew:                           0.286   Prob(JB):                     4.81e-07\n",
      "Kurtosis:                       4.754   Cond. No.                     5.90e+16\n",
      "==============================================================================\n",
      "\n",
      "Warnings:\n",
      "[1] Standard Errors assume that the covariance matrix of the errors is correctly specified.\n",
      "[2] The smallest eigenvalue is 1.61e-31. This might indicate that there are\n",
      "strong multicollinearity problems or that the design matrix is singular.\n"
     ]
    }
   ],
   "source": [
    "# Print a summary of the linear regression model obtained\n",
    "print(lr.summary())"
   ]
  },
  {
   "cell_type": "code",
   "execution_count": 406,
   "metadata": {},
   "outputs": [
    {
     "data": {
      "text/plain": [
       "Text(0.5, 0, 'Errors')"
      ]
     },
     "execution_count": 406,
     "metadata": {},
     "output_type": "execute_result"
    },
    {
     "data": {
      "image/png": "[encoded data removed]",
      "text/plain": [
       "<Figure size 432x288 with 1 Axes>"
      ]
     },
     "metadata": {
      "needs_background": "light"
     },
     "output_type": "display_data"
    }
   ],
   "source": [
    "fig = plt.figure()\n",
    "sns.distplot((y_train_s - y_train_pred_s), bins = 20)\n",
    "fig.suptitle('Error Terms', fontsize = 20)# Plot heading \n",
    "plt.xlabel('Errors', fontsize = 18)   "
   ]
  },
  {
   "cell_type": "code",
   "execution_count": 408,
   "metadata": {},
   "outputs": [],
   "source": [
    "# Check for the VIF values of the feature variables. \n",
    "from statsmodels.stats.outliers_influence import variance_inflation_factor"
   ]
  },
  {
   "cell_type": "code",
   "execution_count": 409,
   "metadata": {},
   "outputs": [
    {
     "data": {
      "text/html": [
       "<div>\n",
       "<style scoped>\n",
       "    .dataframe tbody tr th:only-of-type {\n",
       "        vertical-align: middle;\n",
       "    }\n",
       "\n",
       "    .dataframe tbody tr th {\n",
       "        vertical-align: top;\n",
       "    }\n",
       "\n",
       "    .dataframe thead th {\n",
       "        text-align: right;\n",
       "    }\n",
       "</style>\n",
       "<table border=\"1\" class=\"dataframe\">\n",
       "  <thead>\n",
       "    <tr style=\"text-align: right;\">\n",
       "      <th></th>\n",
       "      <th>Features</th>\n",
       "      <th>VIF</th>\n",
       "    </tr>\n",
       "  </thead>\n",
       "  <tbody>\n",
       "    <tr>\n",
       "      <td>6</td>\n",
       "      <td>MakeOrBrand_peugeot</td>\n",
       "      <td>inf</td>\n",
       "    </tr>\n",
       "    <tr>\n",
       "      <td>9</td>\n",
       "      <td>enginetype_l</td>\n",
       "      <td>inf</td>\n",
       "    </tr>\n",
       "    <tr>\n",
       "      <td>10</td>\n",
       "      <td>enginetype_rotor</td>\n",
       "      <td>inf</td>\n",
       "    </tr>\n",
       "    <tr>\n",
       "      <td>13</td>\n",
       "      <td>cylindernumber_three</td>\n",
       "      <td>inf</td>\n",
       "    </tr>\n",
       "    <tr>\n",
       "      <td>15</td>\n",
       "      <td>cylindernumber_two</td>\n",
       "      <td>inf</td>\n",
       "    </tr>\n",
       "    <tr>\n",
       "      <td>1</td>\n",
       "      <td>curbweight</td>\n",
       "      <td>49.52</td>\n",
       "    </tr>\n",
       "    <tr>\n",
       "      <td>2</td>\n",
       "      <td>enginesize</td>\n",
       "      <td>46.69</td>\n",
       "    </tr>\n",
       "    <tr>\n",
       "      <td>0</td>\n",
       "      <td>carwidth</td>\n",
       "      <td>41.05</td>\n",
       "    </tr>\n",
       "    <tr>\n",
       "      <td>3</td>\n",
       "      <td>boreratio</td>\n",
       "      <td>33.32</td>\n",
       "    </tr>\n",
       "    <tr>\n",
       "      <td>4</td>\n",
       "      <td>stroke</td>\n",
       "      <td>20.57</td>\n",
       "    </tr>\n",
       "    <tr>\n",
       "      <td>12</td>\n",
       "      <td>cylindernumber_four</td>\n",
       "      <td>20.56</td>\n",
       "    </tr>\n",
       "    <tr>\n",
       "      <td>11</td>\n",
       "      <td>cylindernumber_five</td>\n",
       "      <td>2.43</td>\n",
       "    </tr>\n",
       "    <tr>\n",
       "      <td>8</td>\n",
       "      <td>enginelocation_rear</td>\n",
       "      <td>1.77</td>\n",
       "    </tr>\n",
       "    <tr>\n",
       "      <td>7</td>\n",
       "      <td>MakeOrBrand_porsche</td>\n",
       "      <td>1.71</td>\n",
       "    </tr>\n",
       "    <tr>\n",
       "      <td>14</td>\n",
       "      <td>cylindernumber_twelve</td>\n",
       "      <td>1.59</td>\n",
       "    </tr>\n",
       "    <tr>\n",
       "      <td>5</td>\n",
       "      <td>MakeOrBrand_bmw</td>\n",
       "      <td>1.18</td>\n",
       "    </tr>\n",
       "  </tbody>\n",
       "</table>\n",
       "</div>"
      ],
      "text/plain": [
       "                 Features    VIF\n",
       "6     MakeOrBrand_peugeot    inf\n",
       "9            enginetype_l    inf\n",
       "10       enginetype_rotor    inf\n",
       "13   cylindernumber_three    inf\n",
       "15     cylindernumber_two    inf\n",
       "1              curbweight  49.52\n",
       "2              enginesize  46.69\n",
       "0                carwidth  41.05\n",
       "3               boreratio  33.32\n",
       "4                  stroke  20.57\n",
       "12    cylindernumber_four  20.56\n",
       "11    cylindernumber_five   2.43\n",
       "8     enginelocation_rear   1.77\n",
       "7     MakeOrBrand_porsche   1.71\n",
       "14  cylindernumber_twelve   1.59\n",
       "5         MakeOrBrand_bmw   1.18"
      ]
     },
     "execution_count": 409,
     "metadata": {},
     "output_type": "execute_result"
    }
   ],
   "source": [
    "# Create a dataframe that will contain the names of all the feature variables and their respective VIFs\n",
    "vif = pd.DataFrame()\n",
    "vif['Features'] = X.columns\n",
    "vif['VIF'] = [variance_inflation_factor(X.values, i) for i in range(X.shape[1])]\n",
    "vif['VIF'] = round(vif['VIF'], 2)\n",
    "vif = vif.sort_values(by = \"VIF\", ascending = False)\n",
    "vif"
   ]
  },
  {
   "cell_type": "code",
   "execution_count": 412,
   "metadata": {},
   "outputs": [],
   "source": [
    "sel=['carwidth', 'curbweight', 'enginesize', 'boreratio', 'stroke',\n",
    "       'MakeOrBrand_bmw','MakeOrBrand_porsche',\n",
    "       'enginelocation_rear', 'enginetype_l', 'enginetype_rotor',\n",
    "       'cylindernumber_five', 'cylindernumber_four', 'cylindernumber_three',\n",
    "       'cylindernumber_twelve', 'cylindernumber_two'] #Dropping 'MakeOrBrand_peugeot'"
   ]
  },
  {
   "cell_type": "code",
   "execution_count": 413,
   "metadata": {},
   "outputs": [],
   "source": [
    "X = dfml_sel[sel]"
   ]
  },
  {
   "cell_type": "code",
   "execution_count": 415,
   "metadata": {},
   "outputs": [],
   "source": [
    "X_lm = sm.add_constant(X)"
   ]
  },
  {
   "cell_type": "code",
   "execution_count": 416,
   "metadata": {},
   "outputs": [],
   "source": [
    "lr = sm.OLS(y, X_lm).fit()"
   ]
  },
  {
   "cell_type": "code",
   "execution_count": 417,
   "metadata": {},
   "outputs": [
    {
     "name": "stdout",
     "output_type": "stream",
     "text": [
      "                            OLS Regression Results                            \n",
      "==============================================================================\n",
      "Dep. Variable:                  price   R-squared:                       0.931\n",
      "Model:                            OLS   Adj. R-squared:                  0.925\n",
      "Method:                 Least Squares   F-statistic:                     182.0\n",
      "Date:                Sun, 08 Mar 2020   Prob (F-statistic):          7.00e-102\n",
      "Time:                        13:09:57   Log-Likelihood:                 314.74\n",
      "No. Observations:                 205   AIC:                            -599.5\n",
      "Df Residuals:                     190   BIC:                            -549.6\n",
      "Df Model:                          14                                         \n",
      "Covariance Type:            nonrobust                                         \n",
      "=========================================================================================\n",
      "                            coef    std err          t      P>|t|      [0.025      0.975]\n",
      "-----------------------------------------------------------------------------------------\n",
      "const                    -0.1844      0.030     -6.225      0.000      -0.243      -0.126\n",
      "carwidth                  0.2875      0.050      5.713      0.000       0.188       0.387\n",
      "curbweight                0.3156      0.058      5.440      0.000       0.201       0.430\n",
      "enginesize                0.8899      0.090      9.919      0.000       0.713       1.067\n",
      "boreratio                -0.2302      0.037     -6.229      0.000      -0.303      -0.157\n",
      "stroke                   -0.1681      0.031     -5.465      0.000      -0.229      -0.107\n",
      "MakeOrBrand_bmw           0.2349      0.022     10.722      0.000       0.192       0.278\n",
      "MakeOrBrand_porsche       0.1276      0.035      3.606      0.000       0.058       0.197\n",
      "enginelocation_rear       0.3770      0.044      8.606      0.000       0.291       0.463\n",
      "enginetype_l             -0.0860      0.021     -4.029      0.000      -0.128      -0.044\n",
      "enginetype_rotor          0.1622      0.023      7.130      0.000       0.117       0.207\n",
      "cylindernumber_five       0.1087      0.026      4.142      0.000       0.057       0.160\n",
      "cylindernumber_four       0.1294      0.026      5.056      0.000       0.079       0.180\n",
      "cylindernumber_three      0.4090      0.070      5.833      0.000       0.271       0.547\n",
      "cylindernumber_twelve    -0.2673      0.068     -3.907      0.000      -0.402      -0.132\n",
      "cylindernumber_two        0.1622      0.023      7.130      0.000       0.117       0.207\n",
      "==============================================================================\n",
      "Omnibus:                       14.094   Durbin-Watson:                   1.234\n",
      "Prob(Omnibus):                  0.001   Jarque-Bera (JB):               29.093\n",
      "Skew:                           0.286   Prob(JB):                     4.81e-07\n",
      "Kurtosis:                       4.754   Cond. No.                     5.60e+16\n",
      "==============================================================================\n",
      "\n",
      "Warnings:\n",
      "[1] Standard Errors assume that the covariance matrix of the errors is correctly specified.\n",
      "[2] The smallest eigenvalue is 1.79e-31. This might indicate that there are\n",
      "strong multicollinearity problems or that the design matrix is singular.\n"
     ]
    }
   ],
   "source": [
    "# Print a summary of the linear regression model obtained\n",
    "print(lr.summary())"
   ]
  },
  {
   "cell_type": "code",
   "execution_count": 418,
   "metadata": {},
   "outputs": [
    {
     "data": {
      "text/html": [
       "<div>\n",
       "<style scoped>\n",
       "    .dataframe tbody tr th:only-of-type {\n",
       "        vertical-align: middle;\n",
       "    }\n",
       "\n",
       "    .dataframe tbody tr th {\n",
       "        vertical-align: top;\n",
       "    }\n",
       "\n",
       "    .dataframe thead th {\n",
       "        text-align: right;\n",
       "    }\n",
       "</style>\n",
       "<table border=\"1\" class=\"dataframe\">\n",
       "  <thead>\n",
       "    <tr style=\"text-align: right;\">\n",
       "      <th></th>\n",
       "      <th>Features</th>\n",
       "      <th>VIF</th>\n",
       "    </tr>\n",
       "  </thead>\n",
       "  <tbody>\n",
       "    <tr>\n",
       "      <td>9</td>\n",
       "      <td>enginetype_rotor</td>\n",
       "      <td>inf</td>\n",
       "    </tr>\n",
       "    <tr>\n",
       "      <td>14</td>\n",
       "      <td>cylindernumber_two</td>\n",
       "      <td>inf</td>\n",
       "    </tr>\n",
       "    <tr>\n",
       "      <td>1</td>\n",
       "      <td>curbweight</td>\n",
       "      <td>49.52</td>\n",
       "    </tr>\n",
       "    <tr>\n",
       "      <td>2</td>\n",
       "      <td>enginesize</td>\n",
       "      <td>46.69</td>\n",
       "    </tr>\n",
       "    <tr>\n",
       "      <td>0</td>\n",
       "      <td>carwidth</td>\n",
       "      <td>41.05</td>\n",
       "    </tr>\n",
       "    <tr>\n",
       "      <td>3</td>\n",
       "      <td>boreratio</td>\n",
       "      <td>33.32</td>\n",
       "    </tr>\n",
       "    <tr>\n",
       "      <td>4</td>\n",
       "      <td>stroke</td>\n",
       "      <td>20.57</td>\n",
       "    </tr>\n",
       "    <tr>\n",
       "      <td>11</td>\n",
       "      <td>cylindernumber_four</td>\n",
       "      <td>20.56</td>\n",
       "    </tr>\n",
       "    <tr>\n",
       "      <td>10</td>\n",
       "      <td>cylindernumber_five</td>\n",
       "      <td>2.43</td>\n",
       "    </tr>\n",
       "    <tr>\n",
       "      <td>7</td>\n",
       "      <td>enginelocation_rear</td>\n",
       "      <td>1.77</td>\n",
       "    </tr>\n",
       "    <tr>\n",
       "      <td>8</td>\n",
       "      <td>enginetype_l</td>\n",
       "      <td>1.73</td>\n",
       "    </tr>\n",
       "    <tr>\n",
       "      <td>6</td>\n",
       "      <td>MakeOrBrand_porsche</td>\n",
       "      <td>1.71</td>\n",
       "    </tr>\n",
       "    <tr>\n",
       "      <td>13</td>\n",
       "      <td>cylindernumber_twelve</td>\n",
       "      <td>1.59</td>\n",
       "    </tr>\n",
       "    <tr>\n",
       "      <td>12</td>\n",
       "      <td>cylindernumber_three</td>\n",
       "      <td>1.32</td>\n",
       "    </tr>\n",
       "    <tr>\n",
       "      <td>5</td>\n",
       "      <td>MakeOrBrand_bmw</td>\n",
       "      <td>1.18</td>\n",
       "    </tr>\n",
       "  </tbody>\n",
       "</table>\n",
       "</div>"
      ],
      "text/plain": [
       "                 Features    VIF\n",
       "9        enginetype_rotor    inf\n",
       "14     cylindernumber_two    inf\n",
       "1              curbweight  49.52\n",
       "2              enginesize  46.69\n",
       "0                carwidth  41.05\n",
       "3               boreratio  33.32\n",
       "4                  stroke  20.57\n",
       "11    cylindernumber_four  20.56\n",
       "10    cylindernumber_five   2.43\n",
       "7     enginelocation_rear   1.77\n",
       "8            enginetype_l   1.73\n",
       "6     MakeOrBrand_porsche   1.71\n",
       "13  cylindernumber_twelve   1.59\n",
       "12   cylindernumber_three   1.32\n",
       "5         MakeOrBrand_bmw   1.18"
      ]
     },
     "execution_count": 418,
     "metadata": {},
     "output_type": "execute_result"
    }
   ],
   "source": [
    "# Create a dataframe that will contain the names of all the feature variables and their respective VIFs\n",
    "vif = pd.DataFrame()\n",
    "vif['Features'] = X.columns\n",
    "vif['VIF'] = [variance_inflation_factor(X.values, i) for i in range(X.shape[1])]\n",
    "vif['VIF'] = round(vif['VIF'], 2)\n",
    "vif = vif.sort_values(by = \"VIF\", ascending = False)\n",
    "vif"
   ]
  },
  {
   "cell_type": "code",
   "execution_count": 419,
   "metadata": {},
   "outputs": [],
   "source": [
    "sel=['carwidth', 'curbweight', 'enginesize', 'boreratio', 'stroke',\n",
    "       'MakeOrBrand_bmw','MakeOrBrand_porsche',\n",
    "       'enginelocation_rear', 'enginetype_l',\n",
    "       'cylindernumber_five', 'cylindernumber_four', 'cylindernumber_three',\n",
    "       'cylindernumber_twelve', 'cylindernumber_two'] # Dropping enginetype_rotor"
   ]
  },
  {
   "cell_type": "code",
   "execution_count": 420,
   "metadata": {},
   "outputs": [],
   "source": [
    "X = dfml_sel[sel]"
   ]
  },
  {
   "cell_type": "code",
   "execution_count": 421,
   "metadata": {},
   "outputs": [],
   "source": [
    "X_lm = sm.add_constant(X)"
   ]
  },
  {
   "cell_type": "code",
   "execution_count": 422,
   "metadata": {},
   "outputs": [],
   "source": [
    "lr = sm.OLS(y, X_lm).fit()"
   ]
  },
  {
   "cell_type": "code",
   "execution_count": 423,
   "metadata": {},
   "outputs": [
    {
     "name": "stdout",
     "output_type": "stream",
     "text": [
      "                            OLS Regression Results                            \n",
      "==============================================================================\n",
      "Dep. Variable:                  price   R-squared:                       0.931\n",
      "Model:                            OLS   Adj. R-squared:                  0.925\n",
      "Method:                 Least Squares   F-statistic:                     182.0\n",
      "Date:                Sun, 08 Mar 2020   Prob (F-statistic):          7.00e-102\n",
      "Time:                        13:12:28   Log-Likelihood:                 314.74\n",
      "No. Observations:                 205   AIC:                            -599.5\n",
      "Df Residuals:                     190   BIC:                            -549.6\n",
      "Df Model:                          14                                         \n",
      "Covariance Type:            nonrobust                                         \n",
      "=========================================================================================\n",
      "                            coef    std err          t      P>|t|      [0.025      0.975]\n",
      "-----------------------------------------------------------------------------------------\n",
      "const                    -0.1844      0.030     -6.225      0.000      -0.243      -0.126\n",
      "carwidth                  0.2875      0.050      5.713      0.000       0.188       0.387\n",
      "curbweight                0.3156      0.058      5.440      0.000       0.201       0.430\n",
      "enginesize                0.8899      0.090      9.919      0.000       0.713       1.067\n",
      "boreratio                -0.2302      0.037     -6.229      0.000      -0.303      -0.157\n",
      "stroke                   -0.1681      0.031     -5.465      0.000      -0.229      -0.107\n",
      "MakeOrBrand_bmw           0.2349      0.022     10.722      0.000       0.192       0.278\n",
      "MakeOrBrand_porsche       0.1276      0.035      3.606      0.000       0.058       0.197\n",
      "enginelocation_rear       0.3770      0.044      8.606      0.000       0.291       0.463\n",
      "enginetype_l             -0.0860      0.021     -4.029      0.000      -0.128      -0.044\n",
      "cylindernumber_five       0.1087      0.026      4.142      0.000       0.057       0.160\n",
      "cylindernumber_four       0.1294      0.026      5.056      0.000       0.079       0.180\n",
      "cylindernumber_three      0.4090      0.070      5.833      0.000       0.271       0.547\n",
      "cylindernumber_twelve    -0.2673      0.068     -3.907      0.000      -0.402      -0.132\n",
      "cylindernumber_two        0.3243      0.045      7.130      0.000       0.235       0.414\n",
      "==============================================================================\n",
      "Omnibus:                       14.094   Durbin-Watson:                   1.234\n",
      "Prob(Omnibus):                  0.001   Jarque-Bera (JB):               29.093\n",
      "Skew:                           0.286   Prob(JB):                     4.81e-07\n",
      "Kurtosis:                       4.754   Cond. No.                         50.0\n",
      "==============================================================================\n",
      "\n",
      "Warnings:\n",
      "[1] Standard Errors assume that the covariance matrix of the errors is correctly specified.\n"
     ]
    }
   ],
   "source": [
    "# Print a summary of the linear regression model obtained\n",
    "print(lr.summary())"
   ]
  },
  {
   "cell_type": "code",
   "execution_count": 424,
   "metadata": {},
   "outputs": [
    {
     "data": {
      "text/html": [
       "<div>\n",
       "<style scoped>\n",
       "    .dataframe tbody tr th:only-of-type {\n",
       "        vertical-align: middle;\n",
       "    }\n",
       "\n",
       "    .dataframe tbody tr th {\n",
       "        vertical-align: top;\n",
       "    }\n",
       "\n",
       "    .dataframe thead th {\n",
       "        text-align: right;\n",
       "    }\n",
       "</style>\n",
       "<table border=\"1\" class=\"dataframe\">\n",
       "  <thead>\n",
       "    <tr style=\"text-align: right;\">\n",
       "      <th></th>\n",
       "      <th>Features</th>\n",
       "      <th>VIF</th>\n",
       "    </tr>\n",
       "  </thead>\n",
       "  <tbody>\n",
       "    <tr>\n",
       "      <td>1</td>\n",
       "      <td>curbweight</td>\n",
       "      <td>49.52</td>\n",
       "    </tr>\n",
       "    <tr>\n",
       "      <td>2</td>\n",
       "      <td>enginesize</td>\n",
       "      <td>46.69</td>\n",
       "    </tr>\n",
       "    <tr>\n",
       "      <td>0</td>\n",
       "      <td>carwidth</td>\n",
       "      <td>41.05</td>\n",
       "    </tr>\n",
       "    <tr>\n",
       "      <td>3</td>\n",
       "      <td>boreratio</td>\n",
       "      <td>33.32</td>\n",
       "    </tr>\n",
       "    <tr>\n",
       "      <td>4</td>\n",
       "      <td>stroke</td>\n",
       "      <td>20.57</td>\n",
       "    </tr>\n",
       "    <tr>\n",
       "      <td>10</td>\n",
       "      <td>cylindernumber_four</td>\n",
       "      <td>20.56</td>\n",
       "    </tr>\n",
       "    <tr>\n",
       "      <td>9</td>\n",
       "      <td>cylindernumber_five</td>\n",
       "      <td>2.43</td>\n",
       "    </tr>\n",
       "    <tr>\n",
       "      <td>13</td>\n",
       "      <td>cylindernumber_two</td>\n",
       "      <td>2.35</td>\n",
       "    </tr>\n",
       "    <tr>\n",
       "      <td>7</td>\n",
       "      <td>enginelocation_rear</td>\n",
       "      <td>1.77</td>\n",
       "    </tr>\n",
       "    <tr>\n",
       "      <td>8</td>\n",
       "      <td>enginetype_l</td>\n",
       "      <td>1.73</td>\n",
       "    </tr>\n",
       "    <tr>\n",
       "      <td>6</td>\n",
       "      <td>MakeOrBrand_porsche</td>\n",
       "      <td>1.71</td>\n",
       "    </tr>\n",
       "    <tr>\n",
       "      <td>12</td>\n",
       "      <td>cylindernumber_twelve</td>\n",
       "      <td>1.59</td>\n",
       "    </tr>\n",
       "    <tr>\n",
       "      <td>11</td>\n",
       "      <td>cylindernumber_three</td>\n",
       "      <td>1.32</td>\n",
       "    </tr>\n",
       "    <tr>\n",
       "      <td>5</td>\n",
       "      <td>MakeOrBrand_bmw</td>\n",
       "      <td>1.18</td>\n",
       "    </tr>\n",
       "  </tbody>\n",
       "</table>\n",
       "</div>"
      ],
      "text/plain": [
       "                 Features    VIF\n",
       "1              curbweight  49.52\n",
       "2              enginesize  46.69\n",
       "0                carwidth  41.05\n",
       "3               boreratio  33.32\n",
       "4                  stroke  20.57\n",
       "10    cylindernumber_four  20.56\n",
       "9     cylindernumber_five   2.43\n",
       "13     cylindernumber_two   2.35\n",
       "7     enginelocation_rear   1.77\n",
       "8            enginetype_l   1.73\n",
       "6     MakeOrBrand_porsche   1.71\n",
       "12  cylindernumber_twelve   1.59\n",
       "11   cylindernumber_three   1.32\n",
       "5         MakeOrBrand_bmw   1.18"
      ]
     },
     "execution_count": 424,
     "metadata": {},
     "output_type": "execute_result"
    }
   ],
   "source": [
    "# Create a dataframe that will contain the names of all the feature variables and their respective VIFs\n",
    "vif = pd.DataFrame()\n",
    "vif['Features'] = X.columns\n",
    "vif['VIF'] = [variance_inflation_factor(X.values, i) for i in range(X.shape[1])]\n",
    "vif['VIF'] = round(vif['VIF'], 2)\n",
    "vif = vif.sort_values(by = \"VIF\", ascending = False)\n",
    "vif"
   ]
  },
  {
   "cell_type": "code",
   "execution_count": 425,
   "metadata": {},
   "outputs": [],
   "source": [
    "sel=['carwidth', 'enginesize', 'boreratio', 'stroke',\n",
    "       'MakeOrBrand_bmw','MakeOrBrand_porsche',\n",
    "       'enginelocation_rear', 'enginetype_l',\n",
    "       'cylindernumber_five', 'cylindernumber_four', 'cylindernumber_three',\n",
    "       'cylindernumber_twelve', 'cylindernumber_two'] #Dropping curbweight"
   ]
  },
  {
   "cell_type": "code",
   "execution_count": 426,
   "metadata": {},
   "outputs": [],
   "source": [
    "X = dfml_sel[sel]\n",
    "X_lm = sm.add_constant(X)\n",
    "lr = sm.OLS(y, X_lm).fit()"
   ]
  },
  {
   "cell_type": "code",
   "execution_count": 427,
   "metadata": {},
   "outputs": [
    {
     "name": "stdout",
     "output_type": "stream",
     "text": [
      "                            OLS Regression Results                            \n",
      "==============================================================================\n",
      "Dep. Variable:                  price   R-squared:                       0.920\n",
      "Model:                            OLS   Adj. R-squared:                  0.914\n",
      "Method:                 Least Squares   F-statistic:                     168.5\n",
      "Date:                Sun, 08 Mar 2020   Prob (F-statistic):           4.63e-97\n",
      "Time:                        13:15:09   Log-Likelihood:                 299.90\n",
      "No. Observations:                 205   AIC:                            -571.8\n",
      "Df Residuals:                     191   BIC:                            -525.3\n",
      "Df Model:                          13                                         \n",
      "Covariance Type:            nonrobust                                         \n",
      "=========================================================================================\n",
      "                            coef    std err          t      P>|t|      [0.025      0.975]\n",
      "-----------------------------------------------------------------------------------------\n",
      "const                    -0.1700      0.032     -5.374      0.000      -0.232      -0.108\n",
      "carwidth                  0.4002      0.049      8.138      0.000       0.303       0.497\n",
      "enginesize                1.0748      0.089     12.071      0.000       0.899       1.250\n",
      "boreratio                -0.1741      0.038     -4.576      0.000      -0.249      -0.099\n",
      "stroke                   -0.1671      0.033     -5.068      0.000      -0.232      -0.102\n",
      "MakeOrBrand_bmw           0.2324      0.023      9.896      0.000       0.186       0.279\n",
      "MakeOrBrand_porsche       0.0972      0.037      2.594      0.010       0.023       0.171\n",
      "enginelocation_rear       0.3545      0.047      7.581      0.000       0.262       0.447\n",
      "enginetype_l             -0.0378      0.021     -1.816      0.071      -0.079       0.003\n",
      "cylindernumber_five       0.1139      0.028      4.050      0.000       0.058       0.169\n",
      "cylindernumber_four       0.1085      0.027      3.999      0.000       0.055       0.162\n",
      "cylindernumber_three      0.3311      0.074      4.499      0.000       0.186       0.476\n",
      "cylindernumber_twelve    -0.3023      0.073     -4.138      0.000      -0.446      -0.158\n",
      "cylindernumber_two        0.3320      0.049      6.811      0.000       0.236       0.428\n",
      "==============================================================================\n",
      "Omnibus:                       14.239   Durbin-Watson:                   1.258\n",
      "Prob(Omnibus):                  0.001   Jarque-Bera (JB):               17.338\n",
      "Skew:                           0.514   Prob(JB):                     0.000172\n",
      "Kurtosis:                       3.987   Cond. No.                         47.4\n",
      "==============================================================================\n",
      "\n",
      "Warnings:\n",
      "[1] Standard Errors assume that the covariance matrix of the errors is correctly specified.\n"
     ]
    }
   ],
   "source": [
    "# Print a summary of the linear regression model obtained\n",
    "print(lr.summary())"
   ]
  },
  {
   "cell_type": "code",
   "execution_count": 428,
   "metadata": {},
   "outputs": [
    {
     "data": {
      "text/html": [
       "<div>\n",
       "<style scoped>\n",
       "    .dataframe tbody tr th:only-of-type {\n",
       "        vertical-align: middle;\n",
       "    }\n",
       "\n",
       "    .dataframe tbody tr th {\n",
       "        vertical-align: top;\n",
       "    }\n",
       "\n",
       "    .dataframe thead th {\n",
       "        text-align: right;\n",
       "    }\n",
       "</style>\n",
       "<table border=\"1\" class=\"dataframe\">\n",
       "  <thead>\n",
       "    <tr style=\"text-align: right;\">\n",
       "      <th></th>\n",
       "      <th>Features</th>\n",
       "      <th>VIF</th>\n",
       "    </tr>\n",
       "  </thead>\n",
       "  <tbody>\n",
       "    <tr>\n",
       "      <td>1</td>\n",
       "      <td>enginesize</td>\n",
       "      <td>38.97</td>\n",
       "    </tr>\n",
       "    <tr>\n",
       "      <td>0</td>\n",
       "      <td>carwidth</td>\n",
       "      <td>32.57</td>\n",
       "    </tr>\n",
       "    <tr>\n",
       "      <td>2</td>\n",
       "      <td>boreratio</td>\n",
       "      <td>30.89</td>\n",
       "    </tr>\n",
       "    <tr>\n",
       "      <td>3</td>\n",
       "      <td>stroke</td>\n",
       "      <td>20.55</td>\n",
       "    </tr>\n",
       "    <tr>\n",
       "      <td>9</td>\n",
       "      <td>cylindernumber_four</td>\n",
       "      <td>20.26</td>\n",
       "    </tr>\n",
       "    <tr>\n",
       "      <td>8</td>\n",
       "      <td>cylindernumber_five</td>\n",
       "      <td>2.42</td>\n",
       "    </tr>\n",
       "    <tr>\n",
       "      <td>12</td>\n",
       "      <td>cylindernumber_two</td>\n",
       "      <td>2.34</td>\n",
       "    </tr>\n",
       "    <tr>\n",
       "      <td>6</td>\n",
       "      <td>enginelocation_rear</td>\n",
       "      <td>1.76</td>\n",
       "    </tr>\n",
       "    <tr>\n",
       "      <td>5</td>\n",
       "      <td>MakeOrBrand_porsche</td>\n",
       "      <td>1.66</td>\n",
       "    </tr>\n",
       "    <tr>\n",
       "      <td>11</td>\n",
       "      <td>cylindernumber_twelve</td>\n",
       "      <td>1.57</td>\n",
       "    </tr>\n",
       "    <tr>\n",
       "      <td>7</td>\n",
       "      <td>enginetype_l</td>\n",
       "      <td>1.45</td>\n",
       "    </tr>\n",
       "    <tr>\n",
       "      <td>10</td>\n",
       "      <td>cylindernumber_three</td>\n",
       "      <td>1.27</td>\n",
       "    </tr>\n",
       "    <tr>\n",
       "      <td>4</td>\n",
       "      <td>MakeOrBrand_bmw</td>\n",
       "      <td>1.18</td>\n",
       "    </tr>\n",
       "  </tbody>\n",
       "</table>\n",
       "</div>"
      ],
      "text/plain": [
       "                 Features    VIF\n",
       "1              enginesize  38.97\n",
       "0                carwidth  32.57\n",
       "2               boreratio  30.89\n",
       "3                  stroke  20.55\n",
       "9     cylindernumber_four  20.26\n",
       "8     cylindernumber_five   2.42\n",
       "12     cylindernumber_two   2.34\n",
       "6     enginelocation_rear   1.76\n",
       "5     MakeOrBrand_porsche   1.66\n",
       "11  cylindernumber_twelve   1.57\n",
       "7            enginetype_l   1.45\n",
       "10   cylindernumber_three   1.27\n",
       "4         MakeOrBrand_bmw   1.18"
      ]
     },
     "execution_count": 428,
     "metadata": {},
     "output_type": "execute_result"
    }
   ],
   "source": [
    "# Create a dataframe that will contain the names of all the feature variables and their respective VIFs\n",
    "vif = pd.DataFrame()\n",
    "vif['Features'] = X.columns\n",
    "vif['VIF'] = [variance_inflation_factor(X.values, i) for i in range(X.shape[1])]\n",
    "vif['VIF'] = round(vif['VIF'], 2)\n",
    "vif = vif.sort_values(by = \"VIF\", ascending = False)\n",
    "vif"
   ]
  },
  {
   "cell_type": "code",
   "execution_count": 429,
   "metadata": {},
   "outputs": [],
   "source": [
    "sel=['carwidth', 'boreratio', 'stroke',\n",
    "       'MakeOrBrand_bmw','MakeOrBrand_porsche',\n",
    "       'enginelocation_rear', 'enginetype_l',\n",
    "       'cylindernumber_five', 'cylindernumber_four', 'cylindernumber_three',\n",
    "       'cylindernumber_twelve', 'cylindernumber_two'] #Dropping enginesize"
   ]
  },
  {
   "cell_type": "code",
   "execution_count": 430,
   "metadata": {},
   "outputs": [],
   "source": [
    "X = dfml_sel[sel]\n",
    "X_lm = sm.add_constant(X)\n",
    "lr = sm.OLS(y, X_lm).fit()"
   ]
  },
  {
   "cell_type": "code",
   "execution_count": 431,
   "metadata": {},
   "outputs": [
    {
     "name": "stdout",
     "output_type": "stream",
     "text": [
      "                            OLS Regression Results                            \n",
      "==============================================================================\n",
      "Dep. Variable:                  price   R-squared:                       0.859\n",
      "Model:                            OLS   Adj. R-squared:                  0.850\n",
      "Method:                 Least Squares   F-statistic:                     97.16\n",
      "Date:                Sun, 08 Mar 2020   Prob (F-statistic):           1.03e-74\n",
      "Time:                        13:18:10   Log-Likelihood:                 241.79\n",
      "No. Observations:                 205   AIC:                            -457.6\n",
      "Df Residuals:                     192   BIC:                            -414.4\n",
      "Df Model:                          12                                         \n",
      "Covariance Type:            nonrobust                                         \n",
      "=========================================================================================\n",
      "                            coef    std err          t      P>|t|      [0.025      0.975]\n",
      "-----------------------------------------------------------------------------------------\n",
      "const                    -0.0725      0.041     -1.790      0.075      -0.152       0.007\n",
      "carwidth                  0.6503      0.059     11.011      0.000       0.534       0.767\n",
      "boreratio                 0.1176      0.039      3.022      0.003       0.041       0.194\n",
      "stroke                    0.0207      0.039      0.537      0.592      -0.055       0.097\n",
      "MakeOrBrand_bmw           0.2062      0.031      6.657      0.000       0.145       0.267\n",
      "MakeOrBrand_porsche       0.0270      0.049      0.550      0.583      -0.070       0.124\n",
      "enginelocation_rear       0.4209      0.061      6.845      0.000       0.300       0.542\n",
      "enginetype_l             -0.0621      0.027     -2.260      0.025      -0.116      -0.008\n",
      "cylindernumber_five      -0.0947      0.029     -3.223      0.001      -0.153      -0.037\n",
      "cylindernumber_four      -0.1448      0.023     -6.355      0.000      -0.190      -0.100\n",
      "cylindernumber_three      0.0949      0.094      1.010      0.314      -0.090       0.280\n",
      "cylindernumber_twelve     0.1902      0.080      2.370      0.019       0.032       0.348\n",
      "cylindernumber_two       -0.1020      0.044     -2.339      0.020      -0.188      -0.016\n",
      "==============================================================================\n",
      "Omnibus:                       33.028   Durbin-Watson:                   0.956\n",
      "Prob(Omnibus):                  0.000   Jarque-Bera (JB):               58.206\n",
      "Skew:                           0.836   Prob(JB):                     2.30e-13\n",
      "Kurtosis:                       5.005   Cond. No.                         31.8\n",
      "==============================================================================\n",
      "\n",
      "Warnings:\n",
      "[1] Standard Errors assume that the covariance matrix of the errors is correctly specified.\n"
     ]
    }
   ],
   "source": [
    "# Print a summary of the linear regression model obtained\n",
    "print(lr.summary())"
   ]
  },
  {
   "cell_type": "code",
   "execution_count": 432,
   "metadata": {},
   "outputs": [
    {
     "data": {
      "text/html": [
       "<div>\n",
       "<style scoped>\n",
       "    .dataframe tbody tr th:only-of-type {\n",
       "        vertical-align: middle;\n",
       "    }\n",
       "\n",
       "    .dataframe tbody tr th {\n",
       "        vertical-align: top;\n",
       "    }\n",
       "\n",
       "    .dataframe thead th {\n",
       "        text-align: right;\n",
       "    }\n",
       "</style>\n",
       "<table border=\"1\" class=\"dataframe\">\n",
       "  <thead>\n",
       "    <tr style=\"text-align: right;\">\n",
       "      <th></th>\n",
       "      <th>Features</th>\n",
       "      <th>VIF</th>\n",
       "    </tr>\n",
       "  </thead>\n",
       "  <tbody>\n",
       "    <tr>\n",
       "      <td>0</td>\n",
       "      <td>carwidth</td>\n",
       "      <td>22.40</td>\n",
       "    </tr>\n",
       "    <tr>\n",
       "      <td>1</td>\n",
       "      <td>boreratio</td>\n",
       "      <td>18.63</td>\n",
       "    </tr>\n",
       "    <tr>\n",
       "      <td>2</td>\n",
       "      <td>stroke</td>\n",
       "      <td>13.31</td>\n",
       "    </tr>\n",
       "    <tr>\n",
       "      <td>8</td>\n",
       "      <td>cylindernumber_four</td>\n",
       "      <td>6.50</td>\n",
       "    </tr>\n",
       "    <tr>\n",
       "      <td>5</td>\n",
       "      <td>enginelocation_rear</td>\n",
       "      <td>1.68</td>\n",
       "    </tr>\n",
       "    <tr>\n",
       "      <td>4</td>\n",
       "      <td>MakeOrBrand_porsche</td>\n",
       "      <td>1.62</td>\n",
       "    </tr>\n",
       "    <tr>\n",
       "      <td>7</td>\n",
       "      <td>cylindernumber_five</td>\n",
       "      <td>1.58</td>\n",
       "    </tr>\n",
       "    <tr>\n",
       "      <td>6</td>\n",
       "      <td>enginetype_l</td>\n",
       "      <td>1.40</td>\n",
       "    </tr>\n",
       "    <tr>\n",
       "      <td>9</td>\n",
       "      <td>cylindernumber_three</td>\n",
       "      <td>1.23</td>\n",
       "    </tr>\n",
       "    <tr>\n",
       "      <td>3</td>\n",
       "      <td>MakeOrBrand_bmw</td>\n",
       "      <td>1.18</td>\n",
       "    </tr>\n",
       "    <tr>\n",
       "      <td>11</td>\n",
       "      <td>cylindernumber_two</td>\n",
       "      <td>1.13</td>\n",
       "    </tr>\n",
       "    <tr>\n",
       "      <td>10</td>\n",
       "      <td>cylindernumber_twelve</td>\n",
       "      <td>1.08</td>\n",
       "    </tr>\n",
       "  </tbody>\n",
       "</table>\n",
       "</div>"
      ],
      "text/plain": [
       "                 Features    VIF\n",
       "0                carwidth  22.40\n",
       "1               boreratio  18.63\n",
       "2                  stroke  13.31\n",
       "8     cylindernumber_four   6.50\n",
       "5     enginelocation_rear   1.68\n",
       "4     MakeOrBrand_porsche   1.62\n",
       "7     cylindernumber_five   1.58\n",
       "6            enginetype_l   1.40\n",
       "9    cylindernumber_three   1.23\n",
       "3         MakeOrBrand_bmw   1.18\n",
       "11     cylindernumber_two   1.13\n",
       "10  cylindernumber_twelve   1.08"
      ]
     },
     "execution_count": 432,
     "metadata": {},
     "output_type": "execute_result"
    }
   ],
   "source": [
    "# Create a dataframe that will contain the names of all the feature variables and their respective VIFs\n",
    "vif = pd.DataFrame()\n",
    "vif['Features'] = X.columns\n",
    "vif['VIF'] = [variance_inflation_factor(X.values, i) for i in range(X.shape[1])]\n",
    "vif['VIF'] = round(vif['VIF'], 2)\n",
    "vif = vif.sort_values(by = \"VIF\", ascending = False)\n",
    "vif"
   ]
  },
  {
   "cell_type": "code",
   "execution_count": 433,
   "metadata": {},
   "outputs": [],
   "source": [
    "sel=['boreratio', 'stroke',\n",
    "       'MakeOrBrand_bmw','MakeOrBrand_porsche',\n",
    "       'enginelocation_rear', 'enginetype_l',\n",
    "       'cylindernumber_five', 'cylindernumber_four', 'cylindernumber_three',\n",
    "       'cylindernumber_twelve', 'cylindernumber_two'] #Dropping carwidth"
   ]
  },
  {
   "cell_type": "code",
   "execution_count": 436,
   "metadata": {},
   "outputs": [],
   "source": [
    "X = dfml_sel[sel]\n",
    "X_lm = sm.add_constant(X)\n",
    "lr = sm.OLS(y, X_lm).fit()"
   ]
  },
  {
   "cell_type": "code",
   "execution_count": 435,
   "metadata": {},
   "outputs": [
    {
     "name": "stdout",
     "output_type": "stream",
     "text": [
      "                            OLS Regression Results                            \n",
      "==============================================================================\n",
      "Dep. Variable:                  price   R-squared:                       0.769\n",
      "Model:                            OLS   Adj. R-squared:                  0.756\n",
      "Method:                 Least Squares   F-statistic:                     58.51\n",
      "Date:                Sun, 08 Mar 2020   Prob (F-statistic):           1.96e-55\n",
      "Time:                        13:22:26   Log-Likelihood:                 191.62\n",
      "No. Observations:                 205   AIC:                            -359.2\n",
      "Df Residuals:                     193   BIC:                            -319.4\n",
      "Df Model:                          11                                         \n",
      "Covariance Type:            nonrobust                                         \n",
      "=========================================================================================\n",
      "                            coef    std err          t      P>|t|      [0.025      0.975]\n",
      "-----------------------------------------------------------------------------------------\n",
      "const                     0.1549      0.044      3.489      0.001       0.067       0.242\n",
      "boreratio                 0.3822      0.039      9.793      0.000       0.305       0.459\n",
      "stroke                    0.0991      0.048      2.056      0.041       0.004       0.194\n",
      "MakeOrBrand_bmw           0.1341      0.039      3.478      0.001       0.058       0.210\n",
      "MakeOrBrand_porsche       0.0925      0.062      1.494      0.137      -0.030       0.215\n",
      "enginelocation_rear       0.1468      0.072      2.049      0.042       0.005       0.288\n",
      "enginetype_l              0.0639      0.032      2.010      0.046       0.001       0.127\n",
      "cylindernumber_five      -0.0250      0.037     -0.685      0.494      -0.097       0.047\n",
      "cylindernumber_four      -0.2974      0.023    -12.918      0.000      -0.343      -0.252\n",
      "cylindernumber_three     -0.3643      0.107     -3.397      0.001      -0.576      -0.153\n",
      "cylindernumber_twelve     0.3062      0.101      3.022      0.003       0.106       0.506\n",
      "cylindernumber_two       -0.2303      0.054     -4.302      0.000      -0.336      -0.125\n",
      "==============================================================================\n",
      "Omnibus:                       56.475   Durbin-Watson:                   0.908\n",
      "Prob(Omnibus):                  0.000   Jarque-Bera (JB):              175.167\n",
      "Skew:                           1.120   Prob(JB):                     9.18e-39\n",
      "Kurtosis:                       6.936   Cond. No.                         24.6\n",
      "==============================================================================\n",
      "\n",
      "Warnings:\n",
      "[1] Standard Errors assume that the covariance matrix of the errors is correctly specified.\n"
     ]
    }
   ],
   "source": [
    "# Print a summary of the linear regression model obtained\n",
    "print(lr.summary())#significant drop in R-squared"
   ]
  },
  {
   "cell_type": "code",
   "execution_count": 437,
   "metadata": {},
   "outputs": [
    {
     "data": {
      "text/html": [
       "<div>\n",
       "<style scoped>\n",
       "    .dataframe tbody tr th:only-of-type {\n",
       "        vertical-align: middle;\n",
       "    }\n",
       "\n",
       "    .dataframe tbody tr th {\n",
       "        vertical-align: top;\n",
       "    }\n",
       "\n",
       "    .dataframe thead th {\n",
       "        text-align: right;\n",
       "    }\n",
       "</style>\n",
       "<table border=\"1\" class=\"dataframe\">\n",
       "  <thead>\n",
       "    <tr style=\"text-align: right;\">\n",
       "      <th></th>\n",
       "      <th>Features</th>\n",
       "      <th>VIF</th>\n",
       "    </tr>\n",
       "  </thead>\n",
       "  <tbody>\n",
       "    <tr>\n",
       "      <td>1</td>\n",
       "      <td>stroke</td>\n",
       "      <td>8.82</td>\n",
       "    </tr>\n",
       "    <tr>\n",
       "      <td>0</td>\n",
       "      <td>boreratio</td>\n",
       "      <td>8.05</td>\n",
       "    </tr>\n",
       "    <tr>\n",
       "      <td>7</td>\n",
       "      <td>cylindernumber_four</td>\n",
       "      <td>5.45</td>\n",
       "    </tr>\n",
       "    <tr>\n",
       "      <td>3</td>\n",
       "      <td>MakeOrBrand_porsche</td>\n",
       "      <td>1.60</td>\n",
       "    </tr>\n",
       "    <tr>\n",
       "      <td>4</td>\n",
       "      <td>enginelocation_rear</td>\n",
       "      <td>1.55</td>\n",
       "    </tr>\n",
       "    <tr>\n",
       "      <td>6</td>\n",
       "      <td>cylindernumber_five</td>\n",
       "      <td>1.42</td>\n",
       "    </tr>\n",
       "    <tr>\n",
       "      <td>5</td>\n",
       "      <td>enginetype_l</td>\n",
       "      <td>1.25</td>\n",
       "    </tr>\n",
       "    <tr>\n",
       "      <td>2</td>\n",
       "      <td>MakeOrBrand_bmw</td>\n",
       "      <td>1.17</td>\n",
       "    </tr>\n",
       "    <tr>\n",
       "      <td>8</td>\n",
       "      <td>cylindernumber_three</td>\n",
       "      <td>1.13</td>\n",
       "    </tr>\n",
       "    <tr>\n",
       "      <td>10</td>\n",
       "      <td>cylindernumber_two</td>\n",
       "      <td>1.12</td>\n",
       "    </tr>\n",
       "    <tr>\n",
       "      <td>9</td>\n",
       "      <td>cylindernumber_twelve</td>\n",
       "      <td>1.04</td>\n",
       "    </tr>\n",
       "  </tbody>\n",
       "</table>\n",
       "</div>"
      ],
      "text/plain": [
       "                 Features   VIF\n",
       "1                  stroke  8.82\n",
       "0               boreratio  8.05\n",
       "7     cylindernumber_four  5.45\n",
       "3     MakeOrBrand_porsche  1.60\n",
       "4     enginelocation_rear  1.55\n",
       "6     cylindernumber_five  1.42\n",
       "5            enginetype_l  1.25\n",
       "2         MakeOrBrand_bmw  1.17\n",
       "8    cylindernumber_three  1.13\n",
       "10     cylindernumber_two  1.12\n",
       "9   cylindernumber_twelve  1.04"
      ]
     },
     "execution_count": 437,
     "metadata": {},
     "output_type": "execute_result"
    }
   ],
   "source": [
    "# Create a dataframe that will contain the names of all the feature variables and their respective VIFs\n",
    "vif = pd.DataFrame()\n",
    "vif['Features'] = X.columns\n",
    "vif['VIF'] = [variance_inflation_factor(X.values, i) for i in range(X.shape[1])]\n",
    "vif['VIF'] = round(vif['VIF'], 2)\n",
    "vif = vif.sort_values(by = \"VIF\", ascending = False)\n",
    "vif"
   ]
  },
  {
   "cell_type": "code",
   "execution_count": 442,
   "metadata": {},
   "outputs": [],
   "source": [
    "sel=['carwidth',\n",
    "       'MakeOrBrand_bmw','MakeOrBrand_porsche',\n",
    "       'enginelocation_rear', 'enginetype_l',\n",
    "       'cylindernumber_five', 'cylindernumber_four', 'cylindernumber_three',\n",
    "       'cylindernumber_twelve', 'cylindernumber_two'] #Dropping enginesize,boreratio and stroke"
   ]
  },
  {
   "cell_type": "code",
   "execution_count": 443,
   "metadata": {},
   "outputs": [],
   "source": [
    "X = dfml_sel[sel]\n",
    "X_lm = sm.add_constant(X)\n",
    "lr = sm.OLS(y, X_lm).fit()"
   ]
  },
  {
   "cell_type": "code",
   "execution_count": 444,
   "metadata": {},
   "outputs": [
    {
     "name": "stdout",
     "output_type": "stream",
     "text": [
      "                            OLS Regression Results                            \n",
      "==============================================================================\n",
      "Dep. Variable:                  price   R-squared:                       0.852\n",
      "Model:                            OLS   Adj. R-squared:                  0.844\n",
      "Method:                 Least Squares   F-statistic:                     111.6\n",
      "Date:                Sun, 08 Mar 2020   Prob (F-statistic):           7.78e-75\n",
      "Time:                        13:29:58   Log-Likelihood:                 237.01\n",
      "No. Observations:                 205   AIC:                            -452.0\n",
      "Df Residuals:                     194   BIC:                            -415.5\n",
      "Df Model:                          10                                         \n",
      "Covariance Type:            nonrobust                                         \n",
      "=========================================================================================\n",
      "                            coef    std err          t      P>|t|      [0.025      0.975]\n",
      "-----------------------------------------------------------------------------------------\n",
      "const                    -0.0624      0.036     -1.735      0.084      -0.133       0.009\n",
      "carwidth                  0.7614      0.047     16.239      0.000       0.669       0.854\n",
      "MakeOrBrand_bmw           0.2232      0.031      7.237      0.000       0.162       0.284\n",
      "MakeOrBrand_porsche       0.0385      0.050      0.777      0.438      -0.059       0.136\n",
      "enginelocation_rear       0.4686      0.060      7.769      0.000       0.350       0.588\n",
      "enginetype_l             -0.0683      0.028     -2.465      0.015      -0.123      -0.014\n",
      "cylindernumber_five      -0.1103      0.029     -3.749      0.000      -0.168      -0.052\n",
      "cylindernumber_four      -0.1253      0.022     -5.639      0.000      -0.169      -0.081\n",
      "cylindernumber_three      0.1314      0.095      1.386      0.167      -0.056       0.319\n",
      "cylindernumber_twelve     0.1755      0.081      2.178      0.031       0.017       0.334\n",
      "cylindernumber_two       -0.0841      0.044     -1.912      0.057      -0.171       0.003\n",
      "==============================================================================\n",
      "Omnibus:                       36.836   Durbin-Watson:                   0.988\n",
      "Prob(Omnibus):                  0.000   Jarque-Bera (JB):               68.931\n",
      "Skew:                           0.898   Prob(JB):                     1.08e-15\n",
      "Kurtosis:                       5.201   Cond. No.                         26.3\n",
      "==============================================================================\n",
      "\n",
      "Warnings:\n",
      "[1] Standard Errors assume that the covariance matrix of the errors is correctly specified.\n"
     ]
    }
   ],
   "source": [
    "# Print a summary of the linear regression model obtained\n",
    "print(lr.summary())"
   ]
  },
  {
   "cell_type": "code",
   "execution_count": 445,
   "metadata": {},
   "outputs": [
    {
     "data": {
      "text/html": [
       "<div>\n",
       "<style scoped>\n",
       "    .dataframe tbody tr th:only-of-type {\n",
       "        vertical-align: middle;\n",
       "    }\n",
       "\n",
       "    .dataframe tbody tr th {\n",
       "        vertical-align: top;\n",
       "    }\n",
       "\n",
       "    .dataframe thead th {\n",
       "        text-align: right;\n",
       "    }\n",
       "</style>\n",
       "<table border=\"1\" class=\"dataframe\">\n",
       "  <thead>\n",
       "    <tr style=\"text-align: right;\">\n",
       "      <th></th>\n",
       "      <th>Features</th>\n",
       "      <th>VIF</th>\n",
       "    </tr>\n",
       "  </thead>\n",
       "  <tbody>\n",
       "    <tr>\n",
       "      <td>0</td>\n",
       "      <td>carwidth</td>\n",
       "      <td>4.14</td>\n",
       "    </tr>\n",
       "    <tr>\n",
       "      <td>6</td>\n",
       "      <td>cylindernumber_four</td>\n",
       "      <td>3.02</td>\n",
       "    </tr>\n",
       "    <tr>\n",
       "      <td>2</td>\n",
       "      <td>MakeOrBrand_porsche</td>\n",
       "      <td>1.58</td>\n",
       "    </tr>\n",
       "    <tr>\n",
       "      <td>5</td>\n",
       "      <td>cylindernumber_five</td>\n",
       "      <td>1.52</td>\n",
       "    </tr>\n",
       "    <tr>\n",
       "      <td>3</td>\n",
       "      <td>enginelocation_rear</td>\n",
       "      <td>1.50</td>\n",
       "    </tr>\n",
       "    <tr>\n",
       "      <td>4</td>\n",
       "      <td>enginetype_l</td>\n",
       "      <td>1.25</td>\n",
       "    </tr>\n",
       "    <tr>\n",
       "      <td>1</td>\n",
       "      <td>MakeOrBrand_bmw</td>\n",
       "      <td>1.12</td>\n",
       "    </tr>\n",
       "    <tr>\n",
       "      <td>7</td>\n",
       "      <td>cylindernumber_three</td>\n",
       "      <td>1.10</td>\n",
       "    </tr>\n",
       "    <tr>\n",
       "      <td>9</td>\n",
       "      <td>cylindernumber_two</td>\n",
       "      <td>1.07</td>\n",
       "    </tr>\n",
       "    <tr>\n",
       "      <td>8</td>\n",
       "      <td>cylindernumber_twelve</td>\n",
       "      <td>1.06</td>\n",
       "    </tr>\n",
       "  </tbody>\n",
       "</table>\n",
       "</div>"
      ],
      "text/plain": [
       "                Features   VIF\n",
       "0               carwidth  4.14\n",
       "6    cylindernumber_four  3.02\n",
       "2    MakeOrBrand_porsche  1.58\n",
       "5    cylindernumber_five  1.52\n",
       "3    enginelocation_rear  1.50\n",
       "4           enginetype_l  1.25\n",
       "1        MakeOrBrand_bmw  1.12\n",
       "7   cylindernumber_three  1.10\n",
       "9     cylindernumber_two  1.07\n",
       "8  cylindernumber_twelve  1.06"
      ]
     },
     "execution_count": 445,
     "metadata": {},
     "output_type": "execute_result"
    }
   ],
   "source": [
    "# Create a dataframe that will contain the names of all the feature variables and their respective VIFs\n",
    "vif = pd.DataFrame()\n",
    "vif['Features'] = X.columns\n",
    "vif['VIF'] = [variance_inflation_factor(X.values, i) for i in range(X.shape[1])]\n",
    "vif['VIF'] = round(vif['VIF'], 2)\n",
    "vif = vif.sort_values(by = \"VIF\", ascending = False)\n",
    "vif"
   ]
  },
  {
   "cell_type": "code",
   "execution_count": 451,
   "metadata": {},
   "outputs": [],
   "source": [
    "sel=['carwidth',\n",
    "       'MakeOrBrand_bmw','MakeOrBrand_porsche',\n",
    "       'enginelocation_rear', 'enginetype_l',\n",
    "       'cylindernumber_five', 'cylindernumber_four', 'cylindernumber_three',\n",
    "       'cylindernumber_twelve', 'cylindernumber_two','price']# adding price"
   ]
  },
  {
   "cell_type": "code",
   "execution_count": 452,
   "metadata": {},
   "outputs": [],
   "source": [
    "dfml_sel = dfml[sel]"
   ]
  },
  {
   "cell_type": "code",
   "execution_count": 453,
   "metadata": {},
   "outputs": [
    {
     "data": {
      "text/plain": [
       "Index(['carwidth', 'MakeOrBrand_bmw', 'MakeOrBrand_porsche',\n",
       "       'enginelocation_rear', 'enginetype_l', 'cylindernumber_five',\n",
       "       'cylindernumber_four', 'cylindernumber_three', 'cylindernumber_twelve',\n",
       "       'cylindernumber_two', 'price'],\n",
       "      dtype='object')"
      ]
     },
     "execution_count": 453,
     "metadata": {},
     "output_type": "execute_result"
    }
   ],
   "source": [
    "dfml_sel.columns"
   ]
  },
  {
   "cell_type": "code",
   "execution_count": 455,
   "metadata": {},
   "outputs": [],
   "source": [
    "np.random.seed(0)\n",
    "df_train_s, df_test_s = train_test_split(dfml_sel, train_size = 0.7, test_size = 0.3, random_state = 100)"
   ]
  },
  {
   "cell_type": "code",
   "execution_count": 456,
   "metadata": {},
   "outputs": [],
   "source": [
    "from sklearn.preprocessing import MinMaxScaler"
   ]
  },
  {
   "cell_type": "code",
   "execution_count": 457,
   "metadata": {},
   "outputs": [],
   "source": [
    "scaler5 = MinMaxScaler()"
   ]
  },
  {
   "cell_type": "code",
   "execution_count": 458,
   "metadata": {},
   "outputs": [],
   "source": [
    "df_train_s[df_train_s.columns] = scaler5.fit_transform(df_train_s[df_train_s.columns])"
   ]
  },
  {
   "cell_type": "code",
   "execution_count": 459,
   "metadata": {},
   "outputs": [
    {
     "data": {
      "text/html": [
       "<div>\n",
       "<style scoped>\n",
       "    .dataframe tbody tr th:only-of-type {\n",
       "        vertical-align: middle;\n",
       "    }\n",
       "\n",
       "    .dataframe tbody tr th {\n",
       "        vertical-align: top;\n",
       "    }\n",
       "\n",
       "    .dataframe thead th {\n",
       "        text-align: right;\n",
       "    }\n",
       "</style>\n",
       "<table border=\"1\" class=\"dataframe\">\n",
       "  <thead>\n",
       "    <tr style=\"text-align: right;\">\n",
       "      <th></th>\n",
       "      <th>carwidth</th>\n",
       "      <th>MakeOrBrand_bmw</th>\n",
       "      <th>MakeOrBrand_porsche</th>\n",
       "      <th>enginelocation_rear</th>\n",
       "      <th>enginetype_l</th>\n",
       "      <th>cylindernumber_five</th>\n",
       "      <th>cylindernumber_four</th>\n",
       "      <th>cylindernumber_three</th>\n",
       "      <th>cylindernumber_twelve</th>\n",
       "      <th>cylindernumber_two</th>\n",
       "      <th>price</th>\n",
       "    </tr>\n",
       "  </thead>\n",
       "  <tbody>\n",
       "    <tr>\n",
       "      <td>122</td>\n",
       "      <td>0.291667</td>\n",
       "      <td>0.0</td>\n",
       "      <td>0.0</td>\n",
       "      <td>0.0</td>\n",
       "      <td>0.0</td>\n",
       "      <td>0.0</td>\n",
       "      <td>1.0</td>\n",
       "      <td>0.0</td>\n",
       "      <td>0.0</td>\n",
       "      <td>0.0</td>\n",
       "      <td>0.068818</td>\n",
       "    </tr>\n",
       "  </tbody>\n",
       "</table>\n",
       "</div>"
      ],
      "text/plain": [
       "     carwidth  MakeOrBrand_bmw  MakeOrBrand_porsche  enginelocation_rear  \\\n",
       "122  0.291667              0.0                  0.0                  0.0   \n",
       "\n",
       "     enginetype_l  cylindernumber_five  cylindernumber_four  \\\n",
       "122           0.0                  0.0                  1.0   \n",
       "\n",
       "     cylindernumber_three  cylindernumber_twelve  cylindernumber_two     price  \n",
       "122                   0.0                    0.0                 0.0  0.068818  "
      ]
     },
     "execution_count": 459,
     "metadata": {},
     "output_type": "execute_result"
    }
   ],
   "source": [
    "df_train_s[:1]"
   ]
  },
  {
   "cell_type": "code",
   "execution_count": 460,
   "metadata": {},
   "outputs": [],
   "source": [
    "y_train_s = df_train_s.pop('price')\n",
    "X_train_s = df_train_s"
   ]
  },
  {
   "cell_type": "code",
   "execution_count": 462,
   "metadata": {},
   "outputs": [],
   "source": [
    "from sklearn.linear_model import LinearRegression"
   ]
  },
  {
   "cell_type": "code",
   "execution_count": 463,
   "metadata": {},
   "outputs": [],
   "source": [
    "lr5 = LinearRegression()"
   ]
  },
  {
   "cell_type": "code",
   "execution_count": 464,
   "metadata": {},
   "outputs": [
    {
     "data": {
      "text/plain": [
       "LinearRegression(copy_X=True, fit_intercept=True, n_jobs=None, normalize=False)"
      ]
     },
     "execution_count": 464,
     "metadata": {},
     "output_type": "execute_result"
    }
   ],
   "source": [
    "lr5.fit(X_train_s,y_train_s)"
   ]
  },
  {
   "cell_type": "code",
   "execution_count": 465,
   "metadata": {},
   "outputs": [],
   "source": [
    "df_test_s[df_test_s.columns] = scaler5.transform(df_test_s[df_test_s.columns])"
   ]
  },
  {
   "cell_type": "code",
   "execution_count": 466,
   "metadata": {},
   "outputs": [],
   "source": [
    "y_test_s = df_test_s.pop('price')\n",
    "X_test_s = df_test_s"
   ]
  },
  {
   "cell_type": "code",
   "execution_count": 467,
   "metadata": {},
   "outputs": [],
   "source": [
    "y_pred_s = lr5.predict(X_test_s)"
   ]
  },
  {
   "cell_type": "code",
   "execution_count": 468,
   "metadata": {},
   "outputs": [
    {
     "data": {
      "text/plain": [
       "0.827047467332986"
      ]
     },
     "execution_count": 468,
     "metadata": {},
     "output_type": "execute_result"
    }
   ],
   "source": [
    "r2_score(y_test_s, y_pred_s)"
   ]
  },
  {
   "cell_type": "code",
   "execution_count": 469,
   "metadata": {},
   "outputs": [],
   "source": [
    "y_train_pred_s = lr5.predict(X_train_s)"
   ]
  },
  {
   "cell_type": "code",
   "execution_count": 470,
   "metadata": {},
   "outputs": [
    {
     "data": {
      "text/plain": [
       "0.8603928142557127"
      ]
     },
     "execution_count": 470,
     "metadata": {},
     "output_type": "execute_result"
    }
   ],
   "source": [
    "r2_score(y_train_s, y_train_pred_s)"
   ]
  },
  {
   "cell_type": "code",
   "execution_count": 471,
   "metadata": {},
   "outputs": [
    {
     "data": {
      "text/plain": [
       "Text(0.5, 1.0, 'on mark Prediction on train set')"
      ]
     },
     "execution_count": 471,
     "metadata": {},
     "output_type": "execute_result"
    },
    {
     "data": {
      "image/png": "[encoded data removed]",
      "text/plain": [
       "<Figure size 1080x360 with 1 Axes>"
      ]
     },
     "metadata": {
      "needs_background": "light"
     },
     "output_type": "display_data"
    }
   ],
   "source": [
    "plt.figure(figsize=(15,5))\n",
    "plt.plot(range(len(y_train_s)),y_train_s,label=\"y train\",color=\"blue\",linewidth=2.5)\n",
    "plt.plot(range(len(y_train_s)),y_train_pred_s,label=\"y pred\",color=\"red\",linewidth=2.5)\n",
    "plt.legend()#Correct prediction on test set\n",
    "plt.title(\"on mark Prediction on train set\")"
   ]
  },
  {
   "cell_type": "code",
   "execution_count": 472,
   "metadata": {},
   "outputs": [
    {
     "data": {
      "text/plain": [
       "Text(0.5, 1.0, 'prediction on test/unseen data-set')"
      ]
     },
     "execution_count": 472,
     "metadata": {},
     "output_type": "execute_result"
    },
    {
     "data": {
      "image/png": "[encoded data removed]",
      "text/plain": [
       "<Figure size 1080x360 with 1 Axes>"
      ]
     },
     "metadata": {
      "needs_background": "light"
     },
     "output_type": "display_data"
    }
   ],
   "source": [
    "plt.figure(figsize=(15,5))\n",
    "plt.plot(range(len(y_test_s)),y_test_s,label=\"y test\",color=\"red\",linewidth=2.5)\n",
    "plt.plot(range(len(y_test_s)),y_pred_s,label=\"y pred_s\",color=\"blue\",linewidth=2.5)\n",
    "plt.legend()\n",
    "plt.title(\"prediction on test/unseen data-set\")"
   ]
  },
  {
   "cell_type": "code",
   "execution_count": 473,
   "metadata": {},
   "outputs": [
    {
     "data": {
      "text/plain": [
       "Text(0.5, 0, 'Errors')"
      ]
     },
     "execution_count": 473,
     "metadata": {},
     "output_type": "execute_result"
    },
    {
     "data": {
      "image/png": "[encoded data removed]",
      "text/plain": [
       "<Figure size 432x288 with 1 Axes>"
      ]
     },
     "metadata": {
      "needs_background": "light"
     },
     "output_type": "display_data"
    }
   ],
   "source": [
    "ig = plt.figure()\n",
    "sns.distplot((y_train_s - y_train_pred_s), bins = 20)\n",
    "fig.suptitle('Error Terms', fontsize = 20)# Plot heading \n",
    "plt.xlabel('Errors', fontsize = 18)"
   ]
  },
  {
   "cell_type": "code",
   "execution_count": 474,
   "metadata": {},
   "outputs": [],
   "source": [
    "features = X_train_s.columns"
   ]
  },
  {
   "cell_type": "code",
   "execution_count": 475,
   "metadata": {},
   "outputs": [
    {
     "data": {
      "text/plain": [
       "Index(['carwidth', 'MakeOrBrand_bmw', 'MakeOrBrand_porsche',\n",
       "       'enginelocation_rear', 'enginetype_l', 'cylindernumber_five',\n",
       "       'cylindernumber_four', 'cylindernumber_three', 'cylindernumber_twelve',\n",
       "       'cylindernumber_two'],\n",
       "      dtype='object')"
      ]
     },
     "execution_count": 475,
     "metadata": {},
     "output_type": "execute_result"
    }
   ],
   "source": []
  },
  {
   "cell_type": "code",
   "execution_count": 476,
   "metadata": {},
   "outputs": [],
   "source": [
    "coefficients = lr5.coef_"
   ]
  },
  {
   "cell_type": "code",
   "execution_count": 477,
   "metadata": {},
   "outputs": [],
   "source": [
    "final_model = pd.DataFrame({\"Features\":features,\"Coef\":coefficients})"
   ]
  },
  {
   "cell_type": "code",
   "execution_count": 479,
   "metadata": {},
   "outputs": [
    {
     "data": {
      "text/html": [
       "<div>\n",
       "<style scoped>\n",
       "    .dataframe tbody tr th:only-of-type {\n",
       "        vertical-align: middle;\n",
       "    }\n",
       "\n",
       "    .dataframe tbody tr th {\n",
       "        vertical-align: top;\n",
       "    }\n",
       "\n",
       "    .dataframe thead th {\n",
       "        text-align: right;\n",
       "    }\n",
       "</style>\n",
       "<table border=\"1\" class=\"dataframe\">\n",
       "  <thead>\n",
       "    <tr style=\"text-align: right;\">\n",
       "      <th></th>\n",
       "      <th>Features</th>\n",
       "      <th>Coef</th>\n",
       "    </tr>\n",
       "  </thead>\n",
       "  <tbody>\n",
       "    <tr>\n",
       "      <td>0</td>\n",
       "      <td>carwidth</td>\n",
       "      <td>0.795892</td>\n",
       "    </tr>\n",
       "    <tr>\n",
       "      <td>1</td>\n",
       "      <td>MakeOrBrand_bmw</td>\n",
       "      <td>0.257585</td>\n",
       "    </tr>\n",
       "    <tr>\n",
       "      <td>2</td>\n",
       "      <td>MakeOrBrand_porsche</td>\n",
       "      <td>0.056356</td>\n",
       "    </tr>\n",
       "    <tr>\n",
       "      <td>3</td>\n",
       "      <td>enginelocation_rear</td>\n",
       "      <td>0.488773</td>\n",
       "    </tr>\n",
       "    <tr>\n",
       "      <td>4</td>\n",
       "      <td>enginetype_l</td>\n",
       "      <td>-0.060463</td>\n",
       "    </tr>\n",
       "    <tr>\n",
       "      <td>5</td>\n",
       "      <td>cylindernumber_five</td>\n",
       "      <td>-0.086234</td>\n",
       "    </tr>\n",
       "    <tr>\n",
       "      <td>6</td>\n",
       "      <td>cylindernumber_four</td>\n",
       "      <td>-0.129877</td>\n",
       "    </tr>\n",
       "    <tr>\n",
       "      <td>7</td>\n",
       "      <td>cylindernumber_three</td>\n",
       "      <td>0.119543</td>\n",
       "    </tr>\n",
       "    <tr>\n",
       "      <td>8</td>\n",
       "      <td>cylindernumber_twelve</td>\n",
       "      <td>0.228192</td>\n",
       "    </tr>\n",
       "    <tr>\n",
       "      <td>9</td>\n",
       "      <td>cylindernumber_two</td>\n",
       "      <td>-0.081678</td>\n",
       "    </tr>\n",
       "  </tbody>\n",
       "</table>\n",
       "</div>"
      ],
      "text/plain": [
       "                Features      Coef\n",
       "0               carwidth  0.795892\n",
       "1        MakeOrBrand_bmw  0.257585\n",
       "2    MakeOrBrand_porsche  0.056356\n",
       "3    enginelocation_rear  0.488773\n",
       "4           enginetype_l -0.060463\n",
       "5    cylindernumber_five -0.086234\n",
       "6    cylindernumber_four -0.129877\n",
       "7   cylindernumber_three  0.119543\n",
       "8  cylindernumber_twelve  0.228192\n",
       "9     cylindernumber_two -0.081678"
      ]
     },
     "execution_count": 479,
     "metadata": {},
     "output_type": "execute_result"
    }
   ],
   "source": [
    "final_model # Final Model with coefficients"
   ]
  },
  {
   "cell_type": "code",
   "execution_count": null,
   "metadata": {},
   "outputs": [],
   "source": []
  }
 ],
 "metadata": {
  "kernelspec": {
   "display_name": "Python 3",
   "language": "python",
   "name": "python3"
  },
  "language_info": {
   "codemirror_mode": {
    "name": "ipython",
    "version": 3
   },
   "file_extension": ".py",
   "mimetype": "text/x-python",
   "name": "python",
   "nbconvert_exporter": "python",
   "pygments_lexer": "ipython3",
   "version": "3.7.4"
  }
 },
 "nbformat": 4,
 "nbformat_minor": 2
}

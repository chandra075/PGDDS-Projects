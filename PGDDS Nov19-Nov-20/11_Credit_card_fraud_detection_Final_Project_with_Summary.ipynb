{
 "cells": [
  {
   "cell_type": "markdown",
   "metadata": {},
   "source": [
    "## Credit Card Fraud Detection\n",
    "\n",
    "In this project you will predict fraudulent credit card transactions with the help of Machine learning models. Please import the following libraries to get started."
   ]
  },
  {
   "cell_type": "code",
   "execution_count": 1,
   "metadata": {
    "scrolled": false
   },
   "outputs": [],
   "source": [
    "import numpy as np\n",
    "import pandas as pd\n",
    "\n",
    "import matplotlib.pyplot as plt\n",
    "%matplotlib inline\n",
    "import seaborn as sns\n",
    "\n",
    "from sklearn import metrics\n",
    "from sklearn import preprocessing\n",
    "import warnings\n",
    "warnings.filterwarnings(\"ignore\")"
   ]
  },
  {
   "cell_type": "markdown",
   "metadata": {},
   "source": [
    "## Exploratory data analysis"
   ]
  },
  {
   "cell_type": "code",
   "execution_count": 2,
   "metadata": {},
   "outputs": [
    {
     "data": {
      "text/html": [
       "<div>\n",
       "<style scoped>\n",
       "    .dataframe tbody tr th:only-of-type {\n",
       "        vertical-align: middle;\n",
       "    }\n",
       "\n",
       "    .dataframe tbody tr th {\n",
       "        vertical-align: top;\n",
       "    }\n",
       "\n",
       "    .dataframe thead th {\n",
       "        text-align: right;\n",
       "    }\n",
       "</style>\n",
       "<table border=\"1\" class=\"dataframe\">\n",
       "  <thead>\n",
       "    <tr style=\"text-align: right;\">\n",
       "      <th></th>\n",
       "      <th>Time</th>\n",
       "      <th>V1</th>\n",
       "      <th>V2</th>\n",
       "      <th>V3</th>\n",
       "      <th>V4</th>\n",
       "      <th>V5</th>\n",
       "      <th>V6</th>\n",
       "      <th>V7</th>\n",
       "      <th>V8</th>\n",
       "      <th>V9</th>\n",
       "      <th>...</th>\n",
       "      <th>V21</th>\n",
       "      <th>V22</th>\n",
       "      <th>V23</th>\n",
       "      <th>V24</th>\n",
       "      <th>V25</th>\n",
       "      <th>V26</th>\n",
       "      <th>V27</th>\n",
       "      <th>V28</th>\n",
       "      <th>Amount</th>\n",
       "      <th>Class</th>\n",
       "    </tr>\n",
       "  </thead>\n",
       "  <tbody>\n",
       "    <tr>\n",
       "      <td>0</td>\n",
       "      <td>0.0</td>\n",
       "      <td>-1.359807</td>\n",
       "      <td>-0.072781</td>\n",
       "      <td>2.536347</td>\n",
       "      <td>1.378155</td>\n",
       "      <td>-0.338321</td>\n",
       "      <td>0.462388</td>\n",
       "      <td>0.239599</td>\n",
       "      <td>0.098698</td>\n",
       "      <td>0.363787</td>\n",
       "      <td>...</td>\n",
       "      <td>-0.018307</td>\n",
       "      <td>0.277838</td>\n",
       "      <td>-0.110474</td>\n",
       "      <td>0.066928</td>\n",
       "      <td>0.128539</td>\n",
       "      <td>-0.189115</td>\n",
       "      <td>0.133558</td>\n",
       "      <td>-0.021053</td>\n",
       "      <td>149.62</td>\n",
       "      <td>0</td>\n",
       "    </tr>\n",
       "    <tr>\n",
       "      <td>1</td>\n",
       "      <td>0.0</td>\n",
       "      <td>1.191857</td>\n",
       "      <td>0.266151</td>\n",
       "      <td>0.166480</td>\n",
       "      <td>0.448154</td>\n",
       "      <td>0.060018</td>\n",
       "      <td>-0.082361</td>\n",
       "      <td>-0.078803</td>\n",
       "      <td>0.085102</td>\n",
       "      <td>-0.255425</td>\n",
       "      <td>...</td>\n",
       "      <td>-0.225775</td>\n",
       "      <td>-0.638672</td>\n",
       "      <td>0.101288</td>\n",
       "      <td>-0.339846</td>\n",
       "      <td>0.167170</td>\n",
       "      <td>0.125895</td>\n",
       "      <td>-0.008983</td>\n",
       "      <td>0.014724</td>\n",
       "      <td>2.69</td>\n",
       "      <td>0</td>\n",
       "    </tr>\n",
       "    <tr>\n",
       "      <td>2</td>\n",
       "      <td>1.0</td>\n",
       "      <td>-1.358354</td>\n",
       "      <td>-1.340163</td>\n",
       "      <td>1.773209</td>\n",
       "      <td>0.379780</td>\n",
       "      <td>-0.503198</td>\n",
       "      <td>1.800499</td>\n",
       "      <td>0.791461</td>\n",
       "      <td>0.247676</td>\n",
       "      <td>-1.514654</td>\n",
       "      <td>...</td>\n",
       "      <td>0.247998</td>\n",
       "      <td>0.771679</td>\n",
       "      <td>0.909412</td>\n",
       "      <td>-0.689281</td>\n",
       "      <td>-0.327642</td>\n",
       "      <td>-0.139097</td>\n",
       "      <td>-0.055353</td>\n",
       "      <td>-0.059752</td>\n",
       "      <td>378.66</td>\n",
       "      <td>0</td>\n",
       "    </tr>\n",
       "    <tr>\n",
       "      <td>3</td>\n",
       "      <td>1.0</td>\n",
       "      <td>-0.966272</td>\n",
       "      <td>-0.185226</td>\n",
       "      <td>1.792993</td>\n",
       "      <td>-0.863291</td>\n",
       "      <td>-0.010309</td>\n",
       "      <td>1.247203</td>\n",
       "      <td>0.237609</td>\n",
       "      <td>0.377436</td>\n",
       "      <td>-1.387024</td>\n",
       "      <td>...</td>\n",
       "      <td>-0.108300</td>\n",
       "      <td>0.005274</td>\n",
       "      <td>-0.190321</td>\n",
       "      <td>-1.175575</td>\n",
       "      <td>0.647376</td>\n",
       "      <td>-0.221929</td>\n",
       "      <td>0.062723</td>\n",
       "      <td>0.061458</td>\n",
       "      <td>123.50</td>\n",
       "      <td>0</td>\n",
       "    </tr>\n",
       "    <tr>\n",
       "      <td>4</td>\n",
       "      <td>2.0</td>\n",
       "      <td>-1.158233</td>\n",
       "      <td>0.877737</td>\n",
       "      <td>1.548718</td>\n",
       "      <td>0.403034</td>\n",
       "      <td>-0.407193</td>\n",
       "      <td>0.095921</td>\n",
       "      <td>0.592941</td>\n",
       "      <td>-0.270533</td>\n",
       "      <td>0.817739</td>\n",
       "      <td>...</td>\n",
       "      <td>-0.009431</td>\n",
       "      <td>0.798278</td>\n",
       "      <td>-0.137458</td>\n",
       "      <td>0.141267</td>\n",
       "      <td>-0.206010</td>\n",
       "      <td>0.502292</td>\n",
       "      <td>0.219422</td>\n",
       "      <td>0.215153</td>\n",
       "      <td>69.99</td>\n",
       "      <td>0</td>\n",
       "    </tr>\n",
       "  </tbody>\n",
       "</table>\n",
       "<p>5 rows × 31 columns</p>\n",
       "</div>"
      ],
      "text/plain": [
       "   Time        V1        V2        V3        V4        V5        V6        V7  \\\n",
       "0   0.0 -1.359807 -0.072781  2.536347  1.378155 -0.338321  0.462388  0.239599   \n",
       "1   0.0  1.191857  0.266151  0.166480  0.448154  0.060018 -0.082361 -0.078803   \n",
       "2   1.0 -1.358354 -1.340163  1.773209  0.379780 -0.503198  1.800499  0.791461   \n",
       "3   1.0 -0.966272 -0.185226  1.792993 -0.863291 -0.010309  1.247203  0.237609   \n",
       "4   2.0 -1.158233  0.877737  1.548718  0.403034 -0.407193  0.095921  0.592941   \n",
       "\n",
       "         V8        V9  ...       V21       V22       V23       V24       V25  \\\n",
       "0  0.098698  0.363787  ... -0.018307  0.277838 -0.110474  0.066928  0.128539   \n",
       "1  0.085102 -0.255425  ... -0.225775 -0.638672  0.101288 -0.339846  0.167170   \n",
       "2  0.247676 -1.514654  ...  0.247998  0.771679  0.909412 -0.689281 -0.327642   \n",
       "3  0.377436 -1.387024  ... -0.108300  0.005274 -0.190321 -1.175575  0.647376   \n",
       "4 -0.270533  0.817739  ... -0.009431  0.798278 -0.137458  0.141267 -0.206010   \n",
       "\n",
       "        V26       V27       V28  Amount  Class  \n",
       "0 -0.189115  0.133558 -0.021053  149.62      0  \n",
       "1  0.125895 -0.008983  0.014724    2.69      0  \n",
       "2 -0.139097 -0.055353 -0.059752  378.66      0  \n",
       "3 -0.221929  0.062723  0.061458  123.50      0  \n",
       "4  0.502292  0.219422  0.215153   69.99      0  \n",
       "\n",
       "[5 rows x 31 columns]"
      ]
     },
     "execution_count": 2,
     "metadata": {},
     "output_type": "execute_result"
    }
   ],
   "source": [
    "df = pd.read_csv('creditcard.csv')\n",
    "df.head()"
   ]
  },
  {
   "cell_type": "code",
   "execution_count": 3,
   "metadata": {},
   "outputs": [
    {
     "data": {
      "text/plain": [
       "0    284315\n",
       "1       492\n",
       "Name: Class, dtype: int64"
      ]
     },
     "execution_count": 3,
     "metadata": {},
     "output_type": "execute_result"
    }
   ],
   "source": [
    "df[\"Class\"].value_counts()"
   ]
  },
  {
   "cell_type": "code",
   "execution_count": 4,
   "metadata": {},
   "outputs": [],
   "source": [
    "#observe the different feature type present in the data\n",
    "df0 = df[df[\"Class\"]==0]\n",
    "df1 = df[df[\"Class\"]==1]"
   ]
  },
  {
   "cell_type": "code",
   "execution_count": 5,
   "metadata": {},
   "outputs": [],
   "source": [
    "cols = df0.columns"
   ]
  },
  {
   "cell_type": "code",
   "execution_count": 6,
   "metadata": {},
   "outputs": [],
   "source": [
    "cols = ['Time', 'V1', 'V2', 'V3', 'V4', 'V5', 'V6', 'V7', 'V8', 'V9', 'V10',\n",
    "       'V11', 'V12', 'V13', 'V14', 'V15', 'V16', 'V17', 'V18', 'V19', 'V20',\n",
    "       'V21', 'V22', 'V23', 'V24', 'V25', 'V26', 'V27', 'V28', 'Amount']"
   ]
  },
  {
   "cell_type": "code",
   "execution_count": 7,
   "metadata": {},
   "outputs": [
    {
     "data": {
      "image/png": "[encoded data removed]",
      "text/plain": [
       "<Figure size 720x1296 with 30 Axes>"
      ]
     },
     "metadata": {
      "needs_background": "light"
     },
     "output_type": "display_data"
    }
   ],
   "source": [
    "fig,axes = plt.subplots(15,2,figsize=(10,18))\n",
    "\n",
    "for col,ax in zip(cols,axes.ravel()):\n",
    "    ax.hist(df0[col],label=\"_0\",alpha=.5)\n",
    "    ax.hist(df1[col],label=\"_1\",alpha=.5)\n",
    "    ax.set_title(col)\n",
    "plt.tight_layout()\n"
   ]
  },
  {
   "cell_type": "markdown",
   "metadata": {},
   "source": [
    "Here we will observe the distribution of our classes"
   ]
  },
  {
   "cell_type": "code",
   "execution_count": 8,
   "metadata": {},
   "outputs": [],
   "source": [
    "classes=df['Class'].value_counts()\n",
    "normal_share=classes[0]/df['Class'].count()*100\n",
    "fraud_share=classes[1]/df['Class'].count()*100"
   ]
  },
  {
   "cell_type": "code",
   "execution_count": 9,
   "metadata": {},
   "outputs": [
    {
     "data": {
      "text/plain": [
       "<matplotlib.legend.Legend at 0x1d3c50dde88>"
      ]
     },
     "execution_count": 9,
     "metadata": {},
     "output_type": "execute_result"
    },
    {
     "data": {
      "image/png": "[encoded data removed]",
      "text/plain": [
       "<Figure size 1296x360 with 1 Axes>"
      ]
     },
     "metadata": {
      "needs_background": "light"
     },
     "output_type": "display_data"
    }
   ],
   "source": [
    "# Create a bar plot for the number and percentage of fraudulent vs non-fraudulent transcations\n",
    "(classes/len(df)*100).plot(kind=\"barh\",figsize=(18,5))\n",
    "plt.legend()"
   ]
  },
  {
   "cell_type": "code",
   "execution_count": 10,
   "metadata": {},
   "outputs": [
    {
     "data": {
      "text/plain": [
       "<matplotlib.legend.Legend at 0x1d3c4b05108>"
      ]
     },
     "execution_count": 10,
     "metadata": {},
     "output_type": "execute_result"
    },
    {
     "data": {
      "image/png": "[encoded data removed]",
      "text/plain": [
       "<Figure size 432x288 with 1 Axes>"
      ]
     },
     "metadata": {
      "needs_background": "light"
     },
     "output_type": "display_data"
    }
   ],
   "source": [
    "# Create a scatter plot to observe the distribution of classes with time\n",
    "plt.scatter(df0[\"Time\"],df0[\"Class\"],label=\"0\")\n",
    "plt.scatter(df1[\"Time\"],df1[\"Class\"],label=\"1\")\n",
    "plt.legend()"
   ]
  },
  {
   "cell_type": "code",
   "execution_count": 11,
   "metadata": {},
   "outputs": [
    {
     "data": {
      "image/png": "[encoded data removed]",
      "text/plain": [
       "<Figure size 432x288 with 1 Axes>"
      ]
     },
     "metadata": {
      "needs_background": "light"
     },
     "output_type": "display_data"
    }
   ],
   "source": [
    "# Create a scatter plot to observe the distribution of classes with Amount\n",
    "plt.scatter(df0[\"Amount\"],df0[\"Class\"],label=\"0\")\n",
    "plt.scatter(df1[\"Amount\"],df1[\"Class\"],label=\"1\")\n",
    "plt.legend()\n",
    "plt.show()"
   ]
  },
  {
   "cell_type": "code",
   "execution_count": 1,
   "metadata": {},
   "outputs": [],
   "source": [
    "# Drop unnecessary columns\n",
    "#Its not too many and model will ignore it "
   ]
  },
  {
   "cell_type": "markdown",
   "metadata": {},
   "source": [
    "### Splitting the data into train & test data"
   ]
  },
  {
   "cell_type": "code",
   "execution_count": 13,
   "metadata": {},
   "outputs": [],
   "source": [
    "y= df[\"Class\"]"
   ]
  },
  {
   "cell_type": "code",
   "execution_count": 14,
   "metadata": {},
   "outputs": [],
   "source": [
    "X = df[cols]"
   ]
  },
  {
   "cell_type": "code",
   "execution_count": 15,
   "metadata": {},
   "outputs": [],
   "source": [
    "from sklearn.model_selection import train_test_split"
   ]
  },
  {
   "cell_type": "code",
   "execution_count": 16,
   "metadata": {},
   "outputs": [],
   "source": [
    "X_train, X_test, y_train, y_test = train_test_split(X, y, test_size=0.33, random_state=30)"
   ]
  },
  {
   "cell_type": "markdown",
   "metadata": {},
   "source": [
    "##### Preserve X_test & y_test to evaluate on the test data once you build the model"
   ]
  },
  {
   "cell_type": "code",
   "execution_count": 17,
   "metadata": {},
   "outputs": [
    {
     "name": "stdout",
     "output_type": "stream",
     "text": [
      "492\n",
      "323\n",
      "169\n"
     ]
    }
   ],
   "source": [
    "print(np.sum(y))\n",
    "print(np.sum(y_train))\n",
    "print(np.sum(y_test))"
   ]
  },
  {
   "cell_type": "markdown",
   "metadata": {},
   "source": [
    "### Plotting the distribution of a variable"
   ]
  },
  {
   "cell_type": "code",
   "execution_count": 18,
   "metadata": {},
   "outputs": [
    {
     "data": {
      "image/png": "[encoded data removed]",
      "text/plain": [
       "<Figure size 720x1296 with 30 Axes>"
      ]
     },
     "metadata": {
      "needs_background": "light"
     },
     "output_type": "display_data"
    }
   ],
   "source": [
    "# plot the histogram of a variable from the dataset to see the skewness\n",
    "fig,axes = plt.subplots(15,2,figsize=(10,18))\n",
    "for col,ax in zip(cols,axes.ravel()):\n",
    "    ax.hist(df[col])\n",
    "    ax.set_title(col)\n",
    "plt.tight_layout()"
   ]
  },
  {
   "cell_type": "markdown",
   "metadata": {},
   "source": [
    "### Power transformed to make distribution normal\n",
    "- <b>Power Transformer</b> package present in the <b>preprocessing library provided by sklearn</b> to make distribution more gaussian"
   ]
  },
  {
   "cell_type": "code",
   "execution_count": 19,
   "metadata": {},
   "outputs": [],
   "source": [
    "pt = preprocessing.PowerTransformer(copy=False) #to fit & transform the train & test data"
   ]
  },
  {
   "cell_type": "code",
   "execution_count": 20,
   "metadata": {},
   "outputs": [],
   "source": [
    "X_train_pt = pt.fit_transform(X_train)"
   ]
  },
  {
   "cell_type": "code",
   "execution_count": 21,
   "metadata": {},
   "outputs": [],
   "source": [
    "X_test_pt = pt.transform(X_test)"
   ]
  },
  {
   "cell_type": "code",
   "execution_count": 22,
   "metadata": {},
   "outputs": [],
   "source": [
    "\n",
    "X_train_pt_df = pd.DataFrame(data=X_train_pt,columns=cols)"
   ]
  },
  {
   "cell_type": "code",
   "execution_count": 23,
   "metadata": {},
   "outputs": [
    {
     "data": {
      "image/png": "[encoded data removed]",
      "text/plain": [
       "<Figure size 720x1296 with 30 Axes>"
      ]
     },
     "metadata": {
      "needs_background": "light"
     },
     "output_type": "display_data"
    }
   ],
   "source": [
    "# plot the histogram of a variables/features of the dataset again to see the result of power transform\n",
    "#For example feature v17 looks more normal after power transformed\n",
    "fig,axes = plt.subplots(15,2,figsize=(10,18))\n",
    "for col,ax in zip(cols,axes.ravel()):\n",
    "    ax.hist(X_train_pt_df[col],label=\"train\")\n",
    "    \n",
    "    ax.set_title(col)\n",
    "plt.tight_layout()"
   ]
  },
  {
   "cell_type": "markdown",
   "metadata": {},
   "source": [
    "## Model Building\n",
    "- Build different models on the imbalanced dataset and see the result"
   ]
  },
  {
   "cell_type": "code",
   "execution_count": 7,
   "metadata": {
    "scrolled": false
   },
   "outputs": [],
   "source": [
    "# Logistic Regression\n",
    "from sklearn.linear_model import LogisticRegression\n",
    "\n"
   ]
  },
  {
   "cell_type": "code",
   "execution_count": 24,
   "metadata": {},
   "outputs": [],
   "source": [
    "logreg = LogisticRegression(class_weight=\"balanced\",C=100)"
   ]
  },
  {
   "cell_type": "code",
   "execution_count": 25,
   "metadata": {
    "scrolled": false
   },
   "outputs": [
    {
     "name": "stderr",
     "output_type": "stream",
     "text": [
      "C:\\Users\\c.a.singh\\AN\\lib\\site-packages\\sklearn\\linear_model\\logistic.py:432: FutureWarning: Default solver will be changed to 'lbfgs' in 0.22. Specify a solver to silence this warning.\n",
      "  FutureWarning)\n"
     ]
    },
    {
     "data": {
      "text/plain": [
       "LogisticRegression(C=100, class_weight='balanced', dual=False,\n",
       "                   fit_intercept=True, intercept_scaling=1, l1_ratio=None,\n",
       "                   max_iter=100, multi_class='warn', n_jobs=None, penalty='l2',\n",
       "                   random_state=None, solver='warn', tol=0.0001, verbose=0,\n",
       "                   warm_start=False)"
      ]
     },
     "execution_count": 25,
     "metadata": {},
     "output_type": "execute_result"
    }
   ],
   "source": [
    "logreg.fit(X_train_pt,y_train)"
   ]
  },
  {
   "cell_type": "code",
   "execution_count": 26,
   "metadata": {},
   "outputs": [
    {
     "name": "stdout",
     "output_type": "stream",
     "text": [
      "              precision    recall  f1-score   support\n",
      "\n",
      "           0       1.00      0.95      0.97    190497\n",
      "           1       0.03      0.95      0.06       323\n",
      "\n",
      "    accuracy                           0.95    190820\n",
      "   macro avg       0.52      0.95      0.52    190820\n",
      "weighted avg       1.00      0.95      0.97    190820\n",
      "\n"
     ]
    }
   ],
   "source": [
    "print(metrics.classification_report(y_train,logreg.predict_proba(X_train_pt)[:,1]>.32))"
   ]
  },
  {
   "cell_type": "code",
   "execution_count": 27,
   "metadata": {},
   "outputs": [
    {
     "name": "stdout",
     "output_type": "stream",
     "text": [
      "              precision    recall  f1-score   support\n",
      "\n",
      "           0       1.00      0.95      0.97     93818\n",
      "           1       0.03      0.92      0.06       169\n",
      "\n",
      "    accuracy                           0.95     93987\n",
      "   macro avg       0.52      0.93      0.52     93987\n",
      "weighted avg       1.00      0.95      0.97     93987\n",
      "\n"
     ]
    }
   ],
   "source": [
    "print(metrics.classification_report(y_test,logreg.predict_proba(X_test_pt)[:,1]>.32))"
   ]
  },
  {
   "cell_type": "code",
   "execution_count": 28,
   "metadata": {
    "scrolled": true
   },
   "outputs": [
    {
     "data": {
      "text/plain": [
       "array([[89140,  4678],\n",
       "       [   14,   155]], dtype=int64)"
      ]
     },
     "execution_count": 28,
     "metadata": {},
     "output_type": "execute_result"
    }
   ],
   "source": [
    "metrics.confusion_matrix(y_test,logreg.predict_proba(X_test_pt)[:,1]>.32)"
   ]
  },
  {
   "cell_type": "code",
   "execution_count": 29,
   "metadata": {},
   "outputs": [
    {
     "name": "stdout",
     "output_type": "stream",
     "text": [
      "              precision    recall  f1-score   support\n",
      "\n",
      "           0       1.00      0.95      0.97     93818\n",
      "           1       0.03      0.92      0.06       169\n",
      "\n",
      "    accuracy                           0.95     93987\n",
      "   macro avg       0.52      0.93      0.52     93987\n",
      "weighted avg       1.00      0.95      0.97     93987\n",
      "\n"
     ]
    }
   ],
   "source": [
    "print(metrics.classification_report(y_test,logreg.predict_proba(X_test_pt)[:,1]>.32)) # Cut Off set based on Sensit Vs Speci"
   ]
  },
  {
   "cell_type": "code",
   "execution_count": 30,
   "metadata": {},
   "outputs": [],
   "source": [
    "sen0=[]\n",
    "sen1=[]\n",
    "\n",
    "for prob in np.linspace(.001,.5,100):\n",
    "    cf = metrics.confusion_matrix(y_train,logreg.predict_proba(X_train_pt)[:,1]>prob)\n",
    "    sensitivity0 = cf[0,0]/(cf[0,0]+cf[0,1])\n",
    "    sensitivity1= cf[1,1]/(cf[1,1]+cf[1,0])\n",
    "    sen0.append(sensitivity0)\n",
    "    sen1.append(sensitivity1)"
   ]
  },
  {
   "cell_type": "code",
   "execution_count": 31,
   "metadata": {},
   "outputs": [
    {
     "data": {
      "image/png": "[encoded data removed]",
      "text/plain": [
       "<Figure size 792x360 with 1 Axes>"
      ]
     },
     "metadata": {
      "needs_background": "light"
     },
     "output_type": "display_data"
    }
   ],
   "source": [
    "plt.figure(figsize=(11,5))\n",
    "plt.plot(np.linspace(.001,.5,100),sen0,label=\"0\")\n",
    "plt.plot(np.linspace(.001,.5,100),sen1,label=\"1\")\n",
    "plt.legend()\n",
    "plt.title(\"Sensitivity/Specificity for Probability Cutoffs\")\n",
    "plt.show()"
   ]
  },
  {
   "cell_type": "code",
   "execution_count": 32,
   "metadata": {},
   "outputs": [
    {
     "data": {
      "text/plain": [
       "0.9500428250814217"
      ]
     },
     "execution_count": 32,
     "metadata": {},
     "output_type": "execute_result"
    }
   ],
   "source": [
    "metrics.roc_auc_score(y_train,logreg.predict_proba(X_train_pt)[:,1]>.32)"
   ]
  },
  {
   "cell_type": "code",
   "execution_count": 33,
   "metadata": {},
   "outputs": [
    {
     "data": {
      "text/plain": [
       "0.9336486317900413"
      ]
     },
     "execution_count": 33,
     "metadata": {},
     "output_type": "execute_result"
    }
   ],
   "source": [
    "metrics.roc_auc_score(y_test,logreg.predict_proba(X_test_pt)[:,1]>.32)"
   ]
  },
  {
   "cell_type": "markdown",
   "metadata": {},
   "source": [
    "#### perfom cross validation on the X_train & y_train to create a fine tuned model and then tweaking threshold using predict_proba\n"
   ]
  },
  {
   "cell_type": "code",
   "execution_count": 26,
   "metadata": {},
   "outputs": [],
   "source": [
    "#perform cross validation\n",
    "#perform hyperparameter tuning\n",
    "#print the evaluation result by choosing a evaluation metric\n",
    "#print the optimum value of hyperparameters\n",
    "from sklearn.model_selection import GridSearchCV"
   ]
  },
  {
   "cell_type": "code",
   "execution_count": 35,
   "metadata": {},
   "outputs": [
    {
     "name": "stderr",
     "output_type": "stream",
     "text": [
      "C:\\Users\\c.a.singh\\AN\\lib\\site-packages\\sklearn\\linear_model\\logistic.py:432: FutureWarning: Default solver will be changed to 'lbfgs' in 0.22. Specify a solver to silence this warning.\n",
      "  FutureWarning)\n"
     ]
    },
    {
     "data": {
      "text/plain": [
       "GridSearchCV(cv=3, error_score='raise-deprecating',\n",
       "             estimator=LogisticRegression(C=100, class_weight='balanced',\n",
       "                                          dual=False, fit_intercept=True,\n",
       "                                          intercept_scaling=1, l1_ratio=None,\n",
       "                                          max_iter=100, multi_class='warn',\n",
       "                                          n_jobs=None, penalty='l2',\n",
       "                                          random_state=None, solver='warn',\n",
       "                                          tol=0.0001, verbose=0,\n",
       "                                          warm_start=False),\n",
       "             iid='warn', n_jobs=-1, param_grid={'C': [0.1, 1, 10, 100]},\n",
       "             pre_dispatch='2*n_jobs', refit=True, return_train_score=True,\n",
       "             scoring='roc_auc', verbose=0)"
      ]
     },
     "execution_count": 35,
     "metadata": {},
     "output_type": "execute_result"
    }
   ],
   "source": [
    "\n",
    "param_grid = {'C':[0.1,1,10,100]}\n",
    "grid =GridSearchCV(logreg,param_grid,cv=3,scoring=\"roc_auc\",return_train_score=True,n_jobs=-1)\n",
    "grid.fit(X_train_pt,y_train)\n"
   ]
  },
  {
   "cell_type": "code",
   "execution_count": 36,
   "metadata": {},
   "outputs": [],
   "source": [
    "dfvt = pd.DataFrame(grid.cv_results_)"
   ]
  },
  {
   "cell_type": "code",
   "execution_count": 37,
   "metadata": {
    "scrolled": true
   },
   "outputs": [
    {
     "data": {
      "text/html": [
       "<div>\n",
       "<style scoped>\n",
       "    .dataframe tbody tr th:only-of-type {\n",
       "        vertical-align: middle;\n",
       "    }\n",
       "\n",
       "    .dataframe tbody tr th {\n",
       "        vertical-align: top;\n",
       "    }\n",
       "\n",
       "    .dataframe thead th {\n",
       "        text-align: right;\n",
       "    }\n",
       "</style>\n",
       "<table border=\"1\" class=\"dataframe\">\n",
       "  <thead>\n",
       "    <tr style=\"text-align: right;\">\n",
       "      <th></th>\n",
       "      <th>mean_fit_time</th>\n",
       "      <th>std_fit_time</th>\n",
       "      <th>mean_score_time</th>\n",
       "      <th>std_score_time</th>\n",
       "      <th>param_C</th>\n",
       "      <th>params</th>\n",
       "      <th>split0_test_score</th>\n",
       "      <th>split1_test_score</th>\n",
       "      <th>split2_test_score</th>\n",
       "      <th>mean_test_score</th>\n",
       "      <th>std_test_score</th>\n",
       "      <th>rank_test_score</th>\n",
       "      <th>split0_train_score</th>\n",
       "      <th>split1_train_score</th>\n",
       "      <th>split2_train_score</th>\n",
       "      <th>mean_train_score</th>\n",
       "      <th>std_train_score</th>\n",
       "    </tr>\n",
       "  </thead>\n",
       "  <tbody>\n",
       "    <tr>\n",
       "      <td>0</td>\n",
       "      <td>3.488798</td>\n",
       "      <td>0.259374</td>\n",
       "      <td>0.056632</td>\n",
       "      <td>0.009098</td>\n",
       "      <td>0.1</td>\n",
       "      <td>{'C': 0.1}</td>\n",
       "      <td>0.972613</td>\n",
       "      <td>0.993588</td>\n",
       "      <td>0.966512</td>\n",
       "      <td>0.977571</td>\n",
       "      <td>0.011596</td>\n",
       "      <td>1</td>\n",
       "      <td>0.990630</td>\n",
       "      <td>0.987770</td>\n",
       "      <td>0.996211</td>\n",
       "      <td>0.991537</td>\n",
       "      <td>0.003505</td>\n",
       "    </tr>\n",
       "    <tr>\n",
       "      <td>1</td>\n",
       "      <td>4.941531</td>\n",
       "      <td>0.202075</td>\n",
       "      <td>0.073482</td>\n",
       "      <td>0.003721</td>\n",
       "      <td>1</td>\n",
       "      <td>{'C': 1}</td>\n",
       "      <td>0.971987</td>\n",
       "      <td>0.993530</td>\n",
       "      <td>0.966398</td>\n",
       "      <td>0.977305</td>\n",
       "      <td>0.011698</td>\n",
       "      <td>2</td>\n",
       "      <td>0.990821</td>\n",
       "      <td>0.987810</td>\n",
       "      <td>0.996209</td>\n",
       "      <td>0.991613</td>\n",
       "      <td>0.003474</td>\n",
       "    </tr>\n",
       "    <tr>\n",
       "      <td>2</td>\n",
       "      <td>5.397408</td>\n",
       "      <td>0.683341</td>\n",
       "      <td>0.074533</td>\n",
       "      <td>0.004500</td>\n",
       "      <td>10</td>\n",
       "      <td>{'C': 10}</td>\n",
       "      <td>0.971960</td>\n",
       "      <td>0.993525</td>\n",
       "      <td>0.966386</td>\n",
       "      <td>0.977290</td>\n",
       "      <td>0.011703</td>\n",
       "      <td>3</td>\n",
       "      <td>0.990843</td>\n",
       "      <td>0.987815</td>\n",
       "      <td>0.996207</td>\n",
       "      <td>0.991622</td>\n",
       "      <td>0.003470</td>\n",
       "    </tr>\n",
       "    <tr>\n",
       "      <td>3</td>\n",
       "      <td>5.249888</td>\n",
       "      <td>0.595775</td>\n",
       "      <td>0.064181</td>\n",
       "      <td>0.009909</td>\n",
       "      <td>100</td>\n",
       "      <td>{'C': 100}</td>\n",
       "      <td>0.971958</td>\n",
       "      <td>0.993525</td>\n",
       "      <td>0.966384</td>\n",
       "      <td>0.977289</td>\n",
       "      <td>0.011704</td>\n",
       "      <td>4</td>\n",
       "      <td>0.990845</td>\n",
       "      <td>0.987815</td>\n",
       "      <td>0.996207</td>\n",
       "      <td>0.991622</td>\n",
       "      <td>0.003470</td>\n",
       "    </tr>\n",
       "  </tbody>\n",
       "</table>\n",
       "</div>"
      ],
      "text/plain": [
       "   mean_fit_time  std_fit_time  mean_score_time  std_score_time param_C  \\\n",
       "0       3.488798      0.259374         0.056632        0.009098     0.1   \n",
       "1       4.941531      0.202075         0.073482        0.003721       1   \n",
       "2       5.397408      0.683341         0.074533        0.004500      10   \n",
       "3       5.249888      0.595775         0.064181        0.009909     100   \n",
       "\n",
       "       params  split0_test_score  split1_test_score  split2_test_score  \\\n",
       "0  {'C': 0.1}           0.972613           0.993588           0.966512   \n",
       "1    {'C': 1}           0.971987           0.993530           0.966398   \n",
       "2   {'C': 10}           0.971960           0.993525           0.966386   \n",
       "3  {'C': 100}           0.971958           0.993525           0.966384   \n",
       "\n",
       "   mean_test_score  std_test_score  rank_test_score  split0_train_score  \\\n",
       "0         0.977571        0.011596                1            0.990630   \n",
       "1         0.977305        0.011698                2            0.990821   \n",
       "2         0.977290        0.011703                3            0.990843   \n",
       "3         0.977289        0.011704                4            0.990845   \n",
       "\n",
       "   split1_train_score  split2_train_score  mean_train_score  std_train_score  \n",
       "0            0.987770            0.996211          0.991537         0.003505  \n",
       "1            0.987810            0.996209          0.991613         0.003474  \n",
       "2            0.987815            0.996207          0.991622         0.003470  \n",
       "3            0.987815            0.996207          0.991622         0.003470  "
      ]
     },
     "execution_count": 37,
     "metadata": {},
     "output_type": "execute_result"
    }
   ],
   "source": [
    "dfvt"
   ]
  },
  {
   "cell_type": "code",
   "execution_count": 38,
   "metadata": {
    "scrolled": true
   },
   "outputs": [
    {
     "data": {
      "text/html": [
       "<div>\n",
       "<style scoped>\n",
       "    .dataframe tbody tr th:only-of-type {\n",
       "        vertical-align: middle;\n",
       "    }\n",
       "\n",
       "    .dataframe tbody tr th {\n",
       "        vertical-align: top;\n",
       "    }\n",
       "\n",
       "    .dataframe thead th {\n",
       "        text-align: right;\n",
       "    }\n",
       "</style>\n",
       "<table border=\"1\" class=\"dataframe\">\n",
       "  <thead>\n",
       "    <tr style=\"text-align: right;\">\n",
       "      <th></th>\n",
       "      <th>mean_fit_time</th>\n",
       "      <th>std_fit_time</th>\n",
       "      <th>mean_score_time</th>\n",
       "      <th>std_score_time</th>\n",
       "      <th>param_C</th>\n",
       "      <th>params</th>\n",
       "      <th>split0_test_score</th>\n",
       "      <th>split1_test_score</th>\n",
       "      <th>split2_test_score</th>\n",
       "      <th>mean_test_score</th>\n",
       "      <th>std_test_score</th>\n",
       "      <th>rank_test_score</th>\n",
       "      <th>split0_train_score</th>\n",
       "      <th>split1_train_score</th>\n",
       "      <th>split2_train_score</th>\n",
       "      <th>mean_train_score</th>\n",
       "      <th>std_train_score</th>\n",
       "    </tr>\n",
       "  </thead>\n",
       "  <tbody>\n",
       "    <tr>\n",
       "      <td>3</td>\n",
       "      <td>5.249888</td>\n",
       "      <td>0.595775</td>\n",
       "      <td>0.064181</td>\n",
       "      <td>0.009909</td>\n",
       "      <td>100</td>\n",
       "      <td>{'C': 100}</td>\n",
       "      <td>0.971958</td>\n",
       "      <td>0.993525</td>\n",
       "      <td>0.966384</td>\n",
       "      <td>0.977289</td>\n",
       "      <td>0.011704</td>\n",
       "      <td>4</td>\n",
       "      <td>0.990845</td>\n",
       "      <td>0.987815</td>\n",
       "      <td>0.996207</td>\n",
       "      <td>0.991622</td>\n",
       "      <td>0.00347</td>\n",
       "    </tr>\n",
       "  </tbody>\n",
       "</table>\n",
       "</div>"
      ],
      "text/plain": [
       "   mean_fit_time  std_fit_time  mean_score_time  std_score_time param_C  \\\n",
       "3       5.249888      0.595775         0.064181        0.009909     100   \n",
       "\n",
       "       params  split0_test_score  split1_test_score  split2_test_score  \\\n",
       "3  {'C': 100}           0.971958           0.993525           0.966384   \n",
       "\n",
       "   mean_test_score  std_test_score  rank_test_score  split0_train_score  \\\n",
       "3         0.977289        0.011704                4            0.990845   \n",
       "\n",
       "   split1_train_score  split2_train_score  mean_train_score  std_train_score  \n",
       "3            0.987815            0.996207          0.991622          0.00347  "
      ]
     },
     "execution_count": 38,
     "metadata": {},
     "output_type": "execute_result"
    }
   ],
   "source": [
    "dfvt[dfvt[\"mean_train_score\"]==dfvt[\"mean_train_score\"].max()]"
   ]
  },
  {
   "cell_type": "code",
   "execution_count": 66,
   "metadata": {},
   "outputs": [],
   "source": [
    "# C=100 giving the best mean_train_accuracy hence using it for model as per above data frame but precision is 3% very low"
   ]
  },
  {
   "cell_type": "markdown",
   "metadata": {},
   "source": [
    "### Other algorithms tried as below\n",
    "\n",
    "- Random Forest\n",
    "- XGBoost"
   ]
  },
  {
   "cell_type": "code",
   "execution_count": 39,
   "metadata": {},
   "outputs": [],
   "source": [
    "from sklearn.ensemble import RandomForestClassifier"
   ]
  },
  {
   "cell_type": "code",
   "execution_count": 52,
   "metadata": {},
   "outputs": [],
   "source": [
    "rf = RandomForestClassifier(n_estimators=150,class_weight=\"balanced\",min_samples_split=4,criterion='entropy')"
   ]
  },
  {
   "cell_type": "code",
   "execution_count": 53,
   "metadata": {},
   "outputs": [
    {
     "data": {
      "text/plain": [
       "RandomForestClassifier(bootstrap=True, class_weight='balanced',\n",
       "                       criterion='entropy', max_depth=None, max_features='auto',\n",
       "                       max_leaf_nodes=None, min_impurity_decrease=0.0,\n",
       "                       min_impurity_split=None, min_samples_leaf=1,\n",
       "                       min_samples_split=4, min_weight_fraction_leaf=0.0,\n",
       "                       n_estimators=150, n_jobs=None, oob_score=False,\n",
       "                       random_state=None, verbose=0, warm_start=False)"
      ]
     },
     "execution_count": 53,
     "metadata": {},
     "output_type": "execute_result"
    }
   ],
   "source": [
    "rf.fit(X_train_pt,y_train)"
   ]
  },
  {
   "cell_type": "code",
   "execution_count": 54,
   "metadata": {},
   "outputs": [
    {
     "data": {
      "text/plain": [
       "array([[93811,     7],\n",
       "       [   45,   124]], dtype=int64)"
      ]
     },
     "execution_count": 54,
     "metadata": {},
     "output_type": "execute_result"
    }
   ],
   "source": [
    "metrics.confusion_matrix(y_test,rf.predict(X_test_pt))"
   ]
  },
  {
   "cell_type": "code",
   "execution_count": 55,
   "metadata": {},
   "outputs": [
    {
     "name": "stdout",
     "output_type": "stream",
     "text": [
      "              precision    recall  f1-score   support\n",
      "\n",
      "           0       1.00      1.00      1.00     93818\n",
      "           1       0.95      0.73      0.83       169\n",
      "\n",
      "    accuracy                           1.00     93987\n",
      "   macro avg       0.97      0.87      0.91     93987\n",
      "weighted avg       1.00      1.00      1.00     93987\n",
      "\n"
     ]
    }
   ],
   "source": [
    "print(metrics.classification_report(y_test,rf.predict(X_test_pt)))"
   ]
  },
  {
   "cell_type": "code",
   "execution_count": 25,
   "metadata": {},
   "outputs": [],
   "source": [
    "# Grid Search applied to fine optimal parameters"
   ]
  },
  {
   "cell_type": "code",
   "execution_count": 49,
   "metadata": {},
   "outputs": [
    {
     "data": {
      "text/plain": [
       "GridSearchCV(cv=3, error_score='raise-deprecating',\n",
       "             estimator=RandomForestClassifier(bootstrap=True,\n",
       "                                              class_weight='balanced',\n",
       "                                              criterion='gini', max_depth=None,\n",
       "                                              max_features='auto',\n",
       "                                              max_leaf_nodes=None,\n",
       "                                              min_impurity_decrease=0.0,\n",
       "                                              min_impurity_split=None,\n",
       "                                              min_samples_leaf=1,\n",
       "                                              min_samples_split=2,\n",
       "                                              min_weight_fraction_leaf=0.0,\n",
       "                                              n_estimators=100, n_jobs=None,\n",
       "                                              oob_score=False,\n",
       "                                              random_state=None, verbose=0,\n",
       "                                              warm_start=False),\n",
       "             iid='warn', n_jobs=-1,\n",
       "             param_grid={'criterion': ['gini', 'entropy'],\n",
       "                         'min_samples_split': [2, 4, 6],\n",
       "                         'n_estimators': [100, 150, 200]},\n",
       "             pre_dispatch='2*n_jobs', refit=True, return_train_score=True,\n",
       "             scoring='roc_auc', verbose=0)"
      ]
     },
     "execution_count": 49,
     "metadata": {},
     "output_type": "execute_result"
    }
   ],
   "source": [
    "param_grid_rf = {'criterion':['gini','entropy'],'n_estimators':[100,150,200],'min_samples_split':[2,4,6]}\n",
    "gridrf =GridSearchCV(rf,param_grid_rf,cv=3,scoring=\"roc_auc\",return_train_score=True,n_jobs=-1)\n",
    "gridrf.fit(X_train_pt,y_train)"
   ]
  },
  {
   "cell_type": "code",
   "execution_count": 50,
   "metadata": {},
   "outputs": [],
   "source": [
    "dfcvrf = pd.DataFrame(gridrf.cv_results_)"
   ]
  },
  {
   "cell_type": "code",
   "execution_count": 51,
   "metadata": {},
   "outputs": [
    {
     "data": {
      "text/html": [
       "<div>\n",
       "<style scoped>\n",
       "    .dataframe tbody tr th:only-of-type {\n",
       "        vertical-align: middle;\n",
       "    }\n",
       "\n",
       "    .dataframe tbody tr th {\n",
       "        vertical-align: top;\n",
       "    }\n",
       "\n",
       "    .dataframe thead th {\n",
       "        text-align: right;\n",
       "    }\n",
       "</style>\n",
       "<table border=\"1\" class=\"dataframe\">\n",
       "  <thead>\n",
       "    <tr style=\"text-align: right;\">\n",
       "      <th></th>\n",
       "      <th>mean_fit_time</th>\n",
       "      <th>std_fit_time</th>\n",
       "      <th>mean_score_time</th>\n",
       "      <th>std_score_time</th>\n",
       "      <th>param_criterion</th>\n",
       "      <th>param_min_samples_split</th>\n",
       "      <th>param_n_estimators</th>\n",
       "      <th>params</th>\n",
       "      <th>split0_test_score</th>\n",
       "      <th>split1_test_score</th>\n",
       "      <th>split2_test_score</th>\n",
       "      <th>mean_test_score</th>\n",
       "      <th>std_test_score</th>\n",
       "      <th>rank_test_score</th>\n",
       "      <th>split0_train_score</th>\n",
       "      <th>split1_train_score</th>\n",
       "      <th>split2_train_score</th>\n",
       "      <th>mean_train_score</th>\n",
       "      <th>std_train_score</th>\n",
       "    </tr>\n",
       "  </thead>\n",
       "  <tbody>\n",
       "    <tr>\n",
       "      <td>0</td>\n",
       "      <td>136.011805</td>\n",
       "      <td>7.023894</td>\n",
       "      <td>1.309575</td>\n",
       "      <td>0.102193</td>\n",
       "      <td>gini</td>\n",
       "      <td>2</td>\n",
       "      <td>100</td>\n",
       "      <td>{'criterion': 'gini', 'min_samples_split': 2, ...</td>\n",
       "      <td>0.933213</td>\n",
       "      <td>0.975808</td>\n",
       "      <td>0.923469</td>\n",
       "      <td>0.944163</td>\n",
       "      <td>0.022727</td>\n",
       "      <td>15</td>\n",
       "      <td>1.0</td>\n",
       "      <td>1.0</td>\n",
       "      <td>1.0</td>\n",
       "      <td>1.0</td>\n",
       "      <td>0.000000e+00</td>\n",
       "    </tr>\n",
       "    <tr>\n",
       "      <td>1</td>\n",
       "      <td>207.392267</td>\n",
       "      <td>10.508969</td>\n",
       "      <td>1.816073</td>\n",
       "      <td>0.053669</td>\n",
       "      <td>gini</td>\n",
       "      <td>2</td>\n",
       "      <td>150</td>\n",
       "      <td>{'criterion': 'gini', 'min_samples_split': 2, ...</td>\n",
       "      <td>0.941947</td>\n",
       "      <td>0.980626</td>\n",
       "      <td>0.927984</td>\n",
       "      <td>0.950186</td>\n",
       "      <td>0.022267</td>\n",
       "      <td>9</td>\n",
       "      <td>1.0</td>\n",
       "      <td>1.0</td>\n",
       "      <td>1.0</td>\n",
       "      <td>1.0</td>\n",
       "      <td>6.409876e-17</td>\n",
       "    </tr>\n",
       "    <tr>\n",
       "      <td>2</td>\n",
       "      <td>274.990406</td>\n",
       "      <td>15.735288</td>\n",
       "      <td>2.516105</td>\n",
       "      <td>0.147893</td>\n",
       "      <td>gini</td>\n",
       "      <td>2</td>\n",
       "      <td>200</td>\n",
       "      <td>{'criterion': 'gini', 'min_samples_split': 2, ...</td>\n",
       "      <td>0.946298</td>\n",
       "      <td>0.975358</td>\n",
       "      <td>0.936598</td>\n",
       "      <td>0.952751</td>\n",
       "      <td>0.016468</td>\n",
       "      <td>6</td>\n",
       "      <td>1.0</td>\n",
       "      <td>1.0</td>\n",
       "      <td>1.0</td>\n",
       "      <td>1.0</td>\n",
       "      <td>0.000000e+00</td>\n",
       "    </tr>\n",
       "    <tr>\n",
       "      <td>9</td>\n",
       "      <td>89.252089</td>\n",
       "      <td>6.008545</td>\n",
       "      <td>0.690820</td>\n",
       "      <td>0.041954</td>\n",
       "      <td>entropy</td>\n",
       "      <td>2</td>\n",
       "      <td>100</td>\n",
       "      <td>{'criterion': 'entropy', 'min_samples_split': ...</td>\n",
       "      <td>0.928782</td>\n",
       "      <td>0.966734</td>\n",
       "      <td>0.923315</td>\n",
       "      <td>0.939611</td>\n",
       "      <td>0.019309</td>\n",
       "      <td>18</td>\n",
       "      <td>1.0</td>\n",
       "      <td>1.0</td>\n",
       "      <td>1.0</td>\n",
       "      <td>1.0</td>\n",
       "      <td>0.000000e+00</td>\n",
       "    </tr>\n",
       "    <tr>\n",
       "      <td>10</td>\n",
       "      <td>133.268551</td>\n",
       "      <td>10.446974</td>\n",
       "      <td>0.964421</td>\n",
       "      <td>0.023304</td>\n",
       "      <td>entropy</td>\n",
       "      <td>2</td>\n",
       "      <td>150</td>\n",
       "      <td>{'criterion': 'entropy', 'min_samples_split': ...</td>\n",
       "      <td>0.923651</td>\n",
       "      <td>0.980340</td>\n",
       "      <td>0.923085</td>\n",
       "      <td>0.942359</td>\n",
       "      <td>0.026858</td>\n",
       "      <td>17</td>\n",
       "      <td>1.0</td>\n",
       "      <td>1.0</td>\n",
       "      <td>1.0</td>\n",
       "      <td>1.0</td>\n",
       "      <td>0.000000e+00</td>\n",
       "    </tr>\n",
       "    <tr>\n",
       "      <td>11</td>\n",
       "      <td>178.236994</td>\n",
       "      <td>12.114552</td>\n",
       "      <td>1.241347</td>\n",
       "      <td>0.049146</td>\n",
       "      <td>entropy</td>\n",
       "      <td>2</td>\n",
       "      <td>200</td>\n",
       "      <td>{'criterion': 'entropy', 'min_samples_split': ...</td>\n",
       "      <td>0.945890</td>\n",
       "      <td>0.984679</td>\n",
       "      <td>0.932118</td>\n",
       "      <td>0.954229</td>\n",
       "      <td>0.022254</td>\n",
       "      <td>4</td>\n",
       "      <td>1.0</td>\n",
       "      <td>1.0</td>\n",
       "      <td>1.0</td>\n",
       "      <td>1.0</td>\n",
       "      <td>0.000000e+00</td>\n",
       "    </tr>\n",
       "    <tr>\n",
       "      <td>13</td>\n",
       "      <td>129.698085</td>\n",
       "      <td>8.279002</td>\n",
       "      <td>0.944141</td>\n",
       "      <td>0.033281</td>\n",
       "      <td>entropy</td>\n",
       "      <td>4</td>\n",
       "      <td>150</td>\n",
       "      <td>{'criterion': 'entropy', 'min_samples_split': ...</td>\n",
       "      <td>0.946596</td>\n",
       "      <td>0.984757</td>\n",
       "      <td>0.932190</td>\n",
       "      <td>0.954515</td>\n",
       "      <td>0.022179</td>\n",
       "      <td>3</td>\n",
       "      <td>1.0</td>\n",
       "      <td>1.0</td>\n",
       "      <td>1.0</td>\n",
       "      <td>1.0</td>\n",
       "      <td>0.000000e+00</td>\n",
       "    </tr>\n",
       "    <tr>\n",
       "      <td>14</td>\n",
       "      <td>177.395794</td>\n",
       "      <td>10.202129</td>\n",
       "      <td>1.210097</td>\n",
       "      <td>0.052328</td>\n",
       "      <td>entropy</td>\n",
       "      <td>4</td>\n",
       "      <td>200</td>\n",
       "      <td>{'criterion': 'entropy', 'min_samples_split': ...</td>\n",
       "      <td>0.927450</td>\n",
       "      <td>0.979847</td>\n",
       "      <td>0.945758</td>\n",
       "      <td>0.951019</td>\n",
       "      <td>0.021712</td>\n",
       "      <td>8</td>\n",
       "      <td>1.0</td>\n",
       "      <td>1.0</td>\n",
       "      <td>1.0</td>\n",
       "      <td>1.0</td>\n",
       "      <td>0.000000e+00</td>\n",
       "    </tr>\n",
       "  </tbody>\n",
       "</table>\n",
       "</div>"
      ],
      "text/plain": [
       "    mean_fit_time  std_fit_time  mean_score_time  std_score_time  \\\n",
       "0      136.011805      7.023894         1.309575        0.102193   \n",
       "1      207.392267     10.508969         1.816073        0.053669   \n",
       "2      274.990406     15.735288         2.516105        0.147893   \n",
       "9       89.252089      6.008545         0.690820        0.041954   \n",
       "10     133.268551     10.446974         0.964421        0.023304   \n",
       "11     178.236994     12.114552         1.241347        0.049146   \n",
       "13     129.698085      8.279002         0.944141        0.033281   \n",
       "14     177.395794     10.202129         1.210097        0.052328   \n",
       "\n",
       "   param_criterion param_min_samples_split param_n_estimators  \\\n",
       "0             gini                       2                100   \n",
       "1             gini                       2                150   \n",
       "2             gini                       2                200   \n",
       "9          entropy                       2                100   \n",
       "10         entropy                       2                150   \n",
       "11         entropy                       2                200   \n",
       "13         entropy                       4                150   \n",
       "14         entropy                       4                200   \n",
       "\n",
       "                                               params  split0_test_score  \\\n",
       "0   {'criterion': 'gini', 'min_samples_split': 2, ...           0.933213   \n",
       "1   {'criterion': 'gini', 'min_samples_split': 2, ...           0.941947   \n",
       "2   {'criterion': 'gini', 'min_samples_split': 2, ...           0.946298   \n",
       "9   {'criterion': 'entropy', 'min_samples_split': ...           0.928782   \n",
       "10  {'criterion': 'entropy', 'min_samples_split': ...           0.923651   \n",
       "11  {'criterion': 'entropy', 'min_samples_split': ...           0.945890   \n",
       "13  {'criterion': 'entropy', 'min_samples_split': ...           0.946596   \n",
       "14  {'criterion': 'entropy', 'min_samples_split': ...           0.927450   \n",
       "\n",
       "    split1_test_score  split2_test_score  mean_test_score  std_test_score  \\\n",
       "0            0.975808           0.923469         0.944163        0.022727   \n",
       "1            0.980626           0.927984         0.950186        0.022267   \n",
       "2            0.975358           0.936598         0.952751        0.016468   \n",
       "9            0.966734           0.923315         0.939611        0.019309   \n",
       "10           0.980340           0.923085         0.942359        0.026858   \n",
       "11           0.984679           0.932118         0.954229        0.022254   \n",
       "13           0.984757           0.932190         0.954515        0.022179   \n",
       "14           0.979847           0.945758         0.951019        0.021712   \n",
       "\n",
       "    rank_test_score  split0_train_score  split1_train_score  \\\n",
       "0                15                 1.0                 1.0   \n",
       "1                 9                 1.0                 1.0   \n",
       "2                 6                 1.0                 1.0   \n",
       "9                18                 1.0                 1.0   \n",
       "10               17                 1.0                 1.0   \n",
       "11                4                 1.0                 1.0   \n",
       "13                3                 1.0                 1.0   \n",
       "14                8                 1.0                 1.0   \n",
       "\n",
       "    split2_train_score  mean_train_score  std_train_score  \n",
       "0                  1.0               1.0     0.000000e+00  \n",
       "1                  1.0               1.0     6.409876e-17  \n",
       "2                  1.0               1.0     0.000000e+00  \n",
       "9                  1.0               1.0     0.000000e+00  \n",
       "10                 1.0               1.0     0.000000e+00  \n",
       "11                 1.0               1.0     0.000000e+00  \n",
       "13                 1.0               1.0     0.000000e+00  \n",
       "14                 1.0               1.0     0.000000e+00  "
      ]
     },
     "execution_count": 51,
     "metadata": {},
     "output_type": "execute_result"
    }
   ],
   "source": [
    "dfcvrf[dfcvrf[\"mean_train_score\"]==dfcvrf[\"mean_train_score\"].max()]"
   ]
  },
  {
   "cell_type": "markdown",
   "metadata": {},
   "source": [
    "# Using fine tuned model with optimal parameters after Cross Validation to tweak threshold using predict proba "
   ]
  },
  {
   "cell_type": "code",
   "execution_count": 56,
   "metadata": {},
   "outputs": [],
   "source": [
    "#initialise the model with optimum hyperparameters as below based on grid search\n",
    "clf = RandomForestClassifier(n_estimators=150,class_weight=\"balanced\",min_samples_split=4,criterion='entropy')"
   ]
  },
  {
   "cell_type": "code",
   "execution_count": 57,
   "metadata": {
    "scrolled": true
   },
   "outputs": [
    {
     "data": {
      "text/plain": [
       "RandomForestClassifier(bootstrap=True, class_weight='balanced',\n",
       "                       criterion='entropy', max_depth=None, max_features='auto',\n",
       "                       max_leaf_nodes=None, min_impurity_decrease=0.0,\n",
       "                       min_impurity_split=None, min_samples_leaf=1,\n",
       "                       min_samples_split=4, min_weight_fraction_leaf=0.0,\n",
       "                       n_estimators=150, n_jobs=None, oob_score=False,\n",
       "                       random_state=None, verbose=0, warm_start=False)"
      ]
     },
     "execution_count": 57,
     "metadata": {},
     "output_type": "execute_result"
    }
   ],
   "source": [
    "clf.fit(X_train_pt, y_train)"
   ]
  },
  {
   "cell_type": "code",
   "execution_count": 60,
   "metadata": {},
   "outputs": [],
   "source": [
    "sen0=[]\n",
    "sen1=[]\n",
    "for prob in np.linspace(.001,1,100):\n",
    "    cf = metrics.confusion_matrix(y_train,clf.predict_proba(X_train_pt)[:,1]>prob)\n",
    "    sensitivity0 = cf[0,0]/(cf[0,0]+cf[0,1])\n",
    "    sensitivity1= cf[1,1]/(cf[1,1]+cf[1,0])\n",
    "    sen0.append(sensitivity0)\n",
    "    sen1.append(sensitivity1)"
   ]
  },
  {
   "cell_type": "code",
   "execution_count": 61,
   "metadata": {},
   "outputs": [
    {
     "data": {
      "image/png": "[encoded data removed]",
      "text/plain": [
       "<Figure size 792x360 with 1 Axes>"
      ]
     },
     "metadata": {
      "needs_background": "light"
     },
     "output_type": "display_data"
    }
   ],
   "source": [
    "plt.figure(figsize=(11,5))\n",
    "plt.plot(np.linspace(.001,1,100),sen0,label=\"0\")\n",
    "plt.plot(np.linspace(.001,1,100),sen1,label=\"1\")\n",
    "plt.legend()\n",
    "plt.title(\"Sensitivity/Specificity for Probability Cutoffs\")\n",
    "plt.show()"
   ]
  },
  {
   "cell_type": "code",
   "execution_count": 100,
   "metadata": {},
   "outputs": [
    {
     "name": "stdout",
     "output_type": "stream",
     "text": [
      "              precision    recall  f1-score   support\n",
      "\n",
      "           0       1.00      1.00      1.00    190497\n",
      "           1       0.91      1.00      0.95       323\n",
      "\n",
      "    accuracy                           1.00    190820\n",
      "   macro avg       0.95      1.00      0.98    190820\n",
      "weighted avg       1.00      1.00      1.00    190820\n",
      "\n"
     ]
    }
   ],
   "source": [
    "print(metrics.classification_report(y_train,clf.predict_proba(X_train_pt)[:,1]>.10))"
   ]
  },
  {
   "cell_type": "code",
   "execution_count": 101,
   "metadata": {},
   "outputs": [
    {
     "name": "stdout",
     "output_type": "stream",
     "text": [
      "              precision    recall  f1-score   support\n",
      "\n",
      "           0       1.00      1.00      1.00     93818\n",
      "           1       0.82      0.85      0.83       169\n",
      "\n",
      "    accuracy                           1.00     93987\n",
      "   macro avg       0.91      0.92      0.92     93987\n",
      "weighted avg       1.00      1.00      1.00     93987\n",
      "\n"
     ]
    }
   ],
   "source": [
    "print(metrics.classification_report(y_test,clf.predict_proba(X_test_pt)[:,1]>.10))"
   ]
  },
  {
   "cell_type": "code",
   "execution_count": 102,
   "metadata": {},
   "outputs": [
    {
     "data": {
      "text/plain": [
       "array([[93786,    32],\n",
       "       [   26,   143]], dtype=int64)"
      ]
     },
     "execution_count": 102,
     "metadata": {},
     "output_type": "execute_result"
    }
   ],
   "source": [
    "metrics.confusion_matrix(y_test,clf.predict_proba(X_test_pt)[:,1]>.10)"
   ]
  },
  {
   "cell_type": "code",
   "execution_count": 103,
   "metadata": {},
   "outputs": [
    {
     "data": {
      "text/plain": [
       "0.9229063801107547"
      ]
     },
     "execution_count": 103,
     "metadata": {},
     "output_type": "execute_result"
    }
   ],
   "source": [
    "#print --> #print the evaluation score on the X_test by choosing the best evaluation metric\n",
    "metrics.roc_auc_score(y_test,clf.predict_proba(X_test_pt)[:,1]>.10)"
   ]
  },
  {
   "cell_type": "code",
   "execution_count": 104,
   "metadata": {},
   "outputs": [],
   "source": [
    "# Random forest has very good precision 80% more over logistic regression but 7% less recall than logistic regression "
   ]
  },
  {
   "cell_type": "markdown",
   "metadata": {},
   "source": [
    "### Print the important features of the best model to understand the dataset\n",
    "- This will not give much explanation on the already transformed dataset\n",
    "- But it will help us in understanding if the dataset is not PCA transformed"
   ]
  },
  {
   "cell_type": "code",
   "execution_count": 105,
   "metadata": {
    "scrolled": false
   },
   "outputs": [
    {
     "name": "stdout",
     "output_type": "stream",
     "text": [
      "Top var = 15\n",
      "2nd Top var = 18\n",
      "3rd Top var = 13\n"
     ]
    },
    {
     "data": {
      "text/plain": [
       "<matplotlib.legend.Legend at 0x26799661508>"
      ]
     },
     "execution_count": 105,
     "metadata": {},
     "output_type": "execute_result"
    },
    {
     "data": {
      "image/png": "[encoded data removed]",
      "text/plain": [
       "<Figure size 1440x1440 with 1 Axes>"
      ]
     },
     "metadata": {
      "needs_background": "light"
     },
     "output_type": "display_data"
    }
   ],
   "source": [
    "var_imp = []\n",
    "for i in clf.feature_importances_:\n",
    "    var_imp.append(i)\n",
    "print('Top var =', var_imp.index(np.sort(clf.feature_importances_)[-1])+1)\n",
    "print('2nd Top var =', var_imp.index(np.sort(clf.feature_importances_)[-2])+1)\n",
    "print('3rd Top var =', var_imp.index(np.sort(clf.feature_importances_)[-3])+1)\n",
    "\n",
    "# Variable on Index-16 and Index-13 seems to be the top 2 variables\n",
    "top_var_index = var_imp.index(np.sort(clf.feature_importances_)[-1])\n",
    "second_top_var_index = var_imp.index(np.sort(clf.feature_importances_)[-2])\n",
    "\n",
    "X_train_1 = X_train.to_numpy()[np.where(y_train==1.0)]\n",
    "X_train_0 = X_train.to_numpy()[np.where(y_train==0.0)]\n",
    "\n",
    "np.random.shuffle(X_train_0)\n",
    "\n",
    "import matplotlib.pyplot as plt\n",
    "%matplotlib inline\n",
    "plt.rcParams['figure.figsize'] = [20, 20]\n",
    "\n",
    "plt.scatter(X_train_1[:, top_var_index], X_train_1[:, second_top_var_index], label='Actual Class-1 Examples')\n",
    "plt.scatter(X_train_0[:X_train_1.shape[0], top_var_index], X_train_0[:X_train_1.shape[0], second_top_var_index],\n",
    "            label='Actual Class-0 Examples')\n",
    "plt.legend()"
   ]
  },
  {
   "cell_type": "code",
   "execution_count": 26,
   "metadata": {},
   "outputs": [],
   "source": [
    "#!pip install xgboost"
   ]
  },
  {
   "cell_type": "code",
   "execution_count": 25,
   "metadata": {},
   "outputs": [],
   "source": [
    "import xgboost as xgb"
   ]
  },
  {
   "cell_type": "code",
   "execution_count": 28,
   "metadata": {},
   "outputs": [],
   "source": [
    "xgm=xgb.XGBClassifier(random_state=1,learning_rate=0.01)"
   ]
  },
  {
   "cell_type": "code",
   "execution_count": 29,
   "metadata": {},
   "outputs": [
    {
     "data": {
      "text/plain": [
       "XGBClassifier(base_score=0.5, booster='gbtree', colsample_bylevel=1,\n",
       "              colsample_bynode=1, colsample_bytree=1, gamma=0, gpu_id=-1,\n",
       "              importance_type='gain', interaction_constraints='',\n",
       "              learning_rate=0.01, max_delta_step=0, max_depth=6,\n",
       "              min_child_weight=1, missing=nan, monotone_constraints='()',\n",
       "              n_estimators=100, n_jobs=0, num_parallel_tree=1,\n",
       "              objective='binary:logistic', random_state=1, reg_alpha=0,\n",
       "              reg_lambda=1, scale_pos_weight=1, subsample=1,\n",
       "              tree_method='exact', validate_parameters=1, verbosity=None)"
      ]
     },
     "execution_count": 29,
     "metadata": {},
     "output_type": "execute_result"
    }
   ],
   "source": [
    "xgm.fit(X_train_pt, y_train)"
   ]
  },
  {
   "cell_type": "code",
   "execution_count": 32,
   "metadata": {},
   "outputs": [
    {
     "name": "stdout",
     "output_type": "stream",
     "text": [
      "[[190490      7]\n",
      " [    52    271]]\n"
     ]
    }
   ],
   "source": [
    "print(metrics.confusion_matrix(y_train,xgm.predict(X_train_pt)))"
   ]
  },
  {
   "cell_type": "code",
   "execution_count": 33,
   "metadata": {},
   "outputs": [
    {
     "name": "stdout",
     "output_type": "stream",
     "text": [
      "              precision    recall  f1-score   support\n",
      "\n",
      "           0       1.00      1.00      1.00    190497\n",
      "           1       0.97      0.84      0.90       323\n",
      "\n",
      "    accuracy                           1.00    190820\n",
      "   macro avg       0.99      0.92      0.95    190820\n",
      "weighted avg       1.00      1.00      1.00    190820\n",
      "\n"
     ]
    }
   ],
   "source": [
    "print(metrics.classification_report(y_train,xgm.predict(X_train_pt)))"
   ]
  },
  {
   "cell_type": "code",
   "execution_count": 35,
   "metadata": {},
   "outputs": [
    {
     "name": "stdout",
     "output_type": "stream",
     "text": [
      "              precision    recall  f1-score   support\n",
      "\n",
      "           0       1.00      1.00      1.00     93818\n",
      "           1       0.90      0.76      0.83       169\n",
      "\n",
      "    accuracy                           1.00     93987\n",
      "   macro avg       0.95      0.88      0.91     93987\n",
      "weighted avg       1.00      1.00      1.00     93987\n",
      "\n"
     ]
    }
   ],
   "source": [
    "print(metrics.classification_report(y_test,xgm.predict(X_test_pt)))"
   ]
  },
  {
   "cell_type": "code",
   "execution_count": 36,
   "metadata": {},
   "outputs": [
    {
     "name": "stdout",
     "output_type": "stream",
     "text": [
      "[[93804    14]\n",
      " [   40   129]]\n"
     ]
    }
   ],
   "source": [
    "print(metrics.confusion_matrix(y_test,xgm.predict(X_test_pt)))"
   ]
  },
  {
   "cell_type": "code",
   "execution_count": 40,
   "metadata": {},
   "outputs": [],
   "source": [
    "param_grid_xg = {\"learning_rate\":[0.001,.01,1]}"
   ]
  },
  {
   "cell_type": "code",
   "execution_count": 43,
   "metadata": {},
   "outputs": [],
   "source": [
    "gridx = GridSearchCV(xgm,param_grid=param_grid_xg,cv=3,scoring=\"roc_auc\",return_train_score=True,n_jobs=-1)"
   ]
  },
  {
   "cell_type": "code",
   "execution_count": 44,
   "metadata": {},
   "outputs": [
    {
     "data": {
      "text/plain": [
       "GridSearchCV(cv=3, error_score='raise-deprecating',\n",
       "             estimator=XGBClassifier(base_score=0.5, booster='gbtree',\n",
       "                                     colsample_bylevel=1, colsample_bynode=1,\n",
       "                                     colsample_bytree=1, gamma=0, gpu_id=-1,\n",
       "                                     importance_type='gain',\n",
       "                                     interaction_constraints='',\n",
       "                                     learning_rate=0.01, max_delta_step=0,\n",
       "                                     max_depth=6, min_child_weight=1,\n",
       "                                     missing=nan, monotone_constraints='()',\n",
       "                                     n_estimators=100, n_jobs=0,\n",
       "                                     num_parallel_tree=1,\n",
       "                                     objective='binary:logistic',\n",
       "                                     random_state=1, reg_alpha=0, reg_lambda=1,\n",
       "                                     scale_pos_weight=1, subsample=1,\n",
       "                                     tree_method='exact', validate_parameters=1,\n",
       "                                     verbosity=None),\n",
       "             iid='warn', n_jobs=-1,\n",
       "             param_grid={'learning_rate': [0.001, 0.01, 1]},\n",
       "             pre_dispatch='2*n_jobs', refit=True, return_train_score=True,\n",
       "             scoring='roc_auc', verbose=0)"
      ]
     },
     "execution_count": 44,
     "metadata": {},
     "output_type": "execute_result"
    }
   ],
   "source": [
    "gridx.fit(X_train_pt,y_train)"
   ]
  },
  {
   "cell_type": "code",
   "execution_count": 45,
   "metadata": {},
   "outputs": [],
   "source": [
    "dfcvxg = pd.DataFrame(gridx.cv_results_)"
   ]
  },
  {
   "cell_type": "code",
   "execution_count": 46,
   "metadata": {},
   "outputs": [
    {
     "data": {
      "text/html": [
       "<div>\n",
       "<style scoped>\n",
       "    .dataframe tbody tr th:only-of-type {\n",
       "        vertical-align: middle;\n",
       "    }\n",
       "\n",
       "    .dataframe tbody tr th {\n",
       "        vertical-align: top;\n",
       "    }\n",
       "\n",
       "    .dataframe thead th {\n",
       "        text-align: right;\n",
       "    }\n",
       "</style>\n",
       "<table border=\"1\" class=\"dataframe\">\n",
       "  <thead>\n",
       "    <tr style=\"text-align: right;\">\n",
       "      <th></th>\n",
       "      <th>mean_fit_time</th>\n",
       "      <th>std_fit_time</th>\n",
       "      <th>mean_score_time</th>\n",
       "      <th>std_score_time</th>\n",
       "      <th>param_learning_rate</th>\n",
       "      <th>params</th>\n",
       "      <th>split0_test_score</th>\n",
       "      <th>split1_test_score</th>\n",
       "      <th>split2_test_score</th>\n",
       "      <th>mean_test_score</th>\n",
       "      <th>std_test_score</th>\n",
       "      <th>rank_test_score</th>\n",
       "      <th>split0_train_score</th>\n",
       "      <th>split1_train_score</th>\n",
       "      <th>split2_train_score</th>\n",
       "      <th>mean_train_score</th>\n",
       "      <th>std_train_score</th>\n",
       "    </tr>\n",
       "  </thead>\n",
       "  <tbody>\n",
       "    <tr>\n",
       "      <td>2</td>\n",
       "      <td>91.493938</td>\n",
       "      <td>13.77502</td>\n",
       "      <td>0.632887</td>\n",
       "      <td>0.148535</td>\n",
       "      <td>1</td>\n",
       "      <td>{'learning_rate': 1}</td>\n",
       "      <td>0.964945</td>\n",
       "      <td>0.985623</td>\n",
       "      <td>0.952103</td>\n",
       "      <td>0.967557</td>\n",
       "      <td>0.013809</td>\n",
       "      <td>1</td>\n",
       "      <td>1.0</td>\n",
       "      <td>1.0</td>\n",
       "      <td>1.0</td>\n",
       "      <td>1.0</td>\n",
       "      <td>0.0</td>\n",
       "    </tr>\n",
       "  </tbody>\n",
       "</table>\n",
       "</div>"
      ],
      "text/plain": [
       "   mean_fit_time  std_fit_time  mean_score_time  std_score_time  \\\n",
       "2      91.493938      13.77502         0.632887        0.148535   \n",
       "\n",
       "  param_learning_rate                params  split0_test_score  \\\n",
       "2                   1  {'learning_rate': 1}           0.964945   \n",
       "\n",
       "   split1_test_score  split2_test_score  mean_test_score  std_test_score  \\\n",
       "2           0.985623           0.952103         0.967557        0.013809   \n",
       "\n",
       "   rank_test_score  split0_train_score  split1_train_score  \\\n",
       "2                1                 1.0                 1.0   \n",
       "\n",
       "   split2_train_score  mean_train_score  std_train_score  \n",
       "2                 1.0               1.0              0.0  "
      ]
     },
     "execution_count": 46,
     "metadata": {},
     "output_type": "execute_result"
    }
   ],
   "source": [
    "dfcvxg[dfcvxg[\"mean_train_score\"]==dfcvxg[\"mean_train_score\"].max()]"
   ]
  },
  {
   "cell_type": "markdown",
   "metadata": {},
   "source": [
    "# Using fine tuned model with optimal parameters after Cross Validation to tweak threshold using predict proba : XGB"
   ]
  },
  {
   "cell_type": "code",
   "execution_count": 26,
   "metadata": {},
   "outputs": [],
   "source": [
    "clxg = xgb.XGBClassifier(random_state=1,learning_rate=1) # Fitting the model with best learnig rate of 1"
   ]
  },
  {
   "cell_type": "code",
   "execution_count": 48,
   "metadata": {
    "scrolled": true
   },
   "outputs": [
    {
     "data": {
      "text/plain": [
       "XGBClassifier(base_score=0.5, booster='gbtree', colsample_bylevel=1,\n",
       "              colsample_bynode=1, colsample_bytree=1, gamma=0, gpu_id=-1,\n",
       "              importance_type='gain', interaction_constraints='',\n",
       "              learning_rate=1, max_delta_step=0, max_depth=6,\n",
       "              min_child_weight=1, missing=nan, monotone_constraints='()',\n",
       "              n_estimators=100, n_jobs=0, num_parallel_tree=1,\n",
       "              objective='binary:logistic', random_state=1, reg_alpha=0,\n",
       "              reg_lambda=1, scale_pos_weight=1, subsample=1,\n",
       "              tree_method='exact', validate_parameters=1, verbosity=None)"
      ]
     },
     "execution_count": 48,
     "metadata": {},
     "output_type": "execute_result"
    }
   ],
   "source": [
    "clxg.fit(X_train_pt,y_train)"
   ]
  },
  {
   "cell_type": "code",
   "execution_count": 49,
   "metadata": {},
   "outputs": [
    {
     "name": "stdout",
     "output_type": "stream",
     "text": [
      "              precision    recall  f1-score   support\n",
      "\n",
      "           0       1.00      1.00      1.00    190497\n",
      "           1       1.00      1.00      1.00       323\n",
      "\n",
      "    accuracy                           1.00    190820\n",
      "   macro avg       1.00      1.00      1.00    190820\n",
      "weighted avg       1.00      1.00      1.00    190820\n",
      "\n"
     ]
    }
   ],
   "source": [
    "print(metrics.classification_report(y_train,clxg.predict(X_train_pt)))"
   ]
  },
  {
   "cell_type": "code",
   "execution_count": 50,
   "metadata": {
    "scrolled": true
   },
   "outputs": [
    {
     "name": "stdout",
     "output_type": "stream",
     "text": [
      "              precision    recall  f1-score   support\n",
      "\n",
      "           0       1.00      1.00      1.00     93818\n",
      "           1       0.96      0.76      0.85       169\n",
      "\n",
      "    accuracy                           1.00     93987\n",
      "   macro avg       0.98      0.88      0.93     93987\n",
      "weighted avg       1.00      1.00      1.00     93987\n",
      "\n"
     ]
    }
   ],
   "source": [
    "print(metrics.classification_report(y_test,clxg.predict(X_test_pt)))"
   ]
  },
  {
   "cell_type": "code",
   "execution_count": 52,
   "metadata": {},
   "outputs": [],
   "source": [
    "sen0=[]\n",
    "sen1=[]\n",
    "\n",
    "for prob in np.linspace(.001,.5,100):\n",
    "    cf = metrics.confusion_matrix(y_train,clxg.predict_proba(X_train_pt)[:,1]>prob)\n",
    "    sensitivity0 = cf[0,0]/(cf[0,0]+cf[0,1])\n",
    "    sensitivity1= cf[1,1]/(cf[1,1]+cf[1,0])\n",
    "    sen0.append(sensitivity0)\n",
    "    sen1.append(sensitivity1)"
   ]
  },
  {
   "cell_type": "code",
   "execution_count": 53,
   "metadata": {},
   "outputs": [
    {
     "data": {
      "image/png": "[encoded data removed]",
      "text/plain": [
       "<Figure size 792x360 with 1 Axes>"
      ]
     },
     "metadata": {
      "needs_background": "light"
     },
     "output_type": "display_data"
    }
   ],
   "source": [
    "plt.figure(figsize=(11,5))\n",
    "plt.plot(np.linspace(.001,.5,100),sen0,label=\"0\")\n",
    "plt.plot(np.linspace(.001,.5,100),sen1,label=\"1\")\n",
    "plt.legend()\n",
    "plt.title(\"Sensitivity/Specificity for Probability Cutoffs\")\n",
    "plt.show()"
   ]
  },
  {
   "cell_type": "code",
   "execution_count": 79,
   "metadata": {},
   "outputs": [
    {
     "name": "stdout",
     "output_type": "stream",
     "text": [
      "              precision    recall  f1-score   support\n",
      "\n",
      "           0       1.00      1.00      1.00    190497\n",
      "           1       0.98      1.00      0.99       323\n",
      "\n",
      "    accuracy                           1.00    190820\n",
      "   macro avg       0.99      1.00      1.00    190820\n",
      "weighted avg       1.00      1.00      1.00    190820\n",
      "\n"
     ]
    }
   ],
   "source": [
    "print(metrics.classification_report(y_train,clxg.predict_proba(X_train_pt)[:,1]>0.02))"
   ]
  },
  {
   "cell_type": "code",
   "execution_count": 80,
   "metadata": {},
   "outputs": [
    {
     "name": "stdout",
     "output_type": "stream",
     "text": [
      "              precision    recall  f1-score   support\n",
      "\n",
      "           0       1.00      1.00      1.00     93818\n",
      "           1       0.78      0.83      0.80       169\n",
      "\n",
      "    accuracy                           1.00     93987\n",
      "   macro avg       0.89      0.91      0.90     93987\n",
      "weighted avg       1.00      1.00      1.00     93987\n",
      "\n"
     ]
    }
   ],
   "source": [
    "print(metrics.classification_report(y_test,clxg.predict_proba(X_test_pt)[:,1]>0.02))"
   ]
  },
  {
   "cell_type": "code",
   "execution_count": 81,
   "metadata": {},
   "outputs": [
    {
     "name": "stdout",
     "output_type": "stream",
     "text": [
      "[[93779    39]\n",
      " [   29   140]]\n"
     ]
    }
   ],
   "source": [
    "print(metrics.confusion_matrix(y_test,clxg.predict_proba(X_test_pt)[:,1]>0.02))"
   ]
  },
  {
   "cell_type": "code",
   "execution_count": 83,
   "metadata": {},
   "outputs": [
    {
     "data": {
      "text/plain": [
       "0.9139933341919347"
      ]
     },
     "execution_count": 83,
     "metadata": {},
     "output_type": "execute_result"
    }
   ],
   "source": [
    "metrics.roc_auc_score(y_test,clxg.predict_proba(X_test_pt)[:,1]>0.02)# RandomForest betters auc,recall & Precision than xgb"
   ]
  },
  {
   "cell_type": "markdown",
   "metadata": {},
   "source": [
    "## Model building with balancing Classes\n",
    "\n",
    "##### Perform class balancing with :\n",
    "- Random Oversampling\n",
    "- SMOTE\n"
   ]
  },
  {
   "cell_type": "markdown",
   "metadata": {},
   "source": [
    "## Model Building\n",
    "- Build different models on the balanced dataset and see the result"
   ]
  },
  {
   "cell_type": "markdown",
   "metadata": {},
   "source": [
    "### Random Oversampling"
   ]
  },
  {
   "cell_type": "code",
   "execution_count": 28,
   "metadata": {
    "scrolled": true
   },
   "outputs": [],
   "source": [
    "from imblearn import over_sampling #- import the packages\n"
   ]
  },
  {
   "cell_type": "markdown",
   "metadata": {},
   "source": [
    "### Learning below algorithms on balanced dataset\n",
    "- Logistic Regression\n",
    "- Random Forest\n",
    "- XGBoost"
   ]
  },
  {
   "cell_type": "markdown",
   "metadata": {},
   "source": [
    "### Print the class distribution after applying SMOTE "
   ]
  },
  {
   "cell_type": "code",
   "execution_count": 29,
   "metadata": {},
   "outputs": [
    {
     "data": {
      "text/plain": [
       "<matplotlib.legend.Legend at 0x1d3dea3c048>"
      ]
     },
     "execution_count": 29,
     "metadata": {},
     "output_type": "execute_result"
    },
    {
     "data": {
      "image/png": "[encoded data removed]",
      "text/plain": [
       "<Figure size 1440x1440 with 3 Axes>"
      ]
     },
     "metadata": {
      "needs_background": "light"
     },
     "output_type": "display_data"
    }
   ],
   "source": [
    "import warnings\n",
    "warnings.filterwarnings(\"ignore\")\n",
    "\n",
    "\n",
    "sm = over_sampling.SMOTE(random_state=0)\n",
    "X_train_smote, y_train_smote = sm.fit_resample(X_train_pt, y_train)\n",
    "# Artificial minority samples and corresponding minority labels from SMOTE are appended\n",
    "# below X_train and y_train respectively\n",
    "# So to exclusively get the artificial minority samples from SMOTE, we do\n",
    "X_train_smote_1 = X_train_smote[X_train_pt.shape[0]:]\n",
    "\n",
    "X_train_1 = X_train_pt[np.where(y_train==1.0)]\n",
    "X_train_0 = X_train_pt[np.where(y_train==0.0)]\n",
    "\n",
    "\n",
    "plt.rcParams['figure.figsize'] = [20, 20]\n",
    "fig = plt.figure()\n",
    "\n",
    "plt.subplot(3, 1, 1)\n",
    "plt.scatter(X_train_1[:, 0], X_train_1[:, 1], label='Actual Class-1 Examples')\n",
    "plt.legend()\n",
    "\n",
    "plt.subplot(3, 1, 2)\n",
    "plt.scatter(X_train_1[:, 0], X_train_1[:, 1], label='Actual Class-1 Examples')\n",
    "plt.scatter(X_train_smote_1[:X_train_1.shape[0], 0], X_train_smote_1[:X_train_1.shape[0], 1],\n",
    "            label='Artificial SMOTE Class-1 Examples')\n",
    "plt.legend()\n",
    "\n",
    "plt.subplot(3, 1, 3)\n",
    "plt.scatter(X_train_1[:, 0], X_train_1[:, 1], label='Actual Class-1 Examples')\n",
    "plt.scatter(X_train_0[:X_train_1.shape[0], 0], X_train_0[:X_train_1.shape[0], 1], label='Actual Class-0 Examples')\n",
    "plt.legend()"
   ]
  },
  {
   "cell_type": "markdown",
   "metadata": {},
   "source": [
    "##### Logistic Regresssion on on SMOTE"
   ]
  },
  {
   "cell_type": "code",
   "execution_count": 28,
   "metadata": {},
   "outputs": [],
   "source": [
    "from sklearn.linear_model import LogisticRegression"
   ]
  },
  {
   "cell_type": "code",
   "execution_count": 29,
   "metadata": {},
   "outputs": [],
   "source": [
    "lgsmt = LogisticRegression()"
   ]
  },
  {
   "cell_type": "code",
   "execution_count": 30,
   "metadata": {},
   "outputs": [
    {
     "data": {
      "text/plain": [
       "LogisticRegression()"
      ]
     },
     "execution_count": 30,
     "metadata": {},
     "output_type": "execute_result"
    }
   ],
   "source": [
    "lgsmt.fit(X_train_smote,y_train_smote)"
   ]
  },
  {
   "cell_type": "code",
   "execution_count": 31,
   "metadata": {},
   "outputs": [
    {
     "data": {
      "text/plain": [
       "array([[185265,   5232],\n",
       "       [ 14616, 175881]], dtype=int64)"
      ]
     },
     "execution_count": 31,
     "metadata": {},
     "output_type": "execute_result"
    }
   ],
   "source": [
    "metrics.confusion_matrix(y_train_smote,lgsmt.predict(X_train_smote))"
   ]
  },
  {
   "cell_type": "code",
   "execution_count": 32,
   "metadata": {},
   "outputs": [
    {
     "data": {
      "text/plain": [
       "array([[91276,  2542],\n",
       "       [   15,   154]], dtype=int64)"
      ]
     },
     "execution_count": 32,
     "metadata": {},
     "output_type": "execute_result"
    }
   ],
   "source": [
    "metrics.confusion_matrix(y_test,lgsmt.predict(X_test))"
   ]
  },
  {
   "cell_type": "code",
   "execution_count": 33,
   "metadata": {},
   "outputs": [
    {
     "name": "stdout",
     "output_type": "stream",
     "text": [
      "              precision    recall  f1-score   support\n",
      "\n",
      "           0       1.00      0.97      0.99     93818\n",
      "           1       0.06      0.91      0.11       169\n",
      "\n",
      "    accuracy                           0.97     93987\n",
      "   macro avg       0.53      0.94      0.55     93987\n",
      "weighted avg       1.00      0.97      0.98     93987\n",
      "\n"
     ]
    }
   ],
   "source": [
    "print(metrics.classification_report(y_test,lgsmt.predict(X_test)))"
   ]
  },
  {
   "cell_type": "code",
   "execution_count": 34,
   "metadata": {},
   "outputs": [],
   "source": [
    "from sklearn.model_selection import GridSearchCV"
   ]
  },
  {
   "cell_type": "code",
   "execution_count": 35,
   "metadata": {},
   "outputs": [],
   "source": [
    "param_grid_lgsmt = {'C':[0.1,1,10,100]}"
   ]
  },
  {
   "cell_type": "code",
   "execution_count": 36,
   "metadata": {},
   "outputs": [
    {
     "data": {
      "text/plain": [
       "GridSearchCV(cv=3, estimator=LogisticRegression(), n_jobs=-1,\n",
       "             param_grid={'C': [0.1, 1, 10, 100]}, return_train_score=True,\n",
       "             scoring='roc_auc')"
      ]
     },
     "execution_count": 36,
     "metadata": {},
     "output_type": "execute_result"
    }
   ],
   "source": [
    "grdlgsmt =GridSearchCV(lgsmt,param_grid_lgsmt,cv=3,scoring=\"roc_auc\",return_train_score=True,n_jobs=-1)\n",
    "grdlgsmt.fit(X_train_smote,y_train_smote)"
   ]
  },
  {
   "cell_type": "code",
   "execution_count": 38,
   "metadata": {},
   "outputs": [
    {
     "data": {
      "text/html": [
       "<div>\n",
       "<style scoped>\n",
       "    .dataframe tbody tr th:only-of-type {\n",
       "        vertical-align: middle;\n",
       "    }\n",
       "\n",
       "    .dataframe tbody tr th {\n",
       "        vertical-align: top;\n",
       "    }\n",
       "\n",
       "    .dataframe thead th {\n",
       "        text-align: right;\n",
       "    }\n",
       "</style>\n",
       "<table border=\"1\" class=\"dataframe\">\n",
       "  <thead>\n",
       "    <tr style=\"text-align: right;\">\n",
       "      <th></th>\n",
       "      <th>mean_fit_time</th>\n",
       "      <th>std_fit_time</th>\n",
       "      <th>mean_score_time</th>\n",
       "      <th>std_score_time</th>\n",
       "      <th>param_C</th>\n",
       "      <th>params</th>\n",
       "      <th>split0_test_score</th>\n",
       "      <th>split1_test_score</th>\n",
       "      <th>split2_test_score</th>\n",
       "      <th>mean_test_score</th>\n",
       "      <th>std_test_score</th>\n",
       "      <th>rank_test_score</th>\n",
       "      <th>split0_train_score</th>\n",
       "      <th>split1_train_score</th>\n",
       "      <th>split2_train_score</th>\n",
       "      <th>mean_train_score</th>\n",
       "      <th>std_train_score</th>\n",
       "    </tr>\n",
       "  </thead>\n",
       "  <tbody>\n",
       "    <tr>\n",
       "      <td>0</td>\n",
       "      <td>2.532612</td>\n",
       "      <td>0.070646</td>\n",
       "      <td>0.085463</td>\n",
       "      <td>0.008487</td>\n",
       "      <td>0.1</td>\n",
       "      <td>{'C': 0.1}</td>\n",
       "      <td>0.991812</td>\n",
       "      <td>0.991677</td>\n",
       "      <td>0.991665</td>\n",
       "      <td>0.991718</td>\n",
       "      <td>0.000067</td>\n",
       "      <td>1</td>\n",
       "      <td>0.991637</td>\n",
       "      <td>0.991806</td>\n",
       "      <td>0.991755</td>\n",
       "      <td>0.991733</td>\n",
       "      <td>0.000071</td>\n",
       "    </tr>\n",
       "  </tbody>\n",
       "</table>\n",
       "</div>"
      ],
      "text/plain": [
       "   mean_fit_time  std_fit_time  mean_score_time  std_score_time param_C  \\\n",
       "0       2.532612      0.070646         0.085463        0.008487     0.1   \n",
       "\n",
       "       params  split0_test_score  split1_test_score  split2_test_score  \\\n",
       "0  {'C': 0.1}           0.991812           0.991677           0.991665   \n",
       "\n",
       "   mean_test_score  std_test_score  rank_test_score  split0_train_score  \\\n",
       "0         0.991718        0.000067                1            0.991637   \n",
       "\n",
       "   split1_train_score  split2_train_score  mean_train_score  std_train_score  \n",
       "0            0.991806            0.991755          0.991733         0.000071  "
      ]
     },
     "execution_count": 38,
     "metadata": {},
     "output_type": "execute_result"
    }
   ],
   "source": [
    "dflgsmt = pd.DataFrame(grdlgsmt.cv_results_)\n",
    "dflgsmt[dflgsmt[\"mean_train_score\"]==dflgsmt[\"mean_train_score\"].max()]"
   ]
  },
  {
   "cell_type": "code",
   "execution_count": 39,
   "metadata": {},
   "outputs": [],
   "source": [
    "lgsmcv = LogisticRegression(C=0.1) # Fine tuned parameter given by GridSearchCV"
   ]
  },
  {
   "cell_type": "code",
   "execution_count": 40,
   "metadata": {},
   "outputs": [
    {
     "data": {
      "text/plain": [
       "LogisticRegression(C=0.1)"
      ]
     },
     "execution_count": 40,
     "metadata": {},
     "output_type": "execute_result"
    }
   ],
   "source": [
    "lgsmcv.fit(X_train_smote,y_train_smote)"
   ]
  },
  {
   "cell_type": "code",
   "execution_count": 41,
   "metadata": {},
   "outputs": [
    {
     "data": {
      "text/plain": [
       "array([[91291,  2527],\n",
       "       [   15,   154]], dtype=int64)"
      ]
     },
     "execution_count": 41,
     "metadata": {},
     "output_type": "execute_result"
    }
   ],
   "source": [
    "metrics.confusion_matrix(y_test,lgsmcv.predict(X_test))"
   ]
  },
  {
   "cell_type": "code",
   "execution_count": 42,
   "metadata": {},
   "outputs": [
    {
     "name": "stdout",
     "output_type": "stream",
     "text": [
      "              precision    recall  f1-score   support\n",
      "\n",
      "           0       1.00      0.97      0.99     93818\n",
      "           1       0.06      0.91      0.11       169\n",
      "\n",
      "    accuracy                           0.97     93987\n",
      "   macro avg       0.53      0.94      0.55     93987\n",
      "weighted avg       1.00      0.97      0.98     93987\n",
      "\n"
     ]
    }
   ],
   "source": [
    "print(metrics.classification_report(y_test,lgsmcv.predict(X_test)))"
   ]
  },
  {
   "cell_type": "code",
   "execution_count": 44,
   "metadata": {},
   "outputs": [],
   "source": [
    "# Setting the theshold probability to optimize specificity and sensitivity of fine tuned model"
   ]
  },
  {
   "cell_type": "code",
   "execution_count": 46,
   "metadata": {},
   "outputs": [],
   "source": [
    "sen0=[]\n",
    "sen1=[]\n",
    "\n",
    "for prob in np.linspace(.001,1,100):\n",
    "    cf = metrics.confusion_matrix(y_train_smote,lgsmcv.predict_proba(X_train_smote)[:,1]>prob)\n",
    "    sensitivity0 = cf[0,0]/(cf[0,0]+cf[0,1])\n",
    "    sensitivity1= cf[1,1]/(cf[1,1]+cf[1,0])\n",
    "    sen0.append(sensitivity0)\n",
    "    sen1.append(sensitivity1)"
   ]
  },
  {
   "cell_type": "code",
   "execution_count": 47,
   "metadata": {
    "scrolled": true
   },
   "outputs": [
    {
     "data": {
      "image/png": "[encoded data removed]",
      "text/plain": [
       "<Figure size 792x360 with 1 Axes>"
      ]
     },
     "metadata": {
      "needs_background": "light"
     },
     "output_type": "display_data"
    }
   ],
   "source": [
    "plt.figure(figsize=(11,5))\n",
    "plt.plot(np.linspace(.001,1,100),sen0,label=\"0\")\n",
    "plt.plot(np.linspace(.001,1,100),sen1,label=\"1\")\n",
    "plt.legend()\n",
    "plt.title(\"Sensitivity/Specificity for Probability Cutoffs\")\n",
    "plt.show()"
   ]
  },
  {
   "cell_type": "code",
   "execution_count": 60,
   "metadata": {},
   "outputs": [
    {
     "name": "stdout",
     "output_type": "stream",
     "text": [
      "              precision    recall  f1-score   support\n",
      "\n",
      "           0       0.95      0.95      0.95    190497\n",
      "           1       0.95      0.95      0.95    190497\n",
      "\n",
      "    accuracy                           0.95    380994\n",
      "   macro avg       0.95      0.95      0.95    380994\n",
      "weighted avg       0.95      0.95      0.95    380994\n",
      "\n"
     ]
    }
   ],
   "source": [
    "print(metrics.classification_report(y_train_smote,lgsmcv.predict_proba(X_train_smote)[:,1]>0.35))"
   ]
  },
  {
   "cell_type": "code",
   "execution_count": 61,
   "metadata": {},
   "outputs": [
    {
     "name": "stdout",
     "output_type": "stream",
     "text": [
      "              precision    recall  f1-score   support\n",
      "\n",
      "           0       1.00      0.95      0.98     93818\n",
      "           1       0.03      0.91      0.07       169\n",
      "\n",
      "    accuracy                           0.95     93987\n",
      "   macro avg       0.52      0.93      0.52     93987\n",
      "weighted avg       1.00      0.95      0.97     93987\n",
      "\n"
     ]
    }
   ],
   "source": [
    "print(metrics.classification_report(y_test,lgsmcv.predict_proba(X_test)[:,1]>0.35))"
   ]
  },
  {
   "cell_type": "code",
   "execution_count": 62,
   "metadata": {},
   "outputs": [
    {
     "name": "stdout",
     "output_type": "stream",
     "text": [
      "0.932805850582413\n"
     ]
    }
   ],
   "source": [
    "print(metrics.roc_auc_score(y_test,lgsmcv.predict_proba(X_test)[:,1]>0.35))"
   ]
  },
  {
   "cell_type": "code",
   "execution_count": 63,
   "metadata": {},
   "outputs": [],
   "source": [
    "# We are getting same AUC 93 % using SMOTE and Logistic Regression with gridsearch as with class_weight =\"balanced\"\n",
    "#Recall of logistic regression in 91 % for fraud cases but precision of prediction if 3%"
   ]
  },
  {
   "cell_type": "markdown",
   "metadata": {},
   "source": [
    "##### XGBoost on on SMOTE"
   ]
  },
  {
   "cell_type": "code",
   "execution_count": 24,
   "metadata": {},
   "outputs": [],
   "source": [
    "import xgboost as xgb"
   ]
  },
  {
   "cell_type": "code",
   "execution_count": 25,
   "metadata": {},
   "outputs": [],
   "source": [
    "xgsmt = xgb.XGBClassifier(random_state=1,learning_rate=0.01)"
   ]
  },
  {
   "cell_type": "code",
   "execution_count": 30,
   "metadata": {},
   "outputs": [
    {
     "data": {
      "text/plain": [
       "XGBClassifier(base_score=0.5, booster='gbtree', colsample_bylevel=1,\n",
       "              colsample_bynode=1, colsample_bytree=1, gamma=0, gpu_id=-1,\n",
       "              importance_type='gain', interaction_constraints='',\n",
       "              learning_rate=0.01, max_delta_step=0, max_depth=6,\n",
       "              min_child_weight=1, missing=nan, monotone_constraints='()',\n",
       "              n_estimators=100, n_jobs=0, num_parallel_tree=1, random_state=1,\n",
       "              reg_alpha=0, reg_lambda=1, scale_pos_weight=1, subsample=1,\n",
       "              tree_method='exact', validate_parameters=1, verbosity=None)"
      ]
     },
     "execution_count": 30,
     "metadata": {},
     "output_type": "execute_result"
    }
   ],
   "source": [
    "xgsmt.fit(X_train_smote,y_train_smote)"
   ]
  },
  {
   "cell_type": "code",
   "execution_count": 32,
   "metadata": {},
   "outputs": [
    {
     "name": "stdout",
     "output_type": "stream",
     "text": [
      "[[188278   2219]\n",
      " [  3701 186796]]\n"
     ]
    }
   ],
   "source": [
    "print(metrics.confusion_matrix(y_train_smote,xgsmt.predict(X_train_smote)))"
   ]
  },
  {
   "cell_type": "code",
   "execution_count": 33,
   "metadata": {
    "scrolled": true
   },
   "outputs": [
    {
     "name": "stdout",
     "output_type": "stream",
     "text": [
      "              precision    recall  f1-score   support\n",
      "\n",
      "           0       1.00      0.99      0.99     93818\n",
      "           1       0.12      0.89      0.21       169\n",
      "\n",
      "    accuracy                           0.99     93987\n",
      "   macro avg       0.56      0.94      0.60     93987\n",
      "weighted avg       1.00      0.99      0.99     93987\n",
      "\n"
     ]
    }
   ],
   "source": [
    "print(metrics.classification_report(y_test,xgsmt.predict(X_test_pt)))"
   ]
  },
  {
   "cell_type": "code",
   "execution_count": 35,
   "metadata": {},
   "outputs": [],
   "source": [
    "#Grid Search CV to find best learning rate / parameters of XGBoost"
   ]
  },
  {
   "cell_type": "code",
   "execution_count": 38,
   "metadata": {},
   "outputs": [],
   "source": [
    "from sklearn.model_selection import GridSearchCV"
   ]
  },
  {
   "cell_type": "code",
   "execution_count": 39,
   "metadata": {},
   "outputs": [],
   "source": [
    "param_grid_xgsmt = {\"learning_rate\":[0.001,.01,1]}"
   ]
  },
  {
   "cell_type": "code",
   "execution_count": 40,
   "metadata": {},
   "outputs": [],
   "source": [
    "gridxsmt = GridSearchCV(xgsmt,param_grid=param_grid_xgsmt,cv=3,scoring=\"roc_auc\",return_train_score=True,n_jobs=-1)"
   ]
  },
  {
   "cell_type": "code",
   "execution_count": 41,
   "metadata": {},
   "outputs": [
    {
     "data": {
      "text/plain": [
       "GridSearchCV(cv=3,\n",
       "             estimator=XGBClassifier(base_score=0.5, booster='gbtree',\n",
       "                                     colsample_bylevel=1, colsample_bynode=1,\n",
       "                                     colsample_bytree=1, gamma=0, gpu_id=-1,\n",
       "                                     importance_type='gain',\n",
       "                                     interaction_constraints='',\n",
       "                                     learning_rate=0.01, max_delta_step=0,\n",
       "                                     max_depth=6, min_child_weight=1,\n",
       "                                     missing=nan, monotone_constraints='()',\n",
       "                                     n_estimators=100, n_jobs=0,\n",
       "                                     num_parallel_tree=1, random_state=1,\n",
       "                                     reg_alpha=0, reg_lambda=1,\n",
       "                                     scale_pos_weight=1, subsample=1,\n",
       "                                     tree_method='exact', validate_parameters=1,\n",
       "                                     verbosity=None),\n",
       "             n_jobs=-1, param_grid={'learning_rate': [0.001, 0.01, 1]},\n",
       "             return_train_score=True, scoring='roc_auc')"
      ]
     },
     "execution_count": 41,
     "metadata": {},
     "output_type": "execute_result"
    }
   ],
   "source": [
    "gridxsmt.fit(X_train_smote,y_train_smote)"
   ]
  },
  {
   "cell_type": "code",
   "execution_count": 43,
   "metadata": {},
   "outputs": [
    {
     "data": {
      "text/html": [
       "<div>\n",
       "<style scoped>\n",
       "    .dataframe tbody tr th:only-of-type {\n",
       "        vertical-align: middle;\n",
       "    }\n",
       "\n",
       "    .dataframe tbody tr th {\n",
       "        vertical-align: top;\n",
       "    }\n",
       "\n",
       "    .dataframe thead th {\n",
       "        text-align: right;\n",
       "    }\n",
       "</style>\n",
       "<table border=\"1\" class=\"dataframe\">\n",
       "  <thead>\n",
       "    <tr style=\"text-align: right;\">\n",
       "      <th></th>\n",
       "      <th>mean_fit_time</th>\n",
       "      <th>std_fit_time</th>\n",
       "      <th>mean_score_time</th>\n",
       "      <th>std_score_time</th>\n",
       "      <th>param_learning_rate</th>\n",
       "      <th>params</th>\n",
       "      <th>split0_test_score</th>\n",
       "      <th>split1_test_score</th>\n",
       "      <th>split2_test_score</th>\n",
       "      <th>mean_test_score</th>\n",
       "      <th>std_test_score</th>\n",
       "      <th>rank_test_score</th>\n",
       "      <th>split0_train_score</th>\n",
       "      <th>split1_train_score</th>\n",
       "      <th>split2_train_score</th>\n",
       "      <th>mean_train_score</th>\n",
       "      <th>std_train_score</th>\n",
       "    </tr>\n",
       "  </thead>\n",
       "  <tbody>\n",
       "    <tr>\n",
       "      <td>2</td>\n",
       "      <td>319.272046</td>\n",
       "      <td>53.109517</td>\n",
       "      <td>1.900107</td>\n",
       "      <td>0.368238</td>\n",
       "      <td>1</td>\n",
       "      <td>{'learning_rate': 1}</td>\n",
       "      <td>0.999992</td>\n",
       "      <td>0.999999</td>\n",
       "      <td>0.999986</td>\n",
       "      <td>0.999992</td>\n",
       "      <td>0.000005</td>\n",
       "      <td>1</td>\n",
       "      <td>1.0</td>\n",
       "      <td>1.0</td>\n",
       "      <td>1.0</td>\n",
       "      <td>1.0</td>\n",
       "      <td>0.0</td>\n",
       "    </tr>\n",
       "  </tbody>\n",
       "</table>\n",
       "</div>"
      ],
      "text/plain": [
       "   mean_fit_time  std_fit_time  mean_score_time  std_score_time  \\\n",
       "2     319.272046     53.109517         1.900107        0.368238   \n",
       "\n",
       "  param_learning_rate                params  split0_test_score  \\\n",
       "2                   1  {'learning_rate': 1}           0.999992   \n",
       "\n",
       "   split1_test_score  split2_test_score  mean_test_score  std_test_score  \\\n",
       "2           0.999999           0.999986         0.999992        0.000005   \n",
       "\n",
       "   rank_test_score  split0_train_score  split1_train_score  \\\n",
       "2                1                 1.0                 1.0   \n",
       "\n",
       "   split2_train_score  mean_train_score  std_train_score  \n",
       "2                 1.0               1.0              0.0  "
      ]
     },
     "execution_count": 43,
     "metadata": {},
     "output_type": "execute_result"
    }
   ],
   "source": [
    "dfcvxgsmt = pd.DataFrame(gridxsmt.cv_results_)\n",
    "dfcvxgsmt[dfcvxgsmt[\"mean_train_score\"]==dfcvxgsmt[\"mean_train_score\"].max()]"
   ]
  },
  {
   "cell_type": "code",
   "execution_count": 44,
   "metadata": {},
   "outputs": [],
   "source": [
    "#Keeping the learning Rate of 1 as per cv result\n",
    "xgsmtcv = xgb.XGBClassifier(random_state=1,learning_rate=1)"
   ]
  },
  {
   "cell_type": "code",
   "execution_count": 45,
   "metadata": {
    "scrolled": true
   },
   "outputs": [
    {
     "data": {
      "text/plain": [
       "XGBClassifier(base_score=0.5, booster='gbtree', colsample_bylevel=1,\n",
       "              colsample_bynode=1, colsample_bytree=1, gamma=0, gpu_id=-1,\n",
       "              importance_type='gain', interaction_constraints='',\n",
       "              learning_rate=1, max_delta_step=0, max_depth=6,\n",
       "              min_child_weight=1, missing=nan, monotone_constraints='()',\n",
       "              n_estimators=100, n_jobs=0, num_parallel_tree=1, random_state=1,\n",
       "              reg_alpha=0, reg_lambda=1, scale_pos_weight=1, subsample=1,\n",
       "              tree_method='exact', validate_parameters=1, verbosity=None)"
      ]
     },
     "execution_count": 45,
     "metadata": {},
     "output_type": "execute_result"
    }
   ],
   "source": [
    "xgsmtcv.fit(X_train_smote,y_train_smote)"
   ]
  },
  {
   "cell_type": "code",
   "execution_count": 63,
   "metadata": {
    "scrolled": true
   },
   "outputs": [
    {
     "name": "stdout",
     "output_type": "stream",
     "text": [
      "              precision    recall  f1-score   support\n",
      "\n",
      "           0       1.00      1.00      1.00     93818\n",
      "           1       0.77      0.84      0.80       169\n",
      "\n",
      "    accuracy                           1.00     93987\n",
      "   macro avg       0.88      0.92      0.90     93987\n",
      "weighted avg       1.00      1.00      1.00     93987\n",
      "\n"
     ]
    }
   ],
   "source": [
    "print(metrics.classification_report(y_test,xgsmtcv.predict(X_test_pt))) #Better Precision for learning rate 1"
   ]
  },
  {
   "cell_type": "code",
   "execution_count": 64,
   "metadata": {},
   "outputs": [],
   "source": [
    "sen0=[]\n",
    "sen1=[]\n",
    "\n",
    "for prob in np.linspace(.001,1,100):\n",
    "    cf = metrics.confusion_matrix(y_train_smote,xgsmtcv.predict_proba(X_train_smote)[:,1]>prob)\n",
    "    sensitivity0 = cf[0,0]/(cf[0,0]+cf[0,1])\n",
    "    sensitivity1= cf[1,1]/(cf[1,1]+cf[1,0])\n",
    "    sen0.append(sensitivity0)\n",
    "    sen1.append(sensitivity1)"
   ]
  },
  {
   "cell_type": "code",
   "execution_count": 65,
   "metadata": {},
   "outputs": [
    {
     "data": {
      "image/png": "[encoded data removed]",
      "text/plain": [
       "<Figure size 792x360 with 1 Axes>"
      ]
     },
     "metadata": {
      "needs_background": "light"
     },
     "output_type": "display_data"
    }
   ],
   "source": [
    "plt.figure(figsize=(11,5))\n",
    "plt.plot(np.linspace(.001,1,100),sen0,label=\"0\")\n",
    "plt.plot(np.linspace(.001,1,100),sen1,label=\"1\")\n",
    "plt.legend()\n",
    "plt.title(\"Sensitivity/Specificity for Probability Cutoffs\")\n",
    "plt.show()\n"
   ]
  },
  {
   "cell_type": "code",
   "execution_count": 84,
   "metadata": {},
   "outputs": [
    {
     "name": "stdout",
     "output_type": "stream",
     "text": [
      "              precision    recall  f1-score   support\n",
      "\n",
      "           0       1.00      1.00      1.00    190497\n",
      "           1       1.00      1.00      1.00    190497\n",
      "\n",
      "    accuracy                           1.00    380994\n",
      "   macro avg       1.00      1.00      1.00    380994\n",
      "weighted avg       1.00      1.00      1.00    380994\n",
      "\n"
     ]
    }
   ],
   "source": [
    "print(metrics.classification_report(y_train_smote,xgsmtcv.predict_proba(X_train_smote)[:,1]>0.7))"
   ]
  },
  {
   "cell_type": "code",
   "execution_count": 88,
   "metadata": {},
   "outputs": [],
   "source": [
    "#Setting threshold probaility of 0.7 based on train data to have 83% recall and 80% precison on class 1 / fraud"
   ]
  },
  {
   "cell_type": "code",
   "execution_count": 85,
   "metadata": {},
   "outputs": [
    {
     "name": "stdout",
     "output_type": "stream",
     "text": [
      "              precision    recall  f1-score   support\n",
      "\n",
      "           0       1.00      1.00      1.00     93818\n",
      "           1       0.80      0.83      0.82       169\n",
      "\n",
      "    accuracy                           1.00     93987\n",
      "   macro avg       0.90      0.92      0.91     93987\n",
      "weighted avg       1.00      1.00      1.00     93987\n",
      "\n"
     ]
    }
   ],
   "source": [
    "print(metrics.classification_report(y_test,xgsmtcv.predict_proba(X_test)[:,1]>0.7))"
   ]
  },
  {
   "cell_type": "code",
   "execution_count": 86,
   "metadata": {},
   "outputs": [
    {
     "name": "stdout",
     "output_type": "stream",
     "text": [
      "[[93782    36]\n",
      " [   28   141]]\n"
     ]
    }
   ],
   "source": [
    "print(metrics.confusion_matrix(y_test,xgsmtcv.predict_proba(X_test)[:,1]>0.7))"
   ]
  },
  {
   "cell_type": "code",
   "execution_count": 87,
   "metadata": {
    "scrolled": false
   },
   "outputs": [
    {
     "name": "stdout",
     "output_type": "stream",
     "text": [
      "0.9169679024766699\n"
     ]
    }
   ],
   "source": [
    "print(metrics.roc_auc_score(y_test,xgsmtcv.predict_proba(X_test)[:,1]>0.7))"
   ]
  },
  {
   "cell_type": "markdown",
   "metadata": {},
   "source": [
    "##### Random Forest on SMOTE"
   ]
  },
  {
   "cell_type": "code",
   "execution_count": 90,
   "metadata": {},
   "outputs": [],
   "source": [
    "from sklearn.ensemble import RandomForestClassifier"
   ]
  },
  {
   "cell_type": "code",
   "execution_count": 91,
   "metadata": {},
   "outputs": [],
   "source": [
    "rfsmt = RandomForestClassifier(n_estimators=100)"
   ]
  },
  {
   "cell_type": "code",
   "execution_count": 92,
   "metadata": {},
   "outputs": [
    {
     "data": {
      "text/plain": [
       "RandomForestClassifier()"
      ]
     },
     "execution_count": 92,
     "metadata": {},
     "output_type": "execute_result"
    }
   ],
   "source": [
    "rfsmt.fit(X_train_smote,y_train_smote)"
   ]
  },
  {
   "cell_type": "code",
   "execution_count": 94,
   "metadata": {},
   "outputs": [
    {
     "name": "stdout",
     "output_type": "stream",
     "text": [
      "              precision    recall  f1-score   support\n",
      "\n",
      "           0       1.00      1.00      1.00     93818\n",
      "           1       0.88      0.80      0.84       169\n",
      "\n",
      "    accuracy                           1.00     93987\n",
      "   macro avg       0.94      0.90      0.92     93987\n",
      "weighted avg       1.00      1.00      1.00     93987\n",
      "\n"
     ]
    }
   ],
   "source": [
    "print(metrics.classification_report(y_test,rfsmt.predict(X_test_pt)))"
   ]
  },
  {
   "cell_type": "markdown",
   "metadata": {},
   "source": [
    "# Cross Validation to find best parameters for RF on SMOTE"
   ]
  },
  {
   "cell_type": "code",
   "execution_count": 96,
   "metadata": {},
   "outputs": [],
   "source": [
    "param_grid_rfsmt = {'criterion':['gini','entropy'],'n_estimators':[100,150,200],'min_samples_split':[2,4,6]}"
   ]
  },
  {
   "cell_type": "code",
   "execution_count": 97,
   "metadata": {},
   "outputs": [],
   "source": [
    "gridrfsmt =GridSearchCV(rfsmt,param_grid_rfsmt,cv=3,scoring=\"roc_auc\",return_train_score=True,n_jobs=-1)"
   ]
  },
  {
   "cell_type": "code",
   "execution_count": 98,
   "metadata": {},
   "outputs": [
    {
     "data": {
      "text/plain": [
       "GridSearchCV(cv=3, estimator=RandomForestClassifier(), n_jobs=-1,\n",
       "             param_grid={'criterion': ['gini', 'entropy'],\n",
       "                         'min_samples_split': [2, 4, 6],\n",
       "                         'n_estimators': [100, 150, 200]},\n",
       "             return_train_score=True, scoring='roc_auc')"
      ]
     },
     "execution_count": 98,
     "metadata": {},
     "output_type": "execute_result"
    }
   ],
   "source": [
    "gridrfsmt.fit(X_train_smote,y_train_smote)"
   ]
  },
  {
   "cell_type": "code",
   "execution_count": 99,
   "metadata": {},
   "outputs": [
    {
     "data": {
      "text/html": [
       "<div>\n",
       "<style scoped>\n",
       "    .dataframe tbody tr th:only-of-type {\n",
       "        vertical-align: middle;\n",
       "    }\n",
       "\n",
       "    .dataframe tbody tr th {\n",
       "        vertical-align: top;\n",
       "    }\n",
       "\n",
       "    .dataframe thead th {\n",
       "        text-align: right;\n",
       "    }\n",
       "</style>\n",
       "<table border=\"1\" class=\"dataframe\">\n",
       "  <thead>\n",
       "    <tr style=\"text-align: right;\">\n",
       "      <th></th>\n",
       "      <th>mean_fit_time</th>\n",
       "      <th>std_fit_time</th>\n",
       "      <th>mean_score_time</th>\n",
       "      <th>std_score_time</th>\n",
       "      <th>param_criterion</th>\n",
       "      <th>param_min_samples_split</th>\n",
       "      <th>param_n_estimators</th>\n",
       "      <th>params</th>\n",
       "      <th>split0_test_score</th>\n",
       "      <th>split1_test_score</th>\n",
       "      <th>split2_test_score</th>\n",
       "      <th>mean_test_score</th>\n",
       "      <th>std_test_score</th>\n",
       "      <th>rank_test_score</th>\n",
       "      <th>split0_train_score</th>\n",
       "      <th>split1_train_score</th>\n",
       "      <th>split2_train_score</th>\n",
       "      <th>mean_train_score</th>\n",
       "      <th>std_train_score</th>\n",
       "    </tr>\n",
       "  </thead>\n",
       "  <tbody>\n",
       "    <tr>\n",
       "      <td>0</td>\n",
       "      <td>266.444194</td>\n",
       "      <td>3.608672</td>\n",
       "      <td>1.924617</td>\n",
       "      <td>0.046262</td>\n",
       "      <td>gini</td>\n",
       "      <td>2</td>\n",
       "      <td>100</td>\n",
       "      <td>{'criterion': 'gini', 'min_samples_split': 2, ...</td>\n",
       "      <td>0.999999</td>\n",
       "      <td>0.999992</td>\n",
       "      <td>0.999990</td>\n",
       "      <td>0.999994</td>\n",
       "      <td>3.778139e-06</td>\n",
       "      <td>17</td>\n",
       "      <td>1.0</td>\n",
       "      <td>1.0</td>\n",
       "      <td>1.0</td>\n",
       "      <td>1.0</td>\n",
       "      <td>0.000000e+00</td>\n",
       "    </tr>\n",
       "    <tr>\n",
       "      <td>1</td>\n",
       "      <td>409.821555</td>\n",
       "      <td>5.318565</td>\n",
       "      <td>2.983688</td>\n",
       "      <td>0.058415</td>\n",
       "      <td>gini</td>\n",
       "      <td>2</td>\n",
       "      <td>150</td>\n",
       "      <td>{'criterion': 'gini', 'min_samples_split': 2, ...</td>\n",
       "      <td>0.999998</td>\n",
       "      <td>0.999999</td>\n",
       "      <td>0.999990</td>\n",
       "      <td>0.999996</td>\n",
       "      <td>4.098369e-06</td>\n",
       "      <td>7</td>\n",
       "      <td>1.0</td>\n",
       "      <td>1.0</td>\n",
       "      <td>1.0</td>\n",
       "      <td>1.0</td>\n",
       "      <td>0.000000e+00</td>\n",
       "    </tr>\n",
       "    <tr>\n",
       "      <td>2</td>\n",
       "      <td>535.836153</td>\n",
       "      <td>3.618124</td>\n",
       "      <td>3.908604</td>\n",
       "      <td>0.063855</td>\n",
       "      <td>gini</td>\n",
       "      <td>2</td>\n",
       "      <td>200</td>\n",
       "      <td>{'criterion': 'gini', 'min_samples_split': 2, ...</td>\n",
       "      <td>0.999999</td>\n",
       "      <td>0.999999</td>\n",
       "      <td>0.999990</td>\n",
       "      <td>0.999996</td>\n",
       "      <td>4.123389e-06</td>\n",
       "      <td>6</td>\n",
       "      <td>1.0</td>\n",
       "      <td>1.0</td>\n",
       "      <td>1.0</td>\n",
       "      <td>1.0</td>\n",
       "      <td>6.409876e-17</td>\n",
       "    </tr>\n",
       "    <tr>\n",
       "      <td>3</td>\n",
       "      <td>272.431502</td>\n",
       "      <td>3.734163</td>\n",
       "      <td>2.001857</td>\n",
       "      <td>0.050151</td>\n",
       "      <td>gini</td>\n",
       "      <td>4</td>\n",
       "      <td>100</td>\n",
       "      <td>{'criterion': 'gini', 'min_samples_split': 4, ...</td>\n",
       "      <td>0.999998</td>\n",
       "      <td>0.999999</td>\n",
       "      <td>0.999991</td>\n",
       "      <td>0.999996</td>\n",
       "      <td>3.792513e-06</td>\n",
       "      <td>9</td>\n",
       "      <td>1.0</td>\n",
       "      <td>1.0</td>\n",
       "      <td>1.0</td>\n",
       "      <td>1.0</td>\n",
       "      <td>1.281975e-16</td>\n",
       "    </tr>\n",
       "    <tr>\n",
       "      <td>4</td>\n",
       "      <td>435.022745</td>\n",
       "      <td>37.761345</td>\n",
       "      <td>3.872529</td>\n",
       "      <td>1.373138</td>\n",
       "      <td>gini</td>\n",
       "      <td>4</td>\n",
       "      <td>150</td>\n",
       "      <td>{'criterion': 'gini', 'min_samples_split': 4, ...</td>\n",
       "      <td>0.999998</td>\n",
       "      <td>1.000000</td>\n",
       "      <td>0.999990</td>\n",
       "      <td>0.999996</td>\n",
       "      <td>4.405545e-06</td>\n",
       "      <td>12</td>\n",
       "      <td>1.0</td>\n",
       "      <td>1.0</td>\n",
       "      <td>1.0</td>\n",
       "      <td>1.0</td>\n",
       "      <td>1.281975e-16</td>\n",
       "    </tr>\n",
       "    <tr>\n",
       "      <td>5</td>\n",
       "      <td>878.049433</td>\n",
       "      <td>111.209953</td>\n",
       "      <td>7.904383</td>\n",
       "      <td>0.106295</td>\n",
       "      <td>gini</td>\n",
       "      <td>4</td>\n",
       "      <td>200</td>\n",
       "      <td>{'criterion': 'gini', 'min_samples_split': 4, ...</td>\n",
       "      <td>0.999998</td>\n",
       "      <td>0.999999</td>\n",
       "      <td>0.999997</td>\n",
       "      <td>0.999998</td>\n",
       "      <td>5.476541e-07</td>\n",
       "      <td>2</td>\n",
       "      <td>1.0</td>\n",
       "      <td>1.0</td>\n",
       "      <td>1.0</td>\n",
       "      <td>1.0</td>\n",
       "      <td>0.000000e+00</td>\n",
       "    </tr>\n",
       "    <tr>\n",
       "      <td>6</td>\n",
       "      <td>511.869961</td>\n",
       "      <td>4.635328</td>\n",
       "      <td>3.958132</td>\n",
       "      <td>0.127687</td>\n",
       "      <td>gini</td>\n",
       "      <td>6</td>\n",
       "      <td>100</td>\n",
       "      <td>{'criterion': 'gini', 'min_samples_split': 6, ...</td>\n",
       "      <td>0.999998</td>\n",
       "      <td>0.999999</td>\n",
       "      <td>0.999982</td>\n",
       "      <td>0.999993</td>\n",
       "      <td>8.103952e-06</td>\n",
       "      <td>18</td>\n",
       "      <td>1.0</td>\n",
       "      <td>1.0</td>\n",
       "      <td>1.0</td>\n",
       "      <td>1.0</td>\n",
       "      <td>0.000000e+00</td>\n",
       "    </tr>\n",
       "    <tr>\n",
       "      <td>7</td>\n",
       "      <td>766.663261</td>\n",
       "      <td>8.415427</td>\n",
       "      <td>5.891418</td>\n",
       "      <td>0.039533</td>\n",
       "      <td>gini</td>\n",
       "      <td>6</td>\n",
       "      <td>150</td>\n",
       "      <td>{'criterion': 'gini', 'min_samples_split': 6, ...</td>\n",
       "      <td>0.999998</td>\n",
       "      <td>0.999999</td>\n",
       "      <td>0.999990</td>\n",
       "      <td>0.999996</td>\n",
       "      <td>4.242503e-06</td>\n",
       "      <td>13</td>\n",
       "      <td>1.0</td>\n",
       "      <td>1.0</td>\n",
       "      <td>1.0</td>\n",
       "      <td>1.0</td>\n",
       "      <td>1.281975e-16</td>\n",
       "    </tr>\n",
       "    <tr>\n",
       "      <td>8</td>\n",
       "      <td>1015.948958</td>\n",
       "      <td>6.995291</td>\n",
       "      <td>7.832233</td>\n",
       "      <td>0.026253</td>\n",
       "      <td>gini</td>\n",
       "      <td>6</td>\n",
       "      <td>200</td>\n",
       "      <td>{'criterion': 'gini', 'min_samples_split': 6, ...</td>\n",
       "      <td>0.999998</td>\n",
       "      <td>0.999999</td>\n",
       "      <td>0.999990</td>\n",
       "      <td>0.999996</td>\n",
       "      <td>4.288518e-06</td>\n",
       "      <td>14</td>\n",
       "      <td>1.0</td>\n",
       "      <td>1.0</td>\n",
       "      <td>1.0</td>\n",
       "      <td>1.0</td>\n",
       "      <td>6.409876e-17</td>\n",
       "    </tr>\n",
       "    <tr>\n",
       "      <td>9</td>\n",
       "      <td>558.250794</td>\n",
       "      <td>6.353738</td>\n",
       "      <td>3.539752</td>\n",
       "      <td>0.168172</td>\n",
       "      <td>entropy</td>\n",
       "      <td>2</td>\n",
       "      <td>100</td>\n",
       "      <td>{'criterion': 'entropy', 'min_samples_split': ...</td>\n",
       "      <td>0.999999</td>\n",
       "      <td>0.999992</td>\n",
       "      <td>0.999991</td>\n",
       "      <td>0.999994</td>\n",
       "      <td>3.632116e-06</td>\n",
       "      <td>16</td>\n",
       "      <td>1.0</td>\n",
       "      <td>1.0</td>\n",
       "      <td>1.0</td>\n",
       "      <td>1.0</td>\n",
       "      <td>0.000000e+00</td>\n",
       "    </tr>\n",
       "    <tr>\n",
       "      <td>10</td>\n",
       "      <td>827.774230</td>\n",
       "      <td>5.627386</td>\n",
       "      <td>5.188780</td>\n",
       "      <td>0.071114</td>\n",
       "      <td>entropy</td>\n",
       "      <td>2</td>\n",
       "      <td>150</td>\n",
       "      <td>{'criterion': 'entropy', 'min_samples_split': ...</td>\n",
       "      <td>0.999999</td>\n",
       "      <td>1.000000</td>\n",
       "      <td>0.999990</td>\n",
       "      <td>0.999996</td>\n",
       "      <td>4.512407e-06</td>\n",
       "      <td>5</td>\n",
       "      <td>1.0</td>\n",
       "      <td>1.0</td>\n",
       "      <td>1.0</td>\n",
       "      <td>1.0</td>\n",
       "      <td>0.000000e+00</td>\n",
       "    </tr>\n",
       "    <tr>\n",
       "      <td>11</td>\n",
       "      <td>1107.457348</td>\n",
       "      <td>4.690095</td>\n",
       "      <td>7.000856</td>\n",
       "      <td>0.145745</td>\n",
       "      <td>entropy</td>\n",
       "      <td>2</td>\n",
       "      <td>200</td>\n",
       "      <td>{'criterion': 'entropy', 'min_samples_split': ...</td>\n",
       "      <td>0.999999</td>\n",
       "      <td>0.999999</td>\n",
       "      <td>0.999991</td>\n",
       "      <td>0.999996</td>\n",
       "      <td>3.826165e-06</td>\n",
       "      <td>4</td>\n",
       "      <td>1.0</td>\n",
       "      <td>1.0</td>\n",
       "      <td>1.0</td>\n",
       "      <td>1.0</td>\n",
       "      <td>0.000000e+00</td>\n",
       "    </tr>\n",
       "    <tr>\n",
       "      <td>12</td>\n",
       "      <td>553.523652</td>\n",
       "      <td>1.933863</td>\n",
       "      <td>3.434964</td>\n",
       "      <td>0.084042</td>\n",
       "      <td>entropy</td>\n",
       "      <td>4</td>\n",
       "      <td>100</td>\n",
       "      <td>{'criterion': 'entropy', 'min_samples_split': ...</td>\n",
       "      <td>0.999999</td>\n",
       "      <td>1.000000</td>\n",
       "      <td>0.999983</td>\n",
       "      <td>0.999994</td>\n",
       "      <td>7.921681e-06</td>\n",
       "      <td>15</td>\n",
       "      <td>1.0</td>\n",
       "      <td>1.0</td>\n",
       "      <td>1.0</td>\n",
       "      <td>1.0</td>\n",
       "      <td>0.000000e+00</td>\n",
       "    </tr>\n",
       "    <tr>\n",
       "      <td>13</td>\n",
       "      <td>628.588307</td>\n",
       "      <td>52.034529</td>\n",
       "      <td>2.620014</td>\n",
       "      <td>0.032499</td>\n",
       "      <td>entropy</td>\n",
       "      <td>4</td>\n",
       "      <td>150</td>\n",
       "      <td>{'criterion': 'entropy', 'min_samples_split': ...</td>\n",
       "      <td>0.999998</td>\n",
       "      <td>0.999999</td>\n",
       "      <td>0.999991</td>\n",
       "      <td>0.999996</td>\n",
       "      <td>3.646821e-06</td>\n",
       "      <td>8</td>\n",
       "      <td>1.0</td>\n",
       "      <td>1.0</td>\n",
       "      <td>1.0</td>\n",
       "      <td>1.0</td>\n",
       "      <td>0.000000e+00</td>\n",
       "    </tr>\n",
       "    <tr>\n",
       "      <td>14</td>\n",
       "      <td>639.869231</td>\n",
       "      <td>53.787284</td>\n",
       "      <td>3.615416</td>\n",
       "      <td>0.198548</td>\n",
       "      <td>entropy</td>\n",
       "      <td>4</td>\n",
       "      <td>200</td>\n",
       "      <td>{'criterion': 'entropy', 'min_samples_split': ...</td>\n",
       "      <td>0.999999</td>\n",
       "      <td>1.000000</td>\n",
       "      <td>0.999998</td>\n",
       "      <td>0.999999</td>\n",
       "      <td>6.525673e-07</td>\n",
       "      <td>1</td>\n",
       "      <td>1.0</td>\n",
       "      <td>1.0</td>\n",
       "      <td>1.0</td>\n",
       "      <td>1.0</td>\n",
       "      <td>6.409876e-17</td>\n",
       "    </tr>\n",
       "    <tr>\n",
       "      <td>15</td>\n",
       "      <td>297.286319</td>\n",
       "      <td>11.979573</td>\n",
       "      <td>1.696812</td>\n",
       "      <td>0.014983</td>\n",
       "      <td>entropy</td>\n",
       "      <td>6</td>\n",
       "      <td>100</td>\n",
       "      <td>{'criterion': 'entropy', 'min_samples_split': ...</td>\n",
       "      <td>0.999999</td>\n",
       "      <td>0.999999</td>\n",
       "      <td>0.999991</td>\n",
       "      <td>0.999996</td>\n",
       "      <td>3.931255e-06</td>\n",
       "      <td>3</td>\n",
       "      <td>1.0</td>\n",
       "      <td>1.0</td>\n",
       "      <td>1.0</td>\n",
       "      <td>1.0</td>\n",
       "      <td>6.409876e-17</td>\n",
       "    </tr>\n",
       "    <tr>\n",
       "      <td>16</td>\n",
       "      <td>426.080546</td>\n",
       "      <td>3.546501</td>\n",
       "      <td>2.538172</td>\n",
       "      <td>0.070022</td>\n",
       "      <td>entropy</td>\n",
       "      <td>6</td>\n",
       "      <td>150</td>\n",
       "      <td>{'criterion': 'entropy', 'min_samples_split': ...</td>\n",
       "      <td>0.999998</td>\n",
       "      <td>0.999999</td>\n",
       "      <td>0.999990</td>\n",
       "      <td>0.999996</td>\n",
       "      <td>3.838828e-06</td>\n",
       "      <td>11</td>\n",
       "      <td>1.0</td>\n",
       "      <td>1.0</td>\n",
       "      <td>1.0</td>\n",
       "      <td>1.0</td>\n",
       "      <td>6.409876e-17</td>\n",
       "    </tr>\n",
       "    <tr>\n",
       "      <td>17</td>\n",
       "      <td>451.000786</td>\n",
       "      <td>52.324925</td>\n",
       "      <td>2.732650</td>\n",
       "      <td>0.233757</td>\n",
       "      <td>entropy</td>\n",
       "      <td>6</td>\n",
       "      <td>200</td>\n",
       "      <td>{'criterion': 'entropy', 'min_samples_split': ...</td>\n",
       "      <td>0.999999</td>\n",
       "      <td>1.000000</td>\n",
       "      <td>0.999990</td>\n",
       "      <td>0.999996</td>\n",
       "      <td>4.524241e-06</td>\n",
       "      <td>10</td>\n",
       "      <td>1.0</td>\n",
       "      <td>1.0</td>\n",
       "      <td>1.0</td>\n",
       "      <td>1.0</td>\n",
       "      <td>0.000000e+00</td>\n",
       "    </tr>\n",
       "  </tbody>\n",
       "</table>\n",
       "</div>"
      ],
      "text/plain": [
       "    mean_fit_time  std_fit_time  mean_score_time  std_score_time  \\\n",
       "0      266.444194      3.608672         1.924617        0.046262   \n",
       "1      409.821555      5.318565         2.983688        0.058415   \n",
       "2      535.836153      3.618124         3.908604        0.063855   \n",
       "3      272.431502      3.734163         2.001857        0.050151   \n",
       "4      435.022745     37.761345         3.872529        1.373138   \n",
       "5      878.049433    111.209953         7.904383        0.106295   \n",
       "6      511.869961      4.635328         3.958132        0.127687   \n",
       "7      766.663261      8.415427         5.891418        0.039533   \n",
       "8     1015.948958      6.995291         7.832233        0.026253   \n",
       "9      558.250794      6.353738         3.539752        0.168172   \n",
       "10     827.774230      5.627386         5.188780        0.071114   \n",
       "11    1107.457348      4.690095         7.000856        0.145745   \n",
       "12     553.523652      1.933863         3.434964        0.084042   \n",
       "13     628.588307     52.034529         2.620014        0.032499   \n",
       "14     639.869231     53.787284         3.615416        0.198548   \n",
       "15     297.286319     11.979573         1.696812        0.014983   \n",
       "16     426.080546      3.546501         2.538172        0.070022   \n",
       "17     451.000786     52.324925         2.732650        0.233757   \n",
       "\n",
       "   param_criterion param_min_samples_split param_n_estimators  \\\n",
       "0             gini                       2                100   \n",
       "1             gini                       2                150   \n",
       "2             gini                       2                200   \n",
       "3             gini                       4                100   \n",
       "4             gini                       4                150   \n",
       "5             gini                       4                200   \n",
       "6             gini                       6                100   \n",
       "7             gini                       6                150   \n",
       "8             gini                       6                200   \n",
       "9          entropy                       2                100   \n",
       "10         entropy                       2                150   \n",
       "11         entropy                       2                200   \n",
       "12         entropy                       4                100   \n",
       "13         entropy                       4                150   \n",
       "14         entropy                       4                200   \n",
       "15         entropy                       6                100   \n",
       "16         entropy                       6                150   \n",
       "17         entropy                       6                200   \n",
       "\n",
       "                                               params  split0_test_score  \\\n",
       "0   {'criterion': 'gini', 'min_samples_split': 2, ...           0.999999   \n",
       "1   {'criterion': 'gini', 'min_samples_split': 2, ...           0.999998   \n",
       "2   {'criterion': 'gini', 'min_samples_split': 2, ...           0.999999   \n",
       "3   {'criterion': 'gini', 'min_samples_split': 4, ...           0.999998   \n",
       "4   {'criterion': 'gini', 'min_samples_split': 4, ...           0.999998   \n",
       "5   {'criterion': 'gini', 'min_samples_split': 4, ...           0.999998   \n",
       "6   {'criterion': 'gini', 'min_samples_split': 6, ...           0.999998   \n",
       "7   {'criterion': 'gini', 'min_samples_split': 6, ...           0.999998   \n",
       "8   {'criterion': 'gini', 'min_samples_split': 6, ...           0.999998   \n",
       "9   {'criterion': 'entropy', 'min_samples_split': ...           0.999999   \n",
       "10  {'criterion': 'entropy', 'min_samples_split': ...           0.999999   \n",
       "11  {'criterion': 'entropy', 'min_samples_split': ...           0.999999   \n",
       "12  {'criterion': 'entropy', 'min_samples_split': ...           0.999999   \n",
       "13  {'criterion': 'entropy', 'min_samples_split': ...           0.999998   \n",
       "14  {'criterion': 'entropy', 'min_samples_split': ...           0.999999   \n",
       "15  {'criterion': 'entropy', 'min_samples_split': ...           0.999999   \n",
       "16  {'criterion': 'entropy', 'min_samples_split': ...           0.999998   \n",
       "17  {'criterion': 'entropy', 'min_samples_split': ...           0.999999   \n",
       "\n",
       "    split1_test_score  split2_test_score  mean_test_score  std_test_score  \\\n",
       "0            0.999992           0.999990         0.999994    3.778139e-06   \n",
       "1            0.999999           0.999990         0.999996    4.098369e-06   \n",
       "2            0.999999           0.999990         0.999996    4.123389e-06   \n",
       "3            0.999999           0.999991         0.999996    3.792513e-06   \n",
       "4            1.000000           0.999990         0.999996    4.405545e-06   \n",
       "5            0.999999           0.999997         0.999998    5.476541e-07   \n",
       "6            0.999999           0.999982         0.999993    8.103952e-06   \n",
       "7            0.999999           0.999990         0.999996    4.242503e-06   \n",
       "8            0.999999           0.999990         0.999996    4.288518e-06   \n",
       "9            0.999992           0.999991         0.999994    3.632116e-06   \n",
       "10           1.000000           0.999990         0.999996    4.512407e-06   \n",
       "11           0.999999           0.999991         0.999996    3.826165e-06   \n",
       "12           1.000000           0.999983         0.999994    7.921681e-06   \n",
       "13           0.999999           0.999991         0.999996    3.646821e-06   \n",
       "14           1.000000           0.999998         0.999999    6.525673e-07   \n",
       "15           0.999999           0.999991         0.999996    3.931255e-06   \n",
       "16           0.999999           0.999990         0.999996    3.838828e-06   \n",
       "17           1.000000           0.999990         0.999996    4.524241e-06   \n",
       "\n",
       "    rank_test_score  split0_train_score  split1_train_score  \\\n",
       "0                17                 1.0                 1.0   \n",
       "1                 7                 1.0                 1.0   \n",
       "2                 6                 1.0                 1.0   \n",
       "3                 9                 1.0                 1.0   \n",
       "4                12                 1.0                 1.0   \n",
       "5                 2                 1.0                 1.0   \n",
       "6                18                 1.0                 1.0   \n",
       "7                13                 1.0                 1.0   \n",
       "8                14                 1.0                 1.0   \n",
       "9                16                 1.0                 1.0   \n",
       "10                5                 1.0                 1.0   \n",
       "11                4                 1.0                 1.0   \n",
       "12               15                 1.0                 1.0   \n",
       "13                8                 1.0                 1.0   \n",
       "14                1                 1.0                 1.0   \n",
       "15                3                 1.0                 1.0   \n",
       "16               11                 1.0                 1.0   \n",
       "17               10                 1.0                 1.0   \n",
       "\n",
       "    split2_train_score  mean_train_score  std_train_score  \n",
       "0                  1.0               1.0     0.000000e+00  \n",
       "1                  1.0               1.0     0.000000e+00  \n",
       "2                  1.0               1.0     6.409876e-17  \n",
       "3                  1.0               1.0     1.281975e-16  \n",
       "4                  1.0               1.0     1.281975e-16  \n",
       "5                  1.0               1.0     0.000000e+00  \n",
       "6                  1.0               1.0     0.000000e+00  \n",
       "7                  1.0               1.0     1.281975e-16  \n",
       "8                  1.0               1.0     6.409876e-17  \n",
       "9                  1.0               1.0     0.000000e+00  \n",
       "10                 1.0               1.0     0.000000e+00  \n",
       "11                 1.0               1.0     0.000000e+00  \n",
       "12                 1.0               1.0     0.000000e+00  \n",
       "13                 1.0               1.0     0.000000e+00  \n",
       "14                 1.0               1.0     6.409876e-17  \n",
       "15                 1.0               1.0     6.409876e-17  \n",
       "16                 1.0               1.0     6.409876e-17  \n",
       "17                 1.0               1.0     0.000000e+00  "
      ]
     },
     "execution_count": 99,
     "metadata": {},
     "output_type": "execute_result"
    }
   ],
   "source": [
    "dfcvrfsmt = pd.DataFrame(gridrfsmt.cv_results_)\n",
    "dfcvrfsmt[dfcvrfsmt[\"mean_train_score\"]==dfcvrfsmt[\"mean_train_score\"].max()]"
   ]
  },
  {
   "cell_type": "code",
   "execution_count": 100,
   "metadata": {},
   "outputs": [],
   "source": [
    "# Rf with best parameteres found in GridSearhCV\n",
    "clfsm = RandomForestClassifier(n_estimators=200,min_samples_split=4,criterion='entropy')"
   ]
  },
  {
   "cell_type": "code",
   "execution_count": 101,
   "metadata": {},
   "outputs": [
    {
     "data": {
      "text/plain": [
       "RandomForestClassifier(criterion='entropy', min_samples_split=4,\n",
       "                       n_estimators=200)"
      ]
     },
     "execution_count": 101,
     "metadata": {},
     "output_type": "execute_result"
    }
   ],
   "source": [
    "clfsm.fit(X_train_smote,y_train_smote)"
   ]
  },
  {
   "cell_type": "code",
   "execution_count": 102,
   "metadata": {},
   "outputs": [
    {
     "name": "stdout",
     "output_type": "stream",
     "text": [
      "              precision    recall  f1-score   support\n",
      "\n",
      "           0       1.00      1.00      1.00    190497\n",
      "           1       1.00      1.00      1.00    190497\n",
      "\n",
      "    accuracy                           1.00    380994\n",
      "   macro avg       1.00      1.00      1.00    380994\n",
      "weighted avg       1.00      1.00      1.00    380994\n",
      "\n"
     ]
    }
   ],
   "source": [
    "print(metrics.classification_report(y_train_smote,clfsm.predict(X_train_smote)))"
   ]
  },
  {
   "cell_type": "code",
   "execution_count": 103,
   "metadata": {},
   "outputs": [
    {
     "name": "stdout",
     "output_type": "stream",
     "text": [
      "              precision    recall  f1-score   support\n",
      "\n",
      "           0       1.00      1.00      1.00     93818\n",
      "           1       0.90      0.84      0.87       169\n",
      "\n",
      "    accuracy                           1.00     93987\n",
      "   macro avg       0.95      0.92      0.93     93987\n",
      "weighted avg       1.00      1.00      1.00     93987\n",
      "\n"
     ]
    }
   ],
   "source": [
    "print(metrics.classification_report(y_test,clfsm.predict(X_test)))"
   ]
  },
  {
   "cell_type": "code",
   "execution_count": 104,
   "metadata": {},
   "outputs": [],
   "source": [
    "sen0=[]\n",
    "sen1=[]\n",
    "for prob in np.linspace(.001,1,100):\n",
    "    cf = metrics.confusion_matrix(y_train_smote,clfsm.predict_proba(X_train_smote)[:,1]>prob)\n",
    "    sensitivity0 = cf[0,0]/(cf[0,0]+cf[0,1])\n",
    "    sensitivity1= cf[1,1]/(cf[1,1]+cf[1,0])\n",
    "    sen0.append(sensitivity0)\n",
    "    sen1.append(sensitivity1)"
   ]
  },
  {
   "cell_type": "code",
   "execution_count": 105,
   "metadata": {
    "scrolled": true
   },
   "outputs": [
    {
     "data": {
      "image/png": "[encoded data removed]",
      "text/plain": [
       "<Figure size 792x360 with 1 Axes>"
      ]
     },
     "metadata": {
      "needs_background": "light"
     },
     "output_type": "display_data"
    }
   ],
   "source": [
    "plt.figure(figsize=(11,5))\n",
    "plt.plot(np.linspace(.001,1,100),sen0,label=\"0\")\n",
    "plt.plot(np.linspace(.001,1,100),sen1,label=\"1\")\n",
    "plt.legend()\n",
    "plt.title(\"Sensitivity/Specificity for Probability Cutoffs\")\n",
    "plt.show()"
   ]
  },
  {
   "cell_type": "code",
   "execution_count": 125,
   "metadata": {},
   "outputs": [
    {
     "name": "stdout",
     "output_type": "stream",
     "text": [
      "              precision    recall  f1-score   support\n",
      "\n",
      "           0       1.00      1.00      1.00    190497\n",
      "           1       1.00      1.00      1.00    190497\n",
      "\n",
      "    accuracy                           1.00    380994\n",
      "   macro avg       1.00      1.00      1.00    380994\n",
      "weighted avg       1.00      1.00      1.00    380994\n",
      "\n"
     ]
    }
   ],
   "source": [
    "print(metrics.classification_report(y_train_smote,clfsm.predict_proba(X_train_smote)[:,1]>.25))"
   ]
  },
  {
   "cell_type": "code",
   "execution_count": 126,
   "metadata": {},
   "outputs": [
    {
     "name": "stdout",
     "output_type": "stream",
     "text": [
      "              precision    recall  f1-score   support\n",
      "\n",
      "           0       1.00      1.00      1.00     93818\n",
      "           1       0.74      0.86      0.79       169\n",
      "\n",
      "    accuracy                           1.00     93987\n",
      "   macro avg       0.87      0.93      0.90     93987\n",
      "weighted avg       1.00      1.00      1.00     93987\n",
      "\n"
     ]
    }
   ],
   "source": [
    "print(metrics.classification_report(y_test,clfsm.predict_proba(X_test)[:,1]>.25))#0.25 is givng better recall and precision"
   ]
  },
  {
   "cell_type": "code",
   "execution_count": 127,
   "metadata": {},
   "outputs": [
    {
     "name": "stdout",
     "output_type": "stream",
     "text": [
      "0.9287222799879058\n"
     ]
    }
   ],
   "source": [
    "print(metrics.roc_auc_score(y_test,clfsm.predict_proba(X_test)[:,1]>.25)) #Random Forest is best model with SMOTE as well"
   ]
  },
  {
   "cell_type": "markdown",
   "metadata": {},
   "source": [
    "### Print the class distribution after applying ADASYN"
   ]
  },
  {
   "cell_type": "code",
   "execution_count": 128,
   "metadata": {},
   "outputs": [
    {
     "data": {
      "text/plain": [
       "<matplotlib.legend.Legend at 0x1d380124ac8>"
      ]
     },
     "execution_count": 128,
     "metadata": {},
     "output_type": "execute_result"
    },
    {
     "data": {
      "image/png": "[encoded data removed]",
      "text/plain": [
       "<Figure size 1440x1440 with 3 Axes>"
      ]
     },
     "metadata": {
      "needs_background": "light"
     },
     "output_type": "display_data"
    }
   ],
   "source": [
    "import warnings\n",
    "warnings.filterwarnings(\"ignore\")\n",
    "\n",
    "from imblearn import over_sampling\n",
    "\n",
    "ada = over_sampling.ADASYN(random_state=0)\n",
    "X_train_adasyn, y_train_adasyn = ada.fit_resample(X_train_pt, y_train)\n",
    "# Artificial minority samples and corresponding minority labels from ADASYN are appended\n",
    "# below X_train and y_train respectively\n",
    "# So to exclusively get the artificial minority samples from ADASYN, we do\n",
    "X_train_adasyn_1 = X_train_adasyn[X_train_pt.shape[0]:]\n",
    "\n",
    "X_train_1 = X_train_pt[np.where(y_train==1.0)]\n",
    "X_train_0 = X_train_pt[np.where(y_train==0.0)]\n",
    "\n",
    "import matplotlib.pyplot as plt\n",
    "%matplotlib inline\n",
    "plt.rcParams['figure.figsize'] = [20, 20]\n",
    "fig = plt.figure()\n",
    "\n",
    "plt.subplot(3, 1, 1)\n",
    "plt.scatter(X_train_1[:, 0], X_train_1[:, 1], label='Actual Class-1 Examples')\n",
    "plt.legend()\n",
    "\n",
    "plt.subplot(3, 1, 2)\n",
    "plt.scatter(X_train_1[:, 0], X_train_1[:, 1], label='Actual Class-1 Examples')\n",
    "plt.scatter(X_train_adasyn_1[:X_train_1.shape[0], 0], X_train_adasyn_1[:X_train_1.shape[0], 1],\n",
    "            label='Artificial ADASYN Class-1 Examples')\n",
    "plt.legend()\n",
    "\n",
    "plt.subplot(3, 1, 3)\n",
    "plt.scatter(X_train_1[:, 0], X_train_1[:, 1], label='Actual Class-1 Examples')\n",
    "plt.scatter(X_train_0[:X_train_1.shape[0], 0], X_train_0[:X_train_1.shape[0], 1], label='Actual Class-0 Examples')\n",
    "plt.legend()"
   ]
  },
  {
   "cell_type": "markdown",
   "metadata": {},
   "source": [
    "# Learning Logistic Regression on Adasyn"
   ]
  },
  {
   "cell_type": "code",
   "execution_count": 129,
   "metadata": {},
   "outputs": [],
   "source": [
    "from sklearn.linear_model import LogisticRegression"
   ]
  },
  {
   "cell_type": "code",
   "execution_count": 130,
   "metadata": {},
   "outputs": [],
   "source": [
    "logad = LogisticRegression() "
   ]
  },
  {
   "cell_type": "code",
   "execution_count": 135,
   "metadata": {},
   "outputs": [
    {
     "data": {
      "text/plain": [
       "LogisticRegression()"
      ]
     },
     "execution_count": 135,
     "metadata": {},
     "output_type": "execute_result"
    }
   ],
   "source": [
    "logad.fit(X_train_adasyn,y_train_adasyn)"
   ]
  },
  {
   "cell_type": "code",
   "execution_count": 136,
   "metadata": {},
   "outputs": [
    {
     "name": "stdout",
     "output_type": "stream",
     "text": [
      "              precision    recall  f1-score   support\n",
      "\n",
      "           0       0.91      0.92      0.91    190497\n",
      "           1       0.92      0.91      0.91    190493\n",
      "\n",
      "    accuracy                           0.91    380990\n",
      "   macro avg       0.91      0.91      0.91    380990\n",
      "weighted avg       0.91      0.91      0.91    380990\n",
      "\n"
     ]
    }
   ],
   "source": [
    "print(metrics.classification_report(y_train_adasyn,logad.predict(X_train_adasyn)))"
   ]
  },
  {
   "cell_type": "code",
   "execution_count": 137,
   "metadata": {},
   "outputs": [
    {
     "name": "stdout",
     "output_type": "stream",
     "text": [
      "              precision    recall  f1-score   support\n",
      "\n",
      "           0       1.00      0.92      0.96     93818\n",
      "           1       0.02      0.93      0.04       169\n",
      "\n",
      "    accuracy                           0.92     93987\n",
      "   macro avg       0.51      0.93      0.50     93987\n",
      "weighted avg       1.00      0.92      0.96     93987\n",
      "\n"
     ]
    }
   ],
   "source": [
    "print(metrics.classification_report(y_test,logad.predict(X_test)))"
   ]
  },
  {
   "cell_type": "markdown",
   "metadata": {},
   "source": [
    "# Cross Validation For logistic Regression on Adasyn"
   ]
  },
  {
   "cell_type": "code",
   "execution_count": 138,
   "metadata": {},
   "outputs": [],
   "source": [
    "from sklearn.model_selection import GridSearchCV"
   ]
  },
  {
   "cell_type": "code",
   "execution_count": 139,
   "metadata": {},
   "outputs": [],
   "source": [
    "param_grid_lgad = {'C':[0.1,1,10,100]}"
   ]
  },
  {
   "cell_type": "code",
   "execution_count": 141,
   "metadata": {},
   "outputs": [],
   "source": [
    "grdlgad =GridSearchCV(logad,param_grid_lgad,cv=3,scoring=\"roc_auc\",return_train_score=True,n_jobs=-1)"
   ]
  },
  {
   "cell_type": "code",
   "execution_count": 143,
   "metadata": {},
   "outputs": [
    {
     "data": {
      "text/plain": [
       "GridSearchCV(cv=3, estimator=LogisticRegression(), n_jobs=-1,\n",
       "             param_grid={'C': [0.1, 1, 10, 100]}, return_train_score=True,\n",
       "             scoring='roc_auc')"
      ]
     },
     "execution_count": 143,
     "metadata": {},
     "output_type": "execute_result"
    }
   ],
   "source": [
    "grdlgad.fit(X_train_adasyn,y_train_adasyn)"
   ]
  },
  {
   "cell_type": "code",
   "execution_count": 144,
   "metadata": {},
   "outputs": [
    {
     "data": {
      "text/html": [
       "<div>\n",
       "<style scoped>\n",
       "    .dataframe tbody tr th:only-of-type {\n",
       "        vertical-align: middle;\n",
       "    }\n",
       "\n",
       "    .dataframe tbody tr th {\n",
       "        vertical-align: top;\n",
       "    }\n",
       "\n",
       "    .dataframe thead th {\n",
       "        text-align: right;\n",
       "    }\n",
       "</style>\n",
       "<table border=\"1\" class=\"dataframe\">\n",
       "  <thead>\n",
       "    <tr style=\"text-align: right;\">\n",
       "      <th></th>\n",
       "      <th>mean_fit_time</th>\n",
       "      <th>std_fit_time</th>\n",
       "      <th>mean_score_time</th>\n",
       "      <th>std_score_time</th>\n",
       "      <th>param_C</th>\n",
       "      <th>params</th>\n",
       "      <th>split0_test_score</th>\n",
       "      <th>split1_test_score</th>\n",
       "      <th>split2_test_score</th>\n",
       "      <th>mean_test_score</th>\n",
       "      <th>std_test_score</th>\n",
       "      <th>rank_test_score</th>\n",
       "      <th>split0_train_score</th>\n",
       "      <th>split1_train_score</th>\n",
       "      <th>split2_train_score</th>\n",
       "      <th>mean_train_score</th>\n",
       "      <th>std_train_score</th>\n",
       "    </tr>\n",
       "  </thead>\n",
       "  <tbody>\n",
       "    <tr>\n",
       "      <td>3</td>\n",
       "      <td>2.049772</td>\n",
       "      <td>0.325168</td>\n",
       "      <td>0.055154</td>\n",
       "      <td>0.013082</td>\n",
       "      <td>100</td>\n",
       "      <td>{'C': 100}</td>\n",
       "      <td>0.969772</td>\n",
       "      <td>0.976072</td>\n",
       "      <td>0.94759</td>\n",
       "      <td>0.964478</td>\n",
       "      <td>0.012215</td>\n",
       "      <td>4</td>\n",
       "      <td>0.971322</td>\n",
       "      <td>0.969668</td>\n",
       "      <td>0.979298</td>\n",
       "      <td>0.973429</td>\n",
       "      <td>0.004205</td>\n",
       "    </tr>\n",
       "  </tbody>\n",
       "</table>\n",
       "</div>"
      ],
      "text/plain": [
       "   mean_fit_time  std_fit_time  mean_score_time  std_score_time param_C  \\\n",
       "3       2.049772      0.325168         0.055154        0.013082     100   \n",
       "\n",
       "       params  split0_test_score  split1_test_score  split2_test_score  \\\n",
       "3  {'C': 100}           0.969772           0.976072            0.94759   \n",
       "\n",
       "   mean_test_score  std_test_score  rank_test_score  split0_train_score  \\\n",
       "3         0.964478        0.012215                4            0.971322   \n",
       "\n",
       "   split1_train_score  split2_train_score  mean_train_score  std_train_score  \n",
       "3            0.969668            0.979298          0.973429         0.004205  "
      ]
     },
     "execution_count": 144,
     "metadata": {},
     "output_type": "execute_result"
    }
   ],
   "source": [
    "dflgada = pd.DataFrame(grdlgad.cv_results_)\n",
    "dflgada[dflgada[\"mean_train_score\"]==dflgada[\"mean_train_score\"].max()]"
   ]
  },
  {
   "cell_type": "code",
   "execution_count": 145,
   "metadata": {},
   "outputs": [],
   "source": [
    "# taking C=100 as per Cross Validation\n",
    "logadcv = LogisticRegression(C=100)"
   ]
  },
  {
   "cell_type": "code",
   "execution_count": 146,
   "metadata": {},
   "outputs": [
    {
     "data": {
      "text/plain": [
       "LogisticRegression(C=100)"
      ]
     },
     "execution_count": 146,
     "metadata": {},
     "output_type": "execute_result"
    }
   ],
   "source": [
    "logadcv.fit(X_train_adasyn,y_train_adasyn)"
   ]
  },
  {
   "cell_type": "code",
   "execution_count": 151,
   "metadata": {},
   "outputs": [
    {
     "name": "stdout",
     "output_type": "stream",
     "text": [
      "              precision    recall  f1-score   support\n",
      "\n",
      "           0       1.00      0.92      0.96     93818\n",
      "           1       0.02      0.93      0.04       169\n",
      "\n",
      "    accuracy                           0.92     93987\n",
      "   macro avg       0.51      0.93      0.50     93987\n",
      "weighted avg       1.00      0.92      0.96     93987\n",
      "\n"
     ]
    }
   ],
   "source": [
    "print(metrics.classification_report(y_test,logadcv.predict(X_test_pt)))"
   ]
  },
  {
   "cell_type": "code",
   "execution_count": 152,
   "metadata": {},
   "outputs": [],
   "source": [
    "sen0=[]\n",
    "sen1=[]\n",
    "\n",
    "for prob in np.linspace(.001,1,100):\n",
    "    cf = metrics.confusion_matrix(y_train_adasyn,logadcv.predict_proba(X_train_adasyn)[:,1]>prob)\n",
    "    sensitivity0 = cf[0,0]/(cf[0,0]+cf[0,1])\n",
    "    sensitivity1= cf[1,1]/(cf[1,1]+cf[1,0])\n",
    "    sen0.append(sensitivity0)\n",
    "    sen1.append(sensitivity1)"
   ]
  },
  {
   "cell_type": "code",
   "execution_count": 153,
   "metadata": {},
   "outputs": [
    {
     "data": {
      "image/png": "[encoded data removed]",
      "text/plain": [
       "<Figure size 792x360 with 1 Axes>"
      ]
     },
     "metadata": {
      "needs_background": "light"
     },
     "output_type": "display_data"
    }
   ],
   "source": [
    "plt.figure(figsize=(11,5))\n",
    "plt.plot(np.linspace(.001,1,100),sen0,label=\"0\")\n",
    "plt.plot(np.linspace(.001,1,100),sen1,label=\"1\")\n",
    "plt.legend()\n",
    "plt.title(\"Sensitivity/Specificity for Probability Cutoffs\")\n",
    "plt.show()"
   ]
  },
  {
   "cell_type": "code",
   "execution_count": 156,
   "metadata": {},
   "outputs": [
    {
     "name": "stdout",
     "output_type": "stream",
     "text": [
      "              precision    recall  f1-score   support\n",
      "\n",
      "           0       0.93      0.90      0.92    190497\n",
      "           1       0.91      0.93      0.92    190493\n",
      "\n",
      "    accuracy                           0.92    380990\n",
      "   macro avg       0.92      0.92      0.92    380990\n",
      "weighted avg       0.92      0.92      0.92    380990\n",
      "\n"
     ]
    }
   ],
   "source": [
    "print(metrics.classification_report(y_train_adasyn,logadcv.predict_proba(X_train_adasyn)[:,1]>0.44))"
   ]
  },
  {
   "cell_type": "code",
   "execution_count": 157,
   "metadata": {},
   "outputs": [
    {
     "name": "stdout",
     "output_type": "stream",
     "text": [
      "              precision    recall  f1-score   support\n",
      "\n",
      "           0       1.00      0.90      0.95     93818\n",
      "           1       0.02      0.95      0.03       169\n",
      "\n",
      "    accuracy                           0.90     93987\n",
      "   macro avg       0.51      0.93      0.49     93987\n",
      "weighted avg       1.00      0.90      0.95     93987\n",
      "\n"
     ]
    }
   ],
   "source": [
    "print(metrics.classification_report(y_test,logadcv.predict_proba(X_test_pt)[:,1]>0.44))"
   ]
  },
  {
   "cell_type": "code",
   "execution_count": 158,
   "metadata": {},
   "outputs": [
    {
     "name": "stdout",
     "output_type": "stream",
     "text": [
      "0.9250824743009284\n"
     ]
    }
   ],
   "source": [
    "print(metrics.roc_auc_score(y_test,logadcv.predict_proba(X_test_pt)[:,1]>0.44))"
   ]
  },
  {
   "cell_type": "markdown",
   "metadata": {},
   "source": [
    "# Learning XGboost on Adasyn"
   ]
  },
  {
   "cell_type": "code",
   "execution_count": 159,
   "metadata": {},
   "outputs": [],
   "source": [
    "import xgboost as xgb"
   ]
  },
  {
   "cell_type": "code",
   "execution_count": 160,
   "metadata": {},
   "outputs": [],
   "source": [
    "xgmad = xgb.XGBClassifier(random_state=1)"
   ]
  },
  {
   "cell_type": "code",
   "execution_count": 161,
   "metadata": {},
   "outputs": [
    {
     "data": {
      "text/plain": [
       "XGBClassifier(base_score=0.5, booster='gbtree', colsample_bylevel=1,\n",
       "              colsample_bynode=1, colsample_bytree=1, gamma=0, gpu_id=-1,\n",
       "              importance_type='gain', interaction_constraints='',\n",
       "              learning_rate=0.300000012, max_delta_step=0, max_depth=6,\n",
       "              min_child_weight=1, missing=nan, monotone_constraints='()',\n",
       "              n_estimators=100, n_jobs=0, num_parallel_tree=1, random_state=1,\n",
       "              reg_alpha=0, reg_lambda=1, scale_pos_weight=1, subsample=1,\n",
       "              tree_method='exact', validate_parameters=1, verbosity=None)"
      ]
     },
     "execution_count": 161,
     "metadata": {},
     "output_type": "execute_result"
    }
   ],
   "source": [
    "xgmad.fit(X_train_adasyn, y_train_adasyn)"
   ]
  },
  {
   "cell_type": "code",
   "execution_count": 163,
   "metadata": {},
   "outputs": [
    {
     "name": "stdout",
     "output_type": "stream",
     "text": [
      "              precision    recall  f1-score   support\n",
      "\n",
      "           0       1.00      1.00      1.00    190497\n",
      "           1       1.00      1.00      1.00    190493\n",
      "\n",
      "    accuracy                           1.00    380990\n",
      "   macro avg       1.00      1.00      1.00    380990\n",
      "weighted avg       1.00      1.00      1.00    380990\n",
      "\n"
     ]
    }
   ],
   "source": [
    "print(metrics.classification_report(y_train_adasyn,xgmad.predict(X_train_adasyn)))"
   ]
  },
  {
   "cell_type": "code",
   "execution_count": 166,
   "metadata": {
    "scrolled": true
   },
   "outputs": [
    {
     "name": "stdout",
     "output_type": "stream",
     "text": [
      "              precision    recall  f1-score   support\n",
      "\n",
      "           0       1.00      1.00      1.00     93818\n",
      "           1       0.75      0.83      0.79       169\n",
      "\n",
      "    accuracy                           1.00     93987\n",
      "   macro avg       0.88      0.91      0.89     93987\n",
      "weighted avg       1.00      1.00      1.00     93987\n",
      "\n"
     ]
    }
   ],
   "source": [
    "print(metrics.classification_report(y_test, xgmad.predict(X_test_pt)))"
   ]
  },
  {
   "cell_type": "code",
   "execution_count": 168,
   "metadata": {},
   "outputs": [],
   "source": [
    "#cross validation\n",
    "from sklearn.model_selection import GridSearchCV"
   ]
  },
  {
   "cell_type": "code",
   "execution_count": 169,
   "metadata": {},
   "outputs": [],
   "source": [
    "param_grid_xgad = {\"learning_rate\":[0.001,.01,1]}\n",
    "gridxad = GridSearchCV(xgmad,param_grid=param_grid_xgad,cv=3,scoring=\"roc_auc\",return_train_score=True,n_jobs=-1)"
   ]
  },
  {
   "cell_type": "code",
   "execution_count": 170,
   "metadata": {},
   "outputs": [
    {
     "data": {
      "text/plain": [
       "GridSearchCV(cv=3,\n",
       "             estimator=XGBClassifier(base_score=0.5, booster='gbtree',\n",
       "                                     colsample_bylevel=1, colsample_bynode=1,\n",
       "                                     colsample_bytree=1, gamma=0, gpu_id=-1,\n",
       "                                     importance_type='gain',\n",
       "                                     interaction_constraints='',\n",
       "                                     learning_rate=0.300000012,\n",
       "                                     max_delta_step=0, max_depth=6,\n",
       "                                     min_child_weight=1, missing=nan,\n",
       "                                     monotone_constraints='()',\n",
       "                                     n_estimators=100, n_jobs=0,\n",
       "                                     num_parallel_tree=1, random_state=1,\n",
       "                                     reg_alpha=0, reg_lambda=1,\n",
       "                                     scale_pos_weight=1, subsample=1,\n",
       "                                     tree_method='exact', validate_parameters=1,\n",
       "                                     verbosity=None),\n",
       "             n_jobs=-1, param_grid={'learning_rate': [0.001, 0.01, 1]},\n",
       "             return_train_score=True, scoring='roc_auc')"
      ]
     },
     "execution_count": 170,
     "metadata": {},
     "output_type": "execute_result"
    }
   ],
   "source": [
    "gridxad.fit(X_train_adasyn,y_train_adasyn)"
   ]
  },
  {
   "cell_type": "code",
   "execution_count": 171,
   "metadata": {},
   "outputs": [
    {
     "data": {
      "text/html": [
       "<div>\n",
       "<style scoped>\n",
       "    .dataframe tbody tr th:only-of-type {\n",
       "        vertical-align: middle;\n",
       "    }\n",
       "\n",
       "    .dataframe tbody tr th {\n",
       "        vertical-align: top;\n",
       "    }\n",
       "\n",
       "    .dataframe thead th {\n",
       "        text-align: right;\n",
       "    }\n",
       "</style>\n",
       "<table border=\"1\" class=\"dataframe\">\n",
       "  <thead>\n",
       "    <tr style=\"text-align: right;\">\n",
       "      <th></th>\n",
       "      <th>mean_fit_time</th>\n",
       "      <th>std_fit_time</th>\n",
       "      <th>mean_score_time</th>\n",
       "      <th>std_score_time</th>\n",
       "      <th>param_learning_rate</th>\n",
       "      <th>params</th>\n",
       "      <th>split0_test_score</th>\n",
       "      <th>split1_test_score</th>\n",
       "      <th>split2_test_score</th>\n",
       "      <th>mean_test_score</th>\n",
       "      <th>std_test_score</th>\n",
       "      <th>rank_test_score</th>\n",
       "      <th>split0_train_score</th>\n",
       "      <th>split1_train_score</th>\n",
       "      <th>split2_train_score</th>\n",
       "      <th>mean_train_score</th>\n",
       "      <th>std_train_score</th>\n",
       "    </tr>\n",
       "  </thead>\n",
       "  <tbody>\n",
       "    <tr>\n",
       "      <td>2</td>\n",
       "      <td>298.850137</td>\n",
       "      <td>42.14699</td>\n",
       "      <td>1.537358</td>\n",
       "      <td>0.216528</td>\n",
       "      <td>1</td>\n",
       "      <td>{'learning_rate': 1}</td>\n",
       "      <td>0.982097</td>\n",
       "      <td>0.999908</td>\n",
       "      <td>0.999698</td>\n",
       "      <td>0.993901</td>\n",
       "      <td>0.008347</td>\n",
       "      <td>1</td>\n",
       "      <td>1.0</td>\n",
       "      <td>1.0</td>\n",
       "      <td>1.0</td>\n",
       "      <td>1.0</td>\n",
       "      <td>0.0</td>\n",
       "    </tr>\n",
       "  </tbody>\n",
       "</table>\n",
       "</div>"
      ],
      "text/plain": [
       "   mean_fit_time  std_fit_time  mean_score_time  std_score_time  \\\n",
       "2     298.850137      42.14699         1.537358        0.216528   \n",
       "\n",
       "  param_learning_rate                params  split0_test_score  \\\n",
       "2                   1  {'learning_rate': 1}           0.982097   \n",
       "\n",
       "   split1_test_score  split2_test_score  mean_test_score  std_test_score  \\\n",
       "2           0.999908           0.999698         0.993901        0.008347   \n",
       "\n",
       "   rank_test_score  split0_train_score  split1_train_score  \\\n",
       "2                1                 1.0                 1.0   \n",
       "\n",
       "   split2_train_score  mean_train_score  std_train_score  \n",
       "2                 1.0               1.0              0.0  "
      ]
     },
     "execution_count": 171,
     "metadata": {},
     "output_type": "execute_result"
    }
   ],
   "source": [
    "dfcvxgd = pd.DataFrame(gridxad.cv_results_)\n",
    "dfcvxgd[dfcvxgd[\"mean_train_score\"]==dfcvxgd[\"mean_train_score\"].max()]"
   ]
  },
  {
   "cell_type": "code",
   "execution_count": 172,
   "metadata": {},
   "outputs": [],
   "source": [
    "xgmadcv = xgb.XGBClassifier(random_state=1,learning_rate=1)"
   ]
  },
  {
   "cell_type": "code",
   "execution_count": 175,
   "metadata": {},
   "outputs": [
    {
     "data": {
      "text/plain": [
       "XGBClassifier(base_score=0.5, booster='gbtree', colsample_bylevel=1,\n",
       "              colsample_bynode=1, colsample_bytree=1, gamma=0, gpu_id=-1,\n",
       "              importance_type='gain', interaction_constraints='',\n",
       "              learning_rate=1, max_delta_step=0, max_depth=6,\n",
       "              min_child_weight=1, missing=nan, monotone_constraints='()',\n",
       "              n_estimators=100, n_jobs=0, num_parallel_tree=1, random_state=1,\n",
       "              reg_alpha=0, reg_lambda=1, scale_pos_weight=1, subsample=1,\n",
       "              tree_method='exact', validate_parameters=1, verbosity=None)"
      ]
     },
     "execution_count": 175,
     "metadata": {},
     "output_type": "execute_result"
    }
   ],
   "source": [
    "xgmadcv.fit(X_train_adasyn,y_train_adasyn)"
   ]
  },
  {
   "cell_type": "code",
   "execution_count": 177,
   "metadata": {},
   "outputs": [
    {
     "name": "stdout",
     "output_type": "stream",
     "text": [
      "              precision    recall  f1-score   support\n",
      "\n",
      "           0       1.00      1.00      1.00     93818\n",
      "           1       0.72      0.80      0.76       169\n",
      "\n",
      "    accuracy                           1.00     93987\n",
      "   macro avg       0.86      0.90      0.88     93987\n",
      "weighted avg       1.00      1.00      1.00     93987\n",
      "\n"
     ]
    }
   ],
   "source": [
    "print(metrics.classification_report(y_test,xgmadcv.predict(X_test_pt)))"
   ]
  },
  {
   "cell_type": "code",
   "execution_count": 178,
   "metadata": {},
   "outputs": [],
   "source": [
    "sen0=[]\n",
    "sen1=[]\n",
    "\n",
    "for prob in np.linspace(.001,1,100):\n",
    "    cf = metrics.confusion_matrix(y_train,xgmadcv.predict_proba(X_train_pt)[:,1]>prob)\n",
    "    sensitivity0 = cf[0,0]/(cf[0,0]+cf[0,1])\n",
    "    sensitivity1= cf[1,1]/(cf[1,1]+cf[1,0])\n",
    "    sen0.append(sensitivity0)\n",
    "    sen1.append(sensitivity1)"
   ]
  },
  {
   "cell_type": "code",
   "execution_count": 179,
   "metadata": {},
   "outputs": [
    {
     "data": {
      "image/png": "[encoded data removed]",
      "text/plain": [
       "<Figure size 792x360 with 1 Axes>"
      ]
     },
     "metadata": {
      "needs_background": "light"
     },
     "output_type": "display_data"
    }
   ],
   "source": [
    "plt.figure(figsize=(11,5))\n",
    "plt.plot(np.linspace(.001,1,100),sen0,label=\"0\")\n",
    "plt.plot(np.linspace(.001,1,100),sen1,label=\"1\")\n",
    "plt.legend()\n",
    "plt.title(\"Sensitivity/Specificity for Probability Cutoffs\")\n",
    "plt.show()"
   ]
  },
  {
   "cell_type": "code",
   "execution_count": 198,
   "metadata": {},
   "outputs": [
    {
     "name": "stdout",
     "output_type": "stream",
     "text": [
      "              precision    recall  f1-score   support\n",
      "\n",
      "           0       1.00      1.00      1.00    190497\n",
      "           1       1.00      1.00      1.00    190493\n",
      "\n",
      "    accuracy                           1.00    380990\n",
      "   macro avg       1.00      1.00      1.00    380990\n",
      "weighted avg       1.00      1.00      1.00    380990\n",
      "\n"
     ]
    }
   ],
   "source": [
    "print(metrics.classification_report(y_train_adasyn,xgmadcv.predict_proba(X_train_adasyn)[:,1]>0.39))"
   ]
  },
  {
   "cell_type": "code",
   "execution_count": 199,
   "metadata": {},
   "outputs": [
    {
     "name": "stdout",
     "output_type": "stream",
     "text": [
      "              precision    recall  f1-score   support\n",
      "\n",
      "           0       1.00      1.00      1.00     93818\n",
      "           1       0.71      0.82      0.76       169\n",
      "\n",
      "    accuracy                           1.00     93987\n",
      "   macro avg       0.86      0.91      0.88     93987\n",
      "weighted avg       1.00      1.00      1.00     93987\n",
      "\n"
     ]
    }
   ],
   "source": [
    "print(metrics.classification_report(y_test,xgmadcv.predict_proba(X_test_pt)[:,1]>0.39))"
   ]
  },
  {
   "cell_type": "code",
   "execution_count": 200,
   "metadata": {},
   "outputs": [
    {
     "name": "stdout",
     "output_type": "stream",
     "text": [
      "0.907985573477844\n"
     ]
    }
   ],
   "source": [
    "print(metrics.roc_auc_score(y_test,xgmadcv.predict_proba(X_test_pt)[:,1]>0.39))"
   ]
  },
  {
   "cell_type": "markdown",
   "metadata": {},
   "source": [
    "# Learning Random Forest on Adasyn"
   ]
  },
  {
   "cell_type": "code",
   "execution_count": 201,
   "metadata": {},
   "outputs": [],
   "source": [
    "from sklearn.ensemble import RandomForestClassifier"
   ]
  },
  {
   "cell_type": "code",
   "execution_count": 203,
   "metadata": {},
   "outputs": [],
   "source": [
    "rfad = RandomForestClassifier(n_estimators=100,random_state=11)"
   ]
  },
  {
   "cell_type": "code",
   "execution_count": 204,
   "metadata": {},
   "outputs": [
    {
     "data": {
      "text/plain": [
       "RandomForestClassifier(random_state=11)"
      ]
     },
     "execution_count": 204,
     "metadata": {},
     "output_type": "execute_result"
    }
   ],
   "source": [
    "rfad.fit(X_train_adasyn,y_train_adasyn)"
   ]
  },
  {
   "cell_type": "code",
   "execution_count": 205,
   "metadata": {},
   "outputs": [
    {
     "name": "stdout",
     "output_type": "stream",
     "text": [
      "              precision    recall  f1-score   support\n",
      "\n",
      "           0       1.00      1.00      1.00    190497\n",
      "           1       1.00      1.00      1.00    190493\n",
      "\n",
      "    accuracy                           1.00    380990\n",
      "   macro avg       1.00      1.00      1.00    380990\n",
      "weighted avg       1.00      1.00      1.00    380990\n",
      "\n"
     ]
    }
   ],
   "source": [
    "print(metrics.classification_report(y_train_adasyn,rfad.predict(X_train_adasyn)))"
   ]
  },
  {
   "cell_type": "code",
   "execution_count": 206,
   "metadata": {},
   "outputs": [
    {
     "name": "stdout",
     "output_type": "stream",
     "text": [
      "              precision    recall  f1-score   support\n",
      "\n",
      "           0       1.00      1.00      1.00     93818\n",
      "           1       0.86      0.79      0.82       169\n",
      "\n",
      "    accuracy                           1.00     93987\n",
      "   macro avg       0.93      0.90      0.91     93987\n",
      "weighted avg       1.00      1.00      1.00     93987\n",
      "\n"
     ]
    }
   ],
   "source": [
    "print(metrics.classification_report(y_test,rfad.predict(X_test_pt)))"
   ]
  },
  {
   "cell_type": "code",
   "execution_count": 207,
   "metadata": {},
   "outputs": [],
   "source": [
    "# Cross Validation on Random Forest and Adasyn\n",
    "from sklearn.model_selection import GridSearchCV"
   ]
  },
  {
   "cell_type": "code",
   "execution_count": 211,
   "metadata": {},
   "outputs": [],
   "source": [
    "param_grid_rfad = {'criterion':['gini','entropy'],'n_estimators':[100,150,200],'min_samples_split':[2,4,6]}"
   ]
  },
  {
   "cell_type": "code",
   "execution_count": 212,
   "metadata": {},
   "outputs": [],
   "source": [
    "gridrfad = GridSearchCV(rfad,param_grid=param_grid_rfad,cv=3,scoring=\"roc_auc\",return_train_score=True,n_jobs=-1)"
   ]
  },
  {
   "cell_type": "code",
   "execution_count": 213,
   "metadata": {},
   "outputs": [
    {
     "data": {
      "text/plain": [
       "GridSearchCV(cv=3, estimator=RandomForestClassifier(random_state=11), n_jobs=-1,\n",
       "             param_grid={'criterion': ['gini', 'entropy'],\n",
       "                         'min_samples_split': [2, 4, 6],\n",
       "                         'n_estimators': [100, 150, 200]},\n",
       "             return_train_score=True, scoring='roc_auc')"
      ]
     },
     "execution_count": 213,
     "metadata": {},
     "output_type": "execute_result"
    }
   ],
   "source": [
    "gridrfad.fit(X_train_adasyn,y_train_adasyn)"
   ]
  },
  {
   "cell_type": "code",
   "execution_count": 214,
   "metadata": {},
   "outputs": [
    {
     "data": {
      "text/html": [
       "<div>\n",
       "<style scoped>\n",
       "    .dataframe tbody tr th:only-of-type {\n",
       "        vertical-align: middle;\n",
       "    }\n",
       "\n",
       "    .dataframe tbody tr th {\n",
       "        vertical-align: top;\n",
       "    }\n",
       "\n",
       "    .dataframe thead th {\n",
       "        text-align: right;\n",
       "    }\n",
       "</style>\n",
       "<table border=\"1\" class=\"dataframe\">\n",
       "  <thead>\n",
       "    <tr style=\"text-align: right;\">\n",
       "      <th></th>\n",
       "      <th>mean_fit_time</th>\n",
       "      <th>std_fit_time</th>\n",
       "      <th>mean_score_time</th>\n",
       "      <th>std_score_time</th>\n",
       "      <th>param_criterion</th>\n",
       "      <th>param_min_samples_split</th>\n",
       "      <th>param_n_estimators</th>\n",
       "      <th>params</th>\n",
       "      <th>split0_test_score</th>\n",
       "      <th>split1_test_score</th>\n",
       "      <th>split2_test_score</th>\n",
       "      <th>mean_test_score</th>\n",
       "      <th>std_test_score</th>\n",
       "      <th>rank_test_score</th>\n",
       "      <th>split0_train_score</th>\n",
       "      <th>split1_train_score</th>\n",
       "      <th>split2_train_score</th>\n",
       "      <th>mean_train_score</th>\n",
       "      <th>std_train_score</th>\n",
       "    </tr>\n",
       "  </thead>\n",
       "  <tbody>\n",
       "    <tr>\n",
       "      <td>0</td>\n",
       "      <td>288.484807</td>\n",
       "      <td>6.466037</td>\n",
       "      <td>1.949790</td>\n",
       "      <td>0.011600</td>\n",
       "      <td>gini</td>\n",
       "      <td>2</td>\n",
       "      <td>100</td>\n",
       "      <td>{'criterion': 'gini', 'min_samples_split': 2, ...</td>\n",
       "      <td>0.987485</td>\n",
       "      <td>0.999922</td>\n",
       "      <td>0.995087</td>\n",
       "      <td>0.994165</td>\n",
       "      <td>0.005119</td>\n",
       "      <td>18</td>\n",
       "      <td>1.0</td>\n",
       "      <td>1.0</td>\n",
       "      <td>1.0</td>\n",
       "      <td>1.0</td>\n",
       "      <td>0.000000e+00</td>\n",
       "    </tr>\n",
       "    <tr>\n",
       "      <td>1</td>\n",
       "      <td>433.815960</td>\n",
       "      <td>10.333364</td>\n",
       "      <td>2.989088</td>\n",
       "      <td>0.071303</td>\n",
       "      <td>gini</td>\n",
       "      <td>2</td>\n",
       "      <td>150</td>\n",
       "      <td>{'criterion': 'gini', 'min_samples_split': 2, ...</td>\n",
       "      <td>0.993820</td>\n",
       "      <td>0.999923</td>\n",
       "      <td>0.996290</td>\n",
       "      <td>0.996678</td>\n",
       "      <td>0.002507</td>\n",
       "      <td>4</td>\n",
       "      <td>1.0</td>\n",
       "      <td>1.0</td>\n",
       "      <td>1.0</td>\n",
       "      <td>1.0</td>\n",
       "      <td>0.000000e+00</td>\n",
       "    </tr>\n",
       "    <tr>\n",
       "      <td>2</td>\n",
       "      <td>575.804586</td>\n",
       "      <td>12.932926</td>\n",
       "      <td>3.982777</td>\n",
       "      <td>0.098509</td>\n",
       "      <td>gini</td>\n",
       "      <td>2</td>\n",
       "      <td>200</td>\n",
       "      <td>{'criterion': 'gini', 'min_samples_split': 2, ...</td>\n",
       "      <td>0.993760</td>\n",
       "      <td>0.999924</td>\n",
       "      <td>0.996968</td>\n",
       "      <td>0.996884</td>\n",
       "      <td>0.002517</td>\n",
       "      <td>3</td>\n",
       "      <td>1.0</td>\n",
       "      <td>1.0</td>\n",
       "      <td>1.0</td>\n",
       "      <td>1.0</td>\n",
       "      <td>0.000000e+00</td>\n",
       "    </tr>\n",
       "    <tr>\n",
       "      <td>3</td>\n",
       "      <td>290.010683</td>\n",
       "      <td>6.822312</td>\n",
       "      <td>1.921296</td>\n",
       "      <td>0.028031</td>\n",
       "      <td>gini</td>\n",
       "      <td>4</td>\n",
       "      <td>100</td>\n",
       "      <td>{'criterion': 'gini', 'min_samples_split': 4, ...</td>\n",
       "      <td>0.989640</td>\n",
       "      <td>0.999924</td>\n",
       "      <td>0.995033</td>\n",
       "      <td>0.994866</td>\n",
       "      <td>0.004200</td>\n",
       "      <td>17</td>\n",
       "      <td>1.0</td>\n",
       "      <td>1.0</td>\n",
       "      <td>1.0</td>\n",
       "      <td>1.0</td>\n",
       "      <td>0.000000e+00</td>\n",
       "    </tr>\n",
       "    <tr>\n",
       "      <td>4</td>\n",
       "      <td>434.154206</td>\n",
       "      <td>11.317523</td>\n",
       "      <td>2.926764</td>\n",
       "      <td>0.110135</td>\n",
       "      <td>gini</td>\n",
       "      <td>4</td>\n",
       "      <td>150</td>\n",
       "      <td>{'criterion': 'gini', 'min_samples_split': 4, ...</td>\n",
       "      <td>0.990681</td>\n",
       "      <td>0.999930</td>\n",
       "      <td>0.996042</td>\n",
       "      <td>0.995551</td>\n",
       "      <td>0.003792</td>\n",
       "      <td>12</td>\n",
       "      <td>1.0</td>\n",
       "      <td>1.0</td>\n",
       "      <td>1.0</td>\n",
       "      <td>1.0</td>\n",
       "      <td>0.000000e+00</td>\n",
       "    </tr>\n",
       "    <tr>\n",
       "      <td>5</td>\n",
       "      <td>577.957737</td>\n",
       "      <td>15.471802</td>\n",
       "      <td>3.815449</td>\n",
       "      <td>0.134629</td>\n",
       "      <td>gini</td>\n",
       "      <td>4</td>\n",
       "      <td>200</td>\n",
       "      <td>{'criterion': 'gini', 'min_samples_split': 4, ...</td>\n",
       "      <td>0.990763</td>\n",
       "      <td>0.999928</td>\n",
       "      <td>0.996599</td>\n",
       "      <td>0.995763</td>\n",
       "      <td>0.003788</td>\n",
       "      <td>8</td>\n",
       "      <td>1.0</td>\n",
       "      <td>1.0</td>\n",
       "      <td>1.0</td>\n",
       "      <td>1.0</td>\n",
       "      <td>0.000000e+00</td>\n",
       "    </tr>\n",
       "    <tr>\n",
       "      <td>6</td>\n",
       "      <td>288.838134</td>\n",
       "      <td>7.166218</td>\n",
       "      <td>1.932520</td>\n",
       "      <td>0.029758</td>\n",
       "      <td>gini</td>\n",
       "      <td>6</td>\n",
       "      <td>100</td>\n",
       "      <td>{'criterion': 'gini', 'min_samples_split': 6, ...</td>\n",
       "      <td>0.989656</td>\n",
       "      <td>0.999921</td>\n",
       "      <td>0.995890</td>\n",
       "      <td>0.995156</td>\n",
       "      <td>0.004223</td>\n",
       "      <td>15</td>\n",
       "      <td>1.0</td>\n",
       "      <td>1.0</td>\n",
       "      <td>1.0</td>\n",
       "      <td>1.0</td>\n",
       "      <td>6.409876e-17</td>\n",
       "    </tr>\n",
       "    <tr>\n",
       "      <td>9</td>\n",
       "      <td>336.621292</td>\n",
       "      <td>9.782344</td>\n",
       "      <td>1.706670</td>\n",
       "      <td>0.012696</td>\n",
       "      <td>entropy</td>\n",
       "      <td>2</td>\n",
       "      <td>100</td>\n",
       "      <td>{'criterion': 'entropy', 'min_samples_split': ...</td>\n",
       "      <td>0.992020</td>\n",
       "      <td>0.999915</td>\n",
       "      <td>0.994997</td>\n",
       "      <td>0.995644</td>\n",
       "      <td>0.003255</td>\n",
       "      <td>10</td>\n",
       "      <td>1.0</td>\n",
       "      <td>1.0</td>\n",
       "      <td>1.0</td>\n",
       "      <td>1.0</td>\n",
       "      <td>0.000000e+00</td>\n",
       "    </tr>\n",
       "    <tr>\n",
       "      <td>10</td>\n",
       "      <td>495.264456</td>\n",
       "      <td>13.371155</td>\n",
       "      <td>2.600034</td>\n",
       "      <td>0.017129</td>\n",
       "      <td>entropy</td>\n",
       "      <td>2</td>\n",
       "      <td>150</td>\n",
       "      <td>{'criterion': 'entropy', 'min_samples_split': ...</td>\n",
       "      <td>0.994137</td>\n",
       "      <td>0.999920</td>\n",
       "      <td>0.996602</td>\n",
       "      <td>0.996886</td>\n",
       "      <td>0.002370</td>\n",
       "      <td>2</td>\n",
       "      <td>1.0</td>\n",
       "      <td>1.0</td>\n",
       "      <td>1.0</td>\n",
       "      <td>1.0</td>\n",
       "      <td>0.000000e+00</td>\n",
       "    </tr>\n",
       "    <tr>\n",
       "      <td>11</td>\n",
       "      <td>665.287112</td>\n",
       "      <td>20.422879</td>\n",
       "      <td>3.441802</td>\n",
       "      <td>0.067391</td>\n",
       "      <td>entropy</td>\n",
       "      <td>2</td>\n",
       "      <td>200</td>\n",
       "      <td>{'criterion': 'entropy', 'min_samples_split': ...</td>\n",
       "      <td>0.994080</td>\n",
       "      <td>0.999919</td>\n",
       "      <td>0.998398</td>\n",
       "      <td>0.997466</td>\n",
       "      <td>0.002473</td>\n",
       "      <td>1</td>\n",
       "      <td>1.0</td>\n",
       "      <td>1.0</td>\n",
       "      <td>1.0</td>\n",
       "      <td>1.0</td>\n",
       "      <td>6.409876e-17</td>\n",
       "    </tr>\n",
       "    <tr>\n",
       "      <td>12</td>\n",
       "      <td>334.680159</td>\n",
       "      <td>8.491859</td>\n",
       "      <td>1.746922</td>\n",
       "      <td>0.068493</td>\n",
       "      <td>entropy</td>\n",
       "      <td>4</td>\n",
       "      <td>100</td>\n",
       "      <td>{'criterion': 'entropy', 'min_samples_split': ...</td>\n",
       "      <td>0.990762</td>\n",
       "      <td>0.999917</td>\n",
       "      <td>0.995462</td>\n",
       "      <td>0.995380</td>\n",
       "      <td>0.003738</td>\n",
       "      <td>13</td>\n",
       "      <td>1.0</td>\n",
       "      <td>1.0</td>\n",
       "      <td>1.0</td>\n",
       "      <td>1.0</td>\n",
       "      <td>0.000000e+00</td>\n",
       "    </tr>\n",
       "    <tr>\n",
       "      <td>13</td>\n",
       "      <td>500.378286</td>\n",
       "      <td>12.994133</td>\n",
       "      <td>2.592513</td>\n",
       "      <td>0.020710</td>\n",
       "      <td>entropy</td>\n",
       "      <td>4</td>\n",
       "      <td>150</td>\n",
       "      <td>{'criterion': 'entropy', 'min_samples_split': ...</td>\n",
       "      <td>0.991195</td>\n",
       "      <td>0.999920</td>\n",
       "      <td>0.997338</td>\n",
       "      <td>0.996151</td>\n",
       "      <td>0.003659</td>\n",
       "      <td>7</td>\n",
       "      <td>1.0</td>\n",
       "      <td>1.0</td>\n",
       "      <td>1.0</td>\n",
       "      <td>1.0</td>\n",
       "      <td>0.000000e+00</td>\n",
       "    </tr>\n",
       "    <tr>\n",
       "      <td>14</td>\n",
       "      <td>670.080226</td>\n",
       "      <td>18.441895</td>\n",
       "      <td>3.445486</td>\n",
       "      <td>0.014373</td>\n",
       "      <td>entropy</td>\n",
       "      <td>4</td>\n",
       "      <td>200</td>\n",
       "      <td>{'criterion': 'entropy', 'min_samples_split': ...</td>\n",
       "      <td>0.991112</td>\n",
       "      <td>0.999917</td>\n",
       "      <td>0.998337</td>\n",
       "      <td>0.996455</td>\n",
       "      <td>0.003833</td>\n",
       "      <td>5</td>\n",
       "      <td>1.0</td>\n",
       "      <td>1.0</td>\n",
       "      <td>1.0</td>\n",
       "      <td>1.0</td>\n",
       "      <td>6.409876e-17</td>\n",
       "    </tr>\n",
       "    <tr>\n",
       "      <td>15</td>\n",
       "      <td>335.951594</td>\n",
       "      <td>7.503079</td>\n",
       "      <td>1.753968</td>\n",
       "      <td>0.062136</td>\n",
       "      <td>entropy</td>\n",
       "      <td>6</td>\n",
       "      <td>100</td>\n",
       "      <td>{'criterion': 'entropy', 'min_samples_split': ...</td>\n",
       "      <td>0.991258</td>\n",
       "      <td>0.999910</td>\n",
       "      <td>0.993510</td>\n",
       "      <td>0.994893</td>\n",
       "      <td>0.003665</td>\n",
       "      <td>16</td>\n",
       "      <td>1.0</td>\n",
       "      <td>1.0</td>\n",
       "      <td>1.0</td>\n",
       "      <td>1.0</td>\n",
       "      <td>6.409876e-17</td>\n",
       "    </tr>\n",
       "  </tbody>\n",
       "</table>\n",
       "</div>"
      ],
      "text/plain": [
       "    mean_fit_time  std_fit_time  mean_score_time  std_score_time  \\\n",
       "0      288.484807      6.466037         1.949790        0.011600   \n",
       "1      433.815960     10.333364         2.989088        0.071303   \n",
       "2      575.804586     12.932926         3.982777        0.098509   \n",
       "3      290.010683      6.822312         1.921296        0.028031   \n",
       "4      434.154206     11.317523         2.926764        0.110135   \n",
       "5      577.957737     15.471802         3.815449        0.134629   \n",
       "6      288.838134      7.166218         1.932520        0.029758   \n",
       "9      336.621292      9.782344         1.706670        0.012696   \n",
       "10     495.264456     13.371155         2.600034        0.017129   \n",
       "11     665.287112     20.422879         3.441802        0.067391   \n",
       "12     334.680159      8.491859         1.746922        0.068493   \n",
       "13     500.378286     12.994133         2.592513        0.020710   \n",
       "14     670.080226     18.441895         3.445486        0.014373   \n",
       "15     335.951594      7.503079         1.753968        0.062136   \n",
       "\n",
       "   param_criterion param_min_samples_split param_n_estimators  \\\n",
       "0             gini                       2                100   \n",
       "1             gini                       2                150   \n",
       "2             gini                       2                200   \n",
       "3             gini                       4                100   \n",
       "4             gini                       4                150   \n",
       "5             gini                       4                200   \n",
       "6             gini                       6                100   \n",
       "9          entropy                       2                100   \n",
       "10         entropy                       2                150   \n",
       "11         entropy                       2                200   \n",
       "12         entropy                       4                100   \n",
       "13         entropy                       4                150   \n",
       "14         entropy                       4                200   \n",
       "15         entropy                       6                100   \n",
       "\n",
       "                                               params  split0_test_score  \\\n",
       "0   {'criterion': 'gini', 'min_samples_split': 2, ...           0.987485   \n",
       "1   {'criterion': 'gini', 'min_samples_split': 2, ...           0.993820   \n",
       "2   {'criterion': 'gini', 'min_samples_split': 2, ...           0.993760   \n",
       "3   {'criterion': 'gini', 'min_samples_split': 4, ...           0.989640   \n",
       "4   {'criterion': 'gini', 'min_samples_split': 4, ...           0.990681   \n",
       "5   {'criterion': 'gini', 'min_samples_split': 4, ...           0.990763   \n",
       "6   {'criterion': 'gini', 'min_samples_split': 6, ...           0.989656   \n",
       "9   {'criterion': 'entropy', 'min_samples_split': ...           0.992020   \n",
       "10  {'criterion': 'entropy', 'min_samples_split': ...           0.994137   \n",
       "11  {'criterion': 'entropy', 'min_samples_split': ...           0.994080   \n",
       "12  {'criterion': 'entropy', 'min_samples_split': ...           0.990762   \n",
       "13  {'criterion': 'entropy', 'min_samples_split': ...           0.991195   \n",
       "14  {'criterion': 'entropy', 'min_samples_split': ...           0.991112   \n",
       "15  {'criterion': 'entropy', 'min_samples_split': ...           0.991258   \n",
       "\n",
       "    split1_test_score  split2_test_score  mean_test_score  std_test_score  \\\n",
       "0            0.999922           0.995087         0.994165        0.005119   \n",
       "1            0.999923           0.996290         0.996678        0.002507   \n",
       "2            0.999924           0.996968         0.996884        0.002517   \n",
       "3            0.999924           0.995033         0.994866        0.004200   \n",
       "4            0.999930           0.996042         0.995551        0.003792   \n",
       "5            0.999928           0.996599         0.995763        0.003788   \n",
       "6            0.999921           0.995890         0.995156        0.004223   \n",
       "9            0.999915           0.994997         0.995644        0.003255   \n",
       "10           0.999920           0.996602         0.996886        0.002370   \n",
       "11           0.999919           0.998398         0.997466        0.002473   \n",
       "12           0.999917           0.995462         0.995380        0.003738   \n",
       "13           0.999920           0.997338         0.996151        0.003659   \n",
       "14           0.999917           0.998337         0.996455        0.003833   \n",
       "15           0.999910           0.993510         0.994893        0.003665   \n",
       "\n",
       "    rank_test_score  split0_train_score  split1_train_score  \\\n",
       "0                18                 1.0                 1.0   \n",
       "1                 4                 1.0                 1.0   \n",
       "2                 3                 1.0                 1.0   \n",
       "3                17                 1.0                 1.0   \n",
       "4                12                 1.0                 1.0   \n",
       "5                 8                 1.0                 1.0   \n",
       "6                15                 1.0                 1.0   \n",
       "9                10                 1.0                 1.0   \n",
       "10                2                 1.0                 1.0   \n",
       "11                1                 1.0                 1.0   \n",
       "12               13                 1.0                 1.0   \n",
       "13                7                 1.0                 1.0   \n",
       "14                5                 1.0                 1.0   \n",
       "15               16                 1.0                 1.0   \n",
       "\n",
       "    split2_train_score  mean_train_score  std_train_score  \n",
       "0                  1.0               1.0     0.000000e+00  \n",
       "1                  1.0               1.0     0.000000e+00  \n",
       "2                  1.0               1.0     0.000000e+00  \n",
       "3                  1.0               1.0     0.000000e+00  \n",
       "4                  1.0               1.0     0.000000e+00  \n",
       "5                  1.0               1.0     0.000000e+00  \n",
       "6                  1.0               1.0     6.409876e-17  \n",
       "9                  1.0               1.0     0.000000e+00  \n",
       "10                 1.0               1.0     0.000000e+00  \n",
       "11                 1.0               1.0     6.409876e-17  \n",
       "12                 1.0               1.0     0.000000e+00  \n",
       "13                 1.0               1.0     0.000000e+00  \n",
       "14                 1.0               1.0     6.409876e-17  \n",
       "15                 1.0               1.0     6.409876e-17  "
      ]
     },
     "execution_count": 214,
     "metadata": {},
     "output_type": "execute_result"
    }
   ],
   "source": [
    "dfcvrfad = pd.DataFrame(gridrfad.cv_results_)\n",
    "\n",
    "dfcvrfad[dfcvrfad[\"mean_train_score\"]==dfcvrfad[\"mean_train_score\"].max()]"
   ]
  },
  {
   "cell_type": "code",
   "execution_count": 215,
   "metadata": {},
   "outputs": [],
   "source": [
    "#Model with optimal CV prameters\n",
    "rfadcv = RandomForestClassifier(n_estimators=200,random_state=11,criterion='entropy',min_samples_split=2)"
   ]
  },
  {
   "cell_type": "code",
   "execution_count": 216,
   "metadata": {},
   "outputs": [
    {
     "data": {
      "text/plain": [
       "RandomForestClassifier(criterion='entropy', n_estimators=200, random_state=11)"
      ]
     },
     "execution_count": 216,
     "metadata": {},
     "output_type": "execute_result"
    }
   ],
   "source": [
    "rfadcv.fit(X_train_adasyn,y_train_adasyn)"
   ]
  },
  {
   "cell_type": "code",
   "execution_count": 218,
   "metadata": {},
   "outputs": [
    {
     "name": "stdout",
     "output_type": "stream",
     "text": [
      "              precision    recall  f1-score   support\n",
      "\n",
      "           0       1.00      1.00      1.00    190497\n",
      "           1       1.00      1.00      1.00    190493\n",
      "\n",
      "    accuracy                           1.00    380990\n",
      "   macro avg       1.00      1.00      1.00    380990\n",
      "weighted avg       1.00      1.00      1.00    380990\n",
      "\n"
     ]
    }
   ],
   "source": [
    "print(metrics.classification_report(y_train_adasyn,rfadcv.predict(X_train_adasyn)))"
   ]
  },
  {
   "cell_type": "code",
   "execution_count": 219,
   "metadata": {},
   "outputs": [
    {
     "name": "stdout",
     "output_type": "stream",
     "text": [
      "              precision    recall  f1-score   support\n",
      "\n",
      "           0       1.00      1.00      1.00     93818\n",
      "           1       0.89      0.82      0.86       169\n",
      "\n",
      "    accuracy                           1.00     93987\n",
      "   macro avg       0.95      0.91      0.93     93987\n",
      "weighted avg       1.00      1.00      1.00     93987\n",
      "\n"
     ]
    }
   ],
   "source": [
    "print(metrics.classification_report(y_test,rfadcv.predict(X_test)))"
   ]
  },
  {
   "cell_type": "code",
   "execution_count": 221,
   "metadata": {},
   "outputs": [],
   "source": [
    "sen0=[]\n",
    "sen1=[]\n",
    "\n",
    "for prob in np.linspace(.001,1,100):\n",
    "    cf = metrics.confusion_matrix(y_train_adasyn,rfadcv.predict_proba(X_train_adasyn)[:,1]>prob)\n",
    "    sensitivity0 = cf[0,0]/(cf[0,0]+cf[0,1])\n",
    "    sensitivity1= cf[1,1]/(cf[1,1]+cf[1,0])\n",
    "    sen0.append(sensitivity0)\n",
    "    sen1.append(sensitivity1)"
   ]
  },
  {
   "cell_type": "code",
   "execution_count": 222,
   "metadata": {},
   "outputs": [
    {
     "data": {
      "image/png": "[encoded data removed]",
      "text/plain": [
       "<Figure size 792x360 with 1 Axes>"
      ]
     },
     "metadata": {
      "needs_background": "light"
     },
     "output_type": "display_data"
    }
   ],
   "source": [
    "plt.figure(figsize=(11,5))\n",
    "plt.plot(np.linspace(.001,1,100),sen0,label=\"0\")\n",
    "plt.plot(np.linspace(.001,1,100),sen1,label=\"1\")\n",
    "plt.legend()\n",
    "plt.title(\"Sensitivity/Specificity for Probability Cutoffs\")\n",
    "plt.show()"
   ]
  },
  {
   "cell_type": "code",
   "execution_count": 238,
   "metadata": {},
   "outputs": [
    {
     "name": "stdout",
     "output_type": "stream",
     "text": [
      "              precision    recall  f1-score   support\n",
      "\n",
      "           0       1.00      1.00      1.00    190497\n",
      "           1       1.00      1.00      1.00    190493\n",
      "\n",
      "    accuracy                           1.00    380990\n",
      "   macro avg       1.00      1.00      1.00    380990\n",
      "weighted avg       1.00      1.00      1.00    380990\n",
      "\n"
     ]
    }
   ],
   "source": [
    "print(metrics.classification_report(y_train_adasyn,rfadcv.predict_proba(X_train_adasyn)[:,1]>0.25))"
   ]
  },
  {
   "cell_type": "code",
   "execution_count": 239,
   "metadata": {},
   "outputs": [
    {
     "name": "stdout",
     "output_type": "stream",
     "text": [
      "              precision    recall  f1-score   support\n",
      "\n",
      "           0       1.00      1.00      1.00     93818\n",
      "           1       0.76      0.86      0.81       169\n",
      "\n",
      "    accuracy                           1.00     93987\n",
      "   macro avg       0.88      0.93      0.90     93987\n",
      "weighted avg       1.00      1.00      1.00     93987\n",
      "\n"
     ]
    }
   ],
   "source": [
    "print(metrics.classification_report(y_test,rfadcv.predict_proba(X_test)[:,1]>0.25))"
   ]
  },
  {
   "cell_type": "code",
   "execution_count": 240,
   "metadata": {},
   "outputs": [
    {
     "name": "stdout",
     "output_type": "stream",
     "text": [
      "0.9287489273263695\n"
     ]
    }
   ],
   "source": [
    "print(metrics.roc_auc_score(y_test,rfadcv.predict_proba(X_test)[:,1]>0.25))"
   ]
  },
  {
   "cell_type": "markdown",
   "metadata": {},
   "source": [
    "### Adasyn and Random Forest has best result of 86 % recall and 76% precision after cross validation\n"
   ]
  },
  {
   "cell_type": "markdown",
   "metadata": {},
   "source": [
    "### Print the important features of the best model to understand the dataset"
   ]
  },
  {
   "cell_type": "code",
   "execution_count": 241,
   "metadata": {},
   "outputs": [
    {
     "name": "stdout",
     "output_type": "stream",
     "text": [
      "Top var = 5\n",
      "2nd Top var = 15\n",
      "3rd Top var = 18\n"
     ]
    },
    {
     "data": {
      "text/plain": [
       "<matplotlib.legend.Legend at 0x1d380a01a48>"
      ]
     },
     "execution_count": 241,
     "metadata": {},
     "output_type": "execute_result"
    },
    {
     "data": {
      "image/png": "[encoded data removed]",
      "text/plain": [
       "<Figure size 1440x1440 with 1 Axes>"
      ]
     },
     "metadata": {
      "needs_background": "light"
     },
     "output_type": "display_data"
    }
   ],
   "source": [
    "var_imp = []\n",
    "for i in rfadcv.feature_importances_:\n",
    "    var_imp.append(i)\n",
    "print('Top var =', var_imp.index(np.sort(rfadcv.feature_importances_)[-1])+1)\n",
    "print('2nd Top var =', var_imp.index(np.sort(rfadcv.feature_importances_)[-2])+1)\n",
    "print('3rd Top var =', var_imp.index(np.sort(rfadcv.feature_importances_)[-3])+1)\n",
    "\n",
    "# Variable on Index-13 and Index-9 seems to be the top 2 variables\n",
    "top_var_index = var_imp.index(np.sort(rfadcv.feature_importances_)[-1])\n",
    "second_top_var_index = var_imp.index(np.sort(rfadcv.feature_importances_)[-2])\n",
    "\n",
    "X_train_1 = X_train.to_numpy()[np.where(y_train==1.0)]\n",
    "X_train_0 = X_train.to_numpy()[np.where(y_train==0.0)]\n",
    "\n",
    "np.random.shuffle(X_train_0)\n",
    "\n",
    "import matplotlib.pyplot as plt\n",
    "%matplotlib inline\n",
    "plt.rcParams['figure.figsize'] = [20, 20]\n",
    "\n",
    "plt.scatter(X_train_1[:, top_var_index], X_train_1[:, second_top_var_index], label='Actual Class-1 Examples')\n",
    "plt.scatter(X_train_0[:X_train_1.shape[0], top_var_index], X_train_0[:X_train_1.shape[0], second_top_var_index],\n",
    "            label='Actual Class-0 Examples')\n",
    "plt.legend()"
   ]
  },
  {
   "cell_type": "code",
   "execution_count": 243,
   "metadata": {},
   "outputs": [
    {
     "name": "stdout",
     "output_type": "stream",
     "text": [
      "Train auc = 0.9999580045879988\n",
      "1\n"
     ]
    }
   ],
   "source": [
    "print('Train auc =', metrics.roc_auc_score(y_train_adasyn,rfadcv.predict_proba(X_train_adasyn)[:,1]>0.25))\n",
    "fpr, tpr, thresholds = metrics.roc_curve(y_train_adasyn,rfadcv.predict_proba(X_train_adasyn)[:,1]>0.25)\n",
    "threshold = thresholds[np.argmax(tpr-fpr)]\n",
    "print(threshold)"
   ]
  },
  {
   "cell_type": "code",
   "execution_count": 4,
   "metadata": {},
   "outputs": [],
   "source": [
    "# Summary of Results\n",
    "#-----------------------#\n",
    "#Without Over Sampling , after cross validation and threshold probability tweaking\n",
    "#Logistic Regression : Precison =3% and Recall = 93%\n",
    "#XGboost             : Precison =3% and Recall = 93%\n",
    "#Random Forest       : Precison =82% and Recall = 85%\n",
    "#----------------#\n",
    "#Applying SMOTE , after cross validation and threshold probability tweaking\n",
    "#----------------#\n",
    "#Logistic Regression : Precison =3% and Recall = 91%\n",
    "#XGboost             : Precison =80% and Recall = 83%\n",
    "#Random Forest       : Precison =74% and Recall = 86%\n",
    "#-----------------#\n",
    "#Applying Adasyn , after cross validation and threshold probability tweaking\n",
    "#-----------------#\n",
    "#Logistic Regression : Precison =2% and Recall = 90%\n",
    "#XGboost             : Precison =71% and Recall = 82%\n",
    "#Random Forest       : Precison =76% and Recall = 86%"
   ]
  },
  {
   "cell_type": "markdown",
   "metadata": {},
   "source": [
    "# Conclusion: Random Forest using Adasyn has best recall of 86% while keeping precision of 76% for minority class / fraud transactions.Still business metric needs to be considered"
   ]
  },
  {
   "cell_type": "code",
   "execution_count": 6,
   "metadata": {},
   "outputs": [],
   "source": [
    "#Below are top 3 features based on Random Forest on adasyn with cross validation\n",
    "#and thresh probability tweaking on train set\n",
    "\n",
    "#Top var = 5\n",
    "#2nd Top var = 15\n",
    "#3rd Top var = 18"
   ]
  }
 ],
 "metadata": {
  "kernelspec": {
   "display_name": "Python 3",
   "language": "python",
   "name": "python3"
  },
  "language_info": {
   "codemirror_mode": {
    "name": "ipython",
    "version": 3
   },
   "file_extension": ".py",
   "mimetype": "text/x-python",
   "name": "python",
   "nbconvert_exporter": "python",
   "pygments_lexer": "ipython3",
   "version": "3.7.4"
  }
 },
 "nbformat": 4,
 "nbformat_minor": 2
}

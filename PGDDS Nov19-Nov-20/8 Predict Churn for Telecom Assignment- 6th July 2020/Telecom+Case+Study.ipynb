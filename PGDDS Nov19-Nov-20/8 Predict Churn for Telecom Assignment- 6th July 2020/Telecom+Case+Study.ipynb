{
 "cells": [
  {
   "cell_type": "markdown",
   "metadata": {},
   "source": [
    "                In this project,1. need to analyse customer-level data of a leading telecom firm,\n",
    "                2. build predictive models to identify customers at high risk of churn\n",
    "                and 3. identify the main indicators of churn.\n",
    "                ================================================================================\n",
    "                                              Data Pipeline\n",
    "                                              =============\n",
    "    High Value Customer Filtering(HVC)| Target (y) identification | Data Cleaning  | EDA | Feature Engineering | Modelling  \n"
   ]
  },
  {
   "cell_type": "code",
   "execution_count": 1,
   "metadata": {},
   "outputs": [],
   "source": [
    "import numpy as np\n",
    "import pandas as pd\n",
    "import seaborn as sns\n",
    "import matplotlib.pyplot as plt\n",
    "import warnings"
   ]
  },
  {
   "cell_type": "code",
   "execution_count": 2,
   "metadata": {},
   "outputs": [],
   "source": [
    "warnings.filterwarnings(\"ignore\")"
   ]
  },
  {
   "cell_type": "code",
   "execution_count": 3,
   "metadata": {},
   "outputs": [],
   "source": [
    "df = pd.read_csv(\"telecom_churn_data.csv\")"
   ]
  },
  {
   "cell_type": "code",
   "execution_count": 4,
   "metadata": {
    "scrolled": true
   },
   "outputs": [
    {
     "data": {
      "text/html": [
       "<div>\n",
       "<style scoped>\n",
       "    .dataframe tbody tr th:only-of-type {\n",
       "        vertical-align: middle;\n",
       "    }\n",
       "\n",
       "    .dataframe tbody tr th {\n",
       "        vertical-align: top;\n",
       "    }\n",
       "\n",
       "    .dataframe thead th {\n",
       "        text-align: right;\n",
       "    }\n",
       "</style>\n",
       "<table border=\"1\" class=\"dataframe\">\n",
       "  <thead>\n",
       "    <tr style=\"text-align: right;\">\n",
       "      <th></th>\n",
       "      <th>mobile_number</th>\n",
       "      <th>circle_id</th>\n",
       "      <th>loc_og_t2o_mou</th>\n",
       "      <th>std_og_t2o_mou</th>\n",
       "      <th>loc_ic_t2o_mou</th>\n",
       "      <th>last_date_of_month_6</th>\n",
       "      <th>last_date_of_month_7</th>\n",
       "      <th>last_date_of_month_8</th>\n",
       "      <th>last_date_of_month_9</th>\n",
       "      <th>arpu_6</th>\n",
       "      <th>...</th>\n",
       "      <th>sachet_3g_9</th>\n",
       "      <th>fb_user_6</th>\n",
       "      <th>fb_user_7</th>\n",
       "      <th>fb_user_8</th>\n",
       "      <th>fb_user_9</th>\n",
       "      <th>aon</th>\n",
       "      <th>aug_vbc_3g</th>\n",
       "      <th>jul_vbc_3g</th>\n",
       "      <th>jun_vbc_3g</th>\n",
       "      <th>sep_vbc_3g</th>\n",
       "    </tr>\n",
       "  </thead>\n",
       "  <tbody>\n",
       "    <tr>\n",
       "      <td>0</td>\n",
       "      <td>7000842753</td>\n",
       "      <td>109</td>\n",
       "      <td>0.0</td>\n",
       "      <td>0.0</td>\n",
       "      <td>0.0</td>\n",
       "      <td>6/30/2014</td>\n",
       "      <td>7/31/2014</td>\n",
       "      <td>8/31/2014</td>\n",
       "      <td>9/30/2014</td>\n",
       "      <td>197.385</td>\n",
       "      <td>...</td>\n",
       "      <td>0</td>\n",
       "      <td>1.0</td>\n",
       "      <td>1.0</td>\n",
       "      <td>1.0</td>\n",
       "      <td>NaN</td>\n",
       "      <td>968</td>\n",
       "      <td>30.4</td>\n",
       "      <td>0.0</td>\n",
       "      <td>101.20</td>\n",
       "      <td>3.58</td>\n",
       "    </tr>\n",
       "    <tr>\n",
       "      <td>1</td>\n",
       "      <td>7001865778</td>\n",
       "      <td>109</td>\n",
       "      <td>0.0</td>\n",
       "      <td>0.0</td>\n",
       "      <td>0.0</td>\n",
       "      <td>6/30/2014</td>\n",
       "      <td>7/31/2014</td>\n",
       "      <td>8/31/2014</td>\n",
       "      <td>9/30/2014</td>\n",
       "      <td>34.047</td>\n",
       "      <td>...</td>\n",
       "      <td>0</td>\n",
       "      <td>NaN</td>\n",
       "      <td>1.0</td>\n",
       "      <td>1.0</td>\n",
       "      <td>NaN</td>\n",
       "      <td>1006</td>\n",
       "      <td>0.0</td>\n",
       "      <td>0.0</td>\n",
       "      <td>0.00</td>\n",
       "      <td>0.00</td>\n",
       "    </tr>\n",
       "    <tr>\n",
       "      <td>2</td>\n",
       "      <td>7001625959</td>\n",
       "      <td>109</td>\n",
       "      <td>0.0</td>\n",
       "      <td>0.0</td>\n",
       "      <td>0.0</td>\n",
       "      <td>6/30/2014</td>\n",
       "      <td>7/31/2014</td>\n",
       "      <td>8/31/2014</td>\n",
       "      <td>9/30/2014</td>\n",
       "      <td>167.690</td>\n",
       "      <td>...</td>\n",
       "      <td>0</td>\n",
       "      <td>NaN</td>\n",
       "      <td>NaN</td>\n",
       "      <td>NaN</td>\n",
       "      <td>1.0</td>\n",
       "      <td>1103</td>\n",
       "      <td>0.0</td>\n",
       "      <td>0.0</td>\n",
       "      <td>4.17</td>\n",
       "      <td>0.00</td>\n",
       "    </tr>\n",
       "    <tr>\n",
       "      <td>3</td>\n",
       "      <td>7001204172</td>\n",
       "      <td>109</td>\n",
       "      <td>0.0</td>\n",
       "      <td>0.0</td>\n",
       "      <td>0.0</td>\n",
       "      <td>6/30/2014</td>\n",
       "      <td>7/31/2014</td>\n",
       "      <td>8/31/2014</td>\n",
       "      <td>9/30/2014</td>\n",
       "      <td>221.338</td>\n",
       "      <td>...</td>\n",
       "      <td>0</td>\n",
       "      <td>NaN</td>\n",
       "      <td>NaN</td>\n",
       "      <td>NaN</td>\n",
       "      <td>NaN</td>\n",
       "      <td>2491</td>\n",
       "      <td>0.0</td>\n",
       "      <td>0.0</td>\n",
       "      <td>0.00</td>\n",
       "      <td>0.00</td>\n",
       "    </tr>\n",
       "    <tr>\n",
       "      <td>4</td>\n",
       "      <td>7000142493</td>\n",
       "      <td>109</td>\n",
       "      <td>0.0</td>\n",
       "      <td>0.0</td>\n",
       "      <td>0.0</td>\n",
       "      <td>6/30/2014</td>\n",
       "      <td>7/31/2014</td>\n",
       "      <td>8/31/2014</td>\n",
       "      <td>9/30/2014</td>\n",
       "      <td>261.636</td>\n",
       "      <td>...</td>\n",
       "      <td>0</td>\n",
       "      <td>0.0</td>\n",
       "      <td>NaN</td>\n",
       "      <td>NaN</td>\n",
       "      <td>NaN</td>\n",
       "      <td>1526</td>\n",
       "      <td>0.0</td>\n",
       "      <td>0.0</td>\n",
       "      <td>0.00</td>\n",
       "      <td>0.00</td>\n",
       "    </tr>\n",
       "  </tbody>\n",
       "</table>\n",
       "<p>5 rows × 226 columns</p>\n",
       "</div>"
      ],
      "text/plain": [
       "   mobile_number  circle_id  loc_og_t2o_mou  std_og_t2o_mou  loc_ic_t2o_mou  \\\n",
       "0     7000842753        109             0.0             0.0             0.0   \n",
       "1     7001865778        109             0.0             0.0             0.0   \n",
       "2     7001625959        109             0.0             0.0             0.0   \n",
       "3     7001204172        109             0.0             0.0             0.0   \n",
       "4     7000142493        109             0.0             0.0             0.0   \n",
       "\n",
       "  last_date_of_month_6 last_date_of_month_7 last_date_of_month_8  \\\n",
       "0            6/30/2014            7/31/2014            8/31/2014   \n",
       "1            6/30/2014            7/31/2014            8/31/2014   \n",
       "2            6/30/2014            7/31/2014            8/31/2014   \n",
       "3            6/30/2014            7/31/2014            8/31/2014   \n",
       "4            6/30/2014            7/31/2014            8/31/2014   \n",
       "\n",
       "  last_date_of_month_9   arpu_6  ...  sachet_3g_9  fb_user_6  fb_user_7  \\\n",
       "0            9/30/2014  197.385  ...            0        1.0        1.0   \n",
       "1            9/30/2014   34.047  ...            0        NaN        1.0   \n",
       "2            9/30/2014  167.690  ...            0        NaN        NaN   \n",
       "3            9/30/2014  221.338  ...            0        NaN        NaN   \n",
       "4            9/30/2014  261.636  ...            0        0.0        NaN   \n",
       "\n",
       "   fb_user_8  fb_user_9   aon  aug_vbc_3g  jul_vbc_3g  jun_vbc_3g  sep_vbc_3g  \n",
       "0        1.0        NaN   968        30.4         0.0      101.20        3.58  \n",
       "1        1.0        NaN  1006         0.0         0.0        0.00        0.00  \n",
       "2        NaN        1.0  1103         0.0         0.0        4.17        0.00  \n",
       "3        NaN        NaN  2491         0.0         0.0        0.00        0.00  \n",
       "4        NaN        NaN  1526         0.0         0.0        0.00        0.00  \n",
       "\n",
       "[5 rows x 226 columns]"
      ]
     },
     "execution_count": 4,
     "metadata": {},
     "output_type": "execute_result"
    }
   ],
   "source": [
    "df.head()"
   ]
  },
  {
   "cell_type": "code",
   "execution_count": 5,
   "metadata": {},
   "outputs": [
    {
     "name": "stdout",
     "output_type": "stream",
     "text": [
      "<class 'pandas.core.frame.DataFrame'>\n",
      "RangeIndex: 99999 entries, 0 to 99998\n",
      "Columns: 226 entries, mobile_number to sep_vbc_3g\n",
      "dtypes: float64(179), int64(35), object(12)\n",
      "memory usage: 172.4+ MB\n"
     ]
    }
   ],
   "source": [
    "df.info()"
   ]
  },
  {
   "cell_type": "code",
   "execution_count": 6,
   "metadata": {},
   "outputs": [],
   "source": [
    "#Derive new features == df[\"Avg_rech_good_phase\"]\n",
    "#Filter high-value customers ---X is the 70th percentile of the average recharge amount in the first two month\n",
    "#After tagging churners\n",
    "#remove all the attributes corresponding to the churn phase (all attributes having ‘ _9’, etc. in their names)"
   ]
  },
  {
   "cell_type": "code",
   "execution_count": 7,
   "metadata": {},
   "outputs": [
    {
     "data": {
      "text/plain": [
       "total_rech_amt_6    0\n",
       "total_rech_amt_7    0\n",
       "dtype: int64"
      ]
     },
     "execution_count": 7,
     "metadata": {},
     "output_type": "execute_result"
    }
   ],
   "source": [
    "df[[\"total_rech_amt_6\",\"total_rech_amt_7\"]].isnull().sum() # Having No Null Values in these two fields"
   ]
  },
  {
   "cell_type": "code",
   "execution_count": 8,
   "metadata": {},
   "outputs": [],
   "source": [
    "df[\"Avg_rech_good_phase\"] = round((df[\"total_rech_amt_6\"]+df[\"total_rech_amt_7\"]) /2,2)"
   ]
  },
  {
   "cell_type": "code",
   "execution_count": 9,
   "metadata": {},
   "outputs": [
    {
     "data": {
      "text/plain": [
       "368.5"
      ]
     },
     "execution_count": 9,
     "metadata": {},
     "output_type": "execute_result"
    }
   ],
   "source": [
    "np.quantile(df[\"Avg_rech_good_phase\"],0.7)"
   ]
  },
  {
   "cell_type": "code",
   "execution_count": 10,
   "metadata": {},
   "outputs": [],
   "source": [
    "df = df[df[\"Avg_rech_good_phase\"]>=np.quantile(df[\"Avg_rech_good_phase\"],0.7)] # HCV -- rows with high value customers"
   ]
  },
  {
   "cell_type": "code",
   "execution_count": 11,
   "metadata": {},
   "outputs": [
    {
     "data": {
      "text/plain": [
       "30011"
      ]
     },
     "execution_count": 11,
     "metadata": {},
     "output_type": "execute_result"
    }
   ],
   "source": [
    "len(df)"
   ]
  },
  {
   "cell_type": "code",
   "execution_count": 12,
   "metadata": {
    "scrolled": true
   },
   "outputs": [
    {
     "data": {
      "text/html": [
       "<div>\n",
       "<style scoped>\n",
       "    .dataframe tbody tr th:only-of-type {\n",
       "        vertical-align: middle;\n",
       "    }\n",
       "\n",
       "    .dataframe tbody tr th {\n",
       "        vertical-align: top;\n",
       "    }\n",
       "\n",
       "    .dataframe thead th {\n",
       "        text-align: right;\n",
       "    }\n",
       "</style>\n",
       "<table border=\"1\" class=\"dataframe\">\n",
       "  <thead>\n",
       "    <tr style=\"text-align: right;\">\n",
       "      <th></th>\n",
       "      <th>total_ic_mou_9</th>\n",
       "      <th>total_og_mou_9</th>\n",
       "      <th>vol_2g_mb_9</th>\n",
       "      <th>vol_3g_mb_9</th>\n",
       "      <th>total_rech_amt_6</th>\n",
       "      <th>total_rech_amt_7</th>\n",
       "      <th>Avg_rech_good_phase</th>\n",
       "      <th>total_rech_amt_8</th>\n",
       "    </tr>\n",
       "  </thead>\n",
       "  <tbody>\n",
       "    <tr>\n",
       "      <td>7</td>\n",
       "      <td>0.00</td>\n",
       "      <td>0.00</td>\n",
       "      <td>0.0</td>\n",
       "      <td>0.0</td>\n",
       "      <td>1580</td>\n",
       "      <td>790</td>\n",
       "      <td>1185.0</td>\n",
       "      <td>3638</td>\n",
       "    </tr>\n",
       "    <tr>\n",
       "      <td>8</td>\n",
       "      <td>34.91</td>\n",
       "      <td>142.18</td>\n",
       "      <td>0.0</td>\n",
       "      <td>0.0</td>\n",
       "      <td>437</td>\n",
       "      <td>601</td>\n",
       "      <td>519.0</td>\n",
       "      <td>120</td>\n",
       "    </tr>\n",
       "    <tr>\n",
       "      <td>13</td>\n",
       "      <td>631.86</td>\n",
       "      <td>446.09</td>\n",
       "      <td>0.0</td>\n",
       "      <td>0.0</td>\n",
       "      <td>507</td>\n",
       "      <td>253</td>\n",
       "      <td>380.0</td>\n",
       "      <td>717</td>\n",
       "    </tr>\n",
       "    <tr>\n",
       "      <td>16</td>\n",
       "      <td>334.56</td>\n",
       "      <td>255.74</td>\n",
       "      <td>0.0</td>\n",
       "      <td>0.0</td>\n",
       "      <td>570</td>\n",
       "      <td>348</td>\n",
       "      <td>459.0</td>\n",
       "      <td>160</td>\n",
       "    </tr>\n",
       "    <tr>\n",
       "      <td>17</td>\n",
       "      <td>87.13</td>\n",
       "      <td>631.08</td>\n",
       "      <td>0.0</td>\n",
       "      <td>0.0</td>\n",
       "      <td>816</td>\n",
       "      <td>0</td>\n",
       "      <td>408.0</td>\n",
       "      <td>30</td>\n",
       "    </tr>\n",
       "  </tbody>\n",
       "</table>\n",
       "</div>"
      ],
      "text/plain": [
       "    total_ic_mou_9  total_og_mou_9  vol_2g_mb_9  vol_3g_mb_9  \\\n",
       "7             0.00            0.00          0.0          0.0   \n",
       "8            34.91          142.18          0.0          0.0   \n",
       "13          631.86          446.09          0.0          0.0   \n",
       "16          334.56          255.74          0.0          0.0   \n",
       "17           87.13          631.08          0.0          0.0   \n",
       "\n",
       "    total_rech_amt_6  total_rech_amt_7  Avg_rech_good_phase  total_rech_amt_8  \n",
       "7               1580               790               1185.0              3638  \n",
       "8                437               601                519.0               120  \n",
       "13               507               253                380.0               717  \n",
       "16               570               348                459.0               160  \n",
       "17               816                 0                408.0                30  "
      ]
     },
     "execution_count": 12,
     "metadata": {},
     "output_type": "execute_result"
    }
   ],
   "source": [
    "df[[\"total_ic_mou_9\",\"total_og_mou_9\",\"vol_2g_mb_9\",\"vol_3g_mb_9\",\"total_rech_amt_6\",\n",
    "    \"total_rech_amt_7\",\"Avg_rech_good_phase\",\"total_rech_amt_8\"]][:5]"
   ]
  },
  {
   "cell_type": "code",
   "execution_count": 13,
   "metadata": {},
   "outputs": [
    {
     "data": {
      "text/plain": [
       "total_ic_mou_9    0\n",
       "total_og_mou_9    0\n",
       "vol_2g_mb_9       0\n",
       "vol_3g_mb_9       0\n",
       "dtype: int64"
      ]
     },
     "execution_count": 13,
     "metadata": {},
     "output_type": "execute_result"
    }
   ],
   "source": [
    "df[[\"total_ic_mou_9\",\"total_og_mou_9\",\"vol_2g_mb_9\",\"vol_3g_mb_9\"]].isnull().sum() #Having No Null Values in these fields"
   ]
  },
  {
   "cell_type": "code",
   "execution_count": 14,
   "metadata": {},
   "outputs": [],
   "source": [
    "df[\"Churn\"]=0 # Creating Churn Coulumn (y) and initializing it with 0"
   ]
  },
  {
   "cell_type": "code",
   "execution_count": 15,
   "metadata": {},
   "outputs": [],
   "source": [
    "df.loc[(df[\"total_ic_mou_9\"]==0)&(df[\"total_og_mou_9\"]==0)&(df[\"vol_2g_mb_9\"]==0)&(df[\"vol_3g_mb_9\"]==0),\"Churn\"] = 1"
   ]
  },
  {
   "cell_type": "code",
   "execution_count": 16,
   "metadata": {},
   "outputs": [
    {
     "data": {
      "text/plain": [
       "0    91.36\n",
       "1     8.64\n",
       "Name: Churn, dtype: float64"
      ]
     },
     "execution_count": 16,
     "metadata": {},
     "output_type": "execute_result"
    }
   ],
   "source": [
    "round(df[\"Churn\"].value_counts() /len(df)*100,2) # Imbalance Data set Class 0 : 91 % and Class 1 : 9 %"
   ]
  },
  {
   "cell_type": "code",
   "execution_count": 17,
   "metadata": {},
   "outputs": [],
   "source": [
    "sel_cols =[]\n",
    "for col in df.columns:\n",
    "    if \"_9\" not in col:\n",
    "        sel_cols.append(col)"
   ]
  },
  {
   "cell_type": "code",
   "execution_count": 18,
   "metadata": {},
   "outputs": [
    {
     "data": {
      "text/plain": [
       "54"
      ]
     },
     "execution_count": 18,
     "metadata": {},
     "output_type": "execute_result"
    }
   ],
   "source": [
    "len(df.columns)-len(sel_cols)"
   ]
  },
  {
   "cell_type": "code",
   "execution_count": 19,
   "metadata": {},
   "outputs": [],
   "source": [
    "df_sel = df[sel_cols] # Dropping data having _9 (9th month Data)"
   ]
  },
  {
   "cell_type": "code",
   "execution_count": 20,
   "metadata": {},
   "outputs": [
    {
     "data": {
      "text/html": [
       "<div>\n",
       "<style scoped>\n",
       "    .dataframe tbody tr th:only-of-type {\n",
       "        vertical-align: middle;\n",
       "    }\n",
       "\n",
       "    .dataframe tbody tr th {\n",
       "        vertical-align: top;\n",
       "    }\n",
       "\n",
       "    .dataframe thead th {\n",
       "        text-align: right;\n",
       "    }\n",
       "</style>\n",
       "<table border=\"1\" class=\"dataframe\">\n",
       "  <thead>\n",
       "    <tr style=\"text-align: right;\">\n",
       "      <th></th>\n",
       "      <th>mobile_number</th>\n",
       "      <th>circle_id</th>\n",
       "      <th>loc_og_t2o_mou</th>\n",
       "      <th>std_og_t2o_mou</th>\n",
       "      <th>loc_ic_t2o_mou</th>\n",
       "      <th>last_date_of_month_6</th>\n",
       "      <th>last_date_of_month_7</th>\n",
       "      <th>last_date_of_month_8</th>\n",
       "      <th>arpu_6</th>\n",
       "      <th>arpu_7</th>\n",
       "      <th>...</th>\n",
       "      <th>fb_user_6</th>\n",
       "      <th>fb_user_7</th>\n",
       "      <th>fb_user_8</th>\n",
       "      <th>aon</th>\n",
       "      <th>aug_vbc_3g</th>\n",
       "      <th>jul_vbc_3g</th>\n",
       "      <th>jun_vbc_3g</th>\n",
       "      <th>sep_vbc_3g</th>\n",
       "      <th>Avg_rech_good_phase</th>\n",
       "      <th>Churn</th>\n",
       "    </tr>\n",
       "  </thead>\n",
       "  <tbody>\n",
       "    <tr>\n",
       "      <td>7</td>\n",
       "      <td>7000701601</td>\n",
       "      <td>109</td>\n",
       "      <td>0.0</td>\n",
       "      <td>0.0</td>\n",
       "      <td>0.0</td>\n",
       "      <td>6/30/2014</td>\n",
       "      <td>7/31/2014</td>\n",
       "      <td>8/31/2014</td>\n",
       "      <td>1069.180</td>\n",
       "      <td>1349.850</td>\n",
       "      <td>...</td>\n",
       "      <td>NaN</td>\n",
       "      <td>NaN</td>\n",
       "      <td>NaN</td>\n",
       "      <td>802</td>\n",
       "      <td>57.74</td>\n",
       "      <td>19.38</td>\n",
       "      <td>18.74</td>\n",
       "      <td>0.0</td>\n",
       "      <td>1185.0</td>\n",
       "      <td>1</td>\n",
       "    </tr>\n",
       "    <tr>\n",
       "      <td>8</td>\n",
       "      <td>7001524846</td>\n",
       "      <td>109</td>\n",
       "      <td>0.0</td>\n",
       "      <td>0.0</td>\n",
       "      <td>0.0</td>\n",
       "      <td>6/30/2014</td>\n",
       "      <td>7/31/2014</td>\n",
       "      <td>8/31/2014</td>\n",
       "      <td>378.721</td>\n",
       "      <td>492.223</td>\n",
       "      <td>...</td>\n",
       "      <td>NaN</td>\n",
       "      <td>1.0</td>\n",
       "      <td>1.0</td>\n",
       "      <td>315</td>\n",
       "      <td>21.03</td>\n",
       "      <td>910.65</td>\n",
       "      <td>122.16</td>\n",
       "      <td>0.0</td>\n",
       "      <td>519.0</td>\n",
       "      <td>0</td>\n",
       "    </tr>\n",
       "    <tr>\n",
       "      <td>13</td>\n",
       "      <td>7002191713</td>\n",
       "      <td>109</td>\n",
       "      <td>0.0</td>\n",
       "      <td>0.0</td>\n",
       "      <td>0.0</td>\n",
       "      <td>6/30/2014</td>\n",
       "      <td>7/31/2014</td>\n",
       "      <td>8/31/2014</td>\n",
       "      <td>492.846</td>\n",
       "      <td>205.671</td>\n",
       "      <td>...</td>\n",
       "      <td>NaN</td>\n",
       "      <td>NaN</td>\n",
       "      <td>1.0</td>\n",
       "      <td>2607</td>\n",
       "      <td>0.00</td>\n",
       "      <td>0.00</td>\n",
       "      <td>0.00</td>\n",
       "      <td>0.0</td>\n",
       "      <td>380.0</td>\n",
       "      <td>0</td>\n",
       "    </tr>\n",
       "    <tr>\n",
       "      <td>16</td>\n",
       "      <td>7000875565</td>\n",
       "      <td>109</td>\n",
       "      <td>0.0</td>\n",
       "      <td>0.0</td>\n",
       "      <td>0.0</td>\n",
       "      <td>6/30/2014</td>\n",
       "      <td>7/31/2014</td>\n",
       "      <td>8/31/2014</td>\n",
       "      <td>430.975</td>\n",
       "      <td>299.869</td>\n",
       "      <td>...</td>\n",
       "      <td>NaN</td>\n",
       "      <td>NaN</td>\n",
       "      <td>NaN</td>\n",
       "      <td>511</td>\n",
       "      <td>0.00</td>\n",
       "      <td>2.45</td>\n",
       "      <td>21.89</td>\n",
       "      <td>0.0</td>\n",
       "      <td>459.0</td>\n",
       "      <td>0</td>\n",
       "    </tr>\n",
       "    <tr>\n",
       "      <td>17</td>\n",
       "      <td>7000187447</td>\n",
       "      <td>109</td>\n",
       "      <td>0.0</td>\n",
       "      <td>0.0</td>\n",
       "      <td>0.0</td>\n",
       "      <td>6/30/2014</td>\n",
       "      <td>7/31/2014</td>\n",
       "      <td>8/31/2014</td>\n",
       "      <td>690.008</td>\n",
       "      <td>18.980</td>\n",
       "      <td>...</td>\n",
       "      <td>NaN</td>\n",
       "      <td>NaN</td>\n",
       "      <td>NaN</td>\n",
       "      <td>667</td>\n",
       "      <td>0.00</td>\n",
       "      <td>0.00</td>\n",
       "      <td>0.00</td>\n",
       "      <td>0.0</td>\n",
       "      <td>408.0</td>\n",
       "      <td>0</td>\n",
       "    </tr>\n",
       "  </tbody>\n",
       "</table>\n",
       "<p>5 rows × 174 columns</p>\n",
       "</div>"
      ],
      "text/plain": [
       "    mobile_number  circle_id  loc_og_t2o_mou  std_og_t2o_mou  loc_ic_t2o_mou  \\\n",
       "7      7000701601        109             0.0             0.0             0.0   \n",
       "8      7001524846        109             0.0             0.0             0.0   \n",
       "13     7002191713        109             0.0             0.0             0.0   \n",
       "16     7000875565        109             0.0             0.0             0.0   \n",
       "17     7000187447        109             0.0             0.0             0.0   \n",
       "\n",
       "   last_date_of_month_6 last_date_of_month_7 last_date_of_month_8    arpu_6  \\\n",
       "7             6/30/2014            7/31/2014            8/31/2014  1069.180   \n",
       "8             6/30/2014            7/31/2014            8/31/2014   378.721   \n",
       "13            6/30/2014            7/31/2014            8/31/2014   492.846   \n",
       "16            6/30/2014            7/31/2014            8/31/2014   430.975   \n",
       "17            6/30/2014            7/31/2014            8/31/2014   690.008   \n",
       "\n",
       "      arpu_7  ...  fb_user_6  fb_user_7  fb_user_8   aon  aug_vbc_3g  \\\n",
       "7   1349.850  ...        NaN        NaN        NaN   802       57.74   \n",
       "8    492.223  ...        NaN        1.0        1.0   315       21.03   \n",
       "13   205.671  ...        NaN        NaN        1.0  2607        0.00   \n",
       "16   299.869  ...        NaN        NaN        NaN   511        0.00   \n",
       "17    18.980  ...        NaN        NaN        NaN   667        0.00   \n",
       "\n",
       "    jul_vbc_3g  jun_vbc_3g  sep_vbc_3g  Avg_rech_good_phase  Churn  \n",
       "7        19.38       18.74         0.0               1185.0      1  \n",
       "8       910.65      122.16         0.0                519.0      0  \n",
       "13        0.00        0.00         0.0                380.0      0  \n",
       "16        2.45       21.89         0.0                459.0      0  \n",
       "17        0.00        0.00         0.0                408.0      0  \n",
       "\n",
       "[5 rows x 174 columns]"
      ]
     },
     "execution_count": 20,
     "metadata": {},
     "output_type": "execute_result"
    }
   ],
   "source": [
    "df_sel.head()"
   ]
  },
  {
   "cell_type": "code",
   "execution_count": 21,
   "metadata": {},
   "outputs": [],
   "source": [
    "#Data Cleaning -- Checking and dropping columns with > 60 % missing Values on case to case basis"
   ]
  },
  {
   "cell_type": "code",
   "execution_count": 22,
   "metadata": {},
   "outputs": [],
   "source": [
    "df_drp = round(df_sel.isnull().sum()/len(df) * 100,2)"
   ]
  },
  {
   "cell_type": "code",
   "execution_count": 23,
   "metadata": {},
   "outputs": [],
   "source": [
    "df_drp = df_drp.reset_index()"
   ]
  },
  {
   "cell_type": "code",
   "execution_count": 24,
   "metadata": {},
   "outputs": [],
   "source": [
    "df_drp.columns = [\"Features\",\"Missing Percentage\"]"
   ]
  },
  {
   "cell_type": "code",
   "execution_count": 25,
   "metadata": {},
   "outputs": [
    {
     "data": {
      "text/html": [
       "<div>\n",
       "<style scoped>\n",
       "    .dataframe tbody tr th:only-of-type {\n",
       "        vertical-align: middle;\n",
       "    }\n",
       "\n",
       "    .dataframe tbody tr th {\n",
       "        vertical-align: top;\n",
       "    }\n",
       "\n",
       "    .dataframe thead th {\n",
       "        text-align: right;\n",
       "    }\n",
       "</style>\n",
       "<table border=\"1\" class=\"dataframe\">\n",
       "  <thead>\n",
       "    <tr style=\"text-align: right;\">\n",
       "      <th></th>\n",
       "      <th>Features</th>\n",
       "      <th>Missing Percentage</th>\n",
       "    </tr>\n",
       "  </thead>\n",
       "  <tbody>\n",
       "    <tr>\n",
       "      <td>119</td>\n",
       "      <td>date_of_last_rech_data_6</td>\n",
       "      <td>62.02</td>\n",
       "    </tr>\n",
       "    <tr>\n",
       "      <td>120</td>\n",
       "      <td>date_of_last_rech_data_7</td>\n",
       "      <td>61.14</td>\n",
       "    </tr>\n",
       "    <tr>\n",
       "      <td>121</td>\n",
       "      <td>date_of_last_rech_data_8</td>\n",
       "      <td>60.83</td>\n",
       "    </tr>\n",
       "    <tr>\n",
       "      <td>122</td>\n",
       "      <td>total_rech_data_6</td>\n",
       "      <td>62.02</td>\n",
       "    </tr>\n",
       "    <tr>\n",
       "      <td>123</td>\n",
       "      <td>total_rech_data_7</td>\n",
       "      <td>61.14</td>\n",
       "    </tr>\n",
       "    <tr>\n",
       "      <td>124</td>\n",
       "      <td>total_rech_data_8</td>\n",
       "      <td>60.83</td>\n",
       "    </tr>\n",
       "    <tr>\n",
       "      <td>125</td>\n",
       "      <td>max_rech_data_6</td>\n",
       "      <td>62.02</td>\n",
       "    </tr>\n",
       "    <tr>\n",
       "      <td>126</td>\n",
       "      <td>max_rech_data_7</td>\n",
       "      <td>61.14</td>\n",
       "    </tr>\n",
       "    <tr>\n",
       "      <td>127</td>\n",
       "      <td>max_rech_data_8</td>\n",
       "      <td>60.83</td>\n",
       "    </tr>\n",
       "    <tr>\n",
       "      <td>128</td>\n",
       "      <td>count_rech_2g_6</td>\n",
       "      <td>62.02</td>\n",
       "    </tr>\n",
       "    <tr>\n",
       "      <td>129</td>\n",
       "      <td>count_rech_2g_7</td>\n",
       "      <td>61.14</td>\n",
       "    </tr>\n",
       "    <tr>\n",
       "      <td>130</td>\n",
       "      <td>count_rech_2g_8</td>\n",
       "      <td>60.83</td>\n",
       "    </tr>\n",
       "    <tr>\n",
       "      <td>131</td>\n",
       "      <td>count_rech_3g_6</td>\n",
       "      <td>62.02</td>\n",
       "    </tr>\n",
       "    <tr>\n",
       "      <td>132</td>\n",
       "      <td>count_rech_3g_7</td>\n",
       "      <td>61.14</td>\n",
       "    </tr>\n",
       "    <tr>\n",
       "      <td>133</td>\n",
       "      <td>count_rech_3g_8</td>\n",
       "      <td>60.83</td>\n",
       "    </tr>\n",
       "    <tr>\n",
       "      <td>134</td>\n",
       "      <td>av_rech_amt_data_6</td>\n",
       "      <td>62.02</td>\n",
       "    </tr>\n",
       "    <tr>\n",
       "      <td>135</td>\n",
       "      <td>av_rech_amt_data_7</td>\n",
       "      <td>61.14</td>\n",
       "    </tr>\n",
       "    <tr>\n",
       "      <td>136</td>\n",
       "      <td>av_rech_amt_data_8</td>\n",
       "      <td>60.83</td>\n",
       "    </tr>\n",
       "    <tr>\n",
       "      <td>143</td>\n",
       "      <td>arpu_3g_6</td>\n",
       "      <td>62.02</td>\n",
       "    </tr>\n",
       "    <tr>\n",
       "      <td>144</td>\n",
       "      <td>arpu_3g_7</td>\n",
       "      <td>61.14</td>\n",
       "    </tr>\n",
       "    <tr>\n",
       "      <td>145</td>\n",
       "      <td>arpu_3g_8</td>\n",
       "      <td>60.83</td>\n",
       "    </tr>\n",
       "    <tr>\n",
       "      <td>146</td>\n",
       "      <td>arpu_2g_6</td>\n",
       "      <td>62.02</td>\n",
       "    </tr>\n",
       "    <tr>\n",
       "      <td>147</td>\n",
       "      <td>arpu_2g_7</td>\n",
       "      <td>61.14</td>\n",
       "    </tr>\n",
       "    <tr>\n",
       "      <td>148</td>\n",
       "      <td>arpu_2g_8</td>\n",
       "      <td>60.83</td>\n",
       "    </tr>\n",
       "    <tr>\n",
       "      <td>149</td>\n",
       "      <td>night_pck_user_6</td>\n",
       "      <td>62.02</td>\n",
       "    </tr>\n",
       "    <tr>\n",
       "      <td>150</td>\n",
       "      <td>night_pck_user_7</td>\n",
       "      <td>61.14</td>\n",
       "    </tr>\n",
       "    <tr>\n",
       "      <td>151</td>\n",
       "      <td>night_pck_user_8</td>\n",
       "      <td>60.83</td>\n",
       "    </tr>\n",
       "    <tr>\n",
       "      <td>164</td>\n",
       "      <td>fb_user_6</td>\n",
       "      <td>62.02</td>\n",
       "    </tr>\n",
       "    <tr>\n",
       "      <td>165</td>\n",
       "      <td>fb_user_7</td>\n",
       "      <td>61.14</td>\n",
       "    </tr>\n",
       "    <tr>\n",
       "      <td>166</td>\n",
       "      <td>fb_user_8</td>\n",
       "      <td>60.83</td>\n",
       "    </tr>\n",
       "  </tbody>\n",
       "</table>\n",
       "</div>"
      ],
      "text/plain": [
       "                     Features  Missing Percentage\n",
       "119  date_of_last_rech_data_6               62.02\n",
       "120  date_of_last_rech_data_7               61.14\n",
       "121  date_of_last_rech_data_8               60.83\n",
       "122         total_rech_data_6               62.02\n",
       "123         total_rech_data_7               61.14\n",
       "124         total_rech_data_8               60.83\n",
       "125           max_rech_data_6               62.02\n",
       "126           max_rech_data_7               61.14\n",
       "127           max_rech_data_8               60.83\n",
       "128           count_rech_2g_6               62.02\n",
       "129           count_rech_2g_7               61.14\n",
       "130           count_rech_2g_8               60.83\n",
       "131           count_rech_3g_6               62.02\n",
       "132           count_rech_3g_7               61.14\n",
       "133           count_rech_3g_8               60.83\n",
       "134        av_rech_amt_data_6               62.02\n",
       "135        av_rech_amt_data_7               61.14\n",
       "136        av_rech_amt_data_8               60.83\n",
       "143                 arpu_3g_6               62.02\n",
       "144                 arpu_3g_7               61.14\n",
       "145                 arpu_3g_8               60.83\n",
       "146                 arpu_2g_6               62.02\n",
       "147                 arpu_2g_7               61.14\n",
       "148                 arpu_2g_8               60.83\n",
       "149          night_pck_user_6               62.02\n",
       "150          night_pck_user_7               61.14\n",
       "151          night_pck_user_8               60.83\n",
       "164                 fb_user_6               62.02\n",
       "165                 fb_user_7               61.14\n",
       "166                 fb_user_8               60.83"
      ]
     },
     "execution_count": 25,
     "metadata": {},
     "output_type": "execute_result"
    }
   ],
   "source": [
    "df_drp[df_drp[\"Missing Percentage\"]>=60]"
   ]
  },
  {
   "cell_type": "code",
   "execution_count": 26,
   "metadata": {},
   "outputs": [
    {
     "data": {
      "text/html": [
       "<div>\n",
       "<style scoped>\n",
       "    .dataframe tbody tr th:only-of-type {\n",
       "        vertical-align: middle;\n",
       "    }\n",
       "\n",
       "    .dataframe tbody tr th {\n",
       "        vertical-align: top;\n",
       "    }\n",
       "\n",
       "    .dataframe thead th {\n",
       "        text-align: right;\n",
       "    }\n",
       "</style>\n",
       "<table border=\"1\" class=\"dataframe\">\n",
       "  <thead>\n",
       "    <tr style=\"text-align: right;\">\n",
       "      <th></th>\n",
       "      <th>mobile_number</th>\n",
       "      <th>circle_id</th>\n",
       "      <th>loc_og_t2o_mou</th>\n",
       "      <th>std_og_t2o_mou</th>\n",
       "      <th>loc_ic_t2o_mou</th>\n",
       "      <th>last_date_of_month_6</th>\n",
       "      <th>last_date_of_month_7</th>\n",
       "      <th>last_date_of_month_8</th>\n",
       "      <th>arpu_6</th>\n",
       "      <th>arpu_7</th>\n",
       "      <th>...</th>\n",
       "      <th>fb_user_6</th>\n",
       "      <th>fb_user_7</th>\n",
       "      <th>fb_user_8</th>\n",
       "      <th>aon</th>\n",
       "      <th>aug_vbc_3g</th>\n",
       "      <th>jul_vbc_3g</th>\n",
       "      <th>jun_vbc_3g</th>\n",
       "      <th>sep_vbc_3g</th>\n",
       "      <th>Avg_rech_good_phase</th>\n",
       "      <th>Churn</th>\n",
       "    </tr>\n",
       "  </thead>\n",
       "  <tbody>\n",
       "    <tr>\n",
       "      <td>7</td>\n",
       "      <td>7000701601</td>\n",
       "      <td>109</td>\n",
       "      <td>0.0</td>\n",
       "      <td>0.0</td>\n",
       "      <td>0.0</td>\n",
       "      <td>6/30/2014</td>\n",
       "      <td>7/31/2014</td>\n",
       "      <td>8/31/2014</td>\n",
       "      <td>1069.180</td>\n",
       "      <td>1349.850</td>\n",
       "      <td>...</td>\n",
       "      <td>NaN</td>\n",
       "      <td>NaN</td>\n",
       "      <td>NaN</td>\n",
       "      <td>802</td>\n",
       "      <td>57.74</td>\n",
       "      <td>19.38</td>\n",
       "      <td>18.74</td>\n",
       "      <td>0.0</td>\n",
       "      <td>1185.0</td>\n",
       "      <td>1</td>\n",
       "    </tr>\n",
       "    <tr>\n",
       "      <td>8</td>\n",
       "      <td>7001524846</td>\n",
       "      <td>109</td>\n",
       "      <td>0.0</td>\n",
       "      <td>0.0</td>\n",
       "      <td>0.0</td>\n",
       "      <td>6/30/2014</td>\n",
       "      <td>7/31/2014</td>\n",
       "      <td>8/31/2014</td>\n",
       "      <td>378.721</td>\n",
       "      <td>492.223</td>\n",
       "      <td>...</td>\n",
       "      <td>NaN</td>\n",
       "      <td>1.0</td>\n",
       "      <td>1.0</td>\n",
       "      <td>315</td>\n",
       "      <td>21.03</td>\n",
       "      <td>910.65</td>\n",
       "      <td>122.16</td>\n",
       "      <td>0.0</td>\n",
       "      <td>519.0</td>\n",
       "      <td>0</td>\n",
       "    </tr>\n",
       "    <tr>\n",
       "      <td>13</td>\n",
       "      <td>7002191713</td>\n",
       "      <td>109</td>\n",
       "      <td>0.0</td>\n",
       "      <td>0.0</td>\n",
       "      <td>0.0</td>\n",
       "      <td>6/30/2014</td>\n",
       "      <td>7/31/2014</td>\n",
       "      <td>8/31/2014</td>\n",
       "      <td>492.846</td>\n",
       "      <td>205.671</td>\n",
       "      <td>...</td>\n",
       "      <td>NaN</td>\n",
       "      <td>NaN</td>\n",
       "      <td>1.0</td>\n",
       "      <td>2607</td>\n",
       "      <td>0.00</td>\n",
       "      <td>0.00</td>\n",
       "      <td>0.00</td>\n",
       "      <td>0.0</td>\n",
       "      <td>380.0</td>\n",
       "      <td>0</td>\n",
       "    </tr>\n",
       "    <tr>\n",
       "      <td>16</td>\n",
       "      <td>7000875565</td>\n",
       "      <td>109</td>\n",
       "      <td>0.0</td>\n",
       "      <td>0.0</td>\n",
       "      <td>0.0</td>\n",
       "      <td>6/30/2014</td>\n",
       "      <td>7/31/2014</td>\n",
       "      <td>8/31/2014</td>\n",
       "      <td>430.975</td>\n",
       "      <td>299.869</td>\n",
       "      <td>...</td>\n",
       "      <td>NaN</td>\n",
       "      <td>NaN</td>\n",
       "      <td>NaN</td>\n",
       "      <td>511</td>\n",
       "      <td>0.00</td>\n",
       "      <td>2.45</td>\n",
       "      <td>21.89</td>\n",
       "      <td>0.0</td>\n",
       "      <td>459.0</td>\n",
       "      <td>0</td>\n",
       "    </tr>\n",
       "    <tr>\n",
       "      <td>17</td>\n",
       "      <td>7000187447</td>\n",
       "      <td>109</td>\n",
       "      <td>0.0</td>\n",
       "      <td>0.0</td>\n",
       "      <td>0.0</td>\n",
       "      <td>6/30/2014</td>\n",
       "      <td>7/31/2014</td>\n",
       "      <td>8/31/2014</td>\n",
       "      <td>690.008</td>\n",
       "      <td>18.980</td>\n",
       "      <td>...</td>\n",
       "      <td>NaN</td>\n",
       "      <td>NaN</td>\n",
       "      <td>NaN</td>\n",
       "      <td>667</td>\n",
       "      <td>0.00</td>\n",
       "      <td>0.00</td>\n",
       "      <td>0.00</td>\n",
       "      <td>0.0</td>\n",
       "      <td>408.0</td>\n",
       "      <td>0</td>\n",
       "    </tr>\n",
       "    <tr>\n",
       "      <td>...</td>\n",
       "      <td>...</td>\n",
       "      <td>...</td>\n",
       "      <td>...</td>\n",
       "      <td>...</td>\n",
       "      <td>...</td>\n",
       "      <td>...</td>\n",
       "      <td>...</td>\n",
       "      <td>...</td>\n",
       "      <td>...</td>\n",
       "      <td>...</td>\n",
       "      <td>...</td>\n",
       "      <td>...</td>\n",
       "      <td>...</td>\n",
       "      <td>...</td>\n",
       "      <td>...</td>\n",
       "      <td>...</td>\n",
       "      <td>...</td>\n",
       "      <td>...</td>\n",
       "      <td>...</td>\n",
       "      <td>...</td>\n",
       "      <td>...</td>\n",
       "    </tr>\n",
       "    <tr>\n",
       "      <td>99970</td>\n",
       "      <td>7001386760</td>\n",
       "      <td>109</td>\n",
       "      <td>0.0</td>\n",
       "      <td>0.0</td>\n",
       "      <td>0.0</td>\n",
       "      <td>6/30/2014</td>\n",
       "      <td>7/31/2014</td>\n",
       "      <td>8/31/2014</td>\n",
       "      <td>261.269</td>\n",
       "      <td>410.614</td>\n",
       "      <td>...</td>\n",
       "      <td>0.0</td>\n",
       "      <td>0.0</td>\n",
       "      <td>NaN</td>\n",
       "      <td>1022</td>\n",
       "      <td>0.00</td>\n",
       "      <td>0.00</td>\n",
       "      <td>0.00</td>\n",
       "      <td>0.0</td>\n",
       "      <td>392.0</td>\n",
       "      <td>0</td>\n",
       "    </tr>\n",
       "    <tr>\n",
       "      <td>99974</td>\n",
       "      <td>7001453306</td>\n",
       "      <td>109</td>\n",
       "      <td>0.0</td>\n",
       "      <td>0.0</td>\n",
       "      <td>0.0</td>\n",
       "      <td>6/30/2014</td>\n",
       "      <td>7/31/2014</td>\n",
       "      <td>8/31/2014</td>\n",
       "      <td>414.303</td>\n",
       "      <td>321.093</td>\n",
       "      <td>...</td>\n",
       "      <td>NaN</td>\n",
       "      <td>NaN</td>\n",
       "      <td>NaN</td>\n",
       "      <td>3054</td>\n",
       "      <td>0.00</td>\n",
       "      <td>0.00</td>\n",
       "      <td>0.00</td>\n",
       "      <td>0.0</td>\n",
       "      <td>465.0</td>\n",
       "      <td>0</td>\n",
       "    </tr>\n",
       "    <tr>\n",
       "      <td>99986</td>\n",
       "      <td>7001729035</td>\n",
       "      <td>109</td>\n",
       "      <td>0.0</td>\n",
       "      <td>0.0</td>\n",
       "      <td>0.0</td>\n",
       "      <td>6/30/2014</td>\n",
       "      <td>7/31/2014</td>\n",
       "      <td>8/31/2014</td>\n",
       "      <td>644.973</td>\n",
       "      <td>455.228</td>\n",
       "      <td>...</td>\n",
       "      <td>1.0</td>\n",
       "      <td>1.0</td>\n",
       "      <td>1.0</td>\n",
       "      <td>2696</td>\n",
       "      <td>497.45</td>\n",
       "      <td>598.67</td>\n",
       "      <td>604.08</td>\n",
       "      <td>0.0</td>\n",
       "      <td>848.5</td>\n",
       "      <td>0</td>\n",
       "    </tr>\n",
       "    <tr>\n",
       "      <td>99988</td>\n",
       "      <td>7002111859</td>\n",
       "      <td>109</td>\n",
       "      <td>0.0</td>\n",
       "      <td>0.0</td>\n",
       "      <td>0.0</td>\n",
       "      <td>6/30/2014</td>\n",
       "      <td>7/31/2014</td>\n",
       "      <td>8/31/2014</td>\n",
       "      <td>312.558</td>\n",
       "      <td>512.932</td>\n",
       "      <td>...</td>\n",
       "      <td>NaN</td>\n",
       "      <td>1.0</td>\n",
       "      <td>1.0</td>\n",
       "      <td>328</td>\n",
       "      <td>104.73</td>\n",
       "      <td>0.00</td>\n",
       "      <td>0.00</td>\n",
       "      <td>0.0</td>\n",
       "      <td>467.0</td>\n",
       "      <td>0</td>\n",
       "    </tr>\n",
       "    <tr>\n",
       "      <td>99997</td>\n",
       "      <td>7000498689</td>\n",
       "      <td>109</td>\n",
       "      <td>0.0</td>\n",
       "      <td>0.0</td>\n",
       "      <td>0.0</td>\n",
       "      <td>6/30/2014</td>\n",
       "      <td>7/31/2014</td>\n",
       "      <td>8/31/2014</td>\n",
       "      <td>322.991</td>\n",
       "      <td>303.386</td>\n",
       "      <td>...</td>\n",
       "      <td>1.0</td>\n",
       "      <td>1.0</td>\n",
       "      <td>1.0</td>\n",
       "      <td>478</td>\n",
       "      <td>1445.74</td>\n",
       "      <td>1151.03</td>\n",
       "      <td>1173.18</td>\n",
       "      <td>0.0</td>\n",
       "      <td>369.5</td>\n",
       "      <td>0</td>\n",
       "    </tr>\n",
       "  </tbody>\n",
       "</table>\n",
       "<p>30011 rows × 174 columns</p>\n",
       "</div>"
      ],
      "text/plain": [
       "       mobile_number  circle_id  loc_og_t2o_mou  std_og_t2o_mou  \\\n",
       "7         7000701601        109             0.0             0.0   \n",
       "8         7001524846        109             0.0             0.0   \n",
       "13        7002191713        109             0.0             0.0   \n",
       "16        7000875565        109             0.0             0.0   \n",
       "17        7000187447        109             0.0             0.0   \n",
       "...              ...        ...             ...             ...   \n",
       "99970     7001386760        109             0.0             0.0   \n",
       "99974     7001453306        109             0.0             0.0   \n",
       "99986     7001729035        109             0.0             0.0   \n",
       "99988     7002111859        109             0.0             0.0   \n",
       "99997     7000498689        109             0.0             0.0   \n",
       "\n",
       "       loc_ic_t2o_mou last_date_of_month_6 last_date_of_month_7  \\\n",
       "7                 0.0            6/30/2014            7/31/2014   \n",
       "8                 0.0            6/30/2014            7/31/2014   \n",
       "13                0.0            6/30/2014            7/31/2014   \n",
       "16                0.0            6/30/2014            7/31/2014   \n",
       "17                0.0            6/30/2014            7/31/2014   \n",
       "...               ...                  ...                  ...   \n",
       "99970             0.0            6/30/2014            7/31/2014   \n",
       "99974             0.0            6/30/2014            7/31/2014   \n",
       "99986             0.0            6/30/2014            7/31/2014   \n",
       "99988             0.0            6/30/2014            7/31/2014   \n",
       "99997             0.0            6/30/2014            7/31/2014   \n",
       "\n",
       "      last_date_of_month_8    arpu_6    arpu_7  ...  fb_user_6  fb_user_7  \\\n",
       "7                8/31/2014  1069.180  1349.850  ...        NaN        NaN   \n",
       "8                8/31/2014   378.721   492.223  ...        NaN        1.0   \n",
       "13               8/31/2014   492.846   205.671  ...        NaN        NaN   \n",
       "16               8/31/2014   430.975   299.869  ...        NaN        NaN   \n",
       "17               8/31/2014   690.008    18.980  ...        NaN        NaN   \n",
       "...                    ...       ...       ...  ...        ...        ...   \n",
       "99970            8/31/2014   261.269   410.614  ...        0.0        0.0   \n",
       "99974            8/31/2014   414.303   321.093  ...        NaN        NaN   \n",
       "99986            8/31/2014   644.973   455.228  ...        1.0        1.0   \n",
       "99988            8/31/2014   312.558   512.932  ...        NaN        1.0   \n",
       "99997            8/31/2014   322.991   303.386  ...        1.0        1.0   \n",
       "\n",
       "       fb_user_8   aon  aug_vbc_3g  jul_vbc_3g  jun_vbc_3g  sep_vbc_3g  \\\n",
       "7            NaN   802       57.74       19.38       18.74         0.0   \n",
       "8            1.0   315       21.03      910.65      122.16         0.0   \n",
       "13           1.0  2607        0.00        0.00        0.00         0.0   \n",
       "16           NaN   511        0.00        2.45       21.89         0.0   \n",
       "17           NaN   667        0.00        0.00        0.00         0.0   \n",
       "...          ...   ...         ...         ...         ...         ...   \n",
       "99970        NaN  1022        0.00        0.00        0.00         0.0   \n",
       "99974        NaN  3054        0.00        0.00        0.00         0.0   \n",
       "99986        1.0  2696      497.45      598.67      604.08         0.0   \n",
       "99988        1.0   328      104.73        0.00        0.00         0.0   \n",
       "99997        1.0   478     1445.74     1151.03     1173.18         0.0   \n",
       "\n",
       "       Avg_rech_good_phase  Churn  \n",
       "7                   1185.0      1  \n",
       "8                    519.0      0  \n",
       "13                   380.0      0  \n",
       "16                   459.0      0  \n",
       "17                   408.0      0  \n",
       "...                    ...    ...  \n",
       "99970                392.0      0  \n",
       "99974                465.0      0  \n",
       "99986                848.5      0  \n",
       "99988                467.0      0  \n",
       "99997                369.5      0  \n",
       "\n",
       "[30011 rows x 174 columns]"
      ]
     },
     "execution_count": 26,
     "metadata": {},
     "output_type": "execute_result"
    }
   ],
   "source": [
    "df_sel"
   ]
  },
  {
   "cell_type": "code",
   "execution_count": 27,
   "metadata": {},
   "outputs": [
    {
     "data": {
      "text/plain": [
       "Index(['mobile_number', 'circle_id', 'loc_og_t2o_mou', 'std_og_t2o_mou',\n",
       "       'loc_ic_t2o_mou', 'last_date_of_month_6', 'last_date_of_month_7',\n",
       "       'last_date_of_month_8', 'arpu_6', 'arpu_7',\n",
       "       ...\n",
       "       'fb_user_6', 'fb_user_7', 'fb_user_8', 'aon', 'aug_vbc_3g',\n",
       "       'jul_vbc_3g', 'jun_vbc_3g', 'sep_vbc_3g', 'Avg_rech_good_phase',\n",
       "       'Churn'],\n",
       "      dtype='object', length=174)"
      ]
     },
     "execution_count": 27,
     "metadata": {},
     "output_type": "execute_result"
    }
   ],
   "source": [
    "df_sel.columns"
   ]
  },
  {
   "cell_type": "code",
   "execution_count": 28,
   "metadata": {},
   "outputs": [],
   "source": [
    "drp_col = list(df_drp[df_drp[\"Missing Percentage\"]>=60][\"Features\"].values)"
   ]
  },
  {
   "cell_type": "code",
   "execution_count": 29,
   "metadata": {},
   "outputs": [
    {
     "data": {
      "text/plain": [
       "30"
      ]
     },
     "execution_count": 29,
     "metadata": {},
     "output_type": "execute_result"
    }
   ],
   "source": [
    "len(drp_col)"
   ]
  },
  {
   "cell_type": "code",
   "execution_count": 30,
   "metadata": {},
   "outputs": [],
   "source": [
    "drp_col=['date_of_last_rech_data_6',\n",
    " 'date_of_last_rech_data_7',\n",
    " 'date_of_last_rech_data_8',\n",
    " 'max_rech_data_6',\n",
    " 'max_rech_data_7',\n",
    " 'max_rech_data_8',\n",
    " 'count_rech_2g_6',\n",
    " 'count_rech_2g_7',\n",
    " 'count_rech_2g_8',\n",
    " 'count_rech_3g_6',\n",
    " 'count_rech_3g_7',\n",
    " 'count_rech_3g_8',\n",
    " 'av_rech_amt_data_6',\n",
    " 'av_rech_amt_data_7',\n",
    " 'av_rech_amt_data_8',\n",
    " 'arpu_3g_6',\n",
    " 'arpu_3g_7',\n",
    " 'arpu_3g_8',\n",
    " 'arpu_2g_6',\n",
    " 'arpu_2g_7',\n",
    " 'arpu_2g_8',\n",
    " 'night_pck_user_6',\n",
    " 'night_pck_user_7',\n",
    " 'night_pck_user_8',\n",
    " 'fb_user_6',\n",
    " 'fb_user_7',\n",
    " 'fb_user_8']#Keeping Only 27 columns to drop from all cols having 60% or more missing"
   ]
  },
  {
   "cell_type": "code",
   "execution_count": 31,
   "metadata": {},
   "outputs": [
    {
     "data": {
      "text/plain": [
       "27"
      ]
     },
     "execution_count": 31,
     "metadata": {},
     "output_type": "execute_result"
    }
   ],
   "source": [
    "len(drp_col)"
   ]
  },
  {
   "cell_type": "code",
   "execution_count": 32,
   "metadata": {},
   "outputs": [],
   "source": [
    "df_sel = df_sel.drop(drp_col,axis=1) # Dropping 27 columns having >= 60% missing data"
   ]
  },
  {
   "cell_type": "code",
   "execution_count": 33,
   "metadata": {},
   "outputs": [
    {
     "data": {
      "text/plain": [
       "147"
      ]
     },
     "execution_count": 33,
     "metadata": {},
     "output_type": "execute_result"
    }
   ],
   "source": [
    "len(df_sel.columns)"
   ]
  },
  {
   "cell_type": "code",
   "execution_count": 34,
   "metadata": {},
   "outputs": [
    {
     "data": {
      "text/plain": [
       "total_rech_data_6    0.620239\n",
       "total_rech_data_7    0.611409\n",
       "total_rech_data_8    0.608344\n",
       "dtype: float64"
      ]
     },
     "execution_count": 34,
     "metadata": {},
     "output_type": "execute_result"
    }
   ],
   "source": [
    "df_sel[['total_rech_data_6','total_rech_data_7','total_rech_data_8']].isnull().sum()/len(df_sel)"
   ]
  },
  {
   "cell_type": "code",
   "execution_count": 35,
   "metadata": {},
   "outputs": [
    {
     "data": {
      "text/plain": [
       "total_rech_data_6    28122.0\n",
       "total_rech_data_7    31628.0\n",
       "total_rech_data_8    31070.0\n",
       "dtype: float64"
      ]
     },
     "execution_count": 35,
     "metadata": {},
     "output_type": "execute_result"
    }
   ],
   "source": [
    "df_sel[['total_rech_data_6','total_rech_data_7','total_rech_data_8']].sum() # Filling NA in these columns to 0"
   ]
  },
  {
   "cell_type": "code",
   "execution_count": 36,
   "metadata": {},
   "outputs": [],
   "source": [
    "df_sel[['total_rech_data_6','total_rech_data_7','total_rech_data_8']] = df_sel[['total_rech_data_6',\n",
    "                                                                                'total_rech_data_7','total_rech_data_8']].fillna(0)"
   ]
  },
  {
   "cell_type": "code",
   "execution_count": 37,
   "metadata": {},
   "outputs": [
    {
     "data": {
      "text/plain": [
       "total_rech_data_6    28122.0\n",
       "total_rech_data_7    31628.0\n",
       "total_rech_data_8    31070.0\n",
       "dtype: float64"
      ]
     },
     "execution_count": 37,
     "metadata": {},
     "output_type": "execute_result"
    }
   ],
   "source": [
    "df_sel[['total_rech_data_6','total_rech_data_7','total_rech_data_8']].sum()# sanity check after fillinh na =0"
   ]
  },
  {
   "cell_type": "code",
   "execution_count": 38,
   "metadata": {},
   "outputs": [
    {
     "data": {
      "text/plain": [
       "mobile_number           0.00\n",
       "circle_id               0.00\n",
       "loc_og_t2o_mou          0.38\n",
       "std_og_t2o_mou          0.38\n",
       "loc_ic_t2o_mou          0.38\n",
       "last_date_of_month_6    0.00\n",
       "last_date_of_month_7    0.10\n",
       "last_date_of_month_8    0.52\n",
       "arpu_6                  0.00\n",
       "arpu_7                  0.00\n",
       "arpu_8                  0.00\n",
       "onnet_mou_6             1.05\n",
       "onnet_mou_7             1.01\n",
       "onnet_mou_8             3.13\n",
       "offnet_mou_6            1.05\n",
       "offnet_mou_7            1.01\n",
       "offnet_mou_8            3.13\n",
       "roam_ic_mou_6           1.05\n",
       "roam_ic_mou_7           1.01\n",
       "roam_ic_mou_8           3.13\n",
       "roam_og_mou_6           1.05\n",
       "roam_og_mou_7           1.01\n",
       "roam_og_mou_8           3.13\n",
       "loc_og_t2t_mou_6        1.05\n",
       "loc_og_t2t_mou_7        1.01\n",
       "loc_og_t2t_mou_8        3.13\n",
       "loc_og_t2m_mou_6        1.05\n",
       "loc_og_t2m_mou_7        1.01\n",
       "loc_og_t2m_mou_8        3.13\n",
       "loc_og_t2f_mou_6        1.05\n",
       "loc_og_t2f_mou_7        1.01\n",
       "loc_og_t2f_mou_8        3.13\n",
       "loc_og_t2c_mou_6        1.05\n",
       "loc_og_t2c_mou_7        1.01\n",
       "loc_og_t2c_mou_8        3.13\n",
       "loc_og_mou_6            1.05\n",
       "loc_og_mou_7            1.01\n",
       "loc_og_mou_8            3.13\n",
       "std_og_t2t_mou_6        1.05\n",
       "std_og_t2t_mou_7        1.01\n",
       "std_og_t2t_mou_8        3.13\n",
       "std_og_t2m_mou_6        1.05\n",
       "std_og_t2m_mou_7        1.01\n",
       "std_og_t2m_mou_8        3.13\n",
       "std_og_t2f_mou_6        1.05\n",
       "std_og_t2f_mou_7        1.01\n",
       "std_og_t2f_mou_8        3.13\n",
       "std_og_t2c_mou_6        1.05\n",
       "std_og_t2c_mou_7        1.01\n",
       "std_og_t2c_mou_8        3.13\n",
       "std_og_mou_6            1.05\n",
       "dtype: float64"
      ]
     },
     "execution_count": 38,
     "metadata": {},
     "output_type": "execute_result"
    }
   ],
   "source": [
    "round(df_sel.isnull().sum() / len(df_sel) *100,2)[:51]"
   ]
  },
  {
   "cell_type": "code",
   "execution_count": 39,
   "metadata": {},
   "outputs": [
    {
     "data": {
      "text/plain": [
       "30011"
      ]
     },
     "execution_count": 39,
     "metadata": {},
     "output_type": "execute_result"
    }
   ],
   "source": [
    "len(df_sel)"
   ]
  },
  {
   "cell_type": "code",
   "execution_count": 40,
   "metadata": {},
   "outputs": [],
   "source": [
    "from sklearn.model_selection import train_test_split"
   ]
  },
  {
   "cell_type": "code",
   "execution_count": 41,
   "metadata": {},
   "outputs": [],
   "source": [
    "from sklearn.preprocessing import StandardScaler"
   ]
  },
  {
   "cell_type": "code",
   "execution_count": 42,
   "metadata": {},
   "outputs": [],
   "source": [
    "from sklearn.ensemble import RandomForestClassifier"
   ]
  },
  {
   "cell_type": "code",
   "execution_count": 43,
   "metadata": {},
   "outputs": [],
   "source": [
    "from sklearn.metrics import classification_report,confusion_matrix,roc_curve,accuracy_score"
   ]
  },
  {
   "cell_type": "code",
   "execution_count": 44,
   "metadata": {},
   "outputs": [],
   "source": [
    "from sklearn.linear_model import LogisticRegression"
   ]
  },
  {
   "cell_type": "code",
   "execution_count": 45,
   "metadata": {},
   "outputs": [],
   "source": [
    "#fpr,tpr,thresholds = roc_curve(y_test_p,lr.decision_function(X_test_p))"
   ]
  },
  {
   "cell_type": "code",
   "execution_count": 46,
   "metadata": {},
   "outputs": [],
   "source": [
    "#plt.figure(figsize=(8,5))\n",
    "\n",
    "#plt.plot(fpr,tpr,label=\"ROC\")\n",
    "#plt.xlabel(\"FPR = FP / ( FP+TN )\")\n",
    "#plt.ylabel(\"TPR = TP / ( TP+FN )\")\n",
    "#Find the threshold closest to zero\n",
    "#close_zero = np.argmin(np.abs(thresholds))\n",
    "#plt.plot(fpr[close_zero],tpr[close_zero],\"o\",markersize=10)\n",
    "#plt.show()"
   ]
  },
  {
   "cell_type": "markdown",
   "metadata": {},
   "source": [
    "# Data Imputation"
   ]
  },
  {
   "cell_type": "code",
   "execution_count": 47,
   "metadata": {},
   "outputs": [
    {
     "data": {
      "text/plain": [
       "30011"
      ]
     },
     "execution_count": 47,
     "metadata": {},
     "output_type": "execute_result"
    }
   ],
   "source": [
    "len(df_sel)"
   ]
  },
  {
   "cell_type": "code",
   "execution_count": 48,
   "metadata": {},
   "outputs": [
    {
     "data": {
      "text/plain": [
       "147"
      ]
     },
     "execution_count": 48,
     "metadata": {},
     "output_type": "execute_result"
    }
   ],
   "source": [
    "len(df_sel.columns)"
   ]
  },
  {
   "cell_type": "code",
   "execution_count": 49,
   "metadata": {},
   "outputs": [],
   "source": [
    "df_sel_1 =df_sel.drop(['mobile_number', 'circle_id', 'loc_og_t2o_mou', 'std_og_t2o_mou','loc_ic_t2o_mou',\n",
    "                        'last_date_of_month_6','last_date_of_month_7','last_date_of_month_8',\n",
    "                         'date_of_last_rech_6','date_of_last_rech_7','date_of_last_rech_8']\n",
    "                         ,axis=1) # Dropping these 11 columns due to single category or  Date Field"
   ]
  },
  {
   "cell_type": "code",
   "execution_count": 50,
   "metadata": {},
   "outputs": [
    {
     "data": {
      "text/plain": [
       "136"
      ]
     },
     "execution_count": 50,
     "metadata": {},
     "output_type": "execute_result"
    }
   ],
   "source": [
    "len(df_sel_1.columns)"
   ]
  },
  {
   "cell_type": "code",
   "execution_count": 51,
   "metadata": {},
   "outputs": [
    {
     "name": "stdout",
     "output_type": "stream",
     "text": [
      "<class 'pandas.core.frame.DataFrame'>\n",
      "Int64Index: 30011 entries, 7 to 99997\n",
      "Columns: 136 entries, arpu_6 to Churn\n",
      "dtypes: float64(110), int64(26)\n",
      "memory usage: 31.4 MB\n"
     ]
    }
   ],
   "source": [
    "df_sel_1.info()"
   ]
  },
  {
   "cell_type": "code",
   "execution_count": 52,
   "metadata": {
    "scrolled": true
   },
   "outputs": [],
   "source": [
    "df_im = round(df_sel_1.isnull().sum()/len(df_sel_1)*100,3)"
   ]
  },
  {
   "cell_type": "code",
   "execution_count": 53,
   "metadata": {},
   "outputs": [],
   "source": [
    "df_im = df_im.reset_index()"
   ]
  },
  {
   "cell_type": "code",
   "execution_count": 54,
   "metadata": {},
   "outputs": [],
   "source": [
    "df_im.columns=[\"Feats\",\"PerMiss\"]"
   ]
  },
  {
   "cell_type": "code",
   "execution_count": 55,
   "metadata": {
    "scrolled": false
   },
   "outputs": [],
   "source": [
    "icols = df_im[df_im[\"PerMiss\"]>0][\"Feats\"].values"
   ]
  },
  {
   "cell_type": "code",
   "execution_count": 56,
   "metadata": {},
   "outputs": [],
   "source": [
    "for col in icols:#Imputing the missing values greater than 0% to 3% with meadian values\n",
    "    df_sel_1.loc[df_sel_1[col].isnull(),col] =df_sel_1[col].dropna().median()"
   ]
  },
  {
   "cell_type": "code",
   "execution_count": 57,
   "metadata": {},
   "outputs": [
    {
     "data": {
      "text/plain": [
       "0"
      ]
     },
     "execution_count": 57,
     "metadata": {},
     "output_type": "execute_result"
    }
   ],
   "source": [
    "sum(df_sel_1.isnull().sum())"
   ]
  },
  {
   "cell_type": "code",
   "execution_count": 58,
   "metadata": {
    "scrolled": false
   },
   "outputs": [
    {
     "data": {
      "text/html": [
       "<div>\n",
       "<style scoped>\n",
       "    .dataframe tbody tr th:only-of-type {\n",
       "        vertical-align: middle;\n",
       "    }\n",
       "\n",
       "    .dataframe tbody tr th {\n",
       "        vertical-align: top;\n",
       "    }\n",
       "\n",
       "    .dataframe thead th {\n",
       "        text-align: right;\n",
       "    }\n",
       "</style>\n",
       "<table border=\"1\" class=\"dataframe\">\n",
       "  <thead>\n",
       "    <tr style=\"text-align: right;\">\n",
       "      <th></th>\n",
       "      <th>arpu_6</th>\n",
       "      <th>arpu_7</th>\n",
       "      <th>arpu_8</th>\n",
       "      <th>onnet_mou_6</th>\n",
       "      <th>onnet_mou_7</th>\n",
       "      <th>onnet_mou_8</th>\n",
       "      <th>offnet_mou_6</th>\n",
       "      <th>offnet_mou_7</th>\n",
       "      <th>offnet_mou_8</th>\n",
       "      <th>roam_ic_mou_6</th>\n",
       "      <th>...</th>\n",
       "      <th>sachet_3g_6</th>\n",
       "      <th>sachet_3g_7</th>\n",
       "      <th>sachet_3g_8</th>\n",
       "      <th>aon</th>\n",
       "      <th>aug_vbc_3g</th>\n",
       "      <th>jul_vbc_3g</th>\n",
       "      <th>jun_vbc_3g</th>\n",
       "      <th>sep_vbc_3g</th>\n",
       "      <th>Avg_rech_good_phase</th>\n",
       "      <th>Churn</th>\n",
       "    </tr>\n",
       "  </thead>\n",
       "  <tbody>\n",
       "    <tr>\n",
       "      <td>count</td>\n",
       "      <td>30011.000000</td>\n",
       "      <td>30011.000000</td>\n",
       "      <td>30011.000000</td>\n",
       "      <td>30011.000000</td>\n",
       "      <td>30011.000000</td>\n",
       "      <td>30011.000000</td>\n",
       "      <td>30011.000000</td>\n",
       "      <td>30011.000000</td>\n",
       "      <td>30011.000000</td>\n",
       "      <td>30011.000000</td>\n",
       "      <td>...</td>\n",
       "      <td>30011.000000</td>\n",
       "      <td>30011.000000</td>\n",
       "      <td>30011.000000</td>\n",
       "      <td>30011.000000</td>\n",
       "      <td>30011.000000</td>\n",
       "      <td>30011.000000</td>\n",
       "      <td>30011.000000</td>\n",
       "      <td>30011.000000</td>\n",
       "      <td>30011.000000</td>\n",
       "      <td>30011.000000</td>\n",
       "    </tr>\n",
       "    <tr>\n",
       "      <td>mean</td>\n",
       "      <td>587.284404</td>\n",
       "      <td>589.135427</td>\n",
       "      <td>534.857433</td>\n",
       "      <td>297.385708</td>\n",
       "      <td>305.635027</td>\n",
       "      <td>270.922215</td>\n",
       "      <td>420.944380</td>\n",
       "      <td>426.806717</td>\n",
       "      <td>382.877999</td>\n",
       "      <td>17.412764</td>\n",
       "      <td>...</td>\n",
       "      <td>0.137916</td>\n",
       "      <td>0.150212</td>\n",
       "      <td>0.140415</td>\n",
       "      <td>1264.064776</td>\n",
       "      <td>129.439626</td>\n",
       "      <td>135.127102</td>\n",
       "      <td>121.360548</td>\n",
       "      <td>6.562685</td>\n",
       "      <td>696.664356</td>\n",
       "      <td>0.086402</td>\n",
       "    </tr>\n",
       "    <tr>\n",
       "      <td>std</td>\n",
       "      <td>442.722413</td>\n",
       "      <td>462.897814</td>\n",
       "      <td>492.259586</td>\n",
       "      <td>460.093114</td>\n",
       "      <td>481.133789</td>\n",
       "      <td>465.019618</td>\n",
       "      <td>468.816296</td>\n",
       "      <td>484.848030</td>\n",
       "      <td>473.303750</td>\n",
       "      <td>79.152657</td>\n",
       "      <td>...</td>\n",
       "      <td>0.875528</td>\n",
       "      <td>0.969286</td>\n",
       "      <td>0.974727</td>\n",
       "      <td>975.263117</td>\n",
       "      <td>390.478591</td>\n",
       "      <td>408.024394</td>\n",
       "      <td>389.726031</td>\n",
       "      <td>48.638658</td>\n",
       "      <td>488.782088</td>\n",
       "      <td>0.280961</td>\n",
       "    </tr>\n",
       "    <tr>\n",
       "      <td>min</td>\n",
       "      <td>-2258.709000</td>\n",
       "      <td>-2014.045000</td>\n",
       "      <td>-945.808000</td>\n",
       "      <td>0.000000</td>\n",
       "      <td>0.000000</td>\n",
       "      <td>0.000000</td>\n",
       "      <td>0.000000</td>\n",
       "      <td>0.000000</td>\n",
       "      <td>0.000000</td>\n",
       "      <td>0.000000</td>\n",
       "      <td>...</td>\n",
       "      <td>0.000000</td>\n",
       "      <td>0.000000</td>\n",
       "      <td>0.000000</td>\n",
       "      <td>180.000000</td>\n",
       "      <td>0.000000</td>\n",
       "      <td>0.000000</td>\n",
       "      <td>0.000000</td>\n",
       "      <td>0.000000</td>\n",
       "      <td>368.500000</td>\n",
       "      <td>0.000000</td>\n",
       "    </tr>\n",
       "    <tr>\n",
       "      <td>25%</td>\n",
       "      <td>364.161000</td>\n",
       "      <td>365.004500</td>\n",
       "      <td>289.609500</td>\n",
       "      <td>43.510000</td>\n",
       "      <td>43.260000</td>\n",
       "      <td>33.985000</td>\n",
       "      <td>142.825000</td>\n",
       "      <td>141.235000</td>\n",
       "      <td>111.730000</td>\n",
       "      <td>0.000000</td>\n",
       "      <td>...</td>\n",
       "      <td>0.000000</td>\n",
       "      <td>0.000000</td>\n",
       "      <td>0.000000</td>\n",
       "      <td>480.000000</td>\n",
       "      <td>0.000000</td>\n",
       "      <td>0.000000</td>\n",
       "      <td>0.000000</td>\n",
       "      <td>0.000000</td>\n",
       "      <td>450.000000</td>\n",
       "      <td>0.000000</td>\n",
       "    </tr>\n",
       "    <tr>\n",
       "      <td>50%</td>\n",
       "      <td>495.682000</td>\n",
       "      <td>493.561000</td>\n",
       "      <td>452.091000</td>\n",
       "      <td>128.330000</td>\n",
       "      <td>127.950000</td>\n",
       "      <td>106.280000</td>\n",
       "      <td>285.960000</td>\n",
       "      <td>285.485000</td>\n",
       "      <td>251.360000</td>\n",
       "      <td>0.000000</td>\n",
       "      <td>...</td>\n",
       "      <td>0.000000</td>\n",
       "      <td>0.000000</td>\n",
       "      <td>0.000000</td>\n",
       "      <td>914.000000</td>\n",
       "      <td>0.000000</td>\n",
       "      <td>0.000000</td>\n",
       "      <td>0.000000</td>\n",
       "      <td>0.000000</td>\n",
       "      <td>568.500000</td>\n",
       "      <td>0.000000</td>\n",
       "    </tr>\n",
       "    <tr>\n",
       "      <td>75%</td>\n",
       "      <td>703.922000</td>\n",
       "      <td>700.788000</td>\n",
       "      <td>671.150000</td>\n",
       "      <td>353.310000</td>\n",
       "      <td>359.925000</td>\n",
       "      <td>297.735000</td>\n",
       "      <td>523.125000</td>\n",
       "      <td>532.695000</td>\n",
       "      <td>482.610000</td>\n",
       "      <td>0.000000</td>\n",
       "      <td>...</td>\n",
       "      <td>0.000000</td>\n",
       "      <td>0.000000</td>\n",
       "      <td>0.000000</td>\n",
       "      <td>1924.000000</td>\n",
       "      <td>1.600000</td>\n",
       "      <td>1.990000</td>\n",
       "      <td>0.000000</td>\n",
       "      <td>0.000000</td>\n",
       "      <td>795.500000</td>\n",
       "      <td>0.000000</td>\n",
       "    </tr>\n",
       "    <tr>\n",
       "      <td>90%</td>\n",
       "      <td>994.099000</td>\n",
       "      <td>995.557000</td>\n",
       "      <td>985.202000</td>\n",
       "      <td>794.980000</td>\n",
       "      <td>824.380000</td>\n",
       "      <td>723.610000</td>\n",
       "      <td>915.580000</td>\n",
       "      <td>935.690000</td>\n",
       "      <td>853.790000</td>\n",
       "      <td>32.730000</td>\n",
       "      <td>...</td>\n",
       "      <td>0.000000</td>\n",
       "      <td>0.000000</td>\n",
       "      <td>0.000000</td>\n",
       "      <td>2846.000000</td>\n",
       "      <td>438.970000</td>\n",
       "      <td>454.830000</td>\n",
       "      <td>394.500000</td>\n",
       "      <td>0.000000</td>\n",
       "      <td>1118.000000</td>\n",
       "      <td>0.000000</td>\n",
       "    </tr>\n",
       "    <tr>\n",
       "      <td>95%</td>\n",
       "      <td>1240.793500</td>\n",
       "      <td>1261.421500</td>\n",
       "      <td>1258.555500</td>\n",
       "      <td>1153.970000</td>\n",
       "      <td>1208.175000</td>\n",
       "      <td>1115.660000</td>\n",
       "      <td>1271.470000</td>\n",
       "      <td>1286.285000</td>\n",
       "      <td>1188.460000</td>\n",
       "      <td>94.585000</td>\n",
       "      <td>...</td>\n",
       "      <td>1.000000</td>\n",
       "      <td>1.000000</td>\n",
       "      <td>1.000000</td>\n",
       "      <td>3179.000000</td>\n",
       "      <td>818.750000</td>\n",
       "      <td>845.315000</td>\n",
       "      <td>761.740000</td>\n",
       "      <td>18.635000</td>\n",
       "      <td>1406.000000</td>\n",
       "      <td>1.000000</td>\n",
       "    </tr>\n",
       "    <tr>\n",
       "      <td>99%</td>\n",
       "      <td>1983.089500</td>\n",
       "      <td>1999.374500</td>\n",
       "      <td>1987.934400</td>\n",
       "      <td>2166.370000</td>\n",
       "      <td>2220.367000</td>\n",
       "      <td>2188.504000</td>\n",
       "      <td>2326.290000</td>\n",
       "      <td>2410.104000</td>\n",
       "      <td>2211.642000</td>\n",
       "      <td>349.353000</td>\n",
       "      <td>...</td>\n",
       "      <td>3.000000</td>\n",
       "      <td>3.000000</td>\n",
       "      <td>3.000000</td>\n",
       "      <td>3651.000000</td>\n",
       "      <td>1822.115000</td>\n",
       "      <td>1941.598000</td>\n",
       "      <td>1866.386000</td>\n",
       "      <td>173.662000</td>\n",
       "      <td>2216.300000</td>\n",
       "      <td>1.000000</td>\n",
       "    </tr>\n",
       "    <tr>\n",
       "      <td>max</td>\n",
       "      <td>27731.088000</td>\n",
       "      <td>35145.834000</td>\n",
       "      <td>33543.624000</td>\n",
       "      <td>7376.710000</td>\n",
       "      <td>8157.780000</td>\n",
       "      <td>10752.560000</td>\n",
       "      <td>8362.360000</td>\n",
       "      <td>9667.130000</td>\n",
       "      <td>14007.340000</td>\n",
       "      <td>2613.310000</td>\n",
       "      <td>...</td>\n",
       "      <td>29.000000</td>\n",
       "      <td>35.000000</td>\n",
       "      <td>41.000000</td>\n",
       "      <td>4321.000000</td>\n",
       "      <td>12916.220000</td>\n",
       "      <td>9165.600000</td>\n",
       "      <td>11166.210000</td>\n",
       "      <td>2618.570000</td>\n",
       "      <td>37762.500000</td>\n",
       "      <td>1.000000</td>\n",
       "    </tr>\n",
       "  </tbody>\n",
       "</table>\n",
       "<p>11 rows × 136 columns</p>\n",
       "</div>"
      ],
      "text/plain": [
       "             arpu_6        arpu_7        arpu_8   onnet_mou_6   onnet_mou_7  \\\n",
       "count  30011.000000  30011.000000  30011.000000  30011.000000  30011.000000   \n",
       "mean     587.284404    589.135427    534.857433    297.385708    305.635027   \n",
       "std      442.722413    462.897814    492.259586    460.093114    481.133789   \n",
       "min    -2258.709000  -2014.045000   -945.808000      0.000000      0.000000   \n",
       "25%      364.161000    365.004500    289.609500     43.510000     43.260000   \n",
       "50%      495.682000    493.561000    452.091000    128.330000    127.950000   \n",
       "75%      703.922000    700.788000    671.150000    353.310000    359.925000   \n",
       "90%      994.099000    995.557000    985.202000    794.980000    824.380000   \n",
       "95%     1240.793500   1261.421500   1258.555500   1153.970000   1208.175000   \n",
       "99%     1983.089500   1999.374500   1987.934400   2166.370000   2220.367000   \n",
       "max    27731.088000  35145.834000  33543.624000   7376.710000   8157.780000   \n",
       "\n",
       "        onnet_mou_8  offnet_mou_6  offnet_mou_7  offnet_mou_8  roam_ic_mou_6  \\\n",
       "count  30011.000000  30011.000000  30011.000000  30011.000000   30011.000000   \n",
       "mean     270.922215    420.944380    426.806717    382.877999      17.412764   \n",
       "std      465.019618    468.816296    484.848030    473.303750      79.152657   \n",
       "min        0.000000      0.000000      0.000000      0.000000       0.000000   \n",
       "25%       33.985000    142.825000    141.235000    111.730000       0.000000   \n",
       "50%      106.280000    285.960000    285.485000    251.360000       0.000000   \n",
       "75%      297.735000    523.125000    532.695000    482.610000       0.000000   \n",
       "90%      723.610000    915.580000    935.690000    853.790000      32.730000   \n",
       "95%     1115.660000   1271.470000   1286.285000   1188.460000      94.585000   \n",
       "99%     2188.504000   2326.290000   2410.104000   2211.642000     349.353000   \n",
       "max    10752.560000   8362.360000   9667.130000  14007.340000    2613.310000   \n",
       "\n",
       "       ...   sachet_3g_6   sachet_3g_7   sachet_3g_8           aon  \\\n",
       "count  ...  30011.000000  30011.000000  30011.000000  30011.000000   \n",
       "mean   ...      0.137916      0.150212      0.140415   1264.064776   \n",
       "std    ...      0.875528      0.969286      0.974727    975.263117   \n",
       "min    ...      0.000000      0.000000      0.000000    180.000000   \n",
       "25%    ...      0.000000      0.000000      0.000000    480.000000   \n",
       "50%    ...      0.000000      0.000000      0.000000    914.000000   \n",
       "75%    ...      0.000000      0.000000      0.000000   1924.000000   \n",
       "90%    ...      0.000000      0.000000      0.000000   2846.000000   \n",
       "95%    ...      1.000000      1.000000      1.000000   3179.000000   \n",
       "99%    ...      3.000000      3.000000      3.000000   3651.000000   \n",
       "max    ...     29.000000     35.000000     41.000000   4321.000000   \n",
       "\n",
       "         aug_vbc_3g    jul_vbc_3g    jun_vbc_3g    sep_vbc_3g  \\\n",
       "count  30011.000000  30011.000000  30011.000000  30011.000000   \n",
       "mean     129.439626    135.127102    121.360548      6.562685   \n",
       "std      390.478591    408.024394    389.726031     48.638658   \n",
       "min        0.000000      0.000000      0.000000      0.000000   \n",
       "25%        0.000000      0.000000      0.000000      0.000000   \n",
       "50%        0.000000      0.000000      0.000000      0.000000   \n",
       "75%        1.600000      1.990000      0.000000      0.000000   \n",
       "90%      438.970000    454.830000    394.500000      0.000000   \n",
       "95%      818.750000    845.315000    761.740000     18.635000   \n",
       "99%     1822.115000   1941.598000   1866.386000    173.662000   \n",
       "max    12916.220000   9165.600000  11166.210000   2618.570000   \n",
       "\n",
       "       Avg_rech_good_phase         Churn  \n",
       "count         30011.000000  30011.000000  \n",
       "mean            696.664356      0.086402  \n",
       "std             488.782088      0.280961  \n",
       "min             368.500000      0.000000  \n",
       "25%             450.000000      0.000000  \n",
       "50%             568.500000      0.000000  \n",
       "75%             795.500000      0.000000  \n",
       "90%            1118.000000      0.000000  \n",
       "95%            1406.000000      1.000000  \n",
       "99%            2216.300000      1.000000  \n",
       "max           37762.500000      1.000000  \n",
       "\n",
       "[11 rows x 136 columns]"
      ]
     },
     "execution_count": 58,
     "metadata": {},
     "output_type": "execute_result"
    }
   ],
   "source": [
    "df_sel_1.describe(percentiles=[.25,.50,.75,.90,.95,.99])"
   ]
  },
  {
   "cell_type": "code",
   "execution_count": 59,
   "metadata": {},
   "outputs": [],
   "source": [
    "colk =[] # Getting the coulumns with Kurtosis more than 3 to remove outliers\n",
    "for col in df_sel_1.columns:\n",
    "    if col !=\"Churn\":\n",
    "        if (df_sel_1[col].kurtosis()-3)>0:\n",
    "            colk.append(col)"
   ]
  },
  {
   "cell_type": "code",
   "execution_count": 60,
   "metadata": {},
   "outputs": [
    {
     "data": {
      "text/plain": [
       "128"
      ]
     },
     "execution_count": 60,
     "metadata": {},
     "output_type": "execute_result"
    }
   ],
   "source": [
    "len(colk)"
   ]
  },
  {
   "cell_type": "code",
   "execution_count": 61,
   "metadata": {},
   "outputs": [
    {
     "data": {
      "text/plain": [
       "['arpu_6', 'arpu_7', 'arpu_8', 'onnet_mou_6', 'onnet_mou_7']"
      ]
     },
     "execution_count": 61,
     "metadata": {},
     "output_type": "execute_result"
    }
   ],
   "source": [
    "colk[:5]"
   ]
  },
  {
   "cell_type": "code",
   "execution_count": 63,
   "metadata": {},
   "outputs": [],
   "source": [
    "for col in colk:# Replacing beyond 99% percentile values with 75th percentile of column for columns Kurtosis > 3\n",
    "    if col !=\"Churn\":\n",
    "        df_sel_1[col] = df_sel_1[col].mask(df_sel_1[col] > np.quantile(df_sel_1[col],.99),np.quantile(df_sel_1[col],.75))"
   ]
  },
  {
   "cell_type": "code",
   "execution_count": 64,
   "metadata": {},
   "outputs": [
    {
     "data": {
      "text/html": [
       "<div>\n",
       "<style scoped>\n",
       "    .dataframe tbody tr th:only-of-type {\n",
       "        vertical-align: middle;\n",
       "    }\n",
       "\n",
       "    .dataframe tbody tr th {\n",
       "        vertical-align: top;\n",
       "    }\n",
       "\n",
       "    .dataframe thead th {\n",
       "        text-align: right;\n",
       "    }\n",
       "</style>\n",
       "<table border=\"1\" class=\"dataframe\">\n",
       "  <thead>\n",
       "    <tr style=\"text-align: right;\">\n",
       "      <th></th>\n",
       "      <th>arpu_6</th>\n",
       "      <th>arpu_7</th>\n",
       "      <th>arpu_8</th>\n",
       "      <th>onnet_mou_6</th>\n",
       "      <th>onnet_mou_7</th>\n",
       "      <th>onnet_mou_8</th>\n",
       "      <th>offnet_mou_6</th>\n",
       "      <th>offnet_mou_7</th>\n",
       "      <th>offnet_mou_8</th>\n",
       "      <th>roam_ic_mou_6</th>\n",
       "      <th>...</th>\n",
       "      <th>sachet_3g_6</th>\n",
       "      <th>sachet_3g_7</th>\n",
       "      <th>sachet_3g_8</th>\n",
       "      <th>aon</th>\n",
       "      <th>aug_vbc_3g</th>\n",
       "      <th>jul_vbc_3g</th>\n",
       "      <th>jun_vbc_3g</th>\n",
       "      <th>sep_vbc_3g</th>\n",
       "      <th>Avg_rech_good_phase</th>\n",
       "      <th>Churn</th>\n",
       "    </tr>\n",
       "  </thead>\n",
       "  <tbody>\n",
       "    <tr>\n",
       "      <td>count</td>\n",
       "      <td>30011.000000</td>\n",
       "      <td>30011.000000</td>\n",
       "      <td>30011.000000</td>\n",
       "      <td>30011.000000</td>\n",
       "      <td>30011.000000</td>\n",
       "      <td>30011.000000</td>\n",
       "      <td>30011.000000</td>\n",
       "      <td>30011.000000</td>\n",
       "      <td>30011.000000</td>\n",
       "      <td>30011.000000</td>\n",
       "      <td>...</td>\n",
       "      <td>30011.000000</td>\n",
       "      <td>30011.000000</td>\n",
       "      <td>30011.000000</td>\n",
       "      <td>30011.000000</td>\n",
       "      <td>30011.000000</td>\n",
       "      <td>30011.000000</td>\n",
       "      <td>30011.000000</td>\n",
       "      <td>30011.000000</td>\n",
       "      <td>30011.000000</td>\n",
       "      <td>30011.000000</td>\n",
       "    </tr>\n",
       "    <tr>\n",
       "      <td>mean</td>\n",
       "      <td>564.601073</td>\n",
       "      <td>566.073762</td>\n",
       "      <td>511.148030</td>\n",
       "      <td>270.524660</td>\n",
       "      <td>277.677303</td>\n",
       "      <td>242.687358</td>\n",
       "      <td>395.060271</td>\n",
       "      <td>399.385755</td>\n",
       "      <td>355.593130</td>\n",
       "      <td>11.299738</td>\n",
       "      <td>...</td>\n",
       "      <td>0.076305</td>\n",
       "      <td>0.073373</td>\n",
       "      <td>0.064943</td>\n",
       "      <td>1264.064776</td>\n",
       "      <td>102.170426</td>\n",
       "      <td>106.583278</td>\n",
       "      <td>93.458603</td>\n",
       "      <td>2.754899</td>\n",
       "      <td>671.519776</td>\n",
       "      <td>0.086402</td>\n",
       "    </tr>\n",
       "    <tr>\n",
       "      <td>std</td>\n",
       "      <td>306.334839</td>\n",
       "      <td>308.323397</td>\n",
       "      <td>340.676352</td>\n",
       "      <td>357.416902</td>\n",
       "      <td>371.769150</td>\n",
       "      <td>348.097960</td>\n",
       "      <td>373.259172</td>\n",
       "      <td>379.500624</td>\n",
       "      <td>355.874067</td>\n",
       "      <td>38.618987</td>\n",
       "      <td>...</td>\n",
       "      <td>0.339318</td>\n",
       "      <td>0.334331</td>\n",
       "      <td>0.321424</td>\n",
       "      <td>975.263117</td>\n",
       "      <td>268.663821</td>\n",
       "      <td>283.558395</td>\n",
       "      <td>258.582535</td>\n",
       "      <td>14.686083</td>\n",
       "      <td>311.864295</td>\n",
       "      <td>0.280961</td>\n",
       "    </tr>\n",
       "    <tr>\n",
       "      <td>min</td>\n",
       "      <td>-2258.709000</td>\n",
       "      <td>-2014.045000</td>\n",
       "      <td>-945.808000</td>\n",
       "      <td>0.000000</td>\n",
       "      <td>0.000000</td>\n",
       "      <td>0.000000</td>\n",
       "      <td>0.000000</td>\n",
       "      <td>0.000000</td>\n",
       "      <td>0.000000</td>\n",
       "      <td>0.000000</td>\n",
       "      <td>...</td>\n",
       "      <td>0.000000</td>\n",
       "      <td>0.000000</td>\n",
       "      <td>0.000000</td>\n",
       "      <td>180.000000</td>\n",
       "      <td>0.000000</td>\n",
       "      <td>0.000000</td>\n",
       "      <td>0.000000</td>\n",
       "      <td>0.000000</td>\n",
       "      <td>368.500000</td>\n",
       "      <td>0.000000</td>\n",
       "    </tr>\n",
       "    <tr>\n",
       "      <td>25%</td>\n",
       "      <td>364.161000</td>\n",
       "      <td>365.004500</td>\n",
       "      <td>289.609500</td>\n",
       "      <td>43.510000</td>\n",
       "      <td>43.260000</td>\n",
       "      <td>33.985000</td>\n",
       "      <td>142.825000</td>\n",
       "      <td>141.235000</td>\n",
       "      <td>111.730000</td>\n",
       "      <td>0.000000</td>\n",
       "      <td>...</td>\n",
       "      <td>0.000000</td>\n",
       "      <td>0.000000</td>\n",
       "      <td>0.000000</td>\n",
       "      <td>480.000000</td>\n",
       "      <td>0.000000</td>\n",
       "      <td>0.000000</td>\n",
       "      <td>0.000000</td>\n",
       "      <td>0.000000</td>\n",
       "      <td>450.000000</td>\n",
       "      <td>0.000000</td>\n",
       "    </tr>\n",
       "    <tr>\n",
       "      <td>50%</td>\n",
       "      <td>495.682000</td>\n",
       "      <td>493.561000</td>\n",
       "      <td>452.091000</td>\n",
       "      <td>128.330000</td>\n",
       "      <td>127.950000</td>\n",
       "      <td>106.280000</td>\n",
       "      <td>285.960000</td>\n",
       "      <td>285.485000</td>\n",
       "      <td>251.360000</td>\n",
       "      <td>0.000000</td>\n",
       "      <td>...</td>\n",
       "      <td>0.000000</td>\n",
       "      <td>0.000000</td>\n",
       "      <td>0.000000</td>\n",
       "      <td>914.000000</td>\n",
       "      <td>0.000000</td>\n",
       "      <td>0.000000</td>\n",
       "      <td>0.000000</td>\n",
       "      <td>0.000000</td>\n",
       "      <td>568.500000</td>\n",
       "      <td>0.000000</td>\n",
       "    </tr>\n",
       "    <tr>\n",
       "      <td>75%</td>\n",
       "      <td>703.905500</td>\n",
       "      <td>700.787000</td>\n",
       "      <td>671.135000</td>\n",
       "      <td>353.310000</td>\n",
       "      <td>359.917500</td>\n",
       "      <td>297.712500</td>\n",
       "      <td>523.107500</td>\n",
       "      <td>532.662500</td>\n",
       "      <td>482.610000</td>\n",
       "      <td>0.000000</td>\n",
       "      <td>...</td>\n",
       "      <td>0.000000</td>\n",
       "      <td>0.000000</td>\n",
       "      <td>0.000000</td>\n",
       "      <td>1924.000000</td>\n",
       "      <td>1.600000</td>\n",
       "      <td>1.985000</td>\n",
       "      <td>0.000000</td>\n",
       "      <td>0.000000</td>\n",
       "      <td>795.500000</td>\n",
       "      <td>0.000000</td>\n",
       "    </tr>\n",
       "    <tr>\n",
       "      <td>90%</td>\n",
       "      <td>962.195000</td>\n",
       "      <td>961.613000</td>\n",
       "      <td>946.050000</td>\n",
       "      <td>744.830000</td>\n",
       "      <td>770.130000</td>\n",
       "      <td>677.940000</td>\n",
       "      <td>867.440000</td>\n",
       "      <td>895.780000</td>\n",
       "      <td>811.610000</td>\n",
       "      <td>27.210000</td>\n",
       "      <td>...</td>\n",
       "      <td>0.000000</td>\n",
       "      <td>0.000000</td>\n",
       "      <td>0.000000</td>\n",
       "      <td>2846.000000</td>\n",
       "      <td>387.480000</td>\n",
       "      <td>398.360000</td>\n",
       "      <td>345.570000</td>\n",
       "      <td>0.000000</td>\n",
       "      <td>1086.000000</td>\n",
       "      <td>0.000000</td>\n",
       "    </tr>\n",
       "    <tr>\n",
       "      <td>95%</td>\n",
       "      <td>1173.676500</td>\n",
       "      <td>1189.461500</td>\n",
       "      <td>1189.265000</td>\n",
       "      <td>1066.775000</td>\n",
       "      <td>1096.660000</td>\n",
       "      <td>1007.195000</td>\n",
       "      <td>1167.870000</td>\n",
       "      <td>1185.890000</td>\n",
       "      <td>1096.575000</td>\n",
       "      <td>73.890000</td>\n",
       "      <td>...</td>\n",
       "      <td>1.000000</td>\n",
       "      <td>1.000000</td>\n",
       "      <td>0.000000</td>\n",
       "      <td>3179.000000</td>\n",
       "      <td>707.795000</td>\n",
       "      <td>740.245000</td>\n",
       "      <td>665.510000</td>\n",
       "      <td>10.175000</td>\n",
       "      <td>1317.500000</td>\n",
       "      <td>1.000000</td>\n",
       "    </tr>\n",
       "    <tr>\n",
       "      <td>99%</td>\n",
       "      <td>1626.313200</td>\n",
       "      <td>1643.885000</td>\n",
       "      <td>1661.783800</td>\n",
       "      <td>1694.323000</td>\n",
       "      <td>1771.120000</td>\n",
       "      <td>1699.979000</td>\n",
       "      <td>1837.660000</td>\n",
       "      <td>1838.390000</td>\n",
       "      <td>1737.997000</td>\n",
       "      <td>221.174000</td>\n",
       "      <td>...</td>\n",
       "      <td>2.000000</td>\n",
       "      <td>2.000000</td>\n",
       "      <td>2.000000</td>\n",
       "      <td>3651.000000</td>\n",
       "      <td>1342.160000</td>\n",
       "      <td>1445.975000</td>\n",
       "      <td>1337.457000</td>\n",
       "      <td>84.916000</td>\n",
       "      <td>1833.400000</td>\n",
       "      <td>1.000000</td>\n",
       "    </tr>\n",
       "    <tr>\n",
       "      <td>max</td>\n",
       "      <td>1982.455000</td>\n",
       "      <td>1998.245000</td>\n",
       "      <td>1986.867000</td>\n",
       "      <td>2164.390000</td>\n",
       "      <td>2218.630000</td>\n",
       "      <td>2182.780000</td>\n",
       "      <td>2325.660000</td>\n",
       "      <td>2403.030000</td>\n",
       "      <td>2206.980000</td>\n",
       "      <td>348.210000</td>\n",
       "      <td>...</td>\n",
       "      <td>3.000000</td>\n",
       "      <td>3.000000</td>\n",
       "      <td>3.000000</td>\n",
       "      <td>4321.000000</td>\n",
       "      <td>1818.290000</td>\n",
       "      <td>1940.050000</td>\n",
       "      <td>1863.650000</td>\n",
       "      <td>173.500000</td>\n",
       "      <td>2210.000000</td>\n",
       "      <td>1.000000</td>\n",
       "    </tr>\n",
       "  </tbody>\n",
       "</table>\n",
       "<p>11 rows × 136 columns</p>\n",
       "</div>"
      ],
      "text/plain": [
       "             arpu_6        arpu_7        arpu_8   onnet_mou_6   onnet_mou_7  \\\n",
       "count  30011.000000  30011.000000  30011.000000  30011.000000  30011.000000   \n",
       "mean     564.601073    566.073762    511.148030    270.524660    277.677303   \n",
       "std      306.334839    308.323397    340.676352    357.416902    371.769150   \n",
       "min    -2258.709000  -2014.045000   -945.808000      0.000000      0.000000   \n",
       "25%      364.161000    365.004500    289.609500     43.510000     43.260000   \n",
       "50%      495.682000    493.561000    452.091000    128.330000    127.950000   \n",
       "75%      703.905500    700.787000    671.135000    353.310000    359.917500   \n",
       "90%      962.195000    961.613000    946.050000    744.830000    770.130000   \n",
       "95%     1173.676500   1189.461500   1189.265000   1066.775000   1096.660000   \n",
       "99%     1626.313200   1643.885000   1661.783800   1694.323000   1771.120000   \n",
       "max     1982.455000   1998.245000   1986.867000   2164.390000   2218.630000   \n",
       "\n",
       "        onnet_mou_8  offnet_mou_6  offnet_mou_7  offnet_mou_8  roam_ic_mou_6  \\\n",
       "count  30011.000000  30011.000000  30011.000000  30011.000000   30011.000000   \n",
       "mean     242.687358    395.060271    399.385755    355.593130      11.299738   \n",
       "std      348.097960    373.259172    379.500624    355.874067      38.618987   \n",
       "min        0.000000      0.000000      0.000000      0.000000       0.000000   \n",
       "25%       33.985000    142.825000    141.235000    111.730000       0.000000   \n",
       "50%      106.280000    285.960000    285.485000    251.360000       0.000000   \n",
       "75%      297.712500    523.107500    532.662500    482.610000       0.000000   \n",
       "90%      677.940000    867.440000    895.780000    811.610000      27.210000   \n",
       "95%     1007.195000   1167.870000   1185.890000   1096.575000      73.890000   \n",
       "99%     1699.979000   1837.660000   1838.390000   1737.997000     221.174000   \n",
       "max     2182.780000   2325.660000   2403.030000   2206.980000     348.210000   \n",
       "\n",
       "       ...   sachet_3g_6   sachet_3g_7   sachet_3g_8           aon  \\\n",
       "count  ...  30011.000000  30011.000000  30011.000000  30011.000000   \n",
       "mean   ...      0.076305      0.073373      0.064943   1264.064776   \n",
       "std    ...      0.339318      0.334331      0.321424    975.263117   \n",
       "min    ...      0.000000      0.000000      0.000000    180.000000   \n",
       "25%    ...      0.000000      0.000000      0.000000    480.000000   \n",
       "50%    ...      0.000000      0.000000      0.000000    914.000000   \n",
       "75%    ...      0.000000      0.000000      0.000000   1924.000000   \n",
       "90%    ...      0.000000      0.000000      0.000000   2846.000000   \n",
       "95%    ...      1.000000      1.000000      0.000000   3179.000000   \n",
       "99%    ...      2.000000      2.000000      2.000000   3651.000000   \n",
       "max    ...      3.000000      3.000000      3.000000   4321.000000   \n",
       "\n",
       "         aug_vbc_3g    jul_vbc_3g    jun_vbc_3g    sep_vbc_3g  \\\n",
       "count  30011.000000  30011.000000  30011.000000  30011.000000   \n",
       "mean     102.170426    106.583278     93.458603      2.754899   \n",
       "std      268.663821    283.558395    258.582535     14.686083   \n",
       "min        0.000000      0.000000      0.000000      0.000000   \n",
       "25%        0.000000      0.000000      0.000000      0.000000   \n",
       "50%        0.000000      0.000000      0.000000      0.000000   \n",
       "75%        1.600000      1.985000      0.000000      0.000000   \n",
       "90%      387.480000    398.360000    345.570000      0.000000   \n",
       "95%      707.795000    740.245000    665.510000     10.175000   \n",
       "99%     1342.160000   1445.975000   1337.457000     84.916000   \n",
       "max     1818.290000   1940.050000   1863.650000    173.500000   \n",
       "\n",
       "       Avg_rech_good_phase         Churn  \n",
       "count         30011.000000  30011.000000  \n",
       "mean            671.519776      0.086402  \n",
       "std             311.864295      0.280961  \n",
       "min             368.500000      0.000000  \n",
       "25%             450.000000      0.000000  \n",
       "50%             568.500000      0.000000  \n",
       "75%             795.500000      0.000000  \n",
       "90%            1086.000000      0.000000  \n",
       "95%            1317.500000      1.000000  \n",
       "99%            1833.400000      1.000000  \n",
       "max            2210.000000      1.000000  \n",
       "\n",
       "[11 rows x 136 columns]"
      ]
     },
     "execution_count": 64,
     "metadata": {},
     "output_type": "execute_result"
    }
   ],
   "source": [
    "df_sel_1.describe(percentiles=[.25,.50,.75,.90,.95,.99]) # Describe after replacing beyond 99 percentile with 75th Per"
   ]
  },
  {
   "cell_type": "code",
   "execution_count": 65,
   "metadata": {},
   "outputs": [],
   "source": [
    "#df_sel_1.columns[:51]"
   ]
  },
  {
   "cell_type": "code",
   "execution_count": 66,
   "metadata": {},
   "outputs": [],
   "source": [
    "#df_sel_1.columns[51:]"
   ]
  },
  {
   "cell_type": "code",
   "execution_count": 67,
   "metadata": {},
   "outputs": [
    {
     "data": {
      "text/plain": [
       "136"
      ]
     },
     "execution_count": 67,
     "metadata": {},
     "output_type": "execute_result"
    }
   ],
   "source": [
    "len(df_sel_1.columns)"
   ]
  },
  {
   "cell_type": "code",
   "execution_count": 68,
   "metadata": {},
   "outputs": [
    {
     "data": {
      "text/plain": [
       "30011"
      ]
     },
     "execution_count": 68,
     "metadata": {},
     "output_type": "execute_result"
    }
   ],
   "source": [
    "len(df_sel_1)"
   ]
  },
  {
   "cell_type": "code",
   "execution_count": 69,
   "metadata": {},
   "outputs": [],
   "source": [
    "df_sel_1 = df_sel_1.drop([\"sep_vbc_3g\"],axis=1) # dropping 9th motnh column "
   ]
  },
  {
   "cell_type": "code",
   "execution_count": 70,
   "metadata": {},
   "outputs": [
    {
     "data": {
      "text/plain": [
       "135"
      ]
     },
     "execution_count": 70,
     "metadata": {},
     "output_type": "execute_result"
    }
   ],
   "source": [
    "len(df_sel_1.columns)"
   ]
  },
  {
   "cell_type": "markdown",
   "metadata": {},
   "source": [
    "## Ploting each feature for churn = 1 class and not churn = 0 class to spot if distribution of these variables/features differ significantly for these two classes : EDA\n",
    "\n",
    "Conclusion: Majority of Usage  as well as  Revenue for  Class 1 (Churn Class) is on decrease over 6 to 8  three months period\n",
    "          : Average Recharge in Good Phase e.g. 6 and 7th month is less for Class 1 (Churn Class)"
   ]
  },
  {
   "cell_type": "code",
   "execution_count": 71,
   "metadata": {},
   "outputs": [],
   "source": [
    "df_sel_1_0 = df_sel_1[df_sel_1[\"Churn\"]==0]\n",
    "df_sel_1_1 = df_sel_1[df_sel_1[\"Churn\"]==1]"
   ]
  },
  {
   "cell_type": "code",
   "execution_count": 72,
   "metadata": {},
   "outputs": [],
   "source": [
    "cola=df_sel_1.columns[:45]\n",
    "colb=df_sel_1.columns[45:90]\n",
    "colc=df_sel_1.columns[90:135]"
   ]
  },
  {
   "cell_type": "code",
   "execution_count": 73,
   "metadata": {},
   "outputs": [
    {
     "data": {
      "image/png": "[encoded data removed]",
      "text/plain": [
       "<Figure size 1080x1512 with 45 Axes>"
      ]
     },
     "metadata": {
      "needs_background": "light"
     },
     "output_type": "display_data"
    }
   ],
   "source": [
    "fig,axes = plt.subplots(15,3,figsize=(15,21))\n",
    "for ax,col in zip(axes.ravel(),cola):\n",
    "    ax.hist(df_sel_1_0[col],label=\"0\",alpha=0.7,bins=15)\n",
    "    ax.hist(df_sel_1_1[col],label=\"1\",alpha=0.7,bins=15)\n",
    "    ax.set_title(col)\n",
    "    ax.legend(loc=\"best\")\n",
    "plt.tight_layout()    "
   ]
  },
  {
   "cell_type": "code",
   "execution_count": 74,
   "metadata": {},
   "outputs": [
    {
     "data": {
      "image/png": "[encoded data removed]",
      "text/plain": [
       "<Figure size 1080x1512 with 45 Axes>"
      ]
     },
     "metadata": {
      "needs_background": "light"
     },
     "output_type": "display_data"
    }
   ],
   "source": [
    "fig,axes = plt.subplots(15,3,figsize=(15,21))\n",
    "for ax,col in zip(axes.ravel(),colb):\n",
    "    ax.hist(df_sel_1_0[col],label=\"0\",alpha=0.7,bins=15)\n",
    "    ax.hist(df_sel_1_1[col],label=\"1\",alpha=0.7,bins=15)\n",
    "    ax.set_title(col)\n",
    "    ax.legend(loc=\"best\")\n",
    "plt.tight_layout() "
   ]
  },
  {
   "cell_type": "code",
   "execution_count": 75,
   "metadata": {
    "scrolled": false
   },
   "outputs": [
    {
     "data": {
      "image/png": "[encoded data removed]",
      "text/plain": [
       "<Figure size 1080x1512 with 45 Axes>"
      ]
     },
     "metadata": {
      "needs_background": "light"
     },
     "output_type": "display_data"
    }
   ],
   "source": [
    "fig,axes = plt.subplots(15,3,figsize=(15,21))\n",
    "for ax,col in zip(axes.ravel(),colc):\n",
    "    ax.hist(df_sel_1_0[col],label=\"0\",alpha=0.7,bins=15)\n",
    "    ax.hist(df_sel_1_1[col],label=\"1\",alpha=0.7,bins=15)\n",
    "    ax.set_title(col)\n",
    "    ax.legend(loc=\"best\")\n",
    "plt.tight_layout()  "
   ]
  },
  {
   "cell_type": "code",
   "execution_count": 76,
   "metadata": {},
   "outputs": [],
   "source": [
    "# Adding two features Based on Above EDA to track drop of utilization of services provided"
   ]
  },
  {
   "cell_type": "code",
   "execution_count": 77,
   "metadata": {},
   "outputs": [],
   "source": [
    "# Adding Two Features Based on Above EDA to track drop of utilization of service\n",
    "df_sel_1[\"OutGoingUseDrop\"] = df_sel_1[\"total_og_mou_8\"]-df_sel_1[\"total_og_mou_6\"] #1 -- Drop in Incoming  Utility 1 drop\n",
    "df_sel_1[\"IncomingUseDrop\"] = df_sel_1[\"total_ic_mou_8\"]-df_sel_1[\"total_ic_mou_6\"] #2 -- Drop in Outgoing  Utility 2 drop"
   ]
  },
  {
   "cell_type": "markdown",
   "metadata": {},
   "source": [
    "# 1st Interpretable Model Without PCA--Random Forest"
   ]
  },
  {
   "cell_type": "code",
   "execution_count": 78,
   "metadata": {},
   "outputs": [],
   "source": [
    "yi = df_sel_1[\"Churn\"]\n",
    "Xi = df_sel_1.drop([\"Churn\"],axis=1)"
   ]
  },
  {
   "cell_type": "code",
   "execution_count": 79,
   "metadata": {},
   "outputs": [
    {
     "name": "stdout",
     "output_type": "stream",
     "text": [
      "(30011, 136) (30011,)\n"
     ]
    }
   ],
   "source": [
    "print(Xi.shape,yi.shape)"
   ]
  },
  {
   "cell_type": "code",
   "execution_count": 80,
   "metadata": {},
   "outputs": [],
   "source": [
    "X_train, X_test, y_train, y_test = train_test_split(Xi, yi, test_size=0.35, random_state=30)"
   ]
  },
  {
   "cell_type": "code",
   "execution_count": 81,
   "metadata": {},
   "outputs": [],
   "source": [
    "rf = RandomForestClassifier(n_estimators=200,class_weight={0:.91,1:0.09},criterion=\"entropy\",n_jobs=-1,min_samples_split=4,\n",
    "                           oob_score=True)"
   ]
  },
  {
   "cell_type": "code",
   "execution_count": 82,
   "metadata": {},
   "outputs": [
    {
     "data": {
      "text/plain": [
       "RandomForestClassifier(bootstrap=True, class_weight={0: 0.91, 1: 0.09},\n",
       "                       criterion='entropy', max_depth=None, max_features='auto',\n",
       "                       max_leaf_nodes=None, min_impurity_decrease=0.0,\n",
       "                       min_impurity_split=None, min_samples_leaf=1,\n",
       "                       min_samples_split=4, min_weight_fraction_leaf=0.0,\n",
       "                       n_estimators=200, n_jobs=-1, oob_score=True,\n",
       "                       random_state=None, verbose=0, warm_start=False)"
      ]
     },
     "execution_count": 82,
     "metadata": {},
     "output_type": "execute_result"
    }
   ],
   "source": [
    "rf.fit(X_train,y_train)"
   ]
  },
  {
   "cell_type": "code",
   "execution_count": 83,
   "metadata": {},
   "outputs": [
    {
     "data": {
      "text/plain": [
       "0.9404988575780655"
      ]
     },
     "execution_count": 83,
     "metadata": {},
     "output_type": "execute_result"
    }
   ],
   "source": [
    "rf.score(X_test,y_test)"
   ]
  },
  {
   "cell_type": "code",
   "execution_count": 84,
   "metadata": {},
   "outputs": [
    {
     "name": "stdout",
     "output_type": "stream",
     "text": [
      "0.9402778489772902\n"
     ]
    }
   ],
   "source": [
    "print(rf.oob_score_)"
   ]
  },
  {
   "cell_type": "code",
   "execution_count": 85,
   "metadata": {},
   "outputs": [
    {
     "data": {
      "text/plain": [
       "array([[17101,   693],\n",
       "       [    0,  1713]], dtype=int64)"
      ]
     },
     "execution_count": 85,
     "metadata": {},
     "output_type": "execute_result"
    }
   ],
   "source": [
    "confusion_matrix(y_train,rf.predict_proba(X_train)[:,1]>.10) # setting cut off 0.10 from below curve for sensi and specifi\n",
    "                                                             # values for different probability values"
   ]
  },
  {
   "cell_type": "code",
   "execution_count": 86,
   "metadata": {},
   "outputs": [
    {
     "name": "stdout",
     "output_type": "stream",
     "text": [
      "              precision    recall  f1-score   support\n",
      "\n",
      "           0       1.00      0.96      0.98     17794\n",
      "           1       0.71      1.00      0.83      1713\n",
      "\n",
      "    accuracy                           0.96     19507\n",
      "   macro avg       0.86      0.98      0.91     19507\n",
      "weighted avg       0.97      0.96      0.97     19507\n",
      "\n"
     ]
    }
   ],
   "source": [
    "print(classification_report(y_train,rf.predict_proba(X_train)[:,1]>.10))"
   ]
  },
  {
   "cell_type": "code",
   "execution_count": 87,
   "metadata": {},
   "outputs": [
    {
     "data": {
      "text/plain": [
       "array([[8412, 1212],\n",
       "       [ 159,  721]], dtype=int64)"
      ]
     },
     "execution_count": 87,
     "metadata": {},
     "output_type": "execute_result"
    }
   ],
   "source": [
    "confusion_matrix(y_test,rf.predict_proba(X_test)[:,1]>.10)"
   ]
  },
  {
   "cell_type": "code",
   "execution_count": 88,
   "metadata": {},
   "outputs": [
    {
     "name": "stdout",
     "output_type": "stream",
     "text": [
      "              precision    recall  f1-score   support\n",
      "\n",
      "           0       0.98      0.87      0.92      9624\n",
      "           1       0.37      0.82      0.51       880\n",
      "\n",
      "    accuracy                           0.87     10504\n",
      "   macro avg       0.68      0.85      0.72     10504\n",
      "weighted avg       0.93      0.87      0.89     10504\n",
      "\n"
     ]
    }
   ],
   "source": [
    "print(classification_report(y_test,rf.predict_proba(X_test)[:,1]>.10)) # Sensitivity Of Minority Class Greater than 70% \n",
    "                                                                       # with precision of 50 %"
   ]
  },
  {
   "cell_type": "code",
   "execution_count": 89,
   "metadata": {},
   "outputs": [],
   "source": [
    "df_rk = pd.DataFrame({\"Features\":Xi.columns,\"Ranking\":rf.feature_importances_})"
   ]
  },
  {
   "cell_type": "code",
   "execution_count": 91,
   "metadata": {},
   "outputs": [
    {
     "data": {
      "text/html": [
       "<div>\n",
       "<style scoped>\n",
       "    .dataframe tbody tr th:only-of-type {\n",
       "        vertical-align: middle;\n",
       "    }\n",
       "\n",
       "    .dataframe tbody tr th {\n",
       "        vertical-align: top;\n",
       "    }\n",
       "\n",
       "    .dataframe thead th {\n",
       "        text-align: right;\n",
       "    }\n",
       "</style>\n",
       "<table border=\"1\" class=\"dataframe\">\n",
       "  <thead>\n",
       "    <tr style=\"text-align: right;\">\n",
       "      <th></th>\n",
       "      <th>Features</th>\n",
       "      <th>Ranking</th>\n",
       "    </tr>\n",
       "  </thead>\n",
       "  <tbody>\n",
       "    <tr>\n",
       "      <td>86</td>\n",
       "      <td>total_ic_mou_8</td>\n",
       "      <td>0.050105</td>\n",
       "    </tr>\n",
       "    <tr>\n",
       "      <td>56</td>\n",
       "      <td>total_og_mou_8</td>\n",
       "      <td>0.044878</td>\n",
       "    </tr>\n",
       "    <tr>\n",
       "      <td>2</td>\n",
       "      <td>arpu_8</td>\n",
       "      <td>0.041505</td>\n",
       "    </tr>\n",
       "    <tr>\n",
       "      <td>101</td>\n",
       "      <td>total_rech_amt_8</td>\n",
       "      <td>0.030237</td>\n",
       "    </tr>\n",
       "    <tr>\n",
       "      <td>107</td>\n",
       "      <td>last_day_rch_amt_8</td>\n",
       "      <td>0.028481</td>\n",
       "    </tr>\n",
       "    <tr>\n",
       "      <td>134</td>\n",
       "      <td>OutGoingUseDrop</td>\n",
       "      <td>0.019913</td>\n",
       "    </tr>\n",
       "    <tr>\n",
       "      <td>62</td>\n",
       "      <td>loc_ic_t2m_mou_8</td>\n",
       "      <td>0.018721</td>\n",
       "    </tr>\n",
       "    <tr>\n",
       "      <td>11</td>\n",
       "      <td>roam_ic_mou_8</td>\n",
       "      <td>0.018563</td>\n",
       "    </tr>\n",
       "    <tr>\n",
       "      <td>14</td>\n",
       "      <td>roam_og_mou_8</td>\n",
       "      <td>0.018058</td>\n",
       "    </tr>\n",
       "    <tr>\n",
       "      <td>68</td>\n",
       "      <td>loc_ic_mou_8</td>\n",
       "      <td>0.017439</td>\n",
       "    </tr>\n",
       "    <tr>\n",
       "      <td>104</td>\n",
       "      <td>max_rech_amt_8</td>\n",
       "      <td>0.017203</td>\n",
       "    </tr>\n",
       "    <tr>\n",
       "      <td>135</td>\n",
       "      <td>IncomingUseDrop</td>\n",
       "      <td>0.014817</td>\n",
       "    </tr>\n",
       "    <tr>\n",
       "      <td>29</td>\n",
       "      <td>loc_og_mou_8</td>\n",
       "      <td>0.014700</td>\n",
       "    </tr>\n",
       "    <tr>\n",
       "      <td>59</td>\n",
       "      <td>loc_ic_t2t_mou_8</td>\n",
       "      <td>0.014068</td>\n",
       "    </tr>\n",
       "    <tr>\n",
       "      <td>20</td>\n",
       "      <td>loc_og_t2m_mou_8</td>\n",
       "      <td>0.013718</td>\n",
       "    </tr>\n",
       "  </tbody>\n",
       "</table>\n",
       "</div>"
      ],
      "text/plain": [
       "               Features   Ranking\n",
       "86       total_ic_mou_8  0.050105\n",
       "56       total_og_mou_8  0.044878\n",
       "2                arpu_8  0.041505\n",
       "101    total_rech_amt_8  0.030237\n",
       "107  last_day_rch_amt_8  0.028481\n",
       "134     OutGoingUseDrop  0.019913\n",
       "62     loc_ic_t2m_mou_8  0.018721\n",
       "11        roam_ic_mou_8  0.018563\n",
       "14        roam_og_mou_8  0.018058\n",
       "68         loc_ic_mou_8  0.017439\n",
       "104      max_rech_amt_8  0.017203\n",
       "135     IncomingUseDrop  0.014817\n",
       "29         loc_og_mou_8  0.014700\n",
       "59     loc_ic_t2t_mou_8  0.014068\n",
       "20     loc_og_t2m_mou_8  0.013718"
      ]
     },
     "execution_count": 91,
     "metadata": {},
     "output_type": "execute_result"
    }
   ],
   "source": [
    "df_rk.sort_values(by=\"Ranking\",ascending=False)[:15] # Top 15 features ranked by Random Forest"
   ]
  },
  {
   "cell_type": "code",
   "execution_count": 92,
   "metadata": {},
   "outputs": [
    {
     "data": {
      "image/png": "[encoded data removed]",
      "text/plain": [
       "<Figure size 576x360 with 1 Axes>"
      ]
     },
     "metadata": {
      "needs_background": "light"
     },
     "output_type": "display_data"
    }
   ],
   "source": [
    "fpr,tpr,thresholds_rf = roc_curve(y_test,rf.predict_proba(X_test)[:,1])\n",
    "plt.figure(figsize=(8,5))\n",
    "\n",
    "plt.plot(fpr,tpr,label=\"ROC RF\")\n",
    "plt.xlabel(\"FPR = FP / ( FP+TN )\")\n",
    "plt.ylabel(\"TPR = TP / ( TP+FN )\")\n",
    "#Find the threshold closest to zero\n",
    "close_zero_rf = np.argmin(np.abs(thresholds_rf-0.5))\n",
    "plt.plot(fpr[close_zero_rf],tpr[close_zero_rf],\"o\",markersize=10)\n",
    "plt.title(\"ROC Curve\")\n",
    "plt.show()"
   ]
  },
  {
   "cell_type": "code",
   "execution_count": 93,
   "metadata": {},
   "outputs": [
    {
     "data": {
      "text/plain": [
       "0.4992330244799309"
      ]
     },
     "execution_count": 93,
     "metadata": {},
     "output_type": "execute_result"
    }
   ],
   "source": [
    "thresholds_rf[close_zero_rf]"
   ]
  },
  {
   "cell_type": "code",
   "execution_count": 94,
   "metadata": {},
   "outputs": [],
   "source": [
    "sen0=[]\n",
    "sen1=[]\n",
    "\n",
    "for prob in np.linspace(.1,.5,10):\n",
    "    cf = confusion_matrix(y_train,rf.predict_proba(X_train)[:,1]>prob)\n",
    "    sensitivity0 = cf[0,0]/(cf[0,0]+cf[0,1])\n",
    "    sensitivity1= cf[1,1]/(cf[1,1]+cf[1,0])\n",
    "    sen0.append(sensitivity0)\n",
    "    sen1.append(sensitivity1)"
   ]
  },
  {
   "cell_type": "code",
   "execution_count": 95,
   "metadata": {},
   "outputs": [
    {
     "data": {
      "image/png": "[encoded data removed]",
      "text/plain": [
       "<Figure size 792x360 with 1 Axes>"
      ]
     },
     "metadata": {
      "needs_background": "light"
     },
     "output_type": "display_data"
    }
   ],
   "source": [
    "plt.figure(figsize=(11,5))\n",
    "plt.plot(np.linspace(.1,.5,10),sen0,label=\"0\")\n",
    "plt.plot(np.linspace(.1,.5,10),sen1,label=\"1\")\n",
    "plt.legend()\n",
    "plt.title(\"Sensitivity/Specificity for Probability Cutoffs\")\n",
    "plt.show()"
   ]
  },
  {
   "cell_type": "markdown",
   "metadata": {},
   "source": [
    "# 2nd Interpretable Model Without PCA-- Logistic Regression"
   ]
  },
  {
   "cell_type": "code",
   "execution_count": 96,
   "metadata": {},
   "outputs": [],
   "source": [
    "scaler = StandardScaler()"
   ]
  },
  {
   "cell_type": "code",
   "execution_count": 97,
   "metadata": {},
   "outputs": [],
   "source": [
    "X_train[X_train.columns] = scaler.fit_transform(X_train[X_train.columns])"
   ]
  },
  {
   "cell_type": "code",
   "execution_count": 98,
   "metadata": {},
   "outputs": [],
   "source": [
    "X_test[X_test.columns] = scaler.transform(X_test[X_test.columns])"
   ]
  },
  {
   "cell_type": "code",
   "execution_count": 99,
   "metadata": {},
   "outputs": [
    {
     "data": {
      "text/html": [
       "<div>\n",
       "<style scoped>\n",
       "    .dataframe tbody tr th:only-of-type {\n",
       "        vertical-align: middle;\n",
       "    }\n",
       "\n",
       "    .dataframe tbody tr th {\n",
       "        vertical-align: top;\n",
       "    }\n",
       "\n",
       "    .dataframe thead th {\n",
       "        text-align: right;\n",
       "    }\n",
       "</style>\n",
       "<table border=\"1\" class=\"dataframe\">\n",
       "  <thead>\n",
       "    <tr style=\"text-align: right;\">\n",
       "      <th></th>\n",
       "      <th>arpu_6</th>\n",
       "      <th>arpu_7</th>\n",
       "      <th>arpu_8</th>\n",
       "      <th>onnet_mou_6</th>\n",
       "      <th>onnet_mou_7</th>\n",
       "      <th>onnet_mou_8</th>\n",
       "      <th>offnet_mou_6</th>\n",
       "      <th>offnet_mou_7</th>\n",
       "      <th>offnet_mou_8</th>\n",
       "      <th>roam_ic_mou_6</th>\n",
       "      <th>...</th>\n",
       "      <th>sachet_3g_6</th>\n",
       "      <th>sachet_3g_7</th>\n",
       "      <th>sachet_3g_8</th>\n",
       "      <th>aon</th>\n",
       "      <th>aug_vbc_3g</th>\n",
       "      <th>jul_vbc_3g</th>\n",
       "      <th>jun_vbc_3g</th>\n",
       "      <th>Avg_rech_good_phase</th>\n",
       "      <th>OutGoingUseDrop</th>\n",
       "      <th>IncomingUseDrop</th>\n",
       "    </tr>\n",
       "  </thead>\n",
       "  <tbody>\n",
       "    <tr>\n",
       "      <td>93427</td>\n",
       "      <td>1.098815</td>\n",
       "      <td>-1.841294</td>\n",
       "      <td>-1.499542</td>\n",
       "      <td>-0.639392</td>\n",
       "      <td>-0.746029</td>\n",
       "      <td>-0.393237</td>\n",
       "      <td>4.605970</td>\n",
       "      <td>-1.043153</td>\n",
       "      <td>-0.292959</td>\n",
       "      <td>-0.260087</td>\n",
       "      <td>...</td>\n",
       "      <td>-0.222207</td>\n",
       "      <td>-0.216155</td>\n",
       "      <td>-0.202292</td>\n",
       "      <td>-1.025762</td>\n",
       "      <td>-0.376364</td>\n",
       "      <td>-0.373741</td>\n",
       "      <td>-0.360012</td>\n",
       "      <td>-0.711156</td>\n",
       "      <td>-3.488841</td>\n",
       "      <td>-0.064280</td>\n",
       "    </tr>\n",
       "    <tr>\n",
       "      <td>8407</td>\n",
       "      <td>-0.753892</td>\n",
       "      <td>0.114699</td>\n",
       "      <td>-0.090824</td>\n",
       "      <td>-0.697733</td>\n",
       "      <td>-0.526088</td>\n",
       "      <td>-0.523027</td>\n",
       "      <td>0.299944</td>\n",
       "      <td>2.613041</td>\n",
       "      <td>1.789256</td>\n",
       "      <td>0.094136</td>\n",
       "      <td>...</td>\n",
       "      <td>-0.222207</td>\n",
       "      <td>-0.216155</td>\n",
       "      <td>-0.202292</td>\n",
       "      <td>0.607234</td>\n",
       "      <td>-0.376364</td>\n",
       "      <td>-0.373741</td>\n",
       "      <td>-0.360012</td>\n",
       "      <td>-0.552465</td>\n",
       "      <td>1.159064</td>\n",
       "      <td>0.378732</td>\n",
       "    </tr>\n",
       "    <tr>\n",
       "      <td>51706</td>\n",
       "      <td>1.077886</td>\n",
       "      <td>0.806013</td>\n",
       "      <td>1.426641</td>\n",
       "      <td>-0.446283</td>\n",
       "      <td>-0.453435</td>\n",
       "      <td>-0.458922</td>\n",
       "      <td>-0.761275</td>\n",
       "      <td>-0.392938</td>\n",
       "      <td>-0.397555</td>\n",
       "      <td>0.430370</td>\n",
       "      <td>...</td>\n",
       "      <td>-0.222207</td>\n",
       "      <td>-0.216155</td>\n",
       "      <td>-0.202292</td>\n",
       "      <td>0.206417</td>\n",
       "      <td>0.672441</td>\n",
       "      <td>0.835601</td>\n",
       "      <td>0.743020</td>\n",
       "      <td>0.917854</td>\n",
       "      <td>0.268795</td>\n",
       "      <td>1.679007</td>\n",
       "    </tr>\n",
       "  </tbody>\n",
       "</table>\n",
       "<p>3 rows × 136 columns</p>\n",
       "</div>"
      ],
      "text/plain": [
       "         arpu_6    arpu_7    arpu_8  onnet_mou_6  onnet_mou_7  onnet_mou_8  \\\n",
       "93427  1.098815 -1.841294 -1.499542    -0.639392    -0.746029    -0.393237   \n",
       "8407  -0.753892  0.114699 -0.090824    -0.697733    -0.526088    -0.523027   \n",
       "51706  1.077886  0.806013  1.426641    -0.446283    -0.453435    -0.458922   \n",
       "\n",
       "       offnet_mou_6  offnet_mou_7  offnet_mou_8  roam_ic_mou_6  ...  \\\n",
       "93427      4.605970     -1.043153     -0.292959      -0.260087  ...   \n",
       "8407       0.299944      2.613041      1.789256       0.094136  ...   \n",
       "51706     -0.761275     -0.392938     -0.397555       0.430370  ...   \n",
       "\n",
       "       sachet_3g_6  sachet_3g_7  sachet_3g_8       aon  aug_vbc_3g  \\\n",
       "93427    -0.222207    -0.216155    -0.202292 -1.025762   -0.376364   \n",
       "8407     -0.222207    -0.216155    -0.202292  0.607234   -0.376364   \n",
       "51706    -0.222207    -0.216155    -0.202292  0.206417    0.672441   \n",
       "\n",
       "       jul_vbc_3g  jun_vbc_3g  Avg_rech_good_phase  OutGoingUseDrop  \\\n",
       "93427   -0.373741   -0.360012            -0.711156        -3.488841   \n",
       "8407    -0.373741   -0.360012            -0.552465         1.159064   \n",
       "51706    0.835601    0.743020             0.917854         0.268795   \n",
       "\n",
       "       IncomingUseDrop  \n",
       "93427        -0.064280  \n",
       "8407          0.378732  \n",
       "51706         1.679007  \n",
       "\n",
       "[3 rows x 136 columns]"
      ]
     },
     "execution_count": 99,
     "metadata": {},
     "output_type": "execute_result"
    }
   ],
   "source": [
    "X_train[:3]"
   ]
  },
  {
   "cell_type": "code",
   "execution_count": 100,
   "metadata": {},
   "outputs": [],
   "source": [
    "import statsmodels.api as sm"
   ]
  },
  {
   "cell_type": "code",
   "execution_count": 101,
   "metadata": {
    "scrolled": false
   },
   "outputs": [
    {
     "data": {
      "text/html": [
       "<table class=\"simpletable\">\n",
       "<caption>Generalized Linear Model Regression Results</caption>\n",
       "<tr>\n",
       "  <th>Dep. Variable:</th>         <td>Churn</td>      <th>  No. Observations:  </th>  <td> 19507</td> \n",
       "</tr>\n",
       "<tr>\n",
       "  <th>Model:</th>                  <td>GLM</td>       <th>  Df Residuals:      </th>  <td> 19380</td> \n",
       "</tr>\n",
       "<tr>\n",
       "  <th>Model Family:</th>        <td>Binomial</td>     <th>  Df Model:          </th>  <td>   126</td> \n",
       "</tr>\n",
       "<tr>\n",
       "  <th>Link Function:</th>         <td>logit</td>      <th>  Scale:             </th> <td>  1.0000</td>\n",
       "</tr>\n",
       "<tr>\n",
       "  <th>Method:</th>                <td>IRLS</td>       <th>  Log-Likelihood:    </th> <td> -3472.6</td>\n",
       "</tr>\n",
       "<tr>\n",
       "  <th>Date:</th>            <td>Sun, 05 Jul 2020</td> <th>  Deviance:          </th> <td>  6945.3</td>\n",
       "</tr>\n",
       "<tr>\n",
       "  <th>Time:</th>                <td>11:57:54</td>     <th>  Pearson chi2:      </th> <td>1.86e+06</td>\n",
       "</tr>\n",
       "<tr>\n",
       "  <th>No. Iterations:</th>         <td>100</td>       <th>                     </th>     <td> </td>   \n",
       "</tr>\n",
       "<tr>\n",
       "  <th>Covariance Type:</th>     <td>nonrobust</td>    <th>                     </th>     <td> </td>   \n",
       "</tr>\n",
       "</table>\n",
       "<table class=\"simpletable\">\n",
       "<tr>\n",
       "           <td></td>              <th>coef</th>     <th>std err</th>      <th>z</th>      <th>P>|z|</th>  <th>[0.025</th>    <th>0.975]</th>  \n",
       "</tr>\n",
       "<tr>\n",
       "  <th>const</th>               <td>   -4.0432</td> <td>    0.070</td> <td>  -57.624</td> <td> 0.000</td> <td>   -4.181</td> <td>   -3.906</td>\n",
       "</tr>\n",
       "<tr>\n",
       "  <th>arpu_6</th>              <td>    0.1164</td> <td>    0.077</td> <td>    1.512</td> <td> 0.131</td> <td>   -0.035</td> <td>    0.267</td>\n",
       "</tr>\n",
       "<tr>\n",
       "  <th>arpu_7</th>              <td>    0.3073</td> <td>    0.080</td> <td>    3.829</td> <td> 0.000</td> <td>    0.150</td> <td>    0.465</td>\n",
       "</tr>\n",
       "<tr>\n",
       "  <th>arpu_8</th>              <td>   -0.2035</td> <td>    0.112</td> <td>   -1.815</td> <td> 0.070</td> <td>   -0.423</td> <td>    0.016</td>\n",
       "</tr>\n",
       "<tr>\n",
       "  <th>onnet_mou_6</th>         <td>    0.1566</td> <td>    0.072</td> <td>    2.184</td> <td> 0.029</td> <td>    0.016</td> <td>    0.297</td>\n",
       "</tr>\n",
       "<tr>\n",
       "  <th>onnet_mou_7</th>         <td>    0.1556</td> <td>    0.085</td> <td>    1.832</td> <td> 0.067</td> <td>   -0.011</td> <td>    0.322</td>\n",
       "</tr>\n",
       "<tr>\n",
       "  <th>onnet_mou_8</th>         <td>    0.2833</td> <td>    0.097</td> <td>    2.933</td> <td> 0.003</td> <td>    0.094</td> <td>    0.473</td>\n",
       "</tr>\n",
       "<tr>\n",
       "  <th>offnet_mou_6</th>        <td>    0.0327</td> <td>    0.075</td> <td>    0.438</td> <td> 0.661</td> <td>   -0.114</td> <td>    0.179</td>\n",
       "</tr>\n",
       "<tr>\n",
       "  <th>offnet_mou_7</th>        <td>    0.3294</td> <td>    0.091</td> <td>    3.637</td> <td> 0.000</td> <td>    0.152</td> <td>    0.507</td>\n",
       "</tr>\n",
       "<tr>\n",
       "  <th>offnet_mou_8</th>        <td>    0.4394</td> <td>    0.090</td> <td>    4.876</td> <td> 0.000</td> <td>    0.263</td> <td>    0.616</td>\n",
       "</tr>\n",
       "<tr>\n",
       "  <th>roam_ic_mou_6</th>       <td>   -0.0125</td> <td>    0.038</td> <td>   -0.328</td> <td> 0.743</td> <td>   -0.087</td> <td>    0.062</td>\n",
       "</tr>\n",
       "<tr>\n",
       "  <th>roam_ic_mou_7</th>       <td>    0.0071</td> <td>    0.033</td> <td>    0.218</td> <td> 0.827</td> <td>   -0.057</td> <td>    0.071</td>\n",
       "</tr>\n",
       "<tr>\n",
       "  <th>roam_ic_mou_8</th>       <td>    0.0797</td> <td>    0.030</td> <td>    2.642</td> <td> 0.008</td> <td>    0.021</td> <td>    0.139</td>\n",
       "</tr>\n",
       "<tr>\n",
       "  <th>roam_og_mou_6</th>       <td>    0.0095</td> <td>    0.035</td> <td>    0.271</td> <td> 0.786</td> <td>   -0.059</td> <td>    0.079</td>\n",
       "</tr>\n",
       "<tr>\n",
       "  <th>roam_og_mou_7</th>       <td>   -0.0282</td> <td>    0.033</td> <td>   -0.865</td> <td> 0.387</td> <td>   -0.092</td> <td>    0.036</td>\n",
       "</tr>\n",
       "<tr>\n",
       "  <th>roam_og_mou_8</th>       <td>    0.1233</td> <td>    0.029</td> <td>    4.205</td> <td> 0.000</td> <td>    0.066</td> <td>    0.181</td>\n",
       "</tr>\n",
       "<tr>\n",
       "  <th>loc_og_t2t_mou_6</th>    <td>   -0.0228</td> <td>    0.069</td> <td>   -0.332</td> <td> 0.740</td> <td>   -0.158</td> <td>    0.112</td>\n",
       "</tr>\n",
       "<tr>\n",
       "  <th>loc_og_t2t_mou_7</th>    <td>   -0.0257</td> <td>    0.079</td> <td>   -0.323</td> <td> 0.747</td> <td>   -0.181</td> <td>    0.130</td>\n",
       "</tr>\n",
       "<tr>\n",
       "  <th>loc_og_t2t_mou_8</th>    <td>   -0.1800</td> <td>    0.095</td> <td>   -1.891</td> <td> 0.059</td> <td>   -0.367</td> <td>    0.007</td>\n",
       "</tr>\n",
       "<tr>\n",
       "  <th>loc_og_t2m_mou_6</th>    <td>   -0.0868</td> <td>    0.085</td> <td>   -1.026</td> <td> 0.305</td> <td>   -0.253</td> <td>    0.079</td>\n",
       "</tr>\n",
       "<tr>\n",
       "  <th>loc_og_t2m_mou_7</th>    <td>   -0.1558</td> <td>    0.104</td> <td>   -1.497</td> <td> 0.134</td> <td>   -0.360</td> <td>    0.048</td>\n",
       "</tr>\n",
       "<tr>\n",
       "  <th>loc_og_t2m_mou_8</th>    <td>   -0.3583</td> <td>    0.124</td> <td>   -2.882</td> <td> 0.004</td> <td>   -0.602</td> <td>   -0.115</td>\n",
       "</tr>\n",
       "<tr>\n",
       "  <th>loc_og_t2f_mou_6</th>    <td>   -0.0884</td> <td>    0.062</td> <td>   -1.426</td> <td> 0.154</td> <td>   -0.210</td> <td>    0.033</td>\n",
       "</tr>\n",
       "<tr>\n",
       "  <th>loc_og_t2f_mou_7</th>    <td>   -0.1297</td> <td>    0.067</td> <td>   -1.929</td> <td> 0.054</td> <td>   -0.262</td> <td>    0.002</td>\n",
       "</tr>\n",
       "<tr>\n",
       "  <th>loc_og_t2f_mou_8</th>    <td>    0.1042</td> <td>    0.071</td> <td>    1.458</td> <td> 0.145</td> <td>   -0.036</td> <td>    0.244</td>\n",
       "</tr>\n",
       "<tr>\n",
       "  <th>loc_og_t2c_mou_6</th>    <td>    0.0153</td> <td>    0.035</td> <td>    0.437</td> <td> 0.662</td> <td>   -0.053</td> <td>    0.084</td>\n",
       "</tr>\n",
       "<tr>\n",
       "  <th>loc_og_t2c_mou_7</th>    <td>    0.0397</td> <td>    0.037</td> <td>    1.069</td> <td> 0.285</td> <td>   -0.033</td> <td>    0.112</td>\n",
       "</tr>\n",
       "<tr>\n",
       "  <th>loc_og_t2c_mou_8</th>    <td>    0.0170</td> <td>    0.045</td> <td>    0.378</td> <td> 0.706</td> <td>   -0.071</td> <td>    0.105</td>\n",
       "</tr>\n",
       "<tr>\n",
       "  <th>loc_og_mou_6</th>        <td>   -0.0448</td> <td>    0.097</td> <td>   -0.463</td> <td> 0.643</td> <td>   -0.235</td> <td>    0.145</td>\n",
       "</tr>\n",
       "<tr>\n",
       "  <th>loc_og_mou_7</th>        <td>   -0.1564</td> <td>    0.124</td> <td>   -1.258</td> <td> 0.208</td> <td>   -0.400</td> <td>    0.087</td>\n",
       "</tr>\n",
       "<tr>\n",
       "  <th>loc_og_mou_8</th>        <td>    0.5242</td> <td>    0.137</td> <td>    3.815</td> <td> 0.000</td> <td>    0.255</td> <td>    0.794</td>\n",
       "</tr>\n",
       "<tr>\n",
       "  <th>std_og_t2t_mou_6</th>    <td>   -0.0848</td> <td>    0.063</td> <td>   -1.357</td> <td> 0.175</td> <td>   -0.207</td> <td>    0.038</td>\n",
       "</tr>\n",
       "<tr>\n",
       "  <th>std_og_t2t_mou_7</th>    <td>   -0.1625</td> <td>    0.075</td> <td>   -2.154</td> <td> 0.031</td> <td>   -0.310</td> <td>   -0.015</td>\n",
       "</tr>\n",
       "<tr>\n",
       "  <th>std_og_t2t_mou_8</th>    <td>   -0.3099</td> <td>    0.087</td> <td>   -3.557</td> <td> 0.000</td> <td>   -0.481</td> <td>   -0.139</td>\n",
       "</tr>\n",
       "<tr>\n",
       "  <th>std_og_t2m_mou_6</th>    <td>   -0.0114</td> <td>    0.064</td> <td>   -0.179</td> <td> 0.858</td> <td>   -0.137</td> <td>    0.114</td>\n",
       "</tr>\n",
       "<tr>\n",
       "  <th>std_og_t2m_mou_7</th>    <td>   -0.1646</td> <td>    0.078</td> <td>   -2.111</td> <td> 0.035</td> <td>   -0.317</td> <td>   -0.012</td>\n",
       "</tr>\n",
       "<tr>\n",
       "  <th>std_og_t2m_mou_8</th>    <td>   -0.4581</td> <td>    0.078</td> <td>   -5.906</td> <td> 0.000</td> <td>   -0.610</td> <td>   -0.306</td>\n",
       "</tr>\n",
       "<tr>\n",
       "  <th>std_og_t2f_mou_6</th>    <td>    0.0224</td> <td>    0.044</td> <td>    0.510</td> <td> 0.610</td> <td>   -0.064</td> <td>    0.108</td>\n",
       "</tr>\n",
       "<tr>\n",
       "  <th>std_og_t2f_mou_7</th>    <td>   -0.0125</td> <td>    0.046</td> <td>   -0.269</td> <td> 0.788</td> <td>   -0.103</td> <td>    0.078</td>\n",
       "</tr>\n",
       "<tr>\n",
       "  <th>std_og_t2f_mou_8</th>    <td>   -0.0312</td> <td>    0.061</td> <td>   -0.509</td> <td> 0.611</td> <td>   -0.151</td> <td>    0.089</td>\n",
       "</tr>\n",
       "<tr>\n",
       "  <th>std_og_t2c_mou_6</th>    <td> 4.015e-16</td> <td> 1.68e-16</td> <td>    2.388</td> <td> 0.017</td> <td>  7.2e-17</td> <td> 7.31e-16</td>\n",
       "</tr>\n",
       "<tr>\n",
       "  <th>std_og_t2c_mou_7</th>    <td>-7.899e-17</td> <td> 1.51e-16</td> <td>   -0.523</td> <td> 0.601</td> <td>-3.75e-16</td> <td> 2.17e-16</td>\n",
       "</tr>\n",
       "<tr>\n",
       "  <th>std_og_t2c_mou_8</th>    <td> 1.513e-16</td> <td> 1.44e-16</td> <td>    1.050</td> <td> 0.294</td> <td>-1.31e-16</td> <td> 4.34e-16</td>\n",
       "</tr>\n",
       "<tr>\n",
       "  <th>std_og_mou_6</th>        <td>    0.0571</td> <td>    0.097</td> <td>    0.590</td> <td> 0.555</td> <td>   -0.133</td> <td>    0.247</td>\n",
       "</tr>\n",
       "<tr>\n",
       "  <th>std_og_mou_7</th>        <td>   -0.0538</td> <td>    0.106</td> <td>   -0.505</td> <td> 0.613</td> <td>   -0.262</td> <td>    0.155</td>\n",
       "</tr>\n",
       "<tr>\n",
       "  <th>std_og_mou_8</th>        <td>    0.9289</td> <td>    0.159</td> <td>    5.849</td> <td> 0.000</td> <td>    0.618</td> <td>    1.240</td>\n",
       "</tr>\n",
       "<tr>\n",
       "  <th>isd_og_mou_6</th>        <td>   -0.0212</td> <td>    0.032</td> <td>   -0.670</td> <td> 0.503</td> <td>   -0.083</td> <td>    0.041</td>\n",
       "</tr>\n",
       "<tr>\n",
       "  <th>isd_og_mou_7</th>        <td>    0.0811</td> <td>    0.030</td> <td>    2.665</td> <td> 0.008</td> <td>    0.021</td> <td>    0.141</td>\n",
       "</tr>\n",
       "<tr>\n",
       "  <th>isd_og_mou_8</th>        <td>    0.0719</td> <td>    0.032</td> <td>    2.262</td> <td> 0.024</td> <td>    0.010</td> <td>    0.134</td>\n",
       "</tr>\n",
       "<tr>\n",
       "  <th>spl_og_mou_6</th>        <td>   -0.0245</td> <td>    0.038</td> <td>   -0.639</td> <td> 0.523</td> <td>   -0.100</td> <td>    0.051</td>\n",
       "</tr>\n",
       "<tr>\n",
       "  <th>spl_og_mou_7</th>        <td>   -0.0346</td> <td>    0.041</td> <td>   -0.843</td> <td> 0.399</td> <td>   -0.115</td> <td>    0.046</td>\n",
       "</tr>\n",
       "<tr>\n",
       "  <th>spl_og_mou_8</th>        <td>   -0.0497</td> <td>    0.052</td> <td>   -0.954</td> <td> 0.340</td> <td>   -0.152</td> <td>    0.052</td>\n",
       "</tr>\n",
       "<tr>\n",
       "  <th>og_others_6</th>         <td>    0.0161</td> <td>    0.032</td> <td>    0.508</td> <td> 0.611</td> <td>   -0.046</td> <td>    0.078</td>\n",
       "</tr>\n",
       "<tr>\n",
       "  <th>og_others_7</th>         <td>-1.861e-16</td> <td> 1.41e-16</td> <td>   -1.322</td> <td> 0.186</td> <td>-4.62e-16</td> <td> 8.99e-17</td>\n",
       "</tr>\n",
       "<tr>\n",
       "  <th>og_others_8</th>         <td>-3.697e-17</td> <td> 1.23e-16</td> <td>   -0.301</td> <td> 0.764</td> <td>-2.78e-16</td> <td> 2.04e-16</td>\n",
       "</tr>\n",
       "<tr>\n",
       "  <th>total_og_mou_6</th>      <td>   -0.4440</td> <td>    0.080</td> <td>   -5.519</td> <td> 0.000</td> <td>   -0.602</td> <td>   -0.286</td>\n",
       "</tr>\n",
       "<tr>\n",
       "  <th>total_og_mou_7</th>      <td>   -0.0197</td> <td>    0.108</td> <td>   -0.183</td> <td> 0.855</td> <td>   -0.231</td> <td>    0.191</td>\n",
       "</tr>\n",
       "<tr>\n",
       "  <th>total_og_mou_8</th>      <td>   -0.8965</td> <td>    0.118</td> <td>   -7.568</td> <td> 0.000</td> <td>   -1.129</td> <td>   -0.664</td>\n",
       "</tr>\n",
       "<tr>\n",
       "  <th>loc_ic_t2t_mou_6</th>    <td>    0.0545</td> <td>    0.070</td> <td>    0.779</td> <td> 0.436</td> <td>   -0.083</td> <td>    0.192</td>\n",
       "</tr>\n",
       "<tr>\n",
       "  <th>loc_ic_t2t_mou_7</th>    <td>   -0.0131</td> <td>    0.077</td> <td>   -0.170</td> <td> 0.865</td> <td>   -0.164</td> <td>    0.138</td>\n",
       "</tr>\n",
       "<tr>\n",
       "  <th>loc_ic_t2t_mou_8</th>    <td>   -0.0837</td> <td>    0.106</td> <td>   -0.789</td> <td> 0.430</td> <td>   -0.292</td> <td>    0.124</td>\n",
       "</tr>\n",
       "<tr>\n",
       "  <th>loc_ic_t2m_mou_6</th>    <td>    0.2416</td> <td>    0.109</td> <td>    2.226</td> <td> 0.026</td> <td>    0.029</td> <td>    0.454</td>\n",
       "</tr>\n",
       "<tr>\n",
       "  <th>loc_ic_t2m_mou_7</th>    <td>   -0.2070</td> <td>    0.109</td> <td>   -1.903</td> <td> 0.057</td> <td>   -0.420</td> <td>    0.006</td>\n",
       "</tr>\n",
       "<tr>\n",
       "  <th>loc_ic_t2m_mou_8</th>    <td>   -0.0307</td> <td>    0.166</td> <td>   -0.185</td> <td> 0.853</td> <td>   -0.355</td> <td>    0.294</td>\n",
       "</tr>\n",
       "<tr>\n",
       "  <th>loc_ic_t2f_mou_6</th>    <td>   -0.0287</td> <td>    0.066</td> <td>   -0.435</td> <td> 0.663</td> <td>   -0.158</td> <td>    0.100</td>\n",
       "</tr>\n",
       "<tr>\n",
       "  <th>loc_ic_t2f_mou_7</th>    <td>    0.1256</td> <td>    0.072</td> <td>    1.748</td> <td> 0.080</td> <td>   -0.015</td> <td>    0.266</td>\n",
       "</tr>\n",
       "<tr>\n",
       "  <th>loc_ic_t2f_mou_8</th>    <td>   -0.2262</td> <td>    0.097</td> <td>   -2.339</td> <td> 0.019</td> <td>   -0.416</td> <td>   -0.037</td>\n",
       "</tr>\n",
       "<tr>\n",
       "  <th>loc_ic_mou_6</th>        <td>   -0.2388</td> <td>    0.144</td> <td>   -1.662</td> <td> 0.096</td> <td>   -0.520</td> <td>    0.043</td>\n",
       "</tr>\n",
       "<tr>\n",
       "  <th>loc_ic_mou_7</th>        <td>    0.1620</td> <td>    0.137</td> <td>    1.181</td> <td> 0.237</td> <td>   -0.107</td> <td>    0.431</td>\n",
       "</tr>\n",
       "<tr>\n",
       "  <th>loc_ic_mou_8</th>        <td>    1.2012</td> <td>    0.193</td> <td>    6.212</td> <td> 0.000</td> <td>    0.822</td> <td>    1.580</td>\n",
       "</tr>\n",
       "<tr>\n",
       "  <th>std_ic_t2t_mou_6</th>    <td>    0.0345</td> <td>    0.041</td> <td>    0.834</td> <td> 0.404</td> <td>   -0.046</td> <td>    0.115</td>\n",
       "</tr>\n",
       "<tr>\n",
       "  <th>std_ic_t2t_mou_7</th>    <td>    0.0774</td> <td>    0.045</td> <td>    1.723</td> <td> 0.085</td> <td>   -0.011</td> <td>    0.165</td>\n",
       "</tr>\n",
       "<tr>\n",
       "  <th>std_ic_t2t_mou_8</th>    <td>   -0.0731</td> <td>    0.066</td> <td>   -1.113</td> <td> 0.266</td> <td>   -0.202</td> <td>    0.056</td>\n",
       "</tr>\n",
       "<tr>\n",
       "  <th>std_ic_t2m_mou_6</th>    <td>    0.0624</td> <td>    0.061</td> <td>    1.017</td> <td> 0.309</td> <td>   -0.058</td> <td>    0.183</td>\n",
       "</tr>\n",
       "<tr>\n",
       "  <th>std_ic_t2m_mou_7</th>    <td>   -0.1598</td> <td>    0.067</td> <td>   -2.374</td> <td> 0.018</td> <td>   -0.292</td> <td>   -0.028</td>\n",
       "</tr>\n",
       "<tr>\n",
       "  <th>std_ic_t2m_mou_8</th>    <td>   -0.1565</td> <td>    0.096</td> <td>   -1.636</td> <td> 0.102</td> <td>   -0.344</td> <td>    0.031</td>\n",
       "</tr>\n",
       "<tr>\n",
       "  <th>std_ic_t2f_mou_6</th>    <td>    0.0234</td> <td>    0.047</td> <td>    0.498</td> <td> 0.618</td> <td>   -0.069</td> <td>    0.116</td>\n",
       "</tr>\n",
       "<tr>\n",
       "  <th>std_ic_t2f_mou_7</th>    <td>    0.0480</td> <td>    0.048</td> <td>    0.994</td> <td> 0.320</td> <td>   -0.047</td> <td>    0.143</td>\n",
       "</tr>\n",
       "<tr>\n",
       "  <th>std_ic_t2f_mou_8</th>    <td>   -0.0644</td> <td>    0.062</td> <td>   -1.044</td> <td> 0.296</td> <td>   -0.185</td> <td>    0.056</td>\n",
       "</tr>\n",
       "<tr>\n",
       "  <th>std_ic_t2o_mou_6</th>    <td>-1.788e-16</td> <td> 1.04e-16</td> <td>   -1.714</td> <td> 0.087</td> <td>-3.83e-16</td> <td> 2.57e-17</td>\n",
       "</tr>\n",
       "<tr>\n",
       "  <th>std_ic_t2o_mou_7</th>    <td> 4.937e-17</td> <td> 8.47e-17</td> <td>    0.583</td> <td> 0.560</td> <td>-1.17e-16</td> <td> 2.15e-16</td>\n",
       "</tr>\n",
       "<tr>\n",
       "  <th>std_ic_t2o_mou_8</th>    <td>-2.284e-16</td> <td> 7.69e-17</td> <td>   -2.972</td> <td> 0.003</td> <td>-3.79e-16</td> <td>-7.78e-17</td>\n",
       "</tr>\n",
       "<tr>\n",
       "  <th>std_ic_mou_6</th>        <td>   -0.0234</td> <td>    0.069</td> <td>   -0.340</td> <td> 0.734</td> <td>   -0.158</td> <td>    0.111</td>\n",
       "</tr>\n",
       "<tr>\n",
       "  <th>std_ic_mou_7</th>        <td>    0.1534</td> <td>    0.077</td> <td>    2.005</td> <td> 0.045</td> <td>    0.003</td> <td>    0.303</td>\n",
       "</tr>\n",
       "<tr>\n",
       "  <th>std_ic_mou_8</th>        <td>    0.2381</td> <td>    0.108</td> <td>    2.213</td> <td> 0.027</td> <td>    0.027</td> <td>    0.449</td>\n",
       "</tr>\n",
       "<tr>\n",
       "  <th>total_ic_mou_6</th>      <td>   -0.7708</td> <td>    0.079</td> <td>   -9.713</td> <td> 0.000</td> <td>   -0.926</td> <td>   -0.615</td>\n",
       "</tr>\n",
       "<tr>\n",
       "  <th>total_ic_mou_7</th>      <td>    0.2366</td> <td>    0.099</td> <td>    2.396</td> <td> 0.017</td> <td>    0.043</td> <td>    0.430</td>\n",
       "</tr>\n",
       "<tr>\n",
       "  <th>total_ic_mou_8</th>      <td>   -1.4092</td> <td>    0.110</td> <td>  -12.787</td> <td> 0.000</td> <td>   -1.625</td> <td>   -1.193</td>\n",
       "</tr>\n",
       "<tr>\n",
       "  <th>spl_ic_mou_6</th>        <td>    0.0082</td> <td>    0.033</td> <td>    0.247</td> <td> 0.805</td> <td>   -0.057</td> <td>    0.073</td>\n",
       "</tr>\n",
       "<tr>\n",
       "  <th>spl_ic_mou_7</th>        <td>    0.0151</td> <td>    0.032</td> <td>    0.471</td> <td> 0.637</td> <td>   -0.048</td> <td>    0.078</td>\n",
       "</tr>\n",
       "<tr>\n",
       "  <th>spl_ic_mou_8</th>        <td>   -0.4886</td> <td>    0.083</td> <td>   -5.921</td> <td> 0.000</td> <td>   -0.650</td> <td>   -0.327</td>\n",
       "</tr>\n",
       "<tr>\n",
       "  <th>isd_ic_mou_6</th>        <td>    0.1061</td> <td>    0.042</td> <td>    2.506</td> <td> 0.012</td> <td>    0.023</td> <td>    0.189</td>\n",
       "</tr>\n",
       "<tr>\n",
       "  <th>isd_ic_mou_7</th>        <td>   -0.1083</td> <td>    0.048</td> <td>   -2.244</td> <td> 0.025</td> <td>   -0.203</td> <td>   -0.014</td>\n",
       "</tr>\n",
       "<tr>\n",
       "  <th>isd_ic_mou_8</th>        <td>    0.1730</td> <td>    0.055</td> <td>    3.156</td> <td> 0.002</td> <td>    0.066</td> <td>    0.280</td>\n",
       "</tr>\n",
       "<tr>\n",
       "  <th>ic_others_6</th>         <td>    0.0251</td> <td>    0.034</td> <td>    0.731</td> <td> 0.465</td> <td>   -0.042</td> <td>    0.092</td>\n",
       "</tr>\n",
       "<tr>\n",
       "  <th>ic_others_7</th>         <td>   -0.0088</td> <td>    0.039</td> <td>   -0.227</td> <td> 0.820</td> <td>   -0.084</td> <td>    0.067</td>\n",
       "</tr>\n",
       "<tr>\n",
       "  <th>ic_others_8</th>         <td>   -0.0438</td> <td>    0.052</td> <td>   -0.849</td> <td> 0.396</td> <td>   -0.145</td> <td>    0.057</td>\n",
       "</tr>\n",
       "<tr>\n",
       "  <th>total_rech_num_6</th>    <td>   -0.0074</td> <td>    0.048</td> <td>   -0.153</td> <td> 0.879</td> <td>   -0.102</td> <td>    0.087</td>\n",
       "</tr>\n",
       "<tr>\n",
       "  <th>total_rech_num_7</th>    <td>    0.0866</td> <td>    0.057</td> <td>    1.532</td> <td> 0.126</td> <td>   -0.024</td> <td>    0.197</td>\n",
       "</tr>\n",
       "<tr>\n",
       "  <th>total_rech_num_8</th>    <td>   -0.4873</td> <td>    0.071</td> <td>   -6.855</td> <td> 0.000</td> <td>   -0.627</td> <td>   -0.348</td>\n",
       "</tr>\n",
       "<tr>\n",
       "  <th>total_rech_amt_6</th>    <td>    0.0862</td> <td>    0.086</td> <td>    0.998</td> <td> 0.318</td> <td>   -0.083</td> <td>    0.255</td>\n",
       "</tr>\n",
       "<tr>\n",
       "  <th>total_rech_amt_7</th>    <td>   -0.0529</td> <td>    0.089</td> <td>   -0.592</td> <td> 0.554</td> <td>   -0.228</td> <td>    0.122</td>\n",
       "</tr>\n",
       "<tr>\n",
       "  <th>total_rech_amt_8</th>    <td>   -0.0400</td> <td>    0.114</td> <td>   -0.351</td> <td> 0.725</td> <td>   -0.263</td> <td>    0.183</td>\n",
       "</tr>\n",
       "<tr>\n",
       "  <th>max_rech_amt_6</th>      <td>   -0.0229</td> <td>    0.045</td> <td>   -0.512</td> <td> 0.609</td> <td>   -0.111</td> <td>    0.065</td>\n",
       "</tr>\n",
       "<tr>\n",
       "  <th>max_rech_amt_7</th>      <td>    0.0582</td> <td>    0.047</td> <td>    1.226</td> <td> 0.220</td> <td>   -0.035</td> <td>    0.151</td>\n",
       "</tr>\n",
       "<tr>\n",
       "  <th>max_rech_amt_8</th>      <td>   -0.0708</td> <td>    0.059</td> <td>   -1.209</td> <td> 0.227</td> <td>   -0.185</td> <td>    0.044</td>\n",
       "</tr>\n",
       "<tr>\n",
       "  <th>last_day_rch_amt_6</th>  <td>   -0.0821</td> <td>    0.042</td> <td>   -1.946</td> <td> 0.052</td> <td>   -0.165</td> <td>    0.001</td>\n",
       "</tr>\n",
       "<tr>\n",
       "  <th>last_day_rch_amt_7</th>  <td>   -0.0348</td> <td>    0.043</td> <td>   -0.818</td> <td> 0.413</td> <td>   -0.118</td> <td>    0.049</td>\n",
       "</tr>\n",
       "<tr>\n",
       "  <th>last_day_rch_amt_8</th>  <td>   -0.7383</td> <td>    0.065</td> <td>  -11.349</td> <td> 0.000</td> <td>   -0.866</td> <td>   -0.611</td>\n",
       "</tr>\n",
       "<tr>\n",
       "  <th>total_rech_data_6</th>   <td>    0.1001</td> <td>    0.067</td> <td>    1.499</td> <td> 0.134</td> <td>   -0.031</td> <td>    0.231</td>\n",
       "</tr>\n",
       "<tr>\n",
       "  <th>total_rech_data_7</th>   <td>    0.0359</td> <td>    0.085</td> <td>    0.421</td> <td> 0.674</td> <td>   -0.131</td> <td>    0.203</td>\n",
       "</tr>\n",
       "<tr>\n",
       "  <th>total_rech_data_8</th>   <td>   -0.0895</td> <td>    0.124</td> <td>   -0.724</td> <td> 0.469</td> <td>   -0.332</td> <td>    0.153</td>\n",
       "</tr>\n",
       "<tr>\n",
       "  <th>vol_2g_mb_6</th>         <td>    0.0480</td> <td>    0.046</td> <td>    1.047</td> <td> 0.295</td> <td>   -0.042</td> <td>    0.138</td>\n",
       "</tr>\n",
       "<tr>\n",
       "  <th>vol_2g_mb_7</th>         <td>   -0.0470</td> <td>    0.054</td> <td>   -0.868</td> <td> 0.385</td> <td>   -0.153</td> <td>    0.059</td>\n",
       "</tr>\n",
       "<tr>\n",
       "  <th>vol_2g_mb_8</th>         <td>   -0.2020</td> <td>    0.074</td> <td>   -2.742</td> <td> 0.006</td> <td>   -0.346</td> <td>   -0.058</td>\n",
       "</tr>\n",
       "<tr>\n",
       "  <th>vol_3g_mb_6</th>         <td>    0.0045</td> <td>    0.061</td> <td>    0.073</td> <td> 0.942</td> <td>   -0.116</td> <td>    0.125</td>\n",
       "</tr>\n",
       "<tr>\n",
       "  <th>vol_3g_mb_7</th>         <td>   -0.0284</td> <td>    0.067</td> <td>   -0.422</td> <td> 0.673</td> <td>   -0.160</td> <td>    0.103</td>\n",
       "</tr>\n",
       "<tr>\n",
       "  <th>vol_3g_mb_8</th>         <td>   -0.3033</td> <td>    0.094</td> <td>   -3.216</td> <td> 0.001</td> <td>   -0.488</td> <td>   -0.118</td>\n",
       "</tr>\n",
       "<tr>\n",
       "  <th>monthly_2g_6</th>        <td>   -0.1282</td> <td>    0.055</td> <td>   -2.333</td> <td> 0.020</td> <td>   -0.236</td> <td>   -0.021</td>\n",
       "</tr>\n",
       "<tr>\n",
       "  <th>monthly_2g_7</th>        <td>   -0.0628</td> <td>    0.058</td> <td>   -1.077</td> <td> 0.282</td> <td>   -0.177</td> <td>    0.052</td>\n",
       "</tr>\n",
       "<tr>\n",
       "  <th>monthly_2g_8</th>        <td>   -0.2143</td> <td>    0.083</td> <td>   -2.589</td> <td> 0.010</td> <td>   -0.377</td> <td>   -0.052</td>\n",
       "</tr>\n",
       "<tr>\n",
       "  <th>sachet_2g_6</th>         <td>   -0.0387</td> <td>    0.059</td> <td>   -0.661</td> <td> 0.509</td> <td>   -0.154</td> <td>    0.076</td>\n",
       "</tr>\n",
       "<tr>\n",
       "  <th>sachet_2g_7</th>         <td>   -0.0561</td> <td>    0.076</td> <td>   -0.738</td> <td> 0.461</td> <td>   -0.205</td> <td>    0.093</td>\n",
       "</tr>\n",
       "<tr>\n",
       "  <th>sachet_2g_8</th>         <td>   -0.0933</td> <td>    0.112</td> <td>   -0.835</td> <td> 0.404</td> <td>   -0.312</td> <td>    0.126</td>\n",
       "</tr>\n",
       "<tr>\n",
       "  <th>monthly_3g_6</th>        <td>   -0.0872</td> <td>    0.058</td> <td>   -1.513</td> <td> 0.130</td> <td>   -0.200</td> <td>    0.026</td>\n",
       "</tr>\n",
       "<tr>\n",
       "  <th>monthly_3g_7</th>        <td>    0.0491</td> <td>    0.062</td> <td>    0.796</td> <td> 0.426</td> <td>   -0.072</td> <td>    0.170</td>\n",
       "</tr>\n",
       "<tr>\n",
       "  <th>monthly_3g_8</th>        <td>   -0.1557</td> <td>    0.089</td> <td>   -1.742</td> <td> 0.081</td> <td>   -0.331</td> <td>    0.019</td>\n",
       "</tr>\n",
       "<tr>\n",
       "  <th>sachet_3g_6</th>         <td>   -0.0996</td> <td>    0.043</td> <td>   -2.315</td> <td> 0.021</td> <td>   -0.184</td> <td>   -0.015</td>\n",
       "</tr>\n",
       "<tr>\n",
       "  <th>sachet_3g_7</th>         <td>    0.0715</td> <td>    0.041</td> <td>    1.731</td> <td> 0.083</td> <td>   -0.009</td> <td>    0.152</td>\n",
       "</tr>\n",
       "<tr>\n",
       "  <th>sachet_3g_8</th>         <td>   -0.0576</td> <td>    0.059</td> <td>   -0.977</td> <td> 0.328</td> <td>   -0.173</td> <td>    0.058</td>\n",
       "</tr>\n",
       "<tr>\n",
       "  <th>aon</th>                 <td>   -0.3137</td> <td>    0.044</td> <td>   -7.198</td> <td> 0.000</td> <td>   -0.399</td> <td>   -0.228</td>\n",
       "</tr>\n",
       "<tr>\n",
       "  <th>aug_vbc_3g</th>          <td>   -0.0783</td> <td>    0.074</td> <td>   -1.064</td> <td> 0.288</td> <td>   -0.223</td> <td>    0.066</td>\n",
       "</tr>\n",
       "<tr>\n",
       "  <th>jul_vbc_3g</th>          <td>    0.0290</td> <td>    0.063</td> <td>    0.462</td> <td> 0.644</td> <td>   -0.094</td> <td>    0.152</td>\n",
       "</tr>\n",
       "<tr>\n",
       "  <th>jun_vbc_3g</th>          <td>    0.0892</td> <td>    0.053</td> <td>    1.673</td> <td> 0.094</td> <td>   -0.015</td> <td>    0.194</td>\n",
       "</tr>\n",
       "<tr>\n",
       "  <th>Avg_rech_good_phase</th> <td>   -0.0199</td> <td>    0.087</td> <td>   -0.228</td> <td> 0.820</td> <td>   -0.191</td> <td>    0.151</td>\n",
       "</tr>\n",
       "<tr>\n",
       "  <th>OutGoingUseDrop</th>     <td>   -0.4388</td> <td>    0.070</td> <td>   -6.294</td> <td> 0.000</td> <td>   -0.575</td> <td>   -0.302</td>\n",
       "</tr>\n",
       "<tr>\n",
       "  <th>IncomingUseDrop</th>     <td>   -0.7721</td> <td>    0.063</td> <td>  -12.222</td> <td> 0.000</td> <td>   -0.896</td> <td>   -0.648</td>\n",
       "</tr>\n",
       "</table>"
      ],
      "text/plain": [
       "<class 'statsmodels.iolib.summary.Summary'>\n",
       "\"\"\"\n",
       "                 Generalized Linear Model Regression Results                  \n",
       "==============================================================================\n",
       "Dep. Variable:                  Churn   No. Observations:                19507\n",
       "Model:                            GLM   Df Residuals:                    19380\n",
       "Model Family:                Binomial   Df Model:                          126\n",
       "Link Function:                  logit   Scale:                          1.0000\n",
       "Method:                          IRLS   Log-Likelihood:                -3472.6\n",
       "Date:                Sun, 05 Jul 2020   Deviance:                       6945.3\n",
       "Time:                        11:57:54   Pearson chi2:                 1.86e+06\n",
       "No. Iterations:                   100                                         \n",
       "Covariance Type:            nonrobust                                         \n",
       "=======================================================================================\n",
       "                          coef    std err          z      P>|z|      [0.025      0.975]\n",
       "---------------------------------------------------------------------------------------\n",
       "const                  -4.0432      0.070    -57.624      0.000      -4.181      -3.906\n",
       "arpu_6                  0.1164      0.077      1.512      0.131      -0.035       0.267\n",
       "arpu_7                  0.3073      0.080      3.829      0.000       0.150       0.465\n",
       "arpu_8                 -0.2035      0.112     -1.815      0.070      -0.423       0.016\n",
       "onnet_mou_6             0.1566      0.072      2.184      0.029       0.016       0.297\n",
       "onnet_mou_7             0.1556      0.085      1.832      0.067      -0.011       0.322\n",
       "onnet_mou_8             0.2833      0.097      2.933      0.003       0.094       0.473\n",
       "offnet_mou_6            0.0327      0.075      0.438      0.661      -0.114       0.179\n",
       "offnet_mou_7            0.3294      0.091      3.637      0.000       0.152       0.507\n",
       "offnet_mou_8            0.4394      0.090      4.876      0.000       0.263       0.616\n",
       "roam_ic_mou_6          -0.0125      0.038     -0.328      0.743      -0.087       0.062\n",
       "roam_ic_mou_7           0.0071      0.033      0.218      0.827      -0.057       0.071\n",
       "roam_ic_mou_8           0.0797      0.030      2.642      0.008       0.021       0.139\n",
       "roam_og_mou_6           0.0095      0.035      0.271      0.786      -0.059       0.079\n",
       "roam_og_mou_7          -0.0282      0.033     -0.865      0.387      -0.092       0.036\n",
       "roam_og_mou_8           0.1233      0.029      4.205      0.000       0.066       0.181\n",
       "loc_og_t2t_mou_6       -0.0228      0.069     -0.332      0.740      -0.158       0.112\n",
       "loc_og_t2t_mou_7       -0.0257      0.079     -0.323      0.747      -0.181       0.130\n",
       "loc_og_t2t_mou_8       -0.1800      0.095     -1.891      0.059      -0.367       0.007\n",
       "loc_og_t2m_mou_6       -0.0868      0.085     -1.026      0.305      -0.253       0.079\n",
       "loc_og_t2m_mou_7       -0.1558      0.104     -1.497      0.134      -0.360       0.048\n",
       "loc_og_t2m_mou_8       -0.3583      0.124     -2.882      0.004      -0.602      -0.115\n",
       "loc_og_t2f_mou_6       -0.0884      0.062     -1.426      0.154      -0.210       0.033\n",
       "loc_og_t2f_mou_7       -0.1297      0.067     -1.929      0.054      -0.262       0.002\n",
       "loc_og_t2f_mou_8        0.1042      0.071      1.458      0.145      -0.036       0.244\n",
       "loc_og_t2c_mou_6        0.0153      0.035      0.437      0.662      -0.053       0.084\n",
       "loc_og_t2c_mou_7        0.0397      0.037      1.069      0.285      -0.033       0.112\n",
       "loc_og_t2c_mou_8        0.0170      0.045      0.378      0.706      -0.071       0.105\n",
       "loc_og_mou_6           -0.0448      0.097     -0.463      0.643      -0.235       0.145\n",
       "loc_og_mou_7           -0.1564      0.124     -1.258      0.208      -0.400       0.087\n",
       "loc_og_mou_8            0.5242      0.137      3.815      0.000       0.255       0.794\n",
       "std_og_t2t_mou_6       -0.0848      0.063     -1.357      0.175      -0.207       0.038\n",
       "std_og_t2t_mou_7       -0.1625      0.075     -2.154      0.031      -0.310      -0.015\n",
       "std_og_t2t_mou_8       -0.3099      0.087     -3.557      0.000      -0.481      -0.139\n",
       "std_og_t2m_mou_6       -0.0114      0.064     -0.179      0.858      -0.137       0.114\n",
       "std_og_t2m_mou_7       -0.1646      0.078     -2.111      0.035      -0.317      -0.012\n",
       "std_og_t2m_mou_8       -0.4581      0.078     -5.906      0.000      -0.610      -0.306\n",
       "std_og_t2f_mou_6        0.0224      0.044      0.510      0.610      -0.064       0.108\n",
       "std_og_t2f_mou_7       -0.0125      0.046     -0.269      0.788      -0.103       0.078\n",
       "std_og_t2f_mou_8       -0.0312      0.061     -0.509      0.611      -0.151       0.089\n",
       "std_og_t2c_mou_6     4.015e-16   1.68e-16      2.388      0.017     7.2e-17    7.31e-16\n",
       "std_og_t2c_mou_7    -7.899e-17   1.51e-16     -0.523      0.601   -3.75e-16    2.17e-16\n",
       "std_og_t2c_mou_8     1.513e-16   1.44e-16      1.050      0.294   -1.31e-16    4.34e-16\n",
       "std_og_mou_6            0.0571      0.097      0.590      0.555      -0.133       0.247\n",
       "std_og_mou_7           -0.0538      0.106     -0.505      0.613      -0.262       0.155\n",
       "std_og_mou_8            0.9289      0.159      5.849      0.000       0.618       1.240\n",
       "isd_og_mou_6           -0.0212      0.032     -0.670      0.503      -0.083       0.041\n",
       "isd_og_mou_7            0.0811      0.030      2.665      0.008       0.021       0.141\n",
       "isd_og_mou_8            0.0719      0.032      2.262      0.024       0.010       0.134\n",
       "spl_og_mou_6           -0.0245      0.038     -0.639      0.523      -0.100       0.051\n",
       "spl_og_mou_7           -0.0346      0.041     -0.843      0.399      -0.115       0.046\n",
       "spl_og_mou_8           -0.0497      0.052     -0.954      0.340      -0.152       0.052\n",
       "og_others_6             0.0161      0.032      0.508      0.611      -0.046       0.078\n",
       "og_others_7         -1.861e-16   1.41e-16     -1.322      0.186   -4.62e-16    8.99e-17\n",
       "og_others_8         -3.697e-17   1.23e-16     -0.301      0.764   -2.78e-16    2.04e-16\n",
       "total_og_mou_6         -0.4440      0.080     -5.519      0.000      -0.602      -0.286\n",
       "total_og_mou_7         -0.0197      0.108     -0.183      0.855      -0.231       0.191\n",
       "total_og_mou_8         -0.8965      0.118     -7.568      0.000      -1.129      -0.664\n",
       "loc_ic_t2t_mou_6        0.0545      0.070      0.779      0.436      -0.083       0.192\n",
       "loc_ic_t2t_mou_7       -0.0131      0.077     -0.170      0.865      -0.164       0.138\n",
       "loc_ic_t2t_mou_8       -0.0837      0.106     -0.789      0.430      -0.292       0.124\n",
       "loc_ic_t2m_mou_6        0.2416      0.109      2.226      0.026       0.029       0.454\n",
       "loc_ic_t2m_mou_7       -0.2070      0.109     -1.903      0.057      -0.420       0.006\n",
       "loc_ic_t2m_mou_8       -0.0307      0.166     -0.185      0.853      -0.355       0.294\n",
       "loc_ic_t2f_mou_6       -0.0287      0.066     -0.435      0.663      -0.158       0.100\n",
       "loc_ic_t2f_mou_7        0.1256      0.072      1.748      0.080      -0.015       0.266\n",
       "loc_ic_t2f_mou_8       -0.2262      0.097     -2.339      0.019      -0.416      -0.037\n",
       "loc_ic_mou_6           -0.2388      0.144     -1.662      0.096      -0.520       0.043\n",
       "loc_ic_mou_7            0.1620      0.137      1.181      0.237      -0.107       0.431\n",
       "loc_ic_mou_8            1.2012      0.193      6.212      0.000       0.822       1.580\n",
       "std_ic_t2t_mou_6        0.0345      0.041      0.834      0.404      -0.046       0.115\n",
       "std_ic_t2t_mou_7        0.0774      0.045      1.723      0.085      -0.011       0.165\n",
       "std_ic_t2t_mou_8       -0.0731      0.066     -1.113      0.266      -0.202       0.056\n",
       "std_ic_t2m_mou_6        0.0624      0.061      1.017      0.309      -0.058       0.183\n",
       "std_ic_t2m_mou_7       -0.1598      0.067     -2.374      0.018      -0.292      -0.028\n",
       "std_ic_t2m_mou_8       -0.1565      0.096     -1.636      0.102      -0.344       0.031\n",
       "std_ic_t2f_mou_6        0.0234      0.047      0.498      0.618      -0.069       0.116\n",
       "std_ic_t2f_mou_7        0.0480      0.048      0.994      0.320      -0.047       0.143\n",
       "std_ic_t2f_mou_8       -0.0644      0.062     -1.044      0.296      -0.185       0.056\n",
       "std_ic_t2o_mou_6    -1.788e-16   1.04e-16     -1.714      0.087   -3.83e-16    2.57e-17\n",
       "std_ic_t2o_mou_7     4.937e-17   8.47e-17      0.583      0.560   -1.17e-16    2.15e-16\n",
       "std_ic_t2o_mou_8    -2.284e-16   7.69e-17     -2.972      0.003   -3.79e-16   -7.78e-17\n",
       "std_ic_mou_6           -0.0234      0.069     -0.340      0.734      -0.158       0.111\n",
       "std_ic_mou_7            0.1534      0.077      2.005      0.045       0.003       0.303\n",
       "std_ic_mou_8            0.2381      0.108      2.213      0.027       0.027       0.449\n",
       "total_ic_mou_6         -0.7708      0.079     -9.713      0.000      -0.926      -0.615\n",
       "total_ic_mou_7          0.2366      0.099      2.396      0.017       0.043       0.430\n",
       "total_ic_mou_8         -1.4092      0.110    -12.787      0.000      -1.625      -1.193\n",
       "spl_ic_mou_6            0.0082      0.033      0.247      0.805      -0.057       0.073\n",
       "spl_ic_mou_7            0.0151      0.032      0.471      0.637      -0.048       0.078\n",
       "spl_ic_mou_8           -0.4886      0.083     -5.921      0.000      -0.650      -0.327\n",
       "isd_ic_mou_6            0.1061      0.042      2.506      0.012       0.023       0.189\n",
       "isd_ic_mou_7           -0.1083      0.048     -2.244      0.025      -0.203      -0.014\n",
       "isd_ic_mou_8            0.1730      0.055      3.156      0.002       0.066       0.280\n",
       "ic_others_6             0.0251      0.034      0.731      0.465      -0.042       0.092\n",
       "ic_others_7            -0.0088      0.039     -0.227      0.820      -0.084       0.067\n",
       "ic_others_8            -0.0438      0.052     -0.849      0.396      -0.145       0.057\n",
       "total_rech_num_6       -0.0074      0.048     -0.153      0.879      -0.102       0.087\n",
       "total_rech_num_7        0.0866      0.057      1.532      0.126      -0.024       0.197\n",
       "total_rech_num_8       -0.4873      0.071     -6.855      0.000      -0.627      -0.348\n",
       "total_rech_amt_6        0.0862      0.086      0.998      0.318      -0.083       0.255\n",
       "total_rech_amt_7       -0.0529      0.089     -0.592      0.554      -0.228       0.122\n",
       "total_rech_amt_8       -0.0400      0.114     -0.351      0.725      -0.263       0.183\n",
       "max_rech_amt_6         -0.0229      0.045     -0.512      0.609      -0.111       0.065\n",
       "max_rech_amt_7          0.0582      0.047      1.226      0.220      -0.035       0.151\n",
       "max_rech_amt_8         -0.0708      0.059     -1.209      0.227      -0.185       0.044\n",
       "last_day_rch_amt_6     -0.0821      0.042     -1.946      0.052      -0.165       0.001\n",
       "last_day_rch_amt_7     -0.0348      0.043     -0.818      0.413      -0.118       0.049\n",
       "last_day_rch_amt_8     -0.7383      0.065    -11.349      0.000      -0.866      -0.611\n",
       "total_rech_data_6       0.1001      0.067      1.499      0.134      -0.031       0.231\n",
       "total_rech_data_7       0.0359      0.085      0.421      0.674      -0.131       0.203\n",
       "total_rech_data_8      -0.0895      0.124     -0.724      0.469      -0.332       0.153\n",
       "vol_2g_mb_6             0.0480      0.046      1.047      0.295      -0.042       0.138\n",
       "vol_2g_mb_7            -0.0470      0.054     -0.868      0.385      -0.153       0.059\n",
       "vol_2g_mb_8            -0.2020      0.074     -2.742      0.006      -0.346      -0.058\n",
       "vol_3g_mb_6             0.0045      0.061      0.073      0.942      -0.116       0.125\n",
       "vol_3g_mb_7            -0.0284      0.067     -0.422      0.673      -0.160       0.103\n",
       "vol_3g_mb_8            -0.3033      0.094     -3.216      0.001      -0.488      -0.118\n",
       "monthly_2g_6           -0.1282      0.055     -2.333      0.020      -0.236      -0.021\n",
       "monthly_2g_7           -0.0628      0.058     -1.077      0.282      -0.177       0.052\n",
       "monthly_2g_8           -0.2143      0.083     -2.589      0.010      -0.377      -0.052\n",
       "sachet_2g_6            -0.0387      0.059     -0.661      0.509      -0.154       0.076\n",
       "sachet_2g_7            -0.0561      0.076     -0.738      0.461      -0.205       0.093\n",
       "sachet_2g_8            -0.0933      0.112     -0.835      0.404      -0.312       0.126\n",
       "monthly_3g_6           -0.0872      0.058     -1.513      0.130      -0.200       0.026\n",
       "monthly_3g_7            0.0491      0.062      0.796      0.426      -0.072       0.170\n",
       "monthly_3g_8           -0.1557      0.089     -1.742      0.081      -0.331       0.019\n",
       "sachet_3g_6            -0.0996      0.043     -2.315      0.021      -0.184      -0.015\n",
       "sachet_3g_7             0.0715      0.041      1.731      0.083      -0.009       0.152\n",
       "sachet_3g_8            -0.0576      0.059     -0.977      0.328      -0.173       0.058\n",
       "aon                    -0.3137      0.044     -7.198      0.000      -0.399      -0.228\n",
       "aug_vbc_3g             -0.0783      0.074     -1.064      0.288      -0.223       0.066\n",
       "jul_vbc_3g              0.0290      0.063      0.462      0.644      -0.094       0.152\n",
       "jun_vbc_3g              0.0892      0.053      1.673      0.094      -0.015       0.194\n",
       "Avg_rech_good_phase    -0.0199      0.087     -0.228      0.820      -0.191       0.151\n",
       "OutGoingUseDrop        -0.4388      0.070     -6.294      0.000      -0.575      -0.302\n",
       "IncomingUseDrop        -0.7721      0.063    -12.222      0.000      -0.896      -0.648\n",
       "=======================================================================================\n",
       "\"\"\""
      ]
     },
     "execution_count": 101,
     "metadata": {},
     "output_type": "execute_result"
    }
   ],
   "source": [
    "#Logistic regression model\n",
    "logml = sm.GLM(y_train,(sm.add_constant(X_train)),family=sm.families.Binomial())\n",
    "logml.fit().summary()"
   ]
  },
  {
   "cell_type": "code",
   "execution_count": 102,
   "metadata": {},
   "outputs": [],
   "source": [
    "logreg = LogisticRegression()"
   ]
  },
  {
   "cell_type": "code",
   "execution_count": 103,
   "metadata": {},
   "outputs": [],
   "source": [
    "from sklearn.feature_selection import RFE"
   ]
  },
  {
   "cell_type": "code",
   "execution_count": 104,
   "metadata": {},
   "outputs": [],
   "source": [
    "rfe = RFE(logreg,21)"
   ]
  },
  {
   "cell_type": "code",
   "execution_count": 105,
   "metadata": {},
   "outputs": [],
   "source": [
    "rfe = rfe.fit(X_train,y_train)"
   ]
  },
  {
   "cell_type": "code",
   "execution_count": 106,
   "metadata": {},
   "outputs": [],
   "source": [
    "cole = X_train.columns[rfe.support_]"
   ]
  },
  {
   "cell_type": "code",
   "execution_count": 107,
   "metadata": {},
   "outputs": [
    {
     "data": {
      "text/plain": [
       "Index(['arpu_7', 'onnet_mou_8', 'offnet_mou_8', 'loc_og_t2m_mou_7',\n",
       "       'std_og_t2t_mou_8', 'std_og_t2m_mou_8', 'std_og_mou_8',\n",
       "       'total_og_mou_6', 'total_og_mou_8', 'loc_ic_mou_8', 'total_ic_mou_6',\n",
       "       'total_ic_mou_7', 'total_ic_mou_8', 'spl_ic_mou_8', 'total_rech_num_8',\n",
       "       'last_day_rch_amt_8', 'vol_2g_mb_8', 'vol_3g_mb_8', 'aon',\n",
       "       'OutGoingUseDrop', 'IncomingUseDrop'],\n",
       "      dtype='object')"
      ]
     },
     "execution_count": 107,
     "metadata": {},
     "output_type": "execute_result"
    }
   ],
   "source": [
    "cole"
   ]
  },
  {
   "cell_type": "code",
   "execution_count": 108,
   "metadata": {},
   "outputs": [
    {
     "data": {
      "text/html": [
       "<table class=\"simpletable\">\n",
       "<caption>Generalized Linear Model Regression Results</caption>\n",
       "<tr>\n",
       "  <th>Dep. Variable:</th>         <td>Churn</td>      <th>  No. Observations:  </th>  <td> 19507</td> \n",
       "</tr>\n",
       "<tr>\n",
       "  <th>Model:</th>                  <td>GLM</td>       <th>  Df Residuals:      </th>  <td> 19487</td> \n",
       "</tr>\n",
       "<tr>\n",
       "  <th>Model Family:</th>        <td>Binomial</td>     <th>  Df Model:          </th>  <td>    19</td> \n",
       "</tr>\n",
       "<tr>\n",
       "  <th>Link Function:</th>         <td>logit</td>      <th>  Scale:             </th> <td>  1.0000</td>\n",
       "</tr>\n",
       "<tr>\n",
       "  <th>Method:</th>                <td>IRLS</td>       <th>  Log-Likelihood:    </th> <td> -3625.1</td>\n",
       "</tr>\n",
       "<tr>\n",
       "  <th>Date:</th>            <td>Sun, 05 Jul 2020</td> <th>  Deviance:          </th> <td>  7250.1</td>\n",
       "</tr>\n",
       "<tr>\n",
       "  <th>Time:</th>                <td>11:59:10</td>     <th>  Pearson chi2:      </th> <td>5.09e+06</td>\n",
       "</tr>\n",
       "<tr>\n",
       "  <th>No. Iterations:</th>         <td>100</td>       <th>                     </th>     <td> </td>   \n",
       "</tr>\n",
       "<tr>\n",
       "  <th>Covariance Type:</th>     <td>nonrobust</td>    <th>                     </th>     <td> </td>   \n",
       "</tr>\n",
       "</table>\n",
       "<table class=\"simpletable\">\n",
       "<tr>\n",
       "           <td></td>             <th>coef</th>     <th>std err</th>      <th>z</th>      <th>P>|z|</th>  <th>[0.025</th>    <th>0.975]</th>  \n",
       "</tr>\n",
       "<tr>\n",
       "  <th>const</th>              <td>   -3.9816</td> <td>    0.066</td> <td>  -60.033</td> <td> 0.000</td> <td>   -4.112</td> <td>   -3.852</td>\n",
       "</tr>\n",
       "<tr>\n",
       "  <th>arpu_7</th>             <td>    0.3424</td> <td>    0.035</td> <td>    9.899</td> <td> 0.000</td> <td>    0.275</td> <td>    0.410</td>\n",
       "</tr>\n",
       "<tr>\n",
       "  <th>onnet_mou_8</th>        <td>    0.3948</td> <td>    0.075</td> <td>    5.237</td> <td> 0.000</td> <td>    0.247</td> <td>    0.542</td>\n",
       "</tr>\n",
       "<tr>\n",
       "  <th>offnet_mou_8</th>       <td>    0.5739</td> <td>    0.071</td> <td>    8.130</td> <td> 0.000</td> <td>    0.436</td> <td>    0.712</td>\n",
       "</tr>\n",
       "<tr>\n",
       "  <th>loc_og_t2m_mou_7</th>   <td>   -0.3385</td> <td>    0.053</td> <td>   -6.389</td> <td> 0.000</td> <td>   -0.442</td> <td>   -0.235</td>\n",
       "</tr>\n",
       "<tr>\n",
       "  <th>std_og_t2t_mou_8</th>   <td>   -0.4154</td> <td>    0.077</td> <td>   -5.383</td> <td> 0.000</td> <td>   -0.567</td> <td>   -0.264</td>\n",
       "</tr>\n",
       "<tr>\n",
       "  <th>std_og_t2m_mou_8</th>   <td>   -0.5216</td> <td>    0.069</td> <td>   -7.585</td> <td> 0.000</td> <td>   -0.656</td> <td>   -0.387</td>\n",
       "</tr>\n",
       "<tr>\n",
       "  <th>std_og_mou_8</th>       <td>    0.9510</td> <td>    0.123</td> <td>    7.711</td> <td> 0.000</td> <td>    0.709</td> <td>    1.193</td>\n",
       "</tr>\n",
       "<tr>\n",
       "  <th>total_og_mou_6</th>     <td>   -0.3857</td> <td>    0.046</td> <td>   -8.301</td> <td> 0.000</td> <td>   -0.477</td> <td>   -0.295</td>\n",
       "</tr>\n",
       "<tr>\n",
       "  <th>total_og_mou_8</th>     <td>   -1.0205</td> <td>    0.090</td> <td>  -11.313</td> <td> 0.000</td> <td>   -1.197</td> <td>   -0.844</td>\n",
       "</tr>\n",
       "<tr>\n",
       "  <th>loc_ic_mou_8</th>       <td>    0.9041</td> <td>    0.115</td> <td>    7.882</td> <td> 0.000</td> <td>    0.679</td> <td>    1.129</td>\n",
       "</tr>\n",
       "<tr>\n",
       "  <th>total_ic_mou_6</th>     <td>   -0.7609</td> <td>    0.063</td> <td>  -12.120</td> <td> 0.000</td> <td>   -0.884</td> <td>   -0.638</td>\n",
       "</tr>\n",
       "<tr>\n",
       "  <th>total_ic_mou_7</th>     <td>    0.3054</td> <td>    0.063</td> <td>    4.883</td> <td> 0.000</td> <td>    0.183</td> <td>    0.428</td>\n",
       "</tr>\n",
       "<tr>\n",
       "  <th>total_ic_mou_8</th>     <td>   -1.4218</td> <td>    0.095</td> <td>  -15.001</td> <td> 0.000</td> <td>   -1.608</td> <td>   -1.236</td>\n",
       "</tr>\n",
       "<tr>\n",
       "  <th>spl_ic_mou_8</th>       <td>   -0.4963</td> <td>    0.083</td> <td>   -5.957</td> <td> 0.000</td> <td>   -0.660</td> <td>   -0.333</td>\n",
       "</tr>\n",
       "<tr>\n",
       "  <th>total_rech_num_8</th>   <td>   -0.4828</td> <td>    0.050</td> <td>   -9.657</td> <td> 0.000</td> <td>   -0.581</td> <td>   -0.385</td>\n",
       "</tr>\n",
       "<tr>\n",
       "  <th>last_day_rch_amt_8</th> <td>   -0.8092</td> <td>    0.057</td> <td>  -14.151</td> <td> 0.000</td> <td>   -0.921</td> <td>   -0.697</td>\n",
       "</tr>\n",
       "<tr>\n",
       "  <th>vol_2g_mb_8</th>        <td>   -0.3923</td> <td>    0.067</td> <td>   -5.890</td> <td> 0.000</td> <td>   -0.523</td> <td>   -0.262</td>\n",
       "</tr>\n",
       "<tr>\n",
       "  <th>vol_3g_mb_8</th>        <td>   -0.5900</td> <td>    0.072</td> <td>   -8.175</td> <td> 0.000</td> <td>   -0.731</td> <td>   -0.449</td>\n",
       "</tr>\n",
       "<tr>\n",
       "  <th>aon</th>                <td>   -0.3412</td> <td>    0.041</td> <td>   -8.398</td> <td> 0.000</td> <td>   -0.421</td> <td>   -0.262</td>\n",
       "</tr>\n",
       "<tr>\n",
       "  <th>OutGoingUseDrop</th>    <td>   -0.6131</td> <td>    0.048</td> <td>  -12.838</td> <td> 0.000</td> <td>   -0.707</td> <td>   -0.520</td>\n",
       "</tr>\n",
       "<tr>\n",
       "  <th>IncomingUseDrop</th>    <td>   -0.7996</td> <td>    0.050</td> <td>  -16.024</td> <td> 0.000</td> <td>   -0.897</td> <td>   -0.702</td>\n",
       "</tr>\n",
       "</table>"
      ],
      "text/plain": [
       "<class 'statsmodels.iolib.summary.Summary'>\n",
       "\"\"\"\n",
       "                 Generalized Linear Model Regression Results                  \n",
       "==============================================================================\n",
       "Dep. Variable:                  Churn   No. Observations:                19507\n",
       "Model:                            GLM   Df Residuals:                    19487\n",
       "Model Family:                Binomial   Df Model:                           19\n",
       "Link Function:                  logit   Scale:                          1.0000\n",
       "Method:                          IRLS   Log-Likelihood:                -3625.1\n",
       "Date:                Sun, 05 Jul 2020   Deviance:                       7250.1\n",
       "Time:                        11:59:10   Pearson chi2:                 5.09e+06\n",
       "No. Iterations:                   100                                         \n",
       "Covariance Type:            nonrobust                                         \n",
       "======================================================================================\n",
       "                         coef    std err          z      P>|z|      [0.025      0.975]\n",
       "--------------------------------------------------------------------------------------\n",
       "const                 -3.9816      0.066    -60.033      0.000      -4.112      -3.852\n",
       "arpu_7                 0.3424      0.035      9.899      0.000       0.275       0.410\n",
       "onnet_mou_8            0.3948      0.075      5.237      0.000       0.247       0.542\n",
       "offnet_mou_8           0.5739      0.071      8.130      0.000       0.436       0.712\n",
       "loc_og_t2m_mou_7      -0.3385      0.053     -6.389      0.000      -0.442      -0.235\n",
       "std_og_t2t_mou_8      -0.4154      0.077     -5.383      0.000      -0.567      -0.264\n",
       "std_og_t2m_mou_8      -0.5216      0.069     -7.585      0.000      -0.656      -0.387\n",
       "std_og_mou_8           0.9510      0.123      7.711      0.000       0.709       1.193\n",
       "total_og_mou_6        -0.3857      0.046     -8.301      0.000      -0.477      -0.295\n",
       "total_og_mou_8        -1.0205      0.090    -11.313      0.000      -1.197      -0.844\n",
       "loc_ic_mou_8           0.9041      0.115      7.882      0.000       0.679       1.129\n",
       "total_ic_mou_6        -0.7609      0.063    -12.120      0.000      -0.884      -0.638\n",
       "total_ic_mou_7         0.3054      0.063      4.883      0.000       0.183       0.428\n",
       "total_ic_mou_8        -1.4218      0.095    -15.001      0.000      -1.608      -1.236\n",
       "spl_ic_mou_8          -0.4963      0.083     -5.957      0.000      -0.660      -0.333\n",
       "total_rech_num_8      -0.4828      0.050     -9.657      0.000      -0.581      -0.385\n",
       "last_day_rch_amt_8    -0.8092      0.057    -14.151      0.000      -0.921      -0.697\n",
       "vol_2g_mb_8           -0.3923      0.067     -5.890      0.000      -0.523      -0.262\n",
       "vol_3g_mb_8           -0.5900      0.072     -8.175      0.000      -0.731      -0.449\n",
       "aon                   -0.3412      0.041     -8.398      0.000      -0.421      -0.262\n",
       "OutGoingUseDrop       -0.6131      0.048    -12.838      0.000      -0.707      -0.520\n",
       "IncomingUseDrop       -0.7996      0.050    -16.024      0.000      -0.897      -0.702\n",
       "======================================================================================\n",
       "\"\"\""
      ]
     },
     "execution_count": 108,
     "metadata": {},
     "output_type": "execute_result"
    }
   ],
   "source": [
    "# Assesing model with statsmodel\n",
    "X_train_sm= sm.add_constant(X_train[cole])\n",
    "logm2 = sm.GLM(y_train,X_train_sm,family=sm.families.Binomial())\n",
    "res=logm2.fit()\n",
    "res.summary()"
   ]
  },
  {
   "cell_type": "code",
   "execution_count": 109,
   "metadata": {},
   "outputs": [
    {
     "data": {
      "text/plain": [
       "93427    0.740149\n",
       "8407     0.025040\n",
       "51706    0.000221\n",
       "47088    0.014308\n",
       "92996    0.012429\n",
       "8116     0.000659\n",
       "57290    0.001344\n",
       "29585    0.093219\n",
       "54281    0.036105\n",
       "89959    0.084032\n",
       "39832    0.003637\n",
       "dtype: float64"
      ]
     },
     "execution_count": 109,
     "metadata": {},
     "output_type": "execute_result"
    }
   ],
   "source": [
    "#getting predicted value on train set\n",
    "y_train_pred = res.predict(X_train_sm)\n",
    "y_train_pred[:11]"
   ]
  },
  {
   "cell_type": "code",
   "execution_count": 110,
   "metadata": {},
   "outputs": [],
   "source": [
    "y_train_pred = y_train_pred.values.reshape(-1)"
   ]
  },
  {
   "cell_type": "code",
   "execution_count": 111,
   "metadata": {},
   "outputs": [],
   "source": [
    "y_train_pred_final = pd.DataFrame({\"Churned\":y_train.values,\"Churned_Prob\":y_train_pred})\n",
    "y_train_pred_final[\"CustID\"]=y_train.index"
   ]
  },
  {
   "cell_type": "code",
   "execution_count": 112,
   "metadata": {},
   "outputs": [
    {
     "data": {
      "text/html": [
       "<div>\n",
       "<style scoped>\n",
       "    .dataframe tbody tr th:only-of-type {\n",
       "        vertical-align: middle;\n",
       "    }\n",
       "\n",
       "    .dataframe tbody tr th {\n",
       "        vertical-align: top;\n",
       "    }\n",
       "\n",
       "    .dataframe thead th {\n",
       "        text-align: right;\n",
       "    }\n",
       "</style>\n",
       "<table border=\"1\" class=\"dataframe\">\n",
       "  <thead>\n",
       "    <tr style=\"text-align: right;\">\n",
       "      <th></th>\n",
       "      <th>Churned</th>\n",
       "      <th>Churned_Prob</th>\n",
       "      <th>CustID</th>\n",
       "    </tr>\n",
       "  </thead>\n",
       "  <tbody>\n",
       "    <tr>\n",
       "      <td>0</td>\n",
       "      <td>1</td>\n",
       "      <td>0.740149</td>\n",
       "      <td>93427</td>\n",
       "    </tr>\n",
       "    <tr>\n",
       "      <td>1</td>\n",
       "      <td>0</td>\n",
       "      <td>0.025040</td>\n",
       "      <td>8407</td>\n",
       "    </tr>\n",
       "    <tr>\n",
       "      <td>2</td>\n",
       "      <td>0</td>\n",
       "      <td>0.000221</td>\n",
       "      <td>51706</td>\n",
       "    </tr>\n",
       "    <tr>\n",
       "      <td>3</td>\n",
       "      <td>0</td>\n",
       "      <td>0.014308</td>\n",
       "      <td>47088</td>\n",
       "    </tr>\n",
       "    <tr>\n",
       "      <td>4</td>\n",
       "      <td>0</td>\n",
       "      <td>0.012429</td>\n",
       "      <td>92996</td>\n",
       "    </tr>\n",
       "  </tbody>\n",
       "</table>\n",
       "</div>"
      ],
      "text/plain": [
       "   Churned  Churned_Prob  CustID\n",
       "0        1      0.740149   93427\n",
       "1        0      0.025040    8407\n",
       "2        0      0.000221   51706\n",
       "3        0      0.014308   47088\n",
       "4        0      0.012429   92996"
      ]
     },
     "execution_count": 112,
     "metadata": {},
     "output_type": "execute_result"
    }
   ],
   "source": [
    "y_train_pred_final.head()"
   ]
  },
  {
   "cell_type": "code",
   "execution_count": 122,
   "metadata": {},
   "outputs": [
    {
     "data": {
      "text/plain": [
       "0.8310350130722305"
      ]
     },
     "execution_count": 122,
     "metadata": {},
     "output_type": "execute_result"
    }
   ],
   "source": [
    "accuracy_score(y_train_pred_final.Churned,y_train_pred_final.Churned_Prob > 0.09) # Prob cut off based on below curve"
   ]
  },
  {
   "cell_type": "code",
   "execution_count": 123,
   "metadata": {},
   "outputs": [
    {
     "data": {
      "text/plain": [
       "array([[14793,  3001],\n",
       "       [  295,  1418]], dtype=int64)"
      ]
     },
     "execution_count": 123,
     "metadata": {},
     "output_type": "execute_result"
    }
   ],
   "source": [
    "confusion_matrix(y_train_pred_final.Churned,y_train_pred_final.Churned_Prob > 0.09)"
   ]
  },
  {
   "cell_type": "code",
   "execution_count": 124,
   "metadata": {},
   "outputs": [
    {
     "name": "stdout",
     "output_type": "stream",
     "text": [
      "              precision    recall  f1-score   support\n",
      "\n",
      "           0       0.98      0.83      0.90     17794\n",
      "           1       0.32      0.83      0.46      1713\n",
      "\n",
      "    accuracy                           0.83     19507\n",
      "   macro avg       0.65      0.83      0.68     19507\n",
      "weighted avg       0.92      0.83      0.86     19507\n",
      "\n"
     ]
    }
   ],
   "source": [
    "print(classification_report(y_train_pred_final.Churned,y_train_pred_final.Churned_Prob > 0.09))"
   ]
  },
  {
   "cell_type": "code",
   "execution_count": 125,
   "metadata": {},
   "outputs": [],
   "source": [
    "from statsmodels.stats.outliers_influence import variance_inflation_factor"
   ]
  },
  {
   "cell_type": "code",
   "execution_count": 126,
   "metadata": {},
   "outputs": [
    {
     "data": {
      "text/html": [
       "<div>\n",
       "<style scoped>\n",
       "    .dataframe tbody tr th:only-of-type {\n",
       "        vertical-align: middle;\n",
       "    }\n",
       "\n",
       "    .dataframe tbody tr th {\n",
       "        vertical-align: top;\n",
       "    }\n",
       "\n",
       "    .dataframe thead th {\n",
       "        text-align: right;\n",
       "    }\n",
       "</style>\n",
       "<table border=\"1\" class=\"dataframe\">\n",
       "  <thead>\n",
       "    <tr style=\"text-align: right;\">\n",
       "      <th></th>\n",
       "      <th>Features</th>\n",
       "      <th>VIF</th>\n",
       "    </tr>\n",
       "  </thead>\n",
       "  <tbody>\n",
       "    <tr>\n",
       "      <td>10</td>\n",
       "      <td>total_ic_mou_6</td>\n",
       "      <td>inf</td>\n",
       "    </tr>\n",
       "    <tr>\n",
       "      <td>7</td>\n",
       "      <td>total_og_mou_6</td>\n",
       "      <td>inf</td>\n",
       "    </tr>\n",
       "    <tr>\n",
       "      <td>19</td>\n",
       "      <td>OutGoingUseDrop</td>\n",
       "      <td>inf</td>\n",
       "    </tr>\n",
       "    <tr>\n",
       "      <td>12</td>\n",
       "      <td>total_ic_mou_8</td>\n",
       "      <td>inf</td>\n",
       "    </tr>\n",
       "    <tr>\n",
       "      <td>8</td>\n",
       "      <td>total_og_mou_8</td>\n",
       "      <td>inf</td>\n",
       "    </tr>\n",
       "    <tr>\n",
       "      <td>20</td>\n",
       "      <td>IncomingUseDrop</td>\n",
       "      <td>inf</td>\n",
       "    </tr>\n",
       "    <tr>\n",
       "      <td>6</td>\n",
       "      <td>std_og_mou_8</td>\n",
       "      <td>8.45</td>\n",
       "    </tr>\n",
       "    <tr>\n",
       "      <td>4</td>\n",
       "      <td>std_og_t2t_mou_8</td>\n",
       "      <td>5.19</td>\n",
       "    </tr>\n",
       "    <tr>\n",
       "      <td>2</td>\n",
       "      <td>offnet_mou_8</td>\n",
       "      <td>5.19</td>\n",
       "    </tr>\n",
       "    <tr>\n",
       "      <td>1</td>\n",
       "      <td>onnet_mou_8</td>\n",
       "      <td>5.06</td>\n",
       "    </tr>\n",
       "    <tr>\n",
       "      <td>5</td>\n",
       "      <td>std_og_t2m_mou_8</td>\n",
       "      <td>4.76</td>\n",
       "    </tr>\n",
       "    <tr>\n",
       "      <td>9</td>\n",
       "      <td>loc_ic_mou_8</td>\n",
       "      <td>4.43</td>\n",
       "    </tr>\n",
       "    <tr>\n",
       "      <td>11</td>\n",
       "      <td>total_ic_mou_7</td>\n",
       "      <td>3.50</td>\n",
       "    </tr>\n",
       "    <tr>\n",
       "      <td>3</td>\n",
       "      <td>loc_og_t2m_mou_7</td>\n",
       "      <td>2.02</td>\n",
       "    </tr>\n",
       "    <tr>\n",
       "      <td>0</td>\n",
       "      <td>arpu_7</td>\n",
       "      <td>1.46</td>\n",
       "    </tr>\n",
       "    <tr>\n",
       "      <td>14</td>\n",
       "      <td>total_rech_num_8</td>\n",
       "      <td>1.36</td>\n",
       "    </tr>\n",
       "    <tr>\n",
       "      <td>15</td>\n",
       "      <td>last_day_rch_amt_8</td>\n",
       "      <td>1.23</td>\n",
       "    </tr>\n",
       "    <tr>\n",
       "      <td>18</td>\n",
       "      <td>aon</td>\n",
       "      <td>1.15</td>\n",
       "    </tr>\n",
       "    <tr>\n",
       "      <td>17</td>\n",
       "      <td>vol_3g_mb_8</td>\n",
       "      <td>1.11</td>\n",
       "    </tr>\n",
       "    <tr>\n",
       "      <td>13</td>\n",
       "      <td>spl_ic_mou_8</td>\n",
       "      <td>1.03</td>\n",
       "    </tr>\n",
       "    <tr>\n",
       "      <td>16</td>\n",
       "      <td>vol_2g_mb_8</td>\n",
       "      <td>1.03</td>\n",
       "    </tr>\n",
       "  </tbody>\n",
       "</table>\n",
       "</div>"
      ],
      "text/plain": [
       "              Features   VIF\n",
       "10      total_ic_mou_6   inf\n",
       "7       total_og_mou_6   inf\n",
       "19     OutGoingUseDrop   inf\n",
       "12      total_ic_mou_8   inf\n",
       "8       total_og_mou_8   inf\n",
       "20     IncomingUseDrop   inf\n",
       "6         std_og_mou_8  8.45\n",
       "4     std_og_t2t_mou_8  5.19\n",
       "2         offnet_mou_8  5.19\n",
       "1          onnet_mou_8  5.06\n",
       "5     std_og_t2m_mou_8  4.76\n",
       "9         loc_ic_mou_8  4.43\n",
       "11      total_ic_mou_7  3.50\n",
       "3     loc_og_t2m_mou_7  2.02\n",
       "0               arpu_7  1.46\n",
       "14    total_rech_num_8  1.36\n",
       "15  last_day_rch_amt_8  1.23\n",
       "18                 aon  1.15\n",
       "17         vol_3g_mb_8  1.11\n",
       "13        spl_ic_mou_8  1.03\n",
       "16         vol_2g_mb_8  1.03"
      ]
     },
     "execution_count": 126,
     "metadata": {},
     "output_type": "execute_result"
    }
   ],
   "source": [
    "# Create a dataframe that will contain the names of all the feature variables and their respective VIFs\n",
    "vif = pd.DataFrame()\n",
    "vif['Features'] = X_train[cole].columns\n",
    "vif['VIF'] = [variance_inflation_factor(X_train[cole].values, i) for i in range(X_train[cole].shape[1])]\n",
    "vif['VIF'] = round(vif['VIF'], 2)\n",
    "vif = vif.sort_values(by = \"VIF\", ascending = False)\n",
    "vif"
   ]
  },
  {
   "cell_type": "code",
   "execution_count": 131,
   "metadata": {},
   "outputs": [
    {
     "data": {
      "text/html": [
       "<table class=\"simpletable\">\n",
       "<caption>Generalized Linear Model Regression Results</caption>\n",
       "<tr>\n",
       "  <th>Dep. Variable:</th>         <td>Churn</td>      <th>  No. Observations:  </th>  <td> 19507</td> \n",
       "</tr>\n",
       "<tr>\n",
       "  <th>Model:</th>                  <td>GLM</td>       <th>  Df Residuals:      </th>  <td> 19491</td> \n",
       "</tr>\n",
       "<tr>\n",
       "  <th>Model Family:</th>        <td>Binomial</td>     <th>  Df Model:          </th>  <td>    15</td> \n",
       "</tr>\n",
       "<tr>\n",
       "  <th>Link Function:</th>         <td>logit</td>      <th>  Scale:             </th> <td>  1.0000</td>\n",
       "</tr>\n",
       "<tr>\n",
       "  <th>Method:</th>                <td>IRLS</td>       <th>  Log-Likelihood:    </th> <td> -4049.1</td>\n",
       "</tr>\n",
       "<tr>\n",
       "  <th>Date:</th>            <td>Sun, 05 Jul 2020</td> <th>  Deviance:          </th> <td>  8098.3</td>\n",
       "</tr>\n",
       "<tr>\n",
       "  <th>Time:</th>                <td>12:09:19</td>     <th>  Pearson chi2:      </th> <td>1.15e+06</td>\n",
       "</tr>\n",
       "<tr>\n",
       "  <th>No. Iterations:</th>          <td>8</td>        <th>                     </th>     <td> </td>   \n",
       "</tr>\n",
       "<tr>\n",
       "  <th>Covariance Type:</th>     <td>nonrobust</td>    <th>                     </th>     <td> </td>   \n",
       "</tr>\n",
       "</table>\n",
       "<table class=\"simpletable\">\n",
       "<tr>\n",
       "           <td></td>             <th>coef</th>     <th>std err</th>      <th>z</th>      <th>P>|z|</th>  <th>[0.025</th>    <th>0.975]</th>  \n",
       "</tr>\n",
       "<tr>\n",
       "  <th>const</th>              <td>   -3.7542</td> <td>    0.061</td> <td>  -61.168</td> <td> 0.000</td> <td>   -3.874</td> <td>   -3.634</td>\n",
       "</tr>\n",
       "<tr>\n",
       "  <th>arpu_7</th>             <td>    0.3067</td> <td>    0.032</td> <td>    9.561</td> <td> 0.000</td> <td>    0.244</td> <td>    0.370</td>\n",
       "</tr>\n",
       "<tr>\n",
       "  <th>onnet_mou_8</th>        <td>    0.1381</td> <td>    0.060</td> <td>    2.309</td> <td> 0.021</td> <td>    0.021</td> <td>    0.255</td>\n",
       "</tr>\n",
       "<tr>\n",
       "  <th>offnet_mou_8</th>       <td>    0.4249</td> <td>    0.058</td> <td>    7.294</td> <td> 0.000</td> <td>    0.311</td> <td>    0.539</td>\n",
       "</tr>\n",
       "<tr>\n",
       "  <th>loc_og_t2m_mou_7</th>   <td>   -0.4480</td> <td>    0.050</td> <td>   -9.011</td> <td> 0.000</td> <td>   -0.545</td> <td>   -0.351</td>\n",
       "</tr>\n",
       "<tr>\n",
       "  <th>std_og_t2t_mou_8</th>   <td>   -0.4436</td> <td>    0.072</td> <td>   -6.154</td> <td> 0.000</td> <td>   -0.585</td> <td>   -0.302</td>\n",
       "</tr>\n",
       "<tr>\n",
       "  <th>std_og_t2m_mou_8</th>   <td>   -0.6773</td> <td>    0.068</td> <td>   -9.999</td> <td> 0.000</td> <td>   -0.810</td> <td>   -0.545</td>\n",
       "</tr>\n",
       "<tr>\n",
       "  <th>std_og_mou_8</th>       <td>   -0.0647</td> <td>    0.072</td> <td>   -0.904</td> <td> 0.366</td> <td>   -0.205</td> <td>    0.076</td>\n",
       "</tr>\n",
       "<tr>\n",
       "  <th>loc_ic_mou_8</th>       <td>   -0.9443</td> <td>    0.076</td> <td>  -12.484</td> <td> 0.000</td> <td>   -1.093</td> <td>   -0.796</td>\n",
       "</tr>\n",
       "<tr>\n",
       "  <th>total_ic_mou_7</th>     <td>    0.0530</td> <td>    0.046</td> <td>    1.159</td> <td> 0.246</td> <td>   -0.037</td> <td>    0.142</td>\n",
       "</tr>\n",
       "<tr>\n",
       "  <th>spl_ic_mou_8</th>       <td>   -0.5836</td> <td>    0.085</td> <td>   -6.838</td> <td> 0.000</td> <td>   -0.751</td> <td>   -0.416</td>\n",
       "</tr>\n",
       "<tr>\n",
       "  <th>total_rech_num_8</th>   <td>   -0.8890</td> <td>    0.051</td> <td>  -17.431</td> <td> 0.000</td> <td>   -0.989</td> <td>   -0.789</td>\n",
       "</tr>\n",
       "<tr>\n",
       "  <th>last_day_rch_amt_8</th> <td>   -1.1404</td> <td>    0.056</td> <td>  -20.192</td> <td> 0.000</td> <td>   -1.251</td> <td>   -1.030</td>\n",
       "</tr>\n",
       "<tr>\n",
       "  <th>vol_2g_mb_8</th>        <td>   -0.4369</td> <td>    0.068</td> <td>   -6.462</td> <td> 0.000</td> <td>   -0.569</td> <td>   -0.304</td>\n",
       "</tr>\n",
       "<tr>\n",
       "  <th>vol_3g_mb_8</th>        <td>   -0.7137</td> <td>    0.076</td> <td>   -9.346</td> <td> 0.000</td> <td>   -0.863</td> <td>   -0.564</td>\n",
       "</tr>\n",
       "<tr>\n",
       "  <th>aon</th>                <td>   -0.4597</td> <td>    0.038</td> <td>  -12.099</td> <td> 0.000</td> <td>   -0.534</td> <td>   -0.385</td>\n",
       "</tr>\n",
       "</table>"
      ],
      "text/plain": [
       "<class 'statsmodels.iolib.summary.Summary'>\n",
       "\"\"\"\n",
       "                 Generalized Linear Model Regression Results                  \n",
       "==============================================================================\n",
       "Dep. Variable:                  Churn   No. Observations:                19507\n",
       "Model:                            GLM   Df Residuals:                    19491\n",
       "Model Family:                Binomial   Df Model:                           15\n",
       "Link Function:                  logit   Scale:                          1.0000\n",
       "Method:                          IRLS   Log-Likelihood:                -4049.1\n",
       "Date:                Sun, 05 Jul 2020   Deviance:                       8098.3\n",
       "Time:                        12:09:19   Pearson chi2:                 1.15e+06\n",
       "No. Iterations:                     8                                         \n",
       "Covariance Type:            nonrobust                                         \n",
       "======================================================================================\n",
       "                         coef    std err          z      P>|z|      [0.025      0.975]\n",
       "--------------------------------------------------------------------------------------\n",
       "const                 -3.7542      0.061    -61.168      0.000      -3.874      -3.634\n",
       "arpu_7                 0.3067      0.032      9.561      0.000       0.244       0.370\n",
       "onnet_mou_8            0.1381      0.060      2.309      0.021       0.021       0.255\n",
       "offnet_mou_8           0.4249      0.058      7.294      0.000       0.311       0.539\n",
       "loc_og_t2m_mou_7      -0.4480      0.050     -9.011      0.000      -0.545      -0.351\n",
       "std_og_t2t_mou_8      -0.4436      0.072     -6.154      0.000      -0.585      -0.302\n",
       "std_og_t2m_mou_8      -0.6773      0.068     -9.999      0.000      -0.810      -0.545\n",
       "std_og_mou_8          -0.0647      0.072     -0.904      0.366      -0.205       0.076\n",
       "loc_ic_mou_8          -0.9443      0.076    -12.484      0.000      -1.093      -0.796\n",
       "total_ic_mou_7         0.0530      0.046      1.159      0.246      -0.037       0.142\n",
       "spl_ic_mou_8          -0.5836      0.085     -6.838      0.000      -0.751      -0.416\n",
       "total_rech_num_8      -0.8890      0.051    -17.431      0.000      -0.989      -0.789\n",
       "last_day_rch_amt_8    -1.1404      0.056    -20.192      0.000      -1.251      -1.030\n",
       "vol_2g_mb_8           -0.4369      0.068     -6.462      0.000      -0.569      -0.304\n",
       "vol_3g_mb_8           -0.7137      0.076     -9.346      0.000      -0.863      -0.564\n",
       "aon                   -0.4597      0.038    -12.099      0.000      -0.534      -0.385\n",
       "======================================================================================\n",
       "\"\"\""
      ]
     },
     "execution_count": 131,
     "metadata": {},
     "output_type": "execute_result"
    }
   ],
   "source": [
    "# Assesing model with statsmodel after dropping 7 columns with high VIF =inf value and One p value >0.05\n",
    "p05=[\"IncomingUseDrop\",\"total_ic_mou_8\",\"OutGoingUseDrop\",\"total_og_mou_6\",\"total_og_mou_8\",\"total_ic_mou_6\"]\n",
    "X_train_sm= sm.add_constant(X_train[cole].drop(p05,axis=1))\n",
    "logm3 = sm.GLM(y_train,X_train_sm,family=sm.families.Binomial())\n",
    "res=logm3.fit()\n",
    "res.summary()"
   ]
  },
  {
   "cell_type": "code",
   "execution_count": 132,
   "metadata": {},
   "outputs": [
    {
     "data": {
      "text/plain": [
       "array([0.37224951, 0.01947607, 0.00300468, 0.01516208, 0.00639091,\n",
       "       0.01089225, 0.03660646, 0.05108197, 0.06539288, 0.14768605,\n",
       "       0.00676394])"
      ]
     },
     "execution_count": 132,
     "metadata": {},
     "output_type": "execute_result"
    }
   ],
   "source": [
    "#getting predicted value on train set\n",
    "y_train_pred = res.predict(X_train_sm)\n",
    "y_train_pred = y_train_pred.values.reshape(-1)\n",
    "y_train_pred[:11]"
   ]
  },
  {
   "cell_type": "code",
   "execution_count": 133,
   "metadata": {},
   "outputs": [],
   "source": [
    "y_train_pred_final = pd.DataFrame({\"Churned\":y_train.values,\"Churned_Prob\":y_train_pred})\n",
    "y_train_pred_final[\"CustID\"]=y_train.index\n",
    "y_train_pred_final[\"predicted\"] = y_train_pred_final[\"Churned_Prob\"].map(lambda x: 1 if x > 0.09 else 0)\n"
   ]
  },
  {
   "cell_type": "code",
   "execution_count": 134,
   "metadata": {},
   "outputs": [
    {
     "data": {
      "text/html": [
       "<div>\n",
       "<style scoped>\n",
       "    .dataframe tbody tr th:only-of-type {\n",
       "        vertical-align: middle;\n",
       "    }\n",
       "\n",
       "    .dataframe tbody tr th {\n",
       "        vertical-align: top;\n",
       "    }\n",
       "\n",
       "    .dataframe thead th {\n",
       "        text-align: right;\n",
       "    }\n",
       "</style>\n",
       "<table border=\"1\" class=\"dataframe\">\n",
       "  <thead>\n",
       "    <tr style=\"text-align: right;\">\n",
       "      <th></th>\n",
       "      <th>Churned</th>\n",
       "      <th>Churned_Prob</th>\n",
       "      <th>CustID</th>\n",
       "      <th>predicted</th>\n",
       "    </tr>\n",
       "  </thead>\n",
       "  <tbody>\n",
       "    <tr>\n",
       "      <td>0</td>\n",
       "      <td>1</td>\n",
       "      <td>0.372250</td>\n",
       "      <td>93427</td>\n",
       "      <td>1</td>\n",
       "    </tr>\n",
       "    <tr>\n",
       "      <td>1</td>\n",
       "      <td>0</td>\n",
       "      <td>0.019476</td>\n",
       "      <td>8407</td>\n",
       "      <td>0</td>\n",
       "    </tr>\n",
       "    <tr>\n",
       "      <td>2</td>\n",
       "      <td>0</td>\n",
       "      <td>0.003005</td>\n",
       "      <td>51706</td>\n",
       "      <td>0</td>\n",
       "    </tr>\n",
       "    <tr>\n",
       "      <td>3</td>\n",
       "      <td>0</td>\n",
       "      <td>0.015162</td>\n",
       "      <td>47088</td>\n",
       "      <td>0</td>\n",
       "    </tr>\n",
       "    <tr>\n",
       "      <td>4</td>\n",
       "      <td>0</td>\n",
       "      <td>0.006391</td>\n",
       "      <td>92996</td>\n",
       "      <td>0</td>\n",
       "    </tr>\n",
       "  </tbody>\n",
       "</table>\n",
       "</div>"
      ],
      "text/plain": [
       "   Churned  Churned_Prob  CustID  predicted\n",
       "0        1      0.372250   93427          1\n",
       "1        0      0.019476    8407          0\n",
       "2        0      0.003005   51706          0\n",
       "3        0      0.015162   47088          0\n",
       "4        0      0.006391   92996          0"
      ]
     },
     "execution_count": 134,
     "metadata": {},
     "output_type": "execute_result"
    }
   ],
   "source": [
    "y_train_pred_final.head()"
   ]
  },
  {
   "cell_type": "code",
   "execution_count": 135,
   "metadata": {},
   "outputs": [
    {
     "data": {
      "text/plain": [
       "array([[14096,  3698],\n",
       "       [  312,  1401]], dtype=int64)"
      ]
     },
     "execution_count": 135,
     "metadata": {},
     "output_type": "execute_result"
    }
   ],
   "source": [
    "confusion_matrix(y_train_pred_final.Churned,y_train_pred_final.predicted)"
   ]
  },
  {
   "cell_type": "code",
   "execution_count": 136,
   "metadata": {},
   "outputs": [
    {
     "name": "stdout",
     "output_type": "stream",
     "text": [
      "              precision    recall  f1-score   support\n",
      "\n",
      "           0       0.98      0.79      0.88     17794\n",
      "           1       0.27      0.82      0.41      1713\n",
      "\n",
      "    accuracy                           0.79     19507\n",
      "   macro avg       0.63      0.81      0.64     19507\n",
      "weighted avg       0.92      0.79      0.83     19507\n",
      "\n"
     ]
    }
   ],
   "source": [
    "print(classification_report(y_train_pred_final.Churned,y_train_pred_final.predicted))"
   ]
  },
  {
   "cell_type": "code",
   "execution_count": 137,
   "metadata": {
    "scrolled": false
   },
   "outputs": [
    {
     "data": {
      "text/html": [
       "<div>\n",
       "<style scoped>\n",
       "    .dataframe tbody tr th:only-of-type {\n",
       "        vertical-align: middle;\n",
       "    }\n",
       "\n",
       "    .dataframe tbody tr th {\n",
       "        vertical-align: top;\n",
       "    }\n",
       "\n",
       "    .dataframe thead th {\n",
       "        text-align: right;\n",
       "    }\n",
       "</style>\n",
       "<table border=\"1\" class=\"dataframe\">\n",
       "  <thead>\n",
       "    <tr style=\"text-align: right;\">\n",
       "      <th></th>\n",
       "      <th>Features</th>\n",
       "      <th>VIF</th>\n",
       "    </tr>\n",
       "  </thead>\n",
       "  <tbody>\n",
       "    <tr>\n",
       "      <td>6</td>\n",
       "      <td>std_og_mou_8</td>\n",
       "      <td>5.44</td>\n",
       "    </tr>\n",
       "    <tr>\n",
       "      <td>4</td>\n",
       "      <td>std_og_t2t_mou_8</td>\n",
       "      <td>4.70</td>\n",
       "    </tr>\n",
       "    <tr>\n",
       "      <td>5</td>\n",
       "      <td>std_og_t2m_mou_8</td>\n",
       "      <td>4.48</td>\n",
       "    </tr>\n",
       "    <tr>\n",
       "      <td>2</td>\n",
       "      <td>offnet_mou_8</td>\n",
       "      <td>4.00</td>\n",
       "    </tr>\n",
       "    <tr>\n",
       "      <td>1</td>\n",
       "      <td>onnet_mou_8</td>\n",
       "      <td>3.51</td>\n",
       "    </tr>\n",
       "    <tr>\n",
       "      <td>7</td>\n",
       "      <td>loc_ic_mou_8</td>\n",
       "      <td>2.39</td>\n",
       "    </tr>\n",
       "    <tr>\n",
       "      <td>8</td>\n",
       "      <td>total_ic_mou_7</td>\n",
       "      <td>2.12</td>\n",
       "    </tr>\n",
       "    <tr>\n",
       "      <td>3</td>\n",
       "      <td>loc_og_t2m_mou_7</td>\n",
       "      <td>1.95</td>\n",
       "    </tr>\n",
       "    <tr>\n",
       "      <td>0</td>\n",
       "      <td>arpu_7</td>\n",
       "      <td>1.41</td>\n",
       "    </tr>\n",
       "    <tr>\n",
       "      <td>10</td>\n",
       "      <td>total_rech_num_8</td>\n",
       "      <td>1.32</td>\n",
       "    </tr>\n",
       "    <tr>\n",
       "      <td>11</td>\n",
       "      <td>last_day_rch_amt_8</td>\n",
       "      <td>1.20</td>\n",
       "    </tr>\n",
       "    <tr>\n",
       "      <td>14</td>\n",
       "      <td>aon</td>\n",
       "      <td>1.14</td>\n",
       "    </tr>\n",
       "    <tr>\n",
       "      <td>13</td>\n",
       "      <td>vol_3g_mb_8</td>\n",
       "      <td>1.10</td>\n",
       "    </tr>\n",
       "    <tr>\n",
       "      <td>9</td>\n",
       "      <td>spl_ic_mou_8</td>\n",
       "      <td>1.03</td>\n",
       "    </tr>\n",
       "    <tr>\n",
       "      <td>12</td>\n",
       "      <td>vol_2g_mb_8</td>\n",
       "      <td>1.03</td>\n",
       "    </tr>\n",
       "  </tbody>\n",
       "</table>\n",
       "</div>"
      ],
      "text/plain": [
       "              Features   VIF\n",
       "6         std_og_mou_8  5.44\n",
       "4     std_og_t2t_mou_8  4.70\n",
       "5     std_og_t2m_mou_8  4.48\n",
       "2         offnet_mou_8  4.00\n",
       "1          onnet_mou_8  3.51\n",
       "7         loc_ic_mou_8  2.39\n",
       "8       total_ic_mou_7  2.12\n",
       "3     loc_og_t2m_mou_7  1.95\n",
       "0               arpu_7  1.41\n",
       "10    total_rech_num_8  1.32\n",
       "11  last_day_rch_amt_8  1.20\n",
       "14                 aon  1.14\n",
       "13         vol_3g_mb_8  1.10\n",
       "9         spl_ic_mou_8  1.03\n",
       "12         vol_2g_mb_8  1.03"
      ]
     },
     "execution_count": 137,
     "metadata": {},
     "output_type": "execute_result"
    }
   ],
   "source": [
    "# Create a dataframe that will contain the names of all the feature variables and their respective VIFs\n",
    "# No dropping of further columns to avoid drop in accuracy due to imbalanced data set despite of VIF > 3\n",
    "vif = pd.DataFrame()\n",
    "vif['Features'] = X_train[cole].drop(p05,axis=1).columns\n",
    "vif['VIF'] = [variance_inflation_factor(X_train[cole].drop(p05,axis=1).values, i) for i in range(X_train[cole].drop(p05,axis=1).shape[1])]\n",
    "vif['VIF'] = round(vif['VIF'], 2)\n",
    "vif = vif.sort_values(by = \"VIF\", ascending = False)\n",
    "vif"
   ]
  },
  {
   "cell_type": "code",
   "execution_count": 138,
   "metadata": {},
   "outputs": [],
   "source": [
    "colf = X_train[cole].drop(p05,axis=1).columns"
   ]
  },
  {
   "cell_type": "code",
   "execution_count": 139,
   "metadata": {},
   "outputs": [
    {
     "data": {
      "text/plain": [
       "Index(['arpu_7', 'onnet_mou_8', 'offnet_mou_8', 'loc_og_t2m_mou_7',\n",
       "       'std_og_t2t_mou_8', 'std_og_t2m_mou_8', 'std_og_mou_8', 'loc_ic_mou_8',\n",
       "       'total_ic_mou_7', 'spl_ic_mou_8', 'total_rech_num_8',\n",
       "       'last_day_rch_amt_8', 'vol_2g_mb_8', 'vol_3g_mb_8', 'aon'],\n",
       "      dtype='object')"
      ]
     },
     "execution_count": 139,
     "metadata": {},
     "output_type": "execute_result"
    }
   ],
   "source": [
    "colf"
   ]
  },
  {
   "cell_type": "code",
   "execution_count": 140,
   "metadata": {},
   "outputs": [],
   "source": [
    "colg = ['arpu_7', 'onnet_mou_8', 'offnet_mou_8', 'loc_og_t2m_mou_7',\n",
    "       'std_og_t2t_mou_8', 'std_og_t2m_mou_8', 'std_og_mou_8', 'loc_ic_mou_8',\n",
    "        'spl_ic_mou_8', 'total_rech_num_8',\n",
    "       'last_day_rch_amt_8', 'vol_2g_mb_8', 'vol_3g_mb_8', 'aon']"
   ]
  },
  {
   "cell_type": "code",
   "execution_count": 141,
   "metadata": {
    "scrolled": false
   },
   "outputs": [
    {
     "data": {
      "text/html": [
       "<table class=\"simpletable\">\n",
       "<caption>Generalized Linear Model Regression Results</caption>\n",
       "<tr>\n",
       "  <th>Dep. Variable:</th>         <td>Churn</td>      <th>  No. Observations:  </th>  <td> 19507</td> \n",
       "</tr>\n",
       "<tr>\n",
       "  <th>Model:</th>                  <td>GLM</td>       <th>  Df Residuals:      </th>  <td> 19492</td> \n",
       "</tr>\n",
       "<tr>\n",
       "  <th>Model Family:</th>        <td>Binomial</td>     <th>  Df Model:          </th>  <td>    14</td> \n",
       "</tr>\n",
       "<tr>\n",
       "  <th>Link Function:</th>         <td>logit</td>      <th>  Scale:             </th> <td>  1.0000</td>\n",
       "</tr>\n",
       "<tr>\n",
       "  <th>Method:</th>                <td>IRLS</td>       <th>  Log-Likelihood:    </th> <td> -4049.8</td>\n",
       "</tr>\n",
       "<tr>\n",
       "  <th>Date:</th>            <td>Sun, 05 Jul 2020</td> <th>  Deviance:          </th> <td>  8099.6</td>\n",
       "</tr>\n",
       "<tr>\n",
       "  <th>Time:</th>                <td>12:16:34</td>     <th>  Pearson chi2:      </th> <td>1.14e+06</td>\n",
       "</tr>\n",
       "<tr>\n",
       "  <th>No. Iterations:</th>          <td>8</td>        <th>                     </th>     <td> </td>   \n",
       "</tr>\n",
       "<tr>\n",
       "  <th>Covariance Type:</th>     <td>nonrobust</td>    <th>                     </th>     <td> </td>   \n",
       "</tr>\n",
       "</table>\n",
       "<table class=\"simpletable\">\n",
       "<tr>\n",
       "           <td></td>             <th>coef</th>     <th>std err</th>      <th>z</th>      <th>P>|z|</th>  <th>[0.025</th>    <th>0.975]</th>  \n",
       "</tr>\n",
       "<tr>\n",
       "  <th>const</th>              <td>   -3.7519</td> <td>    0.061</td> <td>  -61.197</td> <td> 0.000</td> <td>   -3.872</td> <td>   -3.632</td>\n",
       "</tr>\n",
       "<tr>\n",
       "  <th>arpu_7</th>             <td>    0.3141</td> <td>    0.031</td> <td>    9.999</td> <td> 0.000</td> <td>    0.253</td> <td>    0.376</td>\n",
       "</tr>\n",
       "<tr>\n",
       "  <th>onnet_mou_8</th>        <td>    0.1344</td> <td>    0.060</td> <td>    2.247</td> <td> 0.025</td> <td>    0.017</td> <td>    0.252</td>\n",
       "</tr>\n",
       "<tr>\n",
       "  <th>offnet_mou_8</th>       <td>    0.4146</td> <td>    0.058</td> <td>    7.185</td> <td> 0.000</td> <td>    0.301</td> <td>    0.528</td>\n",
       "</tr>\n",
       "<tr>\n",
       "  <th>loc_og_t2m_mou_7</th>   <td>   -0.4347</td> <td>    0.048</td> <td>   -9.022</td> <td> 0.000</td> <td>   -0.529</td> <td>   -0.340</td>\n",
       "</tr>\n",
       "<tr>\n",
       "  <th>std_og_t2t_mou_8</th>   <td>   -0.4439</td> <td>    0.072</td> <td>   -6.158</td> <td> 0.000</td> <td>   -0.585</td> <td>   -0.303</td>\n",
       "</tr>\n",
       "<tr>\n",
       "  <th>std_og_t2m_mou_8</th>   <td>   -0.6708</td> <td>    0.068</td> <td>   -9.935</td> <td> 0.000</td> <td>   -0.803</td> <td>   -0.538</td>\n",
       "</tr>\n",
       "<tr>\n",
       "  <th>std_og_mou_8</th>       <td>   -0.0624</td> <td>    0.071</td> <td>   -0.874</td> <td> 0.382</td> <td>   -0.202</td> <td>    0.078</td>\n",
       "</tr>\n",
       "<tr>\n",
       "  <th>loc_ic_mou_8</th>       <td>   -0.9096</td> <td>    0.069</td> <td>  -13.117</td> <td> 0.000</td> <td>   -1.046</td> <td>   -0.774</td>\n",
       "</tr>\n",
       "<tr>\n",
       "  <th>spl_ic_mou_8</th>       <td>   -0.5841</td> <td>    0.085</td> <td>   -6.841</td> <td> 0.000</td> <td>   -0.751</td> <td>   -0.417</td>\n",
       "</tr>\n",
       "<tr>\n",
       "  <th>total_rech_num_8</th>   <td>   -0.8884</td> <td>    0.051</td> <td>  -17.432</td> <td> 0.000</td> <td>   -0.988</td> <td>   -0.789</td>\n",
       "</tr>\n",
       "<tr>\n",
       "  <th>last_day_rch_amt_8</th> <td>   -1.1397</td> <td>    0.056</td> <td>  -20.181</td> <td> 0.000</td> <td>   -1.250</td> <td>   -1.029</td>\n",
       "</tr>\n",
       "<tr>\n",
       "  <th>vol_2g_mb_8</th>        <td>   -0.4365</td> <td>    0.068</td> <td>   -6.461</td> <td> 0.000</td> <td>   -0.569</td> <td>   -0.304</td>\n",
       "</tr>\n",
       "<tr>\n",
       "  <th>vol_3g_mb_8</th>        <td>   -0.7152</td> <td>    0.076</td> <td>   -9.368</td> <td> 0.000</td> <td>   -0.865</td> <td>   -0.566</td>\n",
       "</tr>\n",
       "<tr>\n",
       "  <th>aon</th>                <td>   -0.4588</td> <td>    0.038</td> <td>  -12.081</td> <td> 0.000</td> <td>   -0.533</td> <td>   -0.384</td>\n",
       "</tr>\n",
       "</table>"
      ],
      "text/plain": [
       "<class 'statsmodels.iolib.summary.Summary'>\n",
       "\"\"\"\n",
       "                 Generalized Linear Model Regression Results                  \n",
       "==============================================================================\n",
       "Dep. Variable:                  Churn   No. Observations:                19507\n",
       "Model:                            GLM   Df Residuals:                    19492\n",
       "Model Family:                Binomial   Df Model:                           14\n",
       "Link Function:                  logit   Scale:                          1.0000\n",
       "Method:                          IRLS   Log-Likelihood:                -4049.8\n",
       "Date:                Sun, 05 Jul 2020   Deviance:                       8099.6\n",
       "Time:                        12:16:34   Pearson chi2:                 1.14e+06\n",
       "No. Iterations:                     8                                         \n",
       "Covariance Type:            nonrobust                                         \n",
       "======================================================================================\n",
       "                         coef    std err          z      P>|z|      [0.025      0.975]\n",
       "--------------------------------------------------------------------------------------\n",
       "const                 -3.7519      0.061    -61.197      0.000      -3.872      -3.632\n",
       "arpu_7                 0.3141      0.031      9.999      0.000       0.253       0.376\n",
       "onnet_mou_8            0.1344      0.060      2.247      0.025       0.017       0.252\n",
       "offnet_mou_8           0.4146      0.058      7.185      0.000       0.301       0.528\n",
       "loc_og_t2m_mou_7      -0.4347      0.048     -9.022      0.000      -0.529      -0.340\n",
       "std_og_t2t_mou_8      -0.4439      0.072     -6.158      0.000      -0.585      -0.303\n",
       "std_og_t2m_mou_8      -0.6708      0.068     -9.935      0.000      -0.803      -0.538\n",
       "std_og_mou_8          -0.0624      0.071     -0.874      0.382      -0.202       0.078\n",
       "loc_ic_mou_8          -0.9096      0.069    -13.117      0.000      -1.046      -0.774\n",
       "spl_ic_mou_8          -0.5841      0.085     -6.841      0.000      -0.751      -0.417\n",
       "total_rech_num_8      -0.8884      0.051    -17.432      0.000      -0.988      -0.789\n",
       "last_day_rch_amt_8    -1.1397      0.056    -20.181      0.000      -1.250      -1.029\n",
       "vol_2g_mb_8           -0.4365      0.068     -6.461      0.000      -0.569      -0.304\n",
       "vol_3g_mb_8           -0.7152      0.076     -9.368      0.000      -0.865      -0.566\n",
       "aon                   -0.4588      0.038    -12.081      0.000      -0.533      -0.384\n",
       "======================================================================================\n",
       "\"\"\""
      ]
     },
     "execution_count": 141,
     "metadata": {},
     "output_type": "execute_result"
    }
   ],
   "source": [
    "# Assesing model with statsmodel after dropping 1 column with high VIF = 5.44 value and 1 for p values >0.05\n",
    "\n",
    "X_train_sm= sm.add_constant(X_train[colg])\n",
    "logm4 = sm.GLM(y_train,X_train_sm,family=sm.families.Binomial())\n",
    "res=logm4.fit()\n",
    "res.summary()"
   ]
  },
  {
   "cell_type": "code",
   "execution_count": 142,
   "metadata": {
    "scrolled": false
   },
   "outputs": [
    {
     "data": {
      "text/html": [
       "<div>\n",
       "<style scoped>\n",
       "    .dataframe tbody tr th:only-of-type {\n",
       "        vertical-align: middle;\n",
       "    }\n",
       "\n",
       "    .dataframe tbody tr th {\n",
       "        vertical-align: top;\n",
       "    }\n",
       "\n",
       "    .dataframe thead th {\n",
       "        text-align: right;\n",
       "    }\n",
       "</style>\n",
       "<table border=\"1\" class=\"dataframe\">\n",
       "  <thead>\n",
       "    <tr style=\"text-align: right;\">\n",
       "      <th></th>\n",
       "      <th>Features</th>\n",
       "      <th>VIF</th>\n",
       "    </tr>\n",
       "  </thead>\n",
       "  <tbody>\n",
       "    <tr>\n",
       "      <td>6</td>\n",
       "      <td>std_og_mou_8</td>\n",
       "      <td>5.44</td>\n",
       "    </tr>\n",
       "    <tr>\n",
       "      <td>4</td>\n",
       "      <td>std_og_t2t_mou_8</td>\n",
       "      <td>4.70</td>\n",
       "    </tr>\n",
       "    <tr>\n",
       "      <td>5</td>\n",
       "      <td>std_og_t2m_mou_8</td>\n",
       "      <td>4.46</td>\n",
       "    </tr>\n",
       "    <tr>\n",
       "      <td>2</td>\n",
       "      <td>offnet_mou_8</td>\n",
       "      <td>3.95</td>\n",
       "    </tr>\n",
       "    <tr>\n",
       "      <td>1</td>\n",
       "      <td>onnet_mou_8</td>\n",
       "      <td>3.51</td>\n",
       "    </tr>\n",
       "    <tr>\n",
       "      <td>3</td>\n",
       "      <td>loc_og_t2m_mou_7</td>\n",
       "      <td>1.89</td>\n",
       "    </tr>\n",
       "    <tr>\n",
       "      <td>7</td>\n",
       "      <td>loc_ic_mou_8</td>\n",
       "      <td>1.49</td>\n",
       "    </tr>\n",
       "    <tr>\n",
       "      <td>0</td>\n",
       "      <td>arpu_7</td>\n",
       "      <td>1.38</td>\n",
       "    </tr>\n",
       "    <tr>\n",
       "      <td>9</td>\n",
       "      <td>total_rech_num_8</td>\n",
       "      <td>1.31</td>\n",
       "    </tr>\n",
       "    <tr>\n",
       "      <td>10</td>\n",
       "      <td>last_day_rch_amt_8</td>\n",
       "      <td>1.20</td>\n",
       "    </tr>\n",
       "    <tr>\n",
       "      <td>13</td>\n",
       "      <td>aon</td>\n",
       "      <td>1.14</td>\n",
       "    </tr>\n",
       "    <tr>\n",
       "      <td>12</td>\n",
       "      <td>vol_3g_mb_8</td>\n",
       "      <td>1.09</td>\n",
       "    </tr>\n",
       "    <tr>\n",
       "      <td>8</td>\n",
       "      <td>spl_ic_mou_8</td>\n",
       "      <td>1.03</td>\n",
       "    </tr>\n",
       "    <tr>\n",
       "      <td>11</td>\n",
       "      <td>vol_2g_mb_8</td>\n",
       "      <td>1.03</td>\n",
       "    </tr>\n",
       "  </tbody>\n",
       "</table>\n",
       "</div>"
      ],
      "text/plain": [
       "              Features   VIF\n",
       "6         std_og_mou_8  5.44\n",
       "4     std_og_t2t_mou_8  4.70\n",
       "5     std_og_t2m_mou_8  4.46\n",
       "2         offnet_mou_8  3.95\n",
       "1          onnet_mou_8  3.51\n",
       "3     loc_og_t2m_mou_7  1.89\n",
       "7         loc_ic_mou_8  1.49\n",
       "0               arpu_7  1.38\n",
       "9     total_rech_num_8  1.31\n",
       "10  last_day_rch_amt_8  1.20\n",
       "13                 aon  1.14\n",
       "12         vol_3g_mb_8  1.09\n",
       "8         spl_ic_mou_8  1.03\n",
       "11         vol_2g_mb_8  1.03"
      ]
     },
     "execution_count": 142,
     "metadata": {},
     "output_type": "execute_result"
    }
   ],
   "source": [
    "# Create a dataframe that will contain the names of all the feature variables and their respective VIFs\n",
    "vif = pd.DataFrame()\n",
    "vif['Features'] = X_train[colg].columns\n",
    "vif['VIF'] = [variance_inflation_factor(X_train[colg].values, i) for i in range(X_train[colg].shape[1])]\n",
    "vif['VIF'] = round(vif['VIF'], 2)\n",
    "vif = vif.sort_values(by = \"VIF\", ascending = False)\n",
    "vif"
   ]
  },
  {
   "cell_type": "code",
   "execution_count": 144,
   "metadata": {},
   "outputs": [],
   "source": [
    "colh =['arpu_7',\n",
    " 'onnet_mou_8',\n",
    " 'offnet_mou_8',\n",
    " 'loc_og_t2m_mou_7',\n",
    " 'std_og_t2t_mou_8',\n",
    " 'std_og_t2m_mou_8',\n",
    " 'loc_ic_mou_8',\n",
    " 'spl_ic_mou_8',\n",
    " 'total_rech_num_8',\n",
    " 'last_day_rch_amt_8',\n",
    " 'vol_2g_mb_8',\n",
    " 'vol_3g_mb_8',\n",
    " 'aon']"
   ]
  },
  {
   "cell_type": "code",
   "execution_count": 145,
   "metadata": {},
   "outputs": [
    {
     "data": {
      "text/html": [
       "<table class=\"simpletable\">\n",
       "<caption>Generalized Linear Model Regression Results</caption>\n",
       "<tr>\n",
       "  <th>Dep. Variable:</th>         <td>Churn</td>      <th>  No. Observations:  </th>  <td> 19507</td> \n",
       "</tr>\n",
       "<tr>\n",
       "  <th>Model:</th>                  <td>GLM</td>       <th>  Df Residuals:      </th>  <td> 19493</td> \n",
       "</tr>\n",
       "<tr>\n",
       "  <th>Model Family:</th>        <td>Binomial</td>     <th>  Df Model:          </th>  <td>    13</td> \n",
       "</tr>\n",
       "<tr>\n",
       "  <th>Link Function:</th>         <td>logit</td>      <th>  Scale:             </th> <td>  1.0000</td>\n",
       "</tr>\n",
       "<tr>\n",
       "  <th>Method:</th>                <td>IRLS</td>       <th>  Log-Likelihood:    </th> <td> -4050.2</td>\n",
       "</tr>\n",
       "<tr>\n",
       "  <th>Date:</th>            <td>Sun, 05 Jul 2020</td> <th>  Deviance:          </th> <td>  8100.4</td>\n",
       "</tr>\n",
       "<tr>\n",
       "  <th>Time:</th>                <td>12:19:04</td>     <th>  Pearson chi2:      </th> <td>1.13e+06</td>\n",
       "</tr>\n",
       "<tr>\n",
       "  <th>No. Iterations:</th>          <td>8</td>        <th>                     </th>     <td> </td>   \n",
       "</tr>\n",
       "<tr>\n",
       "  <th>Covariance Type:</th>     <td>nonrobust</td>    <th>                     </th>     <td> </td>   \n",
       "</tr>\n",
       "</table>\n",
       "<table class=\"simpletable\">\n",
       "<tr>\n",
       "           <td></td>             <th>coef</th>     <th>std err</th>      <th>z</th>      <th>P>|z|</th>  <th>[0.025</th>    <th>0.975]</th>  \n",
       "</tr>\n",
       "<tr>\n",
       "  <th>const</th>              <td>   -3.7517</td> <td>    0.061</td> <td>  -61.208</td> <td> 0.000</td> <td>   -3.872</td> <td>   -3.632</td>\n",
       "</tr>\n",
       "<tr>\n",
       "  <th>arpu_7</th>             <td>    0.3113</td> <td>    0.031</td> <td>    9.964</td> <td> 0.000</td> <td>    0.250</td> <td>    0.373</td>\n",
       "</tr>\n",
       "<tr>\n",
       "  <th>onnet_mou_8</th>        <td>    0.1212</td> <td>    0.058</td> <td>    2.100</td> <td> 0.036</td> <td>    0.008</td> <td>    0.234</td>\n",
       "</tr>\n",
       "<tr>\n",
       "  <th>offnet_mou_8</th>       <td>    0.3957</td> <td>    0.054</td> <td>    7.374</td> <td> 0.000</td> <td>    0.291</td> <td>    0.501</td>\n",
       "</tr>\n",
       "<tr>\n",
       "  <th>loc_og_t2m_mou_7</th>   <td>   -0.4272</td> <td>    0.047</td> <td>   -9.017</td> <td> 0.000</td> <td>   -0.520</td> <td>   -0.334</td>\n",
       "</tr>\n",
       "<tr>\n",
       "  <th>std_og_t2t_mou_8</th>   <td>   -0.4692</td> <td>    0.066</td> <td>   -7.158</td> <td> 0.000</td> <td>   -0.598</td> <td>   -0.341</td>\n",
       "</tr>\n",
       "<tr>\n",
       "  <th>std_og_t2m_mou_8</th>   <td>   -0.6914</td> <td>    0.063</td> <td>  -10.932</td> <td> 0.000</td> <td>   -0.815</td> <td>   -0.567</td>\n",
       "</tr>\n",
       "<tr>\n",
       "  <th>loc_ic_mou_8</th>       <td>   -0.9023</td> <td>    0.069</td> <td>  -13.114</td> <td> 0.000</td> <td>   -1.037</td> <td>   -0.767</td>\n",
       "</tr>\n",
       "<tr>\n",
       "  <th>spl_ic_mou_8</th>       <td>   -0.5857</td> <td>    0.085</td> <td>   -6.852</td> <td> 0.000</td> <td>   -0.753</td> <td>   -0.418</td>\n",
       "</tr>\n",
       "<tr>\n",
       "  <th>total_rech_num_8</th>   <td>   -0.8925</td> <td>    0.051</td> <td>  -17.561</td> <td> 0.000</td> <td>   -0.992</td> <td>   -0.793</td>\n",
       "</tr>\n",
       "<tr>\n",
       "  <th>last_day_rch_amt_8</th> <td>   -1.1392</td> <td>    0.056</td> <td>  -20.171</td> <td> 0.000</td> <td>   -1.250</td> <td>   -1.028</td>\n",
       "</tr>\n",
       "<tr>\n",
       "  <th>vol_2g_mb_8</th>        <td>   -0.4344</td> <td>    0.067</td> <td>   -6.444</td> <td> 0.000</td> <td>   -0.567</td> <td>   -0.302</td>\n",
       "</tr>\n",
       "<tr>\n",
       "  <th>vol_3g_mb_8</th>        <td>   -0.7135</td> <td>    0.076</td> <td>   -9.355</td> <td> 0.000</td> <td>   -0.863</td> <td>   -0.564</td>\n",
       "</tr>\n",
       "<tr>\n",
       "  <th>aon</th>                <td>   -0.4581</td> <td>    0.038</td> <td>  -12.065</td> <td> 0.000</td> <td>   -0.532</td> <td>   -0.384</td>\n",
       "</tr>\n",
       "</table>"
      ],
      "text/plain": [
       "<class 'statsmodels.iolib.summary.Summary'>\n",
       "\"\"\"\n",
       "                 Generalized Linear Model Regression Results                  \n",
       "==============================================================================\n",
       "Dep. Variable:                  Churn   No. Observations:                19507\n",
       "Model:                            GLM   Df Residuals:                    19493\n",
       "Model Family:                Binomial   Df Model:                           13\n",
       "Link Function:                  logit   Scale:                          1.0000\n",
       "Method:                          IRLS   Log-Likelihood:                -4050.2\n",
       "Date:                Sun, 05 Jul 2020   Deviance:                       8100.4\n",
       "Time:                        12:19:04   Pearson chi2:                 1.13e+06\n",
       "No. Iterations:                     8                                         \n",
       "Covariance Type:            nonrobust                                         \n",
       "======================================================================================\n",
       "                         coef    std err          z      P>|z|      [0.025      0.975]\n",
       "--------------------------------------------------------------------------------------\n",
       "const                 -3.7517      0.061    -61.208      0.000      -3.872      -3.632\n",
       "arpu_7                 0.3113      0.031      9.964      0.000       0.250       0.373\n",
       "onnet_mou_8            0.1212      0.058      2.100      0.036       0.008       0.234\n",
       "offnet_mou_8           0.3957      0.054      7.374      0.000       0.291       0.501\n",
       "loc_og_t2m_mou_7      -0.4272      0.047     -9.017      0.000      -0.520      -0.334\n",
       "std_og_t2t_mou_8      -0.4692      0.066     -7.158      0.000      -0.598      -0.341\n",
       "std_og_t2m_mou_8      -0.6914      0.063    -10.932      0.000      -0.815      -0.567\n",
       "loc_ic_mou_8          -0.9023      0.069    -13.114      0.000      -1.037      -0.767\n",
       "spl_ic_mou_8          -0.5857      0.085     -6.852      0.000      -0.753      -0.418\n",
       "total_rech_num_8      -0.8925      0.051    -17.561      0.000      -0.992      -0.793\n",
       "last_day_rch_amt_8    -1.1392      0.056    -20.171      0.000      -1.250      -1.028\n",
       "vol_2g_mb_8           -0.4344      0.067     -6.444      0.000      -0.567      -0.302\n",
       "vol_3g_mb_8           -0.7135      0.076     -9.355      0.000      -0.863      -0.564\n",
       "aon                   -0.4581      0.038    -12.065      0.000      -0.532      -0.384\n",
       "======================================================================================\n",
       "\"\"\""
      ]
     },
     "execution_count": 145,
     "metadata": {},
     "output_type": "execute_result"
    }
   ],
   "source": [
    "#Assesing model with statsmodel after dropping 1 columns with high VIF = 4.25 value and One p value >0.05\n",
    "\n",
    "X_train_sm= sm.add_constant(X_train[colh])\n",
    "logm5 = sm.GLM(y_train,X_train_sm,family=sm.families.Binomial())\n",
    "res=logm5.fit()\n",
    "res.summary()"
   ]
  },
  {
   "cell_type": "code",
   "execution_count": 146,
   "metadata": {},
   "outputs": [
    {
     "data": {
      "text/html": [
       "<div>\n",
       "<style scoped>\n",
       "    .dataframe tbody tr th:only-of-type {\n",
       "        vertical-align: middle;\n",
       "    }\n",
       "\n",
       "    .dataframe tbody tr th {\n",
       "        vertical-align: top;\n",
       "    }\n",
       "\n",
       "    .dataframe thead th {\n",
       "        text-align: right;\n",
       "    }\n",
       "</style>\n",
       "<table border=\"1\" class=\"dataframe\">\n",
       "  <thead>\n",
       "    <tr style=\"text-align: right;\">\n",
       "      <th></th>\n",
       "      <th>Features</th>\n",
       "      <th>VIF</th>\n",
       "    </tr>\n",
       "  </thead>\n",
       "  <tbody>\n",
       "    <tr>\n",
       "      <td>2</td>\n",
       "      <td>offnet_mou_8</td>\n",
       "      <td>3.85</td>\n",
       "    </tr>\n",
       "    <tr>\n",
       "      <td>4</td>\n",
       "      <td>std_og_t2t_mou_8</td>\n",
       "      <td>3.49</td>\n",
       "    </tr>\n",
       "    <tr>\n",
       "      <td>1</td>\n",
       "      <td>onnet_mou_8</td>\n",
       "      <td>3.43</td>\n",
       "    </tr>\n",
       "    <tr>\n",
       "      <td>5</td>\n",
       "      <td>std_og_t2m_mou_8</td>\n",
       "      <td>3.39</td>\n",
       "    </tr>\n",
       "    <tr>\n",
       "      <td>3</td>\n",
       "      <td>loc_og_t2m_mou_7</td>\n",
       "      <td>1.85</td>\n",
       "    </tr>\n",
       "    <tr>\n",
       "      <td>6</td>\n",
       "      <td>loc_ic_mou_8</td>\n",
       "      <td>1.48</td>\n",
       "    </tr>\n",
       "    <tr>\n",
       "      <td>0</td>\n",
       "      <td>arpu_7</td>\n",
       "      <td>1.35</td>\n",
       "    </tr>\n",
       "    <tr>\n",
       "      <td>8</td>\n",
       "      <td>total_rech_num_8</td>\n",
       "      <td>1.31</td>\n",
       "    </tr>\n",
       "    <tr>\n",
       "      <td>9</td>\n",
       "      <td>last_day_rch_amt_8</td>\n",
       "      <td>1.20</td>\n",
       "    </tr>\n",
       "    <tr>\n",
       "      <td>12</td>\n",
       "      <td>aon</td>\n",
       "      <td>1.14</td>\n",
       "    </tr>\n",
       "    <tr>\n",
       "      <td>11</td>\n",
       "      <td>vol_3g_mb_8</td>\n",
       "      <td>1.09</td>\n",
       "    </tr>\n",
       "    <tr>\n",
       "      <td>7</td>\n",
       "      <td>spl_ic_mou_8</td>\n",
       "      <td>1.03</td>\n",
       "    </tr>\n",
       "    <tr>\n",
       "      <td>10</td>\n",
       "      <td>vol_2g_mb_8</td>\n",
       "      <td>1.03</td>\n",
       "    </tr>\n",
       "  </tbody>\n",
       "</table>\n",
       "</div>"
      ],
      "text/plain": [
       "              Features   VIF\n",
       "2         offnet_mou_8  3.85\n",
       "4     std_og_t2t_mou_8  3.49\n",
       "1          onnet_mou_8  3.43\n",
       "5     std_og_t2m_mou_8  3.39\n",
       "3     loc_og_t2m_mou_7  1.85\n",
       "6         loc_ic_mou_8  1.48\n",
       "0               arpu_7  1.35\n",
       "8     total_rech_num_8  1.31\n",
       "9   last_day_rch_amt_8  1.20\n",
       "12                 aon  1.14\n",
       "11         vol_3g_mb_8  1.09\n",
       "7         spl_ic_mou_8  1.03\n",
       "10         vol_2g_mb_8  1.03"
      ]
     },
     "execution_count": 146,
     "metadata": {},
     "output_type": "execute_result"
    }
   ],
   "source": [
    "# Create a dataframe that will contain the names of all the feature variables and their respective VIFs\n",
    "vif = pd.DataFrame()\n",
    "vif['Features'] = X_train[colh].columns\n",
    "vif['VIF'] = [variance_inflation_factor(X_train[colh].values, i) for i in range(X_train[colh].shape[1])]\n",
    "vif['VIF'] = round(vif['VIF'], 2)\n",
    "vif = vif.sort_values(by = \"VIF\", ascending = False)\n",
    "vif"
   ]
  },
  {
   "cell_type": "code",
   "execution_count": 148,
   "metadata": {},
   "outputs": [],
   "source": [
    "coli =['arpu_7',\n",
    " 'onnet_mou_8',\n",
    " 'loc_og_t2m_mou_7',\n",
    " 'std_og_t2t_mou_8',\n",
    " 'std_og_t2m_mou_8',\n",
    " 'loc_ic_mou_8',\n",
    " 'spl_ic_mou_8',\n",
    " 'total_rech_num_8',\n",
    " 'last_day_rch_amt_8',\n",
    " 'vol_2g_mb_8',\n",
    " 'vol_3g_mb_8',\n",
    " 'aon']"
   ]
  },
  {
   "cell_type": "code",
   "execution_count": 149,
   "metadata": {
    "scrolled": false
   },
   "outputs": [
    {
     "data": {
      "text/html": [
       "<table class=\"simpletable\">\n",
       "<caption>Generalized Linear Model Regression Results</caption>\n",
       "<tr>\n",
       "  <th>Dep. Variable:</th>         <td>Churn</td>      <th>  No. Observations:  </th>  <td> 19507</td> \n",
       "</tr>\n",
       "<tr>\n",
       "  <th>Model:</th>                  <td>GLM</td>       <th>  Df Residuals:      </th>  <td> 19494</td> \n",
       "</tr>\n",
       "<tr>\n",
       "  <th>Model Family:</th>        <td>Binomial</td>     <th>  Df Model:          </th>  <td>    12</td> \n",
       "</tr>\n",
       "<tr>\n",
       "  <th>Link Function:</th>         <td>logit</td>      <th>  Scale:             </th> <td>  1.0000</td>\n",
       "</tr>\n",
       "<tr>\n",
       "  <th>Method:</th>                <td>IRLS</td>       <th>  Log-Likelihood:    </th> <td> -4073.7</td>\n",
       "</tr>\n",
       "<tr>\n",
       "  <th>Date:</th>            <td>Sun, 05 Jul 2020</td> <th>  Deviance:          </th> <td>  8147.3</td>\n",
       "</tr>\n",
       "<tr>\n",
       "  <th>Time:</th>                <td>12:20:26</td>     <th>  Pearson chi2:      </th> <td>9.79e+05</td>\n",
       "</tr>\n",
       "<tr>\n",
       "  <th>No. Iterations:</th>          <td>8</td>        <th>                     </th>     <td> </td>   \n",
       "</tr>\n",
       "<tr>\n",
       "  <th>Covariance Type:</th>     <td>nonrobust</td>    <th>                     </th>     <td> </td>   \n",
       "</tr>\n",
       "</table>\n",
       "<table class=\"simpletable\">\n",
       "<tr>\n",
       "           <td></td>             <th>coef</th>     <th>std err</th>      <th>z</th>      <th>P>|z|</th>  <th>[0.025</th>    <th>0.975]</th>  \n",
       "</tr>\n",
       "<tr>\n",
       "  <th>const</th>              <td>   -3.7232</td> <td>    0.060</td> <td>  -61.556</td> <td> 0.000</td> <td>   -3.842</td> <td>   -3.605</td>\n",
       "</tr>\n",
       "<tr>\n",
       "  <th>arpu_7</th>             <td>    0.3417</td> <td>    0.031</td> <td>   10.970</td> <td> 0.000</td> <td>    0.281</td> <td>    0.403</td>\n",
       "</tr>\n",
       "<tr>\n",
       "  <th>onnet_mou_8</th>        <td>    0.1262</td> <td>    0.056</td> <td>    2.250</td> <td> 0.024</td> <td>    0.016</td> <td>    0.236</td>\n",
       "</tr>\n",
       "<tr>\n",
       "  <th>loc_og_t2m_mou_7</th>   <td>   -0.3504</td> <td>    0.046</td> <td>   -7.602</td> <td> 0.000</td> <td>   -0.441</td> <td>   -0.260</td>\n",
       "</tr>\n",
       "<tr>\n",
       "  <th>std_og_t2t_mou_8</th>   <td>   -0.5002</td> <td>    0.064</td> <td>   -7.776</td> <td> 0.000</td> <td>   -0.626</td> <td>   -0.374</td>\n",
       "</tr>\n",
       "<tr>\n",
       "  <th>std_og_t2m_mou_8</th>   <td>   -0.3841</td> <td>    0.048</td> <td>   -8.076</td> <td> 0.000</td> <td>   -0.477</td> <td>   -0.291</td>\n",
       "</tr>\n",
       "<tr>\n",
       "  <th>loc_ic_mou_8</th>       <td>   -0.7978</td> <td>    0.065</td> <td>  -12.197</td> <td> 0.000</td> <td>   -0.926</td> <td>   -0.670</td>\n",
       "</tr>\n",
       "<tr>\n",
       "  <th>spl_ic_mou_8</th>       <td>   -0.5925</td> <td>    0.085</td> <td>   -6.933</td> <td> 0.000</td> <td>   -0.760</td> <td>   -0.425</td>\n",
       "</tr>\n",
       "<tr>\n",
       "  <th>total_rech_num_8</th>   <td>   -0.8556</td> <td>    0.050</td> <td>  -17.001</td> <td> 0.000</td> <td>   -0.954</td> <td>   -0.757</td>\n",
       "</tr>\n",
       "<tr>\n",
       "  <th>last_day_rch_amt_8</th> <td>   -1.1007</td> <td>    0.056</td> <td>  -19.727</td> <td> 0.000</td> <td>   -1.210</td> <td>   -0.991</td>\n",
       "</tr>\n",
       "<tr>\n",
       "  <th>vol_2g_mb_8</th>        <td>   -0.4461</td> <td>    0.068</td> <td>   -6.594</td> <td> 0.000</td> <td>   -0.579</td> <td>   -0.313</td>\n",
       "</tr>\n",
       "<tr>\n",
       "  <th>vol_3g_mb_8</th>        <td>   -0.7331</td> <td>    0.077</td> <td>   -9.575</td> <td> 0.000</td> <td>   -0.883</td> <td>   -0.583</td>\n",
       "</tr>\n",
       "<tr>\n",
       "  <th>aon</th>                <td>   -0.4575</td> <td>    0.038</td> <td>  -12.071</td> <td> 0.000</td> <td>   -0.532</td> <td>   -0.383</td>\n",
       "</tr>\n",
       "</table>"
      ],
      "text/plain": [
       "<class 'statsmodels.iolib.summary.Summary'>\n",
       "\"\"\"\n",
       "                 Generalized Linear Model Regression Results                  \n",
       "==============================================================================\n",
       "Dep. Variable:                  Churn   No. Observations:                19507\n",
       "Model:                            GLM   Df Residuals:                    19494\n",
       "Model Family:                Binomial   Df Model:                           12\n",
       "Link Function:                  logit   Scale:                          1.0000\n",
       "Method:                          IRLS   Log-Likelihood:                -4073.7\n",
       "Date:                Sun, 05 Jul 2020   Deviance:                       8147.3\n",
       "Time:                        12:20:26   Pearson chi2:                 9.79e+05\n",
       "No. Iterations:                     8                                         \n",
       "Covariance Type:            nonrobust                                         \n",
       "======================================================================================\n",
       "                         coef    std err          z      P>|z|      [0.025      0.975]\n",
       "--------------------------------------------------------------------------------------\n",
       "const                 -3.7232      0.060    -61.556      0.000      -3.842      -3.605\n",
       "arpu_7                 0.3417      0.031     10.970      0.000       0.281       0.403\n",
       "onnet_mou_8            0.1262      0.056      2.250      0.024       0.016       0.236\n",
       "loc_og_t2m_mou_7      -0.3504      0.046     -7.602      0.000      -0.441      -0.260\n",
       "std_og_t2t_mou_8      -0.5002      0.064     -7.776      0.000      -0.626      -0.374\n",
       "std_og_t2m_mou_8      -0.3841      0.048     -8.076      0.000      -0.477      -0.291\n",
       "loc_ic_mou_8          -0.7978      0.065    -12.197      0.000      -0.926      -0.670\n",
       "spl_ic_mou_8          -0.5925      0.085     -6.933      0.000      -0.760      -0.425\n",
       "total_rech_num_8      -0.8556      0.050    -17.001      0.000      -0.954      -0.757\n",
       "last_day_rch_amt_8    -1.1007      0.056    -19.727      0.000      -1.210      -0.991\n",
       "vol_2g_mb_8           -0.4461      0.068     -6.594      0.000      -0.579      -0.313\n",
       "vol_3g_mb_8           -0.7331      0.077     -9.575      0.000      -0.883      -0.583\n",
       "aon                   -0.4575      0.038    -12.071      0.000      -0.532      -0.383\n",
       "======================================================================================\n",
       "\"\"\""
      ]
     },
     "execution_count": 149,
     "metadata": {},
     "output_type": "execute_result"
    }
   ],
   "source": [
    "#Assesing model with statsmodel after dropping 1 columns with high VIF = 4.25 value and One p value >0.05\n",
    "\n",
    "X_train_sm= sm.add_constant(X_train[coli])\n",
    "logm6 = sm.GLM(y_train,X_train_sm,family=sm.families.Binomial())\n",
    "res=logm6.fit()\n",
    "res.summary()"
   ]
  },
  {
   "cell_type": "code",
   "execution_count": 150,
   "metadata": {},
   "outputs": [
    {
     "data": {
      "text/html": [
       "<div>\n",
       "<style scoped>\n",
       "    .dataframe tbody tr th:only-of-type {\n",
       "        vertical-align: middle;\n",
       "    }\n",
       "\n",
       "    .dataframe tbody tr th {\n",
       "        vertical-align: top;\n",
       "    }\n",
       "\n",
       "    .dataframe thead th {\n",
       "        text-align: right;\n",
       "    }\n",
       "</style>\n",
       "<table border=\"1\" class=\"dataframe\">\n",
       "  <thead>\n",
       "    <tr style=\"text-align: right;\">\n",
       "      <th></th>\n",
       "      <th>Features</th>\n",
       "      <th>VIF</th>\n",
       "    </tr>\n",
       "  </thead>\n",
       "  <tbody>\n",
       "    <tr>\n",
       "      <td>3</td>\n",
       "      <td>std_og_t2t_mou_8</td>\n",
       "      <td>3.47</td>\n",
       "    </tr>\n",
       "    <tr>\n",
       "      <td>1</td>\n",
       "      <td>onnet_mou_8</td>\n",
       "      <td>3.43</td>\n",
       "    </tr>\n",
       "    <tr>\n",
       "      <td>2</td>\n",
       "      <td>loc_og_t2m_mou_7</td>\n",
       "      <td>1.47</td>\n",
       "    </tr>\n",
       "    <tr>\n",
       "      <td>5</td>\n",
       "      <td>loc_ic_mou_8</td>\n",
       "      <td>1.43</td>\n",
       "    </tr>\n",
       "    <tr>\n",
       "      <td>0</td>\n",
       "      <td>arpu_7</td>\n",
       "      <td>1.33</td>\n",
       "    </tr>\n",
       "    <tr>\n",
       "      <td>7</td>\n",
       "      <td>total_rech_num_8</td>\n",
       "      <td>1.29</td>\n",
       "    </tr>\n",
       "    <tr>\n",
       "      <td>4</td>\n",
       "      <td>std_og_t2m_mou_8</td>\n",
       "      <td>1.19</td>\n",
       "    </tr>\n",
       "    <tr>\n",
       "      <td>8</td>\n",
       "      <td>last_day_rch_amt_8</td>\n",
       "      <td>1.18</td>\n",
       "    </tr>\n",
       "    <tr>\n",
       "      <td>11</td>\n",
       "      <td>aon</td>\n",
       "      <td>1.14</td>\n",
       "    </tr>\n",
       "    <tr>\n",
       "      <td>10</td>\n",
       "      <td>vol_3g_mb_8</td>\n",
       "      <td>1.09</td>\n",
       "    </tr>\n",
       "    <tr>\n",
       "      <td>6</td>\n",
       "      <td>spl_ic_mou_8</td>\n",
       "      <td>1.03</td>\n",
       "    </tr>\n",
       "    <tr>\n",
       "      <td>9</td>\n",
       "      <td>vol_2g_mb_8</td>\n",
       "      <td>1.03</td>\n",
       "    </tr>\n",
       "  </tbody>\n",
       "</table>\n",
       "</div>"
      ],
      "text/plain": [
       "              Features   VIF\n",
       "3     std_og_t2t_mou_8  3.47\n",
       "1          onnet_mou_8  3.43\n",
       "2     loc_og_t2m_mou_7  1.47\n",
       "5         loc_ic_mou_8  1.43\n",
       "0               arpu_7  1.33\n",
       "7     total_rech_num_8  1.29\n",
       "4     std_og_t2m_mou_8  1.19\n",
       "8   last_day_rch_amt_8  1.18\n",
       "11                 aon  1.14\n",
       "10         vol_3g_mb_8  1.09\n",
       "6         spl_ic_mou_8  1.03\n",
       "9          vol_2g_mb_8  1.03"
      ]
     },
     "execution_count": 150,
     "metadata": {},
     "output_type": "execute_result"
    }
   ],
   "source": [
    "# Create a dataframe that will contain the names of all the feature variables and their respective VIFs\n",
    "vif = pd.DataFrame()\n",
    "vif['Features'] = X_train[coli].columns\n",
    "vif['VIF'] = [variance_inflation_factor(X_train[coli].values, i) for i in range(X_train[coli].shape[1])]\n",
    "vif['VIF'] = round(vif['VIF'], 2)\n",
    "vif = vif.sort_values(by = \"VIF\", ascending = False)\n",
    "vif"
   ]
  },
  {
   "cell_type": "code",
   "execution_count": 152,
   "metadata": {},
   "outputs": [],
   "source": [
    "colj =['arpu_7',\n",
    " 'onnet_mou_8',\n",
    " 'loc_og_t2m_mou_7',\n",
    " 'std_og_t2m_mou_8',\n",
    " 'loc_ic_mou_8',\n",
    " 'spl_ic_mou_8',\n",
    " 'total_rech_num_8',\n",
    " 'last_day_rch_amt_8',\n",
    " 'vol_2g_mb_8',\n",
    " 'vol_3g_mb_8',\n",
    " 'aon']"
   ]
  },
  {
   "cell_type": "code",
   "execution_count": 153,
   "metadata": {
    "scrolled": false
   },
   "outputs": [
    {
     "data": {
      "text/html": [
       "<table class=\"simpletable\">\n",
       "<caption>Generalized Linear Model Regression Results</caption>\n",
       "<tr>\n",
       "  <th>Dep. Variable:</th>         <td>Churn</td>      <th>  No. Observations:  </th>  <td> 19507</td> \n",
       "</tr>\n",
       "<tr>\n",
       "  <th>Model:</th>                  <td>GLM</td>       <th>  Df Residuals:      </th>  <td> 19495</td> \n",
       "</tr>\n",
       "<tr>\n",
       "  <th>Model Family:</th>        <td>Binomial</td>     <th>  Df Model:          </th>  <td>    11</td> \n",
       "</tr>\n",
       "<tr>\n",
       "  <th>Link Function:</th>         <td>logit</td>      <th>  Scale:             </th> <td>  1.0000</td>\n",
       "</tr>\n",
       "<tr>\n",
       "  <th>Method:</th>                <td>IRLS</td>       <th>  Log-Likelihood:    </th> <td> -4100.4</td>\n",
       "</tr>\n",
       "<tr>\n",
       "  <th>Date:</th>            <td>Sun, 05 Jul 2020</td> <th>  Deviance:          </th> <td>  8200.8</td>\n",
       "</tr>\n",
       "<tr>\n",
       "  <th>Time:</th>                <td>12:21:35</td>     <th>  Pearson chi2:      </th> <td>4.95e+05</td>\n",
       "</tr>\n",
       "<tr>\n",
       "  <th>No. Iterations:</th>          <td>8</td>        <th>                     </th>     <td> </td>   \n",
       "</tr>\n",
       "<tr>\n",
       "  <th>Covariance Type:</th>     <td>nonrobust</td>    <th>                     </th>     <td> </td>   \n",
       "</tr>\n",
       "</table>\n",
       "<table class=\"simpletable\">\n",
       "<tr>\n",
       "           <td></td>             <th>coef</th>     <th>std err</th>      <th>z</th>      <th>P>|z|</th>  <th>[0.025</th>    <th>0.975]</th>  \n",
       "</tr>\n",
       "<tr>\n",
       "  <th>const</th>              <td>   -3.7024</td> <td>    0.060</td> <td>  -61.655</td> <td> 0.000</td> <td>   -3.820</td> <td>   -3.585</td>\n",
       "</tr>\n",
       "<tr>\n",
       "  <th>arpu_7</th>             <td>    0.3439</td> <td>    0.031</td> <td>   11.028</td> <td> 0.000</td> <td>    0.283</td> <td>    0.405</td>\n",
       "</tr>\n",
       "<tr>\n",
       "  <th>onnet_mou_8</th>        <td>   -0.2692</td> <td>    0.042</td> <td>   -6.354</td> <td> 0.000</td> <td>   -0.352</td> <td>   -0.186</td>\n",
       "</tr>\n",
       "<tr>\n",
       "  <th>loc_og_t2m_mou_7</th>   <td>   -0.3362</td> <td>    0.046</td> <td>   -7.310</td> <td> 0.000</td> <td>   -0.426</td> <td>   -0.246</td>\n",
       "</tr>\n",
       "<tr>\n",
       "  <th>std_og_t2m_mou_8</th>   <td>   -0.4090</td> <td>    0.048</td> <td>   -8.486</td> <td> 0.000</td> <td>   -0.503</td> <td>   -0.315</td>\n",
       "</tr>\n",
       "<tr>\n",
       "  <th>loc_ic_mou_8</th>       <td>   -0.7173</td> <td>    0.064</td> <td>  -11.225</td> <td> 0.000</td> <td>   -0.843</td> <td>   -0.592</td>\n",
       "</tr>\n",
       "<tr>\n",
       "  <th>spl_ic_mou_8</th>       <td>   -0.5964</td> <td>    0.086</td> <td>   -6.973</td> <td> 0.000</td> <td>   -0.764</td> <td>   -0.429</td>\n",
       "</tr>\n",
       "<tr>\n",
       "  <th>total_rech_num_8</th>   <td>   -0.8811</td> <td>    0.050</td> <td>  -17.452</td> <td> 0.000</td> <td>   -0.980</td> <td>   -0.782</td>\n",
       "</tr>\n",
       "<tr>\n",
       "  <th>last_day_rch_amt_8</th> <td>   -1.1004</td> <td>    0.056</td> <td>  -19.718</td> <td> 0.000</td> <td>   -1.210</td> <td>   -0.991</td>\n",
       "</tr>\n",
       "<tr>\n",
       "  <th>vol_2g_mb_8</th>        <td>   -0.4406</td> <td>    0.067</td> <td>   -6.547</td> <td> 0.000</td> <td>   -0.572</td> <td>   -0.309</td>\n",
       "</tr>\n",
       "<tr>\n",
       "  <th>vol_3g_mb_8</th>        <td>   -0.7256</td> <td>    0.076</td> <td>   -9.526</td> <td> 0.000</td> <td>   -0.875</td> <td>   -0.576</td>\n",
       "</tr>\n",
       "<tr>\n",
       "  <th>aon</th>                <td>   -0.4530</td> <td>    0.038</td> <td>  -11.964</td> <td> 0.000</td> <td>   -0.527</td> <td>   -0.379</td>\n",
       "</tr>\n",
       "</table>"
      ],
      "text/plain": [
       "<class 'statsmodels.iolib.summary.Summary'>\n",
       "\"\"\"\n",
       "                 Generalized Linear Model Regression Results                  \n",
       "==============================================================================\n",
       "Dep. Variable:                  Churn   No. Observations:                19507\n",
       "Model:                            GLM   Df Residuals:                    19495\n",
       "Model Family:                Binomial   Df Model:                           11\n",
       "Link Function:                  logit   Scale:                          1.0000\n",
       "Method:                          IRLS   Log-Likelihood:                -4100.4\n",
       "Date:                Sun, 05 Jul 2020   Deviance:                       8200.8\n",
       "Time:                        12:21:35   Pearson chi2:                 4.95e+05\n",
       "No. Iterations:                     8                                         \n",
       "Covariance Type:            nonrobust                                         \n",
       "======================================================================================\n",
       "                         coef    std err          z      P>|z|      [0.025      0.975]\n",
       "--------------------------------------------------------------------------------------\n",
       "const                 -3.7024      0.060    -61.655      0.000      -3.820      -3.585\n",
       "arpu_7                 0.3439      0.031     11.028      0.000       0.283       0.405\n",
       "onnet_mou_8           -0.2692      0.042     -6.354      0.000      -0.352      -0.186\n",
       "loc_og_t2m_mou_7      -0.3362      0.046     -7.310      0.000      -0.426      -0.246\n",
       "std_og_t2m_mou_8      -0.4090      0.048     -8.486      0.000      -0.503      -0.315\n",
       "loc_ic_mou_8          -0.7173      0.064    -11.225      0.000      -0.843      -0.592\n",
       "spl_ic_mou_8          -0.5964      0.086     -6.973      0.000      -0.764      -0.429\n",
       "total_rech_num_8      -0.8811      0.050    -17.452      0.000      -0.980      -0.782\n",
       "last_day_rch_amt_8    -1.1004      0.056    -19.718      0.000      -1.210      -0.991\n",
       "vol_2g_mb_8           -0.4406      0.067     -6.547      0.000      -0.572      -0.309\n",
       "vol_3g_mb_8           -0.7256      0.076     -9.526      0.000      -0.875      -0.576\n",
       "aon                   -0.4530      0.038    -11.964      0.000      -0.527      -0.379\n",
       "======================================================================================\n",
       "\"\"\""
      ]
     },
     "execution_count": 153,
     "metadata": {},
     "output_type": "execute_result"
    }
   ],
   "source": [
    "#Assesing model with statsmodel after dropping 1 columns with high VIF = 4.25 value and One p value >0.05\n",
    "X_train_sm= sm.add_constant(X_train[colj])\n",
    "logm7 = sm.GLM(y_train,X_train_sm,family=sm.families.Binomial())\n",
    "res=logm7.fit()\n",
    "res.summary()"
   ]
  },
  {
   "cell_type": "code",
   "execution_count": 154,
   "metadata": {
    "scrolled": true
   },
   "outputs": [
    {
     "data": {
      "text/html": [
       "<div>\n",
       "<style scoped>\n",
       "    .dataframe tbody tr th:only-of-type {\n",
       "        vertical-align: middle;\n",
       "    }\n",
       "\n",
       "    .dataframe tbody tr th {\n",
       "        vertical-align: top;\n",
       "    }\n",
       "\n",
       "    .dataframe thead th {\n",
       "        text-align: right;\n",
       "    }\n",
       "</style>\n",
       "<table border=\"1\" class=\"dataframe\">\n",
       "  <thead>\n",
       "    <tr style=\"text-align: right;\">\n",
       "      <th></th>\n",
       "      <th>Features</th>\n",
       "      <th>VIF</th>\n",
       "    </tr>\n",
       "  </thead>\n",
       "  <tbody>\n",
       "    <tr>\n",
       "      <td>2</td>\n",
       "      <td>loc_og_t2m_mou_7</td>\n",
       "      <td>1.46</td>\n",
       "    </tr>\n",
       "    <tr>\n",
       "      <td>4</td>\n",
       "      <td>loc_ic_mou_8</td>\n",
       "      <td>1.38</td>\n",
       "    </tr>\n",
       "    <tr>\n",
       "      <td>0</td>\n",
       "      <td>arpu_7</td>\n",
       "      <td>1.33</td>\n",
       "    </tr>\n",
       "    <tr>\n",
       "      <td>6</td>\n",
       "      <td>total_rech_num_8</td>\n",
       "      <td>1.29</td>\n",
       "    </tr>\n",
       "    <tr>\n",
       "      <td>3</td>\n",
       "      <td>std_og_t2m_mou_8</td>\n",
       "      <td>1.18</td>\n",
       "    </tr>\n",
       "    <tr>\n",
       "      <td>7</td>\n",
       "      <td>last_day_rch_amt_8</td>\n",
       "      <td>1.18</td>\n",
       "    </tr>\n",
       "    <tr>\n",
       "      <td>1</td>\n",
       "      <td>onnet_mou_8</td>\n",
       "      <td>1.16</td>\n",
       "    </tr>\n",
       "    <tr>\n",
       "      <td>10</td>\n",
       "      <td>aon</td>\n",
       "      <td>1.14</td>\n",
       "    </tr>\n",
       "    <tr>\n",
       "      <td>9</td>\n",
       "      <td>vol_3g_mb_8</td>\n",
       "      <td>1.09</td>\n",
       "    </tr>\n",
       "    <tr>\n",
       "      <td>5</td>\n",
       "      <td>spl_ic_mou_8</td>\n",
       "      <td>1.03</td>\n",
       "    </tr>\n",
       "    <tr>\n",
       "      <td>8</td>\n",
       "      <td>vol_2g_mb_8</td>\n",
       "      <td>1.03</td>\n",
       "    </tr>\n",
       "  </tbody>\n",
       "</table>\n",
       "</div>"
      ],
      "text/plain": [
       "              Features   VIF\n",
       "2     loc_og_t2m_mou_7  1.46\n",
       "4         loc_ic_mou_8  1.38\n",
       "0               arpu_7  1.33\n",
       "6     total_rech_num_8  1.29\n",
       "3     std_og_t2m_mou_8  1.18\n",
       "7   last_day_rch_amt_8  1.18\n",
       "1          onnet_mou_8  1.16\n",
       "10                 aon  1.14\n",
       "9          vol_3g_mb_8  1.09\n",
       "5         spl_ic_mou_8  1.03\n",
       "8          vol_2g_mb_8  1.03"
      ]
     },
     "execution_count": 154,
     "metadata": {},
     "output_type": "execute_result"
    }
   ],
   "source": [
    "# Create a dataframe that will contain the names of all the feature variables and their respective VIFs\n",
    "vif = pd.DataFrame()\n",
    "vif['Features'] = X_train[colj].columns\n",
    "vif['VIF'] = [variance_inflation_factor(X_train[colj].values, i) for i in range(X_train[colj].shape[1])]\n",
    "vif['VIF'] = round(vif['VIF'], 2)\n",
    "vif = vif.sort_values(by = \"VIF\", ascending = False)\n",
    "vif"
   ]
  },
  {
   "cell_type": "code",
   "execution_count": 155,
   "metadata": {},
   "outputs": [
    {
     "data": {
      "text/plain": [
       "array([0.31748597, 0.02124264, 0.00453898, 0.01331307, 0.01025757,\n",
       "       0.01461156, 0.00979905, 0.06422327, 0.06588393, 0.18718877,\n",
       "       0.0075791 ])"
      ]
     },
     "execution_count": 155,
     "metadata": {},
     "output_type": "execute_result"
    }
   ],
   "source": [
    "#getting predicted value on train set\n",
    "y_train_pred = res.predict(X_train_sm)\n",
    "y_train_pred = y_train_pred.values.reshape(-1)\n",
    "y_train_pred[:11]"
   ]
  },
  {
   "cell_type": "code",
   "execution_count": 156,
   "metadata": {
    "scrolled": true
   },
   "outputs": [
    {
     "data": {
      "text/html": [
       "<div>\n",
       "<style scoped>\n",
       "    .dataframe tbody tr th:only-of-type {\n",
       "        vertical-align: middle;\n",
       "    }\n",
       "\n",
       "    .dataframe tbody tr th {\n",
       "        vertical-align: top;\n",
       "    }\n",
       "\n",
       "    .dataframe thead th {\n",
       "        text-align: right;\n",
       "    }\n",
       "</style>\n",
       "<table border=\"1\" class=\"dataframe\">\n",
       "  <thead>\n",
       "    <tr style=\"text-align: right;\">\n",
       "      <th></th>\n",
       "      <th>Churned</th>\n",
       "      <th>Churned_Prob</th>\n",
       "      <th>CustID</th>\n",
       "      <th>predicted</th>\n",
       "    </tr>\n",
       "  </thead>\n",
       "  <tbody>\n",
       "    <tr>\n",
       "      <td>0</td>\n",
       "      <td>1</td>\n",
       "      <td>0.372250</td>\n",
       "      <td>93427</td>\n",
       "      <td>1</td>\n",
       "    </tr>\n",
       "    <tr>\n",
       "      <td>1</td>\n",
       "      <td>0</td>\n",
       "      <td>0.019476</td>\n",
       "      <td>8407</td>\n",
       "      <td>0</td>\n",
       "    </tr>\n",
       "    <tr>\n",
       "      <td>2</td>\n",
       "      <td>0</td>\n",
       "      <td>0.003005</td>\n",
       "      <td>51706</td>\n",
       "      <td>0</td>\n",
       "    </tr>\n",
       "    <tr>\n",
       "      <td>3</td>\n",
       "      <td>0</td>\n",
       "      <td>0.015162</td>\n",
       "      <td>47088</td>\n",
       "      <td>0</td>\n",
       "    </tr>\n",
       "    <tr>\n",
       "      <td>4</td>\n",
       "      <td>0</td>\n",
       "      <td>0.006391</td>\n",
       "      <td>92996</td>\n",
       "      <td>0</td>\n",
       "    </tr>\n",
       "  </tbody>\n",
       "</table>\n",
       "</div>"
      ],
      "text/plain": [
       "   Churned  Churned_Prob  CustID  predicted\n",
       "0        1      0.372250   93427          1\n",
       "1        0      0.019476    8407          0\n",
       "2        0      0.003005   51706          0\n",
       "3        0      0.015162   47088          0\n",
       "4        0      0.006391   92996          0"
      ]
     },
     "execution_count": 156,
     "metadata": {},
     "output_type": "execute_result"
    }
   ],
   "source": [
    "y_train_pred_final.head()"
   ]
  },
  {
   "cell_type": "code",
   "execution_count": 157,
   "metadata": {},
   "outputs": [
    {
     "data": {
      "text/plain": [
       "array([[14096,  3698],\n",
       "       [  312,  1401]], dtype=int64)"
      ]
     },
     "execution_count": 157,
     "metadata": {},
     "output_type": "execute_result"
    }
   ],
   "source": [
    "confusion_matrix(y_train_pred_final.Churned,y_train_pred_final.predicted)"
   ]
  },
  {
   "cell_type": "code",
   "execution_count": 158,
   "metadata": {},
   "outputs": [
    {
     "name": "stdout",
     "output_type": "stream",
     "text": [
      "              precision    recall  f1-score   support\n",
      "\n",
      "           0       0.98      0.79      0.88     17794\n",
      "           1       0.27      0.82      0.41      1713\n",
      "\n",
      "    accuracy                           0.79     19507\n",
      "   macro avg       0.63      0.81      0.64     19507\n",
      "weighted avg       0.92      0.79      0.83     19507\n",
      "\n"
     ]
    }
   ],
   "source": [
    "print(classification_report(y_train_pred_final.Churned,y_train_pred_final.predicted))"
   ]
  },
  {
   "cell_type": "code",
   "execution_count": 159,
   "metadata": {},
   "outputs": [],
   "source": [
    "# Fixing the threshold probability for best sensitivity and specificity\n",
    "from sklearn.metrics import roc_curve,roc_auc_score"
   ]
  },
  {
   "cell_type": "code",
   "execution_count": 160,
   "metadata": {},
   "outputs": [],
   "source": [
    "def draw_roc( actual, probs ):\n",
    "    fpr, tpr, thresholds = roc_curve( actual, probs,\n",
    "                                              drop_intermediate = False )\n",
    "    auc_score = roc_auc_score( actual, probs )\n",
    "    plt.figure(figsize=(5, 5))\n",
    "    plt.plot( fpr, tpr, label='ROC curve (area = %0.2f)' % auc_score )\n",
    "    plt.plot([0, 1], [0, 1], 'k--')\n",
    "    plt.xlim([0.0, 1.0])\n",
    "    plt.ylim([0.0, 1.05])\n",
    "    plt.xlabel('False Positive Rate or [1 - True Negative Rate]')\n",
    "    plt.ylabel('True Positive Rate')\n",
    "    plt.title('Receiver operating characteristic example')\n",
    "    plt.legend(loc=\"lower right\")\n",
    "    plt.show()\n",
    "\n",
    "    return None"
   ]
  },
  {
   "cell_type": "code",
   "execution_count": 161,
   "metadata": {},
   "outputs": [],
   "source": [
    "fpr, tpr, thresholds = roc_curve( y_train_pred_final.Churned, y_train_pred_final.Churned_Prob,\n",
    "                                 drop_intermediate = False )"
   ]
  },
  {
   "cell_type": "code",
   "execution_count": 162,
   "metadata": {},
   "outputs": [
    {
     "data": {
      "image/png": "[encoded data removed]",
      "text/plain": [
       "<Figure size 360x360 with 1 Axes>"
      ]
     },
     "metadata": {
      "needs_background": "light"
     },
     "output_type": "display_data"
    }
   ],
   "source": [
    "draw_roc(y_train_pred_final.Churned, y_train_pred_final.Churned_Prob)"
   ]
  },
  {
   "cell_type": "code",
   "execution_count": 163,
   "metadata": {},
   "outputs": [
    {
     "data": {
      "text/html": [
       "<div>\n",
       "<style scoped>\n",
       "    .dataframe tbody tr th:only-of-type {\n",
       "        vertical-align: middle;\n",
       "    }\n",
       "\n",
       "    .dataframe tbody tr th {\n",
       "        vertical-align: top;\n",
       "    }\n",
       "\n",
       "    .dataframe thead th {\n",
       "        text-align: right;\n",
       "    }\n",
       "</style>\n",
       "<table border=\"1\" class=\"dataframe\">\n",
       "  <thead>\n",
       "    <tr style=\"text-align: right;\">\n",
       "      <th></th>\n",
       "      <th>Churned</th>\n",
       "      <th>Churned_Prob</th>\n",
       "      <th>CustID</th>\n",
       "      <th>predicted</th>\n",
       "      <th>0.0</th>\n",
       "      <th>0.1</th>\n",
       "      <th>0.2</th>\n",
       "      <th>0.3</th>\n",
       "      <th>0.4</th>\n",
       "      <th>0.5</th>\n",
       "      <th>0.6</th>\n",
       "      <th>0.7</th>\n",
       "      <th>0.8</th>\n",
       "      <th>0.9</th>\n",
       "    </tr>\n",
       "  </thead>\n",
       "  <tbody>\n",
       "    <tr>\n",
       "      <td>0</td>\n",
       "      <td>1</td>\n",
       "      <td>0.372250</td>\n",
       "      <td>93427</td>\n",
       "      <td>1</td>\n",
       "      <td>1</td>\n",
       "      <td>1</td>\n",
       "      <td>1</td>\n",
       "      <td>1</td>\n",
       "      <td>0</td>\n",
       "      <td>0</td>\n",
       "      <td>0</td>\n",
       "      <td>0</td>\n",
       "      <td>0</td>\n",
       "      <td>0</td>\n",
       "    </tr>\n",
       "    <tr>\n",
       "      <td>1</td>\n",
       "      <td>0</td>\n",
       "      <td>0.019476</td>\n",
       "      <td>8407</td>\n",
       "      <td>0</td>\n",
       "      <td>1</td>\n",
       "      <td>0</td>\n",
       "      <td>0</td>\n",
       "      <td>0</td>\n",
       "      <td>0</td>\n",
       "      <td>0</td>\n",
       "      <td>0</td>\n",
       "      <td>0</td>\n",
       "      <td>0</td>\n",
       "      <td>0</td>\n",
       "    </tr>\n",
       "    <tr>\n",
       "      <td>2</td>\n",
       "      <td>0</td>\n",
       "      <td>0.003005</td>\n",
       "      <td>51706</td>\n",
       "      <td>0</td>\n",
       "      <td>1</td>\n",
       "      <td>0</td>\n",
       "      <td>0</td>\n",
       "      <td>0</td>\n",
       "      <td>0</td>\n",
       "      <td>0</td>\n",
       "      <td>0</td>\n",
       "      <td>0</td>\n",
       "      <td>0</td>\n",
       "      <td>0</td>\n",
       "    </tr>\n",
       "    <tr>\n",
       "      <td>3</td>\n",
       "      <td>0</td>\n",
       "      <td>0.015162</td>\n",
       "      <td>47088</td>\n",
       "      <td>0</td>\n",
       "      <td>1</td>\n",
       "      <td>0</td>\n",
       "      <td>0</td>\n",
       "      <td>0</td>\n",
       "      <td>0</td>\n",
       "      <td>0</td>\n",
       "      <td>0</td>\n",
       "      <td>0</td>\n",
       "      <td>0</td>\n",
       "      <td>0</td>\n",
       "    </tr>\n",
       "    <tr>\n",
       "      <td>4</td>\n",
       "      <td>0</td>\n",
       "      <td>0.006391</td>\n",
       "      <td>92996</td>\n",
       "      <td>0</td>\n",
       "      <td>1</td>\n",
       "      <td>0</td>\n",
       "      <td>0</td>\n",
       "      <td>0</td>\n",
       "      <td>0</td>\n",
       "      <td>0</td>\n",
       "      <td>0</td>\n",
       "      <td>0</td>\n",
       "      <td>0</td>\n",
       "      <td>0</td>\n",
       "    </tr>\n",
       "  </tbody>\n",
       "</table>\n",
       "</div>"
      ],
      "text/plain": [
       "   Churned  Churned_Prob  CustID  predicted  0.0  0.1  0.2  0.3  0.4  0.5  \\\n",
       "0        1      0.372250   93427          1    1    1    1    1    0    0   \n",
       "1        0      0.019476    8407          0    1    0    0    0    0    0   \n",
       "2        0      0.003005   51706          0    1    0    0    0    0    0   \n",
       "3        0      0.015162   47088          0    1    0    0    0    0    0   \n",
       "4        0      0.006391   92996          0    1    0    0    0    0    0   \n",
       "\n",
       "   0.6  0.7  0.8  0.9  \n",
       "0    0    0    0    0  \n",
       "1    0    0    0    0  \n",
       "2    0    0    0    0  \n",
       "3    0    0    0    0  \n",
       "4    0    0    0    0  "
      ]
     },
     "execution_count": 163,
     "metadata": {},
     "output_type": "execute_result"
    }
   ],
   "source": [
    "# Let's create columns with different probability cutoffs \n",
    "numbers = [float(x)/10 for x in range(10)]\n",
    "for i in numbers:\n",
    "    y_train_pred_final[i]= y_train_pred_final.Churned_Prob.map(lambda x: 1 if x > i else 0)\n",
    "y_train_pred_final.head()"
   ]
  },
  {
   "cell_type": "code",
   "execution_count": 164,
   "metadata": {},
   "outputs": [
    {
     "name": "stdout",
     "output_type": "stream",
     "text": [
      "     prob  accuracy     sensi     speci\n",
      "0.0   0.0  0.087815  1.000000  0.000000\n",
      "0.1   0.1  0.809504  0.803269  0.810105\n",
      "0.2   0.2  0.887220  0.683012  0.906879\n",
      "0.3   0.3  0.913569  0.577350  0.945937\n",
      "0.4   0.4  0.919414  0.386457  0.970720\n",
      "0.5   0.5  0.917158  0.189142  0.987243\n",
      "0.6   0.6  0.913057  0.048453  0.996291\n",
      "0.7   0.7  0.912390  0.010508  0.999213\n",
      "0.8   0.8  0.912185  0.001751  0.999831\n",
      "0.9   0.9  0.912185  0.000000  1.000000\n"
     ]
    }
   ],
   "source": [
    "# Now let's calculate accuracy sensitivity and specificity for various probability cutoffs.\n",
    "cutoff_df = pd.DataFrame( columns = ['prob','accuracy','sensi','speci'])\n",
    "from sklearn.metrics import confusion_matrix\n",
    "\n",
    "# TP = confusion[1,1] # true positive \n",
    "# TN = confusion[0,0] # true negatives\n",
    "# FP = confusion[0,1] # false positives\n",
    "# FN = confusion[1,0] # false negatives\n",
    "\n",
    "num = [0.0,0.1,0.2,0.3,0.4,0.5,0.6,0.7,0.8,0.9]\n",
    "for i in num:\n",
    "    cm1 = confusion_matrix(y_train_pred_final.Churned, y_train_pred_final[i] )\n",
    "    total1=sum(sum(cm1))\n",
    "    accuracy = (cm1[0,0]+cm1[1,1])/total1\n",
    "    \n",
    "    speci = cm1[0,0]/(cm1[0,0]+cm1[0,1])\n",
    "    sensi = cm1[1,1]/(cm1[1,0]+cm1[1,1])\n",
    "    cutoff_df.loc[i] =[ i ,accuracy,sensi,speci]\n",
    "print(cutoff_df)"
   ]
  },
  {
   "cell_type": "code",
   "execution_count": 165,
   "metadata": {},
   "outputs": [
    {
     "data": {
      "image/png": "[encoded data removed]",
      "text/plain": [
       "<Figure size 432x288 with 1 Axes>"
      ]
     },
     "metadata": {
      "needs_background": "light"
     },
     "output_type": "display_data"
    }
   ],
   "source": [
    "# Let's plot accuracy sensitivity and specificity for various probabilities\n",
    "#Zero in at the cutoff probability of 0.09 for 80% sensitivity and specificity\n",
    "cutoff_df.plot.line(x='prob', y=['accuracy','sensi','speci'])\n",
    "plt.show()"
   ]
  },
  {
   "cell_type": "code",
   "execution_count": 166,
   "metadata": {},
   "outputs": [],
   "source": [
    "dfc = pd.read_html(res.summary().tables[1].as_html(),header=0,index_col=0)[0]"
   ]
  },
  {
   "cell_type": "code",
   "execution_count": 167,
   "metadata": {},
   "outputs": [],
   "source": [
    "Model = dfc[\"coef\"]"
   ]
  },
  {
   "cell_type": "code",
   "execution_count": 168,
   "metadata": {},
   "outputs": [
    {
     "data": {
      "text/plain": [
       "arpu_7                0.3439\n",
       "onnet_mou_8          -0.2692\n",
       "loc_og_t2m_mou_7     -0.3362\n",
       "std_og_t2m_mou_8     -0.4090\n",
       "vol_2g_mb_8          -0.4406\n",
       "aon                  -0.4530\n",
       "spl_ic_mou_8         -0.5964\n",
       "loc_ic_mou_8         -0.7173\n",
       "vol_3g_mb_8          -0.7256\n",
       "total_rech_num_8     -0.8811\n",
       "last_day_rch_amt_8   -1.1004\n",
       "const                -3.7024\n",
       "Name: coef, dtype: float64"
      ]
     },
     "execution_count": 168,
     "metadata": {},
     "output_type": "execute_result"
    }
   ],
   "source": [
    "Model.sort_values(ascending=False) ##Final Model with coefficient"
   ]
  },
  {
   "cell_type": "code",
   "execution_count": 169,
   "metadata": {},
   "outputs": [],
   "source": [
    "colt = X_train[colj].columns"
   ]
  },
  {
   "cell_type": "code",
   "execution_count": 170,
   "metadata": {},
   "outputs": [],
   "source": [
    "X_test = X_test[colt] # selecting final columns for prediction"
   ]
  },
  {
   "cell_type": "code",
   "execution_count": 171,
   "metadata": {},
   "outputs": [],
   "source": [
    "# Assesing model on test set\n",
    "X_test_sm= sm.add_constant(X_test)"
   ]
  },
  {
   "cell_type": "code",
   "execution_count": 172,
   "metadata": {},
   "outputs": [
    {
     "data": {
      "text/plain": [
       "array([0.03943885, 0.00084414, 0.09344668, 0.18164992, 0.08595974,\n",
       "       0.00824697, 0.00186949, 0.00161101, 0.00165389, 0.20035883,\n",
       "       0.02383092])"
      ]
     },
     "execution_count": 172,
     "metadata": {},
     "output_type": "execute_result"
    }
   ],
   "source": [
    "#getting predicted value on train set\n",
    "y_test_pred = res.predict(X_test_sm)\n",
    "y_test_pred = y_test_pred.values.reshape(-1)\n",
    "y_test_pred[:11]"
   ]
  },
  {
   "cell_type": "code",
   "execution_count": 173,
   "metadata": {},
   "outputs": [],
   "source": [
    "y_test_pred_final = pd.DataFrame({\"Churned\":y_test.values,\"Churned_Prob\":y_test_pred})\n",
    "y_test_pred_final[\"CustID\"]=y_test.index\n",
    "y_test_pred_final[\"predicted\"] = y_test_pred_final[\"Churned_Prob\"].map(lambda x: 1 if x > 0.09 else 0)"
   ]
  },
  {
   "cell_type": "code",
   "execution_count": 174,
   "metadata": {},
   "outputs": [
    {
     "data": {
      "text/html": [
       "<div>\n",
       "<style scoped>\n",
       "    .dataframe tbody tr th:only-of-type {\n",
       "        vertical-align: middle;\n",
       "    }\n",
       "\n",
       "    .dataframe tbody tr th {\n",
       "        vertical-align: top;\n",
       "    }\n",
       "\n",
       "    .dataframe thead th {\n",
       "        text-align: right;\n",
       "    }\n",
       "</style>\n",
       "<table border=\"1\" class=\"dataframe\">\n",
       "  <thead>\n",
       "    <tr style=\"text-align: right;\">\n",
       "      <th></th>\n",
       "      <th>Churned</th>\n",
       "      <th>Churned_Prob</th>\n",
       "      <th>CustID</th>\n",
       "      <th>predicted</th>\n",
       "    </tr>\n",
       "  </thead>\n",
       "  <tbody>\n",
       "    <tr>\n",
       "      <td>0</td>\n",
       "      <td>0</td>\n",
       "      <td>0.039439</td>\n",
       "      <td>15306</td>\n",
       "      <td>0</td>\n",
       "    </tr>\n",
       "    <tr>\n",
       "      <td>1</td>\n",
       "      <td>0</td>\n",
       "      <td>0.000844</td>\n",
       "      <td>37949</td>\n",
       "      <td>0</td>\n",
       "    </tr>\n",
       "    <tr>\n",
       "      <td>2</td>\n",
       "      <td>0</td>\n",
       "      <td>0.093447</td>\n",
       "      <td>26657</td>\n",
       "      <td>1</td>\n",
       "    </tr>\n",
       "    <tr>\n",
       "      <td>3</td>\n",
       "      <td>0</td>\n",
       "      <td>0.181650</td>\n",
       "      <td>21558</td>\n",
       "      <td>1</td>\n",
       "    </tr>\n",
       "    <tr>\n",
       "      <td>4</td>\n",
       "      <td>0</td>\n",
       "      <td>0.085960</td>\n",
       "      <td>30852</td>\n",
       "      <td>0</td>\n",
       "    </tr>\n",
       "  </tbody>\n",
       "</table>\n",
       "</div>"
      ],
      "text/plain": [
       "   Churned  Churned_Prob  CustID  predicted\n",
       "0        0      0.039439   15306          0\n",
       "1        0      0.000844   37949          0\n",
       "2        0      0.093447   26657          1\n",
       "3        0      0.181650   21558          1\n",
       "4        0      0.085960   30852          0"
      ]
     },
     "execution_count": 174,
     "metadata": {},
     "output_type": "execute_result"
    }
   ],
   "source": [
    "y_test_pred_final.head()"
   ]
  },
  {
   "cell_type": "code",
   "execution_count": 175,
   "metadata": {},
   "outputs": [
    {
     "data": {
      "text/plain": [
       "array([[7543, 2081],\n",
       "       [ 175,  705]], dtype=int64)"
      ]
     },
     "execution_count": 175,
     "metadata": {},
     "output_type": "execute_result"
    }
   ],
   "source": [
    "confusion_matrix(y_test_pred_final.Churned,y_test_pred_final.predicted) #Prediction on Test data"
   ]
  },
  {
   "cell_type": "code",
   "execution_count": 176,
   "metadata": {},
   "outputs": [
    {
     "name": "stdout",
     "output_type": "stream",
     "text": [
      "              precision    recall  f1-score   support\n",
      "\n",
      "           0       0.98      0.78      0.87      9624\n",
      "           1       0.25      0.80      0.38       880\n",
      "\n",
      "    accuracy                           0.79     10504\n",
      "   macro avg       0.62      0.79      0.63     10504\n",
      "weighted avg       0.92      0.79      0.83     10504\n",
      "\n"
     ]
    }
   ],
   "source": [
    "print(classification_report(y_test_pred_final.Churned,y_test_pred_final.predicted)) # Sensitivity and Specificity on test"
   ]
  },
  {
   "cell_type": "code",
   "execution_count": 179,
   "metadata": {},
   "outputs": [
    {
     "data": {
      "text/plain": [
       "arpu_7                0.3439\n",
       "onnet_mou_8          -0.2692\n",
       "loc_og_t2m_mou_7     -0.3362\n",
       "std_og_t2m_mou_8     -0.4090\n",
       "vol_2g_mb_8          -0.4406\n",
       "aon                  -0.4530\n",
       "spl_ic_mou_8         -0.5964\n",
       "loc_ic_mou_8         -0.7173\n",
       "vol_3g_mb_8          -0.7256\n",
       "total_rech_num_8     -0.8811\n",
       "last_day_rch_amt_8   -1.1004\n",
       "const                -3.7024\n",
       "Name: coef, dtype: float64"
      ]
     },
     "execution_count": 179,
     "metadata": {},
     "output_type": "execute_result"
    }
   ],
   "source": [
    "Model.sort_values(ascending=False) ##Final Model with 11 interpretable features and co efficients"
   ]
  },
  {
   "cell_type": "markdown",
   "metadata": {},
   "source": [
    "# PCA based Models -- For Predictability"
   ]
  },
  {
   "cell_type": "code",
   "execution_count": 188,
   "metadata": {},
   "outputs": [],
   "source": [
    "sns.set()"
   ]
  },
  {
   "cell_type": "code",
   "execution_count": 339,
   "metadata": {},
   "outputs": [],
   "source": [
    "y = df_sel_1[\"Churn\"]\n",
    "X = df_sel_1.drop([\"Churn\"],axis=1)"
   ]
  },
  {
   "cell_type": "code",
   "execution_count": 340,
   "metadata": {},
   "outputs": [
    {
     "name": "stdout",
     "output_type": "stream",
     "text": [
      "(30011, 136) (30011,)\n"
     ]
    }
   ],
   "source": [
    "print(X.shape,y.shape)"
   ]
  },
  {
   "cell_type": "code",
   "execution_count": 341,
   "metadata": {},
   "outputs": [],
   "source": [
    "from sklearn.decomposition import PCA"
   ]
  },
  {
   "cell_type": "code",
   "execution_count": 342,
   "metadata": {},
   "outputs": [],
   "source": [
    "pca = PCA().fit(X)"
   ]
  },
  {
   "cell_type": "code",
   "execution_count": 343,
   "metadata": {},
   "outputs": [
    {
     "data": {
      "text/plain": [
       "Text(0, 0.5, 'Cumulative Explained Variance')"
      ]
     },
     "execution_count": 343,
     "metadata": {},
     "output_type": "execute_result"
    },
    {
     "data": {
      "image/png": "[encoded data removed]",
      "text/plain": [
       "<Figure size 432x288 with 1 Axes>"
      ]
     },
     "metadata": {},
     "output_type": "display_data"
    }
   ],
   "source": [
    "plt.plot(np.cumsum(pca.explained_variance_ratio_))# We Keep 20 Components to explain more than 90% variance\n",
    "plt.xlabel(\"No of Components\")\n",
    "plt.ylabel(\"Cumulative Explained Variance\")"
   ]
  },
  {
   "cell_type": "code",
   "execution_count": 344,
   "metadata": {},
   "outputs": [],
   "source": [
    "pca20 = PCA(n_components=20)"
   ]
  },
  {
   "cell_type": "code",
   "execution_count": 345,
   "metadata": {},
   "outputs": [],
   "source": [
    "Xp = pca.fit_transform(X)"
   ]
  },
  {
   "cell_type": "code",
   "execution_count": 346,
   "metadata": {},
   "outputs": [],
   "source": [
    "from sklearn.model_selection import train_test_split"
   ]
  },
  {
   "cell_type": "code",
   "execution_count": 347,
   "metadata": {},
   "outputs": [],
   "source": [
    " X_train, X_test, y_train, y_test = train_test_split(Xp, y, test_size=0.33, random_state=42)"
   ]
  },
  {
   "cell_type": "code",
   "execution_count": 348,
   "metadata": {},
   "outputs": [],
   "source": [
    "from sklearn.preprocessing import StandardScaler"
   ]
  },
  {
   "cell_type": "code",
   "execution_count": null,
   "metadata": {},
   "outputs": [],
   "source": [
    "#Scaling before PCA is increasing the no of components needed to explain variance to 80 and\n",
    "#Scaling after PCA is reducing overll accuray at cost of increase in sensitivity of class 1 so avoided scaling"
   ]
  },
  {
   "cell_type": "code",
   "execution_count": 323,
   "metadata": {},
   "outputs": [],
   "source": [
    "sc = StandardScaler()"
   ]
  },
  {
   "cell_type": "code",
   "execution_count": 349,
   "metadata": {},
   "outputs": [],
   "source": [
    "X_train = sc.fit_transform(X_train)\n",
    "X_test = sc.transform(X_test)"
   ]
  },
  {
   "cell_type": "code",
   "execution_count": 350,
   "metadata": {},
   "outputs": [],
   "source": [
    "from sklearn.linear_model import LogisticRegression"
   ]
  },
  {
   "cell_type": "code",
   "execution_count": 351,
   "metadata": {},
   "outputs": [],
   "source": [
    "lr = LogisticRegression(class_weight={0:.91,1:.09})"
   ]
  },
  {
   "cell_type": "code",
   "execution_count": 352,
   "metadata": {},
   "outputs": [
    {
     "data": {
      "text/plain": [
       "LogisticRegression(C=1.0, class_weight={0: 0.91, 1: 0.09}, dual=False,\n",
       "                   fit_intercept=True, intercept_scaling=1, l1_ratio=None,\n",
       "                   max_iter=100, multi_class='warn', n_jobs=None, penalty='l2',\n",
       "                   random_state=None, solver='warn', tol=0.0001, verbose=0,\n",
       "                   warm_start=False)"
      ]
     },
     "execution_count": 352,
     "metadata": {},
     "output_type": "execute_result"
    }
   ],
   "source": [
    "lr.fit(X_train,y_train)"
   ]
  },
  {
   "cell_type": "code",
   "execution_count": 353,
   "metadata": {},
   "outputs": [
    {
     "data": {
      "text/plain": [
       "0.9155896607431341"
      ]
     },
     "execution_count": 353,
     "metadata": {},
     "output_type": "execute_result"
    }
   ],
   "source": [
    "lr.score(X_test,y_test)"
   ]
  },
  {
   "cell_type": "code",
   "execution_count": 354,
   "metadata": {},
   "outputs": [
    {
     "data": {
      "text/plain": [
       "array([[9051,    6],\n",
       "       [ 830,   17]], dtype=int64)"
      ]
     },
     "execution_count": 354,
     "metadata": {},
     "output_type": "execute_result"
    }
   ],
   "source": [
    "confusion_matrix(y_test,lr.predict(X_test))"
   ]
  },
  {
   "cell_type": "code",
   "execution_count": 355,
   "metadata": {},
   "outputs": [
    {
     "name": "stdout",
     "output_type": "stream",
     "text": [
      "              precision    recall  f1-score   support\n",
      "\n",
      "           0       0.92      1.00      0.96      9057\n",
      "           1       0.74      0.02      0.04       847\n",
      "\n",
      "    accuracy                           0.92      9904\n",
      "   macro avg       0.83      0.51      0.50      9904\n",
      "weighted avg       0.90      0.92      0.88      9904\n",
      "\n"
     ]
    }
   ],
   "source": [
    "print(classification_report(y_test,lr.predict(X_test)))"
   ]
  },
  {
   "cell_type": "code",
   "execution_count": 356,
   "metadata": {},
   "outputs": [],
   "source": [
    "fpr,tpr,thresholds = roc_curve(y_test,lr.decision_function(X_test))"
   ]
  },
  {
   "cell_type": "code",
   "execution_count": 357,
   "metadata": {},
   "outputs": [
    {
     "data": {
      "image/png": "[encoded data removed]",
      "text/plain": [
       "<Figure size 576x360 with 1 Axes>"
      ]
     },
     "metadata": {},
     "output_type": "display_data"
    }
   ],
   "source": [
    "plt.figure(figsize=(8,5))\n",
    "\n",
    "plt.plot(fpr,tpr,label=\"ROC\")\n",
    "plt.xlabel(\"FPR = FP / ( FP+TN )\")\n",
    "plt.ylabel(\"TPR = TP / ( TP+FN )\")\n",
    "#Find the threshold closest to zero\n",
    "close_zero = np.argmin(np.abs(thresholds))\n",
    "plt.plot(fpr[close_zero],tpr[close_zero],\"o\",markersize=10)\n",
    "plt.show()"
   ]
  },
  {
   "cell_type": "code",
   "execution_count": 414,
   "metadata": {},
   "outputs": [],
   "source": [
    "sen0=[]\n",
    "sen1=[]\n",
    "accu =[]\n",
    "for prob in np.linspace(.001,.1,15):\n",
    "    cf = confusion_matrix(y_train,lr.predict_proba(X_train)[:,1]>prob)\n",
    "    sensitivity0 = cf[0,0]/(cf[0,0]+cf[0,1])\n",
    "    sensitivity1= cf[1,1]/(cf[1,1]+cf[1,0])\n",
    "    acc = (cf[0,0]+cf[1,1])/(cf[0,0]+cf[0,1]+cf[1,1]+cf[1,0])\n",
    "    sen0.append(sensitivity0)\n",
    "    sen1.append(sensitivity1)\n",
    "    accu.append(acc)"
   ]
  },
  {
   "cell_type": "code",
   "execution_count": 415,
   "metadata": {},
   "outputs": [
    {
     "data": {
      "image/png": "[encoded data removed]",
      "text/plain": [
       "<Figure size 792x360 with 1 Axes>"
      ]
     },
     "metadata": {},
     "output_type": "display_data"
    }
   ],
   "source": [
    "plt.figure(figsize=(11,5))\n",
    "plt.plot(np.linspace(.001,.1,15),sen0,label=\"0-Spfc\")\n",
    "plt.plot(np.linspace(.001,.1,15),sen1,label=\"1-Sensy\")\n",
    "plt.plot(np.linspace(.001,.1,15),accu,label=\"accuracy\")\n",
    "plt.legend()\n",
    "plt.title(\"Sensitivity/Specificity,accuracy for Probability Cutoffs\")\n",
    "plt.show()"
   ]
  },
  {
   "cell_type": "code",
   "execution_count": 428,
   "metadata": {},
   "outputs": [
    {
     "data": {
      "text/plain": [
       "array([[15912,  2449],\n",
       "       [  355,  1391]], dtype=int64)"
      ]
     },
     "execution_count": 428,
     "metadata": {},
     "output_type": "execute_result"
    }
   ],
   "source": [
    "confusion_matrix(y_train,lr.predict_proba(X_train)[:,1] > 0.013)"
   ]
  },
  {
   "cell_type": "code",
   "execution_count": 429,
   "metadata": {},
   "outputs": [
    {
     "name": "stdout",
     "output_type": "stream",
     "text": [
      "              precision    recall  f1-score   support\n",
      "\n",
      "           0       0.98      0.87      0.92     18361\n",
      "           1       0.36      0.80      0.50      1746\n",
      "\n",
      "    accuracy                           0.86     20107\n",
      "   macro avg       0.67      0.83      0.71     20107\n",
      "weighted avg       0.92      0.86      0.88     20107\n",
      "\n"
     ]
    }
   ],
   "source": [
    "print(classification_report(y_train,lr.predict_proba(X_train)[:,1] > 0.013)) # Setting the Cutoff Prob increased Sensi."
   ]
  },
  {
   "cell_type": "code",
   "execution_count": 430,
   "metadata": {},
   "outputs": [
    {
     "data": {
      "text/plain": [
       "array([[7813, 1244],\n",
       "       [ 191,  656]], dtype=int64)"
      ]
     },
     "execution_count": 430,
     "metadata": {},
     "output_type": "execute_result"
    }
   ],
   "source": [
    "confusion_matrix(y_test,lr.predict_proba(X_test)[:,1] > 0.013)"
   ]
  },
  {
   "cell_type": "code",
   "execution_count": 431,
   "metadata": {
    "scrolled": true
   },
   "outputs": [
    {
     "name": "stdout",
     "output_type": "stream",
     "text": [
      "              precision    recall  f1-score   support\n",
      "\n",
      "           0       0.98      0.86      0.92      9057\n",
      "           1       0.35      0.77      0.48       847\n",
      "\n",
      "    accuracy                           0.86      9904\n",
      "   macro avg       0.66      0.82      0.70      9904\n",
      "weighted avg       0.92      0.86      0.88      9904\n",
      "\n"
     ]
    }
   ],
   "source": [
    "print(classification_report(y_test,lr.predict_proba(X_test)[:,1] > 0.013))"
   ]
  },
  {
   "cell_type": "markdown",
   "metadata": {},
   "source": [
    "# Random Forest "
   ]
  },
  {
   "cell_type": "code",
   "execution_count": 724,
   "metadata": {},
   "outputs": [],
   "source": [
    "param_grid = {'criterion':[\"gini\",\"entropy\"],'min_samples_split':[2,4,6,8,10,13],\"max_depth\":[3,4,5,6,7,8,9,10,11],\n",
    "             \"min_samples_leaf\":[1,2,3,4,5,6,7]}"
   ]
  },
  {
   "cell_type": "code",
   "execution_count": 725,
   "metadata": {},
   "outputs": [],
   "source": [
    "from sklearn.model_selection import GridSearchCV"
   ]
  },
  {
   "cell_type": "code",
   "execution_count": 726,
   "metadata": {},
   "outputs": [],
   "source": [
    " X_train, X_test, y_train, y_test = train_test_split(Xp, y, test_size=0.33, random_state=42) # Without Scaling"
   ]
  },
  {
   "cell_type": "code",
   "execution_count": 727,
   "metadata": {},
   "outputs": [],
   "source": [
    "grid=GridSearchCV(RandomForestClassifier(class_weight={0:.91,1:.09}),param_grid,cv=3,\n",
    "                  scoring=\"roc_auc\",return_train_score=True,n_jobs=-1)"
   ]
  },
  {
   "cell_type": "code",
   "execution_count": 728,
   "metadata": {
    "scrolled": false
   },
   "outputs": [
    {
     "data": {
      "text/plain": [
       "GridSearchCV(cv=3, error_score='raise-deprecating',\n",
       "             estimator=RandomForestClassifier(bootstrap=True,\n",
       "                                              class_weight={0: 0.91, 1: 0.09},\n",
       "                                              criterion='gini', max_depth=None,\n",
       "                                              max_features='auto',\n",
       "                                              max_leaf_nodes=None,\n",
       "                                              min_impurity_decrease=0.0,\n",
       "                                              min_impurity_split=None,\n",
       "                                              min_samples_leaf=1,\n",
       "                                              min_samples_split=2,\n",
       "                                              min_weight_fraction_leaf=0.0,\n",
       "                                              n_estimators='warn', n_jobs=None,\n",
       "                                              oob_score=False,\n",
       "                                              random_state=None, verbose=0,\n",
       "                                              warm_start=False),\n",
       "             iid='warn', n_jobs=-1,\n",
       "             param_grid={'criterion': ['gini', 'entropy'],\n",
       "                         'max_depth': [3, 4, 5, 6, 7, 8, 9, 10, 11],\n",
       "                         'min_samples_leaf': [1, 2, 3, 4, 5, 6, 7],\n",
       "                         'min_samples_split': [2, 4, 6, 8, 10, 13]},\n",
       "             pre_dispatch='2*n_jobs', refit=True, return_train_score=True,\n",
       "             scoring='roc_auc', verbose=0)"
      ]
     },
     "execution_count": 728,
     "metadata": {},
     "output_type": "execute_result"
    }
   ],
   "source": [
    "grid.fit(X_train,y_train)"
   ]
  },
  {
   "cell_type": "code",
   "execution_count": 748,
   "metadata": {},
   "outputs": [],
   "source": [
    "dfv = pd.DataFrame(grid.cv_results_)"
   ]
  },
  {
   "cell_type": "code",
   "execution_count": 750,
   "metadata": {},
   "outputs": [
    {
     "data": {
      "text/plain": [
       "720"
      ]
     },
     "execution_count": 750,
     "metadata": {},
     "output_type": "execute_result"
    }
   ],
   "source": [
    "np.argmax(dfv[\"mean_train_score\"])"
   ]
  },
  {
   "cell_type": "code",
   "execution_count": 751,
   "metadata": {},
   "outputs": [
    {
     "data": {
      "text/plain": [
       "Index(['mean_fit_time', 'std_fit_time', 'mean_score_time', 'std_score_time',\n",
       "       'param_criterion', 'param_max_depth', 'param_min_samples_leaf',\n",
       "       'param_min_samples_split', 'params', 'split0_test_score',\n",
       "       'split1_test_score', 'split2_test_score', 'mean_test_score',\n",
       "       'std_test_score', 'rank_test_score', 'split0_train_score',\n",
       "       'split1_train_score', 'split2_train_score', 'mean_train_score',\n",
       "       'std_train_score'],\n",
       "      dtype='object')"
      ]
     },
     "execution_count": 751,
     "metadata": {},
     "output_type": "execute_result"
    }
   ],
   "source": [
    "dfv.columns"
   ]
  },
  {
   "cell_type": "code",
   "execution_count": 753,
   "metadata": {},
   "outputs": [
    {
     "data": {
      "text/html": [
       "<div>\n",
       "<style scoped>\n",
       "    .dataframe tbody tr th:only-of-type {\n",
       "        vertical-align: middle;\n",
       "    }\n",
       "\n",
       "    .dataframe tbody tr th {\n",
       "        vertical-align: top;\n",
       "    }\n",
       "\n",
       "    .dataframe thead th {\n",
       "        text-align: right;\n",
       "    }\n",
       "</style>\n",
       "<table border=\"1\" class=\"dataframe\">\n",
       "  <thead>\n",
       "    <tr style=\"text-align: right;\">\n",
       "      <th></th>\n",
       "      <th>mean_fit_time</th>\n",
       "      <th>std_fit_time</th>\n",
       "      <th>mean_score_time</th>\n",
       "      <th>std_score_time</th>\n",
       "      <th>param_criterion</th>\n",
       "      <th>param_max_depth</th>\n",
       "      <th>param_min_samples_leaf</th>\n",
       "      <th>param_min_samples_split</th>\n",
       "      <th>params</th>\n",
       "      <th>split0_test_score</th>\n",
       "      <th>split1_test_score</th>\n",
       "      <th>split2_test_score</th>\n",
       "      <th>mean_test_score</th>\n",
       "      <th>std_test_score</th>\n",
       "      <th>rank_test_score</th>\n",
       "      <th>split0_train_score</th>\n",
       "      <th>split1_train_score</th>\n",
       "      <th>split2_train_score</th>\n",
       "      <th>mean_train_score</th>\n",
       "      <th>std_train_score</th>\n",
       "    </tr>\n",
       "  </thead>\n",
       "  <tbody>\n",
       "    <tr>\n",
       "      <td>720</td>\n",
       "      <td>2.628691</td>\n",
       "      <td>0.032544</td>\n",
       "      <td>0.027758</td>\n",
       "      <td>0.010792</td>\n",
       "      <td>entropy</td>\n",
       "      <td>11</td>\n",
       "      <td>2</td>\n",
       "      <td>2</td>\n",
       "      <td>{'criterion': 'entropy', 'max_depth': 11, 'min...</td>\n",
       "      <td>0.833801</td>\n",
       "      <td>0.838178</td>\n",
       "      <td>0.828898</td>\n",
       "      <td>0.833626</td>\n",
       "      <td>0.003791</td>\n",
       "      <td>498</td>\n",
       "      <td>0.983987</td>\n",
       "      <td>0.983963</td>\n",
       "      <td>0.982253</td>\n",
       "      <td>0.983401</td>\n",
       "      <td>0.000812</td>\n",
       "    </tr>\n",
       "  </tbody>\n",
       "</table>\n",
       "</div>"
      ],
      "text/plain": [
       "     mean_fit_time  std_fit_time  mean_score_time  std_score_time  \\\n",
       "720       2.628691      0.032544         0.027758        0.010792   \n",
       "\n",
       "    param_criterion param_max_depth param_min_samples_leaf  \\\n",
       "720         entropy              11                      2   \n",
       "\n",
       "    param_min_samples_split  \\\n",
       "720                       2   \n",
       "\n",
       "                                                params  split0_test_score  \\\n",
       "720  {'criterion': 'entropy', 'max_depth': 11, 'min...           0.833801   \n",
       "\n",
       "     split1_test_score  split2_test_score  mean_test_score  std_test_score  \\\n",
       "720           0.838178           0.828898         0.833626        0.003791   \n",
       "\n",
       "     rank_test_score  split0_train_score  split1_train_score  \\\n",
       "720              498            0.983987            0.983963   \n",
       "\n",
       "     split2_train_score  mean_train_score  std_train_score  \n",
       "720            0.982253          0.983401         0.000812  "
      ]
     },
     "execution_count": 753,
     "metadata": {},
     "output_type": "execute_result"
    }
   ],
   "source": [
    "dfv[dfv[\"mean_train_score\"]==dfv[\"mean_train_score\"].max()]"
   ]
  },
  {
   "cell_type": "code",
   "execution_count": 767,
   "metadata": {},
   "outputs": [],
   "source": [
    "rf = RandomForestClassifier(criterion=\"entropy\",max_depth=11,min_samples_leaf=2,min_samples_split=2,\n",
    "                            class_weight={0:.91,1:.09})"
   ]
  },
  {
   "cell_type": "code",
   "execution_count": 768,
   "metadata": {},
   "outputs": [
    {
     "data": {
      "text/plain": [
       "RandomForestClassifier(bootstrap=True, class_weight={0: 0.91, 1: 0.09},\n",
       "                       criterion='entropy', max_depth=11, max_features='auto',\n",
       "                       max_leaf_nodes=None, min_impurity_decrease=0.0,\n",
       "                       min_impurity_split=None, min_samples_leaf=2,\n",
       "                       min_samples_split=2, min_weight_fraction_leaf=0.0,\n",
       "                       n_estimators=10, n_jobs=None, oob_score=False,\n",
       "                       random_state=None, verbose=0, warm_start=False)"
      ]
     },
     "execution_count": 768,
     "metadata": {},
     "output_type": "execute_result"
    }
   ],
   "source": [
    "rf.fit(X_train,y_train)"
   ]
  },
  {
   "cell_type": "code",
   "execution_count": 769,
   "metadata": {},
   "outputs": [
    {
     "data": {
      "text/plain": [
       "0.9346993584323867"
      ]
     },
     "execution_count": 769,
     "metadata": {},
     "output_type": "execute_result"
    }
   ],
   "source": [
    "rf.score(X_train,y_train)"
   ]
  },
  {
   "cell_type": "code",
   "execution_count": 770,
   "metadata": {},
   "outputs": [
    {
     "data": {
      "text/plain": [
       "0.9218497576736672"
      ]
     },
     "execution_count": 770,
     "metadata": {},
     "output_type": "execute_result"
    }
   ],
   "source": [
    "rf.score(X_test,y_test)"
   ]
  },
  {
   "cell_type": "code",
   "execution_count": 806,
   "metadata": {},
   "outputs": [
    {
     "data": {
      "text/plain": [
       "array([[9041,   16],\n",
       "       [ 758,   89]], dtype=int64)"
      ]
     },
     "execution_count": 806,
     "metadata": {},
     "output_type": "execute_result"
    }
   ],
   "source": [
    "confusion_matrix(y_test,rf.predict(X_test))"
   ]
  },
  {
   "cell_type": "code",
   "execution_count": 809,
   "metadata": {},
   "outputs": [
    {
     "name": "stdout",
     "output_type": "stream",
     "text": [
      "              precision    recall  f1-score   support\n",
      "\n",
      "           0       0.92      1.00      0.96      9057\n",
      "           1       0.85      0.11      0.19       847\n",
      "\n",
      "    accuracy                           0.92      9904\n",
      "   macro avg       0.89      0.55      0.57      9904\n",
      "weighted avg       0.92      0.92      0.89      9904\n",
      "\n"
     ]
    }
   ],
   "source": [
    "print(classification_report(y_test,rf.predict(X_test))) # Sensitivity of Minority class 1 is very low"
   ]
  },
  {
   "cell_type": "code",
   "execution_count": 771,
   "metadata": {},
   "outputs": [],
   "source": [
    "sen0=[]\n",
    "sen1=[]\n",
    "accu =[]\n",
    "for prob in np.linspace(.01,1,15):\n",
    "    cf = confusion_matrix(y_train,rf.predict_proba(X_train)[:,1]>prob)\n",
    "    sensitivity0 = cf[0,0]/(cf[0,0]+cf[0,1])\n",
    "    sensitivity1= cf[1,1]/(cf[1,1]+cf[1,0])\n",
    "    acc = (cf[0,0]+cf[1,1])/(cf[0,0]+cf[0,1]+cf[1,1]+cf[1,0])\n",
    "    sen0.append(sensitivity0)\n",
    "    sen1.append(sensitivity1)\n",
    "    accu.append(acc)"
   ]
  },
  {
   "cell_type": "code",
   "execution_count": 772,
   "metadata": {},
   "outputs": [
    {
     "data": {
      "image/png": "[encoded data removed]",
      "text/plain": [
       "<Figure size 792x360 with 1 Axes>"
      ]
     },
     "metadata": {},
     "output_type": "display_data"
    }
   ],
   "source": [
    "plt.figure(figsize=(11,5))\n",
    "plt.plot(np.linspace(.01,1,15),sen0,label=\"0-Spfc\")\n",
    "plt.plot(np.linspace(.01,1,15),sen1,label=\"1-Sensy\")\n",
    "plt.plot(np.linspace(.01,1,15),accu,label=\"accuracy\")\n",
    "plt.legend()\n",
    "plt.title(\"Sensitivity/Specificity,accuracy for Probability Cutoffs\")\n",
    "plt.show()"
   ]
  },
  {
   "cell_type": "code",
   "execution_count": 801,
   "metadata": {},
   "outputs": [
    {
     "data": {
      "text/plain": [
       "array([[16308,  2053],\n",
       "       [   99,  1647]], dtype=int64)"
      ]
     },
     "execution_count": 801,
     "metadata": {},
     "output_type": "execute_result"
    }
   ],
   "source": [
    "confusion_matrix(y_train,rf.predict_proba(X_train)[:,1] > 0.025) # 0.025 cutoff since sinsiti of mimority class needed more\n",
    "                                                                 # without dropping much specificity and accuracy"
   ]
  },
  {
   "cell_type": "code",
   "execution_count": 802,
   "metadata": {},
   "outputs": [
    {
     "name": "stdout",
     "output_type": "stream",
     "text": [
      "              precision    recall  f1-score   support\n",
      "\n",
      "           0       0.99      0.89      0.94     18361\n",
      "           1       0.45      0.94      0.60      1746\n",
      "\n",
      "    accuracy                           0.89     20107\n",
      "   macro avg       0.72      0.92      0.77     20107\n",
      "weighted avg       0.95      0.89      0.91     20107\n",
      "\n"
     ]
    }
   ],
   "source": [
    "print(classification_report(y_train,rf.predict_proba(X_train)[:,1] > 0.025))"
   ]
  },
  {
   "cell_type": "code",
   "execution_count": 803,
   "metadata": {},
   "outputs": [
    {
     "data": {
      "text/plain": [
       "array([[7173, 1884],\n",
       "       [ 248,  599]], dtype=int64)"
      ]
     },
     "execution_count": 803,
     "metadata": {},
     "output_type": "execute_result"
    }
   ],
   "source": [
    "confusion_matrix(y_test,rf.predict_proba(X_test)[:,1] > 0.025)"
   ]
  },
  {
   "cell_type": "code",
   "execution_count": 804,
   "metadata": {},
   "outputs": [
    {
     "name": "stdout",
     "output_type": "stream",
     "text": [
      "              precision    recall  f1-score   support\n",
      "\n",
      "           0       0.97      0.79      0.87      9057\n",
      "           1       0.24      0.71      0.36       847\n",
      "\n",
      "    accuracy                           0.78      9904\n",
      "   macro avg       0.60      0.75      0.62      9904\n",
      "weighted avg       0.90      0.78      0.83      9904\n",
      "\n"
     ]
    }
   ],
   "source": [
    "print(classification_report(y_test,rf.predict_proba(X_test)[:,1] > 0.025))"
   ]
  },
  {
   "cell_type": "markdown",
   "metadata": {},
   "source": [
    "# Decision Tree"
   ]
  },
  {
   "cell_type": "code",
   "execution_count": 810,
   "metadata": {},
   "outputs": [],
   "source": [
    "from sklearn.tree import DecisionTreeClassifier"
   ]
  },
  {
   "cell_type": "code",
   "execution_count": 814,
   "metadata": {},
   "outputs": [],
   "source": [
    "dtree = DecisionTreeClassifier(class_weight={0:.91,1:.09})"
   ]
  },
  {
   "cell_type": "code",
   "execution_count": 813,
   "metadata": {},
   "outputs": [],
   "source": [
    "#DecisionTreeClassifier(\n",
    "#    criterion='gini',\n",
    "#   splitter='best',\n",
    "#    max_depth=None,\n",
    "#    min_samples_split=2,\n",
    "#    min_samples_leaf=1,\n",
    "#    min_weight_fraction_leaf=0.0,\n",
    "#    max_features=None,\n",
    "#    random_state=None,\n",
    "#    max_leaf_nodes=None,\n",
    "#    min_impurity_decrease=0.0,\n",
    "#    min_impurity_split=None,\n",
    "#    class_weight=None,\n",
    "#    presort=False,\n",
    "#)"
   ]
  },
  {
   "cell_type": "code",
   "execution_count": 817,
   "metadata": {},
   "outputs": [],
   "source": [
    "param_grid1 = {'criterion':[\"gini\",\"entropy\"],'min_samples_split':[2,4,6,8,10,13],\"max_depth\":[3,4,5,6,7,8,9,10,11],\n",
    "             \"min_samples_leaf\":[1,2,3,4,5,6,7]}"
   ]
  },
  {
   "cell_type": "code",
   "execution_count": 818,
   "metadata": {},
   "outputs": [],
   "source": [
    "grid1 =GridSearchCV(dtree,param_grid,cv=3,scoring=\"roc_auc\",return_train_score=True,n_jobs=-1)"
   ]
  },
  {
   "cell_type": "code",
   "execution_count": 819,
   "metadata": {},
   "outputs": [
    {
     "data": {
      "text/plain": [
       "GridSearchCV(cv=3, error_score='raise-deprecating',\n",
       "             estimator=DecisionTreeClassifier(class_weight={0: 0.91, 1: 0.09},\n",
       "                                              criterion='gini', max_depth=None,\n",
       "                                              max_features=None,\n",
       "                                              max_leaf_nodes=None,\n",
       "                                              min_impurity_decrease=0.0,\n",
       "                                              min_impurity_split=None,\n",
       "                                              min_samples_leaf=1,\n",
       "                                              min_samples_split=2,\n",
       "                                              min_weight_fraction_leaf=0.0,\n",
       "                                              presort=False, random_state=None,\n",
       "                                              splitter='best'),\n",
       "             iid='warn', n_jobs=-1,\n",
       "             param_grid={'criterion': ['gini', 'entropy'],\n",
       "                         'max_depth': [3, 4, 5, 6, 7, 8, 9, 10, 11],\n",
       "                         'min_samples_leaf': [1, 2, 3, 4, 5, 6, 7],\n",
       "                         'min_samples_split': [2, 4, 6, 8, 10, 13]},\n",
       "             pre_dispatch='2*n_jobs', refit=True, return_train_score=True,\n",
       "             scoring='roc_auc', verbose=0)"
      ]
     },
     "execution_count": 819,
     "metadata": {},
     "output_type": "execute_result"
    }
   ],
   "source": [
    "grid1.fit(X_train,y_train)"
   ]
  },
  {
   "cell_type": "code",
   "execution_count": 820,
   "metadata": {},
   "outputs": [],
   "source": [
    "dfvt = pd.DataFrame(grid1.cv_results_)"
   ]
  },
  {
   "cell_type": "code",
   "execution_count": 821,
   "metadata": {},
   "outputs": [
    {
     "data": {
      "text/html": [
       "<div>\n",
       "<style scoped>\n",
       "    .dataframe tbody tr th:only-of-type {\n",
       "        vertical-align: middle;\n",
       "    }\n",
       "\n",
       "    .dataframe tbody tr th {\n",
       "        vertical-align: top;\n",
       "    }\n",
       "\n",
       "    .dataframe thead th {\n",
       "        text-align: right;\n",
       "    }\n",
       "</style>\n",
       "<table border=\"1\" class=\"dataframe\">\n",
       "  <thead>\n",
       "    <tr style=\"text-align: right;\">\n",
       "      <th></th>\n",
       "      <th>mean_fit_time</th>\n",
       "      <th>std_fit_time</th>\n",
       "      <th>mean_score_time</th>\n",
       "      <th>std_score_time</th>\n",
       "      <th>param_criterion</th>\n",
       "      <th>param_max_depth</th>\n",
       "      <th>param_min_samples_leaf</th>\n",
       "      <th>param_min_samples_split</th>\n",
       "      <th>params</th>\n",
       "      <th>split0_test_score</th>\n",
       "      <th>split1_test_score</th>\n",
       "      <th>split2_test_score</th>\n",
       "      <th>mean_test_score</th>\n",
       "      <th>std_test_score</th>\n",
       "      <th>rank_test_score</th>\n",
       "      <th>split0_train_score</th>\n",
       "      <th>split1_train_score</th>\n",
       "      <th>split2_train_score</th>\n",
       "      <th>mean_train_score</th>\n",
       "      <th>std_train_score</th>\n",
       "    </tr>\n",
       "  </thead>\n",
       "  <tbody>\n",
       "    <tr>\n",
       "      <td>748</td>\n",
       "      <td>4.760192</td>\n",
       "      <td>0.164364</td>\n",
       "      <td>0.010063</td>\n",
       "      <td>0.000011</td>\n",
       "      <td>entropy</td>\n",
       "      <td>11</td>\n",
       "      <td>6</td>\n",
       "      <td>10</td>\n",
       "      <td>{'criterion': 'entropy', 'max_depth': 11, 'min...</td>\n",
       "      <td>0.723008</td>\n",
       "      <td>0.727259</td>\n",
       "      <td>0.69302</td>\n",
       "      <td>0.714429</td>\n",
       "      <td>0.015237</td>\n",
       "      <td>735</td>\n",
       "      <td>0.979965</td>\n",
       "      <td>0.970281</td>\n",
       "      <td>0.983099</td>\n",
       "      <td>0.977782</td>\n",
       "      <td>0.005456</td>\n",
       "    </tr>\n",
       "  </tbody>\n",
       "</table>\n",
       "</div>"
      ],
      "text/plain": [
       "     mean_fit_time  std_fit_time  mean_score_time  std_score_time  \\\n",
       "748       4.760192      0.164364         0.010063        0.000011   \n",
       "\n",
       "    param_criterion param_max_depth param_min_samples_leaf  \\\n",
       "748         entropy              11                      6   \n",
       "\n",
       "    param_min_samples_split  \\\n",
       "748                      10   \n",
       "\n",
       "                                                params  split0_test_score  \\\n",
       "748  {'criterion': 'entropy', 'max_depth': 11, 'min...           0.723008   \n",
       "\n",
       "     split1_test_score  split2_test_score  mean_test_score  std_test_score  \\\n",
       "748           0.727259            0.69302         0.714429        0.015237   \n",
       "\n",
       "     rank_test_score  split0_train_score  split1_train_score  \\\n",
       "748              735            0.979965            0.970281   \n",
       "\n",
       "     split2_train_score  mean_train_score  std_train_score  \n",
       "748            0.983099          0.977782         0.005456  "
      ]
     },
     "execution_count": 821,
     "metadata": {},
     "output_type": "execute_result"
    }
   ],
   "source": [
    "dfvt[dfvt[\"mean_train_score\"]==dfvt[\"mean_train_score\"].max()]"
   ]
  },
  {
   "cell_type": "code",
   "execution_count": 822,
   "metadata": {},
   "outputs": [],
   "source": [
    "dt = DecisionTreeClassifier(criterion=\"entropy\",class_weight={0:.91,1:.09},max_depth=11,\n",
    "                            min_samples_leaf=6,min_samples_split=10)"
   ]
  },
  {
   "cell_type": "code",
   "execution_count": 823,
   "metadata": {},
   "outputs": [
    {
     "data": {
      "text/plain": [
       "DecisionTreeClassifier(class_weight={0: 0.91, 1: 0.09}, criterion='entropy',\n",
       "                       max_depth=11, max_features=None, max_leaf_nodes=None,\n",
       "                       min_impurity_decrease=0.0, min_impurity_split=None,\n",
       "                       min_samples_leaf=6, min_samples_split=10,\n",
       "                       min_weight_fraction_leaf=0.0, presort=False,\n",
       "                       random_state=None, splitter='best')"
      ]
     },
     "execution_count": 823,
     "metadata": {},
     "output_type": "execute_result"
    }
   ],
   "source": [
    "dt.fit(X_train,y_train)"
   ]
  },
  {
   "cell_type": "code",
   "execution_count": 825,
   "metadata": {},
   "outputs": [
    {
     "data": {
      "text/plain": [
       "array([[8942,  115],\n",
       "       [ 689,  158]], dtype=int64)"
      ]
     },
     "execution_count": 825,
     "metadata": {},
     "output_type": "execute_result"
    }
   ],
   "source": [
    "confusion_matrix(y_test,dt.predict(X_test))"
   ]
  },
  {
   "cell_type": "code",
   "execution_count": 826,
   "metadata": {},
   "outputs": [
    {
     "name": "stdout",
     "output_type": "stream",
     "text": [
      "              precision    recall  f1-score   support\n",
      "\n",
      "           0       0.93      0.99      0.96      9057\n",
      "           1       0.58      0.19      0.28       847\n",
      "\n",
      "    accuracy                           0.92      9904\n",
      "   macro avg       0.75      0.59      0.62      9904\n",
      "weighted avg       0.90      0.92      0.90      9904\n",
      "\n"
     ]
    }
   ],
   "source": [
    "print(classification_report(y_test,dt.predict(X_test)))"
   ]
  },
  {
   "cell_type": "code",
   "execution_count": 829,
   "metadata": {},
   "outputs": [],
   "source": [
    "sen0=[]\n",
    "sen1=[]\n",
    "accu =[]\n",
    "for prob in np.linspace(.001,1,15):\n",
    "    cf = confusion_matrix(y_train,dt.predict_proba(X_train)[:,1]>prob)\n",
    "    sensitivity0 = cf[0,0]/(cf[0,0]+cf[0,1])\n",
    "    sensitivity1= cf[1,1]/(cf[1,1]+cf[1,0])\n",
    "    acc = (cf[0,0]+cf[1,1])/(cf[0,0]+cf[0,1]+cf[1,1]+cf[1,0])\n",
    "    sen0.append(sensitivity0)\n",
    "    sen1.append(sensitivity1)\n",
    "    accu.append(acc)"
   ]
  },
  {
   "cell_type": "code",
   "execution_count": 830,
   "metadata": {},
   "outputs": [
    {
     "data": {
      "image/png": "[encoded data removed]",
      "text/plain": [
       "<Figure size 792x360 with 1 Axes>"
      ]
     },
     "metadata": {},
     "output_type": "display_data"
    }
   ],
   "source": [
    "plt.figure(figsize=(11,5))\n",
    "plt.plot(np.linspace(.001,1,15),sen0,label=\"0-Spfc\")\n",
    "plt.plot(np.linspace(.001,1,15),sen1,label=\"1-Sensy\")\n",
    "plt.plot(np.linspace(.001,1,15),accu,label=\"accuracy\")\n",
    "plt.legend()\n",
    "plt.title(\"Sensitivity/Specificity,accuracy for Probability Cutoffs\")\n",
    "plt.show()"
   ]
  },
  {
   "cell_type": "code",
   "execution_count": 841,
   "metadata": {},
   "outputs": [
    {
     "data": {
      "text/plain": [
       "array([[17462,   899],\n",
       "       [  297,  1449]], dtype=int64)"
      ]
     },
     "execution_count": 841,
     "metadata": {},
     "output_type": "execute_result"
    }
   ],
   "source": [
    "confusion_matrix(y_train,dt.predict_proba(X_train)[:,1] > 0.028) # 0.027 cutoff since sinsiti of mimority class needed more\n",
    "                                                                 # without dropping much specificity and accuracy"
   ]
  },
  {
   "cell_type": "code",
   "execution_count": 842,
   "metadata": {},
   "outputs": [
    {
     "name": "stdout",
     "output_type": "stream",
     "text": [
      "              precision    recall  f1-score   support\n",
      "\n",
      "           0       0.98      0.95      0.97     18361\n",
      "           1       0.62      0.83      0.71      1746\n",
      "\n",
      "    accuracy                           0.94     20107\n",
      "   macro avg       0.80      0.89      0.84     20107\n",
      "weighted avg       0.95      0.94      0.94     20107\n",
      "\n"
     ]
    }
   ],
   "source": [
    "print(classification_report(y_train,dt.predict_proba(X_train)[:,1] > 0.028))"
   ]
  },
  {
   "cell_type": "code",
   "execution_count": 843,
   "metadata": {},
   "outputs": [
    {
     "data": {
      "text/plain": [
       "array([[8337,  720],\n",
       "       [ 446,  401]], dtype=int64)"
      ]
     },
     "execution_count": 843,
     "metadata": {},
     "output_type": "execute_result"
    }
   ],
   "source": [
    "confusion_matrix(y_test,dt.predict_proba(X_test)[:,1] > 0.028)"
   ]
  },
  {
   "cell_type": "code",
   "execution_count": 844,
   "metadata": {},
   "outputs": [
    {
     "name": "stdout",
     "output_type": "stream",
     "text": [
      "              precision    recall  f1-score   support\n",
      "\n",
      "           0       0.95      0.92      0.93      9057\n",
      "           1       0.36      0.47      0.41       847\n",
      "\n",
      "    accuracy                           0.88      9904\n",
      "   macro avg       0.65      0.70      0.67      9904\n",
      "weighted avg       0.90      0.88      0.89      9904\n",
      "\n"
     ]
    }
   ],
   "source": [
    "print(classification_report(y_test,dt.predict_proba(X_test)[:,1] > 0.028))# Could not set cut off lesser than 0.27\n",
    "                                                                          #since sensi and specifi both decrease fast "
   ]
  },
  {
   "cell_type": "markdown",
   "metadata": {},
   "source": [
    "# Recommendation "
   ]
  },
  {
   "cell_type": "markdown",
   "metadata": {},
   "source": [
    "Below Features  with -ve coefficient mean user with increase in these variables overtime are less likely to churn \n",
    "---------------------------------\n",
    "arpu_7              :  0.3439 <br>\n",
    "onnet_mou_8         : -0.2692 <br>\n",
    "loc_og_t2m_mou_7    : -0.3362 <br>\n",
    "std_og_t2m_mou_8    : -0.4090 <br>\n",
    "vol_2g_mb_8         : -0.4406 <br>\n",
    "aon                 : -0.4530 <br>\n",
    "spl_ic_mou_8        : -0.5964 <br>\n",
    "loc_ic_mou_8        : -0.7173 <br>\n",
    "vol_3g_mb_8         : -0.7256 <br>\n",
    "total_rech_num_8    : -0.8811 <br>\n",
    "last_day_rch_amt_8  : -1.1004 <br>"
   ]
  },
  {
   "cell_type": "markdown",
   "metadata": {},
   "source": [
    "1# Due to lesser number of class 1/ churn cases model has to care more for sensitivity of class 1 <br>\n",
    "2# This result in rolling offer to customers who does not seem to churn is a cost due to low precision of model in general <br>\n",
    "3# But this will pay in long term to retain those customers who model predicts to churn but not churnded in month 9 in fact<br>\n",
    "   Which is in line with management objective to retain customers since acquiring them is additional cost"
   ]
  },
  {
   "cell_type": "code",
   "execution_count": null,
   "metadata": {},
   "outputs": [],
   "source": []
  }
 ],
 "metadata": {
  "kernelspec": {
   "display_name": "Python 3",
   "language": "python",
   "name": "python3"
  },
  "language_info": {
   "codemirror_mode": {
    "name": "ipython",
    "version": 3
   },
   "file_extension": ".py",
   "mimetype": "text/x-python",
   "name": "python",
   "nbconvert_exporter": "python",
   "pygments_lexer": "ipython3",
   "version": "3.7.4"
  }
 },
 "nbformat": 4,
 "nbformat_minor": 2
}
